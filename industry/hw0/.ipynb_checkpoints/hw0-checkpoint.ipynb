{
 "cells": [
  {
   "cell_type": "code",
   "execution_count": 1,
   "metadata": {
    "collapsed": true
   },
   "outputs": [],
   "source": [
    "import os\n",
    "import numpy as np\n",
    "from collections import Counter"
   ]
  },
  {
   "cell_type": "code",
   "execution_count": 2,
   "metadata": {
    "collapsed": true
   },
   "outputs": [],
   "source": [
    "cntr_seen = Counter()\n",
    "cntr_buy = Counter()"
   ]
  },
  {
   "cell_type": "markdown",
   "metadata": {},
   "source": [
    "# Train set"
   ]
  },
  {
   "cell_type": "code",
   "execution_count": 32,
   "metadata": {
    "collapsed": true
   },
   "outputs": [],
   "source": [
    "with open('train.txt') as f:\n",
    "    content = f.read()"
   ]
  },
  {
   "cell_type": "code",
   "execution_count": 33,
   "metadata": {
    "collapsed": false
   },
   "outputs": [],
   "source": [
    "lines = content.split('\\n')"
   ]
  },
  {
   "cell_type": "code",
   "execution_count": 34,
   "metadata": {
    "collapsed": false
   },
   "outputs": [],
   "source": [
    "lines_buy = []\n",
    "for line in lines:\n",
    "    if line:\n",
    "        seen, buy = line.split(';')\n",
    "\n",
    "        for item in seen.split(','):\n",
    "            cntr_seen[item] += 1\n",
    "            \n",
    "        if buy:\n",
    "            lines_buy.append(line)\n",
    "            for item in buy.split(','):\n",
    "                cntr_buy[item] += 1  "
   ]
  },
  {
   "cell_type": "markdown",
   "metadata": {},
   "source": [
    "## Sorting by seen freq"
   ]
  },
  {
   "cell_type": "code",
   "execution_count": 35,
   "metadata": {
    "collapsed": true
   },
   "outputs": [],
   "source": [
    "prec_1 = []\n",
    "rec_1 = []\n",
    "prec_5 = []\n",
    "rec_5 = []\n",
    "\n",
    "for line in lines_buy:\n",
    "    seen, buy = line.split(';')\n",
    "    seen_arr, buy_arr = seen.split(','), buy.split(',')\n",
    "    \n",
    "    ## deduplication\n",
    "    s = set()\n",
    "    dedupl_seen = []\n",
    "    for i in seen_arr:\n",
    "        if i not in s:\n",
    "            s.add(i)\n",
    "            dedupl_seen.append(i)\n",
    "    \n",
    "    ## sorting\n",
    "    n = 1 \n",
    "    while n < len(dedupl_seen):\n",
    "        for i in range(len(dedupl_seen)-n):\n",
    "            if cntr_seen[dedupl_seen[i+1]] > cntr_seen[dedupl_seen[i]]:\n",
    "                dedupl_seen[i],dedupl_seen[i+1] = dedupl_seen[i+1],dedupl_seen[i]\n",
    "        n += 1      \n",
    "    \n",
    "    ## metrics \n",
    "    \n",
    "    if dedupl_seen[0] in buy_arr:\n",
    "        prec_1.append(1.0)\n",
    "        rec_1.append(1.0/len(buy_arr))\n",
    "    else:\n",
    "        prec_1.append(0.0)\n",
    "        rec_1.append(0.0)\n",
    "        \n",
    "    cntr = 0\n",
    "    for i in dedupl_seen[:5]:\n",
    "        if i in buy_arr:\n",
    "            cntr += 1\n",
    "    \n",
    "    prec_5.append(cntr/5.0)\n",
    "    rec_5.append(cntr/float(len(buy_arr)))"
   ]
  },
  {
   "cell_type": "code",
   "execution_count": 36,
   "metadata": {
    "collapsed": false
   },
   "outputs": [],
   "source": [
    "av_prec_1 = np.mean(prec_1)\n",
    "av_prec_5 = np.mean(prec_5)\n",
    "av_rec_1 = np.mean(rec_1)\n",
    "av_rec_5 = np.mean(rec_5)"
   ]
  },
  {
   "cell_type": "markdown",
   "metadata": {},
   "source": [
    "## Metrics for train set for seen freq"
   ]
  },
  {
   "cell_type": "code",
   "execution_count": 37,
   "metadata": {
    "collapsed": false
   },
   "outputs": [
    {
     "name": "stdout",
     "output_type": "stream",
     "text": [
      "Average precision@1 0.512195121951\n",
      "Average precision@5 0.212527716186\n",
      "Average recall@1 0.442634316595\n",
      "Average recall@5 0.824691824713\n"
     ]
    }
   ],
   "source": [
    "print 'Average precision@1', av_prec_1\n",
    "print 'Average precision@5', av_prec_5\n",
    "\n",
    "print 'Average recall@1', av_rec_1\n",
    "print 'Average recall@5', av_rec_5"
   ]
  },
  {
   "cell_type": "markdown",
   "metadata": {},
   "source": [
    "## Sorting by buying freq"
   ]
  },
  {
   "cell_type": "code",
   "execution_count": 38,
   "metadata": {
    "collapsed": false
   },
   "outputs": [
    {
     "data": {
      "text/plain": [
       "0.82"
      ]
     },
     "execution_count": 38,
     "metadata": {},
     "output_type": "execute_result"
    }
   ],
   "source": [
    "round(0.82469, 2)"
   ]
  },
  {
   "cell_type": "code",
   "execution_count": 39,
   "metadata": {
    "collapsed": false
   },
   "outputs": [
    {
     "name": "stdout",
     "output_type": "stream",
     "text": [
      "Average precision@1 0.80376940133\n",
      "Average precision@5 0.252549889135\n",
      "Average recall@1 0.688449492427\n",
      "Average recall@5 0.926307302423\n"
     ]
    }
   ],
   "source": [
    "prec_1 = []\n",
    "rec_1 = []\n",
    "prec_5 = []\n",
    "rec_5 = []\n",
    "\n",
    "for line in lines_buy:\n",
    "    seen, buy = line.split(';')\n",
    "    seen_arr, buy_arr = seen.split(','), buy.split(',')\n",
    "    \n",
    "    ## deduplication\n",
    "    s = set()\n",
    "    dedupl_seen = []\n",
    "    for i in seen_arr:\n",
    "        if i not in s:\n",
    "            s.add(i)\n",
    "            dedupl_seen.append(i)\n",
    "    \n",
    "    ## sorting\n",
    "    n = 1 \n",
    "    while n < len(dedupl_seen):\n",
    "        for i in range(len(dedupl_seen)-n):\n",
    "            if cntr_buy[dedupl_seen[i+1]] > cntr_buy[dedupl_seen[i]]:\n",
    "                dedupl_seen[i],dedupl_seen[i+1] = dedupl_seen[i+1],dedupl_seen[i]\n",
    "        n += 1      \n",
    "    \n",
    "    ## metrics \n",
    "    \n",
    "    if dedupl_seen[0] in buy_arr:\n",
    "        prec_1.append(1.0)\n",
    "        rec_1.append(1.0/len(buy_arr))\n",
    "    else:\n",
    "        prec_1.append(0.0)\n",
    "        rec_1.append(0.0)\n",
    "        \n",
    "    cntr = 0\n",
    "    for i in dedupl_seen[:5]:\n",
    "        if i in buy_arr:\n",
    "            cntr += 1\n",
    "\n",
    "    prec_5.append(cntr/5.0)\n",
    "    rec_5.append(cntr/float(len(buy_arr)))\n",
    "    \n",
    "    \n",
    "av_prec_1 = np.mean(prec_1)\n",
    "av_prec_5 = np.mean(prec_5)\n",
    "av_rec_1 = np.mean(rec_1)\n",
    "av_rec_5 = np.mean(rec_5)\n",
    "\n",
    "print 'Average precision@1', av_prec_1\n",
    "print 'Average precision@5', av_prec_5\n",
    "\n",
    "print 'Average recall@1', av_rec_1\n",
    "print 'Average recall@5', av_rec_5"
   ]
  },
  {
   "cell_type": "markdown",
   "metadata": {},
   "source": [
    "# Test set"
   ]
  },
  {
   "cell_type": "code",
   "execution_count": 40,
   "metadata": {
    "collapsed": true
   },
   "outputs": [],
   "source": [
    "with open('test.txt') as f:\n",
    "    content = f.read()\n",
    "\n",
    "lines = content.split('\\n')\n",
    "\n",
    "lines_buy = []\n",
    "for line in lines:\n",
    "    if line:\n",
    "        seen, buy = line.split(';')\n",
    "\n",
    "        if buy:\n",
    "            lines_buy.append(line)"
   ]
  },
  {
   "cell_type": "markdown",
   "metadata": {},
   "source": [
    "## Sorting by seen freq"
   ]
  },
  {
   "cell_type": "code",
   "execution_count": 41,
   "metadata": {
    "collapsed": false,
    "scrolled": true
   },
   "outputs": [
    {
     "name": "stdout",
     "output_type": "stream",
     "text": [
      "Average precision@1 0.481309686221\n",
      "Average precision@5 0.203765347885\n",
      "Average recall@1 0.417332662033\n",
      "Average recall@5 0.800034066354\n"
     ]
    }
   ],
   "source": [
    "prec_1 = []\n",
    "rec_1 = []\n",
    "prec_5 = []\n",
    "rec_5 = []\n",
    "\n",
    "for line in lines_buy:\n",
    "    seen, buy = line.split(';')\n",
    "    seen_arr, buy_arr = seen.split(','), buy.split(',')\n",
    "    \n",
    "    ## deduplication\n",
    "    s = set()\n",
    "    dedupl_seen = []\n",
    "    for i in seen_arr:\n",
    "        if i not in s:\n",
    "            s.add(i)\n",
    "            dedupl_seen.append(i)\n",
    "    \n",
    "    ## sorting\n",
    "    n = 1 \n",
    "    while n < len(dedupl_seen):\n",
    "        for i in range(len(dedupl_seen)-n):\n",
    "            if cntr_seen[dedupl_seen[i+1]] > cntr_seen[dedupl_seen[i]]:\n",
    "                dedupl_seen[i],dedupl_seen[i+1] = dedupl_seen[i+1],dedupl_seen[i]\n",
    "        n += 1      \n",
    "    \n",
    "    ## metrics \n",
    "    \n",
    "    if dedupl_seen[0] in buy_arr:\n",
    "        prec_1.append(1.0)\n",
    "        rec_1.append(1.0/len(buy_arr))\n",
    "    else:\n",
    "        prec_1.append(0.0)\n",
    "        rec_1.append(0.0)\n",
    "        \n",
    "    cntr = 0\n",
    "    for i in dedupl_seen[:5]:\n",
    "        if i in buy_arr:\n",
    "            cntr += 1\n",
    "    \n",
    "    prec_5.append(cntr/5.0)\n",
    "    rec_5.append(cntr/float(len(buy_arr)))\n",
    "    \n",
    "\n",
    "av_prec_1 = np.mean(prec_1)\n",
    "av_prec_5 = np.mean(prec_5)\n",
    "av_rec_1 = np.mean(rec_1)\n",
    "av_rec_5 = np.mean(rec_5)\n",
    "\n",
    "print 'Average precision@1', av_prec_1\n",
    "print 'Average precision@5', av_prec_5\n",
    "\n",
    "print 'Average recall@1', av_rec_1\n",
    "print 'Average recall@5', av_rec_5"
   ]
  },
  {
   "cell_type": "code",
   "execution_count": 42,
   "metadata": {
    "collapsed": false
   },
   "outputs": [
    {
     "data": {
      "text/plain": [
       "'Average precision@1 0.512195121951\\nAverage precision@5 0.212527716186\\nAverage recall@1 0.442634316595\\nAverage recall@5 0.824691824713'"
      ]
     },
     "execution_count": 42,
     "metadata": {},
     "output_type": "execute_result"
    }
   ],
   "source": [
    "#train\n",
    "\"\"\"Average precision@1 0.512195121951\n",
    "Average precision@5 0.212527716186\n",
    "Average recall@1 0.442634316595\n",
    "Average recall@5 0.824691824713\"\"\""
   ]
  },
  {
   "cell_type": "markdown",
   "metadata": {},
   "source": [
    "## Sorting by buying freq"
   ]
  },
  {
   "cell_type": "code",
   "execution_count": 43,
   "metadata": {
    "collapsed": false
   },
   "outputs": [
    {
     "name": "stdout",
     "output_type": "stream",
     "text": [
      "Average precision@1 0.527694406548\n",
      "Average precision@5 0.210095497954\n",
      "Average recall@1 0.460620166666\n",
      "Average recall@5 0.820187433749\n"
     ]
    }
   ],
   "source": [
    "prec_1 = []\n",
    "rec_1 = []\n",
    "prec_5 = []\n",
    "rec_5 = []\n",
    "\n",
    "for line in lines_buy:\n",
    "    seen, buy = line.split(';')\n",
    "    seen_arr, buy_arr = seen.split(','), buy.split(',')\n",
    "    \n",
    "    ## deduplication\n",
    "    s = set()\n",
    "    dedupl_seen = []\n",
    "    for i in seen_arr:\n",
    "        if i not in s:\n",
    "            s.add(i)\n",
    "            dedupl_seen.append(i)\n",
    "    \n",
    "    ## sorting\n",
    "    n = 1 \n",
    "    while n < len(dedupl_seen):\n",
    "        for i in range(len(dedupl_seen)-n):\n",
    "            if cntr_buy[dedupl_seen[i+1]] > cntr_buy[dedupl_seen[i]]:\n",
    "                dedupl_seen[i],dedupl_seen[i+1] = dedupl_seen[i+1],dedupl_seen[i]\n",
    "        n += 1      \n",
    "    \n",
    "    ## metrics \n",
    "    \n",
    "    if dedupl_seen[0] in buy_arr:\n",
    "        prec_1.append(1.0)\n",
    "        rec_1.append(1.0/len(buy_arr))\n",
    "    else:\n",
    "        prec_1.append(0.0)\n",
    "        rec_1.append(0.0)\n",
    "        \n",
    "    cntr = 0\n",
    "    for i in dedupl_seen[:5]:\n",
    "        if i in buy_arr:\n",
    "            cntr += 1\n",
    "    \n",
    "    prec_5.append(cntr/5.0)\n",
    "    rec_5.append(cntr/float(len(buy_arr)))\n",
    "    \n",
    "    \n",
    "av_prec_1 = np.mean(prec_1)\n",
    "av_prec_5 = np.mean(prec_5)\n",
    "av_rec_1 = np.mean(rec_1)\n",
    "av_rec_5 = np.mean(rec_5)\n",
    "\n",
    "print 'Average precision@1', av_prec_1\n",
    "print 'Average precision@5', av_prec_5\n",
    "\n",
    "print 'Average recall@1', av_rec_1\n",
    "print 'Average recall@5', av_rec_5"
   ]
  },
  {
   "cell_type": "code",
   "execution_count": 45,
   "metadata": {
    "collapsed": false
   },
   "outputs": [
    {
     "data": {
      "text/plain": [
       "'Average precision@1 0.80376940133\\nAverage precision@5 0.252549889135\\nAverage recall@1 0.688449492427\\nAverage recall@5 0.926307302423'"
      ]
     },
     "execution_count": 45,
     "metadata": {},
     "output_type": "execute_result"
    }
   ],
   "source": [
    "#train\n",
    "\"\"\"Average precision@1 0.80376940133\n",
    "Average precision@5 0.252549889135\n",
    "Average recall@1 0.688449492427\n",
    "Average recall@5 0.926307302423\"\"\""
   ]
  },
  {
   "cell_type": "code",
   "execution_count": null,
   "metadata": {
    "collapsed": true
   },
   "outputs": [],
   "source": []
  },
  {
   "cell_type": "code",
   "execution_count": null,
   "metadata": {
    "collapsed": true
   },
   "outputs": [],
   "source": []
  },
  {
   "cell_type": "code",
   "execution_count": null,
   "metadata": {
    "collapsed": true
   },
   "outputs": [],
   "source": []
  },
  {
   "cell_type": "code",
   "execution_count": null,
   "metadata": {
    "collapsed": true
   },
   "outputs": [],
   "source": []
  },
  {
   "cell_type": "code",
   "execution_count": null,
   "metadata": {
    "collapsed": true
   },
   "outputs": [],
   "source": []
  },
  {
   "cell_type": "code",
   "execution_count": null,
   "metadata": {
    "collapsed": true
   },
   "outputs": [],
   "source": []
  },
  {
   "cell_type": "code",
   "execution_count": null,
   "metadata": {
    "collapsed": true
   },
   "outputs": [],
   "source": []
  },
  {
   "cell_type": "code",
   "execution_count": null,
   "metadata": {
    "collapsed": true
   },
   "outputs": [],
   "source": []
  },
  {
   "cell_type": "code",
   "execution_count": null,
   "metadata": {
    "collapsed": true
   },
   "outputs": [],
   "source": []
  }
 ],
 "metadata": {
  "anaconda-cloud": {},
  "kernelspec": {
   "display_name": "Python [Root]",
   "language": "python",
   "name": "Python [Root]"
  },
  "language_info": {
   "codemirror_mode": {
    "name": "ipython",
    "version": 2
   },
   "file_extension": ".py",
   "mimetype": "text/x-python",
   "name": "python",
   "nbconvert_exporter": "python",
   "pygments_lexer": "ipython2",
   "version": "2.7.11"
  }
 },
 "nbformat": 4,
 "nbformat_minor": 0
}
