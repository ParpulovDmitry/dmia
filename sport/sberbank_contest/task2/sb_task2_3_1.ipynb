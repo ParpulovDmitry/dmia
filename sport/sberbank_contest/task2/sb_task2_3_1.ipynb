{
 "cells": [
  {
   "cell_type": "code",
   "execution_count": 18,
   "metadata": {
    "collapsed": true
   },
   "outputs": [],
   "source": [
    "import pandas as pd\n",
    "import numpy as np\n",
    "\n",
    "from sklearn.ensemble import GradientBoostingRegressor, RandomForestRegressor\n",
    "from sklearn.linear_model import LinearRegression\n",
    "\n",
    "import statsmodels.api as sm\n",
    "from statsmodels.graphics.api import qqplot\n",
    "\n",
    "import matplotlib.pyplot as plt\n",
    "%matplotlib inline"
   ]
  },
  {
   "cell_type": "code",
   "execution_count": 2,
   "metadata": {
    "collapsed": true
   },
   "outputs": [],
   "source": [
    "transactions = pd.read_csv('transactions.csv')"
   ]
  },
  {
   "cell_type": "code",
   "execution_count": 3,
   "metadata": {
    "collapsed": true
   },
   "outputs": [],
   "source": [
    "transactions.amount = transactions.amount.apply(lambda x: round(x/11.2296))"
   ]
  },
  {
   "cell_type": "code",
   "execution_count": 4,
   "metadata": {
    "collapsed": true
   },
   "outputs": [],
   "source": [
    "train_transactions = transactions[transactions.amount < 0].copy()\n",
    "train_transactions['day'] = train_transactions.tr_datetime.apply(lambda dt: dt.split()[0]).astype(int)"
   ]
  },
  {
   "cell_type": "code",
   "execution_count": null,
   "metadata": {
    "collapsed": true
   },
   "outputs": [],
   "source": []
  },
  {
   "cell_type": "markdown",
   "metadata": {},
   "source": [
    "* 6010, 6011 - снятие налички;\n",
    "* 5411 - супермаркеты\n",
    "* 4814 - звонки\n",
    "* 4829 - переводы"
   ]
  },
  {
   "cell_type": "code",
   "execution_count": null,
   "metadata": {
    "collapsed": true
   },
   "outputs": [],
   "source": []
  },
  {
   "cell_type": "code",
   "execution_count": 6,
   "metadata": {
    "collapsed": true
   },
   "outputs": [],
   "source": [
    "test_transactions = pd.DataFrame(columns=train_transactions.mcc_code.unique(), \n",
    "                                 index=np.arange(1, 31) + train_transactions.day.max())\n",
    "test_transactions = test_transactions.unstack().reset_index().dropna(axis=1)\n",
    "test_transactions.columns = ['mcc_code', 'day']"
   ]
  },
  {
   "cell_type": "code",
   "execution_count": 7,
   "metadata": {
    "collapsed": true
   },
   "outputs": [],
   "source": [
    "train_grid = pd.DataFrame(columns=train_transactions.mcc_code.unique(), \n",
    "                          index=train_transactions.day.unique())\n",
    "train_grid = train_grid.unstack().reset_index().dropna(axis=1)\n",
    "train_grid.columns = ['mcc_code', 'day']"
   ]
  },
  {
   "cell_type": "code",
   "execution_count": 8,
   "metadata": {
    "collapsed": true
   },
   "outputs": [],
   "source": [
    "for tr_table in [train_transactions, test_transactions, train_grid]:\n",
    "    tr_table['week_num'] = tr_table['day'] // 7\n",
    "    tr_table['week_day'] = tr_table['day'] % 7\n",
    "    tr_table['month_num'] = tr_table['day'] // 30\n",
    "    tr_table['month_day'] = tr_table['day'] % 30"
   ]
  },
  {
   "cell_type": "code",
   "execution_count": 9,
   "metadata": {
    "collapsed": true
   },
   "outputs": [],
   "source": [
    "train_transactions = \\\n",
    "    pd.merge(train_grid,\n",
    "             train_transactions.groupby(['day', 'week_num', 'week_day', 'month_num', 'month_day', 'mcc_code'])[['amount']]\\\n",
    "                 .sum().reset_index(),\n",
    "             how='left').fillna(0)"
   ]
  },
  {
   "cell_type": "code",
   "execution_count": 49,
   "metadata": {
    "collapsed": true
   },
   "outputs": [],
   "source": [
    "test_transactions = test_transactions.drop([\"week_num\", \"week_day\", \"month_num\", \"month_day\"], axis=1)\n"
   ]
  },
  {
   "cell_type": "code",
   "execution_count": null,
   "metadata": {
    "collapsed": true
   },
   "outputs": [],
   "source": []
  },
  {
   "cell_type": "markdown",
   "metadata": {},
   "source": [
    "# Explore how amount graph depends from day, week, month"
   ]
  },
  {
   "cell_type": "code",
   "execution_count": 19,
   "metadata": {
    "collapsed": false
   },
   "outputs": [],
   "source": [
    "nalik = train_transactions[train_transactions.mcc_code == 6011]\n",
    "nalik.amount = nalik.amount.apply(lambda x: -x)"
   ]
  },
  {
   "cell_type": "code",
   "execution_count": 20,
   "metadata": {
    "collapsed": false
   },
   "outputs": [
    {
     "data": {
      "text/plain": [
       "(457, 7)"
      ]
     },
     "execution_count": 20,
     "metadata": {},
     "output_type": "execute_result"
    }
   ],
   "source": [
    "nalik.shape"
   ]
  },
  {
   "cell_type": "code",
   "execution_count": 21,
   "metadata": {
    "collapsed": false,
    "scrolled": true
   },
   "outputs": [],
   "source": [
    "nalik = nalik.sort_values(\"day\", ascending=True)"
   ]
  },
  {
   "cell_type": "code",
   "execution_count": 22,
   "metadata": {
    "collapsed": false,
    "scrolled": true
   },
   "outputs": [],
   "source": [
    "by_day = nalik.set_index(nalik.day).drop([\"day\"], axis=1)"
   ]
  },
  {
   "cell_type": "markdown",
   "metadata": {},
   "source": [
    "### Plotting by day"
   ]
  },
  {
   "cell_type": "code",
   "execution_count": 23,
   "metadata": {
    "collapsed": true
   },
   "outputs": [
    {
     "data": {
      "text/plain": [
       "<matplotlib.axes._subplots.AxesSubplot at 0x119e05f10>"
      ]
     },
     "execution_count": 23,
     "metadata": {},
     "output_type": "execute_result"
    },
    {
     "data": {
      "image/png": "[encoded data removed]",
      "text/plain": [
       "<matplotlib.figure.Figure at 0x118069b50>"
      ]
     },
     "metadata": {},
     "output_type": "display_data"
    }
   ],
   "source": [
    "by_day.amount.plot(figsize=(15,8), grid=True, title=\"amount_by_day\")"
   ]
  },
  {
   "cell_type": "code",
   "execution_count": null,
   "metadata": {
    "collapsed": true
   },
   "outputs": [],
   "source": []
  },
  {
   "cell_type": "code",
   "execution_count": 95,
   "metadata": {
    "collapsed": true
   },
   "outputs": [],
   "source": [
    "res_df = pd.DataFrame(columns=[\"mcc_code\", \"day\", \"volume\"])"
   ]
  },
  {
   "cell_type": "code",
   "execution_count": 97,
   "metadata": {
    "collapsed": false,
    "scrolled": true
   },
   "outputs": [
    {
     "name": "stdout",
     "output_type": "stream",
     "text": [
      "4814\n",
      "4829\n",
      "5499\n",
      "5541\n",
      "5200\n",
      "5732\n",
      "6011\n",
      "5331\n",
      "5912\n",
      "5411\n",
      "5812\n",
      "5719\n",
      "6010\n",
      "5722\n",
      "5621\n",
      "5814\n",
      "5921\n",
      "5941\n",
      "5691\n",
      "5813\n",
      "5211\n",
      "4812\n",
      "5945\n",
      "5983\n",
      "5999\n",
      "5943\n",
      "5533\n",
      "6300\n",
      "7832\n",
      "8099\n",
      "5992\n",
      "3501\n",
      "7997\n",
      "5641\n",
      "4722\n",
      "5661\n",
      "5651\n",
      "7011\n",
      "5699\n",
      "5942\n",
      "7298\n",
      "7999\n",
      "5712\n",
      "5511\n",
      "5422\n",
      "5399\n",
      "4900\n",
      "7538\n",
      "5949\n",
      "5977\n",
      "5948\n",
      "5631\n",
      "5311\n",
      "5462\n",
      "4112\n",
      "8999\n",
      "8021\n",
      "5714\n",
      "5251\n",
      "4789\n",
      "7542\n",
      "5947\n",
      "3000\n",
      "8043\n",
      "5944\n",
      "5734\n",
      "5611\n",
      "5532\n",
      "4816\n",
      "7311\n",
      "5655\n",
      "6051\n",
      "6012\n",
      "7994\n",
      "5995\n",
      "5309\n",
      "5964\n",
      "8299\n",
      "8244\n",
      "4111\n",
      "4511\n",
      "9399\n",
      "5441\n",
      "7922\n",
      "5261\n",
      "7699\n",
      "7995\n",
      "7629\n",
      "5816\n",
      "5735\n",
      "5039\n",
      "5300\n",
      "5199\n",
      "4121\n",
      "5065\n",
      "7399\n",
      "7299\n",
      "8011\n",
      "7230\n",
      "9222\n",
      "5946\n",
      "5131\n",
      "5994\n",
      "5231\n",
      "8071\n",
      "5094\n",
      "5047\n",
      "5072\n",
      "7210\n",
      "5976\n",
      "5045\n",
      "7932\n",
      "4215\n",
      "5542\n",
      "5099\n",
      "5713\n",
      "4899\n",
      "7933\n",
      "5681\n",
      "5193\n",
      "1711\n",
      "6211\n",
      "8398\n",
      "5599\n",
      "5993\n",
      "8062\n",
      "5169\n",
      "4214\n",
      "5733\n",
      "5013\n",
      "7221\n",
      "5571\n",
      "6536\n",
      "7993\n",
      "5971\n",
      "5968\n",
      "7372\n",
      "5074\n",
      "5044\n",
      "5811\n",
      "5111\n",
      "8641\n",
      "7512\n",
      "7523\n",
      "9311\n",
      "8220\n",
      "7991\n"
     ]
    },
    {
     "name": "stderr",
     "output_type": "stream",
     "text": [
      "/Users/d.parpulov/anaconda/lib/python2.7/site-packages/statsmodels/base/model.py:466: ConvergenceWarning: Maximum Likelihood optimization failed to converge. Check mle_retvals\n",
      "  \"Check mle_retvals\", ConvergenceWarning)\n"
     ]
    },
    {
     "name": "stdout",
     "output_type": "stream",
     "text": [
      "7996\n",
      "4784\n",
      "5931\n",
      "7841\n",
      "3351\n",
      "4411\n",
      "1799\n",
      "5192\n",
      "5122\n",
      "742\n",
      "6513\n",
      "7278\n",
      "5969\n",
      "5970\n",
      "4131\n",
      "5965\n",
      "7395\n",
      "5950\n",
      "5085\n",
      "7273\n",
      "5137\n",
      "5310\n",
      "7531\n",
      "7829\n",
      "7375\n",
      "2741\n",
      "5172\n",
      "8699\n",
      "7216\n",
      "5451\n",
      "5967\n",
      "7338\n",
      "9402\n",
      "5697\n",
      "1731\n",
      "5940\n",
      "9211\n",
      "CPU times: user 2h 24min 19s, sys: 4min 43s, total: 2h 29min 3s\n",
      "Wall time: 4h 42min 11s\n"
     ]
    }
   ],
   "source": [
    "%%time\n",
    "for mcc in train_transactions.mcc_code.unique():\n",
    "    print mcc\n",
    "    nalik = train_transactions[train_transactions.mcc_code == mcc]\n",
    "    nalik.amount = nalik.amount.apply(lambda x: -x)\n",
    "    nalik = nalik.sort_values(\"day\", ascending=True)\n",
    "    by_day = nalik.set_index(nalik.day).drop([\"day\"], axis=1)\n",
    "    by_day = by_day.amount\n",
    "    by_day.index = pd.to_datetime(by_day.index, unit='D')\n",
    "    arma_mod = sm.tsa.ARMA(by_day, (15,0)).fit()\n",
    "    predict_dynam = arma_mod.predict('1971-04-03', '1971-05-02', dynamic=True)\n",
    "    data_mcc = pd.DataFrame(data=predict_dynam, columns=[\"volume\"]).reset_index().drop([\"index\"], axis=1)\n",
    "    test_tr = test_transactions[test_transactions.mcc_code == mcc][[\"mcc_code\", \"day\"]].reset_index().drop([\"index\"], axis=1)\n",
    "    res_mcc = pd.concat([test_tr, data_mcc], axis=1)\n",
    "\n",
    "    res_df = pd.concat([res_df, res_mcc], axis=0)"
   ]
  },
  {
   "cell_type": "code",
   "execution_count": 104,
   "metadata": {
    "collapsed": false
   },
   "outputs": [],
   "source": [
    "res = res_df.reset_index().drop([\"index\"], axis=1)"
   ]
  },
  {
   "cell_type": "code",
   "execution_count": 106,
   "metadata": {
    "collapsed": false
   },
   "outputs": [],
   "source": [
    "res.volume = res.volume.apply(lambda x: x*11.2296)"
   ]
  },
  {
   "cell_type": "code",
   "execution_count": 117,
   "metadata": {
    "collapsed": false
   },
   "outputs": [
    {
     "data": {
      "text/html": [
       "<div>\n",
       "<table border=\"1\" class=\"dataframe\">\n",
       "  <thead>\n",
       "    <tr style=\"text-align: right;\">\n",
       "      <th></th>\n",
       "      <th>mcc_code</th>\n",
       "      <th>day</th>\n",
       "      <th>volume</th>\n",
       "    </tr>\n",
       "  </thead>\n",
       "  <tbody>\n",
       "    <tr>\n",
       "      <th>0</th>\n",
       "      <td>4814</td>\n",
       "      <td>457</td>\n",
       "      <td>9.282203e+06</td>\n",
       "    </tr>\n",
       "    <tr>\n",
       "      <th>1</th>\n",
       "      <td>4814</td>\n",
       "      <td>458</td>\n",
       "      <td>1.209837e+07</td>\n",
       "    </tr>\n",
       "    <tr>\n",
       "      <th>2</th>\n",
       "      <td>4814</td>\n",
       "      <td>459</td>\n",
       "      <td>1.497975e+07</td>\n",
       "    </tr>\n",
       "    <tr>\n",
       "      <th>3</th>\n",
       "      <td>4814</td>\n",
       "      <td>460</td>\n",
       "      <td>1.109587e+07</td>\n",
       "    </tr>\n",
       "    <tr>\n",
       "      <th>4</th>\n",
       "      <td>4814</td>\n",
       "      <td>461</td>\n",
       "      <td>9.963222e+06</td>\n",
       "    </tr>\n",
       "  </tbody>\n",
       "</table>\n",
       "</div>"
      ],
      "text/plain": [
       "   mcc_code  day        volume\n",
       "0      4814  457  9.282203e+06\n",
       "1      4814  458  1.209837e+07\n",
       "2      4814  459  1.497975e+07\n",
       "3      4814  460  1.109587e+07\n",
       "4      4814  461  9.963222e+06"
      ]
     },
     "execution_count": 117,
     "metadata": {},
     "output_type": "execute_result"
    }
   ],
   "source": [
    "res.day = res.day.apply(lambda x: int(x))\n",
    "res.mcc_code = res.mcc_code.apply(lambda x: int(x))\n",
    "\n",
    "res.head()"
   ]
  },
  {
   "cell_type": "code",
   "execution_count": 118,
   "metadata": {
    "collapsed": true
   },
   "outputs": [],
   "source": [
    "res.to_csv(\"arima_all.csv\", index=None)"
   ]
  },
  {
   "cell_type": "code",
   "execution_count": null,
   "metadata": {
    "collapsed": true
   },
   "outputs": [],
   "source": []
  },
  {
   "cell_type": "code",
   "execution_count": null,
   "metadata": {
    "collapsed": true
   },
   "outputs": [],
   "source": []
  },
  {
   "cell_type": "code",
   "execution_count": 50,
   "metadata": {
    "collapsed": false
   },
   "outputs": [
    {
     "data": {
      "text/html": [
       "<div>\n",
       "<table border=\"1\" class=\"dataframe\">\n",
       "  <thead>\n",
       "    <tr style=\"text-align: right;\">\n",
       "      <th></th>\n",
       "      <th>mcc_code</th>\n",
       "      <th>day</th>\n",
       "    </tr>\n",
       "  </thead>\n",
       "  <tbody>\n",
       "    <tr>\n",
       "      <th>0</th>\n",
       "      <td>4814</td>\n",
       "      <td>457</td>\n",
       "    </tr>\n",
       "    <tr>\n",
       "      <th>1</th>\n",
       "      <td>4814</td>\n",
       "      <td>458</td>\n",
       "    </tr>\n",
       "    <tr>\n",
       "      <th>2</th>\n",
       "      <td>4814</td>\n",
       "      <td>459</td>\n",
       "    </tr>\n",
       "    <tr>\n",
       "      <th>3</th>\n",
       "      <td>4814</td>\n",
       "      <td>460</td>\n",
       "    </tr>\n",
       "    <tr>\n",
       "      <th>4</th>\n",
       "      <td>4814</td>\n",
       "      <td>461</td>\n",
       "    </tr>\n",
       "  </tbody>\n",
       "</table>\n",
       "</div>"
      ],
      "text/plain": [
       "   mcc_code  day\n",
       "0      4814  457\n",
       "1      4814  458\n",
       "2      4814  459\n",
       "3      4814  460\n",
       "4      4814  461"
      ]
     },
     "execution_count": 50,
     "metadata": {},
     "output_type": "execute_result"
    }
   ],
   "source": [
    "test_transactions.head()"
   ]
  },
  {
   "cell_type": "code",
   "execution_count": null,
   "metadata": {
    "collapsed": true
   },
   "outputs": [],
   "source": []
  },
  {
   "cell_type": "code",
   "execution_count": null,
   "metadata": {
    "collapsed": true
   },
   "outputs": [],
   "source": []
  },
  {
   "cell_type": "code",
   "execution_count": null,
   "metadata": {
    "collapsed": true
   },
   "outputs": [],
   "source": []
  },
  {
   "cell_type": "code",
   "execution_count": null,
   "metadata": {
    "collapsed": true
   },
   "outputs": [],
   "source": []
  },
  {
   "cell_type": "code",
   "execution_count": null,
   "metadata": {
    "collapsed": true
   },
   "outputs": [],
   "source": [
    "test_transactions[['mcc_code', 'day', 'volume']].to_csv('baseline_b.csv', index=False)"
   ]
  },
  {
   "cell_type": "code",
   "execution_count": null,
   "metadata": {
    "collapsed": true
   },
   "outputs": [],
   "source": []
  },
  {
   "cell_type": "code",
   "execution_count": null,
   "metadata": {
    "collapsed": true
   },
   "outputs": [],
   "source": []
  },
  {
   "cell_type": "code",
   "execution_count": null,
   "metadata": {
    "collapsed": true
   },
   "outputs": [],
   "source": []
  },
  {
   "cell_type": "code",
   "execution_count": null,
   "metadata": {
    "collapsed": true
   },
   "outputs": [],
   "source": []
  },
  {
   "cell_type": "code",
   "execution_count": null,
   "metadata": {
    "collapsed": true
   },
   "outputs": [],
   "source": []
  },
  {
   "cell_type": "code",
   "execution_count": null,
   "metadata": {
    "collapsed": true
   },
   "outputs": [],
   "source": []
  }
 ],
 "metadata": {
  "anaconda-cloud": {},
  "kernelspec": {
   "display_name": "Python [Root]",
   "language": "python",
   "name": "Python [Root]"
  },
  "language_info": {
   "codemirror_mode": {
    "name": "ipython",
    "version": 2
   },
   "file_extension": ".py",
   "mimetype": "text/x-python",
   "name": "python",
   "nbconvert_exporter": "python",
   "pygments_lexer": "ipython2",
   "version": "2.7.11"
  }
 },
 "nbformat": 4,
 "nbformat_minor": 0
}
