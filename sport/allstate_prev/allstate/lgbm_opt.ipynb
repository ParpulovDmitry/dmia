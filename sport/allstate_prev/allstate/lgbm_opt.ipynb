{
 "cells": [
  {
   "cell_type": "code",
   "execution_count": 1,
   "metadata": {
    "collapsed": false
   },
   "outputs": [
    {
     "name": "stderr",
     "output_type": "stream",
     "text": [
      "/home/y.romanikhin/.virtualenvs/venv/lib/python2.7/site-packages/sklearn/cross_validation.py:44: DeprecationWarning: This module was deprecated in version 0.18 in favor of the model_selection module into which all the refactored classes and functions are moved. Also note that the interface of the new CV iterators are different from that of this module. This module will be removed in 0.20.\n",
      "  \"This module will be removed in 0.20.\", DeprecationWarning)\n"
     ]
    }
   ],
   "source": [
    "import pandas as pd\n",
    "import numpy as np\n",
    "import xgboost as xgb\n",
    "from sklearn.metrics import mean_absolute_error\n",
    "from sklearn.cross_validation import train_test_split\n",
    "import matplotlib.pylab as plt\n"
   ]
  },
  {
   "cell_type": "code",
   "execution_count": 2,
   "metadata": {
    "collapsed": true
   },
   "outputs": [],
   "source": [
    "train = pd.read_csv(\"train_big.csv\")\n",
    "test = pd.read_csv(\"test_big.csv\")"
   ]
  },
  {
   "cell_type": "code",
   "execution_count": 3,
   "metadata": {
    "collapsed": true
   },
   "outputs": [],
   "source": [
    "shift = 200\n",
    "\n",
    "ids = pd.read_csv('data/test.csv')['id']\n",
    "y_train = np.log(train['loss'] + shift)\n",
    "X_train = train.drop(['loss','id'], axis=1)\n",
    "X_test = test.drop(['loss','id'], axis=1)"
   ]
  },
  {
   "cell_type": "code",
   "execution_count": null,
   "metadata": {
    "collapsed": true
   },
   "outputs": [],
   "source": []
  },
  {
   "cell_type": "code",
   "execution_count": 4,
   "metadata": {
    "collapsed": true
   },
   "outputs": [],
   "source": [
    "## create holdout\n",
    "X_train_local, X_val, y_train_local, y_val = train_test_split(X_train, y_train, test_size=0.2, random_state=0)"
   ]
  },
  {
   "cell_type": "code",
   "execution_count": 5,
   "metadata": {
    "collapsed": true
   },
   "outputs": [],
   "source": [
    "import os\n",
    "from pylightgbm.models import GBMRegressor\n",
    "os.environ['LIGHTGBM_EXEC'] = \"/usr/local/bin/lightgbm\""
   ]
  },
  {
   "cell_type": "code",
   "execution_count": 11,
   "metadata": {
    "collapsed": true
   },
   "outputs": [],
   "source": [
    "model = GBMRegressor(\n",
    "        num_threads=1,\n",
    "        learning_rate = 0.3,\n",
    "        num_iterations = 5000, \n",
    "        verbose = 1, \n",
    "        early_stopping_round = 50,\n",
    "        feature_fraction = 0.8,\n",
    "        bagging_fraction = 0.8,\n",
    ") "
   ]
  },
  {
   "cell_type": "code",
   "execution_count": 12,
   "metadata": {
    "collapsed": false,
    "scrolled": true
   },
   "outputs": [
    {
     "name": "stdout",
     "output_type": "stream",
     "text": [
      "[LightGBM] [Info] Finished loading parameters\n",
      "[LightGBM] [Info] Finished loading data in 29.994346 seconds\n",
      "[LightGBM] [Info] Number of data: 150654, number of features: 725\n",
      "[LightGBM] [Info] Finished initializing training\n",
      "[LightGBM] [Info] Started training...\n",
      "[LightGBM] [Info] Iteration: 1, /tmp/tmpq6WsAz/X0_test.csv : l2 loss : 5.498874\n",
      "[LightGBM] [Info] 1.754427 seconds elapsed, finished iteration 1\n",
      "[LightGBM] [Info] Iteration: 2, /tmp/tmpq6WsAz/X0_test.csv : l2 loss : 3.867635\n",
      "[LightGBM] [Info] 3.504234 seconds elapsed, finished iteration 2\n",
      "[LightGBM] [Info] Iteration: 3, /tmp/tmpq6WsAz/X0_test.csv : l2 loss : 2.733221\n",
      "[LightGBM] [Info] 5.267165 seconds elapsed, finished iteration 3\n",
      "[LightGBM] [Info] Iteration: 4, /tmp/tmpq6WsAz/X0_test.csv : l2 loss : 1.948128\n",
      "[LightGBM] [Info] 7.035396 seconds elapsed, finished iteration 4\n",
      "[LightGBM] [Info] Iteration: 5, /tmp/tmpq6WsAz/X0_test.csv : l2 loss : 1.411420\n",
      "[LightGBM] [Info] 8.773755 seconds elapsed, finished iteration 5\n",
      "[LightGBM] [Info] Iteration: 6, /tmp/tmpq6WsAz/X0_test.csv : l2 loss : 1.051407\n",
      "[LightGBM] [Info] 10.530783 seconds elapsed, finished iteration 6\n",
      "[LightGBM] [Info] Iteration: 7, /tmp/tmpq6WsAz/X0_test.csv : l2 loss : 0.818502\n",
      "[LightGBM] [Info] 12.386076 seconds elapsed, finished iteration 7\n",
      "[LightGBM] [Info] Iteration: 8, /tmp/tmpq6WsAz/X0_test.csv : l2 loss : 0.673835\n",
      "[LightGBM] [Info] 14.133873 seconds elapsed, finished iteration 8\n",
      "[LightGBM] [Info] Iteration: 9, /tmp/tmpq6WsAz/X0_test.csv : l2 loss : 0.589602\n",
      "[LightGBM] [Info] 15.771487 seconds elapsed, finished iteration 9\n",
      "[LightGBM] [Info] Iteration: 10, /tmp/tmpq6WsAz/X0_test.csv : l2 loss : 0.542915\n",
      "[LightGBM] [Info] 17.436100 seconds elapsed, finished iteration 10\n",
      "[LightGBM] [Info] Iteration: 11, /tmp/tmpq6WsAz/X0_test.csv : l2 loss : 0.517459\n",
      "[LightGBM] [Info] 19.232613 seconds elapsed, finished iteration 11\n",
      "[LightGBM] [Info] Iteration: 12, /tmp/tmpq6WsAz/X0_test.csv : l2 loss : 0.503112\n",
      "[LightGBM] [Info] 20.834532 seconds elapsed, finished iteration 12\n",
      "[LightGBM] [Info] Iteration: 13, /tmp/tmpq6WsAz/X0_test.csv : l2 loss : 0.495825\n",
      "[LightGBM] [Info] 22.529272 seconds elapsed, finished iteration 13\n",
      "[LightGBM] [Info] Iteration: 14, /tmp/tmpq6WsAz/X0_test.csv : l2 loss : 0.491928\n",
      "[LightGBM] [Info] 24.203865 seconds elapsed, finished iteration 14\n",
      "[LightGBM] [Info] Iteration: 15, /tmp/tmpq6WsAz/X0_test.csv : l2 loss : 0.489621\n",
      "[LightGBM] [Info] 25.742793 seconds elapsed, finished iteration 15\n",
      "[LightGBM] [Info] Iteration: 16, /tmp/tmpq6WsAz/X0_test.csv : l2 loss : 0.487881\n",
      "[LightGBM] [Info] 27.417554 seconds elapsed, finished iteration 16\n",
      "[LightGBM] [Info] Iteration: 17, /tmp/tmpq6WsAz/X0_test.csv : l2 loss : 0.486594\n",
      "[LightGBM] [Info] 29.099675 seconds elapsed, finished iteration 17\n",
      "[LightGBM] [Info] Iteration: 18, /tmp/tmpq6WsAz/X0_test.csv : l2 loss : 0.486026\n",
      "[LightGBM] [Info] 30.643360 seconds elapsed, finished iteration 18\n",
      "[LightGBM] [Info] Iteration: 19, /tmp/tmpq6WsAz/X0_test.csv : l2 loss : 0.485696\n",
      "[LightGBM] [Info] 32.174588 seconds elapsed, finished iteration 19\n",
      "[LightGBM] [Info] Iteration: 20, /tmp/tmpq6WsAz/X0_test.csv : l2 loss : 0.485439\n",
      "[LightGBM] [Info] 33.807836 seconds elapsed, finished iteration 20\n",
      "[LightGBM] [Info] Iteration: 21, /tmp/tmpq6WsAz/X0_test.csv : l2 loss : 0.484948\n",
      "[LightGBM] [Info] 35.236916 seconds elapsed, finished iteration 21\n",
      "[LightGBM] [Info] Iteration: 22, /tmp/tmpq6WsAz/X0_test.csv : l2 loss : 0.484691\n",
      "[LightGBM] [Info] 36.654573 seconds elapsed, finished iteration 22\n",
      "[LightGBM] [Info] Iteration: 23, /tmp/tmpq6WsAz/X0_test.csv : l2 loss : 0.484546\n",
      "[LightGBM] [Info] 38.112386 seconds elapsed, finished iteration 23\n",
      "[LightGBM] [Info] Iteration: 24, /tmp/tmpq6WsAz/X0_test.csv : l2 loss : 0.484346\n",
      "[LightGBM] [Info] 39.536172 seconds elapsed, finished iteration 24\n",
      "[LightGBM] [Info] Iteration: 25, /tmp/tmpq6WsAz/X0_test.csv : l2 loss : 0.483898\n",
      "[LightGBM] [Info] 40.957163 seconds elapsed, finished iteration 25\n",
      "[LightGBM] [Info] Iteration: 26, /tmp/tmpq6WsAz/X0_test.csv : l2 loss : 0.483929\n",
      "[LightGBM] [Info] 42.301279 seconds elapsed, finished iteration 26\n",
      "[LightGBM] [Info] Iteration: 27, /tmp/tmpq6WsAz/X0_test.csv : l2 loss : 0.483704\n",
      "[LightGBM] [Info] 43.404174 seconds elapsed, finished iteration 27\n",
      "[LightGBM] [Info] Iteration: 28, /tmp/tmpq6WsAz/X0_test.csv : l2 loss : 0.483759\n",
      "[LightGBM] [Info] 44.784420 seconds elapsed, finished iteration 28\n",
      "[LightGBM] [Info] Iteration: 29, /tmp/tmpq6WsAz/X0_test.csv : l2 loss : 0.483719\n",
      "[LightGBM] [Info] 45.853576 seconds elapsed, finished iteration 29\n",
      "[LightGBM] [Info] Iteration: 30, /tmp/tmpq6WsAz/X0_test.csv : l2 loss : 0.483695\n",
      "[LightGBM] [Info] 46.988384 seconds elapsed, finished iteration 30\n",
      "[LightGBM] [Info] Iteration: 31, /tmp/tmpq6WsAz/X0_test.csv : l2 loss : 0.483536\n",
      "[LightGBM] [Info] 48.287541 seconds elapsed, finished iteration 31\n",
      "[LightGBM] [Info] Iteration: 32, /tmp/tmpq6WsAz/X0_test.csv : l2 loss : 0.483567\n",
      "[LightGBM] [Info] 49.408740 seconds elapsed, finished iteration 32\n",
      "[LightGBM] [Info] Iteration: 33, /tmp/tmpq6WsAz/X0_test.csv : l2 loss : 0.483484\n",
      "[LightGBM] [Info] 50.462905 seconds elapsed, finished iteration 33\n",
      "[LightGBM] [Info] Iteration: 34, /tmp/tmpq6WsAz/X0_test.csv : l2 loss : 0.483405\n",
      "[LightGBM] [Info] 51.410493 seconds elapsed, finished iteration 34\n",
      "[LightGBM] [Info] Iteration: 35, /tmp/tmpq6WsAz/X0_test.csv : l2 loss : 0.483459\n",
      "[LightGBM] [Info] 52.507329 seconds elapsed, finished iteration 35\n",
      "[LightGBM] [Info] Iteration: 36, /tmp/tmpq6WsAz/X0_test.csv : l2 loss : 0.483332\n",
      "[LightGBM] [Info] 53.519284 seconds elapsed, finished iteration 36\n",
      "[LightGBM] [Info] Iteration: 37, /tmp/tmpq6WsAz/X0_test.csv : l2 loss : 0.483363\n",
      "[LightGBM] [Info] 54.593292 seconds elapsed, finished iteration 37\n",
      "[LightGBM] [Info] Iteration: 38, /tmp/tmpq6WsAz/X0_test.csv : l2 loss : 0.483265\n",
      "[LightGBM] [Info] 55.583351 seconds elapsed, finished iteration 38\n",
      "[LightGBM] [Info] Iteration: 39, /tmp/tmpq6WsAz/X0_test.csv : l2 loss : 0.483236\n",
      "[LightGBM] [Info] 56.604115 seconds elapsed, finished iteration 39\n",
      "[LightGBM] [Info] Iteration: 40, /tmp/tmpq6WsAz/X0_test.csv : l2 loss : 0.483235\n",
      "[LightGBM] [Info] 57.492638 seconds elapsed, finished iteration 40\n",
      "[LightGBM] [Info] Iteration: 41, /tmp/tmpq6WsAz/X0_test.csv : l2 loss : 0.483193\n",
      "[LightGBM] [Info] 58.317545 seconds elapsed, finished iteration 41\n",
      "[LightGBM] [Info] Iteration: 42, /tmp/tmpq6WsAz/X0_test.csv : l2 loss : 0.483141\n",
      "[LightGBM] [Info] 59.285389 seconds elapsed, finished iteration 42\n"
     ]
    },
    {
     "ename": "KeyboardInterrupt",
     "evalue": "",
     "output_type": "error",
     "traceback": [
      "\u001b[0;31m---------------------------------------------------------------------------\u001b[0m",
      "\u001b[0;31mKeyboardInterrupt\u001b[0m                         Traceback (most recent call last)",
      "\u001b[0;32m<ipython-input-12-e85f2e9053e3>\u001b[0m in \u001b[0;36m<module>\u001b[0;34m()\u001b[0m\n\u001b[0;32m----> 1\u001b[0;31m \u001b[0mget_ipython\u001b[0m\u001b[0;34m(\u001b[0m\u001b[0;34m)\u001b[0m\u001b[0;34m.\u001b[0m\u001b[0mrun_cell_magic\u001b[0m\u001b[0;34m(\u001b[0m\u001b[0;34mu'time'\u001b[0m\u001b[0;34m,\u001b[0m \u001b[0;34mu''\u001b[0m\u001b[0;34m,\u001b[0m \u001b[0;34mu'\\nmodel.fit(\\n    X_train_local.values, \\n    y_train_local.values, \\n    test_data = [(\\n        X_val.values, \\n        y_val.values\\n    )]\\n)'\u001b[0m\u001b[0;34m)\u001b[0m\u001b[0;34m\u001b[0m\u001b[0m\n\u001b[0m",
      "\u001b[0;32m/home/y.romanikhin/.virtualenvs/venv/lib/python2.7/site-packages/IPython/core/interactiveshell.pyc\u001b[0m in \u001b[0;36mrun_cell_magic\u001b[0;34m(self, magic_name, line, cell)\u001b[0m\n\u001b[1;32m   2101\u001b[0m             \u001b[0mmagic_arg_s\u001b[0m \u001b[0;34m=\u001b[0m \u001b[0mself\u001b[0m\u001b[0;34m.\u001b[0m\u001b[0mvar_expand\u001b[0m\u001b[0;34m(\u001b[0m\u001b[0mline\u001b[0m\u001b[0;34m,\u001b[0m \u001b[0mstack_depth\u001b[0m\u001b[0;34m)\u001b[0m\u001b[0;34m\u001b[0m\u001b[0m\n\u001b[1;32m   2102\u001b[0m             \u001b[0;32mwith\u001b[0m \u001b[0mself\u001b[0m\u001b[0;34m.\u001b[0m\u001b[0mbuiltin_trap\u001b[0m\u001b[0;34m:\u001b[0m\u001b[0;34m\u001b[0m\u001b[0m\n\u001b[0;32m-> 2103\u001b[0;31m                 \u001b[0mresult\u001b[0m \u001b[0;34m=\u001b[0m \u001b[0mfn\u001b[0m\u001b[0;34m(\u001b[0m\u001b[0mmagic_arg_s\u001b[0m\u001b[0;34m,\u001b[0m \u001b[0mcell\u001b[0m\u001b[0;34m)\u001b[0m\u001b[0;34m\u001b[0m\u001b[0m\n\u001b[0m\u001b[1;32m   2104\u001b[0m             \u001b[0;32mreturn\u001b[0m \u001b[0mresult\u001b[0m\u001b[0;34m\u001b[0m\u001b[0m\n\u001b[1;32m   2105\u001b[0m \u001b[0;34m\u001b[0m\u001b[0m\n",
      "\u001b[0;32m<decorator-gen-59>\u001b[0m in \u001b[0;36mtime\u001b[0;34m(self, line, cell, local_ns)\u001b[0m\n",
      "\u001b[0;32m/home/y.romanikhin/.virtualenvs/venv/lib/python2.7/site-packages/IPython/core/magic.pyc\u001b[0m in \u001b[0;36m<lambda>\u001b[0;34m(f, *a, **k)\u001b[0m\n\u001b[1;32m    186\u001b[0m     \u001b[0;31m# but it's overkill for just that one bit of state.\u001b[0m\u001b[0;34m\u001b[0m\u001b[0;34m\u001b[0m\u001b[0m\n\u001b[1;32m    187\u001b[0m     \u001b[0;32mdef\u001b[0m \u001b[0mmagic_deco\u001b[0m\u001b[0;34m(\u001b[0m\u001b[0marg\u001b[0m\u001b[0;34m)\u001b[0m\u001b[0;34m:\u001b[0m\u001b[0;34m\u001b[0m\u001b[0m\n\u001b[0;32m--> 188\u001b[0;31m         \u001b[0mcall\u001b[0m \u001b[0;34m=\u001b[0m \u001b[0;32mlambda\u001b[0m \u001b[0mf\u001b[0m\u001b[0;34m,\u001b[0m \u001b[0;34m*\u001b[0m\u001b[0ma\u001b[0m\u001b[0;34m,\u001b[0m \u001b[0;34m**\u001b[0m\u001b[0mk\u001b[0m\u001b[0;34m:\u001b[0m \u001b[0mf\u001b[0m\u001b[0;34m(\u001b[0m\u001b[0;34m*\u001b[0m\u001b[0ma\u001b[0m\u001b[0;34m,\u001b[0m \u001b[0;34m**\u001b[0m\u001b[0mk\u001b[0m\u001b[0;34m)\u001b[0m\u001b[0;34m\u001b[0m\u001b[0m\n\u001b[0m\u001b[1;32m    189\u001b[0m \u001b[0;34m\u001b[0m\u001b[0m\n\u001b[1;32m    190\u001b[0m         \u001b[0;32mif\u001b[0m \u001b[0mcallable\u001b[0m\u001b[0;34m(\u001b[0m\u001b[0marg\u001b[0m\u001b[0;34m)\u001b[0m\u001b[0;34m:\u001b[0m\u001b[0;34m\u001b[0m\u001b[0m\n",
      "\u001b[0;32m/home/y.romanikhin/.virtualenvs/venv/lib/python2.7/site-packages/IPython/core/magics/execution.pyc\u001b[0m in \u001b[0;36mtime\u001b[0;34m(self, line, cell, local_ns)\u001b[0m\n\u001b[1;32m   1170\u001b[0m         \u001b[0;32mif\u001b[0m \u001b[0mmode\u001b[0m\u001b[0;34m==\u001b[0m\u001b[0;34m'eval'\u001b[0m\u001b[0;34m:\u001b[0m\u001b[0;34m\u001b[0m\u001b[0m\n\u001b[1;32m   1171\u001b[0m             \u001b[0mst\u001b[0m \u001b[0;34m=\u001b[0m \u001b[0mclock2\u001b[0m\u001b[0;34m(\u001b[0m\u001b[0;34m)\u001b[0m\u001b[0;34m\u001b[0m\u001b[0m\n\u001b[0;32m-> 1172\u001b[0;31m             \u001b[0mout\u001b[0m \u001b[0;34m=\u001b[0m \u001b[0meval\u001b[0m\u001b[0;34m(\u001b[0m\u001b[0mcode\u001b[0m\u001b[0;34m,\u001b[0m \u001b[0mglob\u001b[0m\u001b[0;34m,\u001b[0m \u001b[0mlocal_ns\u001b[0m\u001b[0;34m)\u001b[0m\u001b[0;34m\u001b[0m\u001b[0m\n\u001b[0m\u001b[1;32m   1173\u001b[0m             \u001b[0mend\u001b[0m \u001b[0;34m=\u001b[0m \u001b[0mclock2\u001b[0m\u001b[0;34m(\u001b[0m\u001b[0;34m)\u001b[0m\u001b[0;34m\u001b[0m\u001b[0m\n\u001b[1;32m   1174\u001b[0m         \u001b[0;32melse\u001b[0m\u001b[0;34m:\u001b[0m\u001b[0;34m\u001b[0m\u001b[0m\n",
      "\u001b[0;32m<timed eval>\u001b[0m in \u001b[0;36m<module>\u001b[0;34m()\u001b[0m\n",
      "\u001b[0;32m/home/y.romanikhin/.virtualenvs/venv/lib/python2.7/site-packages/pylightgbm/models.pyc\u001b[0m in \u001b[0;36mfit\u001b[0;34m(self, X, y, test_data, init_scores)\u001b[0m\n\u001b[1;32m    135\u001b[0m \u001b[0;34m\u001b[0m\u001b[0m\n\u001b[1;32m    136\u001b[0m         \u001b[0;32mwith\u001b[0m \u001b[0mprocess\u001b[0m\u001b[0;34m.\u001b[0m\u001b[0mstdout\u001b[0m\u001b[0;34m:\u001b[0m\u001b[0;34m\u001b[0m\u001b[0m\n\u001b[0;32m--> 137\u001b[0;31m             \u001b[0;32mfor\u001b[0m \u001b[0mline\u001b[0m \u001b[0;32min\u001b[0m \u001b[0miter\u001b[0m\u001b[0;34m(\u001b[0m\u001b[0mprocess\u001b[0m\u001b[0;34m.\u001b[0m\u001b[0mstdout\u001b[0m\u001b[0;34m.\u001b[0m\u001b[0mreadline\u001b[0m\u001b[0;34m,\u001b[0m \u001b[0;34mb''\u001b[0m\u001b[0;34m)\u001b[0m\u001b[0;34m:\u001b[0m\u001b[0;34m\u001b[0m\u001b[0m\n\u001b[0m\u001b[1;32m    138\u001b[0m                 \u001b[0;32mprint\u001b[0m\u001b[0;34m(\u001b[0m\u001b[0mline\u001b[0m\u001b[0;34m.\u001b[0m\u001b[0mstrip\u001b[0m\u001b[0;34m(\u001b[0m\u001b[0;34m)\u001b[0m\u001b[0;34m.\u001b[0m\u001b[0mdecode\u001b[0m\u001b[0;34m(\u001b[0m\u001b[0;34m'utf-8'\u001b[0m\u001b[0;34m)\u001b[0m\u001b[0;34m)\u001b[0m \u001b[0;32mif\u001b[0m \u001b[0mself\u001b[0m\u001b[0;34m.\u001b[0m\u001b[0mverbose\u001b[0m \u001b[0;32melse\u001b[0m \u001b[0mNone\u001b[0m\u001b[0;34m\u001b[0m\u001b[0m\n\u001b[1;32m    139\u001b[0m         \u001b[0;31m# wait for the subprocess to exit\u001b[0m\u001b[0;34m\u001b[0m\u001b[0;34m\u001b[0m\u001b[0m\n",
      "\u001b[0;31mKeyboardInterrupt\u001b[0m: "
     ]
    }
   ],
   "source": [
    "%%time \n",
    "\n",
    "model.fit(\n",
    "    X_train_local.values, \n",
    "    y_train_local.values, \n",
    "    test_data = [(\n",
    "        X_val.values, \n",
    "        y_val.values\n",
    "    )]\n",
    ")"
   ]
  },
  {
   "cell_type": "code",
   "execution_count": null,
   "metadata": {
    "collapsed": true
   },
   "outputs": [],
   "source": []
  },
  {
   "cell_type": "code",
   "execution_count": null,
   "metadata": {
    "collapsed": true
   },
   "outputs": [],
   "source": []
  },
  {
   "cell_type": "code",
   "execution_count": null,
   "metadata": {
    "collapsed": true
   },
   "outputs": [],
   "source": []
  },
  {
   "cell_type": "code",
   "execution_count": null,
   "metadata": {
    "collapsed": true
   },
   "outputs": [],
   "source": []
  },
  {
   "cell_type": "code",
   "execution_count": null,
   "metadata": {
    "collapsed": true
   },
   "outputs": [],
   "source": []
  }
 ],
 "metadata": {
  "kernelspec": {
   "display_name": "Python 2",
   "language": "python",
   "name": "python2"
  },
  "language_info": {
   "codemirror_mode": {
    "name": "ipython",
    "version": 2
   },
   "file_extension": ".py",
   "mimetype": "text/x-python",
   "name": "python",
   "nbconvert_exporter": "python",
   "pygments_lexer": "ipython2",
   "version": "2.7.6"
  }
 },
 "nbformat": 4,
 "nbformat_minor": 0
}
