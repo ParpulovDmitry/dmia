{
 "cells": [
  {
   "cell_type": "code",
   "execution_count": 2,
   "metadata": {
    "collapsed": false
   },
   "outputs": [
    {
     "name": "stderr",
     "output_type": "stream",
     "text": [
      "/home/y.romanikhin/.virtualenvs/venv/lib/python2.7/site-packages/sklearn/cross_validation.py:44: DeprecationWarning: This module was deprecated in version 0.18 in favor of the model_selection module into which all the refactored classes and functions are moved. Also note that the interface of the new CV iterators are different from that of this module. This module will be removed in 0.20.\n",
      "  \"This module will be removed in 0.20.\", DeprecationWarning)\n"
     ]
    }
   ],
   "source": [
    "import numpy as np\n",
    "import pandas as pd\n",
    "from sklearn.linear_model import LinearRegression\n",
    "from sklearn.cross_validation import cross_val_score\n",
    "from sklearn.feature_extraction.text import HashingVectorizer"
   ]
  },
  {
   "cell_type": "markdown",
   "metadata": {},
   "source": [
    "## Подготовка данных (urls)"
   ]
  },
  {
   "cell_type": "code",
   "execution_count": 82,
   "metadata": {
    "collapsed": false
   },
   "outputs": [],
   "source": [
    "urls_train_df = pd.read_csv('data/url_domain_train', header=None, delimiter='\\t')"
   ]
  },
  {
   "cell_type": "code",
   "execution_count": 83,
   "metadata": {
    "collapsed": false
   },
   "outputs": [
    {
     "data": {
      "text/html": [
       "<div>\n",
       "<table border=\"1\" class=\"dataframe\">\n",
       "  <thead>\n",
       "    <tr style=\"text-align: right;\">\n",
       "      <th></th>\n",
       "      <th>0</th>\n",
       "      <th>1</th>\n",
       "      <th>2</th>\n",
       "    </tr>\n",
       "  </thead>\n",
       "  <tbody>\n",
       "    <tr>\n",
       "      <th>0</th>\n",
       "      <td>000000014B60815F65B38258011B6C01</td>\n",
       "      <td>login.rutracker.org</td>\n",
       "      <td>1</td>\n",
       "    </tr>\n",
       "    <tr>\n",
       "      <th>1</th>\n",
       "      <td>000000014B60815F65B38258011B6C01</td>\n",
       "      <td>rutracker.org</td>\n",
       "      <td>4</td>\n",
       "    </tr>\n",
       "    <tr>\n",
       "      <th>2</th>\n",
       "      <td>000000014C03DA2A47AC433A0C755201</td>\n",
       "      <td>admin.tour-spb.net</td>\n",
       "      <td>1</td>\n",
       "    </tr>\n",
       "    <tr>\n",
       "      <th>3</th>\n",
       "      <td>000000014C03DA2A47AC433A0C755201</td>\n",
       "      <td>czinfo.ru</td>\n",
       "      <td>1</td>\n",
       "    </tr>\n",
       "    <tr>\n",
       "      <th>4</th>\n",
       "      <td>000000014C03DA2A47AC433A0C755201</td>\n",
       "      <td>forumsostav.ru</td>\n",
       "      <td>1</td>\n",
       "    </tr>\n",
       "  </tbody>\n",
       "</table>\n",
       "</div>"
      ],
      "text/plain": [
       "                                  0                    1  2\n",
       "0  000000014B60815F65B38258011B6C01  login.rutracker.org  1\n",
       "1  000000014B60815F65B38258011B6C01        rutracker.org  4\n",
       "2  000000014C03DA2A47AC433A0C755201   admin.tour-spb.net  1\n",
       "3  000000014C03DA2A47AC433A0C755201            czinfo.ru  1\n",
       "4  000000014C03DA2A47AC433A0C755201       forumsostav.ru  1"
      ]
     },
     "execution_count": 83,
     "metadata": {},
     "output_type": "execute_result"
    }
   ],
   "source": [
    "urls_train_df.head()"
   ]
  },
  {
   "cell_type": "code",
   "execution_count": 84,
   "metadata": {
    "collapsed": false
   },
   "outputs": [],
   "source": [
    "urls_train_df.columns = ['Id', 'url', 'count']\n",
    "urls_train_df = urls_train_df[['Id', 'url']]"
   ]
  },
  {
   "cell_type": "code",
   "execution_count": 85,
   "metadata": {
    "collapsed": false
   },
   "outputs": [
    {
     "data": {
      "text/html": [
       "<div>\n",
       "<table border=\"1\" class=\"dataframe\">\n",
       "  <thead>\n",
       "    <tr style=\"text-align: right;\">\n",
       "      <th></th>\n",
       "      <th>Id</th>\n",
       "      <th>url</th>\n",
       "    </tr>\n",
       "  </thead>\n",
       "  <tbody>\n",
       "    <tr>\n",
       "      <th>0</th>\n",
       "      <td>000000014B60815F65B38258011B6C01</td>\n",
       "      <td>login.rutracker.org</td>\n",
       "    </tr>\n",
       "    <tr>\n",
       "      <th>1</th>\n",
       "      <td>000000014B60815F65B38258011B6C01</td>\n",
       "      <td>rutracker.org</td>\n",
       "    </tr>\n",
       "    <tr>\n",
       "      <th>2</th>\n",
       "      <td>000000014C03DA2A47AC433A0C755201</td>\n",
       "      <td>admin.tour-spb.net</td>\n",
       "    </tr>\n",
       "    <tr>\n",
       "      <th>3</th>\n",
       "      <td>000000014C03DA2A47AC433A0C755201</td>\n",
       "      <td>czinfo.ru</td>\n",
       "    </tr>\n",
       "    <tr>\n",
       "      <th>4</th>\n",
       "      <td>000000014C03DA2A47AC433A0C755201</td>\n",
       "      <td>forumsostav.ru</td>\n",
       "    </tr>\n",
       "  </tbody>\n",
       "</table>\n",
       "</div>"
      ],
      "text/plain": [
       "                                 Id                  url\n",
       "0  000000014B60815F65B38258011B6C01  login.rutracker.org\n",
       "1  000000014B60815F65B38258011B6C01        rutracker.org\n",
       "2  000000014C03DA2A47AC433A0C755201   admin.tour-spb.net\n",
       "3  000000014C03DA2A47AC433A0C755201            czinfo.ru\n",
       "4  000000014C03DA2A47AC433A0C755201       forumsostav.ru"
      ]
     },
     "execution_count": 85,
     "metadata": {},
     "output_type": "execute_result"
    }
   ],
   "source": [
    "urls_train_df.head()"
   ]
  },
  {
   "cell_type": "code",
   "execution_count": 86,
   "metadata": {
    "collapsed": false
   },
   "outputs": [],
   "source": [
    "age_train_df = pd.read_csv('data/age_profile_train', header=None, delimiter='\\t')\n",
    "age_train_df.columns = ['Id', 'age']"
   ]
  },
  {
   "cell_type": "code",
   "execution_count": 87,
   "metadata": {
    "collapsed": false
   },
   "outputs": [
    {
     "data": {
      "text/html": [
       "<div>\n",
       "<table border=\"1\" class=\"dataframe\">\n",
       "  <thead>\n",
       "    <tr style=\"text-align: right;\">\n",
       "      <th></th>\n",
       "      <th>Id</th>\n",
       "      <th>age</th>\n",
       "    </tr>\n",
       "  </thead>\n",
       "  <tbody>\n",
       "    <tr>\n",
       "      <th>0</th>\n",
       "      <td>000000013CB5719C0000A2C90002C101</td>\n",
       "      <td>53</td>\n",
       "    </tr>\n",
       "    <tr>\n",
       "      <th>1</th>\n",
       "      <td>00000001442BE24000001B7D00F50801</td>\n",
       "      <td>48</td>\n",
       "    </tr>\n",
       "    <tr>\n",
       "      <th>2</th>\n",
       "      <td>00000001448580F800003F1B31FB0901</td>\n",
       "      <td>28</td>\n",
       "    </tr>\n",
       "    <tr>\n",
       "      <th>3</th>\n",
       "      <td>0000000145BDB2FF000157971645E901</td>\n",
       "      <td>44</td>\n",
       "    </tr>\n",
       "    <tr>\n",
       "      <th>4</th>\n",
       "      <td>000000014602771F0000DB9359714C01</td>\n",
       "      <td>48</td>\n",
       "    </tr>\n",
       "  </tbody>\n",
       "</table>\n",
       "</div>"
      ],
      "text/plain": [
       "                                 Id  age\n",
       "0  000000013CB5719C0000A2C90002C101   53\n",
       "1  00000001442BE24000001B7D00F50801   48\n",
       "2  00000001448580F800003F1B31FB0901   28\n",
       "3  0000000145BDB2FF000157971645E901   44\n",
       "4  000000014602771F0000DB9359714C01   48"
      ]
     },
     "execution_count": 87,
     "metadata": {},
     "output_type": "execute_result"
    }
   ],
   "source": [
    "age_train_df.head()"
   ]
  },
  {
   "cell_type": "code",
   "execution_count": 88,
   "metadata": {
    "collapsed": false,
    "scrolled": false
   },
   "outputs": [],
   "source": [
    "train_df = urls_train_df.merge(age_train_df, on='Id', how='left')"
   ]
  },
  {
   "cell_type": "code",
   "execution_count": 89,
   "metadata": {
    "collapsed": false
   },
   "outputs": [],
   "source": [
    "train_df = train_df.sort_values(by=\"Id\")"
   ]
  },
  {
   "cell_type": "code",
   "execution_count": 90,
   "metadata": {
    "collapsed": false
   },
   "outputs": [
    {
     "data": {
      "text/html": [
       "<div>\n",
       "<table border=\"1\" class=\"dataframe\">\n",
       "  <thead>\n",
       "    <tr style=\"text-align: right;\">\n",
       "      <th></th>\n",
       "      <th>Id</th>\n",
       "      <th>url</th>\n",
       "      <th>age</th>\n",
       "    </tr>\n",
       "  </thead>\n",
       "  <tbody>\n",
       "    <tr>\n",
       "      <th>771156</th>\n",
       "      <td>000000013CB5719C0000A2C90002C101</td>\n",
       "      <td>mail.rambler.ru</td>\n",
       "      <td>53</td>\n",
       "    </tr>\n",
       "    <tr>\n",
       "      <th>771157</th>\n",
       "      <td>000000013CB5719C0000A2C90002C101</td>\n",
       "      <td>r0.ru</td>\n",
       "      <td>53</td>\n",
       "    </tr>\n",
       "    <tr>\n",
       "      <th>771155</th>\n",
       "      <td>000000013CB5719C0000A2C90002C101</td>\n",
       "      <td>id.rambler.ru</td>\n",
       "      <td>53</td>\n",
       "    </tr>\n",
       "    <tr>\n",
       "      <th>1218021</th>\n",
       "      <td>00000001442BE24000001B7D00F50801</td>\n",
       "      <td>pfrf.ru</td>\n",
       "      <td>48</td>\n",
       "    </tr>\n",
       "    <tr>\n",
       "      <th>1218022</th>\n",
       "      <td>00000001442BE24000001B7D00F50801</td>\n",
       "      <td>photography-on-the.ru</td>\n",
       "      <td>48</td>\n",
       "    </tr>\n",
       "  </tbody>\n",
       "</table>\n",
       "</div>"
      ],
      "text/plain": [
       "                                       Id                    url  age\n",
       "771156   000000013CB5719C0000A2C90002C101        mail.rambler.ru   53\n",
       "771157   000000013CB5719C0000A2C90002C101                  r0.ru   53\n",
       "771155   000000013CB5719C0000A2C90002C101          id.rambler.ru   53\n",
       "1218021  00000001442BE24000001B7D00F50801                pfrf.ru   48\n",
       "1218022  00000001442BE24000001B7D00F50801  photography-on-the.ru   48"
      ]
     },
     "execution_count": 90,
     "metadata": {},
     "output_type": "execute_result"
    }
   ],
   "source": [
    "train_df.head()"
   ]
  },
  {
   "cell_type": "code",
   "execution_count": 93,
   "metadata": {
    "collapsed": true
   },
   "outputs": [],
   "source": [
    "train_df[\"decade\"] = train_df.age.apply(lambda x: int(np.floor(x/10)))"
   ]
  },
  {
   "cell_type": "code",
   "execution_count": 94,
   "metadata": {
    "collapsed": false
   },
   "outputs": [
    {
     "name": "stdout",
     "output_type": "stream",
     "text": [
      "CPU times: user 851 ms, sys: 0 ns, total: 851 ms\n",
      "Wall time: 849 ms\n"
     ]
    }
   ],
   "source": [
    "%%time\n",
    "aggreg = train_df.groupby([\"url\", \"decade\"]).age.count().unstack()\n",
    "aggreg = aggreg.fillna(0)\n",
    "aggreg = aggreg.reset_index()"
   ]
  },
  {
   "cell_type": "code",
   "execution_count": 95,
   "metadata": {
    "collapsed": false
   },
   "outputs": [],
   "source": [
    "aggreg[\"all_cnt\"] = aggreg[aggreg.columns[1:]].sum(axis=1)"
   ]
  },
  {
   "cell_type": "code",
   "execution_count": 96,
   "metadata": {
    "collapsed": false
   },
   "outputs": [
    {
     "data": {
      "text/html": [
       "<div>\n",
       "<table border=\"1\" class=\"dataframe\">\n",
       "  <thead>\n",
       "    <tr style=\"text-align: right;\">\n",
       "      <th>decade</th>\n",
       "      <th>url</th>\n",
       "      <th>0</th>\n",
       "      <th>1</th>\n",
       "      <th>2</th>\n",
       "      <th>3</th>\n",
       "      <th>4</th>\n",
       "      <th>5</th>\n",
       "      <th>6</th>\n",
       "      <th>7</th>\n",
       "      <th>8</th>\n",
       "      <th>9</th>\n",
       "      <th>all_cnt</th>\n",
       "    </tr>\n",
       "  </thead>\n",
       "  <tbody>\n",
       "    <tr>\n",
       "      <th>0</th>\n",
       "      <td>0-1.a100.nthosting.ru</td>\n",
       "      <td>1.0</td>\n",
       "      <td>0.0</td>\n",
       "      <td>2.0</td>\n",
       "      <td>0.0</td>\n",
       "      <td>0.0</td>\n",
       "      <td>0.0</td>\n",
       "      <td>0.0</td>\n",
       "      <td>0.0</td>\n",
       "      <td>0.0</td>\n",
       "      <td>0.0</td>\n",
       "      <td>3.0</td>\n",
       "    </tr>\n",
       "    <tr>\n",
       "      <th>1</th>\n",
       "      <td>0-1.ru</td>\n",
       "      <td>5.0</td>\n",
       "      <td>2.0</td>\n",
       "      <td>37.0</td>\n",
       "      <td>61.0</td>\n",
       "      <td>38.0</td>\n",
       "      <td>24.0</td>\n",
       "      <td>8.0</td>\n",
       "      <td>1.0</td>\n",
       "      <td>0.0</td>\n",
       "      <td>0.0</td>\n",
       "      <td>176.0</td>\n",
       "    </tr>\n",
       "    <tr>\n",
       "      <th>2</th>\n",
       "      <td>0-15kdm.ru</td>\n",
       "      <td>0.0</td>\n",
       "      <td>0.0</td>\n",
       "      <td>1.0</td>\n",
       "      <td>0.0</td>\n",
       "      <td>0.0</td>\n",
       "      <td>0.0</td>\n",
       "      <td>0.0</td>\n",
       "      <td>0.0</td>\n",
       "      <td>0.0</td>\n",
       "      <td>0.0</td>\n",
       "      <td>1.0</td>\n",
       "    </tr>\n",
       "    <tr>\n",
       "      <th>3</th>\n",
       "      <td>0-3.ru</td>\n",
       "      <td>0.0</td>\n",
       "      <td>0.0</td>\n",
       "      <td>0.0</td>\n",
       "      <td>0.0</td>\n",
       "      <td>0.0</td>\n",
       "      <td>1.0</td>\n",
       "      <td>0.0</td>\n",
       "      <td>0.0</td>\n",
       "      <td>0.0</td>\n",
       "      <td>0.0</td>\n",
       "      <td>1.0</td>\n",
       "    </tr>\n",
       "    <tr>\n",
       "      <th>4</th>\n",
       "      <td>0-360.ru</td>\n",
       "      <td>0.0</td>\n",
       "      <td>0.0</td>\n",
       "      <td>0.0</td>\n",
       "      <td>1.0</td>\n",
       "      <td>0.0</td>\n",
       "      <td>0.0</td>\n",
       "      <td>0.0</td>\n",
       "      <td>1.0</td>\n",
       "      <td>0.0</td>\n",
       "      <td>0.0</td>\n",
       "      <td>2.0</td>\n",
       "    </tr>\n",
       "  </tbody>\n",
       "</table>\n",
       "</div>"
      ],
      "text/plain": [
       "decade                    url    0    1     2     3     4     5    6    7  \\\n",
       "0       0-1.a100.nthosting.ru  1.0  0.0   2.0   0.0   0.0   0.0  0.0  0.0   \n",
       "1                      0-1.ru  5.0  2.0  37.0  61.0  38.0  24.0  8.0  1.0   \n",
       "2                  0-15kdm.ru  0.0  0.0   1.0   0.0   0.0   0.0  0.0  0.0   \n",
       "3                      0-3.ru  0.0  0.0   0.0   0.0   0.0   1.0  0.0  0.0   \n",
       "4                    0-360.ru  0.0  0.0   0.0   1.0   0.0   0.0  0.0  1.0   \n",
       "\n",
       "decade    8    9  all_cnt  \n",
       "0       0.0  0.0      3.0  \n",
       "1       0.0  0.0    176.0  \n",
       "2       0.0  0.0      1.0  \n",
       "3       0.0  0.0      1.0  \n",
       "4       0.0  0.0      2.0  "
      ]
     },
     "execution_count": 96,
     "metadata": {},
     "output_type": "execute_result"
    }
   ],
   "source": [
    "aggreg.head()"
   ]
  },
  {
   "cell_type": "code",
   "execution_count": 97,
   "metadata": {
    "collapsed": false
   },
   "outputs": [
    {
     "data": {
      "text/plain": [
       "(130650, 12)"
      ]
     },
     "execution_count": 97,
     "metadata": {},
     "output_type": "execute_result"
    }
   ],
   "source": [
    "aggreg.shape"
   ]
  },
  {
   "cell_type": "code",
   "execution_count": 98,
   "metadata": {
    "collapsed": false
   },
   "outputs": [],
   "source": [
    "aggreg_filt = aggreg   #[aggreg.all_cnt > 0]"
   ]
  },
  {
   "cell_type": "code",
   "execution_count": 99,
   "metadata": {
    "collapsed": false
   },
   "outputs": [
    {
     "data": {
      "text/html": [
       "<div>\n",
       "<table border=\"1\" class=\"dataframe\">\n",
       "  <thead>\n",
       "    <tr style=\"text-align: right;\">\n",
       "      <th>decade</th>\n",
       "      <th>url</th>\n",
       "      <th>0</th>\n",
       "      <th>1</th>\n",
       "      <th>2</th>\n",
       "      <th>3</th>\n",
       "      <th>4</th>\n",
       "      <th>5</th>\n",
       "      <th>6</th>\n",
       "      <th>7</th>\n",
       "      <th>8</th>\n",
       "      <th>9</th>\n",
       "      <th>all_cnt</th>\n",
       "    </tr>\n",
       "  </thead>\n",
       "  <tbody>\n",
       "    <tr>\n",
       "      <th>0</th>\n",
       "      <td>0-1.a100.nthosting.ru</td>\n",
       "      <td>1.0</td>\n",
       "      <td>0.0</td>\n",
       "      <td>2.0</td>\n",
       "      <td>0.0</td>\n",
       "      <td>0.0</td>\n",
       "      <td>0.0</td>\n",
       "      <td>0.0</td>\n",
       "      <td>0.0</td>\n",
       "      <td>0.0</td>\n",
       "      <td>0.0</td>\n",
       "      <td>3.0</td>\n",
       "    </tr>\n",
       "    <tr>\n",
       "      <th>1</th>\n",
       "      <td>0-1.ru</td>\n",
       "      <td>5.0</td>\n",
       "      <td>2.0</td>\n",
       "      <td>37.0</td>\n",
       "      <td>61.0</td>\n",
       "      <td>38.0</td>\n",
       "      <td>24.0</td>\n",
       "      <td>8.0</td>\n",
       "      <td>1.0</td>\n",
       "      <td>0.0</td>\n",
       "      <td>0.0</td>\n",
       "      <td>176.0</td>\n",
       "    </tr>\n",
       "    <tr>\n",
       "      <th>2</th>\n",
       "      <td>0-15kdm.ru</td>\n",
       "      <td>0.0</td>\n",
       "      <td>0.0</td>\n",
       "      <td>1.0</td>\n",
       "      <td>0.0</td>\n",
       "      <td>0.0</td>\n",
       "      <td>0.0</td>\n",
       "      <td>0.0</td>\n",
       "      <td>0.0</td>\n",
       "      <td>0.0</td>\n",
       "      <td>0.0</td>\n",
       "      <td>1.0</td>\n",
       "    </tr>\n",
       "    <tr>\n",
       "      <th>3</th>\n",
       "      <td>0-3.ru</td>\n",
       "      <td>0.0</td>\n",
       "      <td>0.0</td>\n",
       "      <td>0.0</td>\n",
       "      <td>0.0</td>\n",
       "      <td>0.0</td>\n",
       "      <td>1.0</td>\n",
       "      <td>0.0</td>\n",
       "      <td>0.0</td>\n",
       "      <td>0.0</td>\n",
       "      <td>0.0</td>\n",
       "      <td>1.0</td>\n",
       "    </tr>\n",
       "    <tr>\n",
       "      <th>4</th>\n",
       "      <td>0-360.ru</td>\n",
       "      <td>0.0</td>\n",
       "      <td>0.0</td>\n",
       "      <td>0.0</td>\n",
       "      <td>1.0</td>\n",
       "      <td>0.0</td>\n",
       "      <td>0.0</td>\n",
       "      <td>0.0</td>\n",
       "      <td>1.0</td>\n",
       "      <td>0.0</td>\n",
       "      <td>0.0</td>\n",
       "      <td>2.0</td>\n",
       "    </tr>\n",
       "  </tbody>\n",
       "</table>\n",
       "</div>"
      ],
      "text/plain": [
       "decade                    url    0    1     2     3     4     5    6    7  \\\n",
       "0       0-1.a100.nthosting.ru  1.0  0.0   2.0   0.0   0.0   0.0  0.0  0.0   \n",
       "1                      0-1.ru  5.0  2.0  37.0  61.0  38.0  24.0  8.0  1.0   \n",
       "2                  0-15kdm.ru  0.0  0.0   1.0   0.0   0.0   0.0  0.0  0.0   \n",
       "3                      0-3.ru  0.0  0.0   0.0   0.0   0.0   1.0  0.0  0.0   \n",
       "4                    0-360.ru  0.0  0.0   0.0   1.0   0.0   0.0  0.0  1.0   \n",
       "\n",
       "decade    8    9  all_cnt  \n",
       "0       0.0  0.0      3.0  \n",
       "1       0.0  0.0    176.0  \n",
       "2       0.0  0.0      1.0  \n",
       "3       0.0  0.0      1.0  \n",
       "4       0.0  0.0      2.0  "
      ]
     },
     "execution_count": 99,
     "metadata": {},
     "output_type": "execute_result"
    }
   ],
   "source": [
    "aggreg_filt.head()"
   ]
  },
  {
   "cell_type": "code",
   "execution_count": 100,
   "metadata": {
    "collapsed": false
   },
   "outputs": [
    {
     "data": {
      "text/plain": [
       "(130650, 12)"
      ]
     },
     "execution_count": 100,
     "metadata": {},
     "output_type": "execute_result"
    }
   ],
   "source": [
    "aggreg_filt.shape"
   ]
  },
  {
   "cell_type": "code",
   "execution_count": 101,
   "metadata": {
    "collapsed": false
   },
   "outputs": [
    {
     "data": {
      "text/plain": [
       "(2046869, 2)"
      ]
     },
     "execution_count": 101,
     "metadata": {},
     "output_type": "execute_result"
    }
   ],
   "source": [
    "urls_train_df.shape"
   ]
  },
  {
   "cell_type": "code",
   "execution_count": 102,
   "metadata": {
    "collapsed": false
   },
   "outputs": [],
   "source": [
    "all_set = urls_train_df.merge(aggreg_filt, how=\"outer\")\n",
    "all_set = all_set.sort_values(by=\"Id\")"
   ]
  },
  {
   "cell_type": "code",
   "execution_count": 103,
   "metadata": {
    "collapsed": false
   },
   "outputs": [],
   "source": [
    "aggr_set = all_set.groupby(\"Id\").sum()"
   ]
  },
  {
   "cell_type": "code",
   "execution_count": 104,
   "metadata": {
    "collapsed": true
   },
   "outputs": [],
   "source": [
    "age_train_df = pd.read_csv('data/age_profile_train', header=None, delimiter='\\t')\n",
    "age_train_df.columns = ['Id', 'age']"
   ]
  },
  {
   "cell_type": "code",
   "execution_count": 105,
   "metadata": {
    "collapsed": false
   },
   "outputs": [
    {
     "data": {
      "text/plain": [
       "(118679, 2)"
      ]
     },
     "execution_count": 105,
     "metadata": {},
     "output_type": "execute_result"
    }
   ],
   "source": [
    "age_train_df.shape"
   ]
  },
  {
   "cell_type": "code",
   "execution_count": 106,
   "metadata": {
    "collapsed": false
   },
   "outputs": [
    {
     "data": {
      "text/html": [
       "<div>\n",
       "<table border=\"1\" class=\"dataframe\">\n",
       "  <thead>\n",
       "    <tr style=\"text-align: right;\">\n",
       "      <th></th>\n",
       "      <th>Id</th>\n",
       "      <th>age</th>\n",
       "    </tr>\n",
       "  </thead>\n",
       "  <tbody>\n",
       "    <tr>\n",
       "      <th>0</th>\n",
       "      <td>000000013CB5719C0000A2C90002C101</td>\n",
       "      <td>53</td>\n",
       "    </tr>\n",
       "    <tr>\n",
       "      <th>1</th>\n",
       "      <td>00000001442BE24000001B7D00F50801</td>\n",
       "      <td>48</td>\n",
       "    </tr>\n",
       "    <tr>\n",
       "      <th>2</th>\n",
       "      <td>00000001448580F800003F1B31FB0901</td>\n",
       "      <td>28</td>\n",
       "    </tr>\n",
       "    <tr>\n",
       "      <th>3</th>\n",
       "      <td>0000000145BDB2FF000157971645E901</td>\n",
       "      <td>44</td>\n",
       "    </tr>\n",
       "    <tr>\n",
       "      <th>4</th>\n",
       "      <td>000000014602771F0000DB9359714C01</td>\n",
       "      <td>48</td>\n",
       "    </tr>\n",
       "  </tbody>\n",
       "</table>\n",
       "</div>"
      ],
      "text/plain": [
       "                                 Id  age\n",
       "0  000000013CB5719C0000A2C90002C101   53\n",
       "1  00000001442BE24000001B7D00F50801   48\n",
       "2  00000001448580F800003F1B31FB0901   28\n",
       "3  0000000145BDB2FF000157971645E901   44\n",
       "4  000000014602771F0000DB9359714C01   48"
      ]
     },
     "execution_count": 106,
     "metadata": {},
     "output_type": "execute_result"
    }
   ],
   "source": [
    "age_train_df.head()"
   ]
  },
  {
   "cell_type": "code",
   "execution_count": 47,
   "metadata": {
    "collapsed": false
   },
   "outputs": [],
   "source": [
    "allset = aggr_set.reset_index().merge(age_train_df, how=\"left\")"
   ]
  },
  {
   "cell_type": "code",
   "execution_count": 32,
   "metadata": {
    "collapsed": false
   },
   "outputs": [
    {
     "data": {
      "text/plain": [
       "(118603, 102)"
      ]
     },
     "execution_count": 32,
     "metadata": {},
     "output_type": "execute_result"
    }
   ],
   "source": [
    "allset.shape"
   ]
  },
  {
   "cell_type": "code",
   "execution_count": 48,
   "metadata": {
    "collapsed": false
   },
   "outputs": [],
   "source": [
    "allset.to_csv(\"allset_prob_urls_20.csv\", index=False)"
   ]
  },
  {
   "cell_type": "code",
   "execution_count": null,
   "metadata": {
    "collapsed": true
   },
   "outputs": [],
   "source": [
    "allset"
   ]
  },
  {
   "cell_type": "code",
   "execution_count": null,
   "metadata": {
    "collapsed": true
   },
   "outputs": [],
   "source": []
  },
  {
   "cell_type": "markdown",
   "metadata": {
    "collapsed": true
   },
   "source": [
    "посмотрим количество урлов в зависимости от возраста (молодые - чаще?)"
   ]
  },
  {
   "cell_type": "code",
   "execution_count": 7,
   "metadata": {
    "collapsed": false
   },
   "outputs": [],
   "source": [
    "urls_train_df = pd.read_csv('data/url_domain_train', header=None, delimiter='\\t')\n",
    "urls_train_df.columns = ['Id', 'url', 'Count']"
   ]
  },
  {
   "cell_type": "code",
   "execution_count": 4,
   "metadata": {
    "collapsed": false
   },
   "outputs": [
    {
     "data": {
      "text/html": [
       "<div>\n",
       "<table border=\"1\" class=\"dataframe\">\n",
       "  <thead>\n",
       "    <tr style=\"text-align: right;\">\n",
       "      <th></th>\n",
       "      <th>Id</th>\n",
       "      <th>url</th>\n",
       "      <th>count</th>\n",
       "    </tr>\n",
       "  </thead>\n",
       "  <tbody>\n",
       "    <tr>\n",
       "      <th>0</th>\n",
       "      <td>000000014B60815F65B38258011B6C01</td>\n",
       "      <td>login.rutracker.org</td>\n",
       "      <td>1</td>\n",
       "    </tr>\n",
       "    <tr>\n",
       "      <th>1</th>\n",
       "      <td>000000014B60815F65B38258011B6C01</td>\n",
       "      <td>rutracker.org</td>\n",
       "      <td>4</td>\n",
       "    </tr>\n",
       "    <tr>\n",
       "      <th>2</th>\n",
       "      <td>000000014C03DA2A47AC433A0C755201</td>\n",
       "      <td>admin.tour-spb.net</td>\n",
       "      <td>1</td>\n",
       "    </tr>\n",
       "    <tr>\n",
       "      <th>3</th>\n",
       "      <td>000000014C03DA2A47AC433A0C755201</td>\n",
       "      <td>czinfo.ru</td>\n",
       "      <td>1</td>\n",
       "    </tr>\n",
       "    <tr>\n",
       "      <th>4</th>\n",
       "      <td>000000014C03DA2A47AC433A0C755201</td>\n",
       "      <td>forumsostav.ru</td>\n",
       "      <td>1</td>\n",
       "    </tr>\n",
       "  </tbody>\n",
       "</table>\n",
       "</div>"
      ],
      "text/plain": [
       "                                 Id                  url  count\n",
       "0  000000014B60815F65B38258011B6C01  login.rutracker.org      1\n",
       "1  000000014B60815F65B38258011B6C01        rutracker.org      4\n",
       "2  000000014C03DA2A47AC433A0C755201   admin.tour-spb.net      1\n",
       "3  000000014C03DA2A47AC433A0C755201            czinfo.ru      1\n",
       "4  000000014C03DA2A47AC433A0C755201       forumsostav.ru      1"
      ]
     },
     "execution_count": 4,
     "metadata": {},
     "output_type": "execute_result"
    }
   ],
   "source": [
    "urls_train_df.head()"
   ]
  },
  {
   "cell_type": "code",
   "execution_count": 11,
   "metadata": {
    "collapsed": false
   },
   "outputs": [],
   "source": [
    "freq_url = urls_train_df.groupby(\"Id\").Count.sum().reset_index()"
   ]
  },
  {
   "cell_type": "code",
   "execution_count": 12,
   "metadata": {
    "collapsed": false
   },
   "outputs": [
    {
     "data": {
      "text/html": [
       "<div>\n",
       "<table border=\"1\" class=\"dataframe\">\n",
       "  <thead>\n",
       "    <tr style=\"text-align: right;\">\n",
       "      <th></th>\n",
       "      <th>Id</th>\n",
       "      <th>Count</th>\n",
       "    </tr>\n",
       "  </thead>\n",
       "  <tbody>\n",
       "    <tr>\n",
       "      <th>0</th>\n",
       "      <td>000000013CB5719C0000A2C90002C101</td>\n",
       "      <td>3</td>\n",
       "    </tr>\n",
       "    <tr>\n",
       "      <th>1</th>\n",
       "      <td>00000001442BE24000001B7D00F50801</td>\n",
       "      <td>83</td>\n",
       "    </tr>\n",
       "    <tr>\n",
       "      <th>2</th>\n",
       "      <td>00000001448580F800003F1B31FB0901</td>\n",
       "      <td>1</td>\n",
       "    </tr>\n",
       "    <tr>\n",
       "      <th>3</th>\n",
       "      <td>0000000145BDB2FF000157971645E901</td>\n",
       "      <td>12</td>\n",
       "    </tr>\n",
       "    <tr>\n",
       "      <th>4</th>\n",
       "      <td>000000014602771F0000DB9359714C01</td>\n",
       "      <td>11</td>\n",
       "    </tr>\n",
       "  </tbody>\n",
       "</table>\n",
       "</div>"
      ],
      "text/plain": [
       "                                 Id  Count\n",
       "0  000000013CB5719C0000A2C90002C101      3\n",
       "1  00000001442BE24000001B7D00F50801     83\n",
       "2  00000001448580F800003F1B31FB0901      1\n",
       "3  0000000145BDB2FF000157971645E901     12\n",
       "4  000000014602771F0000DB9359714C01     11"
      ]
     },
     "execution_count": 12,
     "metadata": {},
     "output_type": "execute_result"
    }
   ],
   "source": [
    "freq_url.head()"
   ]
  },
  {
   "cell_type": "code",
   "execution_count": 16,
   "metadata": {
    "collapsed": false
   },
   "outputs": [],
   "source": [
    "merged = age_train_df.merge(freq_url, on='Id', how='left')"
   ]
  },
  {
   "cell_type": "code",
   "execution_count": 32,
   "metadata": {
    "collapsed": false
   },
   "outputs": [],
   "source": [
    "aggr_freq_urls = pd.concat([merged[[\"age\", \"Count\"]].groupby(\"age\").Count.mean(), merged[[\"age\", \"Count\"]].groupby(\"age\").Count.count()], axis=1)\n",
    "aggr_freq_urls.columns = [\"Mean_cnt\", \"Cnt\"]"
   ]
  },
  {
   "cell_type": "code",
   "execution_count": 33,
   "metadata": {
    "collapsed": false
   },
   "outputs": [
    {
     "data": {
      "text/html": [
       "<div>\n",
       "<table border=\"1\" class=\"dataframe\">\n",
       "  <thead>\n",
       "    <tr style=\"text-align: right;\">\n",
       "      <th></th>\n",
       "      <th>Mean_cnt</th>\n",
       "      <th>Cnt</th>\n",
       "    </tr>\n",
       "    <tr>\n",
       "      <th>age</th>\n",
       "      <th></th>\n",
       "      <th></th>\n",
       "    </tr>\n",
       "  </thead>\n",
       "  <tbody>\n",
       "    <tr>\n",
       "      <th>0</th>\n",
       "      <td>33.448276</td>\n",
       "      <td>29</td>\n",
       "    </tr>\n",
       "    <tr>\n",
       "      <th>1</th>\n",
       "      <td>38.648734</td>\n",
       "      <td>316</td>\n",
       "    </tr>\n",
       "    <tr>\n",
       "      <th>2</th>\n",
       "      <td>35.364431</td>\n",
       "      <td>343</td>\n",
       "    </tr>\n",
       "    <tr>\n",
       "      <th>3</th>\n",
       "      <td>39.189394</td>\n",
       "      <td>396</td>\n",
       "    </tr>\n",
       "    <tr>\n",
       "      <th>4</th>\n",
       "      <td>42.265873</td>\n",
       "      <td>252</td>\n",
       "    </tr>\n",
       "  </tbody>\n",
       "</table>\n",
       "</div>"
      ],
      "text/plain": [
       "      Mean_cnt  Cnt\n",
       "age                \n",
       "0    33.448276   29\n",
       "1    38.648734  316\n",
       "2    35.364431  343\n",
       "3    39.189394  396\n",
       "4    42.265873  252"
      ]
     },
     "execution_count": 33,
     "metadata": {},
     "output_type": "execute_result"
    }
   ],
   "source": [
    "aggr_freq_urls.head()"
   ]
  },
  {
   "cell_type": "code",
   "execution_count": 41,
   "metadata": {
    "collapsed": false
   },
   "outputs": [
    {
     "data": {
      "text/plain": [
       "<matplotlib.axes._subplots.AxesSubplot at 0x12686d50>"
      ]
     },
     "execution_count": 41,
     "metadata": {},
     "output_type": "execute_result"
    },
    {
     "data": {
      "image/png": "[encoded data removed]",
      "text/plain": [
       "<matplotlib.figure.Figure at 0x113d47d0>"
      ]
     },
     "metadata": {},
     "output_type": "display_data"
    }
   ],
   "source": [
    "%matplotlib inline\n",
    "aggr_freq_urls.Cnt.plot(kind=\"bar\", figsize=(20, 6))   # похоже с гистограммой возрастов"
   ]
  },
  {
   "cell_type": "code",
   "execution_count": 40,
   "metadata": {
    "collapsed": false
   },
   "outputs": [
    {
     "data": {
      "text/plain": [
       "<matplotlib.axes._subplots.AxesSubplot at 0x11bbb8d0>"
      ]
     },
     "execution_count": 40,
     "metadata": {},
     "output_type": "execute_result"
    },
    {
     "data": {
      "image/png": "[encoded data removed]",
      "text/plain": [
       "<matplotlib.figure.Figure at 0xbd9fdd0>"
      ]
     },
     "metadata": {},
     "output_type": "display_data"
    }
   ],
   "source": [
    "aggr_freq_urls.Mean_cnt.plot(kind=\"bar\", figsize=(20, 6))"
   ]
  },
  {
   "cell_type": "code",
   "execution_count": null,
   "metadata": {
    "collapsed": true
   },
   "outputs": [],
   "source": []
  },
  {
   "cell_type": "code",
   "execution_count": null,
   "metadata": {
    "collapsed": true
   },
   "outputs": [],
   "source": []
  },
  {
   "cell_type": "code",
   "execution_count": null,
   "metadata": {
    "collapsed": true
   },
   "outputs": [],
   "source": []
  },
  {
   "cell_type": "code",
   "execution_count": null,
   "metadata": {
    "collapsed": true
   },
   "outputs": [],
   "source": []
  },
  {
   "cell_type": "code",
   "execution_count": null,
   "metadata": {
    "collapsed": true
   },
   "outputs": [],
   "source": []
  },
  {
   "cell_type": "code",
   "execution_count": null,
   "metadata": {
    "collapsed": true
   },
   "outputs": [],
   "source": []
  },
  {
   "cell_type": "code",
   "execution_count": 29,
   "metadata": {
    "collapsed": false
   },
   "outputs": [],
   "source": [
    "lda_model = pd.read_csv(\"readable_model\", sep=\";\")"
   ]
  },
  {
   "cell_type": "code",
   "execution_count": null,
   "metadata": {
    "collapsed": true
   },
   "outputs": [],
   "source": [
    "\"политика/спорт\""
   ]
  },
  {
   "cell_type": "code",
   "execution_count": 44,
   "metadata": {
    "collapsed": false
   },
   "outputs": [
    {
     "data": {
      "text/html": [
       "<div>\n",
       "<table border=\"1\" class=\"dataframe\">\n",
       "  <thead>\n",
       "    <tr style=\"text-align: right;\">\n",
       "      <th></th>\n",
       "      <th>token</th>\n",
       "      <th>class_id</th>\n",
       "      <th>obj_0</th>\n",
       "      <th>obj_1</th>\n",
       "      <th>obj_2</th>\n",
       "      <th>obj_3</th>\n",
       "      <th>obj_4</th>\n",
       "      <th>obj_5</th>\n",
       "      <th>obj_6</th>\n",
       "      <th>obj_7</th>\n",
       "      <th>...</th>\n",
       "      <th>obj_21</th>\n",
       "      <th>obj_22</th>\n",
       "      <th>obj_23</th>\n",
       "      <th>obj_24</th>\n",
       "      <th>obj_25</th>\n",
       "      <th>obj_26</th>\n",
       "      <th>obj_27</th>\n",
       "      <th>obj_28</th>\n",
       "      <th>obj_29</th>\n",
       "      <th>bkg</th>\n",
       "    </tr>\n",
       "  </thead>\n",
       "  <tbody>\n",
       "    <tr>\n",
       "      <th>100478</th>\n",
       "      <td>сирия</td>\n",
       "      <td>Titles</td>\n",
       "      <td>3.132350e-09</td>\n",
       "      <td>5.400350e-09</td>\n",
       "      <td>5.533450e-12</td>\n",
       "      <td>9.969730e-11</td>\n",
       "      <td>1.691460e-14</td>\n",
       "      <td>3.300450e-15</td>\n",
       "      <td>1.289940e-09</td>\n",
       "      <td>3.860630e-15</td>\n",
       "      <td>...</td>\n",
       "      <td>2.318700e-09</td>\n",
       "      <td>3.219250e-16</td>\n",
       "      <td>5.474820e-08</td>\n",
       "      <td>6.470710e-14</td>\n",
       "      <td>0.065570</td>\n",
       "      <td>1.508760e-13</td>\n",
       "      <td>1.221980e-05</td>\n",
       "      <td>3.658670e-10</td>\n",
       "      <td>2.212490e-14</td>\n",
       "      <td>0.000000e+00</td>\n",
       "    </tr>\n",
       "    <tr>\n",
       "      <th>114272</th>\n",
       "      <td>рф</td>\n",
       "      <td>Titles</td>\n",
       "      <td>8.786900e-09</td>\n",
       "      <td>2.537550e-05</td>\n",
       "      <td>2.493590e-12</td>\n",
       "      <td>1.176810e-07</td>\n",
       "      <td>4.969250e-11</td>\n",
       "      <td>5.510030e-10</td>\n",
       "      <td>1.664640e-06</td>\n",
       "      <td>1.582490e-03</td>\n",
       "      <td>...</td>\n",
       "      <td>1.487860e-07</td>\n",
       "      <td>1.453640e-11</td>\n",
       "      <td>5.816160e-06</td>\n",
       "      <td>8.227060e-08</td>\n",
       "      <td>0.061599</td>\n",
       "      <td>9.828410e-10</td>\n",
       "      <td>3.218590e-13</td>\n",
       "      <td>2.370020e-08</td>\n",
       "      <td>1.515920e-15</td>\n",
       "      <td>4.553660e-12</td>\n",
       "    </tr>\n",
       "    <tr>\n",
       "      <th>64762</th>\n",
       "      <td>самолёт</td>\n",
       "      <td>Titles</td>\n",
       "      <td>3.238570e-12</td>\n",
       "      <td>2.624220e-10</td>\n",
       "      <td>3.422960e-10</td>\n",
       "      <td>3.590770e-06</td>\n",
       "      <td>7.999900e-06</td>\n",
       "      <td>1.192830e-16</td>\n",
       "      <td>3.202470e-09</td>\n",
       "      <td>0.000000e+00</td>\n",
       "      <td>...</td>\n",
       "      <td>5.043760e-15</td>\n",
       "      <td>1.546010e-15</td>\n",
       "      <td>3.061940e-10</td>\n",
       "      <td>3.631950e-11</td>\n",
       "      <td>0.034294</td>\n",
       "      <td>2.044160e-12</td>\n",
       "      <td>5.112250e-08</td>\n",
       "      <td>4.827980e-11</td>\n",
       "      <td>3.258420e-16</td>\n",
       "      <td>6.532250e-07</td>\n",
       "    </tr>\n",
       "    <tr>\n",
       "      <th>60858</th>\n",
       "      <td>почему</td>\n",
       "      <td>Titles</td>\n",
       "      <td>5.125020e-06</td>\n",
       "      <td>1.085200e-06</td>\n",
       "      <td>4.362360e-10</td>\n",
       "      <td>3.140830e-10</td>\n",
       "      <td>9.857570e-08</td>\n",
       "      <td>6.498500e-09</td>\n",
       "      <td>5.807070e-07</td>\n",
       "      <td>4.815530e-15</td>\n",
       "      <td>...</td>\n",
       "      <td>6.775770e-09</td>\n",
       "      <td>4.025520e-10</td>\n",
       "      <td>8.992880e-06</td>\n",
       "      <td>1.008580e-07</td>\n",
       "      <td>0.031782</td>\n",
       "      <td>2.533600e-08</td>\n",
       "      <td>1.828920e-07</td>\n",
       "      <td>2.006050e-06</td>\n",
       "      <td>1.313560e-12</td>\n",
       "      <td>3.590800e-07</td>\n",
       "    </tr>\n",
       "    <tr>\n",
       "      <th>107864</th>\n",
       "      <td>при</td>\n",
       "      <td>Titles</td>\n",
       "      <td>2.243090e-08</td>\n",
       "      <td>4.144160e-06</td>\n",
       "      <td>2.638990e-10</td>\n",
       "      <td>1.679710e-07</td>\n",
       "      <td>6.615910e-06</td>\n",
       "      <td>2.494660e-07</td>\n",
       "      <td>9.649180e-09</td>\n",
       "      <td>1.609360e-08</td>\n",
       "      <td>...</td>\n",
       "      <td>6.738620e-09</td>\n",
       "      <td>7.550890e-07</td>\n",
       "      <td>8.109750e-09</td>\n",
       "      <td>1.163110e-12</td>\n",
       "      <td>0.028900</td>\n",
       "      <td>2.728920e-07</td>\n",
       "      <td>2.022870e-07</td>\n",
       "      <td>3.210950e-09</td>\n",
       "      <td>3.488790e-12</td>\n",
       "      <td>4.821320e-11</td>\n",
       "    </tr>\n",
       "    <tr>\n",
       "      <th>154523</th>\n",
       "      <td>турция</td>\n",
       "      <td>Titles</td>\n",
       "      <td>3.784190e-03</td>\n",
       "      <td>6.935750e-03</td>\n",
       "      <td>8.369090e-12</td>\n",
       "      <td>2.730320e-11</td>\n",
       "      <td>1.971660e-13</td>\n",
       "      <td>2.513800e-12</td>\n",
       "      <td>1.708450e-09</td>\n",
       "      <td>1.772140e-11</td>\n",
       "      <td>...</td>\n",
       "      <td>5.288970e-05</td>\n",
       "      <td>5.032010e-10</td>\n",
       "      <td>1.135080e-09</td>\n",
       "      <td>3.796160e-08</td>\n",
       "      <td>0.019568</td>\n",
       "      <td>4.867180e-11</td>\n",
       "      <td>1.472390e-12</td>\n",
       "      <td>4.933100e-08</td>\n",
       "      <td>4.076560e-07</td>\n",
       "      <td>4.286530e-06</td>\n",
       "    </tr>\n",
       "    <tr>\n",
       "      <th>67311</th>\n",
       "      <td>войско</td>\n",
       "      <td>Titles</td>\n",
       "      <td>1.211840e-13</td>\n",
       "      <td>1.645840e-12</td>\n",
       "      <td>4.015780e-13</td>\n",
       "      <td>2.280990e-12</td>\n",
       "      <td>0.000000e+00</td>\n",
       "      <td>1.429170e-16</td>\n",
       "      <td>1.468700e-15</td>\n",
       "      <td>0.000000e+00</td>\n",
       "      <td>...</td>\n",
       "      <td>4.562280e-13</td>\n",
       "      <td>3.502610e-13</td>\n",
       "      <td>1.001690e-14</td>\n",
       "      <td>0.000000e+00</td>\n",
       "      <td>0.017965</td>\n",
       "      <td>0.000000e+00</td>\n",
       "      <td>5.530110e-10</td>\n",
       "      <td>3.320160e-15</td>\n",
       "      <td>0.000000e+00</td>\n",
       "      <td>1.804690e-15</td>\n",
       "    </tr>\n",
       "    <tr>\n",
       "      <th>59688</th>\n",
       "      <td>помощь</td>\n",
       "      <td>Titles</td>\n",
       "      <td>1.098690e-05</td>\n",
       "      <td>1.264950e-07</td>\n",
       "      <td>4.870950e-09</td>\n",
       "      <td>1.185090e-08</td>\n",
       "      <td>1.031870e-08</td>\n",
       "      <td>1.192000e-10</td>\n",
       "      <td>3.402610e-10</td>\n",
       "      <td>1.324910e-08</td>\n",
       "      <td>...</td>\n",
       "      <td>5.183680e-09</td>\n",
       "      <td>7.267280e-10</td>\n",
       "      <td>2.454320e-07</td>\n",
       "      <td>3.797660e-13</td>\n",
       "      <td>0.017016</td>\n",
       "      <td>2.709110e-12</td>\n",
       "      <td>7.876270e-12</td>\n",
       "      <td>1.083820e-07</td>\n",
       "      <td>7.728630e-13</td>\n",
       "      <td>6.548450e-10</td>\n",
       "    </tr>\n",
       "    <tr>\n",
       "      <th>134306</th>\n",
       "      <td>вывод</td>\n",
       "      <td>Titles</td>\n",
       "      <td>5.552030e-15</td>\n",
       "      <td>1.114400e-10</td>\n",
       "      <td>1.056600e-13</td>\n",
       "      <td>2.646820e-12</td>\n",
       "      <td>0.000000e+00</td>\n",
       "      <td>0.000000e+00</td>\n",
       "      <td>2.218940e-11</td>\n",
       "      <td>3.360940e-15</td>\n",
       "      <td>...</td>\n",
       "      <td>3.117800e-12</td>\n",
       "      <td>0.000000e+00</td>\n",
       "      <td>3.713780e-14</td>\n",
       "      <td>8.552590e-15</td>\n",
       "      <td>0.015455</td>\n",
       "      <td>0.000000e+00</td>\n",
       "      <td>1.090900e-09</td>\n",
       "      <td>2.134640e-15</td>\n",
       "      <td>0.000000e+00</td>\n",
       "      <td>0.000000e+00</td>\n",
       "    </tr>\n",
       "    <tr>\n",
       "      <th>61884</th>\n",
       "      <td>сбить</td>\n",
       "      <td>Titles</td>\n",
       "      <td>7.671230e-15</td>\n",
       "      <td>2.278810e-11</td>\n",
       "      <td>0.000000e+00</td>\n",
       "      <td>2.524610e-13</td>\n",
       "      <td>1.663740e-15</td>\n",
       "      <td>2.778030e-12</td>\n",
       "      <td>6.687840e-13</td>\n",
       "      <td>0.000000e+00</td>\n",
       "      <td>...</td>\n",
       "      <td>0.000000e+00</td>\n",
       "      <td>0.000000e+00</td>\n",
       "      <td>2.072360e-11</td>\n",
       "      <td>5.550390e-16</td>\n",
       "      <td>0.012901</td>\n",
       "      <td>4.872200e-13</td>\n",
       "      <td>4.806750e-10</td>\n",
       "      <td>3.413500e-11</td>\n",
       "      <td>0.000000e+00</td>\n",
       "      <td>1.042550e-16</td>\n",
       "    </tr>\n",
       "  </tbody>\n",
       "</table>\n",
       "<p>10 rows × 33 columns</p>\n",
       "</div>"
      ],
      "text/plain": [
       "          token class_id         obj_0         obj_1         obj_2  \\\n",
       "100478    сирия   Titles  3.132350e-09  5.400350e-09  5.533450e-12   \n",
       "114272       рф   Titles  8.786900e-09  2.537550e-05  2.493590e-12   \n",
       "64762   самолёт   Titles  3.238570e-12  2.624220e-10  3.422960e-10   \n",
       "60858    почему   Titles  5.125020e-06  1.085200e-06  4.362360e-10   \n",
       "107864      при   Titles  2.243090e-08  4.144160e-06  2.638990e-10   \n",
       "154523   турция   Titles  3.784190e-03  6.935750e-03  8.369090e-12   \n",
       "67311    войско   Titles  1.211840e-13  1.645840e-12  4.015780e-13   \n",
       "59688    помощь   Titles  1.098690e-05  1.264950e-07  4.870950e-09   \n",
       "134306    вывод   Titles  5.552030e-15  1.114400e-10  1.056600e-13   \n",
       "61884     сбить   Titles  7.671230e-15  2.278810e-11  0.000000e+00   \n",
       "\n",
       "               obj_3         obj_4         obj_5         obj_6         obj_7  \\\n",
       "100478  9.969730e-11  1.691460e-14  3.300450e-15  1.289940e-09  3.860630e-15   \n",
       "114272  1.176810e-07  4.969250e-11  5.510030e-10  1.664640e-06  1.582490e-03   \n",
       "64762   3.590770e-06  7.999900e-06  1.192830e-16  3.202470e-09  0.000000e+00   \n",
       "60858   3.140830e-10  9.857570e-08  6.498500e-09  5.807070e-07  4.815530e-15   \n",
       "107864  1.679710e-07  6.615910e-06  2.494660e-07  9.649180e-09  1.609360e-08   \n",
       "154523  2.730320e-11  1.971660e-13  2.513800e-12  1.708450e-09  1.772140e-11   \n",
       "67311   2.280990e-12  0.000000e+00  1.429170e-16  1.468700e-15  0.000000e+00   \n",
       "59688   1.185090e-08  1.031870e-08  1.192000e-10  3.402610e-10  1.324910e-08   \n",
       "134306  2.646820e-12  0.000000e+00  0.000000e+00  2.218940e-11  3.360940e-15   \n",
       "61884   2.524610e-13  1.663740e-15  2.778030e-12  6.687840e-13  0.000000e+00   \n",
       "\n",
       "            ...             obj_21        obj_22        obj_23        obj_24  \\\n",
       "100478      ...       2.318700e-09  3.219250e-16  5.474820e-08  6.470710e-14   \n",
       "114272      ...       1.487860e-07  1.453640e-11  5.816160e-06  8.227060e-08   \n",
       "64762       ...       5.043760e-15  1.546010e-15  3.061940e-10  3.631950e-11   \n",
       "60858       ...       6.775770e-09  4.025520e-10  8.992880e-06  1.008580e-07   \n",
       "107864      ...       6.738620e-09  7.550890e-07  8.109750e-09  1.163110e-12   \n",
       "154523      ...       5.288970e-05  5.032010e-10  1.135080e-09  3.796160e-08   \n",
       "67311       ...       4.562280e-13  3.502610e-13  1.001690e-14  0.000000e+00   \n",
       "59688       ...       5.183680e-09  7.267280e-10  2.454320e-07  3.797660e-13   \n",
       "134306      ...       3.117800e-12  0.000000e+00  3.713780e-14  8.552590e-15   \n",
       "61884       ...       0.000000e+00  0.000000e+00  2.072360e-11  5.550390e-16   \n",
       "\n",
       "          obj_25        obj_26        obj_27        obj_28        obj_29  \\\n",
       "100478  0.065570  1.508760e-13  1.221980e-05  3.658670e-10  2.212490e-14   \n",
       "114272  0.061599  9.828410e-10  3.218590e-13  2.370020e-08  1.515920e-15   \n",
       "64762   0.034294  2.044160e-12  5.112250e-08  4.827980e-11  3.258420e-16   \n",
       "60858   0.031782  2.533600e-08  1.828920e-07  2.006050e-06  1.313560e-12   \n",
       "107864  0.028900  2.728920e-07  2.022870e-07  3.210950e-09  3.488790e-12   \n",
       "154523  0.019568  4.867180e-11  1.472390e-12  4.933100e-08  4.076560e-07   \n",
       "67311   0.017965  0.000000e+00  5.530110e-10  3.320160e-15  0.000000e+00   \n",
       "59688   0.017016  2.709110e-12  7.876270e-12  1.083820e-07  7.728630e-13   \n",
       "134306  0.015455  0.000000e+00  1.090900e-09  2.134640e-15  0.000000e+00   \n",
       "61884   0.012901  4.872200e-13  4.806750e-10  3.413500e-11  0.000000e+00   \n",
       "\n",
       "                 bkg  \n",
       "100478  0.000000e+00  \n",
       "114272  4.553660e-12  \n",
       "64762   6.532250e-07  \n",
       "60858   3.590800e-07  \n",
       "107864  4.821320e-11  \n",
       "154523  4.286530e-06  \n",
       "67311   1.804690e-15  \n",
       "59688   6.548450e-10  \n",
       "134306  0.000000e+00  \n",
       "61884   1.042550e-16  \n",
       "\n",
       "[10 rows x 33 columns]"
      ]
     },
     "execution_count": 44,
     "metadata": {},
     "output_type": "execute_result"
    }
   ],
   "source": [
    "lda_model.sort_values(by=\"obj_25\", ascending=False)[:10]"
   ]
  },
  {
   "cell_type": "code",
   "execution_count": null,
   "metadata": {
    "collapsed": true
   },
   "outputs": [],
   "source": []
  },
  {
   "cell_type": "code",
   "execution_count": null,
   "metadata": {
    "collapsed": true
   },
   "outputs": [],
   "source": []
  },
  {
   "cell_type": "markdown",
   "metadata": {},
   "source": [
    "### Create stack"
   ]
  },
  {
   "cell_type": "code",
   "execution_count": 10,
   "metadata": {
    "collapsed": true
   },
   "outputs": [],
   "source": [
    "import matplotlib.pyplot as plt\n",
    "pd.options.display.max_columns = 100\n",
    "\n",
    "%matplotlib inline"
   ]
  },
  {
   "cell_type": "code",
   "execution_count": 214,
   "metadata": {
    "collapsed": true
   },
   "outputs": [],
   "source": [
    "def rmse(x,y):\n",
    "    return np.mean((x - y) ** 2) ** 0.5"
   ]
  },
  {
   "cell_type": "code",
   "execution_count": 215,
   "metadata": {
    "collapsed": true
   },
   "outputs": [],
   "source": [
    "def weight_predict(df):\n",
    "    weights = df.corr()[\"age\"][:-1].values\n",
    "    w = weights/weights.sum()\n",
    "    \n",
    "    #print rmse(df[\"age\"], df[\"pred_age\"])\n",
    "    \n",
    "    return w\n",
    "    #df[\"pred_age\"] = (df.drop(\"age\", axis=1).as_matrix()*w).sum(axis=1)\n",
    "    #print rmse(df[\"age\"], df[\"pred_age\"])\n",
    "    "
   ]
  },
  {
   "cell_type": "code",
   "execution_count": null,
   "metadata": {
    "collapsed": true
   },
   "outputs": [],
   "source": []
  },
  {
   "cell_type": "code",
   "execution_count": 7,
   "metadata": {
    "collapsed": false
   },
   "outputs": [
    {
     "data": {
      "text/html": [
       "<div>\n",
       "<table border=\"1\" class=\"dataframe\">\n",
       "  <thead>\n",
       "    <tr style=\"text-align: right;\">\n",
       "      <th></th>\n",
       "      <th>lr_titles</th>\n",
       "      <th>lr_titles2</th>\n",
       "      <th>tfidf_lr1</th>\n",
       "      <th>rf1</th>\n",
       "      <th>rf2</th>\n",
       "      <th>xgb_regr1</th>\n",
       "      <th>xgb_regr2</th>\n",
       "      <th>lr_urls</th>\n",
       "      <th>lr_urls2</th>\n",
       "      <th>lr_urls3</th>\n",
       "      <th>tfidf_lr2</th>\n",
       "      <th>rf3</th>\n",
       "      <th>rf4</th>\n",
       "      <th>xgb_regr3</th>\n",
       "      <th>xgb_regr4</th>\n",
       "      <th>rf5</th>\n",
       "      <th>xgb_regr5</th>\n",
       "      <th>lr_decades</th>\n",
       "      <th>light1</th>\n",
       "      <th>light2</th>\n",
       "      <th>light3</th>\n",
       "      <th>light4</th>\n",
       "      <th>light5</th>\n",
       "      <th>age</th>\n",
       "    </tr>\n",
       "  </thead>\n",
       "  <tbody>\n",
       "    <tr>\n",
       "      <th>0</th>\n",
       "      <td>36.954034</td>\n",
       "      <td>37.587657</td>\n",
       "      <td>37.352441</td>\n",
       "      <td>38.101732</td>\n",
       "      <td>37.577289</td>\n",
       "      <td>38.555866</td>\n",
       "      <td>37.828114</td>\n",
       "      <td>32.441398</td>\n",
       "      <td>31.495446</td>\n",
       "      <td>32.199672</td>\n",
       "      <td>33.380552</td>\n",
       "      <td>35.527591</td>\n",
       "      <td>35.413735</td>\n",
       "      <td>38.555866</td>\n",
       "      <td>37.828114</td>\n",
       "      <td>36.361488</td>\n",
       "      <td>36.917892</td>\n",
       "      <td>37.524896</td>\n",
       "      <td>39.9837</td>\n",
       "      <td>37.7178</td>\n",
       "      <td>33.2913</td>\n",
       "      <td>32.8655</td>\n",
       "      <td>35.3987</td>\n",
       "      <td>53</td>\n",
       "    </tr>\n",
       "    <tr>\n",
       "      <th>1</th>\n",
       "      <td>45.794741</td>\n",
       "      <td>45.225146</td>\n",
       "      <td>44.835212</td>\n",
       "      <td>45.101997</td>\n",
       "      <td>46.496974</td>\n",
       "      <td>45.985104</td>\n",
       "      <td>47.406273</td>\n",
       "      <td>48.956252</td>\n",
       "      <td>49.160294</td>\n",
       "      <td>48.990912</td>\n",
       "      <td>47.624976</td>\n",
       "      <td>44.599285</td>\n",
       "      <td>44.607050</td>\n",
       "      <td>45.985104</td>\n",
       "      <td>47.406273</td>\n",
       "      <td>47.473686</td>\n",
       "      <td>48.359642</td>\n",
       "      <td>45.137212</td>\n",
       "      <td>48.2135</td>\n",
       "      <td>47.2616</td>\n",
       "      <td>47.3195</td>\n",
       "      <td>47.4347</td>\n",
       "      <td>48.4009</td>\n",
       "      <td>48</td>\n",
       "    </tr>\n",
       "    <tr>\n",
       "      <th>2</th>\n",
       "      <td>33.124688</td>\n",
       "      <td>31.038849</td>\n",
       "      <td>28.891744</td>\n",
       "      <td>33.430389</td>\n",
       "      <td>33.694263</td>\n",
       "      <td>32.415001</td>\n",
       "      <td>32.674854</td>\n",
       "      <td>33.887619</td>\n",
       "      <td>33.954232</td>\n",
       "      <td>33.143510</td>\n",
       "      <td>33.776631</td>\n",
       "      <td>36.136332</td>\n",
       "      <td>35.388930</td>\n",
       "      <td>32.415001</td>\n",
       "      <td>32.674854</td>\n",
       "      <td>25.311225</td>\n",
       "      <td>31.070028</td>\n",
       "      <td>32.531068</td>\n",
       "      <td>33.1372</td>\n",
       "      <td>33.4020</td>\n",
       "      <td>36.6497</td>\n",
       "      <td>33.3600</td>\n",
       "      <td>22.4887</td>\n",
       "      <td>28</td>\n",
       "    </tr>\n",
       "    <tr>\n",
       "      <th>3</th>\n",
       "      <td>34.129991</td>\n",
       "      <td>34.847749</td>\n",
       "      <td>38.879308</td>\n",
       "      <td>34.415176</td>\n",
       "      <td>34.484386</td>\n",
       "      <td>36.912338</td>\n",
       "      <td>36.164139</td>\n",
       "      <td>33.916929</td>\n",
       "      <td>35.248320</td>\n",
       "      <td>32.549132</td>\n",
       "      <td>33.259096</td>\n",
       "      <td>34.147282</td>\n",
       "      <td>34.894998</td>\n",
       "      <td>36.912338</td>\n",
       "      <td>36.164139</td>\n",
       "      <td>33.979250</td>\n",
       "      <td>33.980793</td>\n",
       "      <td>36.347521</td>\n",
       "      <td>35.1471</td>\n",
       "      <td>36.0093</td>\n",
       "      <td>36.2657</td>\n",
       "      <td>34.0589</td>\n",
       "      <td>33.8514</td>\n",
       "      <td>44</td>\n",
       "    </tr>\n",
       "    <tr>\n",
       "      <th>4</th>\n",
       "      <td>32.420218</td>\n",
       "      <td>31.095230</td>\n",
       "      <td>34.840319</td>\n",
       "      <td>31.664870</td>\n",
       "      <td>31.600219</td>\n",
       "      <td>33.893593</td>\n",
       "      <td>32.493324</td>\n",
       "      <td>37.106382</td>\n",
       "      <td>35.821612</td>\n",
       "      <td>38.135550</td>\n",
       "      <td>37.181859</td>\n",
       "      <td>34.672245</td>\n",
       "      <td>35.036889</td>\n",
       "      <td>33.893593</td>\n",
       "      <td>32.493324</td>\n",
       "      <td>39.179764</td>\n",
       "      <td>39.823811</td>\n",
       "      <td>37.026566</td>\n",
       "      <td>32.9087</td>\n",
       "      <td>31.8958</td>\n",
       "      <td>37.0896</td>\n",
       "      <td>35.4248</td>\n",
       "      <td>39.8305</td>\n",
       "      <td>48</td>\n",
       "    </tr>\n",
       "  </tbody>\n",
       "</table>\n",
       "</div>"
      ],
      "text/plain": [
       "   lr_titles  lr_titles2  tfidf_lr1        rf1        rf2  xgb_regr1  \\\n",
       "0  36.954034   37.587657  37.352441  38.101732  37.577289  38.555866   \n",
       "1  45.794741   45.225146  44.835212  45.101997  46.496974  45.985104   \n",
       "2  33.124688   31.038849  28.891744  33.430389  33.694263  32.415001   \n",
       "3  34.129991   34.847749  38.879308  34.415176  34.484386  36.912338   \n",
       "4  32.420218   31.095230  34.840319  31.664870  31.600219  33.893593   \n",
       "\n",
       "   xgb_regr2    lr_urls   lr_urls2   lr_urls3  tfidf_lr2        rf3  \\\n",
       "0  37.828114  32.441398  31.495446  32.199672  33.380552  35.527591   \n",
       "1  47.406273  48.956252  49.160294  48.990912  47.624976  44.599285   \n",
       "2  32.674854  33.887619  33.954232  33.143510  33.776631  36.136332   \n",
       "3  36.164139  33.916929  35.248320  32.549132  33.259096  34.147282   \n",
       "4  32.493324  37.106382  35.821612  38.135550  37.181859  34.672245   \n",
       "\n",
       "         rf4  xgb_regr3  xgb_regr4        rf5  xgb_regr5  lr_decades   light1  \\\n",
       "0  35.413735  38.555866  37.828114  36.361488  36.917892   37.524896  39.9837   \n",
       "1  44.607050  45.985104  47.406273  47.473686  48.359642   45.137212  48.2135   \n",
       "2  35.388930  32.415001  32.674854  25.311225  31.070028   32.531068  33.1372   \n",
       "3  34.894998  36.912338  36.164139  33.979250  33.980793   36.347521  35.1471   \n",
       "4  35.036889  33.893593  32.493324  39.179764  39.823811   37.026566  32.9087   \n",
       "\n",
       "    light2   light3   light4   light5  age  \n",
       "0  37.7178  33.2913  32.8655  35.3987   53  \n",
       "1  47.2616  47.3195  47.4347  48.4009   48  \n",
       "2  33.4020  36.6497  33.3600  22.4887   28  \n",
       "3  36.0093  36.2657  34.0589  33.8514   44  \n",
       "4  31.8958  37.0896  35.4248  39.8305   48  "
      ]
     },
     "execution_count": 7,
     "metadata": {},
     "output_type": "execute_result"
    }
   ],
   "source": [
    "train_df = pd.read_csv(\"stacked_df_train.csv\")\n",
    "test_df = pd.read_csv(\"stacked_df_test.csv\")\n",
    "train_df.head()"
   ]
  },
  {
   "cell_type": "code",
   "execution_count": 50,
   "metadata": {
    "collapsed": false
   },
   "outputs": [
    {
     "data": {
      "text/plain": [
       "Index([u'lr_titles', u'lr_titles2', u'tfidf_lr1', u'rf1', u'rf2', u'xgb_regr1',\n",
       "       u'xgb_regr2', u'lr_urls', u'lr_urls2', u'lr_urls3', u'tfidf_lr2',\n",
       "       u'rf3', u'rf4', u'xgb_regr3', u'xgb_regr4', u'rf5', u'xgb_regr5',\n",
       "       u'lr_decades', u'light1', u'light2', u'light3', u'light4', u'light5',\n",
       "       u'age'],\n",
       "      dtype='object')"
      ]
     },
     "execution_count": 50,
     "metadata": {},
     "output_type": "execute_result"
    }
   ],
   "source": [
    "train_df.columns"
   ]
  },
  {
   "cell_type": "code",
   "execution_count": 8,
   "metadata": {
    "collapsed": false
   },
   "outputs": [
    {
     "data": {
      "text/plain": [
       "((118679, 24), (19979, 23))"
      ]
     },
     "execution_count": 8,
     "metadata": {},
     "output_type": "execute_result"
    }
   ],
   "source": [
    "train_df.shape, test_df.shape"
   ]
  },
  {
   "cell_type": "code",
   "execution_count": 182,
   "metadata": {
    "collapsed": false
   },
   "outputs": [],
   "source": [
    "train_df_regroup = pd.concat([train_df[train_df.columns[:7]], train_df[train_df.columns[-6:-4]], \n",
    "                   train_df[train_df.columns[7:15]], train_df[train_df.columns[-4:-2]],\n",
    "                   train_df[train_df.columns[15:18]], \n",
    "                   pd.DataFrame(train_df['light5'], columns=[\"light5\"]),\n",
    "                   pd.DataFrame(train_df['age'], columns=[\"age\"])\n",
    "                  ] ,axis=1)\n",
    "\n",
    "test_df_regroup = pd.concat([test_df[test_df.columns[:7]], test_df[test_df.columns[-5:-3]], \n",
    "                   test_df[test_df.columns[7:15]], test_df[test_df.columns[-3:-1]],\n",
    "                   test_df[test_df.columns[15:18]], \n",
    "                   pd.DataFrame(test_df['light5'], columns=[\"light5\"]),\n",
    "                  ] ,axis=1)"
   ]
  },
  {
   "cell_type": "code",
   "execution_count": 61,
   "metadata": {
    "collapsed": false
   },
   "outputs": [
    {
     "data": {
      "text/html": [
       "<div>\n",
       "<table border=\"1\" class=\"dataframe\">\n",
       "  <thead>\n",
       "    <tr style=\"text-align: right;\">\n",
       "      <th></th>\n",
       "      <th>lr_titles</th>\n",
       "      <th>lr_titles2</th>\n",
       "      <th>tfidf_lr1</th>\n",
       "      <th>rf1</th>\n",
       "      <th>rf2</th>\n",
       "      <th>xgb_regr1</th>\n",
       "      <th>xgb_regr2</th>\n",
       "      <th>light1</th>\n",
       "      <th>light2</th>\n",
       "      <th>lr_urls</th>\n",
       "      <th>lr_urls2</th>\n",
       "      <th>lr_urls3</th>\n",
       "      <th>tfidf_lr2</th>\n",
       "      <th>rf3</th>\n",
       "      <th>rf4</th>\n",
       "      <th>xgb_regr3</th>\n",
       "      <th>xgb_regr4</th>\n",
       "      <th>light3</th>\n",
       "      <th>light4</th>\n",
       "      <th>rf5</th>\n",
       "      <th>xgb_regr5</th>\n",
       "      <th>lr_decades</th>\n",
       "      <th>light5</th>\n",
       "      <th>age</th>\n",
       "    </tr>\n",
       "  </thead>\n",
       "  <tbody>\n",
       "    <tr>\n",
       "      <th>lr_titles</th>\n",
       "      <td>1.000000</td>\n",
       "      <td>0.943051</td>\n",
       "      <td>0.887565</td>\n",
       "      <td>0.891312</td>\n",
       "      <td>0.889299</td>\n",
       "      <td>0.902589</td>\n",
       "      <td>0.877552</td>\n",
       "      <td>0.876011</td>\n",
       "      <td>0.848265</td>\n",
       "      <td>0.737708</td>\n",
       "      <td>0.753359</td>\n",
       "      <td>0.739885</td>\n",
       "      <td>0.750548</td>\n",
       "      <td>0.745997</td>\n",
       "      <td>0.740509</td>\n",
       "      <td>0.902589</td>\n",
       "      <td>0.877552</td>\n",
       "      <td>0.721738</td>\n",
       "      <td>0.721553</td>\n",
       "      <td>0.510018</td>\n",
       "      <td>0.482611</td>\n",
       "      <td>0.599865</td>\n",
       "      <td>0.485211</td>\n",
       "      <td>0.304348</td>\n",
       "    </tr>\n",
       "    <tr>\n",
       "      <th>lr_titles2</th>\n",
       "      <td>0.943051</td>\n",
       "      <td>1.000000</td>\n",
       "      <td>0.924285</td>\n",
       "      <td>0.872889</td>\n",
       "      <td>0.885452</td>\n",
       "      <td>0.891357</td>\n",
       "      <td>0.915324</td>\n",
       "      <td>0.871614</td>\n",
       "      <td>0.882341</td>\n",
       "      <td>0.741817</td>\n",
       "      <td>0.746727</td>\n",
       "      <td>0.740648</td>\n",
       "      <td>0.754471</td>\n",
       "      <td>0.740733</td>\n",
       "      <td>0.737563</td>\n",
       "      <td>0.891357</td>\n",
       "      <td>0.915324</td>\n",
       "      <td>0.726573</td>\n",
       "      <td>0.727753</td>\n",
       "      <td>0.531632</td>\n",
       "      <td>0.503432</td>\n",
       "      <td>0.618311</td>\n",
       "      <td>0.506308</td>\n",
       "      <td>0.319530</td>\n",
       "    </tr>\n",
       "    <tr>\n",
       "      <th>tfidf_lr1</th>\n",
       "      <td>0.887565</td>\n",
       "      <td>0.924285</td>\n",
       "      <td>1.000000</td>\n",
       "      <td>0.835142</td>\n",
       "      <td>0.847770</td>\n",
       "      <td>0.855639</td>\n",
       "      <td>0.881886</td>\n",
       "      <td>0.842502</td>\n",
       "      <td>0.860285</td>\n",
       "      <td>0.735163</td>\n",
       "      <td>0.721729</td>\n",
       "      <td>0.726801</td>\n",
       "      <td>0.748492</td>\n",
       "      <td>0.719994</td>\n",
       "      <td>0.720322</td>\n",
       "      <td>0.855639</td>\n",
       "      <td>0.881886</td>\n",
       "      <td>0.717674</td>\n",
       "      <td>0.724261</td>\n",
       "      <td>0.558009</td>\n",
       "      <td>0.529441</td>\n",
       "      <td>0.633541</td>\n",
       "      <td>0.532598</td>\n",
       "      <td>0.342715</td>\n",
       "    </tr>\n",
       "    <tr>\n",
       "      <th>rf1</th>\n",
       "      <td>0.891312</td>\n",
       "      <td>0.872889</td>\n",
       "      <td>0.835142</td>\n",
       "      <td>1.000000</td>\n",
       "      <td>0.965553</td>\n",
       "      <td>0.929080</td>\n",
       "      <td>0.897896</td>\n",
       "      <td>0.936039</td>\n",
       "      <td>0.894450</td>\n",
       "      <td>0.753898</td>\n",
       "      <td>0.769251</td>\n",
       "      <td>0.755805</td>\n",
       "      <td>0.755825</td>\n",
       "      <td>0.797218</td>\n",
       "      <td>0.793024</td>\n",
       "      <td>0.929080</td>\n",
       "      <td>0.897896</td>\n",
       "      <td>0.758710</td>\n",
       "      <td>0.757072</td>\n",
       "      <td>0.532448</td>\n",
       "      <td>0.503740</td>\n",
       "      <td>0.624240</td>\n",
       "      <td>0.506303</td>\n",
       "      <td>0.326535</td>\n",
       "    </tr>\n",
       "    <tr>\n",
       "      <th>rf2</th>\n",
       "      <td>0.889299</td>\n",
       "      <td>0.885452</td>\n",
       "      <td>0.847770</td>\n",
       "      <td>0.965553</td>\n",
       "      <td>1.000000</td>\n",
       "      <td>0.911518</td>\n",
       "      <td>0.915516</td>\n",
       "      <td>0.916453</td>\n",
       "      <td>0.916330</td>\n",
       "      <td>0.760944</td>\n",
       "      <td>0.774692</td>\n",
       "      <td>0.762293</td>\n",
       "      <td>0.763549</td>\n",
       "      <td>0.802432</td>\n",
       "      <td>0.798937</td>\n",
       "      <td>0.911518</td>\n",
       "      <td>0.915516</td>\n",
       "      <td>0.764596</td>\n",
       "      <td>0.763678</td>\n",
       "      <td>0.538494</td>\n",
       "      <td>0.509704</td>\n",
       "      <td>0.630987</td>\n",
       "      <td>0.512483</td>\n",
       "      <td>0.330629</td>\n",
       "    </tr>\n",
       "  </tbody>\n",
       "</table>\n",
       "</div>"
      ],
      "text/plain": [
       "            lr_titles  lr_titles2  tfidf_lr1       rf1       rf2  xgb_regr1  \\\n",
       "lr_titles    1.000000    0.943051   0.887565  0.891312  0.889299   0.902589   \n",
       "lr_titles2   0.943051    1.000000   0.924285  0.872889  0.885452   0.891357   \n",
       "tfidf_lr1    0.887565    0.924285   1.000000  0.835142  0.847770   0.855639   \n",
       "rf1          0.891312    0.872889   0.835142  1.000000  0.965553   0.929080   \n",
       "rf2          0.889299    0.885452   0.847770  0.965553  1.000000   0.911518   \n",
       "\n",
       "            xgb_regr2    light1    light2   lr_urls  lr_urls2  lr_urls3  \\\n",
       "lr_titles    0.877552  0.876011  0.848265  0.737708  0.753359  0.739885   \n",
       "lr_titles2   0.915324  0.871614  0.882341  0.741817  0.746727  0.740648   \n",
       "tfidf_lr1    0.881886  0.842502  0.860285  0.735163  0.721729  0.726801   \n",
       "rf1          0.897896  0.936039  0.894450  0.753898  0.769251  0.755805   \n",
       "rf2          0.915516  0.916453  0.916330  0.760944  0.774692  0.762293   \n",
       "\n",
       "            tfidf_lr2       rf3       rf4  xgb_regr3  xgb_regr4    light3  \\\n",
       "lr_titles    0.750548  0.745997  0.740509   0.902589   0.877552  0.721738   \n",
       "lr_titles2   0.754471  0.740733  0.737563   0.891357   0.915324  0.726573   \n",
       "tfidf_lr1    0.748492  0.719994  0.720322   0.855639   0.881886  0.717674   \n",
       "rf1          0.755825  0.797218  0.793024   0.929080   0.897896  0.758710   \n",
       "rf2          0.763549  0.802432  0.798937   0.911518   0.915516  0.764596   \n",
       "\n",
       "              light4       rf5  xgb_regr5  lr_decades    light5       age  \n",
       "lr_titles   0.721553  0.510018   0.482611    0.599865  0.485211  0.304348  \n",
       "lr_titles2  0.727753  0.531632   0.503432    0.618311  0.506308  0.319530  \n",
       "tfidf_lr1   0.724261  0.558009   0.529441    0.633541  0.532598  0.342715  \n",
       "rf1         0.757072  0.532448   0.503740    0.624240  0.506303  0.326535  \n",
       "rf2         0.763678  0.538494   0.509704    0.630987  0.512483  0.330629  "
      ]
     },
     "execution_count": 61,
     "metadata": {},
     "output_type": "execute_result"
    }
   ],
   "source": [
    "train_df_regroup.corr().head()"
   ]
  },
  {
   "cell_type": "code",
   "execution_count": 59,
   "metadata": {
    "collapsed": false
   },
   "outputs": [
    {
     "data": {
      "text/plain": [
       "<matplotlib.image.AxesImage at 0x8c1bfd0>"
      ]
     },
     "execution_count": 59,
     "metadata": {},
     "output_type": "execute_result"
    },
    {
     "data": {
      "image/png": "[encoded data removed]",
      "text/plain": [
       "<matplotlib.figure.Figure at 0x7376990>"
      ]
     },
     "metadata": {},
     "output_type": "display_data"
    }
   ],
   "source": [
    "plt.matshow(train_df_regroup.corr())"
   ]
  },
  {
   "cell_type": "code",
   "execution_count": 227,
   "metadata": {
    "collapsed": false
   },
   "outputs": [],
   "source": [
    "titles_df_train = train_df_regroup[[\"tfidf_lr1\", \"age\"]]\n",
    "titles_nmf1_train = train_df_regroup[[\"lr_titles\", \"rf1\", \"xgb_regr1\", \"light1\", \"age\"]]\n",
    "titles_nmf2_train = train_df_regroup[[\"lr_titles2\", \"rf2\", \"xgb_regr2\", \"light2\", \"age\"]]\n",
    "\n",
    "urls_df_train = train_df_regroup[[\"tfidf_lr2\", \"lr_urls\", \"age\"]]\n",
    "urls_nmf1_train = train_df_regroup[[\"lr_urls2\", \"rf3\", \"xgb_regr3\", \"light3\", \"age\"]]\n",
    "urls_nmf2_train = train_df_regroup[[\"lr_urls3\", \"rf4\", \"xgb_regr4\", \"light4\", \"age\"]]\n",
    "\n",
    "decades_df_train = train_df_regroup[[\"lr_decades\", \"rf5\", \"xgb_regr5\", \"light5\", \"age\"]]\n",
    "\n",
    "\n",
    "titles_df_test = test_df_regroup[[\"tfidf_lr1\",]]\n",
    "titles_nmf1_test = test_df_regroup[[\"lr_titles\", \"rf1\", \"xgb_regr1\", \"light1\", ]]\n",
    "titles_nmf2_test = test_df_regroup[[\"lr_titles2\", \"rf2\", \"xgb_regr2\", \"light2\", ]]\n",
    "\n",
    "urls_df_test = test_df_regroup[[\"tfidf_lr2\", \"lr_urls\", ]]\n",
    "urls_nmf1_test = test_df_regroup[[\"lr_urls2\", \"rf3\", \"xgb_regr3\", \"light3\", ]]\n",
    "urls_nmf2_test = test_df_regroup[[\"lr_urls3\", \"rf4\", \"xgb_regr4\", \"light4\", ]]\n",
    "\n",
    "decades_df_test = test_df_regroup[[\"lr_decades\", \"rf5\", \"xgb_regr5\", \"light5\", ]]"
   ]
  },
  {
   "cell_type": "code",
   "execution_count": null,
   "metadata": {
    "collapsed": true
   },
   "outputs": [],
   "source": []
  },
  {
   "cell_type": "code",
   "execution_count": 286,
   "metadata": {
    "collapsed": true
   },
   "outputs": [],
   "source": [
    "pred_weighted_df_train = pd.DataFrame()\n",
    "pred_weighted_df_test = pd.DataFrame()"
   ]
  },
  {
   "cell_type": "code",
   "execution_count": 287,
   "metadata": {
    "collapsed": true
   },
   "outputs": [],
   "source": [
    "def fill_df_train(df_data, df_to_fill, colname):\n",
    "    w = weight_predict(df_data)\n",
    "    df_to_fill[colname] = (df_data.drop(\"age\", axis=1).as_matrix()*w).sum(axis=1)\n",
    "    return w\n",
    "\n",
    "def fill_df_test(df_data, df_to_fill, colname):\n",
    "    w = weight_predict(df_data)\n",
    "    df_to_fill[colname] = (df_data.as_matrix()*w).sum(axis=1)\n",
    "    return w"
   ]
  },
  {
   "cell_type": "code",
   "execution_count": 288,
   "metadata": {
    "collapsed": true
   },
   "outputs": [],
   "source": [
    "dfs_tr = [titles_df_train, titles_nmf1_train, titles_nmf2_train, urls_df_train, urls_nmf1_train, urls_nmf2_train,\n",
    "      decades_df_train]\n",
    "\n",
    "dfs_test = [titles_df_test, titles_nmf1_test, titles_nmf2_test, urls_df_test, urls_nmf1_test, urls_nmf2_test,\n",
    "      decades_df_test]\n",
    "\n",
    "cols = ['titles_df', 'titles_nmf1', 'titles_nmf2', 'urls_df', 'urls_nmf1', 'urls_nmf2', 'decades_df']"
   ]
  },
  {
   "cell_type": "code",
   "execution_count": null,
   "metadata": {
    "collapsed": true
   },
   "outputs": [],
   "source": []
  },
  {
   "cell_type": "code",
   "execution_count": 289,
   "metadata": {
    "collapsed": false
   },
   "outputs": [],
   "source": [
    "for i in range(len(dfs)):\n",
    "    df_tr = dfs_tr[i]\n",
    "    df_te = dfs_test[i]\n",
    "    col = cols[i]\n",
    "    weights = fill_df_train(df_tr, pred_weighted_df_train, col)\n",
    "    pred_weighted_df_test[col] = (df_te.as_matrix()*weights).sum(axis=1)"
   ]
  },
  {
   "cell_type": "code",
   "execution_count": 290,
   "metadata": {
    "collapsed": false
   },
   "outputs": [],
   "source": [
    "df_2_level_train = pd.concat([pred_weighted_df_train, pd.DataFrame(titles_df_train.age, columns=[\"age\"])], axis=1)\n",
    "df_2_level_test = pred_weighted_df_test"
   ]
  },
  {
   "cell_type": "code",
   "execution_count": null,
   "metadata": {
    "collapsed": true
   },
   "outputs": [],
   "source": []
  },
  {
   "cell_type": "code",
   "execution_count": 291,
   "metadata": {
    "collapsed": false
   },
   "outputs": [],
   "source": [
    "w = weight_predict(df_2_level_train)\n",
    "df_2_level_train[\"final_prediction\"] = (df_2_level_train.drop(\"age\", axis=1).as_matrix()*w).sum(axis=1)\n",
    "df_2_level_test[\"final_prediction\"] = (df_2_level_test.as_matrix()*w).sum(axis=1)"
   ]
  },
  {
   "cell_type": "code",
   "execution_count": 292,
   "metadata": {
    "collapsed": false
   },
   "outputs": [
    {
     "data": {
      "text/html": [
       "<div>\n",
       "<table border=\"1\" class=\"dataframe\">\n",
       "  <thead>\n",
       "    <tr style=\"text-align: right;\">\n",
       "      <th></th>\n",
       "      <th>titles_df</th>\n",
       "      <th>titles_nmf1</th>\n",
       "      <th>titles_nmf2</th>\n",
       "      <th>urls_df</th>\n",
       "      <th>urls_nmf1</th>\n",
       "      <th>urls_nmf2</th>\n",
       "      <th>decades_df</th>\n",
       "      <th>age</th>\n",
       "      <th>final_prediction</th>\n",
       "    </tr>\n",
       "  </thead>\n",
       "  <tbody>\n",
       "    <tr>\n",
       "      <th>0</th>\n",
       "      <td>37.352441</td>\n",
       "      <td>38.446949</td>\n",
       "      <td>37.680883</td>\n",
       "      <td>32.918292</td>\n",
       "      <td>34.745054</td>\n",
       "      <td>34.581369</td>\n",
       "      <td>36.501638</td>\n",
       "      <td>53</td>\n",
       "      <td>36.049204</td>\n",
       "    </tr>\n",
       "    <tr>\n",
       "      <th>1</th>\n",
       "      <td>44.835212</td>\n",
       "      <td>46.306784</td>\n",
       "      <td>46.629505</td>\n",
       "      <td>48.280242</td>\n",
       "      <td>46.733021</td>\n",
       "      <td>47.088625</td>\n",
       "      <td>47.454026</td>\n",
       "      <td>48</td>\n",
       "      <td>46.836601</td>\n",
       "    </tr>\n",
       "    <tr>\n",
       "      <th>2</th>\n",
       "      <td>28.891744</td>\n",
       "      <td>33.021418</td>\n",
       "      <td>32.727805</td>\n",
       "      <td>33.831260</td>\n",
       "      <td>34.837745</td>\n",
       "      <td>33.645558</td>\n",
       "      <td>27.616074</td>\n",
       "      <td>28</td>\n",
       "      <td>31.678035</td>\n",
       "    </tr>\n",
       "    <tr>\n",
       "      <th>3</th>\n",
       "      <td>38.879308</td>\n",
       "      <td>35.183610</td>\n",
       "      <td>35.400687</td>\n",
       "      <td>33.582887</td>\n",
       "      <td>35.656979</td>\n",
       "      <td>34.435168</td>\n",
       "      <td>34.449150</td>\n",
       "      <td>44</td>\n",
       "      <td>35.266492</td>\n",
       "    </tr>\n",
       "    <tr>\n",
       "      <th>4</th>\n",
       "      <td>34.840319</td>\n",
       "      <td>32.739736</td>\n",
       "      <td>31.787199</td>\n",
       "      <td>37.144709</td>\n",
       "      <td>35.390674</td>\n",
       "      <td>35.238979</td>\n",
       "      <td>39.062746</td>\n",
       "      <td>48</td>\n",
       "      <td>35.561614</td>\n",
       "    </tr>\n",
       "  </tbody>\n",
       "</table>\n",
       "</div>"
      ],
      "text/plain": [
       "   titles_df  titles_nmf1  titles_nmf2    urls_df  urls_nmf1  urls_nmf2  \\\n",
       "0  37.352441    38.446949    37.680883  32.918292  34.745054  34.581369   \n",
       "1  44.835212    46.306784    46.629505  48.280242  46.733021  47.088625   \n",
       "2  28.891744    33.021418    32.727805  33.831260  34.837745  33.645558   \n",
       "3  38.879308    35.183610    35.400687  33.582887  35.656979  34.435168   \n",
       "4  34.840319    32.739736    31.787199  37.144709  35.390674  35.238979   \n",
       "\n",
       "   decades_df  age  final_prediction  \n",
       "0   36.501638   53         36.049204  \n",
       "1   47.454026   48         46.836601  \n",
       "2   27.616074   28         31.678035  \n",
       "3   34.449150   44         35.266492  \n",
       "4   39.062746   48         35.561614  "
      ]
     },
     "execution_count": 292,
     "metadata": {},
     "output_type": "execute_result"
    }
   ],
   "source": [
    "df_2_level_train.head()"
   ]
  },
  {
   "cell_type": "code",
   "execution_count": 284,
   "metadata": {
    "collapsed": false
   },
   "outputs": [
    {
     "data": {
      "text/plain": [
       "11.084644543101613"
      ]
     },
     "execution_count": 284,
     "metadata": {},
     "output_type": "execute_result"
    }
   ],
   "source": [
    "rmse(df_2_level_train.age, df_2_level_train.final_prediction)"
   ]
  },
  {
   "cell_type": "code",
   "execution_count": null,
   "metadata": {
    "collapsed": true
   },
   "outputs": [],
   "source": []
  },
  {
   "cell_type": "code",
   "execution_count": 294,
   "metadata": {
    "collapsed": false
   },
   "outputs": [
    {
     "data": {
      "text/html": [
       "<div>\n",
       "<table border=\"1\" class=\"dataframe\">\n",
       "  <thead>\n",
       "    <tr style=\"text-align: right;\">\n",
       "      <th></th>\n",
       "      <th>titles_df</th>\n",
       "      <th>titles_nmf1</th>\n",
       "      <th>titles_nmf2</th>\n",
       "      <th>urls_df</th>\n",
       "      <th>urls_nmf1</th>\n",
       "      <th>urls_nmf2</th>\n",
       "      <th>decades_df</th>\n",
       "      <th>final_prediction</th>\n",
       "    </tr>\n",
       "  </thead>\n",
       "  <tbody>\n",
       "    <tr>\n",
       "      <th>0</th>\n",
       "      <td>37.956471</td>\n",
       "      <td>36.802960</td>\n",
       "      <td>38.236954</td>\n",
       "      <td>39.373565</td>\n",
       "      <td>38.245850</td>\n",
       "      <td>37.396804</td>\n",
       "      <td>40.496543</td>\n",
       "      <td>38.563866</td>\n",
       "    </tr>\n",
       "    <tr>\n",
       "      <th>1</th>\n",
       "      <td>42.016138</td>\n",
       "      <td>41.094441</td>\n",
       "      <td>37.327256</td>\n",
       "      <td>42.452737</td>\n",
       "      <td>37.257837</td>\n",
       "      <td>34.267654</td>\n",
       "      <td>44.027788</td>\n",
       "      <td>40.117074</td>\n",
       "    </tr>\n",
       "    <tr>\n",
       "      <th>2</th>\n",
       "      <td>33.862673</td>\n",
       "      <td>35.031691</td>\n",
       "      <td>33.125160</td>\n",
       "      <td>39.462190</td>\n",
       "      <td>36.001236</td>\n",
       "      <td>35.505240</td>\n",
       "      <td>47.946138</td>\n",
       "      <td>38.310776</td>\n",
       "    </tr>\n",
       "    <tr>\n",
       "      <th>3</th>\n",
       "      <td>33.744057</td>\n",
       "      <td>33.073895</td>\n",
       "      <td>32.807689</td>\n",
       "      <td>31.561507</td>\n",
       "      <td>36.759912</td>\n",
       "      <td>36.472013</td>\n",
       "      <td>42.699643</td>\n",
       "      <td>36.059756</td>\n",
       "    </tr>\n",
       "    <tr>\n",
       "      <th>4</th>\n",
       "      <td>35.189623</td>\n",
       "      <td>35.478234</td>\n",
       "      <td>36.101159</td>\n",
       "      <td>38.768342</td>\n",
       "      <td>34.922920</td>\n",
       "      <td>35.231779</td>\n",
       "      <td>36.917871</td>\n",
       "      <td>36.155976</td>\n",
       "    </tr>\n",
       "  </tbody>\n",
       "</table>\n",
       "</div>"
      ],
      "text/plain": [
       "   titles_df  titles_nmf1  titles_nmf2    urls_df  urls_nmf1  urls_nmf2  \\\n",
       "0  37.956471    36.802960    38.236954  39.373565  38.245850  37.396804   \n",
       "1  42.016138    41.094441    37.327256  42.452737  37.257837  34.267654   \n",
       "2  33.862673    35.031691    33.125160  39.462190  36.001236  35.505240   \n",
       "3  33.744057    33.073895    32.807689  31.561507  36.759912  36.472013   \n",
       "4  35.189623    35.478234    36.101159  38.768342  34.922920  35.231779   \n",
       "\n",
       "   decades_df  final_prediction  \n",
       "0   40.496543         38.563866  \n",
       "1   44.027788         40.117074  \n",
       "2   47.946138         38.310776  \n",
       "3   42.699643         36.059756  \n",
       "4   36.917871         36.155976  "
      ]
     },
     "execution_count": 294,
     "metadata": {},
     "output_type": "execute_result"
    }
   ],
   "source": [
    "df_2_level_test.head()"
   ]
  },
  {
   "cell_type": "code",
   "execution_count": 300,
   "metadata": {
    "collapsed": false
   },
   "outputs": [
    {
     "data": {
      "text/plain": [
       "(19979, 8)"
      ]
     },
     "execution_count": 300,
     "metadata": {},
     "output_type": "execute_result"
    }
   ],
   "source": [
    "df_2_level_test.shape"
   ]
  },
  {
   "cell_type": "code",
   "execution_count": null,
   "metadata": {
    "collapsed": true
   },
   "outputs": [],
   "source": []
  },
  {
   "cell_type": "code",
   "execution_count": 296,
   "metadata": {
    "collapsed": false
   },
   "outputs": [],
   "source": [
    "sample_subm = pd.read_csv(\"submissions/sample_submission.csv\")"
   ]
  },
  {
   "cell_type": "code",
   "execution_count": 302,
   "metadata": {
    "collapsed": false
   },
   "outputs": [],
   "source": [
    "sample_subm[\"age\"] = df_2_level_test.final_prediction"
   ]
  },
  {
   "cell_type": "code",
   "execution_count": 304,
   "metadata": {
    "collapsed": false
   },
   "outputs": [
    {
     "data": {
      "text/html": [
       "<div>\n",
       "<table border=\"1\" class=\"dataframe\">\n",
       "  <thead>\n",
       "    <tr style=\"text-align: right;\">\n",
       "      <th></th>\n",
       "      <th>Id</th>\n",
       "      <th>age</th>\n",
       "    </tr>\n",
       "  </thead>\n",
       "  <tbody>\n",
       "    <tr>\n",
       "      <th>0</th>\n",
       "      <td>000000014A02348E701552980349FF01</td>\n",
       "      <td>38.563866</td>\n",
       "    </tr>\n",
       "    <tr>\n",
       "      <th>1</th>\n",
       "      <td>000000014A10EA183BF8594A0B2AB201</td>\n",
       "      <td>40.117074</td>\n",
       "    </tr>\n",
       "    <tr>\n",
       "      <th>2</th>\n",
       "      <td>000000014A4FE5C33A929D4C26943601</td>\n",
       "      <td>38.310776</td>\n",
       "    </tr>\n",
       "    <tr>\n",
       "      <th>3</th>\n",
       "      <td>000000014B7BB9957784A9BC0AC9F401</td>\n",
       "      <td>36.059756</td>\n",
       "    </tr>\n",
       "    <tr>\n",
       "      <th>4</th>\n",
       "      <td>000000014C7749F896D82C2B01E8B801</td>\n",
       "      <td>36.155976</td>\n",
       "    </tr>\n",
       "  </tbody>\n",
       "</table>\n",
       "</div>"
      ],
      "text/plain": [
       "                                 Id        age\n",
       "0  000000014A02348E701552980349FF01  38.563866\n",
       "1  000000014A10EA183BF8594A0B2AB201  40.117074\n",
       "2  000000014A4FE5C33A929D4C26943601  38.310776\n",
       "3  000000014B7BB9957784A9BC0AC9F401  36.059756\n",
       "4  000000014C7749F896D82C2B01E8B801  36.155976"
      ]
     },
     "execution_count": 304,
     "metadata": {},
     "output_type": "execute_result"
    }
   ],
   "source": [
    "sample_subm.head()"
   ]
  },
  {
   "cell_type": "code",
   "execution_count": 305,
   "metadata": {
    "collapsed": true
   },
   "outputs": [],
   "source": [
    "sample_subm.to_csv(\"weighted_average_after_big_preds.csv\", index=False)"
   ]
  },
  {
   "cell_type": "code",
   "execution_count": null,
   "metadata": {
    "collapsed": true
   },
   "outputs": [],
   "source": []
  },
  {
   "cell_type": "code",
   "execution_count": null,
   "metadata": {
    "collapsed": true
   },
   "outputs": [],
   "source": []
  },
  {
   "cell_type": "code",
   "execution_count": null,
   "metadata": {
    "collapsed": true
   },
   "outputs": [],
   "source": []
  },
  {
   "cell_type": "code",
   "execution_count": null,
   "metadata": {
    "collapsed": true
   },
   "outputs": [],
   "source": []
  },
  {
   "cell_type": "code",
   "execution_count": null,
   "metadata": {
    "collapsed": true
   },
   "outputs": [],
   "source": []
  },
  {
   "cell_type": "code",
   "execution_count": null,
   "metadata": {
    "collapsed": true
   },
   "outputs": [],
   "source": []
  },
  {
   "cell_type": "code",
   "execution_count": null,
   "metadata": {
    "collapsed": true
   },
   "outputs": [],
   "source": []
  },
  {
   "cell_type": "code",
   "execution_count": 310,
   "metadata": {
    "collapsed": false
   },
   "outputs": [
    {
     "data": {
      "text/html": [
       "<div>\n",
       "<table border=\"1\" class=\"dataframe\">\n",
       "  <thead>\n",
       "    <tr style=\"text-align: right;\">\n",
       "      <th></th>\n",
       "      <th>lr_titles</th>\n",
       "      <th>lr_titles2</th>\n",
       "      <th>tfidf_lr1</th>\n",
       "      <th>rf1</th>\n",
       "      <th>rf2</th>\n",
       "      <th>xgb_regr1</th>\n",
       "      <th>xgb_regr2</th>\n",
       "      <th>lr_urls</th>\n",
       "      <th>lr_urls2</th>\n",
       "      <th>lr_urls3</th>\n",
       "      <th>tfidf_lr2</th>\n",
       "      <th>rf3</th>\n",
       "      <th>rf4</th>\n",
       "      <th>xgb_regr3</th>\n",
       "      <th>xgb_regr4</th>\n",
       "      <th>rf5</th>\n",
       "      <th>xgb_regr5</th>\n",
       "      <th>lr_decades</th>\n",
       "      <th>light1</th>\n",
       "      <th>light2</th>\n",
       "      <th>light3</th>\n",
       "      <th>light4</th>\n",
       "      <th>light5</th>\n",
       "      <th>age</th>\n",
       "    </tr>\n",
       "  </thead>\n",
       "  <tbody>\n",
       "    <tr>\n",
       "      <th>0</th>\n",
       "      <td>36.954034</td>\n",
       "      <td>37.587657</td>\n",
       "      <td>37.352441</td>\n",
       "      <td>38.101732</td>\n",
       "      <td>37.577289</td>\n",
       "      <td>38.555866</td>\n",
       "      <td>37.828114</td>\n",
       "      <td>32.441398</td>\n",
       "      <td>31.495446</td>\n",
       "      <td>32.199672</td>\n",
       "      <td>33.380552</td>\n",
       "      <td>35.527591</td>\n",
       "      <td>35.413735</td>\n",
       "      <td>38.555866</td>\n",
       "      <td>37.828114</td>\n",
       "      <td>36.361488</td>\n",
       "      <td>36.917892</td>\n",
       "      <td>37.524896</td>\n",
       "      <td>39.9837</td>\n",
       "      <td>37.7178</td>\n",
       "      <td>33.2913</td>\n",
       "      <td>32.8655</td>\n",
       "      <td>35.3987</td>\n",
       "      <td>53</td>\n",
       "    </tr>\n",
       "    <tr>\n",
       "      <th>1</th>\n",
       "      <td>45.794741</td>\n",
       "      <td>45.225146</td>\n",
       "      <td>44.835212</td>\n",
       "      <td>45.101997</td>\n",
       "      <td>46.496974</td>\n",
       "      <td>45.985104</td>\n",
       "      <td>47.406273</td>\n",
       "      <td>48.956252</td>\n",
       "      <td>49.160294</td>\n",
       "      <td>48.990912</td>\n",
       "      <td>47.624976</td>\n",
       "      <td>44.599285</td>\n",
       "      <td>44.607050</td>\n",
       "      <td>45.985104</td>\n",
       "      <td>47.406273</td>\n",
       "      <td>47.473686</td>\n",
       "      <td>48.359642</td>\n",
       "      <td>45.137212</td>\n",
       "      <td>48.2135</td>\n",
       "      <td>47.2616</td>\n",
       "      <td>47.3195</td>\n",
       "      <td>47.4347</td>\n",
       "      <td>48.4009</td>\n",
       "      <td>48</td>\n",
       "    </tr>\n",
       "    <tr>\n",
       "      <th>2</th>\n",
       "      <td>33.124688</td>\n",
       "      <td>31.038849</td>\n",
       "      <td>28.891744</td>\n",
       "      <td>33.430389</td>\n",
       "      <td>33.694263</td>\n",
       "      <td>32.415001</td>\n",
       "      <td>32.674854</td>\n",
       "      <td>33.887619</td>\n",
       "      <td>33.954232</td>\n",
       "      <td>33.143510</td>\n",
       "      <td>33.776631</td>\n",
       "      <td>36.136332</td>\n",
       "      <td>35.388930</td>\n",
       "      <td>32.415001</td>\n",
       "      <td>32.674854</td>\n",
       "      <td>25.311225</td>\n",
       "      <td>31.070028</td>\n",
       "      <td>32.531068</td>\n",
       "      <td>33.1372</td>\n",
       "      <td>33.4020</td>\n",
       "      <td>36.6497</td>\n",
       "      <td>33.3600</td>\n",
       "      <td>22.4887</td>\n",
       "      <td>28</td>\n",
       "    </tr>\n",
       "    <tr>\n",
       "      <th>3</th>\n",
       "      <td>34.129991</td>\n",
       "      <td>34.847749</td>\n",
       "      <td>38.879308</td>\n",
       "      <td>34.415176</td>\n",
       "      <td>34.484386</td>\n",
       "      <td>36.912338</td>\n",
       "      <td>36.164139</td>\n",
       "      <td>33.916929</td>\n",
       "      <td>35.248320</td>\n",
       "      <td>32.549132</td>\n",
       "      <td>33.259096</td>\n",
       "      <td>34.147282</td>\n",
       "      <td>34.894998</td>\n",
       "      <td>36.912338</td>\n",
       "      <td>36.164139</td>\n",
       "      <td>33.979250</td>\n",
       "      <td>33.980793</td>\n",
       "      <td>36.347521</td>\n",
       "      <td>35.1471</td>\n",
       "      <td>36.0093</td>\n",
       "      <td>36.2657</td>\n",
       "      <td>34.0589</td>\n",
       "      <td>33.8514</td>\n",
       "      <td>44</td>\n",
       "    </tr>\n",
       "    <tr>\n",
       "      <th>4</th>\n",
       "      <td>32.420218</td>\n",
       "      <td>31.095230</td>\n",
       "      <td>34.840319</td>\n",
       "      <td>31.664870</td>\n",
       "      <td>31.600219</td>\n",
       "      <td>33.893593</td>\n",
       "      <td>32.493324</td>\n",
       "      <td>37.106382</td>\n",
       "      <td>35.821612</td>\n",
       "      <td>38.135550</td>\n",
       "      <td>37.181859</td>\n",
       "      <td>34.672245</td>\n",
       "      <td>35.036889</td>\n",
       "      <td>33.893593</td>\n",
       "      <td>32.493324</td>\n",
       "      <td>39.179764</td>\n",
       "      <td>39.823811</td>\n",
       "      <td>37.026566</td>\n",
       "      <td>32.9087</td>\n",
       "      <td>31.8958</td>\n",
       "      <td>37.0896</td>\n",
       "      <td>35.4248</td>\n",
       "      <td>39.8305</td>\n",
       "      <td>48</td>\n",
       "    </tr>\n",
       "  </tbody>\n",
       "</table>\n",
       "</div>"
      ],
      "text/plain": [
       "   lr_titles  lr_titles2  tfidf_lr1        rf1        rf2  xgb_regr1  \\\n",
       "0  36.954034   37.587657  37.352441  38.101732  37.577289  38.555866   \n",
       "1  45.794741   45.225146  44.835212  45.101997  46.496974  45.985104   \n",
       "2  33.124688   31.038849  28.891744  33.430389  33.694263  32.415001   \n",
       "3  34.129991   34.847749  38.879308  34.415176  34.484386  36.912338   \n",
       "4  32.420218   31.095230  34.840319  31.664870  31.600219  33.893593   \n",
       "\n",
       "   xgb_regr2    lr_urls   lr_urls2   lr_urls3  tfidf_lr2        rf3  \\\n",
       "0  37.828114  32.441398  31.495446  32.199672  33.380552  35.527591   \n",
       "1  47.406273  48.956252  49.160294  48.990912  47.624976  44.599285   \n",
       "2  32.674854  33.887619  33.954232  33.143510  33.776631  36.136332   \n",
       "3  36.164139  33.916929  35.248320  32.549132  33.259096  34.147282   \n",
       "4  32.493324  37.106382  35.821612  38.135550  37.181859  34.672245   \n",
       "\n",
       "         rf4  xgb_regr3  xgb_regr4        rf5  xgb_regr5  lr_decades   light1  \\\n",
       "0  35.413735  38.555866  37.828114  36.361488  36.917892   37.524896  39.9837   \n",
       "1  44.607050  45.985104  47.406273  47.473686  48.359642   45.137212  48.2135   \n",
       "2  35.388930  32.415001  32.674854  25.311225  31.070028   32.531068  33.1372   \n",
       "3  34.894998  36.912338  36.164139  33.979250  33.980793   36.347521  35.1471   \n",
       "4  35.036889  33.893593  32.493324  39.179764  39.823811   37.026566  32.9087   \n",
       "\n",
       "    light2   light3   light4   light5  age  \n",
       "0  37.7178  33.2913  32.8655  35.3987   53  \n",
       "1  47.2616  47.3195  47.4347  48.4009   48  \n",
       "2  33.4020  36.6497  33.3600  22.4887   28  \n",
       "3  36.0093  36.2657  34.0589  33.8514   44  \n",
       "4  31.8958  37.0896  35.4248  39.8305   48  "
      ]
     },
     "execution_count": 310,
     "metadata": {},
     "output_type": "execute_result"
    }
   ],
   "source": [
    "train_df.head()"
   ]
  },
  {
   "cell_type": "code",
   "execution_count": 307,
   "metadata": {
    "collapsed": false
   },
   "outputs": [
    {
     "data": {
      "text/html": [
       "<div>\n",
       "<table border=\"1\" class=\"dataframe\">\n",
       "  <thead>\n",
       "    <tr style=\"text-align: right;\">\n",
       "      <th></th>\n",
       "      <th>lr_titles</th>\n",
       "      <th>lr_titles2</th>\n",
       "      <th>tfidf_lr1</th>\n",
       "      <th>rf1</th>\n",
       "      <th>rf2</th>\n",
       "      <th>xgb_regr1</th>\n",
       "      <th>xgb_regr2</th>\n",
       "      <th>lr_urls</th>\n",
       "      <th>lr_urls2</th>\n",
       "      <th>lr_urls3</th>\n",
       "      <th>tfidf_lr2</th>\n",
       "      <th>rf3</th>\n",
       "      <th>rf4</th>\n",
       "      <th>xgb_regr3</th>\n",
       "      <th>xgb_regr4</th>\n",
       "      <th>rf5</th>\n",
       "      <th>xgb_regr5</th>\n",
       "      <th>lr_decades</th>\n",
       "      <th>light1</th>\n",
       "      <th>light2</th>\n",
       "      <th>light3</th>\n",
       "      <th>light4</th>\n",
       "      <th>light5</th>\n",
       "    </tr>\n",
       "  </thead>\n",
       "  <tbody>\n",
       "    <tr>\n",
       "      <th>0</th>\n",
       "      <td>36.585002</td>\n",
       "      <td>40.034638</td>\n",
       "      <td>37.956471</td>\n",
       "      <td>35.306915</td>\n",
       "      <td>34.851058</td>\n",
       "      <td>36.668873</td>\n",
       "      <td>38.828220</td>\n",
       "      <td>39.561297</td>\n",
       "      <td>39.013737</td>\n",
       "      <td>38.136618</td>\n",
       "      <td>39.191595</td>\n",
       "      <td>40.706421</td>\n",
       "      <td>40.267569</td>\n",
       "      <td>36.668873</td>\n",
       "      <td>38.828220</td>\n",
       "      <td>40.503409</td>\n",
       "      <td>39.921474</td>\n",
       "      <td>40.536542</td>\n",
       "      <td>38.5422</td>\n",
       "      <td>39.1991</td>\n",
       "      <td>36.7264</td>\n",
       "      <td>32.6675</td>\n",
       "      <td>41.0320</td>\n",
       "    </tr>\n",
       "    <tr>\n",
       "      <th>1</th>\n",
       "      <td>44.442559</td>\n",
       "      <td>41.893602</td>\n",
       "      <td>42.016138</td>\n",
       "      <td>40.353727</td>\n",
       "      <td>35.024469</td>\n",
       "      <td>41.523270</td>\n",
       "      <td>34.834545</td>\n",
       "      <td>41.484473</td>\n",
       "      <td>35.344624</td>\n",
       "      <td>34.819664</td>\n",
       "      <td>43.391289</td>\n",
       "      <td>36.407196</td>\n",
       "      <td>35.827088</td>\n",
       "      <td>41.523270</td>\n",
       "      <td>34.834545</td>\n",
       "      <td>44.504200</td>\n",
       "      <td>44.020145</td>\n",
       "      <td>43.659382</td>\n",
       "      <td>38.4224</td>\n",
       "      <td>37.7950</td>\n",
       "      <td>35.7499</td>\n",
       "      <td>31.7628</td>\n",
       "      <td>43.8589</td>\n",
       "    </tr>\n",
       "    <tr>\n",
       "      <th>2</th>\n",
       "      <td>34.166649</td>\n",
       "      <td>31.231423</td>\n",
       "      <td>33.862673</td>\n",
       "      <td>35.903603</td>\n",
       "      <td>33.364963</td>\n",
       "      <td>35.371494</td>\n",
       "      <td>33.721542</td>\n",
       "      <td>39.380980</td>\n",
       "      <td>35.420519</td>\n",
       "      <td>35.423484</td>\n",
       "      <td>39.540908</td>\n",
       "      <td>36.689321</td>\n",
       "      <td>37.585230</td>\n",
       "      <td>35.371494</td>\n",
       "      <td>33.721542</td>\n",
       "      <td>50.674043</td>\n",
       "      <td>49.521946</td>\n",
       "      <td>43.414823</td>\n",
       "      <td>34.6368</td>\n",
       "      <td>34.0279</td>\n",
       "      <td>36.4489</td>\n",
       "      <td>35.2911</td>\n",
       "      <td>47.3170</td>\n",
       "    </tr>\n",
       "    <tr>\n",
       "      <th>3</th>\n",
       "      <td>34.901884</td>\n",
       "      <td>32.974075</td>\n",
       "      <td>33.744057</td>\n",
       "      <td>32.449976</td>\n",
       "      <td>32.415150</td>\n",
       "      <td>32.554577</td>\n",
       "      <td>32.581848</td>\n",
       "      <td>32.900263</td>\n",
       "      <td>37.670660</td>\n",
       "      <td>34.209306</td>\n",
       "      <td>30.263833</td>\n",
       "      <td>38.395463</td>\n",
       "      <td>39.292337</td>\n",
       "      <td>32.554577</td>\n",
       "      <td>32.581848</td>\n",
       "      <td>43.412737</td>\n",
       "      <td>43.781075</td>\n",
       "      <td>39.562476</td>\n",
       "      <td>32.5606</td>\n",
       "      <td>33.2454</td>\n",
       "      <td>38.3489</td>\n",
       "      <td>39.4959</td>\n",
       "      <td>43.4434</td>\n",
       "    </tr>\n",
       "    <tr>\n",
       "      <th>4</th>\n",
       "      <td>35.851937</td>\n",
       "      <td>32.906776</td>\n",
       "      <td>35.189623</td>\n",
       "      <td>37.810935</td>\n",
       "      <td>39.279827</td>\n",
       "      <td>33.720486</td>\n",
       "      <td>35.864090</td>\n",
       "      <td>39.172225</td>\n",
       "      <td>34.157379</td>\n",
       "      <td>32.744347</td>\n",
       "      <td>38.376854</td>\n",
       "      <td>35.801407</td>\n",
       "      <td>35.563346</td>\n",
       "      <td>33.720486</td>\n",
       "      <td>35.864090</td>\n",
       "      <td>36.908550</td>\n",
       "      <td>36.787926</td>\n",
       "      <td>37.131295</td>\n",
       "      <td>34.6626</td>\n",
       "      <td>36.2477</td>\n",
       "      <td>35.8878</td>\n",
       "      <td>36.5493</td>\n",
       "      <td>36.8846</td>\n",
       "    </tr>\n",
       "  </tbody>\n",
       "</table>\n",
       "</div>"
      ],
      "text/plain": [
       "   lr_titles  lr_titles2  tfidf_lr1        rf1        rf2  xgb_regr1  \\\n",
       "0  36.585002   40.034638  37.956471  35.306915  34.851058  36.668873   \n",
       "1  44.442559   41.893602  42.016138  40.353727  35.024469  41.523270   \n",
       "2  34.166649   31.231423  33.862673  35.903603  33.364963  35.371494   \n",
       "3  34.901884   32.974075  33.744057  32.449976  32.415150  32.554577   \n",
       "4  35.851937   32.906776  35.189623  37.810935  39.279827  33.720486   \n",
       "\n",
       "   xgb_regr2    lr_urls   lr_urls2   lr_urls3  tfidf_lr2        rf3  \\\n",
       "0  38.828220  39.561297  39.013737  38.136618  39.191595  40.706421   \n",
       "1  34.834545  41.484473  35.344624  34.819664  43.391289  36.407196   \n",
       "2  33.721542  39.380980  35.420519  35.423484  39.540908  36.689321   \n",
       "3  32.581848  32.900263  37.670660  34.209306  30.263833  38.395463   \n",
       "4  35.864090  39.172225  34.157379  32.744347  38.376854  35.801407   \n",
       "\n",
       "         rf4  xgb_regr3  xgb_regr4        rf5  xgb_regr5  lr_decades   light1  \\\n",
       "0  40.267569  36.668873  38.828220  40.503409  39.921474   40.536542  38.5422   \n",
       "1  35.827088  41.523270  34.834545  44.504200  44.020145   43.659382  38.4224   \n",
       "2  37.585230  35.371494  33.721542  50.674043  49.521946   43.414823  34.6368   \n",
       "3  39.292337  32.554577  32.581848  43.412737  43.781075   39.562476  32.5606   \n",
       "4  35.563346  33.720486  35.864090  36.908550  36.787926   37.131295  34.6626   \n",
       "\n",
       "    light2   light3   light4   light5  \n",
       "0  39.1991  36.7264  32.6675  41.0320  \n",
       "1  37.7950  35.7499  31.7628  43.8589  \n",
       "2  34.0279  36.4489  35.2911  47.3170  \n",
       "3  33.2454  38.3489  39.4959  43.4434  \n",
       "4  36.2477  35.8878  36.5493  36.8846  "
      ]
     },
     "execution_count": 307,
     "metadata": {},
     "output_type": "execute_result"
    }
   ],
   "source": [
    "test_df.head()"
   ]
  },
  {
   "cell_type": "code",
   "execution_count": 315,
   "metadata": {
    "collapsed": true
   },
   "outputs": [],
   "source": [
    "from sklearn.linear_model import LinearRegression, Ridge"
   ]
  },
  {
   "cell_type": "code",
   "execution_count": 316,
   "metadata": {
    "collapsed": true
   },
   "outputs": [],
   "source": [
    "X_train, X_test, y_train, y_test = train_test_split(train_df.drop(\"age\", axis=1), train_df[\"age\"], test_size=0.33, random_state=42)"
   ]
  },
  {
   "cell_type": "code",
   "execution_count": 325,
   "metadata": {
    "collapsed": false
   },
   "outputs": [],
   "source": [
    "lr = LinearRegression()"
   ]
  },
  {
   "cell_type": "code",
   "execution_count": 326,
   "metadata": {
    "collapsed": false
   },
   "outputs": [
    {
     "name": "stdout",
     "output_type": "stream",
     "text": [
      "9.9228598935\n"
     ]
    }
   ],
   "source": [
    "lr.fit(X_train, y_train)\n",
    "pr = lr.predict(X_test)\n",
    "print rmse(y_test, pr)"
   ]
  },
  {
   "cell_type": "code",
   "execution_count": null,
   "metadata": {
    "collapsed": true
   },
   "outputs": [],
   "source": []
  },
  {
   "cell_type": "code",
   "execution_count": null,
   "metadata": {
    "collapsed": true
   },
   "outputs": [],
   "source": [
    "## all set"
   ]
  },
  {
   "cell_type": "code",
   "execution_count": 327,
   "metadata": {
    "collapsed": true
   },
   "outputs": [],
   "source": [
    "lr.fit(train_df.drop(\"age\", axis=1), train_df[\"age\"])\n",
    "pr = lr.predict(test_df)"
   ]
  },
  {
   "cell_type": "code",
   "execution_count": 329,
   "metadata": {
    "collapsed": true
   },
   "outputs": [],
   "source": [
    "sample_subm[\"age\"] = pr\n",
    "sample_subm.to_csv(\"linreg_after_big_preds.csv\", index=False)"
   ]
  },
  {
   "cell_type": "code",
   "execution_count": null,
   "metadata": {
    "collapsed": true
   },
   "outputs": [],
   "source": []
  },
  {
   "cell_type": "code",
   "execution_count": 331,
   "metadata": {
    "collapsed": true
   },
   "outputs": [],
   "source": [
    "## after one_level of aggregation"
   ]
  },
  {
   "cell_type": "code",
   "execution_count": 333,
   "metadata": {
    "collapsed": true
   },
   "outputs": [],
   "source": [
    "X_train, X_test, y_train, y_test = train_test_split(df_2_level_train.drop([\"age\", \"final_prediction\"], axis=1), df_2_level_train[\"age\"], test_size=0.33, random_state=42)"
   ]
  },
  {
   "cell_type": "code",
   "execution_count": 336,
   "metadata": {
    "collapsed": false
   },
   "outputs": [
    {
     "name": "stdout",
     "output_type": "stream",
     "text": [
      "9.97152600539\n"
     ]
    }
   ],
   "source": [
    "lr.fit(X_train, y_train)\n",
    "pr = lr.predict(X_test)\n",
    "\n",
    "print rmse(y_test, pr)"
   ]
  },
  {
   "cell_type": "code",
   "execution_count": 340,
   "metadata": {
    "collapsed": false
   },
   "outputs": [
    {
     "data": {
      "text/plain": [
       "(118679, 9)"
      ]
     },
     "execution_count": 340,
     "metadata": {},
     "output_type": "execute_result"
    }
   ],
   "source": [
    "df_2_level_train.shape"
   ]
  },
  {
   "cell_type": "code",
   "execution_count": 343,
   "metadata": {
    "collapsed": false
   },
   "outputs": [],
   "source": [
    "lr.fit(df_2_level_train.drop([\"age\", \"final_prediction\"], axis=1), df_2_level_train[\"age\"])\n",
    "pr = lr.predict(df_2_level_test.drop(\"final_prediction\", axis=1))"
   ]
  },
  {
   "cell_type": "code",
   "execution_count": 344,
   "metadata": {
    "collapsed": false
   },
   "outputs": [
    {
     "data": {
      "text/plain": [
       "array([ 40.50135267,  43.12208319,  48.39174837, ...,  35.79776882,\n",
       "        35.79776882,  35.29847428])"
      ]
     },
     "execution_count": 344,
     "metadata": {},
     "output_type": "execute_result"
    }
   ],
   "source": [
    "pr"
   ]
  },
  {
   "cell_type": "code",
   "execution_count": 345,
   "metadata": {
    "collapsed": true
   },
   "outputs": [],
   "source": [
    "sample_subm[\"age\"] = pr\n",
    "sample_subm.to_csv(\"linreg_on_fist_level_agg_preds.csv\", index=False)"
   ]
  },
  {
   "cell_type": "code",
   "execution_count": null,
   "metadata": {
    "collapsed": true
   },
   "outputs": [],
   "source": []
  }
 ],
 "metadata": {
  "anaconda-cloud": {},
  "kernelspec": {
   "display_name": "Python 2",
   "language": "python",
   "name": "python2"
  },
  "language_info": {
   "codemirror_mode": {
    "name": "ipython",
    "version": 2
   },
   "file_extension": ".py",
   "mimetype": "text/x-python",
   "name": "python",
   "nbconvert_exporter": "python",
   "pygments_lexer": "ipython2",
   "version": "2.7.6"
  }
 },
 "nbformat": 4,
 "nbformat_minor": 0
}
