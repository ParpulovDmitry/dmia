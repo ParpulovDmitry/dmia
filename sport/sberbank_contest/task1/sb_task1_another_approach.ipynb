{
 "cells": [
  {
   "cell_type": "code",
   "execution_count": 1,
   "metadata": {
    "collapsed": false
   },
   "outputs": [
    {
     "name": "stderr",
     "output_type": "stream",
     "text": [
      "/Users/d.parpulov/anaconda/lib/python2.7/site-packages/sklearn/cross_validation.py:44: DeprecationWarning: This module was deprecated in version 0.18 in favor of the model_selection module into which all the refactored classes and functions are moved. Also note that the interface of the new CV iterators are different from that of this module. This module will be removed in 0.20.\n",
      "  \"This module will be removed in 0.20.\", DeprecationWarning)\n",
      "/Users/d.parpulov/anaconda/lib/python2.7/site-packages/sklearn/grid_search.py:43: DeprecationWarning: This module was deprecated in version 0.18 in favor of the model_selection module into which all the refactored classes and functions are moved. This module will be removed in 0.20.\n",
      "  DeprecationWarning)\n"
     ]
    }
   ],
   "source": [
    "import pandas as pd\n",
    "import numpy as np\n",
    "\n",
    "from sklearn.ensemble import GradientBoostingClassifier\n",
    "from sklearn.metrics import roc_auc_score, log_loss\n",
    "from sklearn.cross_validation import ShuffleSplit\n",
    "from sklearn.grid_search import GridSearchCV\n",
    "\n",
    "import matplotlib.pyplot as plt\n",
    "import seaborn as sb\n",
    "sb.set_style(\"darkgrid\")\n",
    "\n",
    "%matplotlib inline"
   ]
  },
  {
   "cell_type": "code",
   "execution_count": 2,
   "metadata": {
    "collapsed": true
   },
   "outputs": [],
   "source": [
    "transactions = pd.read_csv('../transactions.csv')\n",
    "customers_gender = pd.read_csv('../customers_gender_train.csv')\n",
    "tr_mcc_codes = pd.read_csv('../tr_mcc_codes.csv', sep=';')\n",
    "tr_types = pd.read_csv('../tr_types.csv', sep=';')"
   ]
  },
  {
   "cell_type": "code",
   "execution_count": 3,
   "metadata": {
    "collapsed": false
   },
   "outputs": [],
   "source": [
    "transactions1 = pd.merge(transactions, customers_gender, on='customer_id', how='outer')"
   ]
  },
  {
   "cell_type": "markdown",
   "metadata": {},
   "source": [
    "### gender tr_types"
   ]
  },
  {
   "cell_type": "code",
   "execution_count": 4,
   "metadata": {
    "collapsed": false
   },
   "outputs": [
    {
     "name": "stderr",
     "output_type": "stream",
     "text": [
      "/Users/d.parpulov/anaconda/lib/python2.7/site-packages/ipykernel/__main__.py:2: FutureWarning: sort is deprecated, use sort_values(inplace=True) for INPLACE sorting\n",
      "  from ipykernel import kernelapp as app\n"
     ]
    },
    {
     "data": {
      "text/html": [
       "<div>\n",
       "<table border=\"1\" class=\"dataframe\">\n",
       "  <thead>\n",
       "    <tr style=\"text-align: right;\">\n",
       "      <th></th>\n",
       "      <th>tr_type</th>\n",
       "      <th>amount</th>\n",
       "      <th>tr_description</th>\n",
       "    </tr>\n",
       "  </thead>\n",
       "  <tbody>\n",
       "    <tr>\n",
       "      <th>0</th>\n",
       "      <td>1010</td>\n",
       "      <td>1589734</td>\n",
       "      <td>Покупка. POS ТУ СБ РФ</td>\n",
       "    </tr>\n",
       "    <tr>\n",
       "      <th>1</th>\n",
       "      <td>2010</td>\n",
       "      <td>1040713</td>\n",
       "      <td>Выдача наличных в АТМ Сбербанк России</td>\n",
       "    </tr>\n",
       "    <tr>\n",
       "      <th>2</th>\n",
       "      <td>1030</td>\n",
       "      <td>970994</td>\n",
       "      <td>Оплата услуги. Банкоматы СБ РФ</td>\n",
       "    </tr>\n",
       "    <tr>\n",
       "      <th>3</th>\n",
       "      <td>1110</td>\n",
       "      <td>928154</td>\n",
       "      <td>Покупка. POS ТУ Россия</td>\n",
       "    </tr>\n",
       "    <tr>\n",
       "      <th>4</th>\n",
       "      <td>7070</td>\n",
       "      <td>691896</td>\n",
       "      <td>Перевод на карту (с карты) через Мобильный бан...</td>\n",
       "    </tr>\n",
       "    <tr>\n",
       "      <th>5</th>\n",
       "      <td>2370</td>\n",
       "      <td>376521</td>\n",
       "      <td>Списание с карты на карту по операции &lt;перевод...</td>\n",
       "    </tr>\n",
       "    <tr>\n",
       "      <th>6</th>\n",
       "      <td>7010</td>\n",
       "      <td>258088</td>\n",
       "      <td>Взнос наличных через АТМ (в своем тер.банке)</td>\n",
       "    </tr>\n",
       "    <tr>\n",
       "      <th>7</th>\n",
       "      <td>7030</td>\n",
       "      <td>155200</td>\n",
       "      <td>Перевод на карту (с карты) через АТМ (в предел...</td>\n",
       "    </tr>\n",
       "    <tr>\n",
       "      <th>8</th>\n",
       "      <td>1100</td>\n",
       "      <td>117870</td>\n",
       "      <td>Покупка. ТУ  Россия</td>\n",
       "    </tr>\n",
       "    <tr>\n",
       "      <th>9</th>\n",
       "      <td>7071</td>\n",
       "      <td>96146</td>\n",
       "      <td>Перевод на карту (с карты) через Мобильный бан...</td>\n",
       "    </tr>\n",
       "    <tr>\n",
       "      <th>10</th>\n",
       "      <td>1200</td>\n",
       "      <td>90742</td>\n",
       "      <td>Покупка. Зарубеж. ТУ</td>\n",
       "    </tr>\n",
       "    <tr>\n",
       "      <th>11</th>\n",
       "      <td>2330</td>\n",
       "      <td>69633</td>\n",
       "      <td>Списание с карты по операции “перевода с карты...</td>\n",
       "    </tr>\n",
       "    <tr>\n",
       "      <th>12</th>\n",
       "      <td>2371</td>\n",
       "      <td>65809</td>\n",
       "      <td>Списание с карты на карту по операции &lt;перевод...</td>\n",
       "    </tr>\n",
       "    <tr>\n",
       "      <th>13</th>\n",
       "      <td>4071</td>\n",
       "      <td>65806</td>\n",
       "      <td>Плата за перевод на карту (с карты) через Моби...</td>\n",
       "    </tr>\n",
       "    <tr>\n",
       "      <th>14</th>\n",
       "      <td>2011</td>\n",
       "      <td>63127</td>\n",
       "      <td>Выдача наличных в АТМ Сбербанка (в других ТБ)</td>\n",
       "    </tr>\n",
       "  </tbody>\n",
       "</table>\n",
       "</div>"
      ],
      "text/plain": [
       "    tr_type   amount                                     tr_description\n",
       "0      1010  1589734                              Покупка. POS ТУ СБ РФ\n",
       "1      2010  1040713              Выдача наличных в АТМ Сбербанк России\n",
       "2      1030   970994                     Оплата услуги. Банкоматы СБ РФ\n",
       "3      1110   928154                             Покупка. POS ТУ Россия\n",
       "4      7070   691896  Перевод на карту (с карты) через Мобильный бан...\n",
       "5      2370   376521  Списание с карты на карту по операции <перевод...\n",
       "6      7010   258088       Взнос наличных через АТМ (в своем тер.банке)\n",
       "7      7030   155200  Перевод на карту (с карты) через АТМ (в предел...\n",
       "8      1100   117870                                Покупка. ТУ  Россия\n",
       "9      7071    96146  Перевод на карту (с карты) через Мобильный бан...\n",
       "10     1200    90742                               Покупка. Зарубеж. ТУ\n",
       "11     2330    69633  Списание с карты по операции “перевода с карты...\n",
       "12     2371    65809  Списание с карты на карту по операции <перевод...\n",
       "13     4071    65806  Плата за перевод на карту (с карты) через Моби...\n",
       "14     2011    63127      Выдача наличных в АТМ Сбербанка (в других ТБ)"
      ]
     },
     "execution_count": 4,
     "metadata": {},
     "output_type": "execute_result"
    },
    {
     "data": {
      "image/png": "[encoded data removed]",
      "text/plain": [
       "<matplotlib.figure.Figure at 0x1178f2e50>"
      ]
     },
     "metadata": {},
     "output_type": "display_data"
    }
   ],
   "source": [
    "tmp = transactions1.groupby('tr_type').amount.count()\n",
    "tmp.sort(ascending=False)\n",
    "#figsize(12, 5)\n",
    "tmp.plot(kind='bar', figsize=(12,5))\n",
    "plt.xlabel('tr_type')\n",
    "plt.ylabel('count')\n",
    "plt.title(u'Число транзакций с разными tr_type')\n",
    "pd.merge(tmp[:15].reset_index(), tr_types)"
   ]
  },
  {
   "cell_type": "code",
   "execution_count": 5,
   "metadata": {
    "collapsed": false
   },
   "outputs": [
    {
     "name": "stderr",
     "output_type": "stream",
     "text": [
      "/Users/d.parpulov/anaconda/lib/python2.7/site-packages/ipykernel/__main__.py:5: FutureWarning: sort(columns=....) is deprecated, use sort_values(by=.....)\n"
     ]
    },
    {
     "data": {
      "text/html": [
       "<div>\n",
       "<table border=\"1\" class=\"dataframe\">\n",
       "  <thead>\n",
       "    <tr style=\"text-align: right;\">\n",
       "      <th></th>\n",
       "      <th>ж</th>\n",
       "      <th>м</th>\n",
       "      <th>tr_type_description</th>\n",
       "      <th>k_type</th>\n",
       "    </tr>\n",
       "    <tr>\n",
       "      <th>tr_type</th>\n",
       "      <th></th>\n",
       "      <th></th>\n",
       "      <th></th>\n",
       "      <th></th>\n",
       "    </tr>\n",
       "  </thead>\n",
       "  <tbody>\n",
       "    <tr>\n",
       "      <th>6210</th>\n",
       "      <td>39</td>\n",
       "      <td>377</td>\n",
       "      <td>Возврат покупки.POS Зарубеж. ТУ</td>\n",
       "      <td>0.812500</td>\n",
       "    </tr>\n",
       "    <tr>\n",
       "      <th>1310</th>\n",
       "      <td>130</td>\n",
       "      <td>749</td>\n",
       "      <td>н/д</td>\n",
       "      <td>0.704209</td>\n",
       "    </tr>\n",
       "    <tr>\n",
       "      <th>7075</th>\n",
       "      <td>58</td>\n",
       "      <td>332</td>\n",
       "      <td>Перевод с карты на карту в овердрафте через Мо...</td>\n",
       "      <td>0.702564</td>\n",
       "    </tr>\n",
       "    <tr>\n",
       "      <th>1410</th>\n",
       "      <td>240</td>\n",
       "      <td>854</td>\n",
       "      <td>н/д</td>\n",
       "      <td>0.561243</td>\n",
       "    </tr>\n",
       "    <tr>\n",
       "      <th>7035</th>\n",
       "      <td>52</td>\n",
       "      <td>119</td>\n",
       "      <td>Перевод на карту/ с карты через АТМ (со взиман...</td>\n",
       "      <td>0.391813</td>\n",
       "    </tr>\n",
       "  </tbody>\n",
       "</table>\n",
       "</div>"
      ],
      "text/plain": [
       "           ж    м                                tr_type_description    k_type\n",
       "tr_type                                                                       \n",
       "6210      39  377                    Возврат покупки.POS Зарубеж. ТУ  0.812500\n",
       "1310     130  749                                                н/д  0.704209\n",
       "7075      58  332  Перевод с карты на карту в овердрафте через Мо...  0.702564\n",
       "1410     240  854                                                н/д  0.561243\n",
       "7035      52  119  Перевод на карту/ с карты через АТМ (со взиман...  0.391813"
      ]
     },
     "execution_count": 5,
     "metadata": {},
     "output_type": "execute_result"
    }
   ],
   "source": [
    "trtype = pd.merge(pd.crosstab(transactions1.tr_type, transactions1.gender).reset_index(), tr_types)\n",
    "trtype['k_type'] = (trtype[1.0] - trtype[0.0])/(trtype[0.0] + trtype[1.0])\n",
    "trtype = trtype[(trtype[0.0] + trtype[1.0]) > 50] # достаточно статистики\n",
    "trtype.head()\n",
    "trtype.sort('k_type',  ascending=False, inplace=True)\n",
    "trtype.columns = [u'tr_type', u'ж', u'м', u'tr_type_description', u'k_type']\n",
    "trtype.set_index(trtype.tr_type, inplace=True)\n",
    "del trtype['tr_type']\n",
    "trtype.head()"
   ]
  },
  {
   "cell_type": "code",
   "execution_count": 6,
   "metadata": {
    "collapsed": false
   },
   "outputs": [
    {
     "data": {
      "text/html": [
       "<div>\n",
       "<table border=\"1\" class=\"dataframe\">\n",
       "  <thead>\n",
       "    <tr style=\"text-align: right;\">\n",
       "      <th></th>\n",
       "      <th>ж</th>\n",
       "      <th>м</th>\n",
       "      <th>tr_type_description</th>\n",
       "      <th>k_type</th>\n",
       "    </tr>\n",
       "    <tr>\n",
       "      <th>tr_type</th>\n",
       "      <th></th>\n",
       "      <th></th>\n",
       "      <th></th>\n",
       "      <th></th>\n",
       "    </tr>\n",
       "  </thead>\n",
       "  <tbody>\n",
       "    <tr>\n",
       "      <th>2320</th>\n",
       "      <td>2539</td>\n",
       "      <td>1444</td>\n",
       "      <td>Безналичный перевод денежных средств через POS</td>\n",
       "      <td>-0.274918</td>\n",
       "    </tr>\n",
       "    <tr>\n",
       "      <th>4100</th>\n",
       "      <td>77</td>\n",
       "      <td>41</td>\n",
       "      <td>Плата за получение наличных. Россия</td>\n",
       "      <td>-0.305085</td>\n",
       "    </tr>\n",
       "    <tr>\n",
       "      <th>6200</th>\n",
       "      <td>2183</td>\n",
       "      <td>1150</td>\n",
       "      <td>Возврат  покупки. Зарубеж. ТУ</td>\n",
       "      <td>-0.309931</td>\n",
       "    </tr>\n",
       "    <tr>\n",
       "      <th>7034</th>\n",
       "      <td>518</td>\n",
       "      <td>138</td>\n",
       "      <td>Перевод на карту/ с карты через АТМ (без взима...</td>\n",
       "      <td>-0.579268</td>\n",
       "    </tr>\n",
       "    <tr>\n",
       "      <th>8100</th>\n",
       "      <td>107</td>\n",
       "      <td>15</td>\n",
       "      <td>Списание после проведения претензионной работы</td>\n",
       "      <td>-0.754098</td>\n",
       "    </tr>\n",
       "  </tbody>\n",
       "</table>\n",
       "</div>"
      ],
      "text/plain": [
       "            ж     м                                tr_type_description  \\\n",
       "tr_type                                                                  \n",
       "2320     2539  1444     Безналичный перевод денежных средств через POS   \n",
       "4100       77    41                Плата за получение наличных. Россия   \n",
       "6200     2183  1150                      Возврат  покупки. Зарубеж. ТУ   \n",
       "7034      518   138  Перевод на карту/ с карты через АТМ (без взима...   \n",
       "8100      107    15     Списание после проведения претензионной работы   \n",
       "\n",
       "           k_type  \n",
       "tr_type            \n",
       "2320    -0.274918  \n",
       "4100    -0.305085  \n",
       "6200    -0.309931  \n",
       "7034    -0.579268  \n",
       "8100    -0.754098  "
      ]
     },
     "execution_count": 6,
     "metadata": {},
     "output_type": "execute_result"
    }
   ],
   "source": [
    "trtype.tail()"
   ]
  },
  {
   "cell_type": "markdown",
   "metadata": {},
   "source": [
    "## Gender mcc_codes"
   ]
  },
  {
   "cell_type": "code",
   "execution_count": 7,
   "metadata": {
    "collapsed": false
   },
   "outputs": [
    {
     "name": "stderr",
     "output_type": "stream",
     "text": [
      "/Users/d.parpulov/anaconda/lib/python2.7/site-packages/ipykernel/__main__.py:4: FutureWarning: sort(columns=....) is deprecated, use sort_values(by=.....)\n"
     ]
    },
    {
     "data": {
      "text/html": [
       "<div>\n",
       "<table border=\"1\" class=\"dataframe\">\n",
       "  <thead>\n",
       "    <tr style=\"text-align: right;\">\n",
       "      <th></th>\n",
       "      <th>ж</th>\n",
       "      <th>м</th>\n",
       "      <th>mcc_description</th>\n",
       "      <th>k_mcc</th>\n",
       "    </tr>\n",
       "    <tr>\n",
       "      <th>mcc_code</th>\n",
       "      <th></th>\n",
       "      <th></th>\n",
       "      <th></th>\n",
       "      <th></th>\n",
       "    </tr>\n",
       "  </thead>\n",
       "  <tbody>\n",
       "    <tr>\n",
       "      <th>5967</th>\n",
       "      <td>5</td>\n",
       "      <td>289</td>\n",
       "      <td>Прямой маркетинг — входящий телемаркетинг</td>\n",
       "      <td>0.965986</td>\n",
       "    </tr>\n",
       "    <tr>\n",
       "      <th>1731</th>\n",
       "      <td>8</td>\n",
       "      <td>65</td>\n",
       "      <td>Подрядчики по электричеству</td>\n",
       "      <td>0.780822</td>\n",
       "    </tr>\n",
       "    <tr>\n",
       "      <th>7995</th>\n",
       "      <td>2431</td>\n",
       "      <td>15650</td>\n",
       "      <td>Транзакции по азартным играм</td>\n",
       "      <td>0.731099</td>\n",
       "    </tr>\n",
       "    <tr>\n",
       "      <th>7994</th>\n",
       "      <td>1164</td>\n",
       "      <td>7404</td>\n",
       "      <td>Галереи/учреждения видеоигр</td>\n",
       "      <td>0.728291</td>\n",
       "    </tr>\n",
       "    <tr>\n",
       "      <th>6211</th>\n",
       "      <td>133</td>\n",
       "      <td>776</td>\n",
       "      <td>Ценные бумаги: брокеры/дилеры</td>\n",
       "      <td>0.707371</td>\n",
       "    </tr>\n",
       "  </tbody>\n",
       "</table>\n",
       "</div>"
      ],
      "text/plain": [
       "             ж      м                            mcc_description     k_mcc\n",
       "mcc_code                                                                  \n",
       "5967         5    289  Прямой маркетинг — входящий телемаркетинг  0.965986\n",
       "1731         8     65                Подрядчики по электричеству  0.780822\n",
       "7995      2431  15650               Транзакции по азартным играм  0.731099\n",
       "7994      1164   7404                Галереи/учреждения видеоигр  0.728291\n",
       "6211       133    776              Ценные бумаги: брокеры/дилеры  0.707371"
      ]
     },
     "execution_count": 7,
     "metadata": {},
     "output_type": "execute_result"
    }
   ],
   "source": [
    "mccode = pd.merge(pd.crosstab(transactions1.mcc_code, transactions1.gender).reset_index(), tr_mcc_codes)\n",
    "mccode['k_mcc'] = (mccode[1.0] - mccode[0.0])/(mccode[0.0] + mccode[1.0])\n",
    "\n",
    "mccode.sort('k_mcc',  ascending=False, inplace=True)\n",
    "mccode.columns = [u'mcc_code', u'ж', u'м', u'mcc_description', u'k_mcc']\n",
    "mccode.set_index(mccode.mcc_code, inplace=True)\n",
    "del mccode['mcc_code']\n",
    "mccode.head(5)"
   ]
  },
  {
   "cell_type": "markdown",
   "metadata": {},
   "source": [
    "## Explore traty by segment"
   ]
  },
  {
   "cell_type": "code",
   "execution_count": 8,
   "metadata": {
    "collapsed": false
   },
   "outputs": [
    {
     "data": {
      "text/html": [
       "<div>\n",
       "<table border=\"1\" class=\"dataframe\">\n",
       "  <thead>\n",
       "    <tr style=\"text-align: right;\">\n",
       "      <th></th>\n",
       "      <th>mcc_code</th>\n",
       "      <th>mean_mcc_amount_rashod</th>\n",
       "    </tr>\n",
       "  </thead>\n",
       "  <tbody>\n",
       "    <tr>\n",
       "      <th>0</th>\n",
       "      <td>742</td>\n",
       "      <td>-24517.757018</td>\n",
       "    </tr>\n",
       "    <tr>\n",
       "      <th>1</th>\n",
       "      <td>1711</td>\n",
       "      <td>-110246.181696</td>\n",
       "    </tr>\n",
       "    <tr>\n",
       "      <th>2</th>\n",
       "      <td>1731</td>\n",
       "      <td>-22525.922099</td>\n",
       "    </tr>\n",
       "    <tr>\n",
       "      <th>3</th>\n",
       "      <td>1799</td>\n",
       "      <td>-92968.086034</td>\n",
       "    </tr>\n",
       "    <tr>\n",
       "      <th>4</th>\n",
       "      <td>2741</td>\n",
       "      <td>-27471.208269</td>\n",
       "    </tr>\n",
       "  </tbody>\n",
       "</table>\n",
       "</div>"
      ],
      "text/plain": [
       "   mcc_code  mean_mcc_amount_rashod\n",
       "0       742           -24517.757018\n",
       "1      1711          -110246.181696\n",
       "2      1731           -22525.922099\n",
       "3      1799           -92968.086034\n",
       "4      2741           -27471.208269"
      ]
     },
     "execution_count": 8,
     "metadata": {},
     "output_type": "execute_result"
    }
   ],
   "source": [
    "mean_rashod_amount = transactions1[transactions1.amount<0].groupby(\"mcc_code\").amount.mean().reset_index() #только траты\n",
    "mean_rashod_amount.columns = [\"mcc_code\", \"mean_mcc_amount_rashod\"]\n",
    "mean_rashod_amount.head()  # средний расход всех кастомеров в сегменте"
   ]
  },
  {
   "cell_type": "code",
   "execution_count": 9,
   "metadata": {
    "collapsed": false
   },
   "outputs": [
    {
     "data": {
      "text/html": [
       "<div>\n",
       "<table border=\"1\" class=\"dataframe\">\n",
       "  <thead>\n",
       "    <tr style=\"text-align: right;\">\n",
       "      <th></th>\n",
       "      <th>customer_id</th>\n",
       "      <th>mcc_code</th>\n",
       "      <th>mean_amount_rashod_mcc</th>\n",
       "    </tr>\n",
       "  </thead>\n",
       "  <tbody>\n",
       "    <tr>\n",
       "      <th>0</th>\n",
       "      <td>6815</td>\n",
       "      <td>4814</td>\n",
       "      <td>-2770.465889</td>\n",
       "    </tr>\n",
       "    <tr>\n",
       "      <th>1</th>\n",
       "      <td>6815</td>\n",
       "      <td>5311</td>\n",
       "      <td>-8070.017241</td>\n",
       "    </tr>\n",
       "    <tr>\n",
       "      <th>2</th>\n",
       "      <td>6815</td>\n",
       "      <td>5411</td>\n",
       "      <td>-8139.523793</td>\n",
       "    </tr>\n",
       "    <tr>\n",
       "      <th>3</th>\n",
       "      <td>6815</td>\n",
       "      <td>5921</td>\n",
       "      <td>-12464.835000</td>\n",
       "    </tr>\n",
       "    <tr>\n",
       "      <th>4</th>\n",
       "      <td>6815</td>\n",
       "      <td>6011</td>\n",
       "      <td>-45880.852571</td>\n",
       "    </tr>\n",
       "  </tbody>\n",
       "</table>\n",
       "</div>"
      ],
      "text/plain": [
       "   customer_id  mcc_code  mean_amount_rashod_mcc\n",
       "0         6815      4814            -2770.465889\n",
       "1         6815      5311            -8070.017241\n",
       "2         6815      5411            -8139.523793\n",
       "3         6815      5921           -12464.835000\n",
       "4         6815      6011           -45880.852571"
      ]
     },
     "execution_count": 9,
     "metadata": {},
     "output_type": "execute_result"
    }
   ],
   "source": [
    "customer_rashod_mcc = transactions1[transactions1.amount<0].groupby([\"customer_id\", \"mcc_code\"]).amount.mean().reset_index()\n",
    "# средний расход каждого юзера в данном мсс коде\n",
    "customer_rashod_mcc.columns = [\"customer_id\", \"mcc_code\", \"mean_amount_rashod_mcc\"]\n",
    "customer_rashod_mcc.head()"
   ]
  },
  {
   "cell_type": "markdown",
   "metadata": {},
   "source": [
    "### Посмотрим, отличаются ли траты по сегментам, в зависимости от пола"
   ]
  },
  {
   "cell_type": "code",
   "execution_count": 10,
   "metadata": {
    "collapsed": false
   },
   "outputs": [],
   "source": [
    "tr = pd.merge(transactions1[[\"customer_id\", \"mcc_code\", \"gender\"]], customer_rashod_mcc)\n",
    "\n",
    "mean_gender_mcc_traty = tr.groupby([\"mcc_code\", \"gender\"]).mean_amount_rashod_mcc.mean().unstack().reset_index()\n",
    "mean_gender_mcc_traty.columns = [\"mcc_code\", \"f\", \"m\"]\n",
    "mean_gender_mcc_traty['k_mcc_traty'] = (-mean_gender_mcc_traty[\"m\"] - -mean_gender_mcc_traty[\"f\"])/\\\n",
    "                                        (-mean_gender_mcc_traty[\"f\"] + -mean_gender_mcc_traty[\"m\"])"
   ]
  },
  {
   "cell_type": "markdown",
   "metadata": {},
   "source": [
    "посмотрим на топ"
   ]
  },
  {
   "cell_type": "code",
   "execution_count": 11,
   "metadata": {
    "collapsed": false
   },
   "outputs": [
    {
     "data": {
      "text/html": [
       "<div>\n",
       "<table border=\"1\" class=\"dataframe\">\n",
       "  <thead>\n",
       "    <tr style=\"text-align: right;\">\n",
       "      <th></th>\n",
       "      <th>mcc_code</th>\n",
       "      <th>f</th>\n",
       "      <th>m</th>\n",
       "      <th>k_mcc_traty</th>\n",
       "      <th>mcc_description</th>\n",
       "    </tr>\n",
       "  </thead>\n",
       "  <tbody>\n",
       "    <tr>\n",
       "      <th>0</th>\n",
       "      <td>5968</td>\n",
       "      <td>-23270.366850</td>\n",
       "      <td>-1.308225e+06</td>\n",
       "      <td>0.965046</td>\n",
       "      <td>Прямой маркетинг — торговые точки подписки</td>\n",
       "    </tr>\n",
       "    <tr>\n",
       "      <th>1</th>\n",
       "      <td>5940</td>\n",
       "      <td>-47158.840909</td>\n",
       "      <td>-2.086255e+06</td>\n",
       "      <td>0.955790</td>\n",
       "      <td>Веломагазины — продажа и обслуживание</td>\n",
       "    </tr>\n",
       "    <tr>\n",
       "      <th>2</th>\n",
       "      <td>8398</td>\n",
       "      <td>-7833.136415</td>\n",
       "      <td>-2.970880e+05</td>\n",
       "      <td>0.948622</td>\n",
       "      <td>Организации благотворительные и общественные с...</td>\n",
       "    </tr>\n",
       "    <tr>\n",
       "      <th>3</th>\n",
       "      <td>6513</td>\n",
       "      <td>-54282.680833</td>\n",
       "      <td>-9.880548e+05</td>\n",
       "      <td>0.895844</td>\n",
       "      <td>Агенты и менеджеры по аренде недвижимости</td>\n",
       "    </tr>\n",
       "    <tr>\n",
       "      <th>4</th>\n",
       "      <td>8699</td>\n",
       "      <td>-44334.205238</td>\n",
       "      <td>-4.832830e+05</td>\n",
       "      <td>0.831946</td>\n",
       "      <td>Организации, членства, нигде ранее не классифи...</td>\n",
       "    </tr>\n",
       "    <tr>\n",
       "      <th>5</th>\n",
       "      <td>8220</td>\n",
       "      <td>-121961.378750</td>\n",
       "      <td>-7.272393e+05</td>\n",
       "      <td>0.712762</td>\n",
       "      <td>Колледжи, университеты, профессиональные школы...</td>\n",
       "    </tr>\n",
       "    <tr>\n",
       "      <th>6</th>\n",
       "      <td>7531</td>\n",
       "      <td>-25182.954444</td>\n",
       "      <td>-1.340364e+05</td>\n",
       "      <td>0.683670</td>\n",
       "      <td>Станции технического обслуживания для автомоби...</td>\n",
       "    </tr>\n",
       "    <tr>\n",
       "      <th>7</th>\n",
       "      <td>5094</td>\n",
       "      <td>-43033.282397</td>\n",
       "      <td>-1.893381e+05</td>\n",
       "      <td>0.629616</td>\n",
       "      <td>Драгоценные камни и металлы, часы и ювелирные ...</td>\n",
       "    </tr>\n",
       "    <tr>\n",
       "      <th>8</th>\n",
       "      <td>5072</td>\n",
       "      <td>-21131.697407</td>\n",
       "      <td>-7.281719e+04</td>\n",
       "      <td>0.550145</td>\n",
       "      <td>Оборудование и сопутствующие материалы для тех...</td>\n",
       "    </tr>\n",
       "    <tr>\n",
       "      <th>9</th>\n",
       "      <td>8299</td>\n",
       "      <td>-82227.201484</td>\n",
       "      <td>-2.780755e+05</td>\n",
       "      <td>0.543566</td>\n",
       "      <td>Образовательные услуги</td>\n",
       "    </tr>\n",
       "  </tbody>\n",
       "</table>\n",
       "</div>"
      ],
      "text/plain": [
       "   mcc_code              f             m  k_mcc_traty  \\\n",
       "0      5968  -23270.366850 -1.308225e+06     0.965046   \n",
       "1      5940  -47158.840909 -2.086255e+06     0.955790   \n",
       "2      8398   -7833.136415 -2.970880e+05     0.948622   \n",
       "3      6513  -54282.680833 -9.880548e+05     0.895844   \n",
       "4      8699  -44334.205238 -4.832830e+05     0.831946   \n",
       "5      8220 -121961.378750 -7.272393e+05     0.712762   \n",
       "6      7531  -25182.954444 -1.340364e+05     0.683670   \n",
       "7      5094  -43033.282397 -1.893381e+05     0.629616   \n",
       "8      5072  -21131.697407 -7.281719e+04     0.550145   \n",
       "9      8299  -82227.201484 -2.780755e+05     0.543566   \n",
       "\n",
       "                                     mcc_description  \n",
       "0         Прямой маркетинг — торговые точки подписки  \n",
       "1              Веломагазины — продажа и обслуживание  \n",
       "2  Организации благотворительные и общественные с...  \n",
       "3          Агенты и менеджеры по аренде недвижимости  \n",
       "4  Организации, членства, нигде ранее не классифи...  \n",
       "5  Колледжи, университеты, профессиональные школы...  \n",
       "6  Станции технического обслуживания для автомоби...  \n",
       "7  Драгоценные камни и металлы, часы и ювелирные ...  \n",
       "8  Оборудование и сопутствующие материалы для тех...  \n",
       "9                             Образовательные услуги  "
      ]
     },
     "execution_count": 11,
     "metadata": {},
     "output_type": "execute_result"
    }
   ],
   "source": [
    "pd.merge(mean_gender_mcc_traty.sort_values(\"k_mcc_traty\", ascending=False).head(10), tr_mcc_codes)\n",
    "# ну вообще-то показательно!!!"
   ]
  },
  {
   "cell_type": "code",
   "execution_count": null,
   "metadata": {
    "collapsed": true
   },
   "outputs": [],
   "source": []
  },
  {
   "cell_type": "markdown",
   "metadata": {},
   "source": [
    "## Explore income by segment"
   ]
  },
  {
   "cell_type": "code",
   "execution_count": 12,
   "metadata": {
    "collapsed": false
   },
   "outputs": [
    {
     "data": {
      "text/html": [
       "<div>\n",
       "<table border=\"1\" class=\"dataframe\">\n",
       "  <thead>\n",
       "    <tr style=\"text-align: right;\">\n",
       "      <th></th>\n",
       "      <th>mcc_code</th>\n",
       "      <th>mean_mcc_amount_income</th>\n",
       "    </tr>\n",
       "  </thead>\n",
       "  <tbody>\n",
       "    <tr>\n",
       "      <th>0</th>\n",
       "      <td>1711</td>\n",
       "      <td>49410.150000</td>\n",
       "    </tr>\n",
       "    <tr>\n",
       "      <th>1</th>\n",
       "      <td>2741</td>\n",
       "      <td>34076.830000</td>\n",
       "    </tr>\n",
       "    <tr>\n",
       "      <th>2</th>\n",
       "      <td>3000</td>\n",
       "      <td>319591.321010</td>\n",
       "    </tr>\n",
       "    <tr>\n",
       "      <th>3</th>\n",
       "      <td>3351</td>\n",
       "      <td>173277.535714</td>\n",
       "    </tr>\n",
       "    <tr>\n",
       "      <th>4</th>\n",
       "      <td>3501</td>\n",
       "      <td>302379.320000</td>\n",
       "    </tr>\n",
       "  </tbody>\n",
       "</table>\n",
       "</div>"
      ],
      "text/plain": [
       "   mcc_code  mean_mcc_amount_income\n",
       "0      1711            49410.150000\n",
       "1      2741            34076.830000\n",
       "2      3000           319591.321010\n",
       "3      3351           173277.535714\n",
       "4      3501           302379.320000"
      ]
     },
     "execution_count": 12,
     "metadata": {},
     "output_type": "execute_result"
    }
   ],
   "source": [
    "mean_income_amount = transactions1[transactions1.amount>0].groupby(\"mcc_code\").amount.mean().reset_index() #только траты\n",
    "mean_income_amount.columns = [\"mcc_code\", \"mean_mcc_amount_income\"]\n",
    "mean_income_amount.head()  # средний доход всех кастомеров в сегменте"
   ]
  },
  {
   "cell_type": "code",
   "execution_count": 13,
   "metadata": {
    "collapsed": false
   },
   "outputs": [
    {
     "data": {
      "text/html": [
       "<div>\n",
       "<table border=\"1\" class=\"dataframe\">\n",
       "  <thead>\n",
       "    <tr style=\"text-align: right;\">\n",
       "      <th></th>\n",
       "      <th>customer_id</th>\n",
       "      <th>mcc_code</th>\n",
       "      <th>mean_amount_income_mcc</th>\n",
       "    </tr>\n",
       "  </thead>\n",
       "  <tbody>\n",
       "    <tr>\n",
       "      <th>0</th>\n",
       "      <td>6815</td>\n",
       "      <td>6010</td>\n",
       "      <td>2.470507e+06</td>\n",
       "    </tr>\n",
       "    <tr>\n",
       "      <th>1</th>\n",
       "      <td>6815</td>\n",
       "      <td>6011</td>\n",
       "      <td>4.720915e+04</td>\n",
       "    </tr>\n",
       "    <tr>\n",
       "      <th>2</th>\n",
       "      <td>22899</td>\n",
       "      <td>6010</td>\n",
       "      <td>5.860164e+04</td>\n",
       "    </tr>\n",
       "    <tr>\n",
       "      <th>3</th>\n",
       "      <td>22899</td>\n",
       "      <td>6011</td>\n",
       "      <td>1.044519e+05</td>\n",
       "    </tr>\n",
       "    <tr>\n",
       "      <th>4</th>\n",
       "      <td>27914</td>\n",
       "      <td>6010</td>\n",
       "      <td>7.860705e+04</td>\n",
       "    </tr>\n",
       "  </tbody>\n",
       "</table>\n",
       "</div>"
      ],
      "text/plain": [
       "   customer_id  mcc_code  mean_amount_income_mcc\n",
       "0         6815      6010            2.470507e+06\n",
       "1         6815      6011            4.720915e+04\n",
       "2        22899      6010            5.860164e+04\n",
       "3        22899      6011            1.044519e+05\n",
       "4        27914      6010            7.860705e+04"
      ]
     },
     "execution_count": 13,
     "metadata": {},
     "output_type": "execute_result"
    }
   ],
   "source": [
    "customer_income_mcc = transactions1[transactions1.amount>0].groupby([\"customer_id\", \"mcc_code\"]).amount.mean().reset_index()\n",
    "# средний доход каждого юзера в данном мсс коде\n",
    "customer_income_mcc.columns = [\"customer_id\", \"mcc_code\", \"mean_amount_income_mcc\"]\n",
    "customer_income_mcc.head()"
   ]
  },
  {
   "cell_type": "markdown",
   "metadata": {},
   "source": [
    "### Посмотрим, отличаются ли доходы по сегментам, в зависимости от пола"
   ]
  },
  {
   "cell_type": "code",
   "execution_count": 14,
   "metadata": {
    "collapsed": true
   },
   "outputs": [],
   "source": [
    "tr = pd.merge(transactions1[[\"customer_id\", \"mcc_code\", \"gender\"]], customer_income_mcc)\n",
    "\n",
    "mean_gender_mcc_income = tr.groupby([\"mcc_code\", \"gender\"]).mean_amount_income_mcc.mean().unstack().reset_index()\n",
    "mean_gender_mcc_income.columns = [\"mcc_code\", \"f\", \"m\"]\n",
    "mean_gender_mcc_income['k_mcc_income'] = (mean_gender_mcc_income[\"m\"] - mean_gender_mcc_income[\"f\"])/\\\n",
    "                                        (mean_gender_mcc_income[\"f\"] + mean_gender_mcc_income[\"m\"])"
   ]
  },
  {
   "cell_type": "markdown",
   "metadata": {},
   "source": [
    "посмотрим на топ"
   ]
  },
  {
   "cell_type": "code",
   "execution_count": 15,
   "metadata": {
    "collapsed": false
   },
   "outputs": [
    {
     "data": {
      "text/html": [
       "<div>\n",
       "<table border=\"1\" class=\"dataframe\">\n",
       "  <thead>\n",
       "    <tr style=\"text-align: right;\">\n",
       "      <th></th>\n",
       "      <th>mcc_code</th>\n",
       "      <th>f</th>\n",
       "      <th>m</th>\n",
       "      <th>k_mcc_income</th>\n",
       "      <th>mcc_description</th>\n",
       "    </tr>\n",
       "  </thead>\n",
       "  <tbody>\n",
       "    <tr>\n",
       "      <th>0</th>\n",
       "      <td>5094</td>\n",
       "      <td>8556.424286</td>\n",
       "      <td>942543.996667</td>\n",
       "      <td>0.982007</td>\n",
       "      <td>Драгоценные камни и металлы, часы и ювелирные ...</td>\n",
       "    </tr>\n",
       "    <tr>\n",
       "      <th>1</th>\n",
       "      <td>5983</td>\n",
       "      <td>2790.773657</td>\n",
       "      <td>129848.894942</td>\n",
       "      <td>0.957919</td>\n",
       "      <td>Горючее топливо — уголь, нефть, разжиженный бе...</td>\n",
       "    </tr>\n",
       "    <tr>\n",
       "      <th>2</th>\n",
       "      <td>5965</td>\n",
       "      <td>33576.891250</td>\n",
       "      <td>445033.150000</td>\n",
       "      <td>0.859690</td>\n",
       "      <td>Прямой маркетинг — комбинированный каталог и т...</td>\n",
       "    </tr>\n",
       "    <tr>\n",
       "      <th>3</th>\n",
       "      <td>5309</td>\n",
       "      <td>73185.706158</td>\n",
       "      <td>847993.671429</td>\n",
       "      <td>0.841104</td>\n",
       "      <td>Беспошлинные магазины Duty Free</td>\n",
       "    </tr>\n",
       "    <tr>\n",
       "      <th>4</th>\n",
       "      <td>5812</td>\n",
       "      <td>6121.534187</td>\n",
       "      <td>66472.781425</td>\n",
       "      <td>0.831349</td>\n",
       "      <td>Места общественного питания, рестораны</td>\n",
       "    </tr>\n",
       "    <tr>\n",
       "      <th>5</th>\n",
       "      <td>5713</td>\n",
       "      <td>36209.472727</td>\n",
       "      <td>310847.187143</td>\n",
       "      <td>0.791334</td>\n",
       "      <td>Покрытия для пола</td>\n",
       "    </tr>\n",
       "    <tr>\n",
       "      <th>6</th>\n",
       "      <td>8999</td>\n",
       "      <td>9847.081427</td>\n",
       "      <td>83694.910638</td>\n",
       "      <td>0.789462</td>\n",
       "      <td>Профессиональные услуги, нигде ранее не класси...</td>\n",
       "    </tr>\n",
       "    <tr>\n",
       "      <th>7</th>\n",
       "      <td>4829</td>\n",
       "      <td>22144.817414</td>\n",
       "      <td>140151.826344</td>\n",
       "      <td>0.727107</td>\n",
       "      <td>Денежные переводы</td>\n",
       "    </tr>\n",
       "    <tr>\n",
       "      <th>8</th>\n",
       "      <td>7993</td>\n",
       "      <td>12330.080000</td>\n",
       "      <td>71846.850000</td>\n",
       "      <td>0.707044</td>\n",
       "      <td>Принадлежности для видеоигр</td>\n",
       "    </tr>\n",
       "    <tr>\n",
       "      <th>9</th>\n",
       "      <td>5912</td>\n",
       "      <td>7177.262854</td>\n",
       "      <td>39679.536831</td>\n",
       "      <td>0.693651</td>\n",
       "      <td>Аптеки</td>\n",
       "    </tr>\n",
       "  </tbody>\n",
       "</table>\n",
       "</div>"
      ],
      "text/plain": [
       "   mcc_code             f              m  k_mcc_income  \\\n",
       "0      5094   8556.424286  942543.996667      0.982007   \n",
       "1      5983   2790.773657  129848.894942      0.957919   \n",
       "2      5965  33576.891250  445033.150000      0.859690   \n",
       "3      5309  73185.706158  847993.671429      0.841104   \n",
       "4      5812   6121.534187   66472.781425      0.831349   \n",
       "5      5713  36209.472727  310847.187143      0.791334   \n",
       "6      8999   9847.081427   83694.910638      0.789462   \n",
       "7      4829  22144.817414  140151.826344      0.727107   \n",
       "8      7993  12330.080000   71846.850000      0.707044   \n",
       "9      5912   7177.262854   39679.536831      0.693651   \n",
       "\n",
       "                                     mcc_description  \n",
       "0  Драгоценные камни и металлы, часы и ювелирные ...  \n",
       "1  Горючее топливо — уголь, нефть, разжиженный бе...  \n",
       "2  Прямой маркетинг — комбинированный каталог и т...  \n",
       "3                    Беспошлинные магазины Duty Free  \n",
       "4             Места общественного питания, рестораны  \n",
       "5                                  Покрытия для пола  \n",
       "6  Профессиональные услуги, нигде ранее не класси...  \n",
       "7                                  Денежные переводы  \n",
       "8                        Принадлежности для видеоигр  \n",
       "9                                             Аптеки  "
      ]
     },
     "execution_count": 15,
     "metadata": {},
     "output_type": "execute_result"
    }
   ],
   "source": [
    "pd.merge(mean_gender_mcc_income.sort_values(\"k_mcc_income\", ascending=False).head(10), tr_mcc_codes)\n",
    "# ну вообще-то показательно!!!"
   ]
  },
  {
   "cell_type": "markdown",
   "metadata": {},
   "source": [
    "## Explore traty by transactions type"
   ]
  },
  {
   "cell_type": "code",
   "execution_count": 16,
   "metadata": {
    "collapsed": false
   },
   "outputs": [
    {
     "data": {
      "text/html": [
       "<div>\n",
       "<table border=\"1\" class=\"dataframe\">\n",
       "  <thead>\n",
       "    <tr style=\"text-align: right;\">\n",
       "      <th></th>\n",
       "      <th>tr_type</th>\n",
       "      <th>mean_trtype_amount_rashod</th>\n",
       "    </tr>\n",
       "  </thead>\n",
       "  <tbody>\n",
       "    <tr>\n",
       "      <th>0</th>\n",
       "      <td>1000</td>\n",
       "      <td>-316414.063023</td>\n",
       "    </tr>\n",
       "    <tr>\n",
       "      <th>1</th>\n",
       "      <td>1010</td>\n",
       "      <td>-17057.547630</td>\n",
       "    </tr>\n",
       "    <tr>\n",
       "      <th>2</th>\n",
       "      <td>1030</td>\n",
       "      <td>-4700.393461</td>\n",
       "    </tr>\n",
       "    <tr>\n",
       "      <th>3</th>\n",
       "      <td>1100</td>\n",
       "      <td>-39823.624382</td>\n",
       "    </tr>\n",
       "    <tr>\n",
       "      <th>4</th>\n",
       "      <td>1110</td>\n",
       "      <td>-26788.780933</td>\n",
       "    </tr>\n",
       "  </tbody>\n",
       "</table>\n",
       "</div>"
      ],
      "text/plain": [
       "   tr_type  mean_trtype_amount_rashod\n",
       "0     1000             -316414.063023\n",
       "1     1010              -17057.547630\n",
       "2     1030               -4700.393461\n",
       "3     1100              -39823.624382\n",
       "4     1110              -26788.780933"
      ]
     },
     "execution_count": 16,
     "metadata": {},
     "output_type": "execute_result"
    }
   ],
   "source": [
    "mean_rashod_amount_trtype = transactions1[transactions1.amount<0].groupby(\"tr_type\").amount.mean().reset_index() #только траты\n",
    "mean_rashod_amount_trtype.columns = [\"tr_type\", \"mean_trtype_amount_rashod\"]\n",
    "mean_rashod_amount_trtype.head()  # средний расход всех кастомеров по данному типу транзакции"
   ]
  },
  {
   "cell_type": "code",
   "execution_count": 17,
   "metadata": {
    "collapsed": false
   },
   "outputs": [
    {
     "data": {
      "text/html": [
       "<div>\n",
       "<table border=\"1\" class=\"dataframe\">\n",
       "  <thead>\n",
       "    <tr style=\"text-align: right;\">\n",
       "      <th></th>\n",
       "      <th>customer_id</th>\n",
       "      <th>tr_type</th>\n",
       "      <th>mean_amount_rashod_trtype</th>\n",
       "    </tr>\n",
       "  </thead>\n",
       "  <tbody>\n",
       "    <tr>\n",
       "      <th>0</th>\n",
       "      <td>6815</td>\n",
       "      <td>1010</td>\n",
       "      <td>-7627.253810</td>\n",
       "    </tr>\n",
       "    <tr>\n",
       "      <th>1</th>\n",
       "      <td>6815</td>\n",
       "      <td>1030</td>\n",
       "      <td>-2770.465889</td>\n",
       "    </tr>\n",
       "    <tr>\n",
       "      <th>2</th>\n",
       "      <td>6815</td>\n",
       "      <td>1110</td>\n",
       "      <td>-9703.427778</td>\n",
       "    </tr>\n",
       "    <tr>\n",
       "      <th>3</th>\n",
       "      <td>6815</td>\n",
       "      <td>2010</td>\n",
       "      <td>-45880.852571</td>\n",
       "    </tr>\n",
       "    <tr>\n",
       "      <th>4</th>\n",
       "      <td>22899</td>\n",
       "      <td>1010</td>\n",
       "      <td>-6237.096667</td>\n",
       "    </tr>\n",
       "  </tbody>\n",
       "</table>\n",
       "</div>"
      ],
      "text/plain": [
       "   customer_id  tr_type  mean_amount_rashod_trtype\n",
       "0         6815     1010               -7627.253810\n",
       "1         6815     1030               -2770.465889\n",
       "2         6815     1110               -9703.427778\n",
       "3         6815     2010              -45880.852571\n",
       "4        22899     1010               -6237.096667"
      ]
     },
     "execution_count": 17,
     "metadata": {},
     "output_type": "execute_result"
    }
   ],
   "source": [
    "customer_rashod_trtype = transactions1[transactions1.amount<0].groupby([\"customer_id\", \"tr_type\"]).amount.mean().reset_index()\n",
    "# средний расход каждого юзера по данному типу транзакции\n",
    "customer_rashod_trtype.columns = [\"customer_id\", \"tr_type\", \"mean_amount_rashod_trtype\"]\n",
    "customer_rashod_trtype.head()"
   ]
  },
  {
   "cell_type": "markdown",
   "metadata": {},
   "source": [
    "### Посмотрим, отличаются ли расходы по типам транзакций, в зависимости от пола"
   ]
  },
  {
   "cell_type": "code",
   "execution_count": 18,
   "metadata": {
    "collapsed": true
   },
   "outputs": [],
   "source": [
    "tr = pd.merge(transactions1[[\"customer_id\", \"tr_type\", \"gender\"]], customer_rashod_trtype)\n",
    "\n",
    "mean_gender_trtype_rashod = tr.groupby([\"tr_type\", \"gender\"]).mean_amount_rashod_trtype.mean().unstack().reset_index()\n",
    "mean_gender_trtype_rashod.columns = [\"tr_type\", \"f\", \"m\"]\n",
    "mean_gender_trtype_rashod['k_trtype_rashod'] = (-mean_gender_trtype_rashod[\"m\"] - -mean_gender_trtype_rashod[\"f\"])/\\\n",
    "                                                (-mean_gender_trtype_rashod[\"f\"] + -mean_gender_trtype_rashod[\"m\"])"
   ]
  },
  {
   "cell_type": "code",
   "execution_count": 19,
   "metadata": {
    "collapsed": false
   },
   "outputs": [
    {
     "name": "stderr",
     "output_type": "stream",
     "text": [
      "/Users/d.parpulov/anaconda/lib/python2.7/site-packages/ipykernel/__main__.py:1: FutureWarning: sort(columns=....) is deprecated, use sort_values(by=.....)\n",
      "  if __name__ == '__main__':\n"
     ]
    },
    {
     "data": {
      "text/html": [
       "<div>\n",
       "<table border=\"1\" class=\"dataframe\">\n",
       "  <thead>\n",
       "    <tr style=\"text-align: right;\">\n",
       "      <th></th>\n",
       "      <th>tr_type</th>\n",
       "      <th>f</th>\n",
       "      <th>m</th>\n",
       "      <th>k_trtype_rashod</th>\n",
       "    </tr>\n",
       "  </thead>\n",
       "  <tbody>\n",
       "    <tr>\n",
       "      <th>49</th>\n",
       "      <td>6110</td>\n",
       "      <td>-80403.786000</td>\n",
       "      <td>-20774.720000</td>\n",
       "      <td>-0.589345</td>\n",
       "    </tr>\n",
       "    <tr>\n",
       "      <th>0</th>\n",
       "      <td>1000</td>\n",
       "      <td>-220331.428571</td>\n",
       "      <td>-125480.652609</td>\n",
       "      <td>-0.274284</td>\n",
       "    </tr>\n",
       "    <tr>\n",
       "      <th>27</th>\n",
       "      <td>2446</td>\n",
       "      <td>-187459.104000</td>\n",
       "      <td>-120105.450455</td>\n",
       "      <td>-0.218990</td>\n",
       "    </tr>\n",
       "    <tr>\n",
       "      <th>42</th>\n",
       "      <td>4096</td>\n",
       "      <td>-2884.877000</td>\n",
       "      <td>-1868.191364</td>\n",
       "      <td>-0.213901</td>\n",
       "    </tr>\n",
       "    <tr>\n",
       "      <th>7</th>\n",
       "      <td>1310</td>\n",
       "      <td>-32037.820462</td>\n",
       "      <td>-22528.525581</td>\n",
       "      <td>-0.174270</td>\n",
       "    </tr>\n",
       "  </tbody>\n",
       "</table>\n",
       "</div>"
      ],
      "text/plain": [
       "    tr_type              f              m  k_trtype_rashod\n",
       "49     6110  -80403.786000  -20774.720000        -0.589345\n",
       "0      1000 -220331.428571 -125480.652609        -0.274284\n",
       "27     2446 -187459.104000 -120105.450455        -0.218990\n",
       "42     4096   -2884.877000   -1868.191364        -0.213901\n",
       "7      1310  -32037.820462  -22528.525581        -0.174270"
      ]
     },
     "execution_count": 19,
     "metadata": {},
     "output_type": "execute_result"
    }
   ],
   "source": [
    "mean_gender_trtype_rashod.sort(\"k_trtype_rashod\").head()"
   ]
  },
  {
   "cell_type": "code",
   "execution_count": 20,
   "metadata": {
    "collapsed": false
   },
   "outputs": [
    {
     "data": {
      "text/html": [
       "<div>\n",
       "<table border=\"1\" class=\"dataframe\">\n",
       "  <thead>\n",
       "    <tr style=\"text-align: right;\">\n",
       "      <th></th>\n",
       "      <th>tr_type</th>\n",
       "      <th>f</th>\n",
       "      <th>m</th>\n",
       "      <th>k_trtype_rashod</th>\n",
       "      <th>tr_description</th>\n",
       "    </tr>\n",
       "  </thead>\n",
       "  <tbody>\n",
       "    <tr>\n",
       "      <th>0</th>\n",
       "      <td>7071</td>\n",
       "      <td>-16282.890000</td>\n",
       "      <td>-4.043771e+05</td>\n",
       "      <td>0.922584</td>\n",
       "      <td>Перевод на карту (с карты) через Мобильный бан...</td>\n",
       "    </tr>\n",
       "    <tr>\n",
       "      <th>1</th>\n",
       "      <td>1510</td>\n",
       "      <td>-131911.436000</td>\n",
       "      <td>-7.222955e+05</td>\n",
       "      <td>0.691149</td>\n",
       "      <td>н/д</td>\n",
       "    </tr>\n",
       "    <tr>\n",
       "      <th>2</th>\n",
       "      <td>7030</td>\n",
       "      <td>-13860.889770</td>\n",
       "      <td>-6.041513e+04</td>\n",
       "      <td>0.626773</td>\n",
       "      <td>Перевод на карту (с карты) через АТМ (в предел...</td>\n",
       "    </tr>\n",
       "    <tr>\n",
       "      <th>3</th>\n",
       "      <td>2341</td>\n",
       "      <td>-668371.059500</td>\n",
       "      <td>-2.408681e+06</td>\n",
       "      <td>0.565577</td>\n",
       "      <td>Списание с карты по операции “перевода с карты...</td>\n",
       "    </tr>\n",
       "    <tr>\n",
       "      <th>4</th>\n",
       "      <td>4045</td>\n",
       "      <td>-884.330000</td>\n",
       "      <td>-3.183632e+03</td>\n",
       "      <td>0.565222</td>\n",
       "      <td>н/д</td>\n",
       "    </tr>\n",
       "    <tr>\n",
       "      <th>5</th>\n",
       "      <td>4021</td>\n",
       "      <td>-5392.530575</td>\n",
       "      <td>-1.738256e+04</td>\n",
       "      <td>0.526454</td>\n",
       "      <td>Плата за получение наличных через POS в Сберба...</td>\n",
       "    </tr>\n",
       "    <tr>\n",
       "      <th>6</th>\n",
       "      <td>2020</td>\n",
       "      <td>-354565.791564</td>\n",
       "      <td>-8.742304e+05</td>\n",
       "      <td>0.422905</td>\n",
       "      <td>Выдача наличных через POS Сбербанка</td>\n",
       "    </tr>\n",
       "    <tr>\n",
       "      <th>7</th>\n",
       "      <td>4061</td>\n",
       "      <td>-5066.605000</td>\n",
       "      <td>-1.135390e+04</td>\n",
       "      <td>0.382893</td>\n",
       "      <td>Плата за перевод на карту (с карты) через POS ...</td>\n",
       "    </tr>\n",
       "    <tr>\n",
       "      <th>8</th>\n",
       "      <td>2021</td>\n",
       "      <td>-745090.501418</td>\n",
       "      <td>-1.613496e+06</td>\n",
       "      <td>0.368189</td>\n",
       "      <td>Выдача наличных через POS Сбербанка (в других ТБ)</td>\n",
       "    </tr>\n",
       "    <tr>\n",
       "      <th>9</th>\n",
       "      <td>2330</td>\n",
       "      <td>-182027.296172</td>\n",
       "      <td>-3.660178e+05</td>\n",
       "      <td>0.335721</td>\n",
       "      <td>Списание с карты по операции “перевода с карты...</td>\n",
       "    </tr>\n",
       "  </tbody>\n",
       "</table>\n",
       "</div>"
      ],
      "text/plain": [
       "   tr_type              f             m  k_trtype_rashod  \\\n",
       "0     7071  -16282.890000 -4.043771e+05         0.922584   \n",
       "1     1510 -131911.436000 -7.222955e+05         0.691149   \n",
       "2     7030  -13860.889770 -6.041513e+04         0.626773   \n",
       "3     2341 -668371.059500 -2.408681e+06         0.565577   \n",
       "4     4045    -884.330000 -3.183632e+03         0.565222   \n",
       "5     4021   -5392.530575 -1.738256e+04         0.526454   \n",
       "6     2020 -354565.791564 -8.742304e+05         0.422905   \n",
       "7     4061   -5066.605000 -1.135390e+04         0.382893   \n",
       "8     2021 -745090.501418 -1.613496e+06         0.368189   \n",
       "9     2330 -182027.296172 -3.660178e+05         0.335721   \n",
       "\n",
       "                                      tr_description  \n",
       "0  Перевод на карту (с карты) через Мобильный бан...  \n",
       "1                                                н/д  \n",
       "2  Перевод на карту (с карты) через АТМ (в предел...  \n",
       "3  Списание с карты по операции “перевода с карты...  \n",
       "4                                                н/д  \n",
       "5  Плата за получение наличных через POS в Сберба...  \n",
       "6                Выдача наличных через POS Сбербанка  \n",
       "7  Плата за перевод на карту (с карты) через POS ...  \n",
       "8  Выдача наличных через POS Сбербанка (в других ТБ)  \n",
       "9  Списание с карты по операции “перевода с карты...  "
      ]
     },
     "execution_count": 20,
     "metadata": {},
     "output_type": "execute_result"
    }
   ],
   "source": [
    "# это топ\n",
    "pd.merge(mean_gender_trtype_rashod.sort_values(\"k_trtype_rashod\", ascending=False).head(10), tr_types)"
   ]
  },
  {
   "cell_type": "markdown",
   "metadata": {},
   "source": [
    "## Explore income by transactions type"
   ]
  },
  {
   "cell_type": "code",
   "execution_count": 21,
   "metadata": {
    "collapsed": false
   },
   "outputs": [
    {
     "data": {
      "text/html": [
       "<div>\n",
       "<table border=\"1\" class=\"dataframe\">\n",
       "  <thead>\n",
       "    <tr style=\"text-align: right;\">\n",
       "      <th></th>\n",
       "      <th>tr_type</th>\n",
       "      <th>mean_trtype_amount_income</th>\n",
       "    </tr>\n",
       "  </thead>\n",
       "  <tbody>\n",
       "    <tr>\n",
       "      <th>0</th>\n",
       "      <td>1010</td>\n",
       "      <td>27324.343261</td>\n",
       "    </tr>\n",
       "    <tr>\n",
       "      <th>1</th>\n",
       "      <td>1030</td>\n",
       "      <td>12440.333636</td>\n",
       "    </tr>\n",
       "    <tr>\n",
       "      <th>2</th>\n",
       "      <td>1100</td>\n",
       "      <td>31408.831872</td>\n",
       "    </tr>\n",
       "    <tr>\n",
       "      <th>3</th>\n",
       "      <td>1110</td>\n",
       "      <td>55684.434547</td>\n",
       "    </tr>\n",
       "    <tr>\n",
       "      <th>4</th>\n",
       "      <td>1200</td>\n",
       "      <td>157983.736889</td>\n",
       "    </tr>\n",
       "  </tbody>\n",
       "</table>\n",
       "</div>"
      ],
      "text/plain": [
       "   tr_type  mean_trtype_amount_income\n",
       "0     1010               27324.343261\n",
       "1     1030               12440.333636\n",
       "2     1100               31408.831872\n",
       "3     1110               55684.434547\n",
       "4     1200              157983.736889"
      ]
     },
     "execution_count": 21,
     "metadata": {},
     "output_type": "execute_result"
    }
   ],
   "source": [
    "mean_income_amount_trtype = transactions1[transactions1.amount>0].groupby(\"tr_type\").amount.mean().reset_index() #только траты\n",
    "mean_income_amount_trtype.columns = [\"tr_type\", \"mean_trtype_amount_income\"]\n",
    "mean_income_amount_trtype.head()  # средний доход всех кастомеров по данному типу транзакции"
   ]
  },
  {
   "cell_type": "code",
   "execution_count": 22,
   "metadata": {
    "collapsed": false
   },
   "outputs": [
    {
     "data": {
      "text/html": [
       "<div>\n",
       "<table border=\"1\" class=\"dataframe\">\n",
       "  <thead>\n",
       "    <tr style=\"text-align: right;\">\n",
       "      <th></th>\n",
       "      <th>customer_id</th>\n",
       "      <th>tr_type</th>\n",
       "      <th>mean_amount_income_trtype</th>\n",
       "    </tr>\n",
       "  </thead>\n",
       "  <tbody>\n",
       "    <tr>\n",
       "      <th>0</th>\n",
       "      <td>6815</td>\n",
       "      <td>7010</td>\n",
       "      <td>4.720915e+04</td>\n",
       "    </tr>\n",
       "    <tr>\n",
       "      <th>1</th>\n",
       "      <td>6815</td>\n",
       "      <td>7031</td>\n",
       "      <td>2.470507e+06</td>\n",
       "    </tr>\n",
       "    <tr>\n",
       "      <th>2</th>\n",
       "      <td>22899</td>\n",
       "      <td>7010</td>\n",
       "      <td>1.044519e+05</td>\n",
       "    </tr>\n",
       "    <tr>\n",
       "      <th>3</th>\n",
       "      <td>22899</td>\n",
       "      <td>7030</td>\n",
       "      <td>8.553196e+04</td>\n",
       "    </tr>\n",
       "    <tr>\n",
       "      <th>4</th>\n",
       "      <td>22899</td>\n",
       "      <td>7031</td>\n",
       "      <td>4.491832e+04</td>\n",
       "    </tr>\n",
       "  </tbody>\n",
       "</table>\n",
       "</div>"
      ],
      "text/plain": [
       "   customer_id  tr_type  mean_amount_income_trtype\n",
       "0         6815     7010               4.720915e+04\n",
       "1         6815     7031               2.470507e+06\n",
       "2        22899     7010               1.044519e+05\n",
       "3        22899     7030               8.553196e+04\n",
       "4        22899     7031               4.491832e+04"
      ]
     },
     "execution_count": 22,
     "metadata": {},
     "output_type": "execute_result"
    }
   ],
   "source": [
    "customer_income_trtype = transactions1[transactions1.amount>0].groupby([\"customer_id\", \"tr_type\"]).amount.mean().reset_index()\n",
    "# средний расход каждого юзера по данному типу транзакции\n",
    "customer_income_trtype.columns = [\"customer_id\", \"tr_type\", \"mean_amount_income_trtype\"]\n",
    "customer_income_trtype.head()"
   ]
  },
  {
   "cell_type": "markdown",
   "metadata": {},
   "source": [
    "### Посмотрим, отличаются ли доход по типам транзакций, в зависимости от пола"
   ]
  },
  {
   "cell_type": "code",
   "execution_count": 23,
   "metadata": {
    "collapsed": true
   },
   "outputs": [],
   "source": [
    "tr = pd.merge(transactions1[[\"customer_id\", \"tr_type\", \"gender\"]], customer_income_trtype)\n",
    "\n",
    "mean_gender_trtype_income = tr.groupby([\"tr_type\", \"gender\"]).mean_amount_income_trtype.mean().unstack().reset_index()\n",
    "mean_gender_trtype_income.columns = [\"tr_type\", \"f\", \"m\"]\n",
    "mean_gender_trtype_income['k_trtype_income'] = (mean_gender_trtype_income[\"m\"] - mean_gender_trtype_income[\"f\"])/\\\n",
    "                                                (mean_gender_trtype_income[\"f\"] + mean_gender_trtype_income[\"m\"])"
   ]
  },
  {
   "cell_type": "code",
   "execution_count": 24,
   "metadata": {
    "collapsed": false
   },
   "outputs": [
    {
     "data": {
      "text/html": [
       "<div>\n",
       "<table border=\"1\" class=\"dataframe\">\n",
       "  <thead>\n",
       "    <tr style=\"text-align: right;\">\n",
       "      <th></th>\n",
       "      <th>tr_type</th>\n",
       "      <th>f</th>\n",
       "      <th>m</th>\n",
       "      <th>k_trtype_income</th>\n",
       "      <th>tr_description</th>\n",
       "    </tr>\n",
       "  </thead>\n",
       "  <tbody>\n",
       "    <tr>\n",
       "      <th>0</th>\n",
       "      <td>2011</td>\n",
       "      <td>6737.750000</td>\n",
       "      <td>3.116688e+05</td>\n",
       "      <td>0.957678</td>\n",
       "      <td>Выдача наличных в АТМ Сбербанка (в других ТБ)</td>\n",
       "    </tr>\n",
       "    <tr>\n",
       "      <th>1</th>\n",
       "      <td>2370</td>\n",
       "      <td>9693.862608</td>\n",
       "      <td>2.537009e+05</td>\n",
       "      <td>0.926393</td>\n",
       "      <td>Списание с карты на карту по операции &lt;перевод...</td>\n",
       "    </tr>\n",
       "    <tr>\n",
       "      <th>2</th>\n",
       "      <td>7024</td>\n",
       "      <td>195176.239355</td>\n",
       "      <td>2.482383e+06</td>\n",
       "      <td>0.854213</td>\n",
       "      <td>Взнос наличных через POS (в своем ТБ) по счету...</td>\n",
       "    </tr>\n",
       "    <tr>\n",
       "      <th>3</th>\n",
       "      <td>1030</td>\n",
       "      <td>3515.737512</td>\n",
       "      <td>3.595781e+04</td>\n",
       "      <td>0.821869</td>\n",
       "      <td>Оплата услуги. Банкоматы СБ РФ</td>\n",
       "    </tr>\n",
       "    <tr>\n",
       "      <th>4</th>\n",
       "      <td>8100</td>\n",
       "      <td>13404.724206</td>\n",
       "      <td>1.295790e+05</td>\n",
       "      <td>0.812500</td>\n",
       "      <td>Списание после проведения претензионной работы</td>\n",
       "    </tr>\n",
       "    <tr>\n",
       "      <th>5</th>\n",
       "      <td>7020</td>\n",
       "      <td>395597.331681</td>\n",
       "      <td>1.143527e+06</td>\n",
       "      <td>0.485945</td>\n",
       "      <td>Взнос наличных через POS</td>\n",
       "    </tr>\n",
       "    <tr>\n",
       "      <th>6</th>\n",
       "      <td>7034</td>\n",
       "      <td>158425.979691</td>\n",
       "      <td>4.548667e+05</td>\n",
       "      <td>0.483359</td>\n",
       "      <td>Перевод на карту/ с карты через АТМ (без взима...</td>\n",
       "    </tr>\n",
       "    <tr>\n",
       "      <th>7</th>\n",
       "      <td>7041</td>\n",
       "      <td>993595.946250</td>\n",
       "      <td>2.794761e+06</td>\n",
       "      <td>0.475448</td>\n",
       "      <td>Перевод на карту (с карты) через POS (из одног...</td>\n",
       "    </tr>\n",
       "    <tr>\n",
       "      <th>8</th>\n",
       "      <td>6200</td>\n",
       "      <td>14399.697517</td>\n",
       "      <td>4.025488e+04</td>\n",
       "      <td>0.473065</td>\n",
       "      <td>Возврат  покупки. Зарубеж. ТУ</td>\n",
       "    </tr>\n",
       "  </tbody>\n",
       "</table>\n",
       "</div>"
      ],
      "text/plain": [
       "   tr_type              f             m  k_trtype_income  \\\n",
       "0     2011    6737.750000  3.116688e+05         0.957678   \n",
       "1     2370    9693.862608  2.537009e+05         0.926393   \n",
       "2     7024  195176.239355  2.482383e+06         0.854213   \n",
       "3     1030    3515.737512  3.595781e+04         0.821869   \n",
       "4     8100   13404.724206  1.295790e+05         0.812500   \n",
       "5     7020  395597.331681  1.143527e+06         0.485945   \n",
       "6     7034  158425.979691  4.548667e+05         0.483359   \n",
       "7     7041  993595.946250  2.794761e+06         0.475448   \n",
       "8     6200   14399.697517  4.025488e+04         0.473065   \n",
       "\n",
       "                                      tr_description  \n",
       "0      Выдача наличных в АТМ Сбербанка (в других ТБ)  \n",
       "1  Списание с карты на карту по операции <перевод...  \n",
       "2  Взнос наличных через POS (в своем ТБ) по счету...  \n",
       "3                     Оплата услуги. Банкоматы СБ РФ  \n",
       "4     Списание после проведения претензионной работы  \n",
       "5                           Взнос наличных через POS  \n",
       "6  Перевод на карту/ с карты через АТМ (без взима...  \n",
       "7  Перевод на карту (с карты) через POS (из одног...  \n",
       "8                      Возврат  покупки. Зарубеж. ТУ  "
      ]
     },
     "execution_count": 24,
     "metadata": {},
     "output_type": "execute_result"
    }
   ],
   "source": [
    "# это топ\n",
    "pd.merge(mean_gender_trtype_income.sort_values(\"k_trtype_income\", ascending=False).head(10), tr_types)"
   ]
  },
  {
   "cell_type": "code",
   "execution_count": null,
   "metadata": {
    "collapsed": true
   },
   "outputs": [],
   "source": []
  },
  {
   "cell_type": "code",
   "execution_count": null,
   "metadata": {
    "collapsed": true
   },
   "outputs": [],
   "source": []
  },
  {
   "cell_type": "code",
   "execution_count": null,
   "metadata": {
    "collapsed": true
   },
   "outputs": [],
   "source": []
  },
  {
   "cell_type": "markdown",
   "metadata": {},
   "source": [
    "## All"
   ]
  },
  {
   "cell_type": "code",
   "execution_count": 25,
   "metadata": {
    "collapsed": false
   },
   "outputs": [
    {
     "name": "stdout",
     "output_type": "stream",
     "text": [
      "Male:  5306\n",
      "Female 6694\n"
     ]
    }
   ],
   "source": [
    "print 'Male: ', len(pd.unique(transactions1[transactions1.gender == 1.0].customer_id))\n",
    "print \"Female\", len(pd.unique(transactions1[transactions1.gender == 0.0].customer_id))\n",
    "# всего человек - женщин чуть больше"
   ]
  },
  {
   "cell_type": "code",
   "execution_count": null,
   "metadata": {
    "collapsed": true
   },
   "outputs": [],
   "source": []
  },
  {
   "cell_type": "code",
   "execution_count": 26,
   "metadata": {
    "collapsed": false
   },
   "outputs": [],
   "source": [
    "one = transactions1.groupby([\"customer_id\", \"mcc_code\", \"tr_type\"]).amount.mean().reset_index()"
   ]
  },
  {
   "cell_type": "code",
   "execution_count": 27,
   "metadata": {
    "collapsed": true
   },
   "outputs": [],
   "source": [
    "merged1 = pd.merge(pd.merge(pd.merge(one, trtype.reset_index()[[\"tr_type\", \"k_type\"]]), \\\n",
    "         mccode.reset_index()[[\"mcc_code\", \"k_mcc\"]]), mean_gender_mcc_traty[[\"mcc_code\", \"k_mcc_traty\"]])"
   ]
  },
  {
   "cell_type": "code",
   "execution_count": 28,
   "metadata": {
    "collapsed": true
   },
   "outputs": [],
   "source": [
    "merged = pd.merge(pd.merge(pd.merge(merged1, mean_gender_mcc_income[[\"mcc_code\", \"k_mcc_income\"]]), \\\n",
    "         mean_gender_trtype_rashod[[\"tr_type\",\"k_trtype_rashod\"]]), \\\n",
    "                  mean_gender_trtype_income[[\"tr_type\",\"k_trtype_income\"]])"
   ]
  },
  {
   "cell_type": "code",
   "execution_count": 29,
   "metadata": {
    "collapsed": false
   },
   "outputs": [],
   "source": [
    "merged = merged.fillna(0)"
   ]
  },
  {
   "cell_type": "code",
   "execution_count": 30,
   "metadata": {
    "collapsed": false
   },
   "outputs": [
    {
     "data": {
      "text/html": [
       "<div>\n",
       "<table border=\"1\" class=\"dataframe\">\n",
       "  <thead>\n",
       "    <tr style=\"text-align: right;\">\n",
       "      <th></th>\n",
       "      <th>customer_id</th>\n",
       "      <th>mcc_code</th>\n",
       "      <th>tr_type</th>\n",
       "      <th>amount</th>\n",
       "      <th>k_type</th>\n",
       "      <th>k_mcc</th>\n",
       "      <th>k_mcc_traty</th>\n",
       "      <th>k_mcc_income</th>\n",
       "      <th>k_trtype_rashod</th>\n",
       "      <th>k_trtype_income</th>\n",
       "    </tr>\n",
       "  </thead>\n",
       "  <tbody>\n",
       "    <tr>\n",
       "      <th>0</th>\n",
       "      <td>6815</td>\n",
       "      <td>4814</td>\n",
       "      <td>1030</td>\n",
       "      <td>-2.770466e+03</td>\n",
       "      <td>-0.160782</td>\n",
       "      <td>-0.157460</td>\n",
       "      <td>0.147842</td>\n",
       "      <td>0.349196</td>\n",
       "      <td>0.146184</td>\n",
       "      <td>0.821869</td>\n",
       "    </tr>\n",
       "    <tr>\n",
       "      <th>14281</th>\n",
       "      <td>6815</td>\n",
       "      <td>5311</td>\n",
       "      <td>1010</td>\n",
       "      <td>-8.070017e+03</td>\n",
       "      <td>-0.042922</td>\n",
       "      <td>-0.110934</td>\n",
       "      <td>0.109353</td>\n",
       "      <td>-0.109188</td>\n",
       "      <td>0.084700</td>\n",
       "      <td>0.366052</td>\n",
       "    </tr>\n",
       "    <tr>\n",
       "      <th>16410</th>\n",
       "      <td>6815</td>\n",
       "      <td>5411</td>\n",
       "      <td>1010</td>\n",
       "      <td>-5.580408e+03</td>\n",
       "      <td>-0.042922</td>\n",
       "      <td>-0.056353</td>\n",
       "      <td>0.049698</td>\n",
       "      <td>0.249510</td>\n",
       "      <td>0.084700</td>\n",
       "      <td>0.366052</td>\n",
       "    </tr>\n",
       "    <tr>\n",
       "      <th>28457</th>\n",
       "      <td>6815</td>\n",
       "      <td>5921</td>\n",
       "      <td>1010</td>\n",
       "      <td>-1.246483e+04</td>\n",
       "      <td>-0.042922</td>\n",
       "      <td>0.279057</td>\n",
       "      <td>0.057176</td>\n",
       "      <td>0.596813</td>\n",
       "      <td>0.084700</td>\n",
       "      <td>0.366052</td>\n",
       "    </tr>\n",
       "    <tr>\n",
       "      <th>165375</th>\n",
       "      <td>6815</td>\n",
       "      <td>5411</td>\n",
       "      <td>1110</td>\n",
       "      <td>-9.703428e+03</td>\n",
       "      <td>0.042832</td>\n",
       "      <td>-0.056353</td>\n",
       "      <td>0.049698</td>\n",
       "      <td>0.249510</td>\n",
       "      <td>0.092908</td>\n",
       "      <td>0.157318</td>\n",
       "    </tr>\n",
       "    <tr>\n",
       "      <th>328025</th>\n",
       "      <td>6815</td>\n",
       "      <td>6010</td>\n",
       "      <td>7031</td>\n",
       "      <td>2.470507e+06</td>\n",
       "      <td>0.001821</td>\n",
       "      <td>-0.154689</td>\n",
       "      <td>-0.010877</td>\n",
       "      <td>0.258174</td>\n",
       "      <td>0.000000</td>\n",
       "      <td>0.270451</td>\n",
       "    </tr>\n",
       "    <tr>\n",
       "      <th>397334</th>\n",
       "      <td>6815</td>\n",
       "      <td>6011</td>\n",
       "      <td>2010</td>\n",
       "      <td>-4.588085e+04</td>\n",
       "      <td>-0.033296</td>\n",
       "      <td>-0.022971</td>\n",
       "      <td>0.212007</td>\n",
       "      <td>0.217838</td>\n",
       "      <td>0.215751</td>\n",
       "      <td>0.252051</td>\n",
       "    </tr>\n",
       "    <tr>\n",
       "      <th>412058</th>\n",
       "      <td>6815</td>\n",
       "      <td>6011</td>\n",
       "      <td>7010</td>\n",
       "      <td>4.720915e+04</td>\n",
       "      <td>-0.064336</td>\n",
       "      <td>-0.022971</td>\n",
       "      <td>0.212007</td>\n",
       "      <td>0.217838</td>\n",
       "      <td>0.000000</td>\n",
       "      <td>0.268630</td>\n",
       "    </tr>\n",
       "  </tbody>\n",
       "</table>\n",
       "</div>"
      ],
      "text/plain": [
       "        customer_id  mcc_code  tr_type        amount    k_type     k_mcc  \\\n",
       "0              6815      4814     1030 -2.770466e+03 -0.160782 -0.157460   \n",
       "14281          6815      5311     1010 -8.070017e+03 -0.042922 -0.110934   \n",
       "16410          6815      5411     1010 -5.580408e+03 -0.042922 -0.056353   \n",
       "28457          6815      5921     1010 -1.246483e+04 -0.042922  0.279057   \n",
       "165375         6815      5411     1110 -9.703428e+03  0.042832 -0.056353   \n",
       "328025         6815      6010     7031  2.470507e+06  0.001821 -0.154689   \n",
       "397334         6815      6011     2010 -4.588085e+04 -0.033296 -0.022971   \n",
       "412058         6815      6011     7010  4.720915e+04 -0.064336 -0.022971   \n",
       "\n",
       "        k_mcc_traty  k_mcc_income  k_trtype_rashod  k_trtype_income  \n",
       "0          0.147842      0.349196         0.146184         0.821869  \n",
       "14281      0.109353     -0.109188         0.084700         0.366052  \n",
       "16410      0.049698      0.249510         0.084700         0.366052  \n",
       "28457      0.057176      0.596813         0.084700         0.366052  \n",
       "165375     0.049698      0.249510         0.092908         0.157318  \n",
       "328025    -0.010877      0.258174         0.000000         0.270451  \n",
       "397334     0.212007      0.217838         0.215751         0.252051  \n",
       "412058     0.212007      0.217838         0.000000         0.268630  "
      ]
     },
     "execution_count": 30,
     "metadata": {},
     "output_type": "execute_result"
    }
   ],
   "source": [
    "merged[merged.customer_id==6815]"
   ]
  },
  {
   "cell_type": "code",
   "execution_count": 31,
   "metadata": {
    "collapsed": true
   },
   "outputs": [],
   "source": [
    "## from customer id --> sex, to triple(cestomer_id, mcc_code, tr_type) --> sex!!"
   ]
  },
  {
   "cell_type": "code",
   "execution_count": 32,
   "metadata": {
    "collapsed": false
   },
   "outputs": [],
   "source": [
    "gender_labels_data = transactions1[pd.notnull(transactions1.gender)][[\"customer_id\", \"mcc_code\", \"tr_type\", \"gender\"]].drop_duplicates().reset_index().drop([\"index\"],axis=1)"
   ]
  },
  {
   "cell_type": "code",
   "execution_count": 33,
   "metadata": {
    "collapsed": false
   },
   "outputs": [],
   "source": [
    "dataset = pd.merge(merged,gender_labels_data, how=\"left\").sort_values(by=\"customer_id\").reset_index().drop([\"index\"],axis=1)"
   ]
  },
  {
   "cell_type": "code",
   "execution_count": 34,
   "metadata": {
    "collapsed": false
   },
   "outputs": [
    {
     "data": {
      "text/html": [
       "<div>\n",
       "<table border=\"1\" class=\"dataframe\">\n",
       "  <thead>\n",
       "    <tr style=\"text-align: right;\">\n",
       "      <th></th>\n",
       "      <th>customer_id</th>\n",
       "      <th>mcc_code</th>\n",
       "      <th>tr_type</th>\n",
       "      <th>amount</th>\n",
       "      <th>k_type</th>\n",
       "      <th>k_mcc</th>\n",
       "      <th>k_mcc_traty</th>\n",
       "      <th>k_mcc_income</th>\n",
       "      <th>k_trtype_rashod</th>\n",
       "      <th>k_trtype_income</th>\n",
       "      <th>gender</th>\n",
       "    </tr>\n",
       "  </thead>\n",
       "  <tbody>\n",
       "    <tr>\n",
       "      <th>0</th>\n",
       "      <td>6815</td>\n",
       "      <td>4814</td>\n",
       "      <td>1030</td>\n",
       "      <td>-2770.465889</td>\n",
       "      <td>-0.160782</td>\n",
       "      <td>-0.157460</td>\n",
       "      <td>0.147842</td>\n",
       "      <td>0.349196</td>\n",
       "      <td>0.146184</td>\n",
       "      <td>0.821869</td>\n",
       "      <td>0.0</td>\n",
       "    </tr>\n",
       "    <tr>\n",
       "      <th>1</th>\n",
       "      <td>6815</td>\n",
       "      <td>5411</td>\n",
       "      <td>1010</td>\n",
       "      <td>-5580.408182</td>\n",
       "      <td>-0.042922</td>\n",
       "      <td>-0.056353</td>\n",
       "      <td>0.049698</td>\n",
       "      <td>0.249510</td>\n",
       "      <td>0.084700</td>\n",
       "      <td>0.366052</td>\n",
       "      <td>0.0</td>\n",
       "    </tr>\n",
       "    <tr>\n",
       "      <th>2</th>\n",
       "      <td>6815</td>\n",
       "      <td>5921</td>\n",
       "      <td>1010</td>\n",
       "      <td>-12464.835000</td>\n",
       "      <td>-0.042922</td>\n",
       "      <td>0.279057</td>\n",
       "      <td>0.057176</td>\n",
       "      <td>0.596813</td>\n",
       "      <td>0.084700</td>\n",
       "      <td>0.366052</td>\n",
       "      <td>0.0</td>\n",
       "    </tr>\n",
       "    <tr>\n",
       "      <th>3</th>\n",
       "      <td>6815</td>\n",
       "      <td>5411</td>\n",
       "      <td>1110</td>\n",
       "      <td>-9703.427778</td>\n",
       "      <td>0.042832</td>\n",
       "      <td>-0.056353</td>\n",
       "      <td>0.049698</td>\n",
       "      <td>0.249510</td>\n",
       "      <td>0.092908</td>\n",
       "      <td>0.157318</td>\n",
       "      <td>0.0</td>\n",
       "    </tr>\n",
       "    <tr>\n",
       "      <th>4</th>\n",
       "      <td>6815</td>\n",
       "      <td>6011</td>\n",
       "      <td>7010</td>\n",
       "      <td>47209.150000</td>\n",
       "      <td>-0.064336</td>\n",
       "      <td>-0.022971</td>\n",
       "      <td>0.212007</td>\n",
       "      <td>0.217838</td>\n",
       "      <td>0.000000</td>\n",
       "      <td>0.268630</td>\n",
       "      <td>0.0</td>\n",
       "    </tr>\n",
       "  </tbody>\n",
       "</table>\n",
       "</div>"
      ],
      "text/plain": [
       "   customer_id  mcc_code  tr_type        amount    k_type     k_mcc  \\\n",
       "0         6815      4814     1030  -2770.465889 -0.160782 -0.157460   \n",
       "1         6815      5411     1010  -5580.408182 -0.042922 -0.056353   \n",
       "2         6815      5921     1010 -12464.835000 -0.042922  0.279057   \n",
       "3         6815      5411     1110  -9703.427778  0.042832 -0.056353   \n",
       "4         6815      6011     7010  47209.150000 -0.064336 -0.022971   \n",
       "\n",
       "   k_mcc_traty  k_mcc_income  k_trtype_rashod  k_trtype_income  gender  \n",
       "0     0.147842      0.349196         0.146184         0.821869     0.0  \n",
       "1     0.049698      0.249510         0.084700         0.366052     0.0  \n",
       "2     0.057176      0.596813         0.084700         0.366052     0.0  \n",
       "3     0.049698      0.249510         0.092908         0.157318     0.0  \n",
       "4     0.212007      0.217838         0.000000         0.268630     0.0  "
      ]
     },
     "execution_count": 34,
     "metadata": {},
     "output_type": "execute_result"
    }
   ],
   "source": [
    "dataset.head()"
   ]
  },
  {
   "cell_type": "code",
   "execution_count": null,
   "metadata": {
    "collapsed": true
   },
   "outputs": [],
   "source": []
  },
  {
   "cell_type": "code",
   "execution_count": 38,
   "metadata": {
    "collapsed": false
   },
   "outputs": [
    {
     "data": {
      "text/plain": [
       "3000"
      ]
     },
     "execution_count": 38,
     "metadata": {},
     "output_type": "execute_result"
    }
   ],
   "source": [
    "train_all = dataset[pd.notnull(dataset.gender)]\n",
    "test = dataset[pd.isnull(dataset.gender)][dataset.columns[:-1]]\n",
    "\n",
    "len(pd.unique(test.customer_id))  # ok"
   ]
  },
  {
   "cell_type": "code",
   "execution_count": 39,
   "metadata": {
    "collapsed": false
   },
   "outputs": [
    {
     "data": {
      "text/plain": [
       "12000"
      ]
     },
     "execution_count": 39,
     "metadata": {},
     "output_type": "execute_result"
    }
   ],
   "source": [
    "len(pd.unique(train_all.customer_id))"
   ]
  },
  {
   "cell_type": "code",
   "execution_count": 40,
   "metadata": {
    "collapsed": false
   },
   "outputs": [
    {
     "data": {
      "text/plain": [
       "array([    6815,    22899,    27914, ..., 99988578, 99991245, 99999680])"
      ]
     },
     "execution_count": 40,
     "metadata": {},
     "output_type": "execute_result"
    }
   ],
   "source": [
    "pd.unique(train_all.customer_id)  # на трейн и тест надо разбить по кастомерам"
   ]
  },
  {
   "cell_type": "code",
   "execution_count": 41,
   "metadata": {
    "collapsed": false
   },
   "outputs": [
    {
     "name": "stdout",
     "output_type": "stream",
     "text": [
      "9000\n",
      "3000\n"
     ]
    }
   ],
   "source": [
    "train_customers_id = pd.unique(train_all.customer_id)[:9000]\n",
    "print len(train_customers_id)\n",
    "test_customers_id = pd.unique(train_all.customer_id)[9000:]\n",
    "print len(test_customers_id)"
   ]
  },
  {
   "cell_type": "code",
   "execution_count": 42,
   "metadata": {
    "collapsed": false
   },
   "outputs": [],
   "source": [
    "train = pd.merge(train_all, pd.DataFrame(train_customers_id, columns=[\"customer_id\"]))\n",
    "val = pd.merge(train_all, pd.DataFrame(test_customers_id, columns=[\"customer_id\"]))"
   ]
  },
  {
   "cell_type": "code",
   "execution_count": 43,
   "metadata": {
    "collapsed": true
   },
   "outputs": [],
   "source": [
    "X_train = train[train_all.columns[:-1]]\n",
    "X_val = val[train_all.columns[:-1]]\n",
    "\n",
    "Y_train = train.gender.apply(lambda x: int(x))\n",
    "Y_val = val.gender.apply(lambda x: int(x))"
   ]
  },
  {
   "cell_type": "code",
   "execution_count": 44,
   "metadata": {
    "collapsed": false
   },
   "outputs": [],
   "source": [
    "def get_dummy_mcc(df):\n",
    "    dummy_mcc = pd.get_dummies(df.loc[:,\"mcc_code\"])\n",
    "    dummy_mcc.columns = map(lambda x: \"mcc_\" + str(x), pd.unique(df.mcc_code))\n",
    "    return dummy_mcc\n",
    "\n",
    "def get_dummy_type(df):\n",
    "    dummy_type = pd.get_dummies(df.loc[:,\"tr_type\"])\n",
    "    dummy_type.columns = map(lambda x: \"type_\" + str(x), pd.unique(df.tr_type))"
   ]
  },
  {
   "cell_type": "code",
   "execution_count": 45,
   "metadata": {
    "collapsed": true
   },
   "outputs": [],
   "source": [
    "try_train = pd.concat([X_train[X_train.columns[1:]]], axis=1).fillna(0)\n",
    "try_val = pd.concat([X_val[X_val.columns[1:]]], axis=1).fillna(0)\n",
    "\n",
    "try_test = pd.concat([test[test.columns[1:]]], axis=1).fillna(0)"
   ]
  },
  {
   "cell_type": "code",
   "execution_count": 46,
   "metadata": {
    "collapsed": false
   },
   "outputs": [],
   "source": [
    "try_train = pd.concat([get_dummy_mcc(X_train), get_dummy_type(X_train), X_train[X_train.columns[3:]]], axis=1)\n",
    "try_val = pd.concat([get_dummy_mcc(X_val), get_dummy_type(X_val), X_val[X_val.columns[3:]]], axis=1)\n",
    "\n",
    "try_test = pd.concat([get_dummy_mcc(test), get_dummy_type(test), test[test.columns[3:]]], axis=1)"
   ]
  },
  {
   "cell_type": "code",
   "execution_count": 44,
   "metadata": {
    "collapsed": false,
    "scrolled": false
   },
   "outputs": [
    {
     "name": "stdout",
     "output_type": "stream",
     "text": [
      "      Iter       Train Loss      OOB Improve   Remaining Time \n",
      "         1           1.3728           0.0075            7.80m\n",
      "         2           1.3664           0.0062            7.36m\n",
      "         3           1.3615           0.0050            7.05m\n",
      "         4           1.3568           0.0041            6.87m\n",
      "         5           1.3529           0.0033            6.80m\n",
      "         6           1.3493           0.0028            6.80m\n",
      "         7           1.3470           0.0025            6.64m\n",
      "         8           1.3448           0.0020            6.58m\n",
      "         9           1.3423           0.0016            6.59m\n",
      "        10           1.3411           0.0012            6.47m\n",
      "        20           1.3320           0.0001            5.60m\n",
      "        30           1.3285           0.0000            4.84m\n",
      "        40           1.3260           0.0000            4.10m\n",
      "        50           1.3234          -0.0000            3.38m\n",
      "        60           1.3224           0.0000            2.68m\n",
      "        70           1.3216          -0.0001            1.96m\n",
      "        80           1.3194          -0.0001            1.29m\n",
      "        90           1.3188          -0.0001           38.77s\n",
      "       100           1.3170          -0.0000            0.00s\n",
      "CPU times: user 6min 20s, sys: 4.2 s, total: 6min 25s\n",
      "Wall time: 6min 28s\n"
     ]
    }
   ],
   "source": [
    "%%time\n",
    "clf = GradientBoostingClassifier(n_estimators=100, subsample=0.7, min_samples_split=10, max_depth=7, \\\n",
    "                                 max_features=\"auto\", verbose=1, warm_start=True, random_state=13)\n",
    "clf.fit(try_train, Y_train)"
   ]
  },
  {
   "cell_type": "code",
   "execution_count": 46,
   "metadata": {
    "collapsed": false
   },
   "outputs": [
    {
     "data": {
      "text/plain": [
       "array([  3.58403195e-04,   3.01131123e-04,   1.40303080e-06,\n",
       "         3.12356854e-03,   1.50202038e-03,   6.15996926e-05,\n",
       "         2.67339152e-04,   1.16288312e-03,   1.92007526e-03,\n",
       "         1.98114118e-04,   7.46693409e-04,   1.93129999e-03,\n",
       "         4.62614814e-03,   0.00000000e+00,   9.76476316e-04,\n",
       "         4.28962442e-04,   1.30246304e-03,   3.65289997e-04,\n",
       "         1.91254073e-04,   3.23634388e-04,   0.00000000e+00,\n",
       "         1.82263681e-06,   1.44832504e-04,   0.00000000e+00,\n",
       "         5.97638865e-04,   0.00000000e+00,   2.00754749e-04,\n",
       "         8.15165903e-04,   1.55873148e-04,   2.54603854e-03,\n",
       "         8.73335110e-04,   4.25920775e-04,   4.86943179e-04,\n",
       "         5.66383651e-04,   6.80290965e-04,   9.34584778e-04,\n",
       "         4.64672652e-04,   1.35539017e-03,   1.27243030e-03,\n",
       "         6.35069365e-05,   3.08271412e-03,   3.74856462e-04,\n",
       "         2.93135385e-04,   2.01909078e-03,   4.39562356e-04,\n",
       "         4.35496658e-04,   5.49450029e-04,   9.74747465e-04,\n",
       "         3.06165342e-04,   5.13917972e-04,   6.14272999e-04,\n",
       "         5.16365654e-04,   3.04924884e-04,   2.61187490e-04,\n",
       "         1.71932658e-03,   6.90581358e-04,   7.91840868e-04,\n",
       "         3.39607078e-04,   1.76091386e-03,   1.21140098e-04,\n",
       "         1.72836361e-04,   1.30887465e-03,   5.36528960e-04,\n",
       "         4.13536349e-04,   9.05908421e-04,   1.41645960e-03,\n",
       "         8.97006894e-04,   4.49623368e-04,   1.98973502e-04,\n",
       "         3.35723715e-04,   5.64544362e-04,   2.43987693e-04,\n",
       "         1.03061292e-03,   5.47784693e-04,   2.89654330e-04,\n",
       "         2.65720400e-03,   1.43569797e-03,   5.35612374e-04,\n",
       "         1.36271884e-03,   1.20293468e-03,   1.82652168e-03,\n",
       "         1.48412360e-03,   3.12015446e-04,   1.90064978e-04,\n",
       "         3.21074626e-04,   3.91358007e-04,   2.10885032e-04,\n",
       "         1.66197599e-04,   2.86903916e-04,   3.43956446e-04,\n",
       "         1.01841808e-04,   3.95867000e-04,   1.58630982e-03,\n",
       "         1.46988337e-04,   1.17063483e-03,   1.15548903e-03,\n",
       "         4.32302884e-03,   4.29324484e-04,   1.60415585e-03,\n",
       "         7.57813233e-04,   1.00048126e-03,   0.00000000e+00,\n",
       "         1.19269985e-03,   8.29758480e-04,   1.60851836e-03,\n",
       "         6.04131478e-04,   4.34540327e-04,   4.97600028e-04,\n",
       "         9.85197069e-04,   5.10326216e-04,   2.90505934e-03,\n",
       "         0.00000000e+00,   1.54172631e-05,   1.37052824e-04,\n",
       "         1.36702128e-03,   0.00000000e+00,   4.51873489e-04,\n",
       "         1.09878586e-04,   8.42319252e-04,   5.17412631e-04,\n",
       "         1.82476076e-03,   7.34364109e-04,   2.30518789e-04,\n",
       "         1.98583272e-04,   1.69046250e-03,   3.44117493e-04,\n",
       "         2.21254837e-04,   2.30156272e-04,   1.06593503e-04,\n",
       "         9.07782951e-04,   1.32697366e-03,   6.87133368e-04,\n",
       "         4.71423905e-04,   3.06400427e-03,   3.99329774e-04,\n",
       "         1.01284592e-03,   7.09845312e-04,   6.07001108e-01,\n",
       "         3.72874441e-02,   1.26698164e-01,   3.13213396e-02,\n",
       "         2.46177469e-02,   3.11313989e-02,   3.25789392e-02])"
      ]
     },
     "execution_count": 46,
     "metadata": {},
     "output_type": "execute_result"
    }
   ],
   "source": [
    "clf.feature_importances_"
   ]
  },
  {
   "cell_type": "code",
   "execution_count": 411,
   "metadata": {
    "collapsed": false
   },
   "outputs": [],
   "source": [
    "predicted = clf.predict_proba(try_test)[:, 1]"
   ]
  },
  {
   "cell_type": "code",
   "execution_count": 412,
   "metadata": {
    "collapsed": false
   },
   "outputs": [
    {
     "data": {
      "text/plain": [
       "(0.095791327128866496, 0.93651143485231614)"
      ]
     },
     "execution_count": 412,
     "metadata": {},
     "output_type": "execute_result"
    }
   ],
   "source": [
    "predicted.min(), predicted.max()"
   ]
  },
  {
   "cell_type": "code",
   "execution_count": 413,
   "metadata": {
    "collapsed": false
   },
   "outputs": [],
   "source": [
    "val_pred = pd.concat([test.reset_index().drop([\"index\"], axis=1), pd.Series(predicted, name=\"pred_gender\")], axis=1)\n",
    "val_pred = val_pred.groupby(\"customer_id\").pred_gender.mean().reset_index()"
   ]
  },
  {
   "cell_type": "code",
   "execution_count": 414,
   "metadata": {
    "collapsed": false
   },
   "outputs": [
    {
     "data": {
      "text/plain": [
       "(0.63503509378200085, 0.33334182744812657)"
      ]
     },
     "execution_count": 414,
     "metadata": {},
     "output_type": "execute_result"
    }
   ],
   "source": [
    "val_pred.pred_gender.max(), val_pred.pred_gender.min(), "
   ]
  },
  {
   "cell_type": "code",
   "execution_count": 393,
   "metadata": {
    "collapsed": false
   },
   "outputs": [],
   "source": [
    "val_pred.pred_gender = val_pred.pred_gender.apply(lambda x: (x-val_pred.pred_gender.min())/(val_pred.pred_gender.max()-val_pred.pred_gender.min()))"
   ]
  },
  {
   "cell_type": "code",
   "execution_count": 415,
   "metadata": {
    "collapsed": false,
    "scrolled": true
   },
   "outputs": [
    {
     "data": {
      "text/plain": [
       "(0.63503509378200085, 0.33334182744812657)"
      ]
     },
     "execution_count": 415,
     "metadata": {},
     "output_type": "execute_result"
    }
   ],
   "source": [
    "val_pred.pred_gender.max(), val_pred.pred_gender.min(), "
   ]
  },
  {
   "cell_type": "code",
   "execution_count": 408,
   "metadata": {
    "collapsed": false
   },
   "outputs": [],
   "source": [
    "val_true = pd.concat([X_val, Y_val], axis=1)\n",
    "val_true = val_true.groupby(\"customer_id\").gender.mean().reset_index()"
   ]
  },
  {
   "cell_type": "code",
   "execution_count": 352,
   "metadata": {
    "collapsed": false
   },
   "outputs": [
    {
     "data": {
      "text/html": [
       "<div>\n",
       "<table border=\"1\" class=\"dataframe\">\n",
       "  <thead>\n",
       "    <tr style=\"text-align: right;\">\n",
       "      <th></th>\n",
       "      <th>customer_id</th>\n",
       "      <th>gender</th>\n",
       "      <th>pred_gender</th>\n",
       "    </tr>\n",
       "  </thead>\n",
       "  <tbody>\n",
       "    <tr>\n",
       "      <th>0</th>\n",
       "      <td>75248245</td>\n",
       "      <td>1</td>\n",
       "      <td>0.508710</td>\n",
       "    </tr>\n",
       "    <tr>\n",
       "      <th>1</th>\n",
       "      <td>75278479</td>\n",
       "      <td>0</td>\n",
       "      <td>0.495366</td>\n",
       "    </tr>\n",
       "    <tr>\n",
       "      <th>2</th>\n",
       "      <td>75281100</td>\n",
       "      <td>0</td>\n",
       "      <td>0.417223</td>\n",
       "    </tr>\n",
       "    <tr>\n",
       "      <th>3</th>\n",
       "      <td>75282650</td>\n",
       "      <td>0</td>\n",
       "      <td>0.382108</td>\n",
       "    </tr>\n",
       "    <tr>\n",
       "      <th>4</th>\n",
       "      <td>75328477</td>\n",
       "      <td>1</td>\n",
       "      <td>0.473742</td>\n",
       "    </tr>\n",
       "  </tbody>\n",
       "</table>\n",
       "</div>"
      ],
      "text/plain": [
       "   customer_id  gender  pred_gender\n",
       "0     75248245       1     0.508710\n",
       "1     75278479       0     0.495366\n",
       "2     75281100       0     0.417223\n",
       "3     75282650       0     0.382108\n",
       "4     75328477       1     0.473742"
      ]
     },
     "execution_count": 352,
     "metadata": {},
     "output_type": "execute_result"
    }
   ],
   "source": [
    "al = pd.merge(val_true, val_pred)\n",
    "al.head()"
   ]
  },
  {
   "cell_type": "code",
   "execution_count": 409,
   "metadata": {
    "collapsed": false,
    "scrolled": false
   },
   "outputs": [
    {
     "name": "stdout",
     "output_type": "stream",
     "text": [
      "LogLoss 0.652373216608\n",
      "Auc score 0.786231695476\n"
     ]
    }
   ],
   "source": [
    "print \"LogLoss %s\" % str(log_loss(val_true.gender, np.array(val_pred.pred_gender))) \n",
    "print \"Auc score %s\" % str(roc_auc_score(val_true.gender, val_pred.pred_gender)) "
   ]
  },
  {
   "cell_type": "code",
   "execution_count": null,
   "metadata": {
    "collapsed": true
   },
   "outputs": [],
   "source": []
  },
  {
   "cell_type": "code",
   "execution_count": 435,
   "metadata": {
    "collapsed": true
   },
   "outputs": [],
   "source": [
    "from sklearn.linear_model import LogisticRegression"
   ]
  },
  {
   "cell_type": "code",
   "execution_count": 436,
   "metadata": {
    "collapsed": true
   },
   "outputs": [
    {
     "ename": "ValueError",
     "evalue": "Found arrays with inconsistent numbers of samples: [ 15000 263318]",
     "output_type": "error",
     "traceback": [
      "\u001b[0;31m---------------------------------------------------------------------------\u001b[0m",
      "\u001b[0;31mValueError\u001b[0m                                Traceback (most recent call last)",
      "\u001b[0;32m<ipython-input-436-405aa1c1dd11>\u001b[0m in \u001b[0;36m<module>\u001b[0;34m()\u001b[0m\n\u001b[0;32m----> 1\u001b[0;31m \u001b[0mget_ipython\u001b[0m\u001b[0;34m(\u001b[0m\u001b[0;34m)\u001b[0m\u001b[0;34m.\u001b[0m\u001b[0mrun_cell_magic\u001b[0m\u001b[0;34m(\u001b[0m\u001b[0;34mu'time'\u001b[0m\u001b[0;34m,\u001b[0m \u001b[0;34mu''\u001b[0m\u001b[0;34m,\u001b[0m \u001b[0;34mu'logreg = LogisticRegression(max_iter=500, n_jobs=-1)\\nlogreg.fit(try_train, Y_train)'\u001b[0m\u001b[0;34m)\u001b[0m\u001b[0;34m\u001b[0m\u001b[0m\n\u001b[0m",
      "\u001b[0;32m/Users/d.parpulov/anaconda/lib/python2.7/site-packages/IPython/core/interactiveshell.pyc\u001b[0m in \u001b[0;36mrun_cell_magic\u001b[0;34m(self, magic_name, line, cell)\u001b[0m\n\u001b[1;32m   2118\u001b[0m             \u001b[0mmagic_arg_s\u001b[0m \u001b[0;34m=\u001b[0m \u001b[0mself\u001b[0m\u001b[0;34m.\u001b[0m\u001b[0mvar_expand\u001b[0m\u001b[0;34m(\u001b[0m\u001b[0mline\u001b[0m\u001b[0;34m,\u001b[0m \u001b[0mstack_depth\u001b[0m\u001b[0;34m)\u001b[0m\u001b[0;34m\u001b[0m\u001b[0m\n\u001b[1;32m   2119\u001b[0m             \u001b[0;32mwith\u001b[0m \u001b[0mself\u001b[0m\u001b[0;34m.\u001b[0m\u001b[0mbuiltin_trap\u001b[0m\u001b[0;34m:\u001b[0m\u001b[0;34m\u001b[0m\u001b[0m\n\u001b[0;32m-> 2120\u001b[0;31m                 \u001b[0mresult\u001b[0m \u001b[0;34m=\u001b[0m \u001b[0mfn\u001b[0m\u001b[0;34m(\u001b[0m\u001b[0mmagic_arg_s\u001b[0m\u001b[0;34m,\u001b[0m \u001b[0mcell\u001b[0m\u001b[0;34m)\u001b[0m\u001b[0;34m\u001b[0m\u001b[0m\n\u001b[0m\u001b[1;32m   2121\u001b[0m             \u001b[0;32mreturn\u001b[0m \u001b[0mresult\u001b[0m\u001b[0;34m\u001b[0m\u001b[0m\n\u001b[1;32m   2122\u001b[0m \u001b[0;34m\u001b[0m\u001b[0m\n",
      "\u001b[0;32m<decorator-gen-60>\u001b[0m in \u001b[0;36mtime\u001b[0;34m(self, line, cell, local_ns)\u001b[0m\n",
      "\u001b[0;32m/Users/d.parpulov/anaconda/lib/python2.7/site-packages/IPython/core/magic.pyc\u001b[0m in \u001b[0;36m<lambda>\u001b[0;34m(f, *a, **k)\u001b[0m\n\u001b[1;32m    191\u001b[0m     \u001b[0;31m# but it's overkill for just that one bit of state.\u001b[0m\u001b[0;34m\u001b[0m\u001b[0;34m\u001b[0m\u001b[0m\n\u001b[1;32m    192\u001b[0m     \u001b[0;32mdef\u001b[0m \u001b[0mmagic_deco\u001b[0m\u001b[0;34m(\u001b[0m\u001b[0marg\u001b[0m\u001b[0;34m)\u001b[0m\u001b[0;34m:\u001b[0m\u001b[0;34m\u001b[0m\u001b[0m\n\u001b[0;32m--> 193\u001b[0;31m         \u001b[0mcall\u001b[0m \u001b[0;34m=\u001b[0m \u001b[0;32mlambda\u001b[0m \u001b[0mf\u001b[0m\u001b[0;34m,\u001b[0m \u001b[0;34m*\u001b[0m\u001b[0ma\u001b[0m\u001b[0;34m,\u001b[0m \u001b[0;34m**\u001b[0m\u001b[0mk\u001b[0m\u001b[0;34m:\u001b[0m \u001b[0mf\u001b[0m\u001b[0;34m(\u001b[0m\u001b[0;34m*\u001b[0m\u001b[0ma\u001b[0m\u001b[0;34m,\u001b[0m \u001b[0;34m**\u001b[0m\u001b[0mk\u001b[0m\u001b[0;34m)\u001b[0m\u001b[0;34m\u001b[0m\u001b[0m\n\u001b[0m\u001b[1;32m    194\u001b[0m \u001b[0;34m\u001b[0m\u001b[0m\n\u001b[1;32m    195\u001b[0m         \u001b[0;32mif\u001b[0m \u001b[0mcallable\u001b[0m\u001b[0;34m(\u001b[0m\u001b[0marg\u001b[0m\u001b[0;34m)\u001b[0m\u001b[0;34m:\u001b[0m\u001b[0;34m\u001b[0m\u001b[0m\n",
      "\u001b[0;32m/Users/d.parpulov/anaconda/lib/python2.7/site-packages/IPython/core/magics/execution.pyc\u001b[0m in \u001b[0;36mtime\u001b[0;34m(self, line, cell, local_ns)\u001b[0m\n\u001b[1;32m   1175\u001b[0m         \u001b[0;32melse\u001b[0m\u001b[0;34m:\u001b[0m\u001b[0;34m\u001b[0m\u001b[0m\n\u001b[1;32m   1176\u001b[0m             \u001b[0mst\u001b[0m \u001b[0;34m=\u001b[0m \u001b[0mclock2\u001b[0m\u001b[0;34m(\u001b[0m\u001b[0;34m)\u001b[0m\u001b[0;34m\u001b[0m\u001b[0m\n\u001b[0;32m-> 1177\u001b[0;31m             \u001b[0;32mexec\u001b[0m\u001b[0;34m(\u001b[0m\u001b[0mcode\u001b[0m\u001b[0;34m,\u001b[0m \u001b[0mglob\u001b[0m\u001b[0;34m,\u001b[0m \u001b[0mlocal_ns\u001b[0m\u001b[0;34m)\u001b[0m\u001b[0;34m\u001b[0m\u001b[0m\n\u001b[0m\u001b[1;32m   1178\u001b[0m             \u001b[0mend\u001b[0m \u001b[0;34m=\u001b[0m \u001b[0mclock2\u001b[0m\u001b[0;34m(\u001b[0m\u001b[0;34m)\u001b[0m\u001b[0;34m\u001b[0m\u001b[0m\n\u001b[1;32m   1179\u001b[0m             \u001b[0mout\u001b[0m \u001b[0;34m=\u001b[0m \u001b[0mNone\u001b[0m\u001b[0;34m\u001b[0m\u001b[0m\n",
      "\u001b[0;32m<timed exec>\u001b[0m in \u001b[0;36m<module>\u001b[0;34m()\u001b[0m\n",
      "\u001b[0;32m/Users/d.parpulov/anaconda/lib/python2.7/site-packages/sklearn/linear_model/logistic.pyc\u001b[0m in \u001b[0;36mfit\u001b[0;34m(self, X, y, sample_weight)\u001b[0m\n\u001b[1;32m   1140\u001b[0m \u001b[0;34m\u001b[0m\u001b[0m\n\u001b[1;32m   1141\u001b[0m         X, y = check_X_y(X, y, accept_sparse='csr', dtype=np.float64, \n\u001b[0;32m-> 1142\u001b[0;31m                          order=\"C\")\n\u001b[0m\u001b[1;32m   1143\u001b[0m         \u001b[0mcheck_classification_targets\u001b[0m\u001b[0;34m(\u001b[0m\u001b[0my\u001b[0m\u001b[0;34m)\u001b[0m\u001b[0;34m\u001b[0m\u001b[0m\n\u001b[1;32m   1144\u001b[0m         \u001b[0mself\u001b[0m\u001b[0;34m.\u001b[0m\u001b[0mclasses_\u001b[0m \u001b[0;34m=\u001b[0m \u001b[0mnp\u001b[0m\u001b[0;34m.\u001b[0m\u001b[0munique\u001b[0m\u001b[0;34m(\u001b[0m\u001b[0my\u001b[0m\u001b[0;34m)\u001b[0m\u001b[0;34m\u001b[0m\u001b[0m\n",
      "\u001b[0;32m/Users/d.parpulov/anaconda/lib/python2.7/site-packages/sklearn/utils/validation.pyc\u001b[0m in \u001b[0;36mcheck_X_y\u001b[0;34m(X, y, accept_sparse, dtype, order, copy, force_all_finite, ensure_2d, allow_nd, multi_output, ensure_min_samples, ensure_min_features, y_numeric, warn_on_dtype, estimator)\u001b[0m\n\u001b[1;32m    518\u001b[0m         \u001b[0my\u001b[0m \u001b[0;34m=\u001b[0m \u001b[0my\u001b[0m\u001b[0;34m.\u001b[0m\u001b[0mastype\u001b[0m\u001b[0;34m(\u001b[0m\u001b[0mnp\u001b[0m\u001b[0;34m.\u001b[0m\u001b[0mfloat64\u001b[0m\u001b[0;34m)\u001b[0m\u001b[0;34m\u001b[0m\u001b[0m\n\u001b[1;32m    519\u001b[0m \u001b[0;34m\u001b[0m\u001b[0m\n\u001b[0;32m--> 520\u001b[0;31m     \u001b[0mcheck_consistent_length\u001b[0m\u001b[0;34m(\u001b[0m\u001b[0mX\u001b[0m\u001b[0;34m,\u001b[0m \u001b[0my\u001b[0m\u001b[0;34m)\u001b[0m\u001b[0;34m\u001b[0m\u001b[0m\n\u001b[0m\u001b[1;32m    521\u001b[0m \u001b[0;34m\u001b[0m\u001b[0m\n\u001b[1;32m    522\u001b[0m     \u001b[0;32mreturn\u001b[0m \u001b[0mX\u001b[0m\u001b[0;34m,\u001b[0m \u001b[0my\u001b[0m\u001b[0;34m\u001b[0m\u001b[0m\n",
      "\u001b[0;32m/Users/d.parpulov/anaconda/lib/python2.7/site-packages/sklearn/utils/validation.pyc\u001b[0m in \u001b[0;36mcheck_consistent_length\u001b[0;34m(*arrays)\u001b[0m\n\u001b[1;32m    174\u001b[0m     \u001b[0;32mif\u001b[0m \u001b[0mlen\u001b[0m\u001b[0;34m(\u001b[0m\u001b[0muniques\u001b[0m\u001b[0;34m)\u001b[0m \u001b[0;34m>\u001b[0m \u001b[0;36m1\u001b[0m\u001b[0;34m:\u001b[0m\u001b[0;34m\u001b[0m\u001b[0m\n\u001b[1;32m    175\u001b[0m         raise ValueError(\"Found arrays with inconsistent numbers of samples: \"\n\u001b[0;32m--> 176\u001b[0;31m                          \"%s\" % str(uniques))\n\u001b[0m\u001b[1;32m    177\u001b[0m \u001b[0;34m\u001b[0m\u001b[0m\n\u001b[1;32m    178\u001b[0m \u001b[0;34m\u001b[0m\u001b[0m\n",
      "\u001b[0;31mValueError\u001b[0m: Found arrays with inconsistent numbers of samples: [ 15000 263318]"
     ]
    }
   ],
   "source": [
    "%%time\n",
    "logreg = LogisticRegression(max_iter=500, n_jobs=-1)\n",
    "logreg.fit(try_train, Y_train)"
   ]
  },
  {
   "cell_type": "code",
   "execution_count": 318,
   "metadata": {
    "collapsed": false
   },
   "outputs": [],
   "source": [
    "pred_logreg = logreg.predict_proba(try_val)[:,1]"
   ]
  },
  {
   "cell_type": "code",
   "execution_count": 319,
   "metadata": {
    "collapsed": true
   },
   "outputs": [],
   "source": [
    "val_pred = pd.concat([X_val, pd.Series(pred_logreg, name=\"pred_gender\")], axis=1)\n",
    "val_pred = val_pred.groupby(\"customer_id\").pred_gender.mean().reset_index()"
   ]
  },
  {
   "cell_type": "code",
   "execution_count": 320,
   "metadata": {
    "collapsed": false
   },
   "outputs": [
    {
     "data": {
      "text/html": [
       "<div>\n",
       "<table border=\"1\" class=\"dataframe\">\n",
       "  <thead>\n",
       "    <tr style=\"text-align: right;\">\n",
       "      <th></th>\n",
       "      <th>customer_id</th>\n",
       "      <th>gender</th>\n",
       "      <th>pred_gender</th>\n",
       "    </tr>\n",
       "  </thead>\n",
       "  <tbody>\n",
       "    <tr>\n",
       "      <th>0</th>\n",
       "      <td>75248245</td>\n",
       "      <td>1</td>\n",
       "      <td>0.482775</td>\n",
       "    </tr>\n",
       "    <tr>\n",
       "      <th>1</th>\n",
       "      <td>75278479</td>\n",
       "      <td>0</td>\n",
       "      <td>0.478340</td>\n",
       "    </tr>\n",
       "    <tr>\n",
       "      <th>2</th>\n",
       "      <td>75281100</td>\n",
       "      <td>0</td>\n",
       "      <td>0.478744</td>\n",
       "    </tr>\n",
       "    <tr>\n",
       "      <th>3</th>\n",
       "      <td>75282650</td>\n",
       "      <td>0</td>\n",
       "      <td>0.478089</td>\n",
       "    </tr>\n",
       "    <tr>\n",
       "      <th>4</th>\n",
       "      <td>75328477</td>\n",
       "      <td>1</td>\n",
       "      <td>0.480775</td>\n",
       "    </tr>\n",
       "  </tbody>\n",
       "</table>\n",
       "</div>"
      ],
      "text/plain": [
       "   customer_id  gender  pred_gender\n",
       "0     75248245       1     0.482775\n",
       "1     75278479       0     0.478340\n",
       "2     75281100       0     0.478744\n",
       "3     75282650       0     0.478089\n",
       "4     75328477       1     0.480775"
      ]
     },
     "execution_count": 320,
     "metadata": {},
     "output_type": "execute_result"
    }
   ],
   "source": [
    "pd.merge(val_true, val_pred).head()"
   ]
  },
  {
   "cell_type": "code",
   "execution_count": 321,
   "metadata": {
    "collapsed": false
   },
   "outputs": [
    {
     "name": "stdout",
     "output_type": "stream",
     "text": [
      "LogLoss 0.688989321403\n",
      "Auc score 0.750907934907\n"
     ]
    }
   ],
   "source": [
    "print \"LogLoss %s\" % str(log_loss(val_true.gender, np.array(val_pred.pred_gender))) \n",
    "print \"Auc score %s\" % str(roc_auc_score(val_true.gender, val_pred.pred_gender)) "
   ]
  },
  {
   "cell_type": "code",
   "execution_count": 313,
   "metadata": {
    "collapsed": false
   },
   "outputs": [
    {
     "data": {
      "text/plain": [
       "(86575, 86575)"
      ]
     },
     "execution_count": 313,
     "metadata": {},
     "output_type": "execute_result"
    }
   ],
   "source": [
    "len(pred_logreg), len(predicted)"
   ]
  },
  {
   "cell_type": "code",
   "execution_count": 314,
   "metadata": {
    "collapsed": false
   },
   "outputs": [
    {
     "data": {
      "text/plain": [
       "[<matplotlib.lines.Line2D at 0x118df7cd0>]"
      ]
     },
     "execution_count": 314,
     "metadata": {},
     "output_type": "execute_result"
    },
    {
     "data": {
      "image/png": "[encoded data removed]",
      "text/plain": [
       "<matplotlib.figure.Figure at 0x118de7410>"
      ]
     },
     "metadata": {},
     "output_type": "display_data"
    }
   ],
   "source": [
    "plt.plot(pred_logreg, predicted,'ro')"
   ]
  },
  {
   "cell_type": "code",
   "execution_count": null,
   "metadata": {
    "collapsed": true
   },
   "outputs": [],
   "source": []
  },
  {
   "cell_type": "markdown",
   "metadata": {},
   "source": [
    "## Prev solution"
   ]
  },
  {
   "cell_type": "code",
   "execution_count": 35,
   "metadata": {
    "collapsed": true
   },
   "outputs": [],
   "source": [
    "X_prev = pd.read_csv(\"X_sparse.csv\")"
   ]
  },
  {
   "cell_type": "code",
   "execution_count": 36,
   "metadata": {
    "collapsed": false
   },
   "outputs": [
    {
     "data": {
      "text/html": [
       "<div>\n",
       "<table border=\"1\" class=\"dataframe\">\n",
       "  <thead>\n",
       "    <tr style=\"text-align: right;\">\n",
       "      <th></th>\n",
       "      <th>customer_id</th>\n",
       "      <th>mcc_code_742</th>\n",
       "      <th>mcc_code_1711</th>\n",
       "      <th>mcc_code_1731</th>\n",
       "      <th>mcc_code_1799</th>\n",
       "      <th>mcc_code_2741</th>\n",
       "      <th>mcc_code_3000</th>\n",
       "      <th>mcc_code_3351</th>\n",
       "      <th>mcc_code_3501</th>\n",
       "      <th>mcc_code_4111</th>\n",
       "      <th>...</th>\n",
       "      <th>tr_type_7071</th>\n",
       "      <th>tr_type_7074</th>\n",
       "      <th>tr_type_7075</th>\n",
       "      <th>tr_type_8100</th>\n",
       "      <th>tr_type_8145</th>\n",
       "      <th>tr_type_8146</th>\n",
       "      <th>Mean_amount</th>\n",
       "      <th>Min_amount</th>\n",
       "      <th>Max_amount</th>\n",
       "      <th>Std_amount</th>\n",
       "    </tr>\n",
       "  </thead>\n",
       "  <tbody>\n",
       "    <tr>\n",
       "      <th>0</th>\n",
       "      <td>6815</td>\n",
       "      <td>0.0</td>\n",
       "      <td>0.0</td>\n",
       "      <td>0.0</td>\n",
       "      <td>0.0</td>\n",
       "      <td>0.0</td>\n",
       "      <td>0.0</td>\n",
       "      <td>0.0</td>\n",
       "      <td>0.0</td>\n",
       "      <td>0.0</td>\n",
       "      <td>...</td>\n",
       "      <td>0.0</td>\n",
       "      <td>0.0</td>\n",
       "      <td>0.0</td>\n",
       "      <td>0.0</td>\n",
       "      <td>0.0</td>\n",
       "      <td>0.0</td>\n",
       "      <td>-5528.561372</td>\n",
       "      <td>-224591.58</td>\n",
       "      <td>2470507.35</td>\n",
       "      <td>168370.985787</td>\n",
       "    </tr>\n",
       "    <tr>\n",
       "      <th>1</th>\n",
       "      <td>22899</td>\n",
       "      <td>0.0</td>\n",
       "      <td>0.0</td>\n",
       "      <td>0.0</td>\n",
       "      <td>0.0</td>\n",
       "      <td>0.0</td>\n",
       "      <td>0.0</td>\n",
       "      <td>0.0</td>\n",
       "      <td>0.0</td>\n",
       "      <td>0.0</td>\n",
       "      <td>...</td>\n",
       "      <td>3.0</td>\n",
       "      <td>0.0</td>\n",
       "      <td>1.0</td>\n",
       "      <td>0.0</td>\n",
       "      <td>0.0</td>\n",
       "      <td>0.0</td>\n",
       "      <td>-2691.438419</td>\n",
       "      <td>-868607.92</td>\n",
       "      <td>875907.15</td>\n",
       "      <td>127851.642622</td>\n",
       "    </tr>\n",
       "    <tr>\n",
       "      <th>2</th>\n",
       "      <td>27914</td>\n",
       "      <td>0.0</td>\n",
       "      <td>0.0</td>\n",
       "      <td>0.0</td>\n",
       "      <td>0.0</td>\n",
       "      <td>0.0</td>\n",
       "      <td>0.0</td>\n",
       "      <td>0.0</td>\n",
       "      <td>0.0</td>\n",
       "      <td>0.0</td>\n",
       "      <td>...</td>\n",
       "      <td>0.0</td>\n",
       "      <td>0.0</td>\n",
       "      <td>0.0</td>\n",
       "      <td>0.0</td>\n",
       "      <td>0.0</td>\n",
       "      <td>0.0</td>\n",
       "      <td>-26820.061441</td>\n",
       "      <td>-462658.65</td>\n",
       "      <td>89836.63</td>\n",
       "      <td>104675.148673</td>\n",
       "    </tr>\n",
       "    <tr>\n",
       "      <th>3</th>\n",
       "      <td>28753</td>\n",
       "      <td>0.0</td>\n",
       "      <td>0.0</td>\n",
       "      <td>0.0</td>\n",
       "      <td>0.0</td>\n",
       "      <td>0.0</td>\n",
       "      <td>0.0</td>\n",
       "      <td>0.0</td>\n",
       "      <td>0.0</td>\n",
       "      <td>0.0</td>\n",
       "      <td>...</td>\n",
       "      <td>0.0</td>\n",
       "      <td>0.0</td>\n",
       "      <td>0.0</td>\n",
       "      <td>0.0</td>\n",
       "      <td>0.0</td>\n",
       "      <td>0.0</td>\n",
       "      <td>-90293.479116</td>\n",
       "      <td>-3244539.76</td>\n",
       "      <td>3099363.77</td>\n",
       "      <td>785586.199773</td>\n",
       "    </tr>\n",
       "    <tr>\n",
       "      <th>4</th>\n",
       "      <td>31385</td>\n",
       "      <td>0.0</td>\n",
       "      <td>0.0</td>\n",
       "      <td>0.0</td>\n",
       "      <td>0.0</td>\n",
       "      <td>0.0</td>\n",
       "      <td>0.0</td>\n",
       "      <td>0.0</td>\n",
       "      <td>0.0</td>\n",
       "      <td>0.0</td>\n",
       "      <td>...</td>\n",
       "      <td>0.0</td>\n",
       "      <td>0.0</td>\n",
       "      <td>0.0</td>\n",
       "      <td>0.0</td>\n",
       "      <td>0.0</td>\n",
       "      <td>0.0</td>\n",
       "      <td>-5972.612548</td>\n",
       "      <td>-364366.15</td>\n",
       "      <td>199886.50</td>\n",
       "      <td>33418.557369</td>\n",
       "    </tr>\n",
       "  </tbody>\n",
       "</table>\n",
       "<p>5 rows × 266 columns</p>\n",
       "</div>"
      ],
      "text/plain": [
       "   customer_id  mcc_code_742  mcc_code_1711  mcc_code_1731  mcc_code_1799  \\\n",
       "0         6815           0.0            0.0            0.0            0.0   \n",
       "1        22899           0.0            0.0            0.0            0.0   \n",
       "2        27914           0.0            0.0            0.0            0.0   \n",
       "3        28753           0.0            0.0            0.0            0.0   \n",
       "4        31385           0.0            0.0            0.0            0.0   \n",
       "\n",
       "   mcc_code_2741  mcc_code_3000  mcc_code_3351  mcc_code_3501  mcc_code_4111  \\\n",
       "0            0.0            0.0            0.0            0.0            0.0   \n",
       "1            0.0            0.0            0.0            0.0            0.0   \n",
       "2            0.0            0.0            0.0            0.0            0.0   \n",
       "3            0.0            0.0            0.0            0.0            0.0   \n",
       "4            0.0            0.0            0.0            0.0            0.0   \n",
       "\n",
       "       ...        tr_type_7071  tr_type_7074  tr_type_7075  tr_type_8100  \\\n",
       "0      ...                 0.0           0.0           0.0           0.0   \n",
       "1      ...                 3.0           0.0           1.0           0.0   \n",
       "2      ...                 0.0           0.0           0.0           0.0   \n",
       "3      ...                 0.0           0.0           0.0           0.0   \n",
       "4      ...                 0.0           0.0           0.0           0.0   \n",
       "\n",
       "   tr_type_8145  tr_type_8146   Mean_amount  Min_amount  Max_amount  \\\n",
       "0           0.0           0.0  -5528.561372  -224591.58  2470507.35   \n",
       "1           0.0           0.0  -2691.438419  -868607.92   875907.15   \n",
       "2           0.0           0.0 -26820.061441  -462658.65    89836.63   \n",
       "3           0.0           0.0 -90293.479116 -3244539.76  3099363.77   \n",
       "4           0.0           0.0  -5972.612548  -364366.15   199886.50   \n",
       "\n",
       "      Std_amount  \n",
       "0  168370.985787  \n",
       "1  127851.642622  \n",
       "2  104675.148673  \n",
       "3  785586.199773  \n",
       "4   33418.557369  \n",
       "\n",
       "[5 rows x 266 columns]"
      ]
     },
     "execution_count": 36,
     "metadata": {},
     "output_type": "execute_result"
    }
   ],
   "source": [
    "X_prev.head()"
   ]
  },
  {
   "cell_type": "code",
   "execution_count": 47,
   "metadata": {
    "collapsed": false
   },
   "outputs": [],
   "source": [
    "try_train = pd.concat([X_train.customer_id, X_train[X_train.columns[3:]]], axis=1)\n",
    "try_val = pd.concat([X_train.customer_id, X_val[X_val.columns[3:]]], axis=1)\n",
    "\n",
    "try_test = pd.concat([X_train.customer_id, test[test.columns[3:]]], axis=1)"
   ]
  },
  {
   "cell_type": "code",
   "execution_count": 48,
   "metadata": {
    "collapsed": false
   },
   "outputs": [],
   "source": [
    "try_train = pd.merge(try_train, X_prev).fillna(0)\n",
    "try_val = pd.merge(try_val, X_prev).fillna(0)\n",
    "try_test = pd.merge(try_test, X_prev).fillna(0)"
   ]
  },
  {
   "cell_type": "code",
   "execution_count": 49,
   "metadata": {
    "collapsed": false
   },
   "outputs": [
    {
     "data": {
      "text/html": [
       "<div>\n",
       "<table border=\"1\" class=\"dataframe\">\n",
       "  <thead>\n",
       "    <tr style=\"text-align: right;\">\n",
       "      <th></th>\n",
       "      <th>customer_id</th>\n",
       "      <th>amount</th>\n",
       "      <th>k_type</th>\n",
       "      <th>k_mcc</th>\n",
       "      <th>k_mcc_traty</th>\n",
       "      <th>k_mcc_income</th>\n",
       "      <th>k_trtype_rashod</th>\n",
       "      <th>k_trtype_income</th>\n",
       "      <th>mcc_code_742</th>\n",
       "      <th>mcc_code_1711</th>\n",
       "      <th>...</th>\n",
       "      <th>tr_type_7071</th>\n",
       "      <th>tr_type_7074</th>\n",
       "      <th>tr_type_7075</th>\n",
       "      <th>tr_type_8100</th>\n",
       "      <th>tr_type_8145</th>\n",
       "      <th>tr_type_8146</th>\n",
       "      <th>Mean_amount</th>\n",
       "      <th>Min_amount</th>\n",
       "      <th>Max_amount</th>\n",
       "      <th>Std_amount</th>\n",
       "    </tr>\n",
       "  </thead>\n",
       "  <tbody>\n",
       "    <tr>\n",
       "      <th>0</th>\n",
       "      <td>6815</td>\n",
       "      <td>-2770.465889</td>\n",
       "      <td>-0.160782</td>\n",
       "      <td>-0.157460</td>\n",
       "      <td>0.147842</td>\n",
       "      <td>0.349196</td>\n",
       "      <td>0.146184</td>\n",
       "      <td>0.821869</td>\n",
       "      <td>0.0</td>\n",
       "      <td>0.0</td>\n",
       "      <td>...</td>\n",
       "      <td>0.0</td>\n",
       "      <td>0.0</td>\n",
       "      <td>0.0</td>\n",
       "      <td>0.0</td>\n",
       "      <td>0.0</td>\n",
       "      <td>0.0</td>\n",
       "      <td>-5528.561372</td>\n",
       "      <td>-224591.58</td>\n",
       "      <td>2470507.35</td>\n",
       "      <td>168370.985787</td>\n",
       "    </tr>\n",
       "    <tr>\n",
       "      <th>1</th>\n",
       "      <td>6815</td>\n",
       "      <td>-5580.408182</td>\n",
       "      <td>-0.042922</td>\n",
       "      <td>-0.056353</td>\n",
       "      <td>0.049698</td>\n",
       "      <td>0.249510</td>\n",
       "      <td>0.084700</td>\n",
       "      <td>0.366052</td>\n",
       "      <td>0.0</td>\n",
       "      <td>0.0</td>\n",
       "      <td>...</td>\n",
       "      <td>0.0</td>\n",
       "      <td>0.0</td>\n",
       "      <td>0.0</td>\n",
       "      <td>0.0</td>\n",
       "      <td>0.0</td>\n",
       "      <td>0.0</td>\n",
       "      <td>-5528.561372</td>\n",
       "      <td>-224591.58</td>\n",
       "      <td>2470507.35</td>\n",
       "      <td>168370.985787</td>\n",
       "    </tr>\n",
       "    <tr>\n",
       "      <th>2</th>\n",
       "      <td>6815</td>\n",
       "      <td>-12464.835000</td>\n",
       "      <td>-0.042922</td>\n",
       "      <td>0.279057</td>\n",
       "      <td>0.057176</td>\n",
       "      <td>0.596813</td>\n",
       "      <td>0.084700</td>\n",
       "      <td>0.366052</td>\n",
       "      <td>0.0</td>\n",
       "      <td>0.0</td>\n",
       "      <td>...</td>\n",
       "      <td>0.0</td>\n",
       "      <td>0.0</td>\n",
       "      <td>0.0</td>\n",
       "      <td>0.0</td>\n",
       "      <td>0.0</td>\n",
       "      <td>0.0</td>\n",
       "      <td>-5528.561372</td>\n",
       "      <td>-224591.58</td>\n",
       "      <td>2470507.35</td>\n",
       "      <td>168370.985787</td>\n",
       "    </tr>\n",
       "    <tr>\n",
       "      <th>3</th>\n",
       "      <td>6815</td>\n",
       "      <td>-9703.427778</td>\n",
       "      <td>0.042832</td>\n",
       "      <td>-0.056353</td>\n",
       "      <td>0.049698</td>\n",
       "      <td>0.249510</td>\n",
       "      <td>0.092908</td>\n",
       "      <td>0.157318</td>\n",
       "      <td>0.0</td>\n",
       "      <td>0.0</td>\n",
       "      <td>...</td>\n",
       "      <td>0.0</td>\n",
       "      <td>0.0</td>\n",
       "      <td>0.0</td>\n",
       "      <td>0.0</td>\n",
       "      <td>0.0</td>\n",
       "      <td>0.0</td>\n",
       "      <td>-5528.561372</td>\n",
       "      <td>-224591.58</td>\n",
       "      <td>2470507.35</td>\n",
       "      <td>168370.985787</td>\n",
       "    </tr>\n",
       "    <tr>\n",
       "      <th>4</th>\n",
       "      <td>6815</td>\n",
       "      <td>47209.150000</td>\n",
       "      <td>-0.064336</td>\n",
       "      <td>-0.022971</td>\n",
       "      <td>0.212007</td>\n",
       "      <td>0.217838</td>\n",
       "      <td>0.000000</td>\n",
       "      <td>0.268630</td>\n",
       "      <td>0.0</td>\n",
       "      <td>0.0</td>\n",
       "      <td>...</td>\n",
       "      <td>0.0</td>\n",
       "      <td>0.0</td>\n",
       "      <td>0.0</td>\n",
       "      <td>0.0</td>\n",
       "      <td>0.0</td>\n",
       "      <td>0.0</td>\n",
       "      <td>-5528.561372</td>\n",
       "      <td>-224591.58</td>\n",
       "      <td>2470507.35</td>\n",
       "      <td>168370.985787</td>\n",
       "    </tr>\n",
       "  </tbody>\n",
       "</table>\n",
       "<p>5 rows × 273 columns</p>\n",
       "</div>"
      ],
      "text/plain": [
       "   customer_id        amount    k_type     k_mcc  k_mcc_traty  k_mcc_income  \\\n",
       "0         6815  -2770.465889 -0.160782 -0.157460     0.147842      0.349196   \n",
       "1         6815  -5580.408182 -0.042922 -0.056353     0.049698      0.249510   \n",
       "2         6815 -12464.835000 -0.042922  0.279057     0.057176      0.596813   \n",
       "3         6815  -9703.427778  0.042832 -0.056353     0.049698      0.249510   \n",
       "4         6815  47209.150000 -0.064336 -0.022971     0.212007      0.217838   \n",
       "\n",
       "   k_trtype_rashod  k_trtype_income  mcc_code_742  mcc_code_1711  \\\n",
       "0         0.146184         0.821869           0.0            0.0   \n",
       "1         0.084700         0.366052           0.0            0.0   \n",
       "2         0.084700         0.366052           0.0            0.0   \n",
       "3         0.092908         0.157318           0.0            0.0   \n",
       "4         0.000000         0.268630           0.0            0.0   \n",
       "\n",
       "       ...        tr_type_7071  tr_type_7074  tr_type_7075  tr_type_8100  \\\n",
       "0      ...                 0.0           0.0           0.0           0.0   \n",
       "1      ...                 0.0           0.0           0.0           0.0   \n",
       "2      ...                 0.0           0.0           0.0           0.0   \n",
       "3      ...                 0.0           0.0           0.0           0.0   \n",
       "4      ...                 0.0           0.0           0.0           0.0   \n",
       "\n",
       "   tr_type_8145  tr_type_8146  Mean_amount  Min_amount  Max_amount  \\\n",
       "0           0.0           0.0 -5528.561372  -224591.58  2470507.35   \n",
       "1           0.0           0.0 -5528.561372  -224591.58  2470507.35   \n",
       "2           0.0           0.0 -5528.561372  -224591.58  2470507.35   \n",
       "3           0.0           0.0 -5528.561372  -224591.58  2470507.35   \n",
       "4           0.0           0.0 -5528.561372  -224591.58  2470507.35   \n",
       "\n",
       "      Std_amount  \n",
       "0  168370.985787  \n",
       "1  168370.985787  \n",
       "2  168370.985787  \n",
       "3  168370.985787  \n",
       "4  168370.985787  \n",
       "\n",
       "[5 rows x 273 columns]"
      ]
     },
     "execution_count": 49,
     "metadata": {},
     "output_type": "execute_result"
    }
   ],
   "source": [
    "try_train.head()"
   ]
  },
  {
   "cell_type": "code",
   "execution_count": null,
   "metadata": {
    "collapsed": true
   },
   "outputs": [],
   "source": []
  },
  {
   "cell_type": "markdown",
   "metadata": {},
   "source": [
    "# Mean"
   ]
  },
  {
   "cell_type": "code",
   "execution_count": 49,
   "metadata": {
    "collapsed": false
   },
   "outputs": [],
   "source": [
    "mean_koef = dataset.groupby(\"customer_id\")[\"k_type\", \"k_mcc\", \"k_mcc_traty\", \"k_mcc_income\", \"k_trtype_rashod\", \"k_trtype_income\", \"gender\"].mean().reset_index()\n",
    "mean_koef.columns = [\"customer_id\", \"k_type_mean\", \"k_mcc_mean\", \"k_mcc_traty_mean\", \"k_mcc_income_mean\", \"k_trtype_rashod_mean\", \"k_trtype_income_mean\", \"gender\"]"
   ]
  },
  {
   "cell_type": "code",
   "execution_count": null,
   "metadata": {
    "collapsed": true
   },
   "outputs": [],
   "source": []
  },
  {
   "cell_type": "code",
   "execution_count": 50,
   "metadata": {
    "collapsed": false
   },
   "outputs": [],
   "source": [
    "dataset1 = pd.merge(X_prev, mean_koef)"
   ]
  },
  {
   "cell_type": "code",
   "execution_count": 100,
   "metadata": {
    "collapsed": false
   },
   "outputs": [],
   "source": [
    "train_all = dataset1[pd.notnull(dataset1.gender)].set_index(\"customer_id\")\n",
    "test = dataset1[pd.isnull(dataset1.gender)].drop([\"gender\"], axis=1).set_index(\"customer_id\")"
   ]
  },
  {
   "cell_type": "code",
   "execution_count": 101,
   "metadata": {
    "collapsed": true
   },
   "outputs": [],
   "source": [
    "for itr, ite in ShuffleSplit(train_all.shape[0], n_iter=4, train_size=0.7, test_size=0.3, random_state=0):\n",
    "    pass"
   ]
  },
  {
   "cell_type": "code",
   "execution_count": 104,
   "metadata": {
    "collapsed": true
   },
   "outputs": [],
   "source": [
    "X_train = train_all.iloc[itr].drop([\"gender\"], axis=1)\n",
    "X_val = train_all.iloc[ite].drop([\"gender\"], axis=1)\n",
    "\n",
    "\n",
    "X_all = train_all.drop([\"gender\"], axis=1)\n",
    "Y_all = train_all.gender\n",
    "\n",
    "Y_train = train_all.gender.iloc[itr]\n",
    "Y_val = train_all.gender.iloc[ite]"
   ]
  },
  {
   "cell_type": "markdown",
   "metadata": {},
   "source": [
    "# Try with addit features"
   ]
  },
  {
   "cell_type": "markdown",
   "metadata": {},
   "source": [
    "### sklearn gb"
   ]
  },
  {
   "cell_type": "code",
   "execution_count": 105,
   "metadata": {
    "collapsed": false
   },
   "outputs": [
    {
     "name": "stdout",
     "output_type": "stream",
     "text": [
      "      Iter       Train Loss   Remaining Time \n",
      "         1           1.2860            4.74m\n",
      "         2           1.2134            4.70m\n",
      "         3           1.1513            4.68m\n",
      "         4           1.0965            4.72m\n",
      "         5           1.0494            4.74m\n",
      "         6           1.0056            4.72m\n",
      "         7           0.9687            4.72m\n",
      "         8           0.9362            4.73m\n",
      "         9           0.9061            4.74m\n",
      "        10           0.8785            4.75m\n",
      "        20           0.7117            4.49m\n",
      "        30           0.6264            4.34m\n",
      "        40           0.5642            4.25m\n",
      "        50           0.5181            4.01m\n",
      "        60           0.4913            3.67m\n",
      "        70           0.4708            3.37m\n",
      "        80           0.4483            3.15m\n",
      "        90           0.4258            3.02m\n",
      "       100           0.4132            2.81m\n",
      "       200           0.2734            1.78m\n",
      "       300           0.1929            1.12m\n",
      "       400           0.1342           32.89s\n",
      "       500           0.0966            0.00s\n"
     ]
    },
    {
     "data": {
      "text/plain": [
       "GradientBoostingClassifier(init=None, learning_rate=0.1, loss='deviance',\n",
       "              max_depth=7, max_features=None, max_leaf_nodes=None,\n",
       "              min_samples_leaf=1, min_samples_split=2,\n",
       "              min_weight_fraction_leaf=0.0, n_estimators=500,\n",
       "              presort='auto', random_state=13, subsample=1.0, verbose=True,\n",
       "              warm_start=False)"
      ]
     },
     "execution_count": 105,
     "metadata": {},
     "output_type": "execute_result"
    }
   ],
   "source": [
    "%%time\n",
    "clf = GradientBoostingClassifier(max_depth=7, n_estimators=500, verbose=True, random_state=13)\n",
    "clf.fit(X_train, Y_train)"
   ]
  },
  {
   "cell_type": "code",
   "execution_count": 106,
   "metadata": {
    "collapsed": true
   },
   "outputs": [],
   "source": [
    "predicted_gb = clf.predict_proba(X_val)[:, 1]"
   ]
  },
  {
   "cell_type": "code",
   "execution_count": 107,
   "metadata": {
    "collapsed": false
   },
   "outputs": [
    {
     "name": "stdout",
     "output_type": "stream",
     "text": [
      "Auc score 0.870795003608\n"
     ]
    }
   ],
   "source": [
    "auc_score = roc_auc_score(Y_val, predicted_gb)\n",
    "print \"Auc score %s\" % str(auc_score) "
   ]
  },
  {
   "cell_type": "markdown",
   "metadata": {},
   "source": [
    "## xgboost"
   ]
  },
  {
   "cell_type": "code",
   "execution_count": 108,
   "metadata": {
    "collapsed": true
   },
   "outputs": [],
   "source": [
    "import xgboost as xgb"
   ]
  },
  {
   "cell_type": "code",
   "execution_count": 469,
   "metadata": {
    "collapsed": true
   },
   "outputs": [
    {
     "ename": "TypeError",
     "evalue": "a float is required",
     "output_type": "error",
     "traceback": [
      "\u001b[0;31m---------------------------------------------------------------------------\u001b[0m",
      "\u001b[0;31mTypeError\u001b[0m                                 Traceback (most recent call last)",
      "\u001b[0;32m<ipython-input-469-51c9f967df7a>\u001b[0m in \u001b[0;36m<module>\u001b[0;34m()\u001b[0m\n\u001b[0;32m----> 1\u001b[0;31m \u001b[0mget_ipython\u001b[0m\u001b[0;34m(\u001b[0m\u001b[0;34m)\u001b[0m\u001b[0;34m.\u001b[0m\u001b[0mrun_cell_magic\u001b[0m\u001b[0;34m(\u001b[0m\u001b[0;34mu'time'\u001b[0m\u001b[0;34m,\u001b[0m \u001b[0;34mu''\u001b[0m\u001b[0;34m,\u001b[0m \u001b[0;34mu\"model = xgb.XGBClassifier(max_depth=10, learning_rate=0.1, n_estimators=250, silent=True, \\\\\\n                          objective='binary:logistic', nthread=-1, \\\\\\n                          subsample=0.6, colsample_bytree=0.6, colsample_bylevel=0.7)\\nmodel.fit(X_train, Y_train, X_train.columns)\"\u001b[0m\u001b[0;34m)\u001b[0m\u001b[0;34m\u001b[0m\u001b[0m\n\u001b[0m",
      "\u001b[0;32m/Users/d.parpulov/anaconda/lib/python2.7/site-packages/IPython/core/interactiveshell.pyc\u001b[0m in \u001b[0;36mrun_cell_magic\u001b[0;34m(self, magic_name, line, cell)\u001b[0m\n\u001b[1;32m   2118\u001b[0m             \u001b[0mmagic_arg_s\u001b[0m \u001b[0;34m=\u001b[0m \u001b[0mself\u001b[0m\u001b[0;34m.\u001b[0m\u001b[0mvar_expand\u001b[0m\u001b[0;34m(\u001b[0m\u001b[0mline\u001b[0m\u001b[0;34m,\u001b[0m \u001b[0mstack_depth\u001b[0m\u001b[0;34m)\u001b[0m\u001b[0;34m\u001b[0m\u001b[0m\n\u001b[1;32m   2119\u001b[0m             \u001b[0;32mwith\u001b[0m \u001b[0mself\u001b[0m\u001b[0;34m.\u001b[0m\u001b[0mbuiltin_trap\u001b[0m\u001b[0;34m:\u001b[0m\u001b[0;34m\u001b[0m\u001b[0m\n\u001b[0;32m-> 2120\u001b[0;31m                 \u001b[0mresult\u001b[0m \u001b[0;34m=\u001b[0m \u001b[0mfn\u001b[0m\u001b[0;34m(\u001b[0m\u001b[0mmagic_arg_s\u001b[0m\u001b[0;34m,\u001b[0m \u001b[0mcell\u001b[0m\u001b[0;34m)\u001b[0m\u001b[0;34m\u001b[0m\u001b[0m\n\u001b[0m\u001b[1;32m   2121\u001b[0m             \u001b[0;32mreturn\u001b[0m \u001b[0mresult\u001b[0m\u001b[0;34m\u001b[0m\u001b[0m\n\u001b[1;32m   2122\u001b[0m \u001b[0;34m\u001b[0m\u001b[0m\n",
      "\u001b[0;32m<decorator-gen-60>\u001b[0m in \u001b[0;36mtime\u001b[0;34m(self, line, cell, local_ns)\u001b[0m\n",
      "\u001b[0;32m/Users/d.parpulov/anaconda/lib/python2.7/site-packages/IPython/core/magic.pyc\u001b[0m in \u001b[0;36m<lambda>\u001b[0;34m(f, *a, **k)\u001b[0m\n\u001b[1;32m    191\u001b[0m     \u001b[0;31m# but it's overkill for just that one bit of state.\u001b[0m\u001b[0;34m\u001b[0m\u001b[0;34m\u001b[0m\u001b[0m\n\u001b[1;32m    192\u001b[0m     \u001b[0;32mdef\u001b[0m \u001b[0mmagic_deco\u001b[0m\u001b[0;34m(\u001b[0m\u001b[0marg\u001b[0m\u001b[0;34m)\u001b[0m\u001b[0;34m:\u001b[0m\u001b[0;34m\u001b[0m\u001b[0m\n\u001b[0;32m--> 193\u001b[0;31m         \u001b[0mcall\u001b[0m \u001b[0;34m=\u001b[0m \u001b[0;32mlambda\u001b[0m \u001b[0mf\u001b[0m\u001b[0;34m,\u001b[0m \u001b[0;34m*\u001b[0m\u001b[0ma\u001b[0m\u001b[0;34m,\u001b[0m \u001b[0;34m**\u001b[0m\u001b[0mk\u001b[0m\u001b[0;34m:\u001b[0m \u001b[0mf\u001b[0m\u001b[0;34m(\u001b[0m\u001b[0;34m*\u001b[0m\u001b[0ma\u001b[0m\u001b[0;34m,\u001b[0m \u001b[0;34m**\u001b[0m\u001b[0mk\u001b[0m\u001b[0;34m)\u001b[0m\u001b[0;34m\u001b[0m\u001b[0m\n\u001b[0m\u001b[1;32m    194\u001b[0m \u001b[0;34m\u001b[0m\u001b[0m\n\u001b[1;32m    195\u001b[0m         \u001b[0;32mif\u001b[0m \u001b[0mcallable\u001b[0m\u001b[0;34m(\u001b[0m\u001b[0marg\u001b[0m\u001b[0;34m)\u001b[0m\u001b[0;34m:\u001b[0m\u001b[0;34m\u001b[0m\u001b[0m\n",
      "\u001b[0;32m/Users/d.parpulov/anaconda/lib/python2.7/site-packages/IPython/core/magics/execution.pyc\u001b[0m in \u001b[0;36mtime\u001b[0;34m(self, line, cell, local_ns)\u001b[0m\n\u001b[1;32m   1175\u001b[0m         \u001b[0;32melse\u001b[0m\u001b[0;34m:\u001b[0m\u001b[0;34m\u001b[0m\u001b[0m\n\u001b[1;32m   1176\u001b[0m             \u001b[0mst\u001b[0m \u001b[0;34m=\u001b[0m \u001b[0mclock2\u001b[0m\u001b[0;34m(\u001b[0m\u001b[0;34m)\u001b[0m\u001b[0;34m\u001b[0m\u001b[0m\n\u001b[0;32m-> 1177\u001b[0;31m             \u001b[0;32mexec\u001b[0m\u001b[0;34m(\u001b[0m\u001b[0mcode\u001b[0m\u001b[0;34m,\u001b[0m \u001b[0mglob\u001b[0m\u001b[0;34m,\u001b[0m \u001b[0mlocal_ns\u001b[0m\u001b[0;34m)\u001b[0m\u001b[0;34m\u001b[0m\u001b[0m\n\u001b[0m\u001b[1;32m   1178\u001b[0m             \u001b[0mend\u001b[0m \u001b[0;34m=\u001b[0m \u001b[0mclock2\u001b[0m\u001b[0;34m(\u001b[0m\u001b[0;34m)\u001b[0m\u001b[0;34m\u001b[0m\u001b[0m\n\u001b[1;32m   1179\u001b[0m             \u001b[0mout\u001b[0m \u001b[0;34m=\u001b[0m \u001b[0mNone\u001b[0m\u001b[0;34m\u001b[0m\u001b[0m\n",
      "\u001b[0;32m<timed exec>\u001b[0m in \u001b[0;36m<module>\u001b[0;34m()\u001b[0m\n",
      "\u001b[0;32m/Users/d.parpulov/anaconda/lib/python2.7/site-packages/xgboost-0.6-py2.7.egg/xgboost/sklearn.pyc\u001b[0m in \u001b[0;36mfit\u001b[0;34m(self, X, y, sample_weight, eval_set, eval_metric, early_stopping_rounds, verbose)\u001b[0m\n\u001b[1;32m    434\u001b[0m         \u001b[0;32mif\u001b[0m \u001b[0msample_weight\u001b[0m \u001b[0;32mis\u001b[0m \u001b[0;32mnot\u001b[0m \u001b[0mNone\u001b[0m\u001b[0;34m:\u001b[0m\u001b[0;34m\u001b[0m\u001b[0m\n\u001b[1;32m    435\u001b[0m             train_dmatrix = DMatrix(X, label=training_labels, weight=sample_weight,\n\u001b[0;32m--> 436\u001b[0;31m                                     missing=self.missing)\n\u001b[0m\u001b[1;32m    437\u001b[0m         \u001b[0;32melse\u001b[0m\u001b[0;34m:\u001b[0m\u001b[0;34m\u001b[0m\u001b[0m\n\u001b[1;32m    438\u001b[0m             train_dmatrix = DMatrix(X, label=training_labels,\n",
      "\u001b[0;32m/Users/d.parpulov/anaconda/lib/python2.7/site-packages/xgboost-0.6-py2.7.egg/xgboost/core.pyc\u001b[0m in \u001b[0;36m__init__\u001b[0;34m(self, data, label, missing, weight, silent, feature_names, feature_types)\u001b[0m\n\u001b[1;32m    276\u001b[0m             \u001b[0mself\u001b[0m\u001b[0;34m.\u001b[0m\u001b[0mset_label\u001b[0m\u001b[0;34m(\u001b[0m\u001b[0mlabel\u001b[0m\u001b[0;34m)\u001b[0m\u001b[0;34m\u001b[0m\u001b[0m\n\u001b[1;32m    277\u001b[0m         \u001b[0;32mif\u001b[0m \u001b[0mweight\u001b[0m \u001b[0;32mis\u001b[0m \u001b[0;32mnot\u001b[0m \u001b[0mNone\u001b[0m\u001b[0;34m:\u001b[0m\u001b[0;34m\u001b[0m\u001b[0m\n\u001b[0;32m--> 278\u001b[0;31m             \u001b[0mself\u001b[0m\u001b[0;34m.\u001b[0m\u001b[0mset_weight\u001b[0m\u001b[0;34m(\u001b[0m\u001b[0mweight\u001b[0m\u001b[0;34m)\u001b[0m\u001b[0;34m\u001b[0m\u001b[0m\n\u001b[0m\u001b[1;32m    279\u001b[0m \u001b[0;34m\u001b[0m\u001b[0m\n\u001b[1;32m    280\u001b[0m         \u001b[0mself\u001b[0m\u001b[0;34m.\u001b[0m\u001b[0mfeature_names\u001b[0m \u001b[0;34m=\u001b[0m \u001b[0mfeature_names\u001b[0m\u001b[0;34m\u001b[0m\u001b[0m\n",
      "\u001b[0;32m/Users/d.parpulov/anaconda/lib/python2.7/site-packages/xgboost-0.6-py2.7.egg/xgboost/core.pyc\u001b[0m in \u001b[0;36mset_weight\u001b[0;34m(self, weight)\u001b[0m\n\u001b[1;32m    432\u001b[0m             \u001b[0mWeight\u001b[0m \u001b[0;32mfor\u001b[0m \u001b[0meach\u001b[0m \u001b[0mdata\u001b[0m \u001b[0mpoint\u001b[0m\u001b[0;34m\u001b[0m\u001b[0m\n\u001b[1;32m    433\u001b[0m         \"\"\"\n\u001b[0;32m--> 434\u001b[0;31m         \u001b[0mself\u001b[0m\u001b[0;34m.\u001b[0m\u001b[0mset_float_info\u001b[0m\u001b[0;34m(\u001b[0m\u001b[0;34m'weight'\u001b[0m\u001b[0;34m,\u001b[0m \u001b[0mweight\u001b[0m\u001b[0;34m)\u001b[0m\u001b[0;34m\u001b[0m\u001b[0m\n\u001b[0m\u001b[1;32m    435\u001b[0m \u001b[0;34m\u001b[0m\u001b[0m\n\u001b[1;32m    436\u001b[0m     \u001b[0;32mdef\u001b[0m \u001b[0mset_base_margin\u001b[0m\u001b[0;34m(\u001b[0m\u001b[0mself\u001b[0m\u001b[0;34m,\u001b[0m \u001b[0mmargin\u001b[0m\u001b[0;34m)\u001b[0m\u001b[0;34m:\u001b[0m\u001b[0;34m\u001b[0m\u001b[0m\n",
      "\u001b[0;32m/Users/d.parpulov/anaconda/lib/python2.7/site-packages/xgboost-0.6-py2.7.egg/xgboost/core.pyc\u001b[0m in \u001b[0;36mset_float_info\u001b[0;34m(self, field, data)\u001b[0m\n\u001b[1;32m    381\u001b[0m         _check_call(_LIB.XGDMatrixSetFloatInfo(self.handle,\n\u001b[1;32m    382\u001b[0m                                                \u001b[0mc_str\u001b[0m\u001b[0;34m(\u001b[0m\u001b[0mfield\u001b[0m\u001b[0;34m)\u001b[0m\u001b[0;34m,\u001b[0m\u001b[0;34m\u001b[0m\u001b[0m\n\u001b[0;32m--> 383\u001b[0;31m                                                \u001b[0mc_array\u001b[0m\u001b[0;34m(\u001b[0m\u001b[0mctypes\u001b[0m\u001b[0;34m.\u001b[0m\u001b[0mc_float\u001b[0m\u001b[0;34m,\u001b[0m \u001b[0mdata\u001b[0m\u001b[0;34m)\u001b[0m\u001b[0;34m,\u001b[0m\u001b[0;34m\u001b[0m\u001b[0m\n\u001b[0m\u001b[1;32m    384\u001b[0m                                                len(data)))\n\u001b[1;32m    385\u001b[0m \u001b[0;34m\u001b[0m\u001b[0m\n",
      "\u001b[0;32m/Users/d.parpulov/anaconda/lib/python2.7/site-packages/xgboost-0.6-py2.7.egg/xgboost/core.pyc\u001b[0m in \u001b[0;36mc_array\u001b[0;34m(ctype, values)\u001b[0m\n\u001b[1;32m    157\u001b[0m \u001b[0;32mdef\u001b[0m \u001b[0mc_array\u001b[0m\u001b[0;34m(\u001b[0m\u001b[0mctype\u001b[0m\u001b[0;34m,\u001b[0m \u001b[0mvalues\u001b[0m\u001b[0;34m)\u001b[0m\u001b[0;34m:\u001b[0m\u001b[0;34m\u001b[0m\u001b[0m\n\u001b[1;32m    158\u001b[0m     \u001b[0;34m\"\"\"Convert a python string to c array.\"\"\"\u001b[0m\u001b[0;34m\u001b[0m\u001b[0m\n\u001b[0;32m--> 159\u001b[0;31m     \u001b[0;32mreturn\u001b[0m \u001b[0;34m(\u001b[0m\u001b[0mctype\u001b[0m \u001b[0;34m*\u001b[0m \u001b[0mlen\u001b[0m\u001b[0;34m(\u001b[0m\u001b[0mvalues\u001b[0m\u001b[0;34m)\u001b[0m\u001b[0;34m)\u001b[0m\u001b[0;34m(\u001b[0m\u001b[0;34m*\u001b[0m\u001b[0mvalues\u001b[0m\u001b[0;34m)\u001b[0m\u001b[0;34m\u001b[0m\u001b[0m\n\u001b[0m\u001b[1;32m    160\u001b[0m \u001b[0;34m\u001b[0m\u001b[0m\n\u001b[1;32m    161\u001b[0m \u001b[0;34m\u001b[0m\u001b[0m\n",
      "\u001b[0;31mTypeError\u001b[0m: a float is required"
     ]
    }
   ],
   "source": [
    "%%time\n",
    "model = xgb.XGBClassifier(max_depth=10, learning_rate=0.1, n_estimators=250, silent=True, \\\n",
    "                          objective='binary:logistic', nthread=-1, \\\n",
    "                          subsample=0.6, colsample_bytree=0.6, colsample_bylevel=0.7, seed=27)\n",
    "model.fit(X_train, Y_train)"
   ]
  },
  {
   "cell_type": "code",
   "execution_count": 466,
   "metadata": {
    "collapsed": false
   },
   "outputs": [
    {
     "name": "stdout",
     "output_type": "stream",
     "text": [
      "Auc score 0.869231125742\n"
     ]
    }
   ],
   "source": [
    "predicted = model.predict_proba(X_val)[:, 1]\n",
    "auc_score = roc_auc_score(Y_val, predicted)\n",
    "print \"Auc score %s\" % str(auc_score) "
   ]
  },
  {
   "cell_type": "markdown",
   "metadata": {},
   "source": [
    "xgb tuning"
   ]
  },
  {
   "cell_type": "code",
   "execution_count": 146,
   "metadata": {
    "collapsed": true
   },
   "outputs": [],
   "source": [
    "param = {}\n",
    "param['max_depth'] = 3\n",
    "param['booster'] = 'gbtree'\n",
    "param['objective'] = 'binary:logistic'\n",
    "param['eval_metric'] = 'auc'\n",
    "param['eta'] = 0.01\n",
    "param['subsample'] = 0.9\n",
    "param['colsample_bytree'] = 0.7\n",
    "param['colsample_bylevel'] = 0.8\n",
    "param['min_child_weight'] = 8\n",
    "param['gamma'] = 0.12\n",
    "param['reg_alpha'] = 0.0001\n",
    "\n",
    "numround = 2750"
   ]
  },
  {
   "cell_type": "code",
   "execution_count": 147,
   "metadata": {
    "collapsed": false
   },
   "outputs": [],
   "source": [
    "Xdatatrain = xgb.DMatrix(X_train, label = Y_train)\n",
    "Xdataval = xgb.DMatrix(X_val, label = Y_val)\n",
    "\n",
    "X_all_datatrain = xgb.DMatrix(X_all, label = Y_all)\n",
    "Xdatatest = xgb.DMatrix(test)\n",
    "\n",
    "plst = list(param.items())\n",
    "watchlist = [(Xdatatrain, 'train'), (Xdataval, 'eval')]            "
   ]
  },
  {
   "cell_type": "code",
   "execution_count": 145,
   "metadata": {
    "collapsed": true
   },
   "outputs": [
    {
     "name": "stdout",
     "output_type": "stream",
     "text": [
      "[0]\ttrain-auc:0.831906+0.00149301\ttest-auc:0.823575+0.000917958\n",
      "[10]\ttrain-auc:0.849264+0.00219297\ttest-auc:0.840046+0.000439467\n",
      "[20]\ttrain-auc:0.852664+0.00129109\ttest-auc:0.842749+0.00111827\n",
      "[30]\ttrain-auc:0.853621+0.00142253\ttest-auc:0.843201+0.000704273\n",
      "[40]\ttrain-auc:0.855035+0.000826473\ttest-auc:0.84462+0.00175901\n",
      "[50]\ttrain-auc:0.855889+0.00105975\ttest-auc:0.845574+0.0013103\n",
      "[60]\ttrain-auc:0.856899+0.00123808\ttest-auc:0.846585+0.00118462\n",
      "[70]\ttrain-auc:0.857651+0.00120321\ttest-auc:0.847339+0.000925273\n",
      "[80]\ttrain-auc:0.858369+0.00112212\ttest-auc:0.847962+0.000684645\n",
      "[90]\ttrain-auc:0.859041+0.00117558\ttest-auc:0.848603+0.000900583\n",
      "[100]\ttrain-auc:0.859629+0.00105149\ttest-auc:0.849278+0.00119181\n",
      "[110]\ttrain-auc:0.8603+0.000892655\ttest-auc:0.849826+0.00131332\n",
      "[120]\ttrain-auc:0.861009+0.000779084\ttest-auc:0.85046+0.00164291\n",
      "[130]\ttrain-auc:0.861829+0.000653861\ttest-auc:0.851171+0.00165758\n",
      "[140]\ttrain-auc:0.862638+0.00073684\ttest-auc:0.851787+0.00170661\n",
      "[150]\ttrain-auc:0.863302+0.000558417\ttest-auc:0.852299+0.0019016\n",
      "[160]\ttrain-auc:0.863856+0.000604066\ttest-auc:0.852739+0.0019786\n",
      "[170]\ttrain-auc:0.864491+0.000584182\ttest-auc:0.853309+0.00192671\n",
      "[180]\ttrain-auc:0.865089+0.000466495\ttest-auc:0.85379+0.0020626\n",
      "[190]\ttrain-auc:0.865802+0.000422446\ttest-auc:0.854311+0.00219311\n",
      "[200]\ttrain-auc:0.866566+0.000389585\ttest-auc:0.854833+0.00215859\n",
      "[210]\ttrain-auc:0.867229+0.000444353\ttest-auc:0.855312+0.00211478\n",
      "[220]\ttrain-auc:0.86808+0.000482028\ttest-auc:0.855821+0.00211618\n",
      "[230]\ttrain-auc:0.868782+0.000589265\ttest-auc:0.856306+0.00212958\n",
      "[240]\ttrain-auc:0.869541+0.000692425\ttest-auc:0.856803+0.00204377\n",
      "[250]\ttrain-auc:0.870223+0.00081601\ttest-auc:0.857264+0.00200912\n",
      "[260]\ttrain-auc:0.870908+0.000842166\ttest-auc:0.857733+0.00200598\n",
      "[270]\ttrain-auc:0.871613+0.000757598\ttest-auc:0.858243+0.00207126\n",
      "[280]\ttrain-auc:0.872273+0.000804536\ttest-auc:0.858625+0.00205948\n",
      "[290]\ttrain-auc:0.872897+0.00083688\ttest-auc:0.859043+0.00204172\n",
      "[300]\ttrain-auc:0.873507+0.000849796\ttest-auc:0.859493+0.00196958\n",
      "[310]\ttrain-auc:0.874054+0.000878487\ttest-auc:0.85984+0.00192003\n",
      "[320]\ttrain-auc:0.874699+0.000921693\ttest-auc:0.860247+0.0018868\n",
      "[330]\ttrain-auc:0.875345+0.000843306\ttest-auc:0.860638+0.00194465\n",
      "[340]\ttrain-auc:0.875964+0.000853056\ttest-auc:0.860986+0.00195284\n",
      "[350]\ttrain-auc:0.876612+0.00094194\ttest-auc:0.861394+0.00187103\n",
      "[360]\ttrain-auc:0.87717+0.000981587\ttest-auc:0.861789+0.00180511\n",
      "[370]\ttrain-auc:0.877776+0.00101392\ttest-auc:0.862155+0.00176617\n",
      "[380]\ttrain-auc:0.878422+0.00102942\ttest-auc:0.862544+0.00185865\n",
      "[390]\ttrain-auc:0.878951+0.0011002\ttest-auc:0.862863+0.00182181\n",
      "[400]\ttrain-auc:0.879442+0.00110012\ttest-auc:0.863153+0.00184782\n",
      "[410]\ttrain-auc:0.879988+0.00115338\ttest-auc:0.863461+0.0018227\n",
      "[420]\ttrain-auc:0.880523+0.00118594\ttest-auc:0.863752+0.00183486\n",
      "[430]\ttrain-auc:0.881051+0.0011854\ttest-auc:0.864055+0.00184827\n",
      "[440]\ttrain-auc:0.881574+0.0011918\ttest-auc:0.864348+0.00184324\n",
      "[450]\ttrain-auc:0.88208+0.00120959\ttest-auc:0.864622+0.00182703\n",
      "[460]\ttrain-auc:0.882571+0.00121043\ttest-auc:0.864891+0.00183625\n",
      "[470]\ttrain-auc:0.883064+0.0012349\ttest-auc:0.865161+0.00183463\n",
      "[480]\ttrain-auc:0.883576+0.00124679\ttest-auc:0.865419+0.00184856\n",
      "[490]\ttrain-auc:0.884051+0.00131367\ttest-auc:0.865706+0.00185225\n",
      "[500]\ttrain-auc:0.884523+0.00135895\ttest-auc:0.865936+0.00186698\n",
      "[510]\ttrain-auc:0.88502+0.00138011\ttest-auc:0.866201+0.00192064\n",
      "[520]\ttrain-auc:0.88553+0.00146072\ttest-auc:0.866501+0.00194197\n",
      "[530]\ttrain-auc:0.885994+0.00146985\ttest-auc:0.866756+0.00193514\n",
      "[540]\ttrain-auc:0.886392+0.00151297\ttest-auc:0.86695+0.00195101\n",
      "[550]\ttrain-auc:0.886828+0.00154264\ttest-auc:0.867138+0.00198829\n",
      "[560]\ttrain-auc:0.887265+0.00156319\ttest-auc:0.867372+0.00204797\n",
      "[570]\ttrain-auc:0.887714+0.00158759\ttest-auc:0.8676+0.00210222\n",
      "[580]\ttrain-auc:0.888118+0.00154603\ttest-auc:0.86778+0.00212408\n",
      "[590]\ttrain-auc:0.888534+0.00159026\ttest-auc:0.867987+0.00217056\n",
      "[600]\ttrain-auc:0.888954+0.00157631\ttest-auc:0.868177+0.0022092\n",
      "[610]\ttrain-auc:0.88933+0.00159435\ttest-auc:0.868382+0.00220624\n",
      "[620]\ttrain-auc:0.889712+0.0016143\ttest-auc:0.868562+0.00223674\n",
      "[630]\ttrain-auc:0.890082+0.00163309\ttest-auc:0.868779+0.00225692\n",
      "[640]\ttrain-auc:0.890452+0.00161848\ttest-auc:0.868934+0.00229478\n",
      "[650]\ttrain-auc:0.890841+0.00162316\ttest-auc:0.869116+0.00225171\n",
      "[660]\ttrain-auc:0.891187+0.00162291\ttest-auc:0.869284+0.0023052\n",
      "[670]\ttrain-auc:0.891554+0.00165327\ttest-auc:0.869453+0.00232204\n",
      "[680]\ttrain-auc:0.891906+0.00168507\ttest-auc:0.869633+0.00235574\n",
      "[690]\ttrain-auc:0.892277+0.00167525\ttest-auc:0.869819+0.00236927\n",
      "[700]\ttrain-auc:0.892627+0.00169565\ttest-auc:0.86997+0.00238664\n",
      "[710]\ttrain-auc:0.892949+0.00170278\ttest-auc:0.87016+0.0024142\n",
      "[720]\ttrain-auc:0.893269+0.00170274\ttest-auc:0.870296+0.00245186\n",
      "[730]\ttrain-auc:0.893637+0.00171361\ttest-auc:0.870433+0.00245512\n",
      "[740]\ttrain-auc:0.894+0.00174515\ttest-auc:0.870571+0.00249551\n",
      "[750]\ttrain-auc:0.894323+0.00175834\ttest-auc:0.870688+0.00253599\n",
      "[760]\ttrain-auc:0.89463+0.00177484\ttest-auc:0.870817+0.00255519\n",
      "[770]\ttrain-auc:0.894937+0.00177472\ttest-auc:0.870936+0.00254285\n",
      "[780]\ttrain-auc:0.895228+0.00179184\ttest-auc:0.871044+0.00254344\n",
      "[790]\ttrain-auc:0.895564+0.00183621\ttest-auc:0.871174+0.00252677\n",
      "[800]\ttrain-auc:0.895879+0.00182089\ttest-auc:0.871298+0.00256404\n",
      "[810]\ttrain-auc:0.896184+0.00182184\ttest-auc:0.871432+0.00254863\n",
      "[820]\ttrain-auc:0.896491+0.00184728\ttest-auc:0.871554+0.00256045\n",
      "[830]\ttrain-auc:0.896768+0.00186558\ttest-auc:0.871677+0.00259203\n",
      "[840]\ttrain-auc:0.897092+0.00187763\ttest-auc:0.871766+0.00259093\n",
      "[850]\ttrain-auc:0.897378+0.001863\ttest-auc:0.871858+0.00263122\n",
      "[860]\ttrain-auc:0.897662+0.00189224\ttest-auc:0.871959+0.0026313\n",
      "[870]\ttrain-auc:0.897946+0.00189934\ttest-auc:0.872069+0.00267265\n",
      "[880]\ttrain-auc:0.898241+0.00188051\ttest-auc:0.872159+0.00269441\n",
      "[890]\ttrain-auc:0.89851+0.00191131\ttest-auc:0.872266+0.00269232\n",
      "[900]\ttrain-auc:0.898823+0.00192475\ttest-auc:0.872385+0.00273321\n",
      "[910]\ttrain-auc:0.899096+0.00197024\ttest-auc:0.872447+0.002754\n",
      "[920]\ttrain-auc:0.89937+0.00198697\ttest-auc:0.872538+0.00277252\n",
      "[930]\ttrain-auc:0.899624+0.00200114\ttest-auc:0.872644+0.00276957\n",
      "[940]\ttrain-auc:0.899908+0.00197612\ttest-auc:0.872733+0.00279426\n",
      "[950]\ttrain-auc:0.900179+0.00199594\ttest-auc:0.872816+0.00280496\n",
      "[960]\ttrain-auc:0.900417+0.00197641\ttest-auc:0.872906+0.00282508\n",
      "[970]\ttrain-auc:0.900688+0.00196403\ttest-auc:0.872976+0.00282414\n",
      "[980]\ttrain-auc:0.900947+0.00198048\ttest-auc:0.873086+0.00282818\n",
      "[990]\ttrain-auc:0.901199+0.00196264\ttest-auc:0.873151+0.00285653\n",
      "[1000]\ttrain-auc:0.901496+0.00192492\ttest-auc:0.873293+0.00288419\n",
      "[1010]\ttrain-auc:0.901722+0.00193262\ttest-auc:0.873393+0.00288983\n",
      "[1020]\ttrain-auc:0.901982+0.00194812\ttest-auc:0.873441+0.00291073\n",
      "[1030]\ttrain-auc:0.902241+0.00198438\ttest-auc:0.873512+0.00294008\n",
      "[1040]\ttrain-auc:0.902489+0.00201786\ttest-auc:0.873579+0.00294217\n",
      "[1050]\ttrain-auc:0.902744+0.00201646\ttest-auc:0.873649+0.00296225\n",
      "[1060]\ttrain-auc:0.902998+0.00202347\ttest-auc:0.87373+0.00297846\n",
      "[1070]\ttrain-auc:0.903223+0.00201364\ttest-auc:0.873821+0.00298719\n",
      "[1080]\ttrain-auc:0.903466+0.00199734\ttest-auc:0.873888+0.00301544\n",
      "[1090]\ttrain-auc:0.903713+0.00199711\ttest-auc:0.873985+0.00300866\n",
      "[1100]\ttrain-auc:0.903973+0.00201154\ttest-auc:0.874068+0.00300683\n",
      "[1110]\ttrain-auc:0.904179+0.00200355\ttest-auc:0.874132+0.00302295\n",
      "[1120]\ttrain-auc:0.904366+0.0019898\ttest-auc:0.874211+0.00306314\n",
      "[1130]\ttrain-auc:0.904595+0.0019636\ttest-auc:0.874302+0.00306178\n",
      "[1140]\ttrain-auc:0.90482+0.00194193\ttest-auc:0.87436+0.00305795\n",
      "[1150]\ttrain-auc:0.905026+0.00193775\ttest-auc:0.874411+0.00304914\n",
      "[1160]\ttrain-auc:0.905236+0.00194769\ttest-auc:0.874473+0.00306874\n",
      "[1170]\ttrain-auc:0.905445+0.00196346\ttest-auc:0.874517+0.00309438\n",
      "[1180]\ttrain-auc:0.905673+0.00197617\ttest-auc:0.874567+0.00308673\n",
      "[1190]\ttrain-auc:0.905905+0.00193842\ttest-auc:0.874614+0.0031029\n",
      "[1200]\ttrain-auc:0.906116+0.00193939\ttest-auc:0.874677+0.00311836\n",
      "[1210]\ttrain-auc:0.906319+0.00195248\ttest-auc:0.874738+0.00311464\n",
      "[1220]\ttrain-auc:0.906526+0.00195069\ttest-auc:0.87477+0.00314585\n",
      "[1230]\ttrain-auc:0.906735+0.00195423\ttest-auc:0.874848+0.00314532\n",
      "[1240]\ttrain-auc:0.906924+0.00194172\ttest-auc:0.874919+0.00316424\n",
      "[1250]\ttrain-auc:0.907155+0.00194837\ttest-auc:0.874973+0.00315789\n",
      "[1260]\ttrain-auc:0.907369+0.00195705\ttest-auc:0.875024+0.0031553\n",
      "[1270]\ttrain-auc:0.907579+0.00194462\ttest-auc:0.875067+0.00318861\n",
      "[1280]\ttrain-auc:0.907793+0.00194532\ttest-auc:0.875103+0.00317855\n",
      "[1290]\ttrain-auc:0.908005+0.00194798\ttest-auc:0.875162+0.00321119\n",
      "[1300]\ttrain-auc:0.908222+0.00193517\ttest-auc:0.875199+0.00321481\n",
      "[1310]\ttrain-auc:0.908436+0.00190197\ttest-auc:0.875249+0.00321049\n",
      "[1320]\ttrain-auc:0.908642+0.0018938\ttest-auc:0.875315+0.00320029\n",
      "[1330]\ttrain-auc:0.908846+0.00190313\ttest-auc:0.875356+0.0031955\n",
      "[1340]\ttrain-auc:0.909043+0.00186529\ttest-auc:0.875406+0.00321231\n",
      "[1350]\ttrain-auc:0.909238+0.00187156\ttest-auc:0.875462+0.0032479\n",
      "[1360]\ttrain-auc:0.909435+0.00188566\ttest-auc:0.875512+0.00322674\n",
      "[1370]\ttrain-auc:0.909631+0.00188788\ttest-auc:0.875561+0.00322819\n",
      "[1380]\ttrain-auc:0.9098+0.00190436\ttest-auc:0.875599+0.00321359\n",
      "[1390]\ttrain-auc:0.910008+0.00190923\ttest-auc:0.875665+0.00321976\n",
      "[1400]\ttrain-auc:0.91023+0.00191564\ttest-auc:0.8757+0.00321837\n",
      "[1410]\ttrain-auc:0.910449+0.00192008\ttest-auc:0.875756+0.00323408\n",
      "[1420]\ttrain-auc:0.910621+0.00190857\ttest-auc:0.875777+0.00324439\n",
      "[1430]\ttrain-auc:0.910822+0.00190818\ttest-auc:0.875821+0.00324424\n",
      "[1440]\ttrain-auc:0.911013+0.00189338\ttest-auc:0.875865+0.00324373\n",
      "[1450]\ttrain-auc:0.911204+0.00188369\ttest-auc:0.875905+0.00324557\n",
      "[1460]\ttrain-auc:0.911379+0.00186957\ttest-auc:0.87595+0.0032721\n",
      "[1470]\ttrain-auc:0.91158+0.00188294\ttest-auc:0.875999+0.00330368\n",
      "[1480]\ttrain-auc:0.911749+0.00193002\ttest-auc:0.876053+0.00330815\n",
      "[1490]\ttrain-auc:0.911941+0.00192484\ttest-auc:0.876085+0.00335799\n",
      "[1500]\ttrain-auc:0.912117+0.00191891\ttest-auc:0.876133+0.00333777\n",
      "[1510]\ttrain-auc:0.912303+0.00193028\ttest-auc:0.87617+0.00335819\n",
      "[1520]\ttrain-auc:0.912478+0.00194779\ttest-auc:0.876189+0.00336383\n",
      "[1530]\ttrain-auc:0.91268+0.00190792\ttest-auc:0.876225+0.00336554\n",
      "[1540]\ttrain-auc:0.912868+0.00188628\ttest-auc:0.87625+0.00337584\n",
      "[1550]\ttrain-auc:0.91304+0.00190421\ttest-auc:0.876275+0.00340268\n",
      "[1560]\ttrain-auc:0.913249+0.00191734\ttest-auc:0.876318+0.00342932\n",
      "[1570]\ttrain-auc:0.913432+0.00191106\ttest-auc:0.876358+0.00345323\n",
      "[1580]\ttrain-auc:0.913607+0.0019068\ttest-auc:0.876375+0.0034668\n",
      "[1590]\ttrain-auc:0.913773+0.00191349\ttest-auc:0.876415+0.00348094\n",
      "[1600]\ttrain-auc:0.913921+0.00190625\ttest-auc:0.876434+0.00346659\n",
      "[1610]\ttrain-auc:0.91408+0.00190524\ttest-auc:0.876481+0.0034608\n",
      "[1620]\ttrain-auc:0.914243+0.00189882\ttest-auc:0.876509+0.00345359\n",
      "[1630]\ttrain-auc:0.91439+0.00188468\ttest-auc:0.876528+0.00347357\n",
      "[1640]\ttrain-auc:0.91456+0.00191209\ttest-auc:0.876521+0.00347664\n",
      "[1650]\ttrain-auc:0.914739+0.0019243\ttest-auc:0.876554+0.00349207\n",
      "[1660]\ttrain-auc:0.914873+0.00193966\ttest-auc:0.876593+0.00351118\n",
      "[1670]\ttrain-auc:0.915059+0.00192554\ttest-auc:0.876645+0.00351316\n",
      "[1680]\ttrain-auc:0.915214+0.00190801\ttest-auc:0.87666+0.00349575\n",
      "[1690]\ttrain-auc:0.91538+0.00188699\ttest-auc:0.876701+0.00350387\n",
      "[1700]\ttrain-auc:0.915536+0.0018854\ttest-auc:0.876721+0.0035033\n",
      "[1710]\ttrain-auc:0.91573+0.00189396\ttest-auc:0.876759+0.00351992\n",
      "[1720]\ttrain-auc:0.915926+0.00191619\ttest-auc:0.876779+0.00352527\n",
      "[1730]\ttrain-auc:0.916128+0.00191547\ttest-auc:0.876817+0.00354539\n",
      "[1740]\ttrain-auc:0.916286+0.00190612\ttest-auc:0.876842+0.003544\n",
      "[1750]\ttrain-auc:0.916442+0.00190878\ttest-auc:0.876852+0.00356805\n",
      "[1760]\ttrain-auc:0.916604+0.00191452\ttest-auc:0.876881+0.0035629\n",
      "[1770]\ttrain-auc:0.916764+0.00192028\ttest-auc:0.876891+0.00358603\n",
      "[1780]\ttrain-auc:0.916932+0.00190017\ttest-auc:0.876901+0.00361298\n",
      "[1790]\ttrain-auc:0.917077+0.00189956\ttest-auc:0.876921+0.00359661\n",
      "[1800]\ttrain-auc:0.917232+0.00190757\ttest-auc:0.876926+0.00361091\n",
      "[1810]\ttrain-auc:0.917389+0.00189528\ttest-auc:0.876964+0.00361807\n",
      "[1820]\ttrain-auc:0.917552+0.0018806\ttest-auc:0.876992+0.00365303\n",
      "[1830]\ttrain-auc:0.917687+0.00188612\ttest-auc:0.877045+0.00366724\n",
      "[1840]\ttrain-auc:0.917839+0.00188872\ttest-auc:0.877073+0.00365033\n",
      "[1850]\ttrain-auc:0.91798+0.00189356\ttest-auc:0.877099+0.0036892\n",
      "[1860]\ttrain-auc:0.918137+0.00189901\ttest-auc:0.877099+0.00367047\n",
      "[1870]\ttrain-auc:0.918305+0.00188601\ttest-auc:0.877121+0.00366877\n",
      "[1880]\ttrain-auc:0.918473+0.00189679\ttest-auc:0.877157+0.00365443\n",
      "[1890]\ttrain-auc:0.918633+0.00191553\ttest-auc:0.877161+0.00369164\n",
      "[1900]\ttrain-auc:0.9188+0.00189866\ttest-auc:0.877217+0.00369782\n",
      "[1910]\ttrain-auc:0.918974+0.00191448\ttest-auc:0.877223+0.00371847\n",
      "[1920]\ttrain-auc:0.919127+0.0019314\ttest-auc:0.877242+0.00372493\n",
      "[1930]\ttrain-auc:0.919264+0.00193221\ttest-auc:0.877271+0.00372777\n",
      "[1940]\ttrain-auc:0.919412+0.00194363\ttest-auc:0.877303+0.00375202\n",
      "[1950]\ttrain-auc:0.919553+0.00192458\ttest-auc:0.877349+0.00376273\n",
      "[1960]\ttrain-auc:0.919721+0.00191253\ttest-auc:0.877343+0.00376612\n",
      "[1970]\ttrain-auc:0.919861+0.00190198\ttest-auc:0.877374+0.00379152\n",
      "[1980]\ttrain-auc:0.919984+0.00191313\ttest-auc:0.877374+0.00378\n",
      "[1990]\ttrain-auc:0.920129+0.00188159\ttest-auc:0.877396+0.00380204\n",
      "[2000]\ttrain-auc:0.920271+0.00189862\ttest-auc:0.877419+0.00379587\n",
      "[2010]\ttrain-auc:0.920398+0.00189085\ttest-auc:0.877436+0.00379131\n",
      "[2020]\ttrain-auc:0.920533+0.00187246\ttest-auc:0.877432+0.00381037\n",
      "[2030]\ttrain-auc:0.920673+0.00186536\ttest-auc:0.877437+0.00380311\n",
      "[2040]\ttrain-auc:0.920817+0.00187065\ttest-auc:0.877449+0.00380754\n",
      "[2050]\ttrain-auc:0.920954+0.00187616\ttest-auc:0.87746+0.00382666\n",
      "[2060]\ttrain-auc:0.9211+0.00188684\ttest-auc:0.877455+0.00383865\n",
      "[2070]\ttrain-auc:0.92123+0.00189797\ttest-auc:0.87745+0.00384713\n",
      "[2080]\ttrain-auc:0.921384+0.0018902\ttest-auc:0.877455+0.00383863\n",
      "[2090]\ttrain-auc:0.921515+0.00190841\ttest-auc:0.877451+0.00385382\n",
      "[2100]\ttrain-auc:0.921669+0.00192758\ttest-auc:0.877466+0.00385939\n",
      "[2110]\ttrain-auc:0.921822+0.00192616\ttest-auc:0.87747+0.00388398\n",
      "[2120]\ttrain-auc:0.92196+0.0019245\ttest-auc:0.877499+0.00389034\n",
      "[2130]\ttrain-auc:0.922103+0.0019062\ttest-auc:0.877522+0.00389183\n",
      "[2140]\ttrain-auc:0.922228+0.00191514\ttest-auc:0.877508+0.00389677\n",
      "[2150]\ttrain-auc:0.922366+0.00190382\ttest-auc:0.877525+0.00389272\n",
      "[2160]\ttrain-auc:0.922512+0.00191575\ttest-auc:0.877521+0.00388822\n",
      "[2170]\ttrain-auc:0.922655+0.00192045\ttest-auc:0.877535+0.00388863\n",
      "[2180]\ttrain-auc:0.922785+0.00190925\ttest-auc:0.87755+0.00388885\n",
      "[2190]\ttrain-auc:0.922905+0.00190414\ttest-auc:0.877554+0.00389832\n",
      "[2200]\ttrain-auc:0.92303+0.00191086\ttest-auc:0.877545+0.00388518\n",
      "[2210]\ttrain-auc:0.923177+0.0019434\ttest-auc:0.87755+0.003899\n",
      "[2220]\ttrain-auc:0.923322+0.00194163\ttest-auc:0.877557+0.00390866\n",
      "[2230]\ttrain-auc:0.923482+0.00193492\ttest-auc:0.877558+0.00393034\n",
      "[2240]\ttrain-auc:0.923629+0.00194995\ttest-auc:0.877577+0.00393883\n",
      "[2250]\ttrain-auc:0.923757+0.00194858\ttest-auc:0.877576+0.00393553\n",
      "[2260]\ttrain-auc:0.923905+0.00193658\ttest-auc:0.87757+0.00392162\n",
      "[2270]\ttrain-auc:0.924033+0.00194817\ttest-auc:0.877583+0.00391007\n",
      "[2280]\ttrain-auc:0.924143+0.00194442\ttest-auc:0.877589+0.00391832\n",
      "[2290]\ttrain-auc:0.924263+0.00196059\ttest-auc:0.87759+0.00391672\n",
      "[2300]\ttrain-auc:0.924369+0.00194997\ttest-auc:0.877587+0.00391978\n",
      "[2310]\ttrain-auc:0.924522+0.00195961\ttest-auc:0.877588+0.00394095\n",
      "[2320]\ttrain-auc:0.924667+0.00194037\ttest-auc:0.877579+0.00395748\n",
      "[2330]\ttrain-auc:0.924782+0.00194808\ttest-auc:0.877614+0.00395862\n",
      "[2340]\ttrain-auc:0.924923+0.0019705\ttest-auc:0.877605+0.00395462\n",
      "[2350]\ttrain-auc:0.925029+0.00195286\ttest-auc:0.877605+0.00396241\n",
      "[2360]\ttrain-auc:0.925163+0.00193548\ttest-auc:0.877618+0.00395347\n",
      "[2370]\ttrain-auc:0.925292+0.00192116\ttest-auc:0.87762+0.00393771\n",
      "[2380]\ttrain-auc:0.925425+0.00191621\ttest-auc:0.877661+0.00393586\n",
      "[2390]\ttrain-auc:0.925563+0.00190678\ttest-auc:0.87764+0.00393932\n",
      "[2400]\ttrain-auc:0.925701+0.00190024\ttest-auc:0.877656+0.00393042\n",
      "[2410]\ttrain-auc:0.925845+0.00188458\ttest-auc:0.877635+0.00394738\n",
      "[2420]\ttrain-auc:0.92596+0.00186926\ttest-auc:0.877608+0.0039665\n",
      "[2430]\ttrain-auc:0.926116+0.0018761\ttest-auc:0.877624+0.00397698\n",
      "[2440]\ttrain-auc:0.926253+0.00185367\ttest-auc:0.877622+0.00400338\n",
      "[2450]\ttrain-auc:0.926383+0.00185854\ttest-auc:0.87764+0.00398516\n",
      "[2460]\ttrain-auc:0.926512+0.00186374\ttest-auc:0.877633+0.00397748\n",
      "[2470]\ttrain-auc:0.926632+0.00186681\ttest-auc:0.87763+0.00396463\n",
      "[2480]\ttrain-auc:0.926737+0.00186371\ttest-auc:0.877645+0.00399474\n",
      "[2490]\ttrain-auc:0.92687+0.00185845\ttest-auc:0.877635+0.00399404\n",
      "[2500]\ttrain-auc:0.927005+0.00183544\ttest-auc:0.877649+0.00399784\n",
      "[2510]\ttrain-auc:0.927135+0.00184393\ttest-auc:0.877649+0.00397721\n",
      "[2520]\ttrain-auc:0.92728+0.00185888\ttest-auc:0.877661+0.00399832\n",
      "[2530]\ttrain-auc:0.927407+0.00186648\ttest-auc:0.877659+0.00401054\n",
      "[2540]\ttrain-auc:0.927527+0.00185735\ttest-auc:0.877657+0.00400626\n",
      "[2550]\ttrain-auc:0.927631+0.00185587\ttest-auc:0.877682+0.00401943\n",
      "[2560]\ttrain-auc:0.927763+0.00184217\ttest-auc:0.877688+0.00400647\n",
      "[2570]\ttrain-auc:0.927899+0.00182457\ttest-auc:0.877688+0.00400883\n",
      "[2580]\ttrain-auc:0.928033+0.00180767\ttest-auc:0.877696+0.00401849\n",
      "[2590]\ttrain-auc:0.928138+0.00179712\ttest-auc:0.877697+0.00403576\n",
      "[2600]\ttrain-auc:0.928268+0.00182063\ttest-auc:0.877671+0.00404371\n",
      "[2610]\ttrain-auc:0.928404+0.00178977\ttest-auc:0.877704+0.00404159\n",
      "[2620]\ttrain-auc:0.928549+0.00178716\ttest-auc:0.877702+0.00402298\n",
      "[2630]\ttrain-auc:0.92866+0.00178546\ttest-auc:0.877708+0.00402109\n",
      "[2640]\ttrain-auc:0.928788+0.00178142\ttest-auc:0.877704+0.00403947\n",
      "[2650]\ttrain-auc:0.928914+0.00178555\ttest-auc:0.877723+0.00404206\n",
      "[2660]\ttrain-auc:0.929042+0.00179188\ttest-auc:0.877719+0.00404041\n",
      "[2670]\ttrain-auc:0.92916+0.00180267\ttest-auc:0.877718+0.00405526\n",
      "[2680]\ttrain-auc:0.929272+0.00178552\ttest-auc:0.877719+0.00403525\n",
      "[2690]\ttrain-auc:0.929385+0.00179816\ttest-auc:0.877711+0.00404599\n",
      "[2700]\ttrain-auc:0.929518+0.0017887\ttest-auc:0.877709+0.00404866\n",
      "[2710]\ttrain-auc:0.929635+0.00176921\ttest-auc:0.877699+0.0040329\n",
      "[2720]\ttrain-auc:0.929765+0.00178258\ttest-auc:0.87771+0.00402957\n",
      "[2730]\ttrain-auc:0.929883+0.00179342\ttest-auc:0.877713+0.0040225\n",
      "[2740]\ttrain-auc:0.93+0.00177899\ttest-auc:0.87772+0.00401381\n",
      "[2750]\ttrain-auc:0.93012+0.00176609\ttest-auc:0.877735+0.00401049\n",
      "[2760]\ttrain-auc:0.930233+0.00177783\ttest-auc:0.877717+0.00402583\n",
      "[2770]\ttrain-auc:0.930337+0.00177729\ttest-auc:0.877733+0.00405184\n",
      "[2780]\ttrain-auc:0.930447+0.00176297\ttest-auc:0.877718+0.00403563\n",
      "[2790]\ttrain-auc:0.930549+0.00175795\ttest-auc:0.877716+0.00402984\n",
      "[2800]\ttrain-auc:0.930683+0.00174471\ttest-auc:0.877733+0.00403651\n",
      "[2810]\ttrain-auc:0.93082+0.00172828\ttest-auc:0.877724+0.00403769\n",
      "[2820]\ttrain-auc:0.930955+0.00172826\ttest-auc:0.877704+0.0040451\n",
      "[2830]\ttrain-auc:0.931061+0.00172117\ttest-auc:0.877697+0.00403975\n",
      "[2840]\ttrain-auc:0.931181+0.00173494\ttest-auc:0.877684+0.00402618\n",
      "[2850]\ttrain-auc:0.931299+0.00172056\ttest-auc:0.87769+0.00402074\n",
      "[2860]\ttrain-auc:0.931407+0.00172929\ttest-auc:0.877684+0.00401842\n",
      "[2870]\ttrain-auc:0.931523+0.00174219\ttest-auc:0.877689+0.00403655\n",
      "[2880]\ttrain-auc:0.931646+0.00170418\ttest-auc:0.877685+0.0040318\n",
      "[2890]\ttrain-auc:0.931757+0.00167807\ttest-auc:0.877694+0.0040461\n",
      "[2900]\ttrain-auc:0.931868+0.00168965\ttest-auc:0.877678+0.0040258\n",
      "[2910]\ttrain-auc:0.931987+0.00170232\ttest-auc:0.877687+0.00402698\n",
      "[2920]\ttrain-auc:0.93211+0.00169105\ttest-auc:0.87769+0.00402631\n",
      "[2930]\ttrain-auc:0.932242+0.00169266\ttest-auc:0.877692+0.00401293\n",
      "[2940]\ttrain-auc:0.932344+0.00167333\ttest-auc:0.877714+0.0040243\n",
      "[2950]\ttrain-auc:0.932455+0.0017003\ttest-auc:0.877687+0.00402722\n",
      "[2960]\ttrain-auc:0.932566+0.00168032\ttest-auc:0.877677+0.00401639\n",
      "[2970]\ttrain-auc:0.932682+0.00168358\ttest-auc:0.877684+0.00402839\n",
      "[2980]\ttrain-auc:0.932776+0.00168637\ttest-auc:0.877679+0.00401905\n",
      "[2990]\ttrain-auc:0.932895+0.00167333\ttest-auc:0.877692+0.00401762\n",
      "[3000]\ttrain-auc:0.933006+0.00166608\ttest-auc:0.877695+0.00402323\n",
      "[3010]\ttrain-auc:0.933122+0.00167718\ttest-auc:0.877669+0.00403759\n",
      "[3020]\ttrain-auc:0.933242+0.00166803\ttest-auc:0.877677+0.00406657\n",
      "[3030]\ttrain-auc:0.93335+0.00167097\ttest-auc:0.87768+0.00406542\n",
      "[3040]\ttrain-auc:0.93346+0.00164538\ttest-auc:0.877669+0.00407132\n",
      "[3050]\ttrain-auc:0.933569+0.00163312\ttest-auc:0.87769+0.00405151\n",
      "[3060]\ttrain-auc:0.933676+0.00161908\ttest-auc:0.877685+0.00406897\n",
      "[3070]\ttrain-auc:0.93378+0.00164454\ttest-auc:0.877669+0.00409724\n",
      "[3080]\ttrain-auc:0.933885+0.00164786\ttest-auc:0.877663+0.00409606\n",
      "[3090]\ttrain-auc:0.933989+0.00166657\ttest-auc:0.877674+0.00411163\n",
      "[3100]\ttrain-auc:0.93411+0.00166711\ttest-auc:0.877662+0.00410782\n",
      "[3110]\ttrain-auc:0.934211+0.00165406\ttest-auc:0.877639+0.00411895\n",
      "[3120]\ttrain-auc:0.934347+0.00167268\ttest-auc:0.87765+0.00411399\n",
      "[3130]\ttrain-auc:0.934452+0.00167388\ttest-auc:0.877653+0.00408805\n",
      "[3140]\ttrain-auc:0.934575+0.00168861\ttest-auc:0.877651+0.00406705\n",
      "[3150]\ttrain-auc:0.934668+0.00169716\ttest-auc:0.877671+0.00407274\n",
      "[3160]\ttrain-auc:0.934781+0.00168515\ttest-auc:0.877689+0.00407366\n",
      "[3170]\ttrain-auc:0.934895+0.0016786\ttest-auc:0.877688+0.00407815\n",
      "[3180]\ttrain-auc:0.935017+0.00168263\ttest-auc:0.877697+0.0040923\n",
      "[3190]\ttrain-auc:0.93513+0.00167354\ttest-auc:0.877701+0.00408038\n",
      "[3200]\ttrain-auc:0.935227+0.00169046\ttest-auc:0.877685+0.0040711\n",
      "[3210]\ttrain-auc:0.935326+0.00166552\ttest-auc:0.877674+0.0040595\n",
      "[3220]\ttrain-auc:0.935411+0.00164905\ttest-auc:0.877653+0.00406634\n",
      "[3230]\ttrain-auc:0.935529+0.00166893\ttest-auc:0.877651+0.00405151\n",
      "[3240]\ttrain-auc:0.935642+0.0016756\ttest-auc:0.877646+0.00405715\n",
      "[3250]\ttrain-auc:0.93575+0.00167955\ttest-auc:0.877663+0.00406399\n",
      "[3260]\ttrain-auc:0.935842+0.00167649\ttest-auc:0.877642+0.00406948\n",
      "[3270]\ttrain-auc:0.935954+0.00167104\ttest-auc:0.877649+0.00408042\n",
      "[3280]\ttrain-auc:0.936066+0.00167166\ttest-auc:0.877658+0.00408168\n",
      "[3290]\ttrain-auc:0.936178+0.00167493\ttest-auc:0.877679+0.00408751\n",
      "[3300]\ttrain-auc:0.936313+0.00166306\ttest-auc:0.877679+0.00410136\n",
      "[3310]\ttrain-auc:0.936405+0.00165783\ttest-auc:0.877691+0.00410945\n",
      "[3320]\ttrain-auc:0.936515+0.00166138\ttest-auc:0.877674+0.0041142\n",
      "[3330]\ttrain-auc:0.936633+0.00166422\ttest-auc:0.877664+0.00410832\n",
      "[3340]\ttrain-auc:0.936754+0.00166242\ttest-auc:0.877675+0.00411892\n",
      "[3350]\ttrain-auc:0.936845+0.00164971\ttest-auc:0.877647+0.00411367\n",
      "[3360]\ttrain-auc:0.936955+0.00161684\ttest-auc:0.877658+0.00411546\n",
      "[3370]\ttrain-auc:0.93707+0.00160287\ttest-auc:0.877664+0.00413072\n",
      "[3380]\ttrain-auc:0.937176+0.0015961\ttest-auc:0.877687+0.00415178\n",
      "[3390]\ttrain-auc:0.937295+0.00160838\ttest-auc:0.877673+0.00414263\n",
      "[3400]\ttrain-auc:0.937399+0.00160558\ttest-auc:0.87767+0.0041351\n",
      "[3410]\ttrain-auc:0.937498+0.00160104\ttest-auc:0.877672+0.00412848\n",
      "[3420]\ttrain-auc:0.937577+0.00162218\ttest-auc:0.877652+0.00412424\n",
      "[3430]\ttrain-auc:0.937674+0.00162188\ttest-auc:0.87763+0.004129\n",
      "[3440]\ttrain-auc:0.93777+0.00163446\ttest-auc:0.877623+0.00412458\n",
      "[3450]\ttrain-auc:0.937889+0.00164355\ttest-auc:0.87761+0.00413779\n",
      "[3460]\ttrain-auc:0.937984+0.00165818\ttest-auc:0.877603+0.00412376\n",
      "[3470]\ttrain-auc:0.938087+0.00166254\ttest-auc:0.877599+0.00412779\n",
      "[3480]\ttrain-auc:0.938176+0.00165897\ttest-auc:0.877596+0.00413227\n",
      "[3490]\ttrain-auc:0.938297+0.00166144\ttest-auc:0.877594+0.00412939\n",
      "[3500]\ttrain-auc:0.938408+0.00164833\ttest-auc:0.877596+0.00413745\n",
      "[3510]\ttrain-auc:0.938522+0.00166089\ttest-auc:0.87759+0.00413444\n",
      "[3520]\ttrain-auc:0.938612+0.00166282\ttest-auc:0.877587+0.00412841\n",
      "[3530]\ttrain-auc:0.938727+0.00165293\ttest-auc:0.877582+0.00412243\n",
      "[3540]\ttrain-auc:0.938816+0.00166574\ttest-auc:0.877581+0.00412494\n",
      "[3550]\ttrain-auc:0.938917+0.0016615\ttest-auc:0.877563+0.00414002\n",
      "[3560]\ttrain-auc:0.939023+0.00168358\ttest-auc:0.87756+0.00413948\n",
      "[3570]\ttrain-auc:0.939111+0.00168895\ttest-auc:0.877548+0.00414059\n",
      "[3580]\ttrain-auc:0.939196+0.00169013\ttest-auc:0.877529+0.00415341\n",
      "[3590]\ttrain-auc:0.939315+0.00168594\ttest-auc:0.877531+0.00415805\n",
      "[3600]\ttrain-auc:0.939421+0.00167529\ttest-auc:0.877523+0.00415272\n",
      "[3610]\ttrain-auc:0.939504+0.00167623\ttest-auc:0.877501+0.0041404\n",
      "[3620]\ttrain-auc:0.939593+0.00167242\ttest-auc:0.877496+0.00414541\n",
      "[3630]\ttrain-auc:0.939689+0.001663\ttest-auc:0.877484+0.00414485\n",
      "[3640]\ttrain-auc:0.939784+0.00165076\ttest-auc:0.877473+0.00414239\n",
      "[3650]\ttrain-auc:0.939871+0.00165503\ttest-auc:0.877487+0.00413915\n",
      "[3660]\ttrain-auc:0.93996+0.00167533\ttest-auc:0.877478+0.00413971\n",
      "[3670]\ttrain-auc:0.940075+0.00166434\ttest-auc:0.877489+0.00414256\n",
      "[3680]\ttrain-auc:0.940162+0.00164981\ttest-auc:0.877485+0.00414959\n",
      "[3690]\ttrain-auc:0.940257+0.00165368\ttest-auc:0.877498+0.00415791\n",
      "[3700]\ttrain-auc:0.940356+0.00164133\ttest-auc:0.877485+0.00416365\n"
     ]
    },
    {
     "ename": "KeyboardInterrupt",
     "evalue": "",
     "output_type": "error",
     "traceback": [
      "\u001b[0;31m---------------------------------------------------------------------------\u001b[0m",
      "\u001b[0;31mKeyboardInterrupt\u001b[0m                         Traceback (most recent call last)",
      "\u001b[0;32m<ipython-input-145-51e670512c77>\u001b[0m in \u001b[0;36m<module>\u001b[0;34m()\u001b[0m\n\u001b[0;32m----> 1\u001b[0;31m \u001b[0mget_ipython\u001b[0m\u001b[0;34m(\u001b[0m\u001b[0;34m)\u001b[0m\u001b[0;34m.\u001b[0m\u001b[0mrun_cell_magic\u001b[0m\u001b[0;34m(\u001b[0m\u001b[0;34mu'time'\u001b[0m\u001b[0;34m,\u001b[0m \u001b[0;34mu''\u001b[0m\u001b[0;34m,\u001b[0m \u001b[0;34mu'xgb.cv(param, X_all_datatrain, num_boost_round=5000, nfold=3, metrics=\"auc\", \\\\\\n       verbose_eval=10, as_pandas=False, seed=27)'\u001b[0m\u001b[0;34m)\u001b[0m\u001b[0;34m\u001b[0m\u001b[0m\n\u001b[0m",
      "\u001b[0;32m/Users/d.parpulov/anaconda/lib/python2.7/site-packages/IPython/core/interactiveshell.pyc\u001b[0m in \u001b[0;36mrun_cell_magic\u001b[0;34m(self, magic_name, line, cell)\u001b[0m\n\u001b[1;32m   2118\u001b[0m             \u001b[0mmagic_arg_s\u001b[0m \u001b[0;34m=\u001b[0m \u001b[0mself\u001b[0m\u001b[0;34m.\u001b[0m\u001b[0mvar_expand\u001b[0m\u001b[0;34m(\u001b[0m\u001b[0mline\u001b[0m\u001b[0;34m,\u001b[0m \u001b[0mstack_depth\u001b[0m\u001b[0;34m)\u001b[0m\u001b[0;34m\u001b[0m\u001b[0m\n\u001b[1;32m   2119\u001b[0m             \u001b[0;32mwith\u001b[0m \u001b[0mself\u001b[0m\u001b[0;34m.\u001b[0m\u001b[0mbuiltin_trap\u001b[0m\u001b[0;34m:\u001b[0m\u001b[0;34m\u001b[0m\u001b[0m\n\u001b[0;32m-> 2120\u001b[0;31m                 \u001b[0mresult\u001b[0m \u001b[0;34m=\u001b[0m \u001b[0mfn\u001b[0m\u001b[0;34m(\u001b[0m\u001b[0mmagic_arg_s\u001b[0m\u001b[0;34m,\u001b[0m \u001b[0mcell\u001b[0m\u001b[0;34m)\u001b[0m\u001b[0;34m\u001b[0m\u001b[0m\n\u001b[0m\u001b[1;32m   2121\u001b[0m             \u001b[0;32mreturn\u001b[0m \u001b[0mresult\u001b[0m\u001b[0;34m\u001b[0m\u001b[0m\n\u001b[1;32m   2122\u001b[0m \u001b[0;34m\u001b[0m\u001b[0m\n",
      "\u001b[0;32m<decorator-gen-60>\u001b[0m in \u001b[0;36mtime\u001b[0;34m(self, line, cell, local_ns)\u001b[0m\n",
      "\u001b[0;32m/Users/d.parpulov/anaconda/lib/python2.7/site-packages/IPython/core/magic.pyc\u001b[0m in \u001b[0;36m<lambda>\u001b[0;34m(f, *a, **k)\u001b[0m\n\u001b[1;32m    191\u001b[0m     \u001b[0;31m# but it's overkill for just that one bit of state.\u001b[0m\u001b[0;34m\u001b[0m\u001b[0;34m\u001b[0m\u001b[0m\n\u001b[1;32m    192\u001b[0m     \u001b[0;32mdef\u001b[0m \u001b[0mmagic_deco\u001b[0m\u001b[0;34m(\u001b[0m\u001b[0marg\u001b[0m\u001b[0;34m)\u001b[0m\u001b[0;34m:\u001b[0m\u001b[0;34m\u001b[0m\u001b[0m\n\u001b[0;32m--> 193\u001b[0;31m         \u001b[0mcall\u001b[0m \u001b[0;34m=\u001b[0m \u001b[0;32mlambda\u001b[0m \u001b[0mf\u001b[0m\u001b[0;34m,\u001b[0m \u001b[0;34m*\u001b[0m\u001b[0ma\u001b[0m\u001b[0;34m,\u001b[0m \u001b[0;34m**\u001b[0m\u001b[0mk\u001b[0m\u001b[0;34m:\u001b[0m \u001b[0mf\u001b[0m\u001b[0;34m(\u001b[0m\u001b[0;34m*\u001b[0m\u001b[0ma\u001b[0m\u001b[0;34m,\u001b[0m \u001b[0;34m**\u001b[0m\u001b[0mk\u001b[0m\u001b[0;34m)\u001b[0m\u001b[0;34m\u001b[0m\u001b[0m\n\u001b[0m\u001b[1;32m    194\u001b[0m \u001b[0;34m\u001b[0m\u001b[0m\n\u001b[1;32m    195\u001b[0m         \u001b[0;32mif\u001b[0m \u001b[0mcallable\u001b[0m\u001b[0;34m(\u001b[0m\u001b[0marg\u001b[0m\u001b[0;34m)\u001b[0m\u001b[0;34m:\u001b[0m\u001b[0;34m\u001b[0m\u001b[0m\n",
      "\u001b[0;32m/Users/d.parpulov/anaconda/lib/python2.7/site-packages/IPython/core/magics/execution.pyc\u001b[0m in \u001b[0;36mtime\u001b[0;34m(self, line, cell, local_ns)\u001b[0m\n\u001b[1;32m   1171\u001b[0m         \u001b[0;32mif\u001b[0m \u001b[0mmode\u001b[0m\u001b[0;34m==\u001b[0m\u001b[0;34m'eval'\u001b[0m\u001b[0;34m:\u001b[0m\u001b[0;34m\u001b[0m\u001b[0m\n\u001b[1;32m   1172\u001b[0m             \u001b[0mst\u001b[0m \u001b[0;34m=\u001b[0m \u001b[0mclock2\u001b[0m\u001b[0;34m(\u001b[0m\u001b[0;34m)\u001b[0m\u001b[0;34m\u001b[0m\u001b[0m\n\u001b[0;32m-> 1173\u001b[0;31m             \u001b[0mout\u001b[0m \u001b[0;34m=\u001b[0m \u001b[0meval\u001b[0m\u001b[0;34m(\u001b[0m\u001b[0mcode\u001b[0m\u001b[0;34m,\u001b[0m \u001b[0mglob\u001b[0m\u001b[0;34m,\u001b[0m \u001b[0mlocal_ns\u001b[0m\u001b[0;34m)\u001b[0m\u001b[0;34m\u001b[0m\u001b[0m\n\u001b[0m\u001b[1;32m   1174\u001b[0m             \u001b[0mend\u001b[0m \u001b[0;34m=\u001b[0m \u001b[0mclock2\u001b[0m\u001b[0;34m(\u001b[0m\u001b[0;34m)\u001b[0m\u001b[0;34m\u001b[0m\u001b[0m\n\u001b[1;32m   1175\u001b[0m         \u001b[0;32melse\u001b[0m\u001b[0;34m:\u001b[0m\u001b[0;34m\u001b[0m\u001b[0m\n",
      "\u001b[0;32m<timed eval>\u001b[0m in \u001b[0;36m<module>\u001b[0;34m()\u001b[0m\n",
      "\u001b[0;32m/Users/d.parpulov/anaconda/lib/python2.7/site-packages/xgboost-0.6-py2.7.egg/xgboost/training.pyc\u001b[0m in \u001b[0;36mcv\u001b[0;34m(params, dtrain, num_boost_round, nfold, stratified, folds, metrics, obj, feval, maximize, early_stopping_rounds, fpreproc, as_pandas, verbose_eval, show_stdv, seed, callbacks)\u001b[0m\n\u001b[1;32m    394\u001b[0m                            evaluation_result_list=None))\n\u001b[1;32m    395\u001b[0m         \u001b[0;32mfor\u001b[0m \u001b[0mfold\u001b[0m \u001b[0;32min\u001b[0m \u001b[0mcvfolds\u001b[0m\u001b[0;34m:\u001b[0m\u001b[0;34m\u001b[0m\u001b[0m\n\u001b[0;32m--> 396\u001b[0;31m             \u001b[0mfold\u001b[0m\u001b[0;34m.\u001b[0m\u001b[0mupdate\u001b[0m\u001b[0;34m(\u001b[0m\u001b[0mi\u001b[0m\u001b[0;34m,\u001b[0m \u001b[0mobj\u001b[0m\u001b[0;34m)\u001b[0m\u001b[0;34m\u001b[0m\u001b[0m\n\u001b[0m\u001b[1;32m    397\u001b[0m         \u001b[0mres\u001b[0m \u001b[0;34m=\u001b[0m \u001b[0maggcv\u001b[0m\u001b[0;34m(\u001b[0m\u001b[0;34m[\u001b[0m\u001b[0mf\u001b[0m\u001b[0;34m.\u001b[0m\u001b[0meval\u001b[0m\u001b[0;34m(\u001b[0m\u001b[0mi\u001b[0m\u001b[0;34m,\u001b[0m \u001b[0mfeval\u001b[0m\u001b[0;34m)\u001b[0m \u001b[0;32mfor\u001b[0m \u001b[0mf\u001b[0m \u001b[0;32min\u001b[0m \u001b[0mcvfolds\u001b[0m\u001b[0;34m]\u001b[0m\u001b[0;34m)\u001b[0m\u001b[0;34m\u001b[0m\u001b[0m\n\u001b[1;32m    398\u001b[0m \u001b[0;34m\u001b[0m\u001b[0m\n",
      "\u001b[0;32m/Users/d.parpulov/anaconda/lib/python2.7/site-packages/xgboost-0.6-py2.7.egg/xgboost/training.pyc\u001b[0m in \u001b[0;36mupdate\u001b[0;34m(self, iteration, fobj)\u001b[0m\n\u001b[1;32m    215\u001b[0m     \u001b[0;32mdef\u001b[0m \u001b[0mupdate\u001b[0m\u001b[0;34m(\u001b[0m\u001b[0mself\u001b[0m\u001b[0;34m,\u001b[0m \u001b[0miteration\u001b[0m\u001b[0;34m,\u001b[0m \u001b[0mfobj\u001b[0m\u001b[0;34m)\u001b[0m\u001b[0;34m:\u001b[0m\u001b[0;34m\u001b[0m\u001b[0m\n\u001b[1;32m    216\u001b[0m         \u001b[0;34m\"\"\"\"Update the boosters for one iteration\"\"\"\u001b[0m\u001b[0;34m\u001b[0m\u001b[0m\n\u001b[0;32m--> 217\u001b[0;31m         \u001b[0mself\u001b[0m\u001b[0;34m.\u001b[0m\u001b[0mbst\u001b[0m\u001b[0;34m.\u001b[0m\u001b[0mupdate\u001b[0m\u001b[0;34m(\u001b[0m\u001b[0mself\u001b[0m\u001b[0;34m.\u001b[0m\u001b[0mdtrain\u001b[0m\u001b[0;34m,\u001b[0m \u001b[0miteration\u001b[0m\u001b[0;34m,\u001b[0m \u001b[0mfobj\u001b[0m\u001b[0;34m)\u001b[0m\u001b[0;34m\u001b[0m\u001b[0m\n\u001b[0m\u001b[1;32m    218\u001b[0m \u001b[0;34m\u001b[0m\u001b[0m\n\u001b[1;32m    219\u001b[0m     \u001b[0;32mdef\u001b[0m \u001b[0meval\u001b[0m\u001b[0;34m(\u001b[0m\u001b[0mself\u001b[0m\u001b[0;34m,\u001b[0m \u001b[0miteration\u001b[0m\u001b[0;34m,\u001b[0m \u001b[0mfeval\u001b[0m\u001b[0;34m)\u001b[0m\u001b[0;34m:\u001b[0m\u001b[0;34m\u001b[0m\u001b[0m\n",
      "\u001b[0;32m/Users/d.parpulov/anaconda/lib/python2.7/site-packages/xgboost-0.6-py2.7.egg/xgboost/core.pyc\u001b[0m in \u001b[0;36mupdate\u001b[0;34m(self, dtrain, iteration, fobj)\u001b[0m\n\u001b[1;32m    806\u001b[0m \u001b[0;34m\u001b[0m\u001b[0m\n\u001b[1;32m    807\u001b[0m         \u001b[0;32mif\u001b[0m \u001b[0mfobj\u001b[0m \u001b[0;32mis\u001b[0m \u001b[0mNone\u001b[0m\u001b[0;34m:\u001b[0m\u001b[0;34m\u001b[0m\u001b[0m\n\u001b[0;32m--> 808\u001b[0;31m             \u001b[0m_check_call\u001b[0m\u001b[0;34m(\u001b[0m\u001b[0m_LIB\u001b[0m\u001b[0;34m.\u001b[0m\u001b[0mXGBoosterUpdateOneIter\u001b[0m\u001b[0;34m(\u001b[0m\u001b[0mself\u001b[0m\u001b[0;34m.\u001b[0m\u001b[0mhandle\u001b[0m\u001b[0;34m,\u001b[0m \u001b[0miteration\u001b[0m\u001b[0;34m,\u001b[0m \u001b[0mdtrain\u001b[0m\u001b[0;34m.\u001b[0m\u001b[0mhandle\u001b[0m\u001b[0;34m)\u001b[0m\u001b[0;34m)\u001b[0m\u001b[0;34m\u001b[0m\u001b[0m\n\u001b[0m\u001b[1;32m    809\u001b[0m         \u001b[0;32melse\u001b[0m\u001b[0;34m:\u001b[0m\u001b[0;34m\u001b[0m\u001b[0m\n\u001b[1;32m    810\u001b[0m             \u001b[0mpred\u001b[0m \u001b[0;34m=\u001b[0m \u001b[0mself\u001b[0m\u001b[0;34m.\u001b[0m\u001b[0mpredict\u001b[0m\u001b[0;34m(\u001b[0m\u001b[0mdtrain\u001b[0m\u001b[0;34m)\u001b[0m\u001b[0;34m\u001b[0m\u001b[0m\n",
      "\u001b[0;31mKeyboardInterrupt\u001b[0m: "
     ]
    }
   ],
   "source": [
    "%%time\n",
    "xgb.cv(param, X_all_datatrain, num_boost_round=5000, nfold=3, metrics=\"auc\", \\\n",
    "       verbose_eval=10, as_pandas=False, seed=27)"
   ]
  },
  {
   "cell_type": "markdown",
   "metadata": {},
   "source": [
    "Explore parameters"
   ]
  },
  {
   "cell_type": "code",
   "execution_count": 133,
   "metadata": {
    "collapsed": true
   },
   "outputs": [
    {
     "name": "stdout",
     "output_type": "stream",
     "text": [
      "Fitting 3 folds for each of 10 candidates, totalling 30 fits\n",
      "Pickling array (shape=(271,), dtype=object).\n",
      "Pickling array (shape=(12000,), dtype=int64).\n",
      "Memmaping (shape=(271, 12000), dtype=float64) to new file /var/folders/cb/klp2b1n941s2d21364cg5kw40000gp/T/joblib_memmaping_pool_99459_4691881872/99459-4689144976-72676d8ab38e021e668f16da0008f696.pkl\n",
      "[CV] gamma=0.1 .......................................................\n",
      "Pickling array (shape=(271,), dtype=object).\n",
      "Pickling array (shape=(12000,), dtype=float64).\n",
      "Pickling array (shape=(12000,), dtype=int64).\n",
      "Pickling array (shape=(7999,), dtype=int64).\n",
      "Pickling array (shape=(4001,), dtype=int64).\n",
      "Pickling array (shape=(271,), dtype=object).\n",
      "Pickling array (shape=(12000,), dtype=int64).\n",
      "Memmaping (shape=(271, 12000), dtype=float64) to old file /var/folders/cb/klp2b1n941s2d21364cg5kw40000gp/T/joblib_memmaping_pool_99459_4691881872/99459-4689144976-72676d8ab38e021e668f16da0008f696.pkl\n",
      "Pickling array (shape=(271,), dtype=object).\n",
      "Pickling array (shape=(12000,), dtype=float64).\n",
      "Pickling array (shape=(12000,), dtype=int64).\n",
      "Pickling array (shape=(8000,), dtype=int64).\n",
      "Pickling array (shape=(4000,), dtype=int64).\n",
      "Pickling array (shape=(271,), dtype=object).\n",
      "Pickling array (shape=(12000,), dtype=int64).\n",
      "Memmaping (shape=(271, 12000), dtype=float64) to old file /var/folders/cb/klp2b1n941s2d21364cg5kw40000gp/T/joblib_memmaping_pool_99459_4691881872/99459-4689144976-72676d8ab38e021e668f16da0008f696.pkl\n",
      "Pickling array (shape=(271,), dtype=object).\n",
      "Pickling array (shape=(12000,), dtype=float64).\n",
      "Pickling array (shape=(12000,), dtype=int64).\n",
      "Pickling array (shape=(8001,), dtype=int64).\n",
      "Pickling array (shape=(3999,), dtype=int64).\n",
      "[CV] gamma=0.1 .......................................................\n",
      "[CV] gamma=0.1 .......................................................\n",
      "[CV] gamma=0.11 ......................................................\n",
      "Pickling array (shape=(271,), dtype=object).\n",
      "Pickling array (shape=(12000,), dtype=int64).\n",
      "Memmaping (shape=(271, 12000), dtype=float64) to old file /var/folders/cb/klp2b1n941s2d21364cg5kw40000gp/T/joblib_memmaping_pool_99459_4691881872/99459-4689144976-72676d8ab38e021e668f16da0008f696.pkl\n",
      "Pickling array (shape=(271,), dtype=object).\n",
      "Pickling array (shape=(12000,), dtype=float64).\n",
      "Pickling array (shape=(12000,), dtype=int64).\n",
      "Pickling array (shape=(7999,), dtype=int64).\n",
      "Pickling array (shape=(4001,), dtype=int64).\n",
      "Pickling array (shape=(271,), dtype=object).\n",
      "Pickling array (shape=(12000,), dtype=int64).\n",
      "Memmaping (shape=(271, 12000), dtype=float64) to old file /var/folders/cb/klp2b1n941s2d21364cg5kw40000gp/T/joblib_memmaping_pool_99459_4691881872/99459-4689144976-72676d8ab38e021e668f16da0008f696.pkl\n",
      "Pickling array (shape=(271,), dtype=object).\n",
      "Pickling array (shape=(12000,), dtype=float64).\n",
      "Pickling array (shape=(12000,), dtype=int64).\n",
      "Pickling array (shape=(8000,), dtype=int64).\n",
      "Pickling array (shape=(4000,), dtype=int64).\n",
      "[CV] .............................. gamma=0.1, score=0.878727 -  18.5s\n",
      "[CV] gamma=0.11 ......................................................\n",
      "[Parallel(n_jobs=-1)]: Done   1 tasks      | elapsed:   19.1s\n",
      "Pickling array (shape=(271,), dtype=object).\n",
      "Pickling array (shape=(12000,), dtype=int64).\n",
      "Memmaping (shape=(271, 12000), dtype=float64) to old file /var/folders/cb/klp2b1n941s2d21364cg5kw40000gp/T/joblib_memmaping_pool_99459_4691881872/99459-4689144976-72676d8ab38e021e668f16da0008f696.pkl\n",
      "Pickling array (shape=(271,), dtype=object).\n",
      "Pickling array (shape=(12000,), dtype=float64).\n",
      "Pickling array (shape=(12000,), dtype=int64).\n",
      "Pickling array (shape=(8001,), dtype=int64).\n",
      "Pickling array (shape=(3999,), dtype=int64).\n",
      "[CV] .............................. gamma=0.1, score=0.877949 -  18.7s\n",
      "[CV] gamma=0.11 ......................................................\n",
      "[Parallel(n_jobs=-1)]: Done   2 tasks      | elapsed:   19.4s\n",
      "Pickling array (shape=(271,), dtype=object).\n",
      "Pickling array (shape=(12000,), dtype=int64).\n",
      "Memmaping (shape=(271, 12000), dtype=float64) to old file /var/folders/cb/klp2b1n941s2d21364cg5kw40000gp/T/joblib_memmaping_pool_99459_4691881872/99459-4689144976-72676d8ab38e021e668f16da0008f696.pkl\n",
      "Pickling array (shape=(271,), dtype=object).\n",
      "Pickling array (shape=(12000,), dtype=float64).\n",
      "Pickling array (shape=(12000,), dtype=int64).\n",
      "Pickling array (shape=(7999,), dtype=int64).\n",
      "Pickling array (shape=(4001,), dtype=int64).\n",
      "[CV] .............................. gamma=0.1, score=0.876657 -  18.9s\n",
      "[CV] gamma=0.12 ......................................................\n",
      "[CV] ............................. gamma=0.11, score=0.878727 -  19.0s\n",
      "[Parallel(n_jobs=-1)]: Done   3 tasks      | elapsed:   19.7s\n",
      "Pickling array (shape=(271,), dtype=object).\n",
      "Pickling array (shape=(12000,), dtype=int64).\n",
      "Memmaping (shape=(271, 12000), dtype=float64) to old file /var/folders/cb/klp2b1n941s2d21364cg5kw40000gp/T/joblib_memmaping_pool_99459_4691881872/99459-4689144976-72676d8ab38e021e668f16da0008f696.pkl\n",
      "Pickling array (shape=(271,), dtype=object).\n",
      "Pickling array (shape=(12000,), dtype=float64).\n",
      "Pickling array (shape=(12000,), dtype=int64).\n",
      "Pickling array (shape=(8000,), dtype=int64).\n",
      "Pickling array (shape=(4000,), dtype=int64).\n",
      "[Parallel(n_jobs=-1)]: Done   4 tasks      | elapsed:   19.9s\n",
      "Pickling array (shape=(271,), dtype=object).\n",
      "Pickling array (shape=(12000,), dtype=int64).\n",
      "[CV] gamma=0.12 ......................................................\n",
      "Memmaping (shape=(271, 12000), dtype=float64) to old file /var/folders/cb/klp2b1n941s2d21364cg5kw40000gp/T/joblib_memmaping_pool_99459_4691881872/99459-4689144976-72676d8ab38e021e668f16da0008f696.pkl\n",
      "Pickling array (shape=(271,), dtype=object).\n",
      "Pickling array (shape=(12000,), dtype=float64).\n",
      "Pickling array (shape=(12000,), dtype=int64).\n",
      "Pickling array (shape=(8001,), dtype=int64).\n",
      "Pickling array (shape=(3999,), dtype=int64).\n",
      "[CV] ............................. gamma=0.11, score=0.877949 -  25.0s\n",
      "[CV] gamma=0.12 ......................................................\n",
      "[Parallel(n_jobs=-1)]: Done   5 tasks      | elapsed:   44.3s\n",
      "Pickling array (shape=(271,), dtype=object).\n",
      "Pickling array (shape=(12000,), dtype=int64).\n",
      "Memmaping (shape=(271, 12000), dtype=float64) to old file /var/folders/cb/klp2b1n941s2d21364cg5kw40000gp/T/joblib_memmaping_pool_99459_4691881872/99459-4689144976-72676d8ab38e021e668f16da0008f696.pkl\n",
      "Pickling array (shape=(271,), dtype=object).\n",
      "Pickling array (shape=(12000,), dtype=float64).\n",
      "Pickling array (shape=(12000,), dtype=int64).\n",
      "Pickling array (shape=(7999,), dtype=int64).\n",
      "Pickling array (shape=(4001,), dtype=int64).\n",
      "[CV] ............................. gamma=0.11, score=0.876657 -  25.3s\n",
      "[CV] gamma=0.13 ......................................................\n",
      "[Parallel(n_jobs=-1)]: Done   6 tasks      | elapsed:   44.8s\n",
      "Pickling array (shape=(271,), dtype=object).\n",
      "Pickling array (shape=(12000,), dtype=int64).\n",
      "Memmaping (shape=(271, 12000), dtype=float64) to old file /var/folders/cb/klp2b1n941s2d21364cg5kw40000gp/T/joblib_memmaping_pool_99459_4691881872/99459-4689144976-72676d8ab38e021e668f16da0008f696.pkl\n",
      "Pickling array (shape=(271,), dtype=object).\n",
      "Pickling array (shape=(12000,), dtype=float64).\n",
      "Pickling array (shape=(12000,), dtype=int64).\n",
      "Pickling array (shape=(8000,), dtype=int64).\n",
      "Pickling array (shape=(4000,), dtype=int64).\n",
      "[CV] ............................. gamma=0.12, score=0.879067 -  25.3s\n",
      "[CV] gamma=0.13 ......................................................\n",
      "[CV] ............................. gamma=0.12, score=0.877949 -  25.3s\n",
      "[CV] gamma=0.13 ......................................................\n",
      "[Parallel(n_jobs=-1)]: Done   7 tasks      | elapsed:   45.1s\n",
      "Pickling array (shape=(271,), dtype=object).\n",
      "Pickling array (shape=(12000,), dtype=int64).\n",
      "Memmaping (shape=(271, 12000), dtype=float64) to old file /var/folders/cb/klp2b1n941s2d21364cg5kw40000gp/T/joblib_memmaping_pool_99459_4691881872/99459-4689144976-72676d8ab38e021e668f16da0008f696.pkl\n",
      "Pickling array (shape=(271,), dtype=object).\n",
      "Pickling array (shape=(12000,), dtype=float64).\n",
      "Pickling array (shape=(12000,), dtype=int64).\n",
      "Pickling array (shape=(8001,), dtype=int64).\n",
      "Pickling array (shape=(3999,), dtype=int64).\n",
      "[Parallel(n_jobs=-1)]: Done   8 tasks      | elapsed:   45.3s\n",
      "Pickling array (shape=(271,), dtype=object).\n",
      "Pickling array (shape=(12000,), dtype=int64).\n",
      "Memmaping (shape=(271, 12000), dtype=float64) to old file /var/folders/cb/klp2b1n941s2d21364cg5kw40000gp/T/joblib_memmaping_pool_99459_4691881872/99459-4689144976-72676d8ab38e021e668f16da0008f696.pkl\n",
      "Pickling array (shape=(271,), dtype=object).\n",
      "Pickling array (shape=(12000,), dtype=float64).\n",
      "Pickling array (shape=(12000,), dtype=int64).\n",
      "Pickling array (shape=(7999,), dtype=int64).\n",
      "Pickling array (shape=(4001,), dtype=int64).\n",
      "[CV] ............................. gamma=0.12, score=0.876657 -  25.3s\n",
      "[CV] gamma=0.14 ......................................................\n",
      "[Parallel(n_jobs=-1)]: Done   9 tasks      | elapsed:  1.2min\n",
      "Pickling array (shape=(271,), dtype=object).\n",
      "Pickling array (shape=(12000,), dtype=int64).\n",
      "Memmaping (shape=(271, 12000), dtype=float64) to old file /var/folders/cb/klp2b1n941s2d21364cg5kw40000gp/T/joblib_memmaping_pool_99459_4691881872/99459-4689144976-72676d8ab38e021e668f16da0008f696.pkl\n",
      "Pickling array (shape=(271,), dtype=object).\n",
      "Pickling array (shape=(12000,), dtype=float64).\n",
      "Pickling array (shape=(12000,), dtype=int64).\n",
      "Pickling array (shape=(8000,), dtype=int64).\n",
      "Pickling array (shape=(4000,), dtype=int64).\n",
      "[CV] ............................. gamma=0.13, score=0.879067 -  25.1s\n",
      "[CV] gamma=0.14 ......................................................\n",
      "[CV] ............................. gamma=0.13, score=0.877949 -  25.0s\n",
      "[CV] gamma=0.14 ......................................................\n",
      "[Parallel(n_jobs=-1)]: Done  10 tasks      | elapsed:  1.2min\n",
      "Pickling array (shape=(271,), dtype=object).\n",
      "Pickling array (shape=(12000,), dtype=int64).\n",
      "Memmaping (shape=(271, 12000), dtype=float64) to old file /var/folders/cb/klp2b1n941s2d21364cg5kw40000gp/T/joblib_memmaping_pool_99459_4691881872/99459-4689144976-72676d8ab38e021e668f16da0008f696.pkl\n",
      "Pickling array (shape=(271,), dtype=object).\n",
      "Pickling array (shape=(12000,), dtype=float64).\n",
      "Pickling array (shape=(12000,), dtype=int64).\n",
      "Pickling array (shape=(8001,), dtype=int64).\n",
      "Pickling array (shape=(3999,), dtype=int64).\n",
      "[Parallel(n_jobs=-1)]: Done  11 tasks      | elapsed:  1.2min\n",
      "Pickling array (shape=(271,), dtype=object).\n",
      "Pickling array (shape=(12000,), dtype=int64).\n",
      "Memmaping (shape=(271, 12000), dtype=float64) to old file /var/folders/cb/klp2b1n941s2d21364cg5kw40000gp/T/joblib_memmaping_pool_99459_4691881872/99459-4689144976-72676d8ab38e021e668f16da0008f696.pkl\n",
      "Pickling array (shape=(271,), dtype=object).\n",
      "Pickling array (shape=(12000,), dtype=float64).\n",
      "Pickling array (shape=(12000,), dtype=int64).\n",
      "Pickling array (shape=(7999,), dtype=int64).\n",
      "Pickling array (shape=(4001,), dtype=int64).\n",
      "[CV] ............................. gamma=0.13, score=0.876657 -  25.5s\n",
      "[CV] gamma=0.15 ......................................................\n",
      "[Parallel(n_jobs=-1)]: Done  12 tasks      | elapsed:  1.2min\n",
      "Pickling array (shape=(271,), dtype=object).\n",
      "Pickling array (shape=(12000,), dtype=int64).\n",
      "Memmaping (shape=(271, 12000), dtype=float64) to old file /var/folders/cb/klp2b1n941s2d21364cg5kw40000gp/T/joblib_memmaping_pool_99459_4691881872/99459-4689144976-72676d8ab38e021e668f16da0008f696.pkl\n",
      "Pickling array (shape=(271,), dtype=object).\n",
      "Pickling array (shape=(12000,), dtype=float64).\n",
      "Pickling array (shape=(12000,), dtype=int64).\n",
      "Pickling array (shape=(8000,), dtype=int64).\n",
      "Pickling array (shape=(4000,), dtype=int64).\n",
      "[CV] ............................. gamma=0.14, score=0.879067 -  29.1s\n",
      "[CV] gamma=0.15 ......................................................\n",
      "[Parallel(n_jobs=-1)]: Done  13 tasks      | elapsed:  1.6min\n",
      "Pickling array (shape=(271,), dtype=object).\n",
      "Pickling array (shape=(12000,), dtype=int64).\n",
      "Memmaping (shape=(271, 12000), dtype=float64) to old file /var/folders/cb/klp2b1n941s2d21364cg5kw40000gp/T/joblib_memmaping_pool_99459_4691881872/99459-4689144976-72676d8ab38e021e668f16da0008f696.pkl\n",
      "Pickling array (shape=(271,), dtype=object).\n",
      "Pickling array (shape=(12000,), dtype=float64).\n",
      "Pickling array (shape=(12000,), dtype=int64).\n",
      "Pickling array (shape=(8001,), dtype=int64).\n",
      "Pickling array (shape=(3999,), dtype=int64).\n",
      "[CV] ............................. gamma=0.14, score=0.877949 -  29.1s\n",
      "[CV] gamma=0.15 ......................................................\n",
      "[Parallel(n_jobs=-1)]: Done  14 tasks      | elapsed:  1.7min\n",
      "Pickling array (shape=(271,), dtype=object).\n",
      "Pickling array (shape=(12000,), dtype=int64).\n",
      "Memmaping (shape=(271, 12000), dtype=float64) to old file /var/folders/cb/klp2b1n941s2d21364cg5kw40000gp/T/joblib_memmaping_pool_99459_4691881872/99459-4689144976-72676d8ab38e021e668f16da0008f696.pkl\n",
      "Pickling array (shape=(271,), dtype=object).\n",
      "Pickling array (shape=(12000,), dtype=float64).\n",
      "Pickling array (shape=(12000,), dtype=int64).\n",
      "Pickling array (shape=(7999,), dtype=int64).\n",
      "Pickling array (shape=(4001,), dtype=int64).\n",
      "[CV] ............................. gamma=0.14, score=0.876657 -  29.4s\n",
      "[CV] gamma=0.16 ......................................................\n",
      "[Parallel(n_jobs=-1)]: Done  15 tasks      | elapsed:  1.7min\n",
      "Pickling array (shape=(271,), dtype=object).\n",
      "Pickling array (shape=(12000,), dtype=int64).\n",
      "Memmaping (shape=(271, 12000), dtype=float64) to old file /var/folders/cb/klp2b1n941s2d21364cg5kw40000gp/T/joblib_memmaping_pool_99459_4691881872/99459-4689144976-72676d8ab38e021e668f16da0008f696.pkl\n",
      "Pickling array (shape=(271,), dtype=object).\n",
      "Pickling array (shape=(12000,), dtype=float64).\n",
      "Pickling array (shape=(12000,), dtype=int64).\n",
      "Pickling array (shape=(8000,), dtype=int64).\n",
      "Pickling array (shape=(4000,), dtype=int64).\n",
      "[CV] ............................. gamma=0.15, score=0.879067 -  29.6s\n",
      "[CV] gamma=0.16 ......................................................\n",
      "[Parallel(n_jobs=-1)]: Done  16 tasks      | elapsed:  1.7min\n",
      "Pickling array (shape=(271,), dtype=object).\n",
      "Pickling array (shape=(12000,), dtype=int64).\n",
      "Memmaping (shape=(271, 12000), dtype=float64) to old file /var/folders/cb/klp2b1n941s2d21364cg5kw40000gp/T/joblib_memmaping_pool_99459_4691881872/99459-4689144976-72676d8ab38e021e668f16da0008f696.pkl\n",
      "Pickling array (shape=(271,), dtype=object).\n",
      "Pickling array (shape=(12000,), dtype=float64).\n",
      "Pickling array (shape=(12000,), dtype=int64).\n",
      "Pickling array (shape=(8001,), dtype=int64).\n",
      "Pickling array (shape=(3999,), dtype=int64).\n",
      "[CV] ............................. gamma=0.15, score=0.876657 -  29.6s\n",
      "[CV] gamma=0.16 ......................................................\n",
      "[Parallel(n_jobs=-1)]: Done  17 tasks      | elapsed:  2.1min\n",
      "Pickling array (shape=(271,), dtype=object).\n",
      "Pickling array (shape=(12000,), dtype=int64).\n",
      "Memmaping (shape=(271, 12000), dtype=float64) to old file /var/folders/cb/klp2b1n941s2d21364cg5kw40000gp/T/joblib_memmaping_pool_99459_4691881872/99459-4689144976-72676d8ab38e021e668f16da0008f696.pkl\n",
      "Pickling array (shape=(271,), dtype=object).\n",
      "Pickling array (shape=(12000,), dtype=float64).\n",
      "Pickling array (shape=(12000,), dtype=int64).\n",
      "Pickling array (shape=(7999,), dtype=int64).\n",
      "Pickling array (shape=(4001,), dtype=int64).\n",
      "[CV] ............................. gamma=0.16, score=0.879067 -  29.3s\n",
      "[CV] ............................. gamma=0.15, score=0.877949 -  30.1s\n",
      "[CV] gamma=0.17 ......................................................\n",
      "[CV] gamma=0.17 ......................................................\n",
      "[Parallel(n_jobs=-1)]: Done  18 tasks      | elapsed:  2.2min\n",
      "Pickling array (shape=(271,), dtype=object).\n",
      "Pickling array (shape=(12000,), dtype=int64).\n",
      "[Parallel(n_jobs=-1)]: Done  19 tasks      | elapsed:  2.2min\n",
      "Memmaping (shape=(271, 12000), dtype=float64) to old file /var/folders/cb/klp2b1n941s2d21364cg5kw40000gp/T/joblib_memmaping_pool_99459_4691881872/99459-4689144976-72676d8ab38e021e668f16da0008f696.pkl\n",
      "Pickling array (shape=(271,), dtype=object).\n",
      "Pickling array (shape=(12000,), dtype=float64).\n",
      "Pickling array (shape=(12000,), dtype=int64).\n",
      "Pickling array (shape=(8000,), dtype=int64).\n",
      "Pickling array (shape=(4000,), dtype=int64).\n",
      "Pickling array (shape=(271,), dtype=object).\n",
      "Pickling array (shape=(12000,), dtype=int64).\n",
      "Memmaping (shape=(271, 12000), dtype=float64) to old file /var/folders/cb/klp2b1n941s2d21364cg5kw40000gp/T/joblib_memmaping_pool_99459_4691881872/99459-4689144976-72676d8ab38e021e668f16da0008f696.pkl\n",
      "Pickling array (shape=(271,), dtype=object).\n",
      "Pickling array (shape=(12000,), dtype=float64).\n",
      "Pickling array (shape=(12000,), dtype=int64).\n",
      "Pickling array (shape=(8001,), dtype=int64).\n",
      "Pickling array (shape=(3999,), dtype=int64).\n",
      "[CV] ............................. gamma=0.16, score=0.877949 -  29.4s\n",
      "[CV] gamma=0.17 ......................................................\n",
      "[Parallel(n_jobs=-1)]: Done  20 tasks      | elapsed:  2.2min\n",
      "Pickling array (shape=(271,), dtype=object).\n",
      "Pickling array (shape=(12000,), dtype=int64).\n",
      "Memmaping (shape=(271, 12000), dtype=float64) to old file /var/folders/cb/klp2b1n941s2d21364cg5kw40000gp/T/joblib_memmaping_pool_99459_4691881872/99459-4689144976-72676d8ab38e021e668f16da0008f696.pkl\n",
      "Pickling array (shape=(271,), dtype=object).\n",
      "Pickling array (shape=(12000,), dtype=float64).\n",
      "Pickling array (shape=(12000,), dtype=int64).\n",
      "Pickling array (shape=(7999,), dtype=int64).\n",
      "Pickling array (shape=(4001,), dtype=int64).\n",
      "[CV] ............................. gamma=0.17, score=0.879067 -  30.9s\n",
      "[CV] gamma=0.18 ......................................................\n",
      "[CV] ............................. gamma=0.16, score=0.876657 -  31.4s\n",
      "[Parallel(n_jobs=-1)]: Done  21 tasks      | elapsed:  2.7min\n",
      "Pickling array (shape=(271,), dtype=object).\n",
      "Pickling array (shape=(12000,), dtype=int64).\n",
      "Memmaping (shape=(271, 12000), dtype=float64) to old file /var/folders/cb/klp2b1n941s2d21364cg5kw40000gp/T/joblib_memmaping_pool_99459_4691881872/99459-4689144976-72676d8ab38e021e668f16da0008f696.pkl\n",
      "Pickling array (shape=(271,), dtype=object).\n",
      "Pickling array (shape=(12000,), dtype=float64).\n",
      "Pickling array (shape=(12000,), dtype=int64).\n",
      "Pickling array (shape=(8000,), dtype=int64).\n",
      "Pickling array (shape=(4000,), dtype=int64).\n",
      "[Parallel(n_jobs=-1)]: Done  22 tasks      | elapsed:  2.7min\n",
      "Pickling array (shape=(271,), dtype=object).\n",
      "Pickling array (shape=(12000,), dtype=int64).\n",
      "[CV] gamma=0.18 ......................................................\n",
      "Memmaping (shape=(271, 12000), dtype=float64) to old file /var/folders/cb/klp2b1n941s2d21364cg5kw40000gp/T/joblib_memmaping_pool_99459_4691881872/99459-4689144976-72676d8ab38e021e668f16da0008f696.pkl\n",
      "Pickling array (shape=(271,), dtype=object).\n",
      "Pickling array (shape=(12000,), dtype=float64).\n",
      "Pickling array (shape=(12000,), dtype=int64).\n",
      "Pickling array (shape=(8001,), dtype=int64).\n",
      "Pickling array (shape=(3999,), dtype=int64).\n",
      "[CV] ............................. gamma=0.17, score=0.877949 -  31.4s\n",
      "[CV] gamma=0.18 ......................................................\n",
      "[Parallel(n_jobs=-1)]: Done  23 tasks      | elapsed:  2.7min\n",
      "Pickling array (shape=(271,), dtype=object).\n",
      "Pickling array (shape=(12000,), dtype=int64).\n",
      "Memmaping (shape=(271, 12000), dtype=float64) to old file /var/folders/cb/klp2b1n941s2d21364cg5kw40000gp/T/joblib_memmaping_pool_99459_4691881872/99459-4689144976-72676d8ab38e021e668f16da0008f696.pkl\n",
      "Pickling array (shape=(271,), dtype=object).\n",
      "Pickling array (shape=(12000,), dtype=float64).\n",
      "Pickling array (shape=(12000,), dtype=int64).\n",
      "Pickling array (shape=(7999,), dtype=int64).\n",
      "Pickling array (shape=(4001,), dtype=int64).\n",
      "[CV] ............................. gamma=0.17, score=0.876657 -  31.8s\n",
      "[CV] gamma=0.19 ......................................................\n",
      "[Parallel(n_jobs=-1)]: Done  31 out of  30 | elapsed:  2.7min remaining:   -5.2s\n",
      "Pickling array (shape=(271,), dtype=object).\n",
      "Pickling array (shape=(12000,), dtype=int64).\n",
      "Memmaping (shape=(271, 12000), dtype=float64) to old file /var/folders/cb/klp2b1n941s2d21364cg5kw40000gp/T/joblib_memmaping_pool_99459_4691881872/99459-4689144976-72676d8ab38e021e668f16da0008f696.pkl\n",
      "Pickling array (shape=(271,), dtype=object).\n",
      "Pickling array (shape=(12000,), dtype=float64).\n",
      "Pickling array (shape=(12000,), dtype=int64).\n",
      "Pickling array (shape=(8000,), dtype=int64).\n",
      "Pickling array (shape=(4000,), dtype=int64).\n",
      "[CV] ............................. gamma=0.18, score=0.879067 -  34.7s\n",
      "[CV] ............................. gamma=0.18, score=0.877949 -  34.7s\n",
      "[CV] gamma=0.19 ......................................................\n",
      "[CV] gamma=0.19 ......................................................\n",
      "[Parallel(n_jobs=-1)]: Done  31 out of  30 | elapsed:  3.3min remaining:   -6.3s\n",
      "Pickling array (shape=(271,), dtype=object).\n",
      "Pickling array (shape=(12000,), dtype=int64).\n",
      "[Parallel(n_jobs=-1)]: Done  31 out of  30 | elapsed:  3.3min remaining:   -6.3s\n",
      "Memmaping (shape=(271, 12000), dtype=float64) to old file /var/folders/cb/klp2b1n941s2d21364cg5kw40000gp/T/joblib_memmaping_pool_99459_4691881872/99459-4689144976-72676d8ab38e021e668f16da0008f696.pkl\n",
      "Pickling array (shape=(271,), dtype=object).\n",
      "Pickling array (shape=(12000,), dtype=float64).\n",
      "Pickling array (shape=(12000,), dtype=int64).\n",
      "Pickling array (shape=(8001,), dtype=int64).\n",
      "Pickling array (shape=(3999,), dtype=int64).\n",
      "[CV] ............................. gamma=0.18, score=0.876657 -  35.3s\n",
      "[Parallel(n_jobs=-1)]: Done  31 out of  30 | elapsed:  3.3min remaining:   -6.3s\n",
      "[CV] ............................. gamma=0.19, score=0.879067 -  34.9s\n",
      "[Parallel(n_jobs=-1)]: Done  31 out of  30 | elapsed:  3.3min remaining:   -6.3s\n",
      "[CV] ............................. gamma=0.19, score=0.876657 -  21.8s\n",
      "[CV] ............................. gamma=0.19, score=0.877949 -  22.0s\n",
      "[Parallel(n_jobs=-1)]: Done  31 out of  30 | elapsed:  3.6min remaining:   -7.0s\n",
      "[Parallel(n_jobs=-1)]: Done  31 out of  30 | elapsed:  3.6min remaining:   -7.0s\n",
      "[Parallel(n_jobs=-1)]: Done  30 out of  30 | elapsed:  3.6min finished\n"
     ]
    },
    {
     "data": {
      "text/plain": [
       "([mean: 0.87778, std: 0.00085, params: {'gamma': 0.1},\n",
       "  mean: 0.87778, std: 0.00085, params: {'gamma': 0.11},\n",
       "  mean: 0.87789, std: 0.00098, params: {'gamma': 0.12},\n",
       "  mean: 0.87789, std: 0.00098, params: {'gamma': 0.13},\n",
       "  mean: 0.87789, std: 0.00098, params: {'gamma': 0.14},\n",
       "  mean: 0.87789, std: 0.00098, params: {'gamma': 0.15},\n",
       "  mean: 0.87789, std: 0.00098, params: {'gamma': 0.16},\n",
       "  mean: 0.87789, std: 0.00098, params: {'gamma': 0.17},\n",
       "  mean: 0.87789, std: 0.00098, params: {'gamma': 0.18},\n",
       "  mean: 0.87789, std: 0.00098, params: {'gamma': 0.19}],\n",
       " {'gamma': 0.12},\n",
       " 0.87789080388983887)"
      ]
     },
     "execution_count": 133,
     "metadata": {},
     "output_type": "execute_result"
    }
   ],
   "source": [
    "param_test1 = {\n",
    " 'gamma':[i/100.0 for i in range(10,20,1)]\n",
    "}\n",
    "gsearch1 = GridSearchCV(estimator = xgb.XGBClassifier(learning_rate=0.1, n_estimators=250, max_depth=3,\n",
    " min_child_weight=8, gamma=0.12, subsample=0.9, colsample_bytree=0.7, reg_alpha = 0.0001,\n",
    " objective= 'binary:logistic', nthread=-1, scale_pos_weight=1, seed=27), \n",
    " param_grid = param_test1, scoring='roc_auc',n_jobs=-1, iid=False, cv=3, verbose=1000)\n",
    "\n",
    "gsearch1.fit(X_all,Y_all)\n",
    "gsearch1.grid_scores_, gsearch1.best_params_, gsearch1.best_score_"
   ]
  },
  {
   "cell_type": "code",
   "execution_count": 148,
   "metadata": {
    "collapsed": false
   },
   "outputs": [
    {
     "name": "stdout",
     "output_type": "stream",
     "text": [
      "CPU times: user 2min 35s, sys: 2.46 s, total: 2min 38s\n",
      "Wall time: 2min 50s\n"
     ]
    }
   ],
   "source": [
    "%%time\n",
    "bst = xgb.train(plst, X_all_datatrain, numround, verbose_eval = 10)"
   ]
  },
  {
   "cell_type": "code",
   "execution_count": 283,
   "metadata": {
    "collapsed": false
   },
   "outputs": [],
   "source": [
    "y_pred_xgb = bst.predict(Xdatatest)"
   ]
  },
  {
   "cell_type": "code",
   "execution_count": null,
   "metadata": {
    "collapsed": true
   },
   "outputs": [],
   "source": []
  },
  {
   "cell_type": "code",
   "execution_count": 285,
   "metadata": {
    "collapsed": false
   },
   "outputs": [
    {
     "data": {
      "text/plain": [
       "array([ 0.96155071,  0.06284573,  0.85026026, ...,  0.27014682,\n",
       "        0.03086308,  0.51600796], dtype=float32)"
      ]
     },
     "execution_count": 285,
     "metadata": {},
     "output_type": "execute_result"
    }
   ],
   "source": [
    "res_xgb"
   ]
  },
  {
   "cell_type": "code",
   "execution_count": 286,
   "metadata": {
    "collapsed": false
   },
   "outputs": [],
   "source": [
    "res_xgb = y_pred_xgb\n",
    "result = pd.DataFrame(test.index, columns=['customer_id'])\n",
    "result['gender'] = res_xgb"
   ]
  },
  {
   "cell_type": "code",
   "execution_count": 287,
   "metadata": {
    "collapsed": false
   },
   "outputs": [
    {
     "data": {
      "text/html": [
       "<div>\n",
       "<table border=\"1\" class=\"dataframe\">\n",
       "  <thead>\n",
       "    <tr style=\"text-align: right;\">\n",
       "      <th></th>\n",
       "      <th>customer_id</th>\n",
       "      <th>gender</th>\n",
       "    </tr>\n",
       "  </thead>\n",
       "  <tbody>\n",
       "    <tr>\n",
       "      <th>0</th>\n",
       "      <td>49101</td>\n",
       "      <td>0.431638</td>\n",
       "    </tr>\n",
       "    <tr>\n",
       "      <th>1</th>\n",
       "      <td>114348</td>\n",
       "      <td>0.754771</td>\n",
       "    </tr>\n",
       "    <tr>\n",
       "      <th>2</th>\n",
       "      <td>127946</td>\n",
       "      <td>0.727174</td>\n",
       "    </tr>\n",
       "    <tr>\n",
       "      <th>3</th>\n",
       "      <td>137367</td>\n",
       "      <td>0.718330</td>\n",
       "    </tr>\n",
       "    <tr>\n",
       "      <th>4</th>\n",
       "      <td>174467</td>\n",
       "      <td>0.705088</td>\n",
       "    </tr>\n",
       "  </tbody>\n",
       "</table>\n",
       "</div>"
      ],
      "text/plain": [
       "   customer_id    gender\n",
       "0        49101  0.431638\n",
       "1       114348  0.754771\n",
       "2       127946  0.727174\n",
       "3       137367  0.718330\n",
       "4       174467  0.705088"
      ]
     },
     "execution_count": 287,
     "metadata": {},
     "output_type": "execute_result"
    }
   ],
   "source": [
    "result.head()"
   ]
  },
  {
   "cell_type": "code",
   "execution_count": 69,
   "metadata": {
    "collapsed": true
   },
   "outputs": [],
   "source": [
    "result.to_csv('TASK1_xgb_addit.csv', index=False)"
   ]
  },
  {
   "cell_type": "code",
   "execution_count": 258,
   "metadata": {
    "collapsed": true
   },
   "outputs": [],
   "source": [
    "best_xgb = pd.read_csv('TASK1_xgb_addit.csv').gender.values"
   ]
  },
  {
   "cell_type": "markdown",
   "metadata": {},
   "source": [
    "## logreg"
   ]
  },
  {
   "cell_type": "code",
   "execution_count": 155,
   "metadata": {
    "collapsed": true
   },
   "outputs": [],
   "source": [
    "from sklearn.linear_model import LogisticRegression"
   ]
  },
  {
   "cell_type": "code",
   "execution_count": 224,
   "metadata": {
    "collapsed": false
   },
   "outputs": [
    {
     "data": {
      "text/plain": [
       "LogisticRegression(C=3.8, class_weight=None, dual=False, fit_intercept=True,\n",
       "          intercept_scaling=1, max_iter=500, multi_class='ovr', n_jobs=-1,\n",
       "          penalty='l2', random_state=None, solver='liblinear', tol=0.0001,\n",
       "          verbose=0, warm_start=False)"
      ]
     },
     "execution_count": 224,
     "metadata": {},
     "output_type": "execute_result"
    }
   ],
   "source": [
    "logreg = LogisticRegression(max_iter=500, n_jobs=-1, C=3.8)\n",
    "logreg.fit(X_train, Y_train)"
   ]
  },
  {
   "cell_type": "code",
   "execution_count": 227,
   "metadata": {
    "collapsed": false
   },
   "outputs": [
    {
     "name": "stdout",
     "output_type": "stream",
     "text": [
      "Auc score 0.748968792589\n"
     ]
    }
   ],
   "source": [
    "y_pred_logreg = logreg.predict_proba(X_val)[:, 1]\n",
    "#y_pred_logreg = map(lambda x: x[1], pred_logreg)\n",
    "print \"Auc score %s\" % str(roc_auc_score(Y_val, y_pred_logreg)) "
   ]
  },
  {
   "cell_type": "code",
   "execution_count": 248,
   "metadata": {
    "collapsed": false
   },
   "outputs": [
    {
     "data": {
      "text/plain": [
       "3600"
      ]
     },
     "execution_count": 248,
     "metadata": {},
     "output_type": "execute_result"
    }
   ],
   "source": [
    "len(y_pred_logreg)"
   ]
  },
  {
   "cell_type": "code",
   "execution_count": 270,
   "metadata": {
    "collapsed": false
   },
   "outputs": [
    {
     "data": {
      "text/plain": [
       "[<matplotlib.lines.Line2D at 0x142f522d0>]"
      ]
     },
     "execution_count": 270,
     "metadata": {},
     "output_type": "execute_result"
    },
    {
     "data": {
      "image/png": "[encoded data removed]",
      "text/plain": [
       "<matplotlib.figure.Figure at 0x11b8ad450>"
      ]
     },
     "metadata": {},
     "output_type": "display_data"
    }
   ],
   "source": [
    "plt.plot(res_xgb, y_pred_rf, 'ro')"
   ]
  },
  {
   "cell_type": "code",
   "execution_count": null,
   "metadata": {
    "collapsed": true
   },
   "outputs": [],
   "source": []
  },
  {
   "cell_type": "code",
   "execution_count": 261,
   "metadata": {
    "collapsed": true
   },
   "outputs": [],
   "source": [
    "best_logreg = pd.read_csv('baseline_logreg.csv').gender.values"
   ]
  },
  {
   "cell_type": "code",
   "execution_count": 262,
   "metadata": {
    "collapsed": false
   },
   "outputs": [
    {
     "data": {
      "text/plain": [
       "array([ 0.46449952,  0.86801099,  0.52515357, ...,  0.38524009,\n",
       "        1.        ,  0.02958033])"
      ]
     },
     "execution_count": 262,
     "metadata": {},
     "output_type": "execute_result"
    }
   ],
   "source": [
    "best_logreg"
   ]
  },
  {
   "cell_type": "markdown",
   "metadata": {},
   "source": [
    "## rf"
   ]
  },
  {
   "cell_type": "code",
   "execution_count": 237,
   "metadata": {
    "collapsed": true
   },
   "outputs": [],
   "source": [
    "from sklearn.ensemble import RandomForestClassifier"
   ]
  },
  {
   "cell_type": "code",
   "execution_count": 249,
   "metadata": {
    "collapsed": false
   },
   "outputs": [
    {
     "data": {
      "text/plain": [
       "RandomForestClassifier(bootstrap=True, class_weight=None, criterion='gini',\n",
       "            max_depth=None, max_features='auto', max_leaf_nodes=None,\n",
       "            min_samples_leaf=2, min_samples_split=2,\n",
       "            min_weight_fraction_leaf=0.0, n_estimators=1000, n_jobs=-1,\n",
       "            oob_score=True, random_state=None, verbose=0, warm_start=False)"
      ]
     },
     "execution_count": 249,
     "metadata": {},
     "output_type": "execute_result"
    }
   ],
   "source": [
    "%%time\n",
    "rf = RandomForestClassifier(n_estimators=1000, min_samples_split=2, min_samples_leaf=2, n_jobs=-1, oob_score=True)\n",
    "rf.fit(X_train, Y_train)"
   ]
  },
  {
   "cell_type": "code",
   "execution_count": 250,
   "metadata": {
    "collapsed": false
   },
   "outputs": [
    {
     "name": "stdout",
     "output_type": "stream",
     "text": [
      "Auc score 0.866634944434\n"
     ]
    }
   ],
   "source": [
    "y_pred_rf = rf.predict_proba(X_val)[:,1]\n",
    "print \"Auc score %s\" % str(roc_auc_score(Y_val, y_pred_rf)) "
   ]
  },
  {
   "cell_type": "code",
   "execution_count": 251,
   "metadata": {
    "collapsed": false
   },
   "outputs": [
    {
     "data": {
      "text/plain": [
       "RandomForestClassifier(bootstrap=True, class_weight=None, criterion='gini',\n",
       "            max_depth=None, max_features='auto', max_leaf_nodes=None,\n",
       "            min_samples_leaf=2, min_samples_split=2,\n",
       "            min_weight_fraction_leaf=0.0, n_estimators=1000, n_jobs=-1,\n",
       "            oob_score=True, random_state=None, verbose=0, warm_start=False)"
      ]
     },
     "execution_count": 251,
     "metadata": {},
     "output_type": "execute_result"
    }
   ],
   "source": [
    "rf.fit(X_all, Y_all)"
   ]
  },
  {
   "cell_type": "code",
   "execution_count": 253,
   "metadata": {
    "collapsed": true
   },
   "outputs": [],
   "source": [
    "y_pred_rf = rf.predict_proba(test)[:,1]"
   ]
  },
  {
   "cell_type": "code",
   "execution_count": 254,
   "metadata": {
    "collapsed": false
   },
   "outputs": [],
   "source": [
    "res_rf = y_pred_rf\n",
    "result = pd.DataFrame(test.index, columns=['customer_id'])\n",
    "result['gender'] = res_rf"
   ]
  },
  {
   "cell_type": "code",
   "execution_count": 255,
   "metadata": {
    "collapsed": false
   },
   "outputs": [
    {
     "data": {
      "text/html": [
       "<div>\n",
       "<table border=\"1\" class=\"dataframe\">\n",
       "  <thead>\n",
       "    <tr style=\"text-align: right;\">\n",
       "      <th></th>\n",
       "      <th>customer_id</th>\n",
       "      <th>gender</th>\n",
       "    </tr>\n",
       "  </thead>\n",
       "  <tbody>\n",
       "    <tr>\n",
       "      <th>0</th>\n",
       "      <td>49101</td>\n",
       "      <td>0.401864</td>\n",
       "    </tr>\n",
       "    <tr>\n",
       "      <th>1</th>\n",
       "      <td>114348</td>\n",
       "      <td>0.723001</td>\n",
       "    </tr>\n",
       "    <tr>\n",
       "      <th>2</th>\n",
       "      <td>127946</td>\n",
       "      <td>0.688512</td>\n",
       "    </tr>\n",
       "    <tr>\n",
       "      <th>3</th>\n",
       "      <td>137367</td>\n",
       "      <td>0.659194</td>\n",
       "    </tr>\n",
       "    <tr>\n",
       "      <th>4</th>\n",
       "      <td>174467</td>\n",
       "      <td>0.678691</td>\n",
       "    </tr>\n",
       "  </tbody>\n",
       "</table>\n",
       "</div>"
      ],
      "text/plain": [
       "   customer_id    gender\n",
       "0        49101  0.401864\n",
       "1       114348  0.723001\n",
       "2       127946  0.688512\n",
       "3       137367  0.659194\n",
       "4       174467  0.678691"
      ]
     },
     "execution_count": 255,
     "metadata": {},
     "output_type": "execute_result"
    }
   ],
   "source": [
    "result.head()"
   ]
  },
  {
   "cell_type": "markdown",
   "metadata": {},
   "source": [
    "## Try composition"
   ]
  },
  {
   "cell_type": "code",
   "execution_count": 288,
   "metadata": {
    "collapsed": true
   },
   "outputs": [],
   "source": [
    "koef_xgb = 0.8\n",
    "koef_rf = 0.1\n",
    "y_pred_comp = koef_xgb*res_xgb + koef_rf*y_pred_rf + (1-koef_xgb-koef_rf)*best_logreg"
   ]
  },
  {
   "cell_type": "code",
   "execution_count": 289,
   "metadata": {
    "collapsed": false
   },
   "outputs": [],
   "source": [
    "result = pd.DataFrame(test.index, columns=['customer_id'])\n",
    "result['gender'] = y_pred_comp"
   ]
  },
  {
   "cell_type": "code",
   "execution_count": 290,
   "metadata": {
    "collapsed": false
   },
   "outputs": [
    {
     "data": {
      "text/html": [
       "<div>\n",
       "<table border=\"1\" class=\"dataframe\">\n",
       "  <thead>\n",
       "    <tr style=\"text-align: right;\">\n",
       "      <th></th>\n",
       "      <th>customer_id</th>\n",
       "      <th>gender</th>\n",
       "    </tr>\n",
       "  </thead>\n",
       "  <tbody>\n",
       "    <tr>\n",
       "      <th>0</th>\n",
       "      <td>49101</td>\n",
       "      <td>0.431947</td>\n",
       "    </tr>\n",
       "    <tr>\n",
       "      <th>1</th>\n",
       "      <td>114348</td>\n",
       "      <td>0.762918</td>\n",
       "    </tr>\n",
       "    <tr>\n",
       "      <th>2</th>\n",
       "      <td>127946</td>\n",
       "      <td>0.703106</td>\n",
       "    </tr>\n",
       "    <tr>\n",
       "      <th>3</th>\n",
       "      <td>137367</td>\n",
       "      <td>0.681379</td>\n",
       "    </tr>\n",
       "    <tr>\n",
       "      <th>4</th>\n",
       "      <td>174467</td>\n",
       "      <td>0.682187</td>\n",
       "    </tr>\n",
       "  </tbody>\n",
       "</table>\n",
       "</div>"
      ],
      "text/plain": [
       "   customer_id    gender\n",
       "0        49101  0.431947\n",
       "1       114348  0.762918\n",
       "2       127946  0.703106\n",
       "3       137367  0.681379\n",
       "4       174467  0.682187"
      ]
     },
     "execution_count": 290,
     "metadata": {},
     "output_type": "execute_result"
    }
   ],
   "source": [
    "result.head()"
   ]
  },
  {
   "cell_type": "code",
   "execution_count": 291,
   "metadata": {
    "collapsed": true
   },
   "outputs": [],
   "source": [
    "result.to_csv('TASK1_xgb08_rf01_logreg_addit.csv', index=False)"
   ]
  },
  {
   "cell_type": "code",
   "execution_count": null,
   "metadata": {
    "collapsed": true
   },
   "outputs": [],
   "source": []
  }
 ],
 "metadata": {
  "anaconda-cloud": {},
  "kernelspec": {
   "display_name": "Python [Root]",
   "language": "python",
   "name": "Python [Root]"
  },
  "language_info": {
   "codemirror_mode": {
    "name": "ipython",
    "version": 2
   },
   "file_extension": ".py",
   "mimetype": "text/x-python",
   "name": "python",
   "nbconvert_exporter": "python",
   "pygments_lexer": "ipython2",
   "version": "2.7.11"
  }
 },
 "nbformat": 4,
 "nbformat_minor": 0
}
