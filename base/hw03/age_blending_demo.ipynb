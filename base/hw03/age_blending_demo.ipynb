{
 "cells": [
  {
   "cell_type": "code",
   "execution_count": 217,
   "metadata": {
    "collapsed": false
   },
   "outputs": [],
   "source": [
    "import numpy as np\n",
    "import pandas as pd\n",
    "from sklearn.linear_model import LinearRegression\n",
    "from sklearn.cross_validation import cross_val_score\n",
    "from sklearn.feature_extraction.text import HashingVectorizer\n",
    "from sklearn import manifold, decomposition, linear_model, ensemble, neighbors, cross_validation\n",
    "%matplotlib inline\n",
    "import seaborn as sns\n",
    "import sklearn\n",
    "import matplotlib.pyplot as plt\n",
    "\n",
    "from heamy.dataset import Dataset\n",
    "from heamy.estimator import Regressor, Classifier\n",
    "from heamy.pipeline import ModelsPipeline\n",
    "\n",
    "import xgboost as xgb"
   ]
  },
  {
   "cell_type": "code",
   "execution_count": 218,
   "metadata": {
    "collapsed": true
   },
   "outputs": [],
   "source": [
    "def rmse(x,y):\n",
    "    return np.mean((x - y) ** 2) ** 0.5"
   ]
  },
  {
   "cell_type": "markdown",
   "metadata": {},
   "source": [
    "## Подготовка данных (urls)"
   ]
  },
  {
   "cell_type": "code",
   "execution_count": 219,
   "metadata": {
    "collapsed": false
   },
   "outputs": [],
   "source": [
    "urls_train_df = pd.read_csv('data/url_domain_train', header=None, delimiter='\\t')\n",
    "urls_train_df.columns = ['id', 'url', 'Count']\n",
    "#urls_train_df = urls_train_df[['id', 'url']]"
   ]
  },
  {
   "cell_type": "code",
   "execution_count": 220,
   "metadata": {
    "collapsed": false
   },
   "outputs": [
    {
     "data": {
      "text/html": [
       "<div>\n",
       "<table border=\"1\" class=\"dataframe\">\n",
       "  <thead>\n",
       "    <tr style=\"text-align: right;\">\n",
       "      <th></th>\n",
       "      <th>id</th>\n",
       "      <th>url</th>\n",
       "      <th>Count</th>\n",
       "    </tr>\n",
       "  </thead>\n",
       "  <tbody>\n",
       "    <tr>\n",
       "      <th>0</th>\n",
       "      <td>000000014B60815F65B38258011B6C01</td>\n",
       "      <td>login.rutracker.org</td>\n",
       "      <td>1</td>\n",
       "    </tr>\n",
       "    <tr>\n",
       "      <th>1</th>\n",
       "      <td>000000014B60815F65B38258011B6C01</td>\n",
       "      <td>rutracker.org</td>\n",
       "      <td>4</td>\n",
       "    </tr>\n",
       "    <tr>\n",
       "      <th>2</th>\n",
       "      <td>000000014C03DA2A47AC433A0C755201</td>\n",
       "      <td>admin.tour-spb.net</td>\n",
       "      <td>1</td>\n",
       "    </tr>\n",
       "    <tr>\n",
       "      <th>3</th>\n",
       "      <td>000000014C03DA2A47AC433A0C755201</td>\n",
       "      <td>czinfo.ru</td>\n",
       "      <td>1</td>\n",
       "    </tr>\n",
       "    <tr>\n",
       "      <th>4</th>\n",
       "      <td>000000014C03DA2A47AC433A0C755201</td>\n",
       "      <td>forumsostav.ru</td>\n",
       "      <td>1</td>\n",
       "    </tr>\n",
       "  </tbody>\n",
       "</table>\n",
       "</div>"
      ],
      "text/plain": [
       "                                 id                  url  Count\n",
       "0  000000014B60815F65B38258011B6C01  login.rutracker.org      1\n",
       "1  000000014B60815F65B38258011B6C01        rutracker.org      4\n",
       "2  000000014C03DA2A47AC433A0C755201   admin.tour-spb.net      1\n",
       "3  000000014C03DA2A47AC433A0C755201            czinfo.ru      1\n",
       "4  000000014C03DA2A47AC433A0C755201       forumsostav.ru      1"
      ]
     },
     "execution_count": 220,
     "metadata": {},
     "output_type": "execute_result"
    }
   ],
   "source": [
    "urls_train_df.head()"
   ]
  },
  {
   "cell_type": "code",
   "execution_count": 221,
   "metadata": {
    "collapsed": false
   },
   "outputs": [
    {
     "data": {
      "text/plain": [
       "0                            login.rutracker\n",
       "1    rutracker rutracker rutracker rutracker\n",
       "2                             admin.tour-spb\n",
       "3                                     czinfo\n",
       "4                                forumsostav\n",
       "Name: url, dtype: object"
      ]
     },
     "execution_count": 221,
     "metadata": {},
     "output_type": "execute_result"
    }
   ],
   "source": [
    "urls_train_df.url = urls_train_df.url.apply(lambda x: \".\".join(x.split(\".\")[:-1]))\n",
    "urls_train_df.url = urls_train_df.url.apply(lambda x: x+\" \")\n",
    "urls_train_df.url = urls_train_df.url.multiply(urls_train_df.Count)\n",
    "urls_train_df.url = urls_train_df.url.apply(lambda x: x.strip())\n",
    "urls_train_df.url = urls_train_df.url.apply(lambda x: ' '.join(x.split(' ')))\n",
    "\n",
    "urls_train_df.url.head()"
   ]
  },
  {
   "cell_type": "code",
   "execution_count": 222,
   "metadata": {
    "collapsed": false
   },
   "outputs": [],
   "source": [
    "urls_train_df = pd.DataFrame(urls_train_df.groupby('id')['url'].apply(lambda x: x.tolist()))\n",
    "urls_train_df['id'] = urls_train_df.index\n",
    "urls_train_df.index = range(len(urls_train_df))\n",
    "urls_train_df.columns = ['urls', 'id']"
   ]
  },
  {
   "cell_type": "code",
   "execution_count": 223,
   "metadata": {
    "collapsed": false
   },
   "outputs": [],
   "source": [
    "age_train_df = pd.read_csv('data/age_profile_train', header=None, delimiter='\\t')\n",
    "age_train_df.columns = ['id', 'age']"
   ]
  },
  {
   "cell_type": "code",
   "execution_count": 224,
   "metadata": {
    "collapsed": false
   },
   "outputs": [],
   "source": [
    "ages = age_train_df.age.value_counts().reset_index()\n",
    "ages.columns = [\"age\", \"cnt\"]"
   ]
  },
  {
   "cell_type": "code",
   "execution_count": 225,
   "metadata": {
    "collapsed": false
   },
   "outputs": [
    {
     "data": {
      "text/plain": [
       "<matplotlib.axes._subplots.AxesSubplot at 0x7fe3d053b390>"
      ]
     },
     "execution_count": 225,
     "metadata": {},
     "output_type": "execute_result"
    },
    {
     "data": {
      "image/png": "[encoded data removed]",
      "text/plain": [
       "<matplotlib.figure.Figure at 0xc9fb650>"
      ]
     },
     "metadata": {},
     "output_type": "display_data"
    }
   ],
   "source": [
    "ages.sort_values(by=\"age\").set_index(\"age\").plot(kind=\"bar\", figsize=(20, 8))"
   ]
  },
  {
   "cell_type": "markdown",
   "metadata": {},
   "source": [
    "провалы через каждые 10 лет!! 5-15-25-35-45-55-65-"
   ]
  },
  {
   "cell_type": "code",
   "execution_count": 226,
   "metadata": {
    "collapsed": false
   },
   "outputs": [
    {
     "data": {
      "text/plain": [
       "<matplotlib.axes._subplots.AxesSubplot at 0xcae0c50>"
      ]
     },
     "execution_count": 226,
     "metadata": {},
     "output_type": "execute_result"
    },
    {
     "data": {
      "image/png": "[encoded data removed]",
      "text/plain": [
       "<matplotlib.figure.Figure at 0xf6d1a50>"
      ]
     },
     "metadata": {},
     "output_type": "display_data"
    }
   ],
   "source": [
    "ages.sort_values(by=\"age\").set_index(\"age\").cumsum().plot()"
   ]
  },
  {
   "cell_type": "code",
   "execution_count": 227,
   "metadata": {
    "collapsed": false
   },
   "outputs": [],
   "source": [
    "r = ages.sort_values(by=\"age\").set_index(\"age\").cumsum()"
   ]
  },
  {
   "cell_type": "code",
   "execution_count": 228,
   "metadata": {
    "collapsed": true
   },
   "outputs": [],
   "source": [
    "interval_labels = [22, 26, 29, 31, 34, 38, 41, 46, 53]  # побъем cussum по 10 равновероятным интервалам"
   ]
  },
  {
   "cell_type": "code",
   "execution_count": 229,
   "metadata": {
    "collapsed": false
   },
   "outputs": [
    {
     "data": {
      "text/html": [
       "<div>\n",
       "<table border=\"1\" class=\"dataframe\">\n",
       "  <thead>\n",
       "    <tr style=\"text-align: right;\">\n",
       "      <th></th>\n",
       "      <th>cnt</th>\n",
       "    </tr>\n",
       "    <tr>\n",
       "      <th>age</th>\n",
       "      <th></th>\n",
       "    </tr>\n",
       "  </thead>\n",
       "  <tbody>\n",
       "    <tr>\n",
       "      <th>0</th>\n",
       "      <td>0.000244</td>\n",
       "    </tr>\n",
       "    <tr>\n",
       "      <th>1</th>\n",
       "      <td>0.002907</td>\n",
       "    </tr>\n",
       "    <tr>\n",
       "      <th>2</th>\n",
       "      <td>0.005797</td>\n",
       "    </tr>\n",
       "    <tr>\n",
       "      <th>3</th>\n",
       "      <td>0.009134</td>\n",
       "    </tr>\n",
       "    <tr>\n",
       "      <th>4</th>\n",
       "      <td>0.011257</td>\n",
       "    </tr>\n",
       "    <tr>\n",
       "      <th>5</th>\n",
       "      <td>0.011561</td>\n",
       "    </tr>\n",
       "    <tr>\n",
       "      <th>6</th>\n",
       "      <td>0.013010</td>\n",
       "    </tr>\n",
       "    <tr>\n",
       "      <th>7</th>\n",
       "      <td>0.014324</td>\n",
       "    </tr>\n",
       "    <tr>\n",
       "      <th>8</th>\n",
       "      <td>0.016060</td>\n",
       "    </tr>\n",
       "    <tr>\n",
       "      <th>9</th>\n",
       "      <td>0.017678</td>\n",
       "    </tr>\n",
       "    <tr>\n",
       "      <th>10</th>\n",
       "      <td>0.019405</td>\n",
       "    </tr>\n",
       "    <tr>\n",
       "      <th>11</th>\n",
       "      <td>0.020821</td>\n",
       "    </tr>\n",
       "    <tr>\n",
       "      <th>12</th>\n",
       "      <td>0.022338</td>\n",
       "    </tr>\n",
       "    <tr>\n",
       "      <th>13</th>\n",
       "      <td>0.024233</td>\n",
       "    </tr>\n",
       "    <tr>\n",
       "      <th>14</th>\n",
       "      <td>0.027907</td>\n",
       "    </tr>\n",
       "    <tr>\n",
       "      <th>15</th>\n",
       "      <td>0.028573</td>\n",
       "    </tr>\n",
       "    <tr>\n",
       "      <th>16</th>\n",
       "      <td>0.032162</td>\n",
       "    </tr>\n",
       "    <tr>\n",
       "      <th>17</th>\n",
       "      <td>0.038086</td>\n",
       "    </tr>\n",
       "    <tr>\n",
       "      <th>18</th>\n",
       "      <td>0.045644</td>\n",
       "    </tr>\n",
       "    <tr>\n",
       "      <th>19</th>\n",
       "      <td>0.055924</td>\n",
       "    </tr>\n",
       "    <tr>\n",
       "      <th>20</th>\n",
       "      <td>0.071563</td>\n",
       "    </tr>\n",
       "    <tr>\n",
       "      <th>21</th>\n",
       "      <td>0.089957</td>\n",
       "    </tr>\n",
       "    <tr>\n",
       "      <th>22</th>\n",
       "      <td>0.109708</td>\n",
       "    </tr>\n",
       "    <tr>\n",
       "      <th>23</th>\n",
       "      <td>0.133048</td>\n",
       "    </tr>\n",
       "    <tr>\n",
       "      <th>24</th>\n",
       "      <td>0.160323</td>\n",
       "    </tr>\n",
       "    <tr>\n",
       "      <th>25</th>\n",
       "      <td>0.165455</td>\n",
       "    </tr>\n",
       "    <tr>\n",
       "      <th>26</th>\n",
       "      <td>0.195468</td>\n",
       "    </tr>\n",
       "    <tr>\n",
       "      <th>27</th>\n",
       "      <td>0.235240</td>\n",
       "    </tr>\n",
       "    <tr>\n",
       "      <th>28</th>\n",
       "      <td>0.278061</td>\n",
       "    </tr>\n",
       "    <tr>\n",
       "      <th>29</th>\n",
       "      <td>0.321304</td>\n",
       "    </tr>\n",
       "    <tr>\n",
       "      <th>30</th>\n",
       "      <td>0.363173</td>\n",
       "    </tr>\n",
       "    <tr>\n",
       "      <th>31</th>\n",
       "      <td>0.404149</td>\n",
       "    </tr>\n",
       "    <tr>\n",
       "      <th>32</th>\n",
       "      <td>0.444038</td>\n",
       "    </tr>\n",
       "    <tr>\n",
       "      <th>33</th>\n",
       "      <td>0.481661</td>\n",
       "    </tr>\n",
       "    <tr>\n",
       "      <th>34</th>\n",
       "      <td>0.516958</td>\n",
       "    </tr>\n",
       "    <tr>\n",
       "      <th>35</th>\n",
       "      <td>0.523083</td>\n",
       "    </tr>\n",
       "    <tr>\n",
       "      <th>36</th>\n",
       "      <td>0.550771</td>\n",
       "    </tr>\n",
       "    <tr>\n",
       "      <th>37</th>\n",
       "      <td>0.584804</td>\n",
       "    </tr>\n",
       "    <tr>\n",
       "      <th>38</th>\n",
       "      <td>0.616621</td>\n",
       "    </tr>\n",
       "    <tr>\n",
       "      <th>39</th>\n",
       "      <td>0.647031</td>\n",
       "    </tr>\n",
       "    <tr>\n",
       "      <th>40</th>\n",
       "      <td>0.677407</td>\n",
       "    </tr>\n",
       "    <tr>\n",
       "      <th>41</th>\n",
       "      <td>0.704986</td>\n",
       "    </tr>\n",
       "    <tr>\n",
       "      <th>42</th>\n",
       "      <td>0.731587</td>\n",
       "    </tr>\n",
       "    <tr>\n",
       "      <th>43</th>\n",
       "      <td>0.757404</td>\n",
       "    </tr>\n",
       "    <tr>\n",
       "      <th>44</th>\n",
       "      <td>0.780837</td>\n",
       "    </tr>\n",
       "    <tr>\n",
       "      <th>45</th>\n",
       "      <td>0.784823</td>\n",
       "    </tr>\n",
       "    <tr>\n",
       "      <th>46</th>\n",
       "      <td>0.801237</td>\n",
       "    </tr>\n",
       "    <tr>\n",
       "      <th>47</th>\n",
       "      <td>0.818494</td>\n",
       "    </tr>\n",
       "    <tr>\n",
       "      <th>48</th>\n",
       "      <td>0.834983</td>\n",
       "    </tr>\n",
       "    <tr>\n",
       "      <th>49</th>\n",
       "      <td>0.851077</td>\n",
       "    </tr>\n",
       "    <tr>\n",
       "      <th>50</th>\n",
       "      <td>0.866438</td>\n",
       "    </tr>\n",
       "    <tr>\n",
       "      <th>51</th>\n",
       "      <td>0.880922</td>\n",
       "    </tr>\n",
       "    <tr>\n",
       "      <th>52</th>\n",
       "      <td>0.895205</td>\n",
       "    </tr>\n",
       "    <tr>\n",
       "      <th>53</th>\n",
       "      <td>0.908341</td>\n",
       "    </tr>\n",
       "    <tr>\n",
       "      <th>54</th>\n",
       "      <td>0.920913</td>\n",
       "    </tr>\n",
       "    <tr>\n",
       "      <th>55</th>\n",
       "      <td>0.923112</td>\n",
       "    </tr>\n",
       "    <tr>\n",
       "      <th>56</th>\n",
       "      <td>0.931926</td>\n",
       "    </tr>\n",
       "    <tr>\n",
       "      <th>57</th>\n",
       "      <td>0.940630</td>\n",
       "    </tr>\n",
       "    <tr>\n",
       "      <th>58</th>\n",
       "      <td>0.948921</td>\n",
       "    </tr>\n",
       "    <tr>\n",
       "      <th>59</th>\n",
       "      <td>0.955881</td>\n",
       "    </tr>\n",
       "    <tr>\n",
       "      <th>60</th>\n",
       "      <td>0.962681</td>\n",
       "    </tr>\n",
       "    <tr>\n",
       "      <th>61</th>\n",
       "      <td>0.968006</td>\n",
       "    </tr>\n",
       "    <tr>\n",
       "      <th>62</th>\n",
       "      <td>0.972919</td>\n",
       "    </tr>\n",
       "    <tr>\n",
       "      <th>63</th>\n",
       "      <td>0.977014</td>\n",
       "    </tr>\n",
       "    <tr>\n",
       "      <th>64</th>\n",
       "      <td>0.980949</td>\n",
       "    </tr>\n",
       "    <tr>\n",
       "      <th>65</th>\n",
       "      <td>0.981656</td>\n",
       "    </tr>\n",
       "    <tr>\n",
       "      <th>66</th>\n",
       "      <td>0.984184</td>\n",
       "    </tr>\n",
       "    <tr>\n",
       "      <th>67</th>\n",
       "      <td>0.986687</td>\n",
       "    </tr>\n",
       "    <tr>\n",
       "      <th>68</th>\n",
       "      <td>0.988953</td>\n",
       "    </tr>\n",
       "    <tr>\n",
       "      <th>69</th>\n",
       "      <td>0.991136</td>\n",
       "    </tr>\n",
       "    <tr>\n",
       "      <th>70</th>\n",
       "      <td>0.992855</td>\n",
       "    </tr>\n",
       "    <tr>\n",
       "      <th>71</th>\n",
       "      <td>0.993655</td>\n",
       "    </tr>\n",
       "    <tr>\n",
       "      <th>72</th>\n",
       "      <td>0.994220</td>\n",
       "    </tr>\n",
       "    <tr>\n",
       "      <th>73</th>\n",
       "      <td>0.994683</td>\n",
       "    </tr>\n",
       "    <tr>\n",
       "      <th>74</th>\n",
       "      <td>0.995610</td>\n",
       "    </tr>\n",
       "    <tr>\n",
       "      <th>75</th>\n",
       "      <td>0.995787</td>\n",
       "    </tr>\n",
       "    <tr>\n",
       "      <th>76</th>\n",
       "      <td>0.996293</td>\n",
       "    </tr>\n",
       "    <tr>\n",
       "      <th>77</th>\n",
       "      <td>0.996832</td>\n",
       "    </tr>\n",
       "    <tr>\n",
       "      <th>78</th>\n",
       "      <td>0.997497</td>\n",
       "    </tr>\n",
       "    <tr>\n",
       "      <th>79</th>\n",
       "      <td>0.997809</td>\n",
       "    </tr>\n",
       "    <tr>\n",
       "      <th>80</th>\n",
       "      <td>0.998003</td>\n",
       "    </tr>\n",
       "    <tr>\n",
       "      <th>81</th>\n",
       "      <td>0.998290</td>\n",
       "    </tr>\n",
       "    <tr>\n",
       "      <th>82</th>\n",
       "      <td>0.998509</td>\n",
       "    </tr>\n",
       "    <tr>\n",
       "      <th>83</th>\n",
       "      <td>0.998627</td>\n",
       "    </tr>\n",
       "    <tr>\n",
       "      <th>84</th>\n",
       "      <td>0.998846</td>\n",
       "    </tr>\n",
       "    <tr>\n",
       "      <th>85</th>\n",
       "      <td>0.998879</td>\n",
       "    </tr>\n",
       "    <tr>\n",
       "      <th>86</th>\n",
       "      <td>0.998921</td>\n",
       "    </tr>\n",
       "    <tr>\n",
       "      <th>87</th>\n",
       "      <td>0.999023</td>\n",
       "    </tr>\n",
       "    <tr>\n",
       "      <th>88</th>\n",
       "      <td>0.999065</td>\n",
       "    </tr>\n",
       "    <tr>\n",
       "      <th>89</th>\n",
       "      <td>0.999115</td>\n",
       "    </tr>\n",
       "    <tr>\n",
       "      <th>90</th>\n",
       "      <td>0.999242</td>\n",
       "    </tr>\n",
       "    <tr>\n",
       "      <th>91</th>\n",
       "      <td>0.999317</td>\n",
       "    </tr>\n",
       "    <tr>\n",
       "      <th>92</th>\n",
       "      <td>0.999351</td>\n",
       "    </tr>\n",
       "    <tr>\n",
       "      <th>93</th>\n",
       "      <td>0.999410</td>\n",
       "    </tr>\n",
       "    <tr>\n",
       "      <th>94</th>\n",
       "      <td>0.999469</td>\n",
       "    </tr>\n",
       "    <tr>\n",
       "      <th>96</th>\n",
       "      <td>0.999503</td>\n",
       "    </tr>\n",
       "    <tr>\n",
       "      <th>97</th>\n",
       "      <td>0.999545</td>\n",
       "    </tr>\n",
       "    <tr>\n",
       "      <th>98</th>\n",
       "      <td>0.999916</td>\n",
       "    </tr>\n",
       "    <tr>\n",
       "      <th>99</th>\n",
       "      <td>1.000000</td>\n",
       "    </tr>\n",
       "  </tbody>\n",
       "</table>\n",
       "</div>"
      ],
      "text/plain": [
       "          cnt\n",
       "age          \n",
       "0    0.000244\n",
       "1    0.002907\n",
       "2    0.005797\n",
       "3    0.009134\n",
       "4    0.011257\n",
       "5    0.011561\n",
       "6    0.013010\n",
       "7    0.014324\n",
       "8    0.016060\n",
       "9    0.017678\n",
       "10   0.019405\n",
       "11   0.020821\n",
       "12   0.022338\n",
       "13   0.024233\n",
       "14   0.027907\n",
       "15   0.028573\n",
       "16   0.032162\n",
       "17   0.038086\n",
       "18   0.045644\n",
       "19   0.055924\n",
       "20   0.071563\n",
       "21   0.089957\n",
       "22   0.109708\n",
       "23   0.133048\n",
       "24   0.160323\n",
       "25   0.165455\n",
       "26   0.195468\n",
       "27   0.235240\n",
       "28   0.278061\n",
       "29   0.321304\n",
       "30   0.363173\n",
       "31   0.404149\n",
       "32   0.444038\n",
       "33   0.481661\n",
       "34   0.516958\n",
       "35   0.523083\n",
       "36   0.550771\n",
       "37   0.584804\n",
       "38   0.616621\n",
       "39   0.647031\n",
       "40   0.677407\n",
       "41   0.704986\n",
       "42   0.731587\n",
       "43   0.757404\n",
       "44   0.780837\n",
       "45   0.784823\n",
       "46   0.801237\n",
       "47   0.818494\n",
       "48   0.834983\n",
       "49   0.851077\n",
       "50   0.866438\n",
       "51   0.880922\n",
       "52   0.895205\n",
       "53   0.908341\n",
       "54   0.920913\n",
       "55   0.923112\n",
       "56   0.931926\n",
       "57   0.940630\n",
       "58   0.948921\n",
       "59   0.955881\n",
       "60   0.962681\n",
       "61   0.968006\n",
       "62   0.972919\n",
       "63   0.977014\n",
       "64   0.980949\n",
       "65   0.981656\n",
       "66   0.984184\n",
       "67   0.986687\n",
       "68   0.988953\n",
       "69   0.991136\n",
       "70   0.992855\n",
       "71   0.993655\n",
       "72   0.994220\n",
       "73   0.994683\n",
       "74   0.995610\n",
       "75   0.995787\n",
       "76   0.996293\n",
       "77   0.996832\n",
       "78   0.997497\n",
       "79   0.997809\n",
       "80   0.998003\n",
       "81   0.998290\n",
       "82   0.998509\n",
       "83   0.998627\n",
       "84   0.998846\n",
       "85   0.998879\n",
       "86   0.998921\n",
       "87   0.999023\n",
       "88   0.999065\n",
       "89   0.999115\n",
       "90   0.999242\n",
       "91   0.999317\n",
       "92   0.999351\n",
       "93   0.999410\n",
       "94   0.999469\n",
       "96   0.999503\n",
       "97   0.999545\n",
       "98   0.999916\n",
       "99   1.000000"
      ]
     },
     "execution_count": 229,
     "metadata": {},
     "output_type": "execute_result"
    }
   ],
   "source": [
    "pd.options.display.max_rows = 100\n",
    "r/118679"
   ]
  },
  {
   "cell_type": "code",
   "execution_count": 1,
   "metadata": {
    "collapsed": false
   },
   "outputs": [
    {
     "data": {
      "text/plain": [
       "0.08576"
      ]
     },
     "execution_count": 1,
     "metadata": {},
     "output_type": "execute_result"
    }
   ],
   "source": [
    "0.195468 - 0.109708\n"
   ]
  },
  {
   "cell_type": "code",
   "execution_count": null,
   "metadata": {
    "collapsed": true
   },
   "outputs": [],
   "source": []
  },
  {
   "cell_type": "code",
   "execution_count": null,
   "metadata": {
    "collapsed": true
   },
   "outputs": [],
   "source": []
  },
  {
   "cell_type": "code",
   "execution_count": null,
   "metadata": {
    "collapsed": true
   },
   "outputs": [],
   "source": []
  },
  {
   "cell_type": "code",
   "execution_count": null,
   "metadata": {
    "collapsed": true
   },
   "outputs": [],
   "source": []
  },
  {
   "cell_type": "code",
   "execution_count": null,
   "metadata": {
    "collapsed": true
   },
   "outputs": [],
   "source": []
  },
  {
   "cell_type": "code",
   "execution_count": null,
   "metadata": {
    "collapsed": true
   },
   "outputs": [],
   "source": []
  },
  {
   "cell_type": "code",
   "execution_count": null,
   "metadata": {
    "collapsed": true
   },
   "outputs": [],
   "source": []
  },
  {
   "cell_type": "code",
   "execution_count": null,
   "metadata": {
    "collapsed": true
   },
   "outputs": [],
   "source": []
  },
  {
   "cell_type": "code",
   "execution_count": null,
   "metadata": {
    "collapsed": true
   },
   "outputs": [],
   "source": []
  },
  {
   "cell_type": "code",
   "execution_count": null,
   "metadata": {
    "collapsed": true
   },
   "outputs": [],
   "source": []
  },
  {
   "cell_type": "code",
   "execution_count": 16,
   "metadata": {
    "collapsed": false,
    "scrolled": false
   },
   "outputs": [],
   "source": [
    "train_df = urls_train_df.merge(age_train_df, on='id', how='left')"
   ]
  },
  {
   "cell_type": "code",
   "execution_count": 17,
   "metadata": {
    "collapsed": false
   },
   "outputs": [
    {
     "data": {
      "text/html": [
       "<div>\n",
       "<table border=\"1\" class=\"dataframe\">\n",
       "  <thead>\n",
       "    <tr style=\"text-align: right;\">\n",
       "      <th></th>\n",
       "      <th>urls</th>\n",
       "      <th>id</th>\n",
       "      <th>age</th>\n",
       "    </tr>\n",
       "  </thead>\n",
       "  <tbody>\n",
       "    <tr>\n",
       "      <th>0</th>\n",
       "      <td>[id.rambler, mail.rambler, r0]</td>\n",
       "      <td>000000013CB5719C0000A2C90002C101</td>\n",
       "      <td>53</td>\n",
       "    </tr>\n",
       "    <tr>\n",
       "      <th>1</th>\n",
       "      <td>[1prime, autorambler, chellak, docs.cntd docs....</td>\n",
       "      <td>00000001442BE24000001B7D00F50801</td>\n",
       "      <td>48</td>\n",
       "    </tr>\n",
       "    <tr>\n",
       "      <th>2</th>\n",
       "      <td>[bosch-korolev]</td>\n",
       "      <td>00000001448580F800003F1B31FB0901</td>\n",
       "      <td>28</td>\n",
       "    </tr>\n",
       "    <tr>\n",
       "      <th>3</th>\n",
       "      <td>[aptekanizkihcen, colady, gorod.dp, i.ovkuse, ...</td>\n",
       "      <td>0000000145BDB2FF000157971645E901</td>\n",
       "      <td>44</td>\n",
       "    </tr>\n",
       "    <tr>\n",
       "      <th>4</th>\n",
       "      <td>[astrorok, diets, edaplus, eshzdorovo, gotovim...</td>\n",
       "      <td>000000014602771F0000DB9359714C01</td>\n",
       "      <td>48</td>\n",
       "    </tr>\n",
       "  </tbody>\n",
       "</table>\n",
       "</div>"
      ],
      "text/plain": [
       "                                                urls  \\\n",
       "0                     [id.rambler, mail.rambler, r0]   \n",
       "1  [1prime, autorambler, chellak, docs.cntd docs....   \n",
       "2                                    [bosch-korolev]   \n",
       "3  [aptekanizkihcen, colady, gorod.dp, i.ovkuse, ...   \n",
       "4  [astrorok, diets, edaplus, eshzdorovo, gotovim...   \n",
       "\n",
       "                                 id  age  \n",
       "0  000000013CB5719C0000A2C90002C101   53  \n",
       "1  00000001442BE24000001B7D00F50801   48  \n",
       "2  00000001448580F800003F1B31FB0901   28  \n",
       "3  0000000145BDB2FF000157971645E901   44  \n",
       "4  000000014602771F0000DB9359714C01   48  "
      ]
     },
     "execution_count": 17,
     "metadata": {},
     "output_type": "execute_result"
    }
   ],
   "source": [
    "train_df.head()"
   ]
  },
  {
   "cell_type": "code",
   "execution_count": 87,
   "metadata": {
    "collapsed": true
   },
   "outputs": [],
   "source": [
    "prob_urls = pd.read_csv('allset_prob_urls.csv')\n",
    "prob_urls20 = pd.read_csv('allset_prob_urls_20.csv')\n",
    "prob_urls100 = pd.read_csv('allset_prob_urls_100.csv')"
   ]
  },
  {
   "cell_type": "markdown",
   "metadata": {},
   "source": [
    "## Снижение размерности"
   ]
  },
  {
   "cell_type": "code",
   "execution_count": 23,
   "metadata": {
    "collapsed": false
   },
   "outputs": [
    {
     "data": {
      "text/html": [
       "<div>\n",
       "<table border=\"1\" class=\"dataframe\">\n",
       "  <thead>\n",
       "    <tr style=\"text-align: right;\">\n",
       "      <th></th>\n",
       "      <th>urls</th>\n",
       "      <th>id</th>\n",
       "      <th>age</th>\n",
       "    </tr>\n",
       "  </thead>\n",
       "  <tbody>\n",
       "    <tr>\n",
       "      <th>0</th>\n",
       "      <td>[id.rambler, mail.rambler, r0]</td>\n",
       "      <td>000000013CB5719C0000A2C90002C101</td>\n",
       "      <td>53</td>\n",
       "    </tr>\n",
       "    <tr>\n",
       "      <th>1</th>\n",
       "      <td>[1prime, autorambler, chellak, docs.cntd docs....</td>\n",
       "      <td>00000001442BE24000001B7D00F50801</td>\n",
       "      <td>48</td>\n",
       "    </tr>\n",
       "    <tr>\n",
       "      <th>2</th>\n",
       "      <td>[bosch-korolev]</td>\n",
       "      <td>00000001448580F800003F1B31FB0901</td>\n",
       "      <td>28</td>\n",
       "    </tr>\n",
       "    <tr>\n",
       "      <th>3</th>\n",
       "      <td>[aptekanizkihcen, colady, gorod.dp, i.ovkuse, ...</td>\n",
       "      <td>0000000145BDB2FF000157971645E901</td>\n",
       "      <td>44</td>\n",
       "    </tr>\n",
       "    <tr>\n",
       "      <th>4</th>\n",
       "      <td>[astrorok, diets, edaplus, eshzdorovo, gotovim...</td>\n",
       "      <td>000000014602771F0000DB9359714C01</td>\n",
       "      <td>48</td>\n",
       "    </tr>\n",
       "  </tbody>\n",
       "</table>\n",
       "</div>"
      ],
      "text/plain": [
       "                                                urls  \\\n",
       "0                     [id.rambler, mail.rambler, r0]   \n",
       "1  [1prime, autorambler, chellak, docs.cntd docs....   \n",
       "2                                    [bosch-korolev]   \n",
       "3  [aptekanizkihcen, colady, gorod.dp, i.ovkuse, ...   \n",
       "4  [astrorok, diets, edaplus, eshzdorovo, gotovim...   \n",
       "\n",
       "                                 id  age  \n",
       "0  000000013CB5719C0000A2C90002C101   53  \n",
       "1  00000001442BE24000001B7D00F50801   48  \n",
       "2  00000001448580F800003F1B31FB0901   28  \n",
       "3  0000000145BDB2FF000157971645E901   44  \n",
       "4  000000014602771F0000DB9359714C01   48  "
      ]
     },
     "execution_count": 23,
     "metadata": {},
     "output_type": "execute_result"
    }
   ],
   "source": [
    "train_df.head()"
   ]
  },
  {
   "cell_type": "code",
   "execution_count": 96,
   "metadata": {
    "collapsed": false
   },
   "outputs": [],
   "source": [
    "X, y = train_df.urls.values, train_df.age.values"
   ]
  },
  {
   "cell_type": "code",
   "execution_count": 97,
   "metadata": {
    "collapsed": false
   },
   "outputs": [
    {
     "data": {
      "text/plain": [
       "array([['id.rambler', 'mail.rambler', 'r0'],\n",
       "       ['1prime', 'autorambler', 'chellak', 'docs.cntd docs.cntd', 'echo.msk echo.msk', 'expert expert expert expert expert expert expert', 'finance.rambler finance.rambler', 'forbes forbes', 'forum.ixbt', 'garant', 'govoritmoskva', 'kommersant', 'kp', 'lenta', 'mait', 'metronews', 'mk', 'news.rambler news.rambler news.rambler news.rambler news.rambler news.rambler news.rambler news.rambler news.rambler news.rambler news.rambler news.rambler news.rambler news.rambler news.rambler news.rambler news.rambler news.rambler news.rambler news.rambler', 'news.smi2', 'norm-load', 'pfr.kirov', 'pfrf', 'photography-on-the', 'realty.rambler', 'ren ren ren ren ren', 'riafan', 'rns rns rns rns rns rns rns rns rns rns rns rns rns', 'rossbanki', 'secretmag', 'tehnorma', 'tiu', 'top68', 'tvc', 'tvzvezda', 'vesti', 'video.rambler video.rambler', 'weekend.rambler'],\n",
       "       ['bosch-korolev'],\n",
       "       ['aptekanizkihcen', 'colady', 'gorod.dp', 'i.ovkuse', 'love.mail love.mail', 'medinform.in', 'nbnews.com', 'podrobnosti', 'segodnya', 'tyzhden tyzhden'],\n",
       "       ['astrorok', 'diets', 'edaplus', 'eshzdorovo', 'gotovim', 'inmoment', 'menslife', 'nostress', 'receptdolgoletia', 'zdorovie-krasnodar', 'zhenskysait']], dtype=object)"
      ]
     },
     "execution_count": 97,
     "metadata": {},
     "output_type": "execute_result"
    }
   ],
   "source": [
    "X[:5]"
   ]
  },
  {
   "cell_type": "code",
   "execution_count": 98,
   "metadata": {
    "collapsed": true
   },
   "outputs": [],
   "source": [
    "X, y = train_df.urls.values, train_df.age.values"
   ]
  },
  {
   "cell_type": "code",
   "execution_count": 99,
   "metadata": {
    "collapsed": false
   },
   "outputs": [
    {
     "name": "stdout",
     "output_type": "stream",
     "text": [
      "CPU times: user 10.8 s, sys: 260 ms, total: 11.1 s\n",
      "Wall time: 11 s\n"
     ]
    }
   ],
   "source": [
    "%%time\n",
    "X = map(lambda x: ' '.join(x), X)\n",
    "hw = HashingVectorizer(n_features=1000, non_negative=True).fit(X)\n",
    "X = hw.transform(X).todense()"
   ]
  },
  {
   "cell_type": "code",
   "execution_count": 100,
   "metadata": {
    "collapsed": false
   },
   "outputs": [
    {
     "data": {
      "text/plain": [
       "(118603, 1000)"
      ]
     },
     "execution_count": 100,
     "metadata": {},
     "output_type": "execute_result"
    }
   ],
   "source": [
    "X.shape"
   ]
  },
  {
   "cell_type": "code",
   "execution_count": 101,
   "metadata": {
    "collapsed": false
   },
   "outputs": [
    {
     "name": "stdout",
     "output_type": "stream",
     "text": [
      "CPU times: user 1h 7min 34s, sys: 35min 11s, total: 1h 42min 46s\n",
      "Wall time: 10min 46s\n"
     ]
    }
   ],
   "source": [
    "%%time\n",
    "transformer = sklearn.decomposition.NMF(n_components=100)\n",
    "X_nmf = transformer.fit_transform(X)"
   ]
  },
  {
   "cell_type": "markdown",
   "metadata": {},
   "source": [
    "## Холдаут"
   ]
  },
  {
   "cell_type": "code",
   "execution_count": 102,
   "metadata": {
    "collapsed": false
   },
   "outputs": [
    {
     "data": {
      "text/plain": [
       "(79068, 39535)"
      ]
     },
     "execution_count": 102,
     "metadata": {},
     "output_type": "execute_result"
    }
   ],
   "source": [
    "itrain, itest = cross_validation.train_test_split(range(len(X)), test_size=1./3, random_state=0)\n",
    "len(itrain), len(itest)"
   ]
  },
  {
   "cell_type": "markdown",
   "metadata": {},
   "source": [
    "## Обучение модели"
   ]
  },
  {
   "cell_type": "raw",
   "metadata": {},
   "source": [
    "Константный бейзлайн"
   ]
  },
  {
   "cell_type": "code",
   "execution_count": 103,
   "metadata": {
    "collapsed": false
   },
   "outputs": [
    {
     "data": {
      "text/plain": [
       "12.546984607126014"
      ]
     },
     "execution_count": 103,
     "metadata": {},
     "output_type": "execute_result"
    }
   ],
   "source": [
    "rmse(y[itest], np.mean(y[itrain]))"
   ]
  },
  {
   "cell_type": "raw",
   "metadata": {},
   "source": [
    "Линейная модель на обычных фичах"
   ]
  },
  {
   "cell_type": "code",
   "execution_count": 104,
   "metadata": {
    "collapsed": false
   },
   "outputs": [],
   "source": [
    "normed = prob_urls[prob_urls.columns[1:-2]].div(prob_urls.all_cnt, axis='rows')\n",
    "normed20 = prob_urls20[prob_urls20.columns[1:-2]].div(prob_urls20.all_cnt, axis='rows')\n",
    "normed100 = prob_urls100[prob_urls100.columns[1:-2]].div(prob_urls100.all_cnt, axis='rows')"
   ]
  },
  {
   "cell_type": "code",
   "execution_count": 105,
   "metadata": {
    "collapsed": false
   },
   "outputs": [
    {
     "data": {
      "text/html": [
       "<div>\n",
       "<table border=\"1\" class=\"dataframe\">\n",
       "  <thead>\n",
       "    <tr style=\"text-align: right;\">\n",
       "      <th></th>\n",
       "      <th>0</th>\n",
       "      <th>1</th>\n",
       "      <th>2</th>\n",
       "      <th>3</th>\n",
       "      <th>4</th>\n",
       "    </tr>\n",
       "  </thead>\n",
       "  <tbody>\n",
       "    <tr>\n",
       "      <th>0</th>\n",
       "      <td>0.058105</td>\n",
       "      <td>0.563029</td>\n",
       "      <td>0.328262</td>\n",
       "      <td>0.048247</td>\n",
       "      <td>0.002357</td>\n",
       "    </tr>\n",
       "    <tr>\n",
       "      <th>1</th>\n",
       "      <td>0.037745</td>\n",
       "      <td>0.438305</td>\n",
       "      <td>0.432725</td>\n",
       "      <td>0.087394</td>\n",
       "      <td>0.003831</td>\n",
       "    </tr>\n",
       "    <tr>\n",
       "      <th>2</th>\n",
       "      <td>0.333333</td>\n",
       "      <td>0.666667</td>\n",
       "      <td>0.000000</td>\n",
       "      <td>0.000000</td>\n",
       "      <td>0.000000</td>\n",
       "    </tr>\n",
       "    <tr>\n",
       "      <th>3</th>\n",
       "      <td>0.045086</td>\n",
       "      <td>0.551354</td>\n",
       "      <td>0.348889</td>\n",
       "      <td>0.053302</td>\n",
       "      <td>0.001369</td>\n",
       "    </tr>\n",
       "    <tr>\n",
       "      <th>4</th>\n",
       "      <td>0.052382</td>\n",
       "      <td>0.615786</td>\n",
       "      <td>0.296990</td>\n",
       "      <td>0.033420</td>\n",
       "      <td>0.001422</td>\n",
       "    </tr>\n",
       "  </tbody>\n",
       "</table>\n",
       "</div>"
      ],
      "text/plain": [
       "          0         1         2         3         4\n",
       "0  0.058105  0.563029  0.328262  0.048247  0.002357\n",
       "1  0.037745  0.438305  0.432725  0.087394  0.003831\n",
       "2  0.333333  0.666667  0.000000  0.000000  0.000000\n",
       "3  0.045086  0.551354  0.348889  0.053302  0.001369\n",
       "4  0.052382  0.615786  0.296990  0.033420  0.001422"
      ]
     },
     "execution_count": 105,
     "metadata": {},
     "output_type": "execute_result"
    }
   ],
   "source": [
    "normed20.head()"
   ]
  },
  {
   "cell_type": "code",
   "execution_count": 119,
   "metadata": {
    "collapsed": false
   },
   "outputs": [],
   "source": [
    "X2 = np.hstack([X, normed])"
   ]
  },
  {
   "cell_type": "code",
   "execution_count": 120,
   "metadata": {
    "collapsed": false
   },
   "outputs": [
    {
     "name": "stdout",
     "output_type": "stream",
     "text": [
      "CPU times: user 1min 2s, sys: 2min 2s, total: 3min 5s\n",
      "Wall time: 15.2 s\n"
     ]
    }
   ],
   "source": [
    "%%time\n",
    "reg = LinearRegression(n_jobs=-1)\n",
    "reg.fit(X2[itrain, :], y[itrain])\n",
    "\n",
    "pred_X = reg.predict(X2[itest, :])"
   ]
  },
  {
   "cell_type": "code",
   "execution_count": 121,
   "metadata": {
    "collapsed": false
   },
   "outputs": [
    {
     "name": "stdout",
     "output_type": "stream",
     "text": [
      "11.8517982642\n"
     ]
    }
   ],
   "source": [
    "print rmse(y[itest], pred_X)"
   ]
  },
  {
   "cell_type": "raw",
   "metadata": {},
   "source": [
    "Линейная модель на NMF от обычных фичей"
   ]
  },
  {
   "cell_type": "code",
   "execution_count": 131,
   "metadata": {
    "collapsed": true
   },
   "outputs": [],
   "source": [
    "X_nmf2 = np.hstack([X_nmf, normed])"
   ]
  },
  {
   "cell_type": "code",
   "execution_count": 132,
   "metadata": {
    "collapsed": false,
    "scrolled": false
   },
   "outputs": [
    {
     "name": "stdout",
     "output_type": "stream",
     "text": [
      "11.8895259047\n"
     ]
    }
   ],
   "source": [
    "reg = LinearRegression()\n",
    "reg.fit(X_nmf2[itrain, :], y[itrain])\n",
    "\n",
    "pred_X_nmf = reg.predict(X_nmf2[itest, :])\n",
    "print rmse(y[itest], pred_X_nmf)"
   ]
  },
  {
   "cell_type": "raw",
   "metadata": {},
   "source": [
    "Линейная комбинация"
   ]
  },
  {
   "cell_type": "code",
   "execution_count": 133,
   "metadata": {
    "collapsed": false,
    "scrolled": true
   },
   "outputs": [
    {
     "name": "stdout",
     "output_type": "stream",
     "text": [
      "11.8229322719\n"
     ]
    },
    {
     "data": {
      "image/png": "[encoded data removed]",
      "text/plain": [
       "<matplotlib.figure.Figure at 0xff863d0>"
      ]
     },
     "metadata": {},
     "output_type": "display_data"
    }
   ],
   "source": [
    "error = []\n",
    "for w in np.linspace(0, 1, 101):\n",
    "     error += [rmse(y[itest], pred_X * w + (1-w) * pred_X_nmf)]\n",
    "\n",
    "pd.Series(error, index=np.linspace(0, 1, 101)).plot(figsize=(6,3))\n",
    "print min(error)"
   ]
  },
  {
   "cell_type": "code",
   "execution_count": null,
   "metadata": {
    "collapsed": true
   },
   "outputs": [],
   "source": [
    "w = 0.6\n",
    "\n",
    "pred_X * w + (1-w) * pred_X_nmf\n"
   ]
  },
  {
   "cell_type": "markdown",
   "metadata": {},
   "source": [
    "## Blenging с помощью heamy\n",
    "pip install heamy\n",
    "\n",
    "https://github.com/rushter/heamy"
   ]
  },
  {
   "cell_type": "code",
   "execution_count": 58,
   "metadata": {
    "collapsed": false
   },
   "outputs": [],
   "source": [
    "from sklearn import pipeline, preprocessing, feature_extraction"
   ]
  },
  {
   "cell_type": "code",
   "execution_count": 60,
   "metadata": {
    "collapsed": false,
    "scrolled": true
   },
   "outputs": [],
   "source": [
    "#%%time\n",
    "\n",
    "dataset1 = Dataset(X[itrain, :], y[itrain], X[itest, :]) # обычный датасет\n",
    "\n",
    "dataset2 = Dataset(X_nmf[itrain, :], y[itrain], X_nmf[itest, :]) # NMF\n",
    "\n",
    "\n",
    "# линейная модель на обычных данных\n",
    "lr = Regressor(dataset=dataset1, \n",
    "                     estimator=linear_model.LinearRegression,\n",
    "                     parameters={'normalize': True},\n",
    "                     name='lr')\n",
    "\n",
    "# линейная модель на TFIDF от обычных данных\n",
    "def tfidf_lr_(X_train, y_train, X_test, y_test=None, random_state=8888):\n",
    "    model = pipeline.Pipeline([('tfidf', feature_extraction.text.TfidfTransformer()), \n",
    "                                ('linear_model', linear_model.LinearRegression())])\n",
    "    model.fit(X_train, y_train)\n",
    "    return model.predict(X_test)\n",
    "\n",
    "tfidf_lr = Regressor(dataset=dataset1,\n",
    "                     estimator=tfidf_lr_,\n",
    "                     name='tfidf_lr')\n",
    "\n",
    "\"\"\"xgb_regr1 = Regressor(dataset=dataset1, \n",
    "                     estimator=xgb.XGBRegressor,\n",
    "                     parameters={'n_estimators': 1500, 'max_depth':5, 'learning_rate': 0.03,\n",
    "                                'subsample': 0.6, 'colsample_bytree': 0.9, 'colsample_bylevel':0.7},\n",
    "                     name='xgb_regr1')\"\"\"\n",
    "\n",
    "# ExtraTrees на NMF\n",
    "rf = Regressor(dataset=dataset2, \n",
    "                     estimator=ensemble.ExtraTreesRegressor,\n",
    "                     parameters={'n_estimators': 100, 'n_jobs': -1},\n",
    "                     name='rf')\n",
    "\n",
    "\"\"\"xgb_regr2 = Regressor(dataset=dataset2, \n",
    "                     estimator=xgb.XGBRegressor,\n",
    "                     parameters={'n_estimators': 5000, 'max_depth':3, 'learning_rate': 0.01,\n",
    "                                'subsample': 0.6, 'colsample_bytree': 0.9, 'colsample_bylevel':0.7},\n",
    "                     name='xgb_regr2')\n",
    "\"\"\"\n",
    "# Stack four models\n",
    "# Returns new dataset with out-of-fold predictions\n",
    "meta_pipeline = ModelsPipeline(lr, tfidf_lr,rf)\n",
    "stack_ds = meta_pipeline.blend(proportion=0.2,seed=111)\n",
    "\n",
    "# Train LinearRegression on stacked data (second stage)\n",
    "stacker = Regressor(dataset=stack_ds, estimator=LinearRegression)\n",
    "results = stacker.predict()"
   ]
  },
  {
   "cell_type": "code",
   "execution_count": 61,
   "metadata": {
    "collapsed": false
   },
   "outputs": [
    {
     "name": "stdout",
     "output_type": "stream",
     "text": [
      "ok\n"
     ]
    }
   ],
   "source": [
    "print 'ok'"
   ]
  },
  {
   "cell_type": "code",
   "execution_count": 62,
   "metadata": {
    "collapsed": false
   },
   "outputs": [
    {
     "name": "stdout",
     "output_type": "stream",
     "text": [
      "11.7088339144\n"
     ]
    }
   ],
   "source": [
    "print rmse(y[itest], results)"
   ]
  },
  {
   "cell_type": "code",
   "execution_count": null,
   "metadata": {
    "collapsed": true
   },
   "outputs": [],
   "source": []
  },
  {
   "cell_type": "code",
   "execution_count": null,
   "metadata": {
    "collapsed": true
   },
   "outputs": [],
   "source": []
  },
  {
   "cell_type": "code",
   "execution_count": 117,
   "metadata": {
    "collapsed": false,
    "scrolled": true
   },
   "outputs": [
    {
     "data": {
      "text/html": [
       "<div>\n",
       "<table border=\"1\" class=\"dataframe\">\n",
       "  <thead>\n",
       "    <tr style=\"text-align: right;\">\n",
       "      <th></th>\n",
       "      <th>0</th>\n",
       "      <th>1</th>\n",
       "      <th>2</th>\n",
       "      <th>3</th>\n",
       "      <th>4</th>\n",
       "    </tr>\n",
       "  </thead>\n",
       "  <tbody>\n",
       "    <tr>\n",
       "      <th>0</th>\n",
       "      <td>33.167411</td>\n",
       "      <td>32.573229</td>\n",
       "      <td>32.357552</td>\n",
       "      <td>32.223092</td>\n",
       "      <td>32.626858</td>\n",
       "    </tr>\n",
       "    <tr>\n",
       "      <th>1</th>\n",
       "      <td>36.701791</td>\n",
       "      <td>37.685494</td>\n",
       "      <td>38.468842</td>\n",
       "      <td>40.220000</td>\n",
       "      <td>41.834999</td>\n",
       "    </tr>\n",
       "    <tr>\n",
       "      <th>2</th>\n",
       "      <td>42.919375</td>\n",
       "      <td>45.058823</td>\n",
       "      <td>44.136963</td>\n",
       "      <td>41.352000</td>\n",
       "      <td>44.891705</td>\n",
       "    </tr>\n",
       "    <tr>\n",
       "      <th>3</th>\n",
       "      <td>34.676553</td>\n",
       "      <td>35.206553</td>\n",
       "      <td>35.601051</td>\n",
       "      <td>31.890000</td>\n",
       "      <td>31.693237</td>\n",
       "    </tr>\n",
       "    <tr>\n",
       "      <th>4</th>\n",
       "      <td>40.021339</td>\n",
       "      <td>40.215771</td>\n",
       "      <td>40.047886</td>\n",
       "      <td>35.370000</td>\n",
       "      <td>34.146587</td>\n",
       "    </tr>\n",
       "  </tbody>\n",
       "</table>\n",
       "</div>"
      ],
      "text/plain": [
       "           0          1          2          3          4\n",
       "0  33.167411  32.573229  32.357552  32.223092  32.626858\n",
       "1  36.701791  37.685494  38.468842  40.220000  41.834999\n",
       "2  42.919375  45.058823  44.136963  41.352000  44.891705\n",
       "3  34.676553  35.206553  35.601051  31.890000  31.693237\n",
       "4  40.021339  40.215771  40.047886  35.370000  34.146587"
      ]
     },
     "execution_count": 117,
     "metadata": {},
     "output_type": "execute_result"
    }
   ],
   "source": [
    "stack_ds.X_train.head()"
   ]
  },
  {
   "cell_type": "code",
   "execution_count": null,
   "metadata": {
    "collapsed": true
   },
   "outputs": [],
   "source": []
  },
  {
   "cell_type": "code",
   "execution_count": 107,
   "metadata": {
    "collapsed": false,
    "scrolled": true
   },
   "outputs": [
    {
     "data": {
      "text/plain": [
       "array([ 35.58590565,  35.9381726 ,  36.49681817,  33.0223584 ,\n",
       "        35.9381726 ,  41.72288112,  35.82528573,  35.73381191,\n",
       "        32.12228247,  36.9305902 ])"
      ]
     },
     "execution_count": 107,
     "metadata": {},
     "output_type": "execute_result"
    }
   ],
   "source": [
    "results[:10]"
   ]
  },
  {
   "cell_type": "markdown",
   "metadata": {},
   "source": [
    "parameter tuning"
   ]
  },
  {
   "cell_type": "code",
   "execution_count": 134,
   "metadata": {
    "collapsed": true
   },
   "outputs": [],
   "source": [
    "param = {}\n",
    "param['max_depth'] = 5\n",
    "param['booster'] = 'gbtree'\n",
    "param['objective'] = 'reg:linear'\n",
    "param['eval_metric'] = 'rmse'\n",
    "param['eta'] = 0.01\n",
    "param['subsample'] = 0.6\n",
    "param['colsample_bytree'] = 0.9\n",
    "param['colsample_bylevel'] = 0.7\n",
    "\"\"\"param['min_child_weight'] = 1\n",
    "param['gamma'] = 0.1\n",
    "param['reg_alpha'] = 1e-05\n",
    "param['scale_pos_weight'] = 1\"\"\"\n",
    "\n",
    "numround = 1000"
   ]
  },
  {
   "cell_type": "code",
   "execution_count": 135,
   "metadata": {
    "collapsed": false
   },
   "outputs": [],
   "source": [
    "X_all_datatrain = xgb.DMatrix(stack_ds.X_train, label = stack_ds.y_train)"
   ]
  },
  {
   "cell_type": "code",
   "execution_count": 136,
   "metadata": {
    "collapsed": false,
    "scrolled": true
   },
   "outputs": [
    {
     "name": "stdout",
     "output_type": "stream",
     "text": [
      "[0]\ttrain-rmse:37.3736+0.128331\ttest-rmse:37.3733+0.262893\n",
      "[10]\ttrain-rmse:34.1734+0.115152\ttest-rmse:34.178+0.272762\n",
      "[20]\ttrain-rmse:31.3115+0.105381\ttest-rmse:31.3212+0.280507\n",
      "[30]\ttrain-rmse:28.7588+0.0963254\ttest-rmse:28.7754+0.285157\n",
      "[40]\ttrain-rmse:26.4907+0.0886859\ttest-rmse:26.5161+0.288185\n",
      "[50]\ttrain-rmse:24.4706+0.0779949\ttest-rmse:24.5059+0.294173\n",
      "[60]\ttrain-rmse:22.684+0.0710022\ttest-rmse:22.7306+0.295201\n",
      "[70]\ttrain-rmse:21.1081+0.065187\ttest-rmse:21.1669+0.294361\n",
      "[80]\ttrain-rmse:19.7226+0.0590204\ttest-rmse:19.7955+0.294638\n",
      "[90]\ttrain-rmse:18.5114+0.0571258\ttest-rmse:18.5979+0.289914\n",
      "[100]\ttrain-rmse:17.4559+0.0554815\ttest-rmse:17.5572+0.284698\n",
      "[110]\ttrain-rmse:16.5398+0.0551697\ttest-rmse:16.6574+0.278598\n",
      "[120]\ttrain-rmse:15.7487+0.0526917\ttest-rmse:15.8824+0.269143\n",
      "[130]\ttrain-rmse:15.0685+0.0515516\ttest-rmse:15.2185+0.259684\n",
      "[140]\ttrain-rmse:14.4853+0.0532131\ttest-rmse:14.6517+0.249776\n",
      "[150]\ttrain-rmse:13.9879+0.0534115\ttest-rmse:14.1705+0.24049\n",
      "[160]\ttrain-rmse:13.5673+0.0554089\ttest-rmse:13.7656+0.230531\n",
      "[170]\ttrain-rmse:13.2121+0.0567155\ttest-rmse:13.4268+0.221411\n",
      "[180]\ttrain-rmse:12.9114+0.0575082\ttest-rmse:13.1415+0.212489\n",
      "[190]\ttrain-rmse:12.6581+0.057457\ttest-rmse:12.9034+0.204107\n",
      "[200]\ttrain-rmse:12.445+0.0575216\ttest-rmse:12.7049+0.195847\n",
      "[210]\ttrain-rmse:12.268+0.0563502\ttest-rmse:12.5424+0.187815\n",
      "[220]\ttrain-rmse:12.1188+0.0569306\ttest-rmse:12.4074+0.179882\n",
      "[230]\ttrain-rmse:11.9936+0.0576688\ttest-rmse:12.2951+0.172799\n",
      "[240]\ttrain-rmse:11.8889+0.0576879\ttest-rmse:12.2024+0.166433\n",
      "[250]\ttrain-rmse:11.8004+0.0577509\ttest-rmse:12.1263+0.160379\n",
      "[260]\ttrain-rmse:11.7267+0.0584392\ttest-rmse:12.0632+0.154982\n",
      "[270]\ttrain-rmse:11.6635+0.0581905\ttest-rmse:12.012+0.151477\n",
      "[280]\ttrain-rmse:11.6102+0.0583814\ttest-rmse:11.9703+0.14794\n",
      "[290]\ttrain-rmse:11.5644+0.0594417\ttest-rmse:11.9357+0.145073\n",
      "[300]\ttrain-rmse:11.5258+0.0595459\ttest-rmse:11.9074+0.142114\n",
      "[310]\ttrain-rmse:11.4931+0.0581368\ttest-rmse:11.8844+0.140291\n",
      "[320]\ttrain-rmse:11.4636+0.0586979\ttest-rmse:11.8642+0.137795\n",
      "[330]\ttrain-rmse:11.4381+0.0584695\ttest-rmse:11.8488+0.136181\n",
      "[340]\ttrain-rmse:11.4164+0.0580317\ttest-rmse:11.836+0.134349\n",
      "[350]\ttrain-rmse:11.3971+0.0580402\ttest-rmse:11.8263+0.132202\n",
      "[360]\ttrain-rmse:11.3796+0.0578668\ttest-rmse:11.8177+0.131047\n",
      "[370]\ttrain-rmse:11.3644+0.0577856\ttest-rmse:11.811+0.130469\n",
      "[380]\ttrain-rmse:11.351+0.0585292\ttest-rmse:11.8064+0.12959\n",
      "[390]\ttrain-rmse:11.338+0.0588374\ttest-rmse:11.8022+0.128767\n",
      "[400]\ttrain-rmse:11.3269+0.059344\ttest-rmse:11.7983+0.127859\n",
      "[410]\ttrain-rmse:11.3158+0.0588251\ttest-rmse:11.7965+0.127185\n",
      "[420]\ttrain-rmse:11.3051+0.0590067\ttest-rmse:11.7952+0.126633\n",
      "[430]\ttrain-rmse:11.2951+0.0580913\ttest-rmse:11.7936+0.125843\n",
      "[440]\ttrain-rmse:11.2861+0.058304\ttest-rmse:11.7926+0.125467\n",
      "[450]\ttrain-rmse:11.2776+0.0581471\ttest-rmse:11.7922+0.125202\n",
      "[460]\ttrain-rmse:11.2684+0.0573319\ttest-rmse:11.7929+0.124486\n",
      "[470]\ttrain-rmse:11.2598+0.0566151\ttest-rmse:11.7924+0.124184\n",
      "[480]\ttrain-rmse:11.2516+0.0566237\ttest-rmse:11.7923+0.124183\n",
      "[490]\ttrain-rmse:11.2441+0.0564009\ttest-rmse:11.7921+0.124488\n",
      "[500]\ttrain-rmse:11.2363+0.0566323\ttest-rmse:11.7921+0.124716\n",
      "[510]\ttrain-rmse:11.2286+0.056367\ttest-rmse:11.7925+0.12444\n",
      "[520]\ttrain-rmse:11.2202+0.0565251\ttest-rmse:11.7927+0.123631\n",
      "[530]\ttrain-rmse:11.2134+0.0563469\ttest-rmse:11.7939+0.123742\n",
      "[540]\ttrain-rmse:11.2063+0.0555555\ttest-rmse:11.7949+0.122552\n",
      "[550]\ttrain-rmse:11.1985+0.0550332\ttest-rmse:11.7953+0.122164\n",
      "[560]\ttrain-rmse:11.1904+0.0543823\ttest-rmse:11.796+0.122129\n",
      "[570]\ttrain-rmse:11.1833+0.0545634\ttest-rmse:11.7967+0.121458\n",
      "[580]\ttrain-rmse:11.176+0.0549259\ttest-rmse:11.7975+0.121708\n",
      "[590]\ttrain-rmse:11.1684+0.0549352\ttest-rmse:11.7985+0.121453\n",
      "[600]\ttrain-rmse:11.1609+0.0550516\ttest-rmse:11.7987+0.121625\n",
      "[610]\ttrain-rmse:11.1535+0.0546048\ttest-rmse:11.7993+0.121747\n",
      "[620]\ttrain-rmse:11.1459+0.0543506\ttest-rmse:11.8002+0.1223\n",
      "[630]\ttrain-rmse:11.1373+0.0535735\ttest-rmse:11.8014+0.122152\n",
      "[640]\ttrain-rmse:11.1301+0.0542519\ttest-rmse:11.8026+0.122375\n",
      "[650]\ttrain-rmse:11.1225+0.0530209\ttest-rmse:11.803+0.122572\n",
      "[660]\ttrain-rmse:11.116+0.0533869\ttest-rmse:11.8038+0.122887\n",
      "[670]\ttrain-rmse:11.109+0.0535946\ttest-rmse:11.8044+0.123215\n",
      "[680]\ttrain-rmse:11.1018+0.0531693\ttest-rmse:11.8058+0.123004\n",
      "[690]\ttrain-rmse:11.0937+0.0532908\ttest-rmse:11.8071+0.122985\n",
      "[700]\ttrain-rmse:11.0873+0.0527939\ttest-rmse:11.808+0.123069\n",
      "[710]\ttrain-rmse:11.0807+0.0524973\ttest-rmse:11.8088+0.123145\n",
      "[720]\ttrain-rmse:11.0735+0.052419\ttest-rmse:11.8092+0.123625\n",
      "[730]\ttrain-rmse:11.067+0.0522637\ttest-rmse:11.8097+0.123786\n",
      "[740]\ttrain-rmse:11.0606+0.0524406\ttest-rmse:11.8104+0.123776\n",
      "[750]\ttrain-rmse:11.0537+0.0523208\ttest-rmse:11.8115+0.124139\n",
      "[760]\ttrain-rmse:11.0461+0.0529992\ttest-rmse:11.812+0.123709\n",
      "[770]\ttrain-rmse:11.0394+0.053343\ttest-rmse:11.8128+0.123654\n",
      "[780]\ttrain-rmse:11.033+0.0538779\ttest-rmse:11.8133+0.124072\n",
      "[790]\ttrain-rmse:11.0257+0.0538817\ttest-rmse:11.8148+0.124168\n",
      "[800]\ttrain-rmse:11.0191+0.054094\ttest-rmse:11.8156+0.124335\n",
      "[810]\ttrain-rmse:11.0123+0.0543091\ttest-rmse:11.8169+0.1246\n",
      "[820]\ttrain-rmse:11.0053+0.0547456\ttest-rmse:11.818+0.125211\n",
      "[830]\ttrain-rmse:10.9979+0.0548238\ttest-rmse:11.8193+0.125318\n",
      "[840]\ttrain-rmse:10.9915+0.0549809\ttest-rmse:11.8201+0.1255\n",
      "[850]\ttrain-rmse:10.9855+0.0551686\ttest-rmse:11.8209+0.125607\n",
      "[860]\ttrain-rmse:10.9783+0.0545929\ttest-rmse:11.8217+0.125312\n",
      "[870]\ttrain-rmse:10.972+0.053948\ttest-rmse:11.8225+0.124774\n",
      "[880]\ttrain-rmse:10.9652+0.0538466\ttest-rmse:11.8229+0.124611\n",
      "[890]\ttrain-rmse:10.9572+0.0540591\ttest-rmse:11.8237+0.124812\n",
      "[900]\ttrain-rmse:10.9499+0.0539774\ttest-rmse:11.8246+0.125187\n",
      "[910]\ttrain-rmse:10.9429+0.0547116\ttest-rmse:11.8251+0.125321\n",
      "[920]\ttrain-rmse:10.9367+0.0544717\ttest-rmse:11.8257+0.125476\n",
      "[930]\ttrain-rmse:10.9301+0.0549065\ttest-rmse:11.8265+0.125484\n",
      "[940]\ttrain-rmse:10.9241+0.0544141\ttest-rmse:11.8272+0.125083\n",
      "[950]\ttrain-rmse:10.918+0.0544905\ttest-rmse:11.828+0.125186\n",
      "[960]\ttrain-rmse:10.912+0.0546724\ttest-rmse:11.8284+0.125233\n",
      "[970]\ttrain-rmse:10.9042+0.0546736\ttest-rmse:11.8291+0.125372\n",
      "[980]\ttrain-rmse:10.8976+0.0554248\ttest-rmse:11.8297+0.125298\n",
      "[990]\ttrain-rmse:10.8913+0.0553755\ttest-rmse:11.8305+0.125549\n",
      "[1000]\ttrain-rmse:10.8844+0.0551031\ttest-rmse:11.8309+0.125875\n",
      "[1010]\ttrain-rmse:10.878+0.0549895\ttest-rmse:11.8317+0.125683\n",
      "[1020]\ttrain-rmse:10.872+0.0548486\ttest-rmse:11.8328+0.124956\n",
      "[1030]\ttrain-rmse:10.8648+0.0552399\ttest-rmse:11.8338+0.124595\n",
      "[1040]\ttrain-rmse:10.8578+0.055054\ttest-rmse:11.8349+0.124563\n",
      "[1050]\ttrain-rmse:10.851+0.055596\ttest-rmse:11.8357+0.124954\n",
      "[1060]\ttrain-rmse:10.8442+0.0550898\ttest-rmse:11.8367+0.125041\n",
      "[1070]\ttrain-rmse:10.8378+0.0554764\ttest-rmse:11.8374+0.125171\n",
      "[1080]\ttrain-rmse:10.8314+0.0548233\ttest-rmse:11.8383+0.124853\n",
      "[1090]\ttrain-rmse:10.8252+0.0548648\ttest-rmse:11.8397+0.125256\n",
      "[1100]\ttrain-rmse:10.8184+0.0551495\ttest-rmse:11.8405+0.125239\n",
      "[1110]\ttrain-rmse:10.812+0.0556672\ttest-rmse:11.8411+0.125128\n",
      "[1120]\ttrain-rmse:10.805+0.0559234\ttest-rmse:11.8417+0.124838\n",
      "[1130]\ttrain-rmse:10.7976+0.0555019\ttest-rmse:11.8423+0.125539\n",
      "[1140]\ttrain-rmse:10.7907+0.0545763\ttest-rmse:11.8433+0.125463\n",
      "[1150]\ttrain-rmse:10.7844+0.0539173\ttest-rmse:11.8438+0.125646\n",
      "[1160]\ttrain-rmse:10.7777+0.0534917\ttest-rmse:11.8445+0.125831\n",
      "[1170]\ttrain-rmse:10.7705+0.0533877\ttest-rmse:11.8452+0.125804\n",
      "[1180]\ttrain-rmse:10.7642+0.0537446\ttest-rmse:11.8455+0.126003\n",
      "[1190]\ttrain-rmse:10.7575+0.0541209\ttest-rmse:11.8465+0.125789\n",
      "[1200]\ttrain-rmse:10.7509+0.0539474\ttest-rmse:11.8475+0.12589\n",
      "[1210]\ttrain-rmse:10.7438+0.0541404\ttest-rmse:11.8487+0.125991\n",
      "[1220]\ttrain-rmse:10.737+0.0541772\ttest-rmse:11.8497+0.125933\n",
      "[1230]\ttrain-rmse:10.7305+0.0545579\ttest-rmse:11.8507+0.125544\n",
      "[1240]\ttrain-rmse:10.724+0.0544661\ttest-rmse:11.851+0.125626\n",
      "[1250]\ttrain-rmse:10.7179+0.0542099\ttest-rmse:11.8519+0.12563\n",
      "[1260]\ttrain-rmse:10.7115+0.0545862\ttest-rmse:11.8526+0.125931\n",
      "[1270]\ttrain-rmse:10.7052+0.0549492\ttest-rmse:11.8531+0.125604\n",
      "[1280]\ttrain-rmse:10.6986+0.0546958\ttest-rmse:11.8536+0.125815\n",
      "[1290]\ttrain-rmse:10.6924+0.0543972\ttest-rmse:11.8547+0.125737\n",
      "[1300]\ttrain-rmse:10.6854+0.0544871\ttest-rmse:11.8552+0.125661\n",
      "[1310]\ttrain-rmse:10.6791+0.0546905\ttest-rmse:11.8557+0.125496\n",
      "[1320]\ttrain-rmse:10.6736+0.054875\ttest-rmse:11.8561+0.125531\n",
      "[1330]\ttrain-rmse:10.6668+0.054295\ttest-rmse:11.8568+0.125257\n",
      "[1340]\ttrain-rmse:10.6609+0.0538502\ttest-rmse:11.8579+0.124994\n",
      "[1350]\ttrain-rmse:10.6551+0.0537497\ttest-rmse:11.8589+0.124866\n",
      "[1360]\ttrain-rmse:10.6486+0.0537393\ttest-rmse:11.8589+0.12447\n",
      "[1370]\ttrain-rmse:10.6427+0.0544696\ttest-rmse:11.8597+0.124325\n",
      "[1380]\ttrain-rmse:10.6371+0.0543985\ttest-rmse:11.8602+0.124656\n",
      "[1390]\ttrain-rmse:10.6311+0.0543551\ttest-rmse:11.8607+0.124712\n",
      "[1400]\ttrain-rmse:10.6251+0.0548108\ttest-rmse:11.8612+0.124119\n",
      "[1410]\ttrain-rmse:10.6186+0.054956\ttest-rmse:11.862+0.12363\n",
      "[1420]\ttrain-rmse:10.6122+0.0557722\ttest-rmse:11.8625+0.123293\n",
      "[1430]\ttrain-rmse:10.6066+0.0561606\ttest-rmse:11.8633+0.123121\n",
      "[1440]\ttrain-rmse:10.6009+0.0560454\ttest-rmse:11.8648+0.123428\n",
      "[1450]\ttrain-rmse:10.5954+0.0562114\ttest-rmse:11.8653+0.123306\n",
      "[1460]\ttrain-rmse:10.5893+0.0552805\ttest-rmse:11.8657+0.123679\n",
      "[1470]\ttrain-rmse:10.583+0.0546063\ttest-rmse:11.8664+0.123425\n",
      "[1480]\ttrain-rmse:10.5769+0.0546672\ttest-rmse:11.8676+0.123359\n",
      "[1490]\ttrain-rmse:10.5711+0.0553467\ttest-rmse:11.8685+0.123033\n",
      "[1500]\ttrain-rmse:10.5653+0.0556037\ttest-rmse:11.8696+0.123413\n",
      "[1510]\ttrain-rmse:10.5581+0.0557843\ttest-rmse:11.871+0.123077\n",
      "[1520]\ttrain-rmse:10.5519+0.0550662\ttest-rmse:11.872+0.122895\n",
      "[1530]\ttrain-rmse:10.5456+0.0553456\ttest-rmse:11.8728+0.123083\n",
      "[1540]\ttrain-rmse:10.5395+0.0554375\ttest-rmse:11.8731+0.123556\n"
     ]
    },
    {
     "ename": "KeyboardInterrupt",
     "evalue": "",
     "output_type": "error",
     "traceback": [
      "\u001b[0;31m---------------------------------------------------------------------------\u001b[0m",
      "\u001b[0;31mKeyboardInterrupt\u001b[0m                         Traceback (most recent call last)",
      "\u001b[0;32m<ipython-input-136-a8251105fa0f>\u001b[0m in \u001b[0;36m<module>\u001b[0;34m()\u001b[0m\n\u001b[0;32m----> 1\u001b[0;31m \u001b[0mxgb\u001b[0m\u001b[0;34m.\u001b[0m\u001b[0mcv\u001b[0m\u001b[0;34m(\u001b[0m\u001b[0mparam\u001b[0m\u001b[0;34m,\u001b[0m \u001b[0mX_all_datatrain\u001b[0m\u001b[0;34m,\u001b[0m \u001b[0mnum_boost_round\u001b[0m\u001b[0;34m=\u001b[0m\u001b[0;36m5000\u001b[0m\u001b[0;34m,\u001b[0m \u001b[0mnfold\u001b[0m\u001b[0;34m=\u001b[0m\u001b[0;36m3\u001b[0m\u001b[0;34m,\u001b[0m \u001b[0mmetrics\u001b[0m\u001b[0;34m=\u001b[0m\u001b[0;34m\"rmse\"\u001b[0m\u001b[0;34m,\u001b[0m        \u001b[0mverbose_eval\u001b[0m\u001b[0;34m=\u001b[0m\u001b[0;36m10\u001b[0m\u001b[0;34m,\u001b[0m \u001b[0mas_pandas\u001b[0m\u001b[0;34m=\u001b[0m\u001b[0mFalse\u001b[0m\u001b[0;34m,\u001b[0m \u001b[0mseed\u001b[0m\u001b[0;34m=\u001b[0m\u001b[0;36m27\u001b[0m\u001b[0;34m)\u001b[0m\u001b[0;34m\u001b[0m\u001b[0m\n\u001b[0m",
      "\u001b[0;32m/home/y.romanikhin/.virtualenvs/venv/lib/python2.7/site-packages/xgboost/training.pyc\u001b[0m in \u001b[0;36mcv\u001b[0;34m(params, dtrain, num_boost_round, nfold, stratified, folds, metrics, obj, feval, maximize, early_stopping_rounds, fpreproc, as_pandas, verbose_eval, show_stdv, seed, callbacks)\u001b[0m\n\u001b[1;32m    398\u001b[0m                            evaluation_result_list=None))\n\u001b[1;32m    399\u001b[0m         \u001b[0;32mfor\u001b[0m \u001b[0mfold\u001b[0m \u001b[0;32min\u001b[0m \u001b[0mcvfolds\u001b[0m\u001b[0;34m:\u001b[0m\u001b[0;34m\u001b[0m\u001b[0m\n\u001b[0;32m--> 400\u001b[0;31m             \u001b[0mfold\u001b[0m\u001b[0;34m.\u001b[0m\u001b[0mupdate\u001b[0m\u001b[0;34m(\u001b[0m\u001b[0mi\u001b[0m\u001b[0;34m,\u001b[0m \u001b[0mobj\u001b[0m\u001b[0;34m)\u001b[0m\u001b[0;34m\u001b[0m\u001b[0m\n\u001b[0m\u001b[1;32m    401\u001b[0m         \u001b[0mres\u001b[0m \u001b[0;34m=\u001b[0m \u001b[0maggcv\u001b[0m\u001b[0;34m(\u001b[0m\u001b[0;34m[\u001b[0m\u001b[0mf\u001b[0m\u001b[0;34m.\u001b[0m\u001b[0meval\u001b[0m\u001b[0;34m(\u001b[0m\u001b[0mi\u001b[0m\u001b[0;34m,\u001b[0m \u001b[0mfeval\u001b[0m\u001b[0;34m)\u001b[0m \u001b[0;32mfor\u001b[0m \u001b[0mf\u001b[0m \u001b[0;32min\u001b[0m \u001b[0mcvfolds\u001b[0m\u001b[0;34m]\u001b[0m\u001b[0;34m)\u001b[0m\u001b[0;34m\u001b[0m\u001b[0m\n\u001b[1;32m    402\u001b[0m \u001b[0;34m\u001b[0m\u001b[0m\n",
      "\u001b[0;32m/home/y.romanikhin/.virtualenvs/venv/lib/python2.7/site-packages/xgboost/training.pyc\u001b[0m in \u001b[0;36mupdate\u001b[0;34m(self, iteration, fobj)\u001b[0m\n\u001b[1;32m    217\u001b[0m     \u001b[0;32mdef\u001b[0m \u001b[0mupdate\u001b[0m\u001b[0;34m(\u001b[0m\u001b[0mself\u001b[0m\u001b[0;34m,\u001b[0m \u001b[0miteration\u001b[0m\u001b[0;34m,\u001b[0m \u001b[0mfobj\u001b[0m\u001b[0;34m)\u001b[0m\u001b[0;34m:\u001b[0m\u001b[0;34m\u001b[0m\u001b[0m\n\u001b[1;32m    218\u001b[0m         \u001b[0;34m\"\"\"\"Update the boosters for one iteration\"\"\"\u001b[0m\u001b[0;34m\u001b[0m\u001b[0m\n\u001b[0;32m--> 219\u001b[0;31m         \u001b[0mself\u001b[0m\u001b[0;34m.\u001b[0m\u001b[0mbst\u001b[0m\u001b[0;34m.\u001b[0m\u001b[0mupdate\u001b[0m\u001b[0;34m(\u001b[0m\u001b[0mself\u001b[0m\u001b[0;34m.\u001b[0m\u001b[0mdtrain\u001b[0m\u001b[0;34m,\u001b[0m \u001b[0miteration\u001b[0m\u001b[0;34m,\u001b[0m \u001b[0mfobj\u001b[0m\u001b[0;34m)\u001b[0m\u001b[0;34m\u001b[0m\u001b[0m\n\u001b[0m\u001b[1;32m    220\u001b[0m \u001b[0;34m\u001b[0m\u001b[0m\n\u001b[1;32m    221\u001b[0m     \u001b[0;32mdef\u001b[0m \u001b[0meval\u001b[0m\u001b[0;34m(\u001b[0m\u001b[0mself\u001b[0m\u001b[0;34m,\u001b[0m \u001b[0miteration\u001b[0m\u001b[0;34m,\u001b[0m \u001b[0mfeval\u001b[0m\u001b[0;34m)\u001b[0m\u001b[0;34m:\u001b[0m\u001b[0;34m\u001b[0m\u001b[0m\n",
      "\u001b[0;32m/home/y.romanikhin/.virtualenvs/venv/lib/python2.7/site-packages/xgboost/core.pyc\u001b[0m in \u001b[0;36mupdate\u001b[0;34m(self, dtrain, iteration, fobj)\u001b[0m\n\u001b[1;32m    804\u001b[0m \u001b[0;34m\u001b[0m\u001b[0m\n\u001b[1;32m    805\u001b[0m         \u001b[0;32mif\u001b[0m \u001b[0mfobj\u001b[0m \u001b[0;32mis\u001b[0m \u001b[0mNone\u001b[0m\u001b[0;34m:\u001b[0m\u001b[0;34m\u001b[0m\u001b[0m\n\u001b[0;32m--> 806\u001b[0;31m             \u001b[0m_check_call\u001b[0m\u001b[0;34m(\u001b[0m\u001b[0m_LIB\u001b[0m\u001b[0;34m.\u001b[0m\u001b[0mXGBoosterUpdateOneIter\u001b[0m\u001b[0;34m(\u001b[0m\u001b[0mself\u001b[0m\u001b[0;34m.\u001b[0m\u001b[0mhandle\u001b[0m\u001b[0;34m,\u001b[0m \u001b[0miteration\u001b[0m\u001b[0;34m,\u001b[0m \u001b[0mdtrain\u001b[0m\u001b[0;34m.\u001b[0m\u001b[0mhandle\u001b[0m\u001b[0;34m)\u001b[0m\u001b[0;34m)\u001b[0m\u001b[0;34m\u001b[0m\u001b[0m\n\u001b[0m\u001b[1;32m    807\u001b[0m         \u001b[0;32melse\u001b[0m\u001b[0;34m:\u001b[0m\u001b[0;34m\u001b[0m\u001b[0m\n\u001b[1;32m    808\u001b[0m             \u001b[0mpred\u001b[0m \u001b[0;34m=\u001b[0m \u001b[0mself\u001b[0m\u001b[0;34m.\u001b[0m\u001b[0mpredict\u001b[0m\u001b[0;34m(\u001b[0m\u001b[0mdtrain\u001b[0m\u001b[0;34m)\u001b[0m\u001b[0;34m\u001b[0m\u001b[0m\n",
      "\u001b[0;31mKeyboardInterrupt\u001b[0m: "
     ]
    }
   ],
   "source": [
    "xgb.cv(param, X_all_datatrain, num_boost_round=5000, nfold=3, metrics=\"rmse\", \\\n",
    "       verbose_eval=10, as_pandas=False, seed=27)"
   ]
  },
  {
   "cell_type": "code",
   "execution_count": null,
   "metadata": {
    "collapsed": true
   },
   "outputs": [],
   "source": []
  },
  {
   "cell_type": "markdown",
   "metadata": {},
   "source": [
    "### Обучаем на все"
   ]
  },
  {
   "cell_type": "code",
   "execution_count": 138,
   "metadata": {
    "collapsed": false,
    "scrolled": true
   },
   "outputs": [],
   "source": [
    "urls_test_df = pd.read_csv('data/url_domain_test', header=None, delimiter='\\t')\n",
    "urls_test_df.columns = ['id', 'url', 'Count']\n"
   ]
  },
  {
   "cell_type": "code",
   "execution_count": 139,
   "metadata": {
    "collapsed": false
   },
   "outputs": [
    {
     "data": {
      "text/plain": [
       "0               afisha afisha\n",
       "1                         aif\n",
       "2    aimfar.solution.weborama\n",
       "3                    alkotest\n",
       "4                   aptekamos\n",
       "Name: url, dtype: object"
      ]
     },
     "execution_count": 139,
     "metadata": {},
     "output_type": "execute_result"
    }
   ],
   "source": [
    "urls_test_df.url = urls_test_df.url.apply(lambda x: \".\".join(x.split(\".\")[:-1]))\n",
    "urls_test_df.url = urls_test_df.url.apply(lambda x: x+\" \")\n",
    "urls_test_df.url = urls_test_df.url.multiply(urls_test_df.Count)\n",
    "urls_test_df.url = urls_test_df.url.apply(lambda x: x.strip())\n",
    "urls_test_df.url = urls_test_df.url.apply(lambda x: ' '.join(x.split(' ')))\n",
    "\n",
    "urls_test_df.url.head()"
   ]
  },
  {
   "cell_type": "code",
   "execution_count": 140,
   "metadata": {
    "collapsed": true
   },
   "outputs": [],
   "source": [
    "urls_test_df = pd.DataFrame(urls_test_df.groupby('id')['url'].apply(lambda x: x.tolist()))\n",
    "urls_test_df['id'] = urls_test_df.index\n",
    "urls_test_df.index = range(len(urls_test_df))\n",
    "urls_test_df.columns = ['urls', 'Id']"
   ]
  },
  {
   "cell_type": "code",
   "execution_count": 141,
   "metadata": {
    "collapsed": false
   },
   "outputs": [
    {
     "data": {
      "text/html": [
       "<div>\n",
       "<table border=\"1\" class=\"dataframe\">\n",
       "  <thead>\n",
       "    <tr style=\"text-align: right;\">\n",
       "      <th></th>\n",
       "      <th>urls</th>\n",
       "      <th>Id</th>\n",
       "    </tr>\n",
       "  </thead>\n",
       "  <tbody>\n",
       "    <tr>\n",
       "      <th>0</th>\n",
       "      <td>[1000bankov, 1tv 1tv 1tv 1tv 1tv 1tv 1tv 1tv, ...</td>\n",
       "      <td>000000014A02348E701552980349FF01</td>\n",
       "    </tr>\n",
       "    <tr>\n",
       "      <th>1</th>\n",
       "      <td>[autorambler, bilettorg, dsol-druzhba, family....</td>\n",
       "      <td>000000014A10EA183BF8594A0B2AB201</td>\n",
       "    </tr>\n",
       "    <tr>\n",
       "      <th>2</th>\n",
       "      <td>[photosight photosight photosight photosight p...</td>\n",
       "      <td>000000014A4FE5C33A929D4C26943601</td>\n",
       "    </tr>\n",
       "    <tr>\n",
       "      <th>3</th>\n",
       "      <td>[base.consultant, dogovor-obrazets, fd, mail.r...</td>\n",
       "      <td>000000014B7BB9957784A9BC0AC9F401</td>\n",
       "    </tr>\n",
       "    <tr>\n",
       "      <th>4</th>\n",
       "      <td>[assessor assessor, audit-it, base.garant, com...</td>\n",
       "      <td>000000014C7749F896D82C2B01E8B801</td>\n",
       "    </tr>\n",
       "  </tbody>\n",
       "</table>\n",
       "</div>"
      ],
      "text/plain": [
       "                                                urls  \\\n",
       "0  [1000bankov, 1tv 1tv 1tv 1tv 1tv 1tv 1tv 1tv, ...   \n",
       "1  [autorambler, bilettorg, dsol-druzhba, family....   \n",
       "2  [photosight photosight photosight photosight p...   \n",
       "3  [base.consultant, dogovor-obrazets, fd, mail.r...   \n",
       "4  [assessor assessor, audit-it, base.garant, com...   \n",
       "\n",
       "                                 Id  \n",
       "0  000000014A02348E701552980349FF01  \n",
       "1  000000014A10EA183BF8594A0B2AB201  \n",
       "2  000000014A4FE5C33A929D4C26943601  \n",
       "3  000000014B7BB9957784A9BC0AC9F401  \n",
       "4  000000014C7749F896D82C2B01E8B801  "
      ]
     },
     "execution_count": 141,
     "metadata": {},
     "output_type": "execute_result"
    }
   ],
   "source": [
    "urls_test_df.head()"
   ]
  },
  {
   "cell_type": "code",
   "execution_count": null,
   "metadata": {
    "collapsed": true
   },
   "outputs": [],
   "source": []
  },
  {
   "cell_type": "code",
   "execution_count": null,
   "metadata": {
    "collapsed": true
   },
   "outputs": [],
   "source": []
  },
  {
   "cell_type": "code",
   "execution_count": 143,
   "metadata": {
    "collapsed": true
   },
   "outputs": [],
   "source": [
    "Xtest = urls_test_df.urls.values\n",
    "Xtest = map(lambda x: ' '.join(x), Xtest)\n",
    "Xtest = hw.transform(Xtest).todense()"
   ]
  },
  {
   "cell_type": "code",
   "execution_count": 144,
   "metadata": {
    "collapsed": false
   },
   "outputs": [
    {
     "name": "stdout",
     "output_type": "stream",
     "text": [
      "CPU times: user 9min 53s, sys: 12min 24s, total: 22min 17s\n",
      "Wall time: 1min 42s\n"
     ]
    }
   ],
   "source": [
    "%%time\n",
    "Xtest_nmf = transformer.fit_transform(Xtest)"
   ]
  },
  {
   "cell_type": "code",
   "execution_count": null,
   "metadata": {
    "collapsed": true
   },
   "outputs": [],
   "source": []
  },
  {
   "cell_type": "code",
   "execution_count": 153,
   "metadata": {
    "collapsed": false
   },
   "outputs": [
    {
     "name": "stdout",
     "output_type": "stream",
     "text": [
      "CPU times: user 3h 58min 51s, sys: 2min 31s, total: 4h 1min 22s\n",
      "Wall time: 10min 48s\n"
     ]
    }
   ],
   "source": [
    "%%time\n",
    "\n",
    "# обычный датасет\n",
    "dataset1 = Dataset(X, y, Xtest)\n",
    "# NMF\n",
    "dataset2 = Dataset(X_nmf, y, Xtest_nmf)\n",
    "\n",
    "# линейная модель на обычных данных\n",
    "lr = Regressor(dataset=dataset1, \n",
    "                     estimator=linear_model.LinearRegression,\n",
    "                     parameters={'normalize': True},\n",
    "                     name='lr')\n",
    "\n",
    "# линейная модель на TFIDF от обычных данных\n",
    "tfidf_lr = Regressor(dataset=dataset1,\n",
    "                     estimator=tfidf_lr_,\n",
    "                     name='tfidf_lr')\n",
    "\n",
    "\n",
    "xgb_regr1 = Regressor(dataset=dataset1, \n",
    "                     estimator=xgb.XGBRegressor,\n",
    "                     parameters={'n_estimators': 1500, 'max_depth':5, 'learning_rate': 0.03,\n",
    "                                'subsample': 0.6, 'colsample_bytree': 0.9, 'colsample_bylevel':0.7},\n",
    "                     name='xgb_regr1')\n",
    "\n",
    "# ExtraTrees на NMF\n",
    "rf = Regressor(dataset=dataset2, \n",
    "                     estimator=ensemble.ExtraTreesRegressor,\n",
    "                     parameters={'n_estimators': 100, 'n_jobs': -1},\n",
    "                     name='rf')\n",
    "\n",
    "xgb_regr2 = Regressor(dataset=dataset2, \n",
    "                     estimator=xgb.XGBRegressor,\n",
    "                     parameters={'n_estimators': 5000, 'max_depth':3, 'learning_rate': 0.01,\n",
    "                                'subsample': 0.6, 'colsample_bytree': 0.9, 'colsample_bylevel':0.7},\n",
    "                     name='xgb_regr2')\n",
    "\n",
    "\n",
    "# Stack three models\n",
    "# Returns new dataset with out-of-fold predictions\n",
    "meta_pipeline = ModelsPipeline(lr, tfidf_lr, xgb_regr1, rf, xgb_regr2)\n",
    "stack_ds = meta_pipeline.blend(proportion=0.2,seed=111)\n",
    "\n",
    "# Train LinearRegression on stacked data (second stage)\n",
    "stacker = Regressor(dataset=stack_ds, estimator=LinearRegression)\n",
    "results = stacker.predict()\n",
    "#print rmse(y[itest], results)"
   ]
  },
  {
   "cell_type": "code",
   "execution_count": 196,
   "metadata": {
    "collapsed": false
   },
   "outputs": [
    {
     "data": {
      "text/plain": [
       "(39535,)"
      ]
     },
     "execution_count": 196,
     "metadata": {},
     "output_type": "execute_result"
    }
   ],
   "source": [
    "results.shape"
   ]
  },
  {
   "cell_type": "code",
   "execution_count": 172,
   "metadata": {
    "collapsed": false
   },
   "outputs": [
    {
     "data": {
      "text/plain": [
       "array([ 43.31582941,  40.78575566,  38.39462095, ...,  36.02755276,\n",
       "        36.91845768,  39.41990555])"
      ]
     },
     "execution_count": 172,
     "metadata": {},
     "output_type": "execute_result"
    }
   ],
   "source": [
    "results"
   ]
  },
  {
   "cell_type": "code",
   "execution_count": 173,
   "metadata": {
    "collapsed": true
   },
   "outputs": [],
   "source": [
    "sample_df = pd.read_csv('sample_submission.csv')"
   ]
  },
  {
   "cell_type": "code",
   "execution_count": 174,
   "metadata": {
    "collapsed": false
   },
   "outputs": [
    {
     "data": {
      "text/html": [
       "<div>\n",
       "<table border=\"1\" class=\"dataframe\">\n",
       "  <thead>\n",
       "    <tr style=\"text-align: right;\">\n",
       "      <th></th>\n",
       "      <th>Id</th>\n",
       "      <th>age</th>\n",
       "    </tr>\n",
       "  </thead>\n",
       "  <tbody>\n",
       "    <tr>\n",
       "      <th>0</th>\n",
       "      <td>000000014A02348E701552980349FF01</td>\n",
       "      <td>36.04347</td>\n",
       "    </tr>\n",
       "    <tr>\n",
       "      <th>1</th>\n",
       "      <td>000000014A10EA183BF8594A0B2AB201</td>\n",
       "      <td>36.04347</td>\n",
       "    </tr>\n",
       "    <tr>\n",
       "      <th>2</th>\n",
       "      <td>000000014A4FE5C33A929D4C26943601</td>\n",
       "      <td>36.04347</td>\n",
       "    </tr>\n",
       "    <tr>\n",
       "      <th>3</th>\n",
       "      <td>000000014B7BB9957784A9BC0AC9F401</td>\n",
       "      <td>36.04347</td>\n",
       "    </tr>\n",
       "    <tr>\n",
       "      <th>4</th>\n",
       "      <td>000000014C7749F896D82C2B01E8B801</td>\n",
       "      <td>36.04347</td>\n",
       "    </tr>\n",
       "  </tbody>\n",
       "</table>\n",
       "</div>"
      ],
      "text/plain": [
       "                                 Id       age\n",
       "0  000000014A02348E701552980349FF01  36.04347\n",
       "1  000000014A10EA183BF8594A0B2AB201  36.04347\n",
       "2  000000014A4FE5C33A929D4C26943601  36.04347\n",
       "3  000000014B7BB9957784A9BC0AC9F401  36.04347\n",
       "4  000000014C7749F896D82C2B01E8B801  36.04347"
      ]
     },
     "execution_count": 174,
     "metadata": {},
     "output_type": "execute_result"
    }
   ],
   "source": [
    "sample_df.head()"
   ]
  },
  {
   "cell_type": "code",
   "execution_count": 175,
   "metadata": {
    "collapsed": false
   },
   "outputs": [
    {
     "data": {
      "text/plain": [
       "(19979,)"
      ]
     },
     "execution_count": 175,
     "metadata": {},
     "output_type": "execute_result"
    }
   ],
   "source": [
    "sample_df.age.shape"
   ]
  },
  {
   "cell_type": "code",
   "execution_count": 176,
   "metadata": {
    "collapsed": false
   },
   "outputs": [
    {
     "data": {
      "text/plain": [
       "{'00000001545483F30F717F5A0721E401',\n",
       " '00000046549F9C26429C4B0159BFEE01',\n",
       " '000000465684D839B64B58DA9701F701',\n",
       " '000022D456544DE3771122F857A6F201',\n",
       " '06210D9556EFE0E30000054678B0D901'}"
      ]
     },
     "execution_count": 176,
     "metadata": {},
     "output_type": "execute_result"
    }
   ],
   "source": [
    "miss_idx = set(sample_df.Id.values) - set(urls_test_df.Id.values)\n",
    "miss_idx  ## есть "
   ]
  },
  {
   "cell_type": "code",
   "execution_count": 177,
   "metadata": {
    "collapsed": true
   },
   "outputs": [],
   "source": [
    "miss_df = pd.DataFrame(zip(list(miss_idx), age_train_df.age.mean()* np.ones(len(miss_idx))))\n",
    "miss_df.columns = ['Id', 'age']"
   ]
  },
  {
   "cell_type": "code",
   "execution_count": 178,
   "metadata": {
    "collapsed": false
   },
   "outputs": [
    {
     "data": {
      "text/html": [
       "<div>\n",
       "<table border=\"1\" class=\"dataframe\">\n",
       "  <thead>\n",
       "    <tr style=\"text-align: right;\">\n",
       "      <th></th>\n",
       "      <th>Id</th>\n",
       "      <th>age</th>\n",
       "    </tr>\n",
       "  </thead>\n",
       "  <tbody>\n",
       "    <tr>\n",
       "      <th>0</th>\n",
       "      <td>000022D456544DE3771122F857A6F201</td>\n",
       "      <td>36.04347</td>\n",
       "    </tr>\n",
       "    <tr>\n",
       "      <th>1</th>\n",
       "      <td>06210D9556EFE0E30000054678B0D901</td>\n",
       "      <td>36.04347</td>\n",
       "    </tr>\n",
       "    <tr>\n",
       "      <th>2</th>\n",
       "      <td>00000046549F9C26429C4B0159BFEE01</td>\n",
       "      <td>36.04347</td>\n",
       "    </tr>\n",
       "    <tr>\n",
       "      <th>3</th>\n",
       "      <td>00000001545483F30F717F5A0721E401</td>\n",
       "      <td>36.04347</td>\n",
       "    </tr>\n",
       "    <tr>\n",
       "      <th>4</th>\n",
       "      <td>000000465684D839B64B58DA9701F701</td>\n",
       "      <td>36.04347</td>\n",
       "    </tr>\n",
       "  </tbody>\n",
       "</table>\n",
       "</div>"
      ],
      "text/plain": [
       "                                 Id       age\n",
       "0  000022D456544DE3771122F857A6F201  36.04347\n",
       "1  06210D9556EFE0E30000054678B0D901  36.04347\n",
       "2  00000046549F9C26429C4B0159BFEE01  36.04347\n",
       "3  00000001545483F30F717F5A0721E401  36.04347\n",
       "4  000000465684D839B64B58DA9701F701  36.04347"
      ]
     },
     "execution_count": 178,
     "metadata": {},
     "output_type": "execute_result"
    }
   ],
   "source": [
    "miss_df"
   ]
  },
  {
   "cell_type": "code",
   "execution_count": 179,
   "metadata": {
    "collapsed": false
   },
   "outputs": [],
   "source": [
    "urls_test_df[\"age\"] = results"
   ]
  },
  {
   "cell_type": "code",
   "execution_count": 180,
   "metadata": {
    "collapsed": false
   },
   "outputs": [
    {
     "data": {
      "text/html": [
       "<div>\n",
       "<table border=\"1\" class=\"dataframe\">\n",
       "  <thead>\n",
       "    <tr style=\"text-align: right;\">\n",
       "      <th></th>\n",
       "      <th>urls</th>\n",
       "      <th>Id</th>\n",
       "      <th>age</th>\n",
       "    </tr>\n",
       "  </thead>\n",
       "  <tbody>\n",
       "    <tr>\n",
       "      <th>0</th>\n",
       "      <td>[1000bankov, 1tv 1tv 1tv 1tv 1tv 1tv 1tv 1tv, ...</td>\n",
       "      <td>000000014A02348E701552980349FF01</td>\n",
       "      <td>43.315829</td>\n",
       "    </tr>\n",
       "    <tr>\n",
       "      <th>1</th>\n",
       "      <td>[autorambler, bilettorg, dsol-druzhba, family....</td>\n",
       "      <td>000000014A10EA183BF8594A0B2AB201</td>\n",
       "      <td>40.785756</td>\n",
       "    </tr>\n",
       "    <tr>\n",
       "      <th>2</th>\n",
       "      <td>[photosight photosight photosight photosight p...</td>\n",
       "      <td>000000014A4FE5C33A929D4C26943601</td>\n",
       "      <td>38.394621</td>\n",
       "    </tr>\n",
       "    <tr>\n",
       "      <th>3</th>\n",
       "      <td>[base.consultant, dogovor-obrazets, fd, mail.r...</td>\n",
       "      <td>000000014B7BB9957784A9BC0AC9F401</td>\n",
       "      <td>33.773400</td>\n",
       "    </tr>\n",
       "    <tr>\n",
       "      <th>4</th>\n",
       "      <td>[assessor assessor, audit-it, base.garant, com...</td>\n",
       "      <td>000000014C7749F896D82C2B01E8B801</td>\n",
       "      <td>39.143206</td>\n",
       "    </tr>\n",
       "  </tbody>\n",
       "</table>\n",
       "</div>"
      ],
      "text/plain": [
       "                                                urls  \\\n",
       "0  [1000bankov, 1tv 1tv 1tv 1tv 1tv 1tv 1tv 1tv, ...   \n",
       "1  [autorambler, bilettorg, dsol-druzhba, family....   \n",
       "2  [photosight photosight photosight photosight p...   \n",
       "3  [base.consultant, dogovor-obrazets, fd, mail.r...   \n",
       "4  [assessor assessor, audit-it, base.garant, com...   \n",
       "\n",
       "                                 Id        age  \n",
       "0  000000014A02348E701552980349FF01  43.315829  \n",
       "1  000000014A10EA183BF8594A0B2AB201  40.785756  \n",
       "2  000000014A4FE5C33A929D4C26943601  38.394621  \n",
       "3  000000014B7BB9957784A9BC0AC9F401  33.773400  \n",
       "4  000000014C7749F896D82C2B01E8B801  39.143206  "
      ]
     },
     "execution_count": 180,
     "metadata": {},
     "output_type": "execute_result"
    }
   ],
   "source": [
    "urls_test_df.head()"
   ]
  },
  {
   "cell_type": "code",
   "execution_count": 181,
   "metadata": {
    "collapsed": false
   },
   "outputs": [],
   "source": [
    "all_set = urls_test_df.merge(miss_df, how='outer')[[\"Id\", \"age\"]]"
   ]
  },
  {
   "cell_type": "code",
   "execution_count": 182,
   "metadata": {
    "collapsed": false
   },
   "outputs": [
    {
     "data": {
      "text/html": [
       "<div>\n",
       "<table border=\"1\" class=\"dataframe\">\n",
       "  <thead>\n",
       "    <tr style=\"text-align: right;\">\n",
       "      <th></th>\n",
       "      <th>Id</th>\n",
       "      <th>age</th>\n",
       "    </tr>\n",
       "  </thead>\n",
       "  <tbody>\n",
       "    <tr>\n",
       "      <th>0</th>\n",
       "      <td>000000014A02348E701552980349FF01</td>\n",
       "      <td>43.315829</td>\n",
       "    </tr>\n",
       "    <tr>\n",
       "      <th>1</th>\n",
       "      <td>000000014A10EA183BF8594A0B2AB201</td>\n",
       "      <td>40.785756</td>\n",
       "    </tr>\n",
       "    <tr>\n",
       "      <th>2</th>\n",
       "      <td>000000014A4FE5C33A929D4C26943601</td>\n",
       "      <td>38.394621</td>\n",
       "    </tr>\n",
       "    <tr>\n",
       "      <th>3</th>\n",
       "      <td>000000014B7BB9957784A9BC0AC9F401</td>\n",
       "      <td>33.773400</td>\n",
       "    </tr>\n",
       "    <tr>\n",
       "      <th>4</th>\n",
       "      <td>000000014C7749F896D82C2B01E8B801</td>\n",
       "      <td>39.143206</td>\n",
       "    </tr>\n",
       "  </tbody>\n",
       "</table>\n",
       "</div>"
      ],
      "text/plain": [
       "                                 Id        age\n",
       "0  000000014A02348E701552980349FF01  43.315829\n",
       "1  000000014A10EA183BF8594A0B2AB201  40.785756\n",
       "2  000000014A4FE5C33A929D4C26943601  38.394621\n",
       "3  000000014B7BB9957784A9BC0AC9F401  33.773400\n",
       "4  000000014C7749F896D82C2B01E8B801  39.143206"
      ]
     },
     "execution_count": 182,
     "metadata": {},
     "output_type": "execute_result"
    }
   ],
   "source": [
    "all_set.head()"
   ]
  },
  {
   "cell_type": "code",
   "execution_count": 183,
   "metadata": {
    "collapsed": false
   },
   "outputs": [],
   "source": [
    "all_set.sort_values(by=\"Id\").to_csv(\"stacking_2xgb_add_counts.csv\", index=False)"
   ]
  },
  {
   "cell_type": "code",
   "execution_count": null,
   "metadata": {
    "collapsed": true
   },
   "outputs": [],
   "source": []
  },
  {
   "cell_type": "code",
   "execution_count": null,
   "metadata": {
    "collapsed": true
   },
   "outputs": [],
   "source": []
  },
  {
   "cell_type": "code",
   "execution_count": null,
   "metadata": {
    "collapsed": true
   },
   "outputs": [],
   "source": []
  },
  {
   "cell_type": "code",
   "execution_count": null,
   "metadata": {
    "collapsed": true
   },
   "outputs": [],
   "source": []
  },
  {
   "cell_type": "code",
   "execution_count": null,
   "metadata": {
    "collapsed": true
   },
   "outputs": [],
   "source": []
  },
  {
   "cell_type": "markdown",
   "metadata": {},
   "source": [
    "### Blending"
   ]
  },
  {
   "cell_type": "code",
   "execution_count": 205,
   "metadata": {
    "collapsed": false
   },
   "outputs": [
    {
     "name": "stdout",
     "output_type": "stream",
     "text": [
      "Metric: mean_absolute_error\n",
      "Folds accuracy: [2.755382922586739, 1.2983953827322219, 1.3451751317571223, 4.1691449980020421, 1.8335534158242497, 1.4252855488443406, 3.796561897196681, 3.8740508440436909, 1.340474784189877, 3.5524672699816815]\n",
      "Mean accuracy: 2.53904921952\n",
      "Standard Deviation: 1.15038810562\n",
      "Variance: 1.32339279355\n"
     ]
    }
   ],
   "source": [
    "from sklearn.datasets import load_boston\n",
    "from sklearn.cross_validation import train_test_split\n",
    "from sklearn.ensemble import RandomForestRegressor\n",
    "from sklearn.linear_model import LinearRegression\n",
    "from sklearn.metrics import mean_absolute_error\n",
    "\n",
    "data = load_boston()\n",
    "X, y = data['data'], data['target']\n",
    "X_train, X_test, y_train, y_test = train_test_split(X, y, test_size=0.1, random_state=111)\n",
    "\n",
    "# create dataset\n",
    "dataset = Dataset(X_train,y_train,X_test)\n",
    "\n",
    "# initialize RandomForest & LinearRegression\n",
    "model_rf = Regressor(dataset=dataset, estimator=RandomForestRegressor, parameters={'n_estimators': 50},name='rf')\n",
    "model_lr = Regressor(dataset=dataset, estimator=LinearRegression, parameters={'normalize': True},name='lr')\n",
    "\n",
    "# Stack two models\n",
    "# Returns new dataset with out-of-fold predictions\n",
    "pipeline = ModelsPipeline(model_rf,model_lr)\n",
    "stack_ds = pipeline.blend(proportion=0.2,seed=111)\n",
    "\n",
    "# Train LinearRegression on stacked data (second stage)\n",
    "stacker = Regressor(dataset=stack_ds, estimator=LinearRegression)\n",
    "results = stacker.predict()\n",
    "# Validate results using 10 fold cross-validation\n",
    "\n",
    "results = stacker.validate(k=10,scorer=mean_absolute_error)"
   ]
  },
  {
   "cell_type": "markdown",
   "metadata": {},
   "source": [
    "### Stacking"
   ]
  },
  {
   "cell_type": "code",
   "execution_count": 206,
   "metadata": {
    "collapsed": false
   },
   "outputs": [
    {
     "name": "stdout",
     "output_type": "stream",
     "text": [
      "Metric: mean_absolute_error\n",
      "Folds accuracy: [2.5069203640457021, 1.5176036689604795, 1.8612766231086197, 2.017107551973409, 2.6330917029607543, 2.6845105953359787, 1.7472546610358961, 2.5915132949288715, 2.3777447931954878, 2.4314089150184524]\n",
      "Mean accuracy: 2.23684321706\n",
      "Standard Deviation: 0.394993297327\n",
      "Variance: 0.156019704933\n"
     ]
    }
   ],
   "source": [
    "# load boston dataset from sklearn\n",
    "from sklearn.datasets import load_boston\n",
    "data = load_boston()\n",
    "X, y = data['data'], data['target']\n",
    "X_train, X_test, y_train, y_test = train_test_split(X, y, test_size=0.1, random_state=111)\n",
    "\n",
    "# create dataset\n",
    "dataset = Dataset(X_train,y_train,X_test)\n",
    "\n",
    "# initialize RandomForest & LinearRegression\n",
    "model_rf = Regressor(dataset=dataset, estimator=RandomForestRegressor, parameters={'n_estimators': 50},name='rf')\n",
    "model_lr = Regressor(dataset=dataset, estimator=LinearRegression, parameters={'normalize': True},name='lr')\n",
    "\n",
    "# Stack two models\n",
    "# Returns new dataset with out-of-fold predictions\n",
    "pipeline = ModelsPipeline(model_rf,model_lr)\n",
    "stack_ds = pipeline.stack(k=10,seed=111)\n",
    "\n",
    "# Train LinearRegression on stacked data (second stage)\n",
    "stacker = Regressor(dataset=stack_ds, estimator=LinearRegression)\n",
    "results = stacker.predict()\n",
    "# Validate results using 10 fold cross-validation\n",
    "results = stacker.validate(k=10,scorer=mean_absolute_error)"
   ]
  },
  {
   "cell_type": "markdown",
   "metadata": {},
   "source": [
    "### Weighted average"
   ]
  },
  {
   "cell_type": "code",
   "execution_count": 211,
   "metadata": {
    "collapsed": false
   },
   "outputs": [
    {
     "name": "stdout",
     "output_type": "stream",
     "text": [
      "Best Score (mean_absolute_error): 2.14995315088\n",
      "Best Weights: [  8.54360869e-01   1.45639131e-01   9.40650559e-17]\n"
     ]
    }
   ],
   "source": [
    "from sklearn.neighbors import KNeighborsRegressor\n",
    "dataset = Dataset(X_train,y_train,X_test)\n",
    "\n",
    "model_rf = Regressor(dataset=dataset, estimator=RandomForestRegressor, parameters={'n_estimators': 151},name='rf')\n",
    "model_lr = Regressor(dataset=dataset, estimator=LinearRegression, parameters={'normalize': True},name='lr')\n",
    "model_knn = Regressor(dataset=dataset, estimator=KNeighborsRegressor, parameters={'n_neighbors': 15},name='knn')\n",
    "\n",
    "pipeline = ModelsPipeline(model_rf,model_lr,model_knn)\n",
    "\n",
    "weights = pipeline.find_weights(mean_absolute_error)\n",
    "result = pipeline.weight(weights)"
   ]
  },
  {
   "cell_type": "code",
   "execution_count": null,
   "metadata": {
    "collapsed": true
   },
   "outputs": [],
   "source": []
  }
 ],
 "metadata": {
  "anaconda-cloud": {},
  "kernelspec": {
   "display_name": "Python 2",
   "language": "python",
   "name": "python2"
  },
  "language_info": {
   "codemirror_mode": {
    "name": "ipython",
    "version": 2
   },
   "file_extension": ".py",
   "mimetype": "text/x-python",
   "name": "python",
   "nbconvert_exporter": "python",
   "pygments_lexer": "ipython2",
   "version": "2.7.6"
  }
 },
 "nbformat": 4,
 "nbformat_minor": 0
}
