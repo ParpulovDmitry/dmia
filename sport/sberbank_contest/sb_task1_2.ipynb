{
 "cells": [
  {
   "cell_type": "code",
   "execution_count": 1,
   "metadata": {
    "collapsed": true
   },
   "outputs": [],
   "source": [
    "import pandas as pd\n",
    "import numpy as np\n",
    "\n",
    "from sklearn.ensemble import GradientBoostingClassifier\n",
    "from sklearn.metrics import roc_auc_score, roc_curve\n",
    "from sklearn.cross_validation import ShuffleSplit, KFold\n",
    "\n",
    "import xgboost as xgb"
   ]
  },
  {
   "cell_type": "code",
   "execution_count": 2,
   "metadata": {
    "collapsed": true
   },
   "outputs": [],
   "source": [
    "transactions = pd.read_csv('transactions.csv')\n",
    "customers_gender = pd.read_csv('customers_gender_train.csv')"
   ]
  },
  {
   "cell_type": "code",
   "execution_count": 21,
   "metadata": {
    "collapsed": false
   },
   "outputs": [
    {
     "data": {
      "text/html": [
       "<div>\n",
       "<table border=\"1\" class=\"dataframe\">\n",
       "  <thead>\n",
       "    <tr style=\"text-align: right;\">\n",
       "      <th></th>\n",
       "      <th>customer_id</th>\n",
       "      <th>tr_datetime</th>\n",
       "      <th>mcc_code</th>\n",
       "      <th>tr_type</th>\n",
       "      <th>amount</th>\n",
       "      <th>term_id</th>\n",
       "    </tr>\n",
       "  </thead>\n",
       "  <tbody>\n",
       "    <tr>\n",
       "      <th>0</th>\n",
       "      <td>39026145</td>\n",
       "      <td>0 10:23:26</td>\n",
       "      <td>4814</td>\n",
       "      <td>1030</td>\n",
       "      <td>-200.0</td>\n",
       "      <td>NaN</td>\n",
       "    </tr>\n",
       "    <tr>\n",
       "      <th>1</th>\n",
       "      <td>39026145</td>\n",
       "      <td>1 10:19:29</td>\n",
       "      <td>6011</td>\n",
       "      <td>7010</td>\n",
       "      <td>5000.0</td>\n",
       "      <td>NaN</td>\n",
       "    </tr>\n",
       "    <tr>\n",
       "      <th>2</th>\n",
       "      <td>39026145</td>\n",
       "      <td>1 10:20:56</td>\n",
       "      <td>4829</td>\n",
       "      <td>2330</td>\n",
       "      <td>-5000.0</td>\n",
       "      <td>NaN</td>\n",
       "    </tr>\n",
       "    <tr>\n",
       "      <th>3</th>\n",
       "      <td>39026145</td>\n",
       "      <td>1 10:39:54</td>\n",
       "      <td>5499</td>\n",
       "      <td>1010</td>\n",
       "      <td>-124.0</td>\n",
       "      <td>NaN</td>\n",
       "    </tr>\n",
       "    <tr>\n",
       "      <th>4</th>\n",
       "      <td>39026145</td>\n",
       "      <td>2 15:33:42</td>\n",
       "      <td>5499</td>\n",
       "      <td>1010</td>\n",
       "      <td>-82.0</td>\n",
       "      <td>NaN</td>\n",
       "    </tr>\n",
       "  </tbody>\n",
       "</table>\n",
       "</div>"
      ],
      "text/plain": [
       "   customer_id tr_datetime  mcc_code  tr_type  amount term_id\n",
       "0     39026145  0 10:23:26      4814     1030  -200.0     NaN\n",
       "1     39026145  1 10:19:29      6011     7010  5000.0     NaN\n",
       "2     39026145  1 10:20:56      4829     2330 -5000.0     NaN\n",
       "3     39026145  1 10:39:54      5499     1010  -124.0     NaN\n",
       "4     39026145  2 15:33:42      5499     1010   -82.0     NaN"
      ]
     },
     "execution_count": 21,
     "metadata": {},
     "output_type": "execute_result"
    }
   ],
   "source": [
    "transactions.head()"
   ]
  },
  {
   "cell_type": "code",
   "execution_count": 15,
   "metadata": {
    "collapsed": true
   },
   "outputs": [],
   "source": [
    "gr_amount = transactions.groupby(\"amount\").count().sort_values(\"customer_id\", ascending=False)"
   ]
  },
  {
   "cell_type": "code",
   "execution_count": 16,
   "metadata": {
    "collapsed": false
   },
   "outputs": [
    {
     "data": {
      "text/html": [
       "<div>\n",
       "<table border=\"1\" class=\"dataframe\">\n",
       "  <thead>\n",
       "    <tr style=\"text-align: right;\">\n",
       "      <th></th>\n",
       "      <th>customer_id</th>\n",
       "      <th>tr_datetime</th>\n",
       "      <th>mcc_code</th>\n",
       "      <th>tr_type</th>\n",
       "      <th>term_id</th>\n",
       "    </tr>\n",
       "    <tr>\n",
       "      <th>amount</th>\n",
       "      <th></th>\n",
       "      <th></th>\n",
       "      <th></th>\n",
       "      <th></th>\n",
       "      <th></th>\n",
       "    </tr>\n",
       "  </thead>\n",
       "  <tbody>\n",
       "    <tr>\n",
       "      <th>-2245.92</th>\n",
       "      <td>395265</td>\n",
       "      <td>395265</td>\n",
       "      <td>395265</td>\n",
       "      <td>395265</td>\n",
       "      <td>226809</td>\n",
       "    </tr>\n",
       "    <tr>\n",
       "      <th>-1122.96</th>\n",
       "      <td>201159</td>\n",
       "      <td>201159</td>\n",
       "      <td>201159</td>\n",
       "      <td>201159</td>\n",
       "      <td>114635</td>\n",
       "    </tr>\n",
       "    <tr>\n",
       "      <th>-11229.58</th>\n",
       "      <td>196764</td>\n",
       "      <td>196764</td>\n",
       "      <td>196764</td>\n",
       "      <td>196764</td>\n",
       "      <td>114181</td>\n",
       "    </tr>\n",
       "    <tr>\n",
       "      <th>-22459.16</th>\n",
       "      <td>194881</td>\n",
       "      <td>194881</td>\n",
       "      <td>194881</td>\n",
       "      <td>194881</td>\n",
       "      <td>112800</td>\n",
       "    </tr>\n",
       "    <tr>\n",
       "      <th>-4491.83</th>\n",
       "      <td>174184</td>\n",
       "      <td>174184</td>\n",
       "      <td>174184</td>\n",
       "      <td>174184</td>\n",
       "      <td>100088</td>\n",
       "    </tr>\n",
       "  </tbody>\n",
       "</table>\n",
       "</div>"
      ],
      "text/plain": [
       "           customer_id  tr_datetime  mcc_code  tr_type  term_id\n",
       "amount                                                         \n",
       "-2245.92        395265       395265    395265   395265   226809\n",
       "-1122.96        201159       201159    201159   201159   114635\n",
       "-11229.58       196764       196764    196764   196764   114181\n",
       "-22459.16       194881       194881    194881   194881   112800\n",
       "-4491.83        174184       174184    174184   174184   100088"
      ]
     },
     "execution_count": 16,
     "metadata": {},
     "output_type": "execute_result"
    }
   ],
   "source": [
    "gr_amount.head()"
   ]
  },
  {
   "cell_type": "markdown",
   "metadata": {},
   "source": [
    "1 ruble = 11.2296"
   ]
  },
  {
   "cell_type": "code",
   "execution_count": 18,
   "metadata": {
    "collapsed": true
   },
   "outputs": [],
   "source": [
    "transactions.amount = transactions.amount.apply(lambda x: round(x/11.2296))"
   ]
  },
  {
   "cell_type": "code",
   "execution_count": null,
   "metadata": {
    "collapsed": true
   },
   "outputs": [],
   "source": []
  },
  {
   "cell_type": "code",
   "execution_count": 74,
   "metadata": {
    "collapsed": true
   },
   "outputs": [],
   "source": []
  },
  {
   "cell_type": "code",
   "execution_count": 75,
   "metadata": {
    "collapsed": false
   },
   "outputs": [
    {
     "data": {
      "text/html": [
       "<div>\n",
       "<table border=\"1\" class=\"dataframe\">\n",
       "  <thead>\n",
       "    <tr style=\"text-align: right;\">\n",
       "      <th></th>\n",
       "      <th>customer_id</th>\n",
       "      <th>gender</th>\n",
       "    </tr>\n",
       "  </thead>\n",
       "  <tbody>\n",
       "    <tr>\n",
       "      <th>0</th>\n",
       "      <td>75562265</td>\n",
       "      <td>0</td>\n",
       "    </tr>\n",
       "    <tr>\n",
       "      <th>1</th>\n",
       "      <td>10928546</td>\n",
       "      <td>1</td>\n",
       "    </tr>\n",
       "    <tr>\n",
       "      <th>2</th>\n",
       "      <td>69348468</td>\n",
       "      <td>1</td>\n",
       "    </tr>\n",
       "    <tr>\n",
       "      <th>3</th>\n",
       "      <td>84816985</td>\n",
       "      <td>1</td>\n",
       "    </tr>\n",
       "    <tr>\n",
       "      <th>4</th>\n",
       "      <td>61009479</td>\n",
       "      <td>0</td>\n",
       "    </tr>\n",
       "  </tbody>\n",
       "</table>\n",
       "</div>"
      ],
      "text/plain": [
       "   customer_id  gender\n",
       "0     75562265       0\n",
       "1     10928546       1\n",
       "2     69348468       1\n",
       "3     84816985       1\n",
       "4     61009479       0"
      ]
     },
     "execution_count": 75,
     "metadata": {},
     "output_type": "execute_result"
    }
   ],
   "source": [
    "customers_gender.head()"
   ]
  },
  {
   "cell_type": "code",
   "execution_count": 23,
   "metadata": {
    "collapsed": false
   },
   "outputs": [],
   "source": [
    "X1 = transactions.groupby('customer_id') \\\n",
    "                    .apply(lambda x: x[['mcc_code']].unstack().value_counts()) \\\n",
    "                    .unstack() \\\n",
    "                    .fillna(0)"
   ]
  },
  {
   "cell_type": "code",
   "execution_count": 24,
   "metadata": {
    "collapsed": false
   },
   "outputs": [
    {
     "data": {
      "text/html": [
       "<div>\n",
       "<table border=\"1\" class=\"dataframe\">\n",
       "  <thead>\n",
       "    <tr style=\"text-align: right;\">\n",
       "      <th></th>\n",
       "      <th>mcc_code_742</th>\n",
       "      <th>mcc_code_1711</th>\n",
       "      <th>mcc_code_1731</th>\n",
       "      <th>mcc_code_1799</th>\n",
       "      <th>mcc_code_2741</th>\n",
       "      <th>mcc_code_3000</th>\n",
       "      <th>mcc_code_3351</th>\n",
       "      <th>mcc_code_3501</th>\n",
       "      <th>mcc_code_4111</th>\n",
       "      <th>mcc_code_4112</th>\n",
       "      <th>...</th>\n",
       "      <th>mcc_code_8299</th>\n",
       "      <th>mcc_code_8398</th>\n",
       "      <th>mcc_code_8641</th>\n",
       "      <th>mcc_code_8699</th>\n",
       "      <th>mcc_code_8999</th>\n",
       "      <th>mcc_code_9211</th>\n",
       "      <th>mcc_code_9222</th>\n",
       "      <th>mcc_code_9311</th>\n",
       "      <th>mcc_code_9399</th>\n",
       "      <th>mcc_code_9402</th>\n",
       "    </tr>\n",
       "    <tr>\n",
       "      <th>customer_id</th>\n",
       "      <th></th>\n",
       "      <th></th>\n",
       "      <th></th>\n",
       "      <th></th>\n",
       "      <th></th>\n",
       "      <th></th>\n",
       "      <th></th>\n",
       "      <th></th>\n",
       "      <th></th>\n",
       "      <th></th>\n",
       "      <th></th>\n",
       "      <th></th>\n",
       "      <th></th>\n",
       "      <th></th>\n",
       "      <th></th>\n",
       "      <th></th>\n",
       "      <th></th>\n",
       "      <th></th>\n",
       "      <th></th>\n",
       "      <th></th>\n",
       "      <th></th>\n",
       "    </tr>\n",
       "  </thead>\n",
       "  <tbody>\n",
       "    <tr>\n",
       "      <th>6815</th>\n",
       "      <td>0.0</td>\n",
       "      <td>0.0</td>\n",
       "      <td>0.0</td>\n",
       "      <td>0.0</td>\n",
       "      <td>0.0</td>\n",
       "      <td>0.0</td>\n",
       "      <td>0.0</td>\n",
       "      <td>0.0</td>\n",
       "      <td>0.0</td>\n",
       "      <td>0.0</td>\n",
       "      <td>...</td>\n",
       "      <td>0.0</td>\n",
       "      <td>0.0</td>\n",
       "      <td>0.0</td>\n",
       "      <td>0.0</td>\n",
       "      <td>0.0</td>\n",
       "      <td>0.0</td>\n",
       "      <td>0.0</td>\n",
       "      <td>0.0</td>\n",
       "      <td>0.0</td>\n",
       "      <td>0.0</td>\n",
       "    </tr>\n",
       "    <tr>\n",
       "      <th>22899</th>\n",
       "      <td>0.0</td>\n",
       "      <td>0.0</td>\n",
       "      <td>0.0</td>\n",
       "      <td>0.0</td>\n",
       "      <td>0.0</td>\n",
       "      <td>0.0</td>\n",
       "      <td>0.0</td>\n",
       "      <td>0.0</td>\n",
       "      <td>0.0</td>\n",
       "      <td>0.0</td>\n",
       "      <td>...</td>\n",
       "      <td>0.0</td>\n",
       "      <td>0.0</td>\n",
       "      <td>0.0</td>\n",
       "      <td>0.0</td>\n",
       "      <td>0.0</td>\n",
       "      <td>0.0</td>\n",
       "      <td>0.0</td>\n",
       "      <td>0.0</td>\n",
       "      <td>0.0</td>\n",
       "      <td>0.0</td>\n",
       "    </tr>\n",
       "    <tr>\n",
       "      <th>27914</th>\n",
       "      <td>0.0</td>\n",
       "      <td>0.0</td>\n",
       "      <td>0.0</td>\n",
       "      <td>0.0</td>\n",
       "      <td>0.0</td>\n",
       "      <td>0.0</td>\n",
       "      <td>0.0</td>\n",
       "      <td>0.0</td>\n",
       "      <td>0.0</td>\n",
       "      <td>0.0</td>\n",
       "      <td>...</td>\n",
       "      <td>0.0</td>\n",
       "      <td>0.0</td>\n",
       "      <td>0.0</td>\n",
       "      <td>0.0</td>\n",
       "      <td>0.0</td>\n",
       "      <td>0.0</td>\n",
       "      <td>0.0</td>\n",
       "      <td>0.0</td>\n",
       "      <td>0.0</td>\n",
       "      <td>0.0</td>\n",
       "    </tr>\n",
       "    <tr>\n",
       "      <th>28753</th>\n",
       "      <td>0.0</td>\n",
       "      <td>0.0</td>\n",
       "      <td>0.0</td>\n",
       "      <td>0.0</td>\n",
       "      <td>0.0</td>\n",
       "      <td>0.0</td>\n",
       "      <td>0.0</td>\n",
       "      <td>0.0</td>\n",
       "      <td>0.0</td>\n",
       "      <td>0.0</td>\n",
       "      <td>...</td>\n",
       "      <td>0.0</td>\n",
       "      <td>0.0</td>\n",
       "      <td>0.0</td>\n",
       "      <td>0.0</td>\n",
       "      <td>2.0</td>\n",
       "      <td>0.0</td>\n",
       "      <td>0.0</td>\n",
       "      <td>0.0</td>\n",
       "      <td>0.0</td>\n",
       "      <td>0.0</td>\n",
       "    </tr>\n",
       "    <tr>\n",
       "      <th>31385</th>\n",
       "      <td>0.0</td>\n",
       "      <td>0.0</td>\n",
       "      <td>0.0</td>\n",
       "      <td>0.0</td>\n",
       "      <td>0.0</td>\n",
       "      <td>0.0</td>\n",
       "      <td>0.0</td>\n",
       "      <td>0.0</td>\n",
       "      <td>0.0</td>\n",
       "      <td>0.0</td>\n",
       "      <td>...</td>\n",
       "      <td>0.0</td>\n",
       "      <td>0.0</td>\n",
       "      <td>0.0</td>\n",
       "      <td>0.0</td>\n",
       "      <td>0.0</td>\n",
       "      <td>0.0</td>\n",
       "      <td>0.0</td>\n",
       "      <td>0.0</td>\n",
       "      <td>0.0</td>\n",
       "      <td>0.0</td>\n",
       "    </tr>\n",
       "  </tbody>\n",
       "</table>\n",
       "<p>5 rows × 184 columns</p>\n",
       "</div>"
      ],
      "text/plain": [
       "             mcc_code_742  mcc_code_1711  mcc_code_1731  mcc_code_1799  \\\n",
       "customer_id                                                              \n",
       "6815                  0.0            0.0            0.0            0.0   \n",
       "22899                 0.0            0.0            0.0            0.0   \n",
       "27914                 0.0            0.0            0.0            0.0   \n",
       "28753                 0.0            0.0            0.0            0.0   \n",
       "31385                 0.0            0.0            0.0            0.0   \n",
       "\n",
       "             mcc_code_2741  mcc_code_3000  mcc_code_3351  mcc_code_3501  \\\n",
       "customer_id                                                               \n",
       "6815                   0.0            0.0            0.0            0.0   \n",
       "22899                  0.0            0.0            0.0            0.0   \n",
       "27914                  0.0            0.0            0.0            0.0   \n",
       "28753                  0.0            0.0            0.0            0.0   \n",
       "31385                  0.0            0.0            0.0            0.0   \n",
       "\n",
       "             mcc_code_4111  mcc_code_4112      ...        mcc_code_8299  \\\n",
       "customer_id                                    ...                        \n",
       "6815                   0.0            0.0      ...                  0.0   \n",
       "22899                  0.0            0.0      ...                  0.0   \n",
       "27914                  0.0            0.0      ...                  0.0   \n",
       "28753                  0.0            0.0      ...                  0.0   \n",
       "31385                  0.0            0.0      ...                  0.0   \n",
       "\n",
       "             mcc_code_8398  mcc_code_8641  mcc_code_8699  mcc_code_8999  \\\n",
       "customer_id                                                               \n",
       "6815                   0.0            0.0            0.0            0.0   \n",
       "22899                  0.0            0.0            0.0            0.0   \n",
       "27914                  0.0            0.0            0.0            0.0   \n",
       "28753                  0.0            0.0            0.0            2.0   \n",
       "31385                  0.0            0.0            0.0            0.0   \n",
       "\n",
       "             mcc_code_9211  mcc_code_9222  mcc_code_9311  mcc_code_9399  \\\n",
       "customer_id                                                               \n",
       "6815                   0.0            0.0            0.0            0.0   \n",
       "22899                  0.0            0.0            0.0            0.0   \n",
       "27914                  0.0            0.0            0.0            0.0   \n",
       "28753                  0.0            0.0            0.0            0.0   \n",
       "31385                  0.0            0.0            0.0            0.0   \n",
       "\n",
       "             mcc_code_9402  \n",
       "customer_id                 \n",
       "6815                   0.0  \n",
       "22899                  0.0  \n",
       "27914                  0.0  \n",
       "28753                  0.0  \n",
       "31385                  0.0  \n",
       "\n",
       "[5 rows x 184 columns]"
      ]
     },
     "execution_count": 24,
     "metadata": {},
     "output_type": "execute_result"
    }
   ],
   "source": [
    "X1.columns = map(lambda x: \"mcc_code_\"+str(x), X1.columns)\n",
    "X1.head()"
   ]
  },
  {
   "cell_type": "code",
   "execution_count": 25,
   "metadata": {
    "collapsed": true
   },
   "outputs": [],
   "source": [
    "X2 = transactions.groupby('customer_id') \\\n",
    "                    .apply(lambda x: x[['tr_type']].unstack().value_counts()) \\\n",
    "                    .unstack() \\\n",
    "                    .fillna(0)"
   ]
  },
  {
   "cell_type": "code",
   "execution_count": 26,
   "metadata": {
    "collapsed": false
   },
   "outputs": [],
   "source": [
    "X2.columns = map(lambda x: \"tr_type_\"+str(x), X2.columns)"
   ]
  },
  {
   "cell_type": "code",
   "execution_count": 27,
   "metadata": {
    "collapsed": false
   },
   "outputs": [
    {
     "data": {
      "text/html": [
       "<div>\n",
       "<table border=\"1\" class=\"dataframe\">\n",
       "  <thead>\n",
       "    <tr style=\"text-align: right;\">\n",
       "      <th></th>\n",
       "      <th>tr_type_1000</th>\n",
       "      <th>tr_type_1010</th>\n",
       "      <th>tr_type_1030</th>\n",
       "      <th>tr_type_1100</th>\n",
       "      <th>tr_type_1110</th>\n",
       "      <th>tr_type_1200</th>\n",
       "      <th>tr_type_1210</th>\n",
       "      <th>tr_type_1310</th>\n",
       "      <th>tr_type_1410</th>\n",
       "      <th>tr_type_1510</th>\n",
       "      <th>...</th>\n",
       "      <th>tr_type_7040</th>\n",
       "      <th>tr_type_7041</th>\n",
       "      <th>tr_type_7044</th>\n",
       "      <th>tr_type_7070</th>\n",
       "      <th>tr_type_7071</th>\n",
       "      <th>tr_type_7074</th>\n",
       "      <th>tr_type_7075</th>\n",
       "      <th>tr_type_8100</th>\n",
       "      <th>tr_type_8145</th>\n",
       "      <th>tr_type_8146</th>\n",
       "    </tr>\n",
       "    <tr>\n",
       "      <th>customer_id</th>\n",
       "      <th></th>\n",
       "      <th></th>\n",
       "      <th></th>\n",
       "      <th></th>\n",
       "      <th></th>\n",
       "      <th></th>\n",
       "      <th></th>\n",
       "      <th></th>\n",
       "      <th></th>\n",
       "      <th></th>\n",
       "      <th></th>\n",
       "      <th></th>\n",
       "      <th></th>\n",
       "      <th></th>\n",
       "      <th></th>\n",
       "      <th></th>\n",
       "      <th></th>\n",
       "      <th></th>\n",
       "      <th></th>\n",
       "      <th></th>\n",
       "      <th></th>\n",
       "    </tr>\n",
       "  </thead>\n",
       "  <tbody>\n",
       "    <tr>\n",
       "      <th>6815</th>\n",
       "      <td>0.0</td>\n",
       "      <td>42.0</td>\n",
       "      <td>90.0</td>\n",
       "      <td>0.0</td>\n",
       "      <td>18.0</td>\n",
       "      <td>0.0</td>\n",
       "      <td>0.0</td>\n",
       "      <td>0.0</td>\n",
       "      <td>0.0</td>\n",
       "      <td>0.0</td>\n",
       "      <td>...</td>\n",
       "      <td>0.0</td>\n",
       "      <td>0.0</td>\n",
       "      <td>0.0</td>\n",
       "      <td>0.0</td>\n",
       "      <td>0.0</td>\n",
       "      <td>0.0</td>\n",
       "      <td>0.0</td>\n",
       "      <td>0.0</td>\n",
       "      <td>0.0</td>\n",
       "      <td>0.0</td>\n",
       "    </tr>\n",
       "    <tr>\n",
       "      <th>22899</th>\n",
       "      <td>0.0</td>\n",
       "      <td>6.0</td>\n",
       "      <td>47.0</td>\n",
       "      <td>0.0</td>\n",
       "      <td>27.0</td>\n",
       "      <td>1.0</td>\n",
       "      <td>0.0</td>\n",
       "      <td>0.0</td>\n",
       "      <td>0.0</td>\n",
       "      <td>0.0</td>\n",
       "      <td>...</td>\n",
       "      <td>0.0</td>\n",
       "      <td>0.0</td>\n",
       "      <td>0.0</td>\n",
       "      <td>9.0</td>\n",
       "      <td>3.0</td>\n",
       "      <td>0.0</td>\n",
       "      <td>1.0</td>\n",
       "      <td>0.0</td>\n",
       "      <td>0.0</td>\n",
       "      <td>0.0</td>\n",
       "    </tr>\n",
       "    <tr>\n",
       "      <th>27914</th>\n",
       "      <td>0.0</td>\n",
       "      <td>0.0</td>\n",
       "      <td>58.0</td>\n",
       "      <td>0.0</td>\n",
       "      <td>1.0</td>\n",
       "      <td>2.0</td>\n",
       "      <td>0.0</td>\n",
       "      <td>0.0</td>\n",
       "      <td>0.0</td>\n",
       "      <td>0.0</td>\n",
       "      <td>...</td>\n",
       "      <td>0.0</td>\n",
       "      <td>0.0</td>\n",
       "      <td>0.0</td>\n",
       "      <td>0.0</td>\n",
       "      <td>0.0</td>\n",
       "      <td>0.0</td>\n",
       "      <td>0.0</td>\n",
       "      <td>0.0</td>\n",
       "      <td>0.0</td>\n",
       "      <td>0.0</td>\n",
       "    </tr>\n",
       "    <tr>\n",
       "      <th>28753</th>\n",
       "      <td>0.0</td>\n",
       "      <td>89.0</td>\n",
       "      <td>25.0</td>\n",
       "      <td>3.0</td>\n",
       "      <td>65.0</td>\n",
       "      <td>0.0</td>\n",
       "      <td>0.0</td>\n",
       "      <td>0.0</td>\n",
       "      <td>0.0</td>\n",
       "      <td>0.0</td>\n",
       "      <td>...</td>\n",
       "      <td>1.0</td>\n",
       "      <td>0.0</td>\n",
       "      <td>0.0</td>\n",
       "      <td>14.0</td>\n",
       "      <td>0.0</td>\n",
       "      <td>0.0</td>\n",
       "      <td>0.0</td>\n",
       "      <td>0.0</td>\n",
       "      <td>0.0</td>\n",
       "      <td>0.0</td>\n",
       "    </tr>\n",
       "    <tr>\n",
       "      <th>31385</th>\n",
       "      <td>0.0</td>\n",
       "      <td>75.0</td>\n",
       "      <td>125.0</td>\n",
       "      <td>0.0</td>\n",
       "      <td>75.0</td>\n",
       "      <td>0.0</td>\n",
       "      <td>0.0</td>\n",
       "      <td>0.0</td>\n",
       "      <td>0.0</td>\n",
       "      <td>0.0</td>\n",
       "      <td>...</td>\n",
       "      <td>0.0</td>\n",
       "      <td>0.0</td>\n",
       "      <td>0.0</td>\n",
       "      <td>1.0</td>\n",
       "      <td>0.0</td>\n",
       "      <td>0.0</td>\n",
       "      <td>0.0</td>\n",
       "      <td>0.0</td>\n",
       "      <td>0.0</td>\n",
       "      <td>0.0</td>\n",
       "    </tr>\n",
       "  </tbody>\n",
       "</table>\n",
       "<p>5 rows × 77 columns</p>\n",
       "</div>"
      ],
      "text/plain": [
       "             tr_type_1000  tr_type_1010  tr_type_1030  tr_type_1100  \\\n",
       "customer_id                                                           \n",
       "6815                  0.0          42.0          90.0           0.0   \n",
       "22899                 0.0           6.0          47.0           0.0   \n",
       "27914                 0.0           0.0          58.0           0.0   \n",
       "28753                 0.0          89.0          25.0           3.0   \n",
       "31385                 0.0          75.0         125.0           0.0   \n",
       "\n",
       "             tr_type_1110  tr_type_1200  tr_type_1210  tr_type_1310  \\\n",
       "customer_id                                                           \n",
       "6815                 18.0           0.0           0.0           0.0   \n",
       "22899                27.0           1.0           0.0           0.0   \n",
       "27914                 1.0           2.0           0.0           0.0   \n",
       "28753                65.0           0.0           0.0           0.0   \n",
       "31385                75.0           0.0           0.0           0.0   \n",
       "\n",
       "             tr_type_1410  tr_type_1510      ...       tr_type_7040  \\\n",
       "customer_id                                  ...                      \n",
       "6815                  0.0           0.0      ...                0.0   \n",
       "22899                 0.0           0.0      ...                0.0   \n",
       "27914                 0.0           0.0      ...                0.0   \n",
       "28753                 0.0           0.0      ...                1.0   \n",
       "31385                 0.0           0.0      ...                0.0   \n",
       "\n",
       "             tr_type_7041  tr_type_7044  tr_type_7070  tr_type_7071  \\\n",
       "customer_id                                                           \n",
       "6815                  0.0           0.0           0.0           0.0   \n",
       "22899                 0.0           0.0           9.0           3.0   \n",
       "27914                 0.0           0.0           0.0           0.0   \n",
       "28753                 0.0           0.0          14.0           0.0   \n",
       "31385                 0.0           0.0           1.0           0.0   \n",
       "\n",
       "             tr_type_7074  tr_type_7075  tr_type_8100  tr_type_8145  \\\n",
       "customer_id                                                           \n",
       "6815                  0.0           0.0           0.0           0.0   \n",
       "22899                 0.0           1.0           0.0           0.0   \n",
       "27914                 0.0           0.0           0.0           0.0   \n",
       "28753                 0.0           0.0           0.0           0.0   \n",
       "31385                 0.0           0.0           0.0           0.0   \n",
       "\n",
       "             tr_type_8146  \n",
       "customer_id                \n",
       "6815                  0.0  \n",
       "22899                 0.0  \n",
       "27914                 0.0  \n",
       "28753                 0.0  \n",
       "31385                 0.0  \n",
       "\n",
       "[5 rows x 77 columns]"
      ]
     },
     "execution_count": 27,
     "metadata": {},
     "output_type": "execute_result"
    }
   ],
   "source": [
    "X2.head()"
   ]
  },
  {
   "cell_type": "code",
   "execution_count": 50,
   "metadata": {
    "collapsed": false,
    "scrolled": true
   },
   "outputs": [],
   "source": [
    "X3 = transactions.groupby('customer_id') \\\n",
    "                    .apply(lambda x: x[['amount']].unstack().mean())\n",
    "    \n",
    "X3 = pd.DataFrame(X3, columns=[\"Mean_amount\"])"
   ]
  },
  {
   "cell_type": "code",
   "execution_count": 56,
   "metadata": {
    "collapsed": false
   },
   "outputs": [],
   "source": [
    "X4 = transactions.groupby('customer_id') \\\n",
    "                    .apply(lambda x: x[['amount']].unstack().min())\n",
    "    \n",
    "X4 = pd.DataFrame(X4, columns=[\"Min_amount\"])"
   ]
  },
  {
   "cell_type": "code",
   "execution_count": 59,
   "metadata": {
    "collapsed": true
   },
   "outputs": [],
   "source": [
    "X5 = transactions.groupby('customer_id') \\\n",
    "                    .apply(lambda x: x[['amount']].unstack().max())\n",
    "    \n",
    "X5 = pd.DataFrame(X5, columns=[\"Max_amount\"])"
   ]
  },
  {
   "cell_type": "code",
   "execution_count": 60,
   "metadata": {
    "collapsed": true
   },
   "outputs": [],
   "source": [
    "X6 = transactions.groupby('customer_id') \\\n",
    "                    .apply(lambda x: x[['amount']].unstack().std())\n",
    "    \n",
    "X6 = pd.DataFrame(X6, columns=[\"Std_amount\"])"
   ]
  },
  {
   "cell_type": "code",
   "execution_count": null,
   "metadata": {
    "collapsed": true
   },
   "outputs": [],
   "source": []
  },
  {
   "cell_type": "code",
   "execution_count": 61,
   "metadata": {
    "collapsed": true
   },
   "outputs": [],
   "source": [
    "X = pd.concat([X1,X2,X3,X4,X5,X6], axis=1)"
   ]
  },
  {
   "cell_type": "code",
   "execution_count": 72,
   "metadata": {
    "collapsed": false
   },
   "outputs": [],
   "source": [
    "X = X.fillna(0)"
   ]
  },
  {
   "cell_type": "code",
   "execution_count": null,
   "metadata": {
    "collapsed": true
   },
   "outputs": [],
   "source": []
  },
  {
   "cell_type": "code",
   "execution_count": 76,
   "metadata": {
    "collapsed": false
   },
   "outputs": [],
   "source": [
    "customers_gender = customers_gender.set_index('customer_id')"
   ]
  },
  {
   "cell_type": "code",
   "execution_count": 77,
   "metadata": {
    "collapsed": false
   },
   "outputs": [
    {
     "data": {
      "text/html": [
       "<div>\n",
       "<table border=\"1\" class=\"dataframe\">\n",
       "  <thead>\n",
       "    <tr style=\"text-align: right;\">\n",
       "      <th></th>\n",
       "      <th>gender</th>\n",
       "    </tr>\n",
       "    <tr>\n",
       "      <th>customer_id</th>\n",
       "      <th></th>\n",
       "    </tr>\n",
       "  </thead>\n",
       "  <tbody>\n",
       "    <tr>\n",
       "      <th>75562265</th>\n",
       "      <td>0</td>\n",
       "    </tr>\n",
       "    <tr>\n",
       "      <th>10928546</th>\n",
       "      <td>1</td>\n",
       "    </tr>\n",
       "    <tr>\n",
       "      <th>69348468</th>\n",
       "      <td>1</td>\n",
       "    </tr>\n",
       "    <tr>\n",
       "      <th>84816985</th>\n",
       "      <td>1</td>\n",
       "    </tr>\n",
       "    <tr>\n",
       "      <th>61009479</th>\n",
       "      <td>0</td>\n",
       "    </tr>\n",
       "  </tbody>\n",
       "</table>\n",
       "</div>"
      ],
      "text/plain": [
       "             gender\n",
       "customer_id        \n",
       "75562265          0\n",
       "10928546          1\n",
       "69348468          1\n",
       "84816985          1\n",
       "61009479          0"
      ]
     },
     "execution_count": 77,
     "metadata": {},
     "output_type": "execute_result"
    }
   ],
   "source": [
    "customers_gender.head()"
   ]
  },
  {
   "cell_type": "code",
   "execution_count": 78,
   "metadata": {
    "collapsed": false
   },
   "outputs": [],
   "source": [
    "Y_tr = customers_gender.loc[X.index].gender\n",
    "Y_tr = Y_tr.reset_index()\n",
    "del Y_tr['customer_id']\n",
    "Y_tr = Y_tr.dropna(0)"
   ]
  },
  {
   "cell_type": "code",
   "execution_count": 79,
   "metadata": {
    "collapsed": false
   },
   "outputs": [],
   "source": [
    "X_tr = X.reset_index()\n",
    "X_tr = X_tr.loc[Y_tr.index].set_index('customer_id')"
   ]
  },
  {
   "cell_type": "code",
   "execution_count": 80,
   "metadata": {
    "collapsed": false
   },
   "outputs": [],
   "source": [
    "for itr, ite in ShuffleSplit(X_tr.shape[0], n_iter=4, train_size=0.7, test_size=0.3, random_state=0):\n",
    "    pass"
   ]
  },
  {
   "cell_type": "code",
   "execution_count": 81,
   "metadata": {
    "collapsed": false
   },
   "outputs": [],
   "source": [
    "X_train = X_tr.iloc[itr]\n",
    "X_val = X_tr.iloc[ite]\n",
    "\n",
    "Y_train = Y_tr.iloc[itr]\n",
    "Y_val = Y_tr.iloc[ite]"
   ]
  },
  {
   "cell_type": "markdown",
   "metadata": {},
   "source": [
    "### Sklearn GradientBoostingClassifier"
   ]
  },
  {
   "cell_type": "code",
   "execution_count": 82,
   "metadata": {
    "collapsed": false
   },
   "outputs": [
    {
     "data": {
      "text/plain": [
       "GradientBoostingClassifier(init=None, learning_rate=0.1, loss='deviance',\n",
       "              max_depth=3, max_features=None, max_leaf_nodes=None,\n",
       "              min_samples_leaf=1, min_samples_split=2,\n",
       "              min_weight_fraction_leaf=0.0, n_estimators=100,\n",
       "              presort='auto', random_state=13, subsample=1.0, verbose=0,\n",
       "              warm_start=False)"
      ]
     },
     "execution_count": 82,
     "metadata": {},
     "output_type": "execute_result"
    }
   ],
   "source": [
    "clf = GradientBoostingClassifier(random_state=13)\n",
    "clf.fit(X_train, Y_train.values[:, 0])"
   ]
  },
  {
   "cell_type": "code",
   "execution_count": 83,
   "metadata": {
    "collapsed": true
   },
   "outputs": [],
   "source": [
    "predicted = clf.predict_proba(X_val)[:, 1]"
   ]
  },
  {
   "cell_type": "code",
   "execution_count": 84,
   "metadata": {
    "collapsed": false
   },
   "outputs": [
    {
     "name": "stdout",
     "output_type": "stream",
     "text": [
      "Auc score 0.863536781506\n"
     ]
    }
   ],
   "source": [
    "auc_score = roc_auc_score(Y_val, predicted)\n",
    "print \"Auc score %s\" % str(auc_score) "
   ]
  },
  {
   "cell_type": "markdown",
   "metadata": {},
   "source": [
    "## XGboost"
   ]
  },
  {
   "cell_type": "code",
   "execution_count": 85,
   "metadata": {
    "collapsed": false
   },
   "outputs": [
    {
     "name": "stdout",
     "output_type": "stream",
     "text": [
      "CPU times: user 23.8 s, sys: 435 ms, total: 24.3 s\n",
      "Wall time: 24.9 s\n"
     ]
    }
   ],
   "source": [
    "%%time\n",
    "model = xgb.XGBClassifier(max_depth=10, learning_rate=0.1, n_estimators=250, silent=True, \\\n",
    "                          objective='binary:logistic', nthread=24, \\\n",
    "                          subsample=0.6, colsample_bytree=0.6, colsample_bylevel=0.7)\n",
    "model.fit(X_train, Y_train.gender)"
   ]
  },
  {
   "cell_type": "code",
   "execution_count": 86,
   "metadata": {
    "collapsed": true
   },
   "outputs": [],
   "source": [
    "predicted = model.predict_proba(X_val)[:, 1]"
   ]
  },
  {
   "cell_type": "code",
   "execution_count": 87,
   "metadata": {
    "collapsed": false
   },
   "outputs": [
    {
     "name": "stdout",
     "output_type": "stream",
     "text": [
      "Auc score 0.866569026074\n"
     ]
    }
   ],
   "source": [
    "auc_score = roc_auc_score(Y_val, predicted)\n",
    "print \"Auc score %s\" % str(auc_score) "
   ]
  },
  {
   "cell_type": "code",
   "execution_count": null,
   "metadata": {
    "collapsed": true
   },
   "outputs": [],
   "source": []
  },
  {
   "cell_type": "code",
   "execution_count": null,
   "metadata": {
    "collapsed": true
   },
   "outputs": [],
   "source": []
  },
  {
   "cell_type": "code",
   "execution_count": 88,
   "metadata": {
    "collapsed": true
   },
   "outputs": [],
   "source": [
    "param = {}\n",
    "param['max_depth'] = 5\n",
    "param['booster'] = 'gbtree'\n",
    "param['objective'] = 'binary:logistic'\n",
    "param['eval_metric'] = 'auc'\n",
    "param['eta'] = 0.05\n",
    "param['subsample'] = 0.7\n",
    "param['colsample_bytree'] = 0.8\n",
    "param['colsample_bylevel'] = 0.8\n",
    "\n",
    "numround = 600"
   ]
  },
  {
   "cell_type": "code",
   "execution_count": 89,
   "metadata": {
    "collapsed": false,
    "scrolled": true
   },
   "outputs": [
    {
     "name": "stdout",
     "output_type": "stream",
     "text": [
      "[0]\ttrain-auc:0.779976\teval-auc:0.752391\n",
      "[10]\ttrain-auc:0.847361\teval-auc:0.813838\n",
      "[20]\ttrain-auc:0.860297\teval-auc:0.822576\n",
      "[30]\ttrain-auc:0.872389\teval-auc:0.832364\n",
      "[40]\ttrain-auc:0.883247\teval-auc:0.839739\n",
      "[50]\ttrain-auc:0.890146\teval-auc:0.844347\n",
      "[60]\ttrain-auc:0.898731\teval-auc:0.848924\n",
      "[70]\ttrain-auc:0.905589\teval-auc:0.853967\n",
      "[80]\ttrain-auc:0.911341\teval-auc:0.857442\n",
      "[90]\ttrain-auc:0.916414\teval-auc:0.860341\n",
      "[100]\ttrain-auc:0.920956\teval-auc:0.863877\n",
      "[110]\ttrain-auc:0.924446\teval-auc:0.86595\n",
      "[120]\ttrain-auc:0.927173\teval-auc:0.867362\n",
      "[130]\ttrain-auc:0.930266\teval-auc:0.868896\n",
      "[140]\ttrain-auc:0.933039\teval-auc:0.869721\n",
      "[150]\ttrain-auc:0.935625\teval-auc:0.870575\n",
      "[160]\ttrain-auc:0.93771\teval-auc:0.871188\n",
      "[170]\ttrain-auc:0.939455\teval-auc:0.871646\n",
      "[180]\ttrain-auc:0.941017\teval-auc:0.872259\n",
      "[190]\ttrain-auc:0.943381\teval-auc:0.872724\n",
      "[200]\ttrain-auc:0.944885\teval-auc:0.872714\n",
      "[210]\ttrain-auc:0.947182\teval-auc:0.873231\n",
      "[220]\ttrain-auc:0.948562\teval-auc:0.873601\n",
      "[230]\ttrain-auc:0.949838\teval-auc:0.873888\n",
      "[240]\ttrain-auc:0.951395\teval-auc:0.874446\n",
      "[250]\ttrain-auc:0.952699\teval-auc:0.874716\n",
      "[260]\ttrain-auc:0.953925\teval-auc:0.875325\n",
      "[270]\ttrain-auc:0.955681\teval-auc:0.875755\n",
      "[280]\ttrain-auc:0.95721\teval-auc:0.875993\n",
      "[290]\ttrain-auc:0.958538\teval-auc:0.875754\n",
      "[300]\ttrain-auc:0.960098\teval-auc:0.876159\n",
      "[310]\ttrain-auc:0.961177\teval-auc:0.87678\n",
      "[320]\ttrain-auc:0.962273\teval-auc:0.876731\n",
      "[330]\ttrain-auc:0.963887\teval-auc:0.876507\n",
      "[340]\ttrain-auc:0.965005\teval-auc:0.876767\n",
      "[350]\ttrain-auc:0.966085\teval-auc:0.877051\n",
      "[360]\ttrain-auc:0.966957\teval-auc:0.877169\n",
      "[370]\ttrain-auc:0.967923\teval-auc:0.877181\n",
      "[380]\ttrain-auc:0.969211\teval-auc:0.877297\n",
      "[390]\ttrain-auc:0.970165\teval-auc:0.87754\n",
      "[400]\ttrain-auc:0.971158\teval-auc:0.877484\n",
      "[410]\ttrain-auc:0.972197\teval-auc:0.877353\n",
      "[420]\ttrain-auc:0.973109\teval-auc:0.877237\n",
      "[430]\ttrain-auc:0.97389\teval-auc:0.877262\n",
      "[440]\ttrain-auc:0.974755\teval-auc:0.877263\n",
      "[450]\ttrain-auc:0.975629\teval-auc:0.876839\n",
      "[460]\ttrain-auc:0.976523\teval-auc:0.876642\n",
      "[470]\ttrain-auc:0.977538\teval-auc:0.876728\n",
      "[480]\ttrain-auc:0.978355\teval-auc:0.87696\n",
      "[490]\ttrain-auc:0.979138\teval-auc:0.876699\n",
      "[500]\ttrain-auc:0.979691\teval-auc:0.877005\n",
      "[510]\ttrain-auc:0.980285\teval-auc:0.877034\n",
      "[520]\ttrain-auc:0.981115\teval-auc:0.877402\n",
      "[530]\ttrain-auc:0.981732\teval-auc:0.877561\n",
      "[540]\ttrain-auc:0.982394\teval-auc:0.877383\n",
      "[550]\ttrain-auc:0.983162\teval-auc:0.877333\n",
      "[560]\ttrain-auc:0.984112\teval-auc:0.877254\n",
      "[570]\ttrain-auc:0.984893\teval-auc:0.877125\n",
      "[580]\ttrain-auc:0.985497\teval-auc:0.877307\n",
      "[590]\ttrain-auc:0.986054\teval-auc:0.87724\n"
     ]
    }
   ],
   "source": [
    "Xdatatrain = xgb.DMatrix(X_train, label = Y_train)\n",
    "Xdatatest = xgb.DMatrix(X_val, label = Y_val)\n",
    "\n",
    "plst = list(param.items())\n",
    "watchlist = [(Xdatatrain, 'train'), (Xdatatest, 'eval')]            \n",
    "\n",
    "bst = xgb.train(plst, Xdatatrain, numround, evals = watchlist, verbose_eval = 10)\n",
    "y_pred_xgb = bst.predict(Xdatatest)"
   ]
  },
  {
   "cell_type": "code",
   "execution_count": 90,
   "metadata": {
    "collapsed": false
   },
   "outputs": [
    {
     "name": "stdout",
     "output_type": "stream",
     "text": [
      "Auc score 0.877219929954\n"
     ]
    }
   ],
   "source": [
    "print \"Auc score %s\" % str(roc_auc_score(Y_val, y_pred_xgb)) "
   ]
  },
  {
   "cell_type": "markdown",
   "metadata": {
    "collapsed": true
   },
   "source": [
    "### Fitting xgb on all train set"
   ]
  },
  {
   "cell_type": "code",
   "execution_count": 91,
   "metadata": {
    "collapsed": false
   },
   "outputs": [],
   "source": [
    "Xdatatrain = xgb.DMatrix(X_tr, label = Y_tr)\n",
    "bst = xgb.train(plst, Xdatatrain, numround, verbose_eval = 10)\n",
    "\n",
    "X_test = X.drop(customers_gender.index)\n",
    "Xtest = xgb.DMatrix(X_test)\n",
    "\n",
    "res_xgb = bst.predict(Xtest)"
   ]
  },
  {
   "cell_type": "code",
   "execution_count": 92,
   "metadata": {
    "collapsed": true
   },
   "outputs": [],
   "source": [
    "result = pd.DataFrame(X_test.index, columns=['customer_id'])\n",
    "result['gender'] = res_xgb"
   ]
  },
  {
   "cell_type": "code",
   "execution_count": 93,
   "metadata": {
    "collapsed": false
   },
   "outputs": [
    {
     "data": {
      "text/html": [
       "<div>\n",
       "<table border=\"1\" class=\"dataframe\">\n",
       "  <thead>\n",
       "    <tr style=\"text-align: right;\">\n",
       "      <th></th>\n",
       "      <th>customer_id</th>\n",
       "      <th>gender</th>\n",
       "    </tr>\n",
       "  </thead>\n",
       "  <tbody>\n",
       "    <tr>\n",
       "      <th>0</th>\n",
       "      <td>49101</td>\n",
       "      <td>0.373475</td>\n",
       "    </tr>\n",
       "    <tr>\n",
       "      <th>1</th>\n",
       "      <td>114348</td>\n",
       "      <td>0.711062</td>\n",
       "    </tr>\n",
       "    <tr>\n",
       "      <th>2</th>\n",
       "      <td>127946</td>\n",
       "      <td>0.807596</td>\n",
       "    </tr>\n",
       "    <tr>\n",
       "      <th>3</th>\n",
       "      <td>137367</td>\n",
       "      <td>0.682659</td>\n",
       "    </tr>\n",
       "    <tr>\n",
       "      <th>4</th>\n",
       "      <td>174467</td>\n",
       "      <td>0.726500</td>\n",
       "    </tr>\n",
       "  </tbody>\n",
       "</table>\n",
       "</div>"
      ],
      "text/plain": [
       "   customer_id    gender\n",
       "0        49101  0.373475\n",
       "1       114348  0.711062\n",
       "2       127946  0.807596\n",
       "3       137367  0.682659\n",
       "4       174467  0.726500"
      ]
     },
     "execution_count": 93,
     "metadata": {},
     "output_type": "execute_result"
    }
   ],
   "source": [
    "result.head()"
   ]
  },
  {
   "cell_type": "code",
   "execution_count": null,
   "metadata": {
    "collapsed": true
   },
   "outputs": [],
   "source": []
  },
  {
   "cell_type": "code",
   "execution_count": 31,
   "metadata": {
    "collapsed": true
   },
   "outputs": [],
   "source": [
    "result.to_csv('baseline2_xgb.csv', index=False)"
   ]
  },
  {
   "cell_type": "code",
   "execution_count": null,
   "metadata": {
    "collapsed": true
   },
   "outputs": [],
   "source": [
    "X.shape"
   ]
  },
  {
   "cell_type": "code",
   "execution_count": null,
   "metadata": {
    "collapsed": true
   },
   "outputs": [],
   "source": []
  },
  {
   "cell_type": "markdown",
   "metadata": {},
   "source": [
    "## Try SVM"
   ]
  },
  {
   "cell_type": "code",
   "execution_count": null,
   "metadata": {
    "collapsed": false
   },
   "outputs": [],
   "source": [
    "\"\"\"from sklearn.svm import SVC\n",
    "Y_train_svm = Y_train.gender.apply(lambda x : int (x>0))\n",
    "\n",
    "svm = SVC(kernel=\"linear\", probability=True)\n",
    "svm.fit(X_train, list(Y_train_svm)) \n",
    "pred = svm.predict_proba(X_val)\n",
    "y_pred = map(lambda x: x[1], pred)\n",
    "print \"Auc score %s\" % str(roc_auc_score(Y_val, y_pred)) \"\"\""
   ]
  },
  {
   "cell_type": "code",
   "execution_count": null,
   "metadata": {
    "collapsed": true
   },
   "outputs": [],
   "source": []
  },
  {
   "cell_type": "markdown",
   "metadata": {
    "collapsed": true
   },
   "source": [
    "## Try logreg"
   ]
  },
  {
   "cell_type": "code",
   "execution_count": 94,
   "metadata": {
    "collapsed": true
   },
   "outputs": [],
   "source": [
    "from sklearn.linear_model import LogisticRegression"
   ]
  },
  {
   "cell_type": "code",
   "execution_count": 119,
   "metadata": {
    "collapsed": false
   },
   "outputs": [
    {
     "data": {
      "text/plain": [
       "LogisticRegression(C=1.0, class_weight=None, dual=False, fit_intercept=True,\n",
       "          intercept_scaling=1, max_iter=300, multi_class='ovr', n_jobs=-1,\n",
       "          penalty='l2', random_state=None, solver='liblinear', tol=0.0001,\n",
       "          verbose=0, warm_start=False)"
      ]
     },
     "execution_count": 119,
     "metadata": {},
     "output_type": "execute_result"
    }
   ],
   "source": [
    "logreg = LogisticRegression(max_iter=300, n_jobs=-1, C=1.0)\n",
    "logreg.fit(X_train, Y_train.gender)"
   ]
  },
  {
   "cell_type": "code",
   "execution_count": 120,
   "metadata": {
    "collapsed": false
   },
   "outputs": [
    {
     "name": "stdout",
     "output_type": "stream",
     "text": [
      "Auc score 0.82196061558\n"
     ]
    }
   ],
   "source": [
    "pred_logreg = logreg.predict_proba(X_val)\n",
    "y_pred_logreg = map(lambda x: x[1], pred_logreg)\n",
    "print \"Auc score %s\" % str(roc_auc_score(Y_val, y_pred_logreg)) "
   ]
  },
  {
   "cell_type": "markdown",
   "metadata": {},
   "source": [
    "### Fit logreg on all train set"
   ]
  },
  {
   "cell_type": "code",
   "execution_count": 121,
   "metadata": {
    "collapsed": true
   },
   "outputs": [],
   "source": [
    "logreg.fit(X_tr, Y_tr.gender)\n",
    "pred_logreg = logreg.predict_proba(X_test)\n",
    "res_logreg = map(lambda x: x[1], pred_logreg)"
   ]
  },
  {
   "cell_type": "code",
   "execution_count": 153,
   "metadata": {
    "collapsed": false
   },
   "outputs": [
    {
     "data": {
      "text/html": [
       "<div>\n",
       "<table border=\"1\" class=\"dataframe\">\n",
       "  <thead>\n",
       "    <tr style=\"text-align: right;\">\n",
       "      <th></th>\n",
       "      <th>customer_id</th>\n",
       "      <th>gender</th>\n",
       "    </tr>\n",
       "  </thead>\n",
       "  <tbody>\n",
       "    <tr>\n",
       "      <th>0</th>\n",
       "      <td>49101</td>\n",
       "      <td>0.464500</td>\n",
       "    </tr>\n",
       "    <tr>\n",
       "      <th>1</th>\n",
       "      <td>114348</td>\n",
       "      <td>0.868011</td>\n",
       "    </tr>\n",
       "    <tr>\n",
       "      <th>2</th>\n",
       "      <td>127946</td>\n",
       "      <td>0.525154</td>\n",
       "    </tr>\n",
       "    <tr>\n",
       "      <th>3</th>\n",
       "      <td>137367</td>\n",
       "      <td>0.407955</td>\n",
       "    </tr>\n",
       "    <tr>\n",
       "      <th>4</th>\n",
       "      <td>174467</td>\n",
       "      <td>0.502470</td>\n",
       "    </tr>\n",
       "  </tbody>\n",
       "</table>\n",
       "</div>"
      ],
      "text/plain": [
       "   customer_id    gender\n",
       "0        49101  0.464500\n",
       "1       114348  0.868011\n",
       "2       127946  0.525154\n",
       "3       137367  0.407955\n",
       "4       174467  0.502470"
      ]
     },
     "execution_count": 153,
     "metadata": {},
     "output_type": "execute_result"
    }
   ],
   "source": [
    "result = pd.DataFrame(X_test.index, columns=['customer_id'])\n",
    "result['gender'] = res_logreg\n",
    "result.head()"
   ]
  },
  {
   "cell_type": "code",
   "execution_count": 154,
   "metadata": {
    "collapsed": true
   },
   "outputs": [],
   "source": [
    "result.to_csv('baseline_logreg.csv', index=False)"
   ]
  },
  {
   "cell_type": "markdown",
   "metadata": {},
   "source": [
    "## Try composition on validation"
   ]
  },
  {
   "cell_type": "code",
   "execution_count": 129,
   "metadata": {
    "collapsed": false
   },
   "outputs": [],
   "source": [
    "y_pred_logreg = np.array(y_pred_logreg)\n",
    "y_pred_rf = np.array(y_pred_rf)\n",
    "y_pred_knn = np.array(y_pred_knn)"
   ]
  },
  {
   "cell_type": "code",
   "execution_count": 181,
   "metadata": {
    "collapsed": true
   },
   "outputs": [],
   "source": [
    "koef_xgb = 0.73\n",
    "koef_rf = 0.2\n",
    "koef_knn = 0.00"
   ]
  },
  {
   "cell_type": "code",
   "execution_count": 182,
   "metadata": {
    "collapsed": false
   },
   "outputs": [],
   "source": [
    "y_pred_comp = koef_xgb*y_pred_xgb + koef_rf*y_pred_rf + koef_knn*y_pred_knn + (1-koef_xgb-koef_rf-koef_knn)*y_pred_logreg"
   ]
  },
  {
   "cell_type": "code",
   "execution_count": 183,
   "metadata": {
    "collapsed": false
   },
   "outputs": [
    {
     "name": "stdout",
     "output_type": "stream",
     "text": [
      "Auc score 0.877883810827\n"
     ]
    }
   ],
   "source": [
    "print \"Auc score %s\" % str(roc_auc_score(Y_val, y_pred_comp)) "
   ]
  },
  {
   "cell_type": "markdown",
   "metadata": {},
   "source": [
    "### Make composition on all train set"
   ]
  },
  {
   "cell_type": "code",
   "execution_count": 184,
   "metadata": {
    "collapsed": true
   },
   "outputs": [],
   "source": [
    "res_logreg = np.array(res_logreg)\n",
    "res_rf = np.array(res_rf)\n",
    "\n",
    "koef_xgb = 0.73\n",
    "koef_rf = 0.2\n",
    "\n",
    "res_xgb_logreg_rf = koef_xgb*res_xgb + koef_rf*res_rf + (1-koef_xgb-koef_rf)*res_logreg"
   ]
  },
  {
   "cell_type": "code",
   "execution_count": 185,
   "metadata": {
    "collapsed": false
   },
   "outputs": [],
   "source": [
    "result = pd.DataFrame(X_test.index, columns=['customer_id'])\n",
    "result['gender'] = res_xgb_logreg_rf"
   ]
  },
  {
   "cell_type": "code",
   "execution_count": 186,
   "metadata": {
    "collapsed": false
   },
   "outputs": [
    {
     "data": {
      "text/html": [
       "<div>\n",
       "<table border=\"1\" class=\"dataframe\">\n",
       "  <thead>\n",
       "    <tr style=\"text-align: right;\">\n",
       "      <th></th>\n",
       "      <th>customer_id</th>\n",
       "      <th>gender</th>\n",
       "    </tr>\n",
       "  </thead>\n",
       "  <tbody>\n",
       "    <tr>\n",
       "      <th>0</th>\n",
       "      <td>49101</td>\n",
       "      <td>0.412155</td>\n",
       "    </tr>\n",
       "    <tr>\n",
       "      <th>1</th>\n",
       "      <td>114348</td>\n",
       "      <td>0.703042</td>\n",
       "    </tr>\n",
       "    <tr>\n",
       "      <th>2</th>\n",
       "      <td>127946</td>\n",
       "      <td>0.756220</td>\n",
       "    </tr>\n",
       "    <tr>\n",
       "      <th>3</th>\n",
       "      <td>137367</td>\n",
       "      <td>0.647503</td>\n",
       "    </tr>\n",
       "    <tr>\n",
       "      <th>4</th>\n",
       "      <td>174467</td>\n",
       "      <td>0.685582</td>\n",
       "    </tr>\n",
       "  </tbody>\n",
       "</table>\n",
       "</div>"
      ],
      "text/plain": [
       "   customer_id    gender\n",
       "0        49101  0.412155\n",
       "1       114348  0.703042\n",
       "2       127946  0.756220\n",
       "3       137367  0.647503\n",
       "4       174467  0.685582"
      ]
     },
     "execution_count": 186,
     "metadata": {},
     "output_type": "execute_result"
    }
   ],
   "source": [
    "result.head()"
   ]
  },
  {
   "cell_type": "code",
   "execution_count": 187,
   "metadata": {
    "collapsed": true
   },
   "outputs": [],
   "source": [
    "result.to_csv('compose_xgb0.73_rf0.2_logreg.csv', index=False)"
   ]
  },
  {
   "cell_type": "code",
   "execution_count": null,
   "metadata": {
    "collapsed": true
   },
   "outputs": [],
   "source": []
  },
  {
   "cell_type": "markdown",
   "metadata": {},
   "source": [
    "## KNN"
   ]
  },
  {
   "cell_type": "code",
   "execution_count": 122,
   "metadata": {
    "collapsed": true
   },
   "outputs": [],
   "source": [
    "from sklearn.neighbors import KNeighborsClassifier"
   ]
  },
  {
   "cell_type": "code",
   "execution_count": 123,
   "metadata": {
    "collapsed": false
   },
   "outputs": [
    {
     "data": {
      "text/plain": [
       "KNeighborsClassifier(algorithm='auto', leaf_size=30, metric='minkowski',\n",
       "           metric_params=None, n_jobs=1, n_neighbors=50, p=1,\n",
       "           weights='distance')"
      ]
     },
     "execution_count": 123,
     "metadata": {},
     "output_type": "execute_result"
    }
   ],
   "source": [
    "knn = KNeighborsClassifier(n_neighbors=50, weights='distance', p=1)\n",
    "\n",
    "knn.fit(X_train, Y_train.gender)"
   ]
  },
  {
   "cell_type": "code",
   "execution_count": 124,
   "metadata": {
    "collapsed": false
   },
   "outputs": [
    {
     "name": "stdout",
     "output_type": "stream",
     "text": [
      "Auc score 0.594748013368\n"
     ]
    }
   ],
   "source": [
    "pred_knn = knn.predict_proba(X_val)\n",
    "y_pred_knn = map(lambda x: x[1], pred_knn)\n",
    "print \"Auc score %s\" % str(roc_auc_score(Y_val, y_pred_knn)) "
   ]
  },
  {
   "cell_type": "code",
   "execution_count": null,
   "metadata": {
    "collapsed": true
   },
   "outputs": [],
   "source": []
  },
  {
   "cell_type": "markdown",
   "metadata": {},
   "source": [
    "## RF"
   ]
  },
  {
   "cell_type": "code",
   "execution_count": 125,
   "metadata": {
    "collapsed": true
   },
   "outputs": [],
   "source": [
    "from sklearn.ensemble import RandomForestClassifier"
   ]
  },
  {
   "cell_type": "code",
   "execution_count": 126,
   "metadata": {
    "collapsed": false
   },
   "outputs": [
    {
     "data": {
      "text/plain": [
       "RandomForestClassifier(bootstrap=True, class_weight=None, criterion='gini',\n",
       "            max_depth=None, max_features='auto', max_leaf_nodes=None,\n",
       "            min_samples_leaf=10, min_samples_split=40,\n",
       "            min_weight_fraction_leaf=0.0, n_estimators=500, n_jobs=-1,\n",
       "            oob_score=True, random_state=None, verbose=0, warm_start=False)"
      ]
     },
     "execution_count": 126,
     "metadata": {},
     "output_type": "execute_result"
    }
   ],
   "source": [
    "rf = RandomForestClassifier(n_estimators=500, min_samples_split=40, min_samples_leaf=10, n_jobs=-1, oob_score=True)\n",
    "rf.fit(X_train, Y_train.gender)"
   ]
  },
  {
   "cell_type": "code",
   "execution_count": 127,
   "metadata": {
    "collapsed": false
   },
   "outputs": [
    {
     "name": "stdout",
     "output_type": "stream",
     "text": [
      "Auc score 0.85575888473\n"
     ]
    }
   ],
   "source": [
    "pred_rf = rf.predict_proba(X_val)\n",
    "y_pred_rf = map(lambda x: x[1], pred_rf)\n",
    "print \"Auc score %s\" % str(roc_auc_score(Y_val, y_pred_rf)) "
   ]
  },
  {
   "cell_type": "code",
   "execution_count": 128,
   "metadata": {
    "collapsed": true
   },
   "outputs": [],
   "source": [
    "rf.fit(X_tr, Y_tr.gender)\n",
    "pred_rf = rf.predict_proba(X_test)\n",
    "res_rf = map(lambda x: x[1], pred_rf)"
   ]
  },
  {
   "cell_type": "code",
   "execution_count": null,
   "metadata": {
    "collapsed": true
   },
   "outputs": [],
   "source": []
  },
  {
   "cell_type": "markdown",
   "metadata": {},
   "source": [
    "## Ideas"
   ]
  },
  {
   "cell_type": "markdown",
   "metadata": {},
   "source": [
    "1. Данные по сумме транзакций монотонно преобразованы из исходных! можно догадаться (100, 1000, 10000)?\n",
    "2. Даты откачены по времени\n",
    "3. Снятие налички (паттерн 7-дневный) --> восстановить дни (1 января, к-рое пришлось на чт!!) - 153 день действительно 1 января - с форума\n",
    "4. Внешние данные за этот год?  2015?\n",
    "\n",
    "\"Проверьте, пожалуйста анонимизацию данных. Вызывает сомнения владелец карты 70780820 - он как бы делает одну транзакцию в 6 минут... Или вот эти двое 45479973 и 90796706 - они раз в 20 минут покупают-продают. Их можно считать выбросами, но они суммарно отъедают от файла данных больше 200 000 транзакций. Либо это мошенники, либо это бесполые роботы.\n",
    "\n",
    "Такие клиенты - источник идей, например, для участников Startup Challenge.\"\n",
    "\n",
    "5. ARIMA !"
   ]
  },
  {
   "cell_type": "code",
   "execution_count": null,
   "metadata": {
    "collapsed": true
   },
   "outputs": [],
   "source": []
  }
 ],
 "metadata": {
  "anaconda-cloud": {},
  "kernelspec": {
   "display_name": "Python [Root]",
   "language": "python",
   "name": "Python [Root]"
  },
  "language_info": {
   "codemirror_mode": {
    "name": "ipython",
    "version": 2
   },
   "file_extension": ".py",
   "mimetype": "text/x-python",
   "name": "python",
   "nbconvert_exporter": "python",
   "pygments_lexer": "ipython2",
   "version": "2.7.11"
  }
 },
 "nbformat": 4,
 "nbformat_minor": 0
}
