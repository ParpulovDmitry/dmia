{
 "cells": [
  {
   "cell_type": "code",
   "execution_count": 1,
   "metadata": {
    "collapsed": true
   },
   "outputs": [],
   "source": [
    "import pandas as pd\n",
    "import numpy as np\n",
    "\n",
    "from sklearn.ensemble import GradientBoostingClassifier\n",
    "from sklearn.metrics import roc_auc_score, roc_curve\n",
    "from sklearn.cross_validation import ShuffleSplit, KFold\n",
    "\n",
    "import xgboost as xgb"
   ]
  },
  {
   "cell_type": "code",
   "execution_count": 2,
   "metadata": {
    "collapsed": true
   },
   "outputs": [],
   "source": [
    "transactions = pd.read_csv('transactions.csv')\n",
    "customers_gender = pd.read_csv('customers_gender_train.csv')"
   ]
  },
  {
   "cell_type": "code",
   "execution_count": 3,
   "metadata": {
    "collapsed": false
   },
   "outputs": [
    {
     "data": {
      "text/html": [
       "<div>\n",
       "<table border=\"1\" class=\"dataframe\">\n",
       "  <thead>\n",
       "    <tr style=\"text-align: right;\">\n",
       "      <th></th>\n",
       "      <th>customer_id</th>\n",
       "      <th>tr_datetime</th>\n",
       "      <th>mcc_code</th>\n",
       "      <th>tr_type</th>\n",
       "      <th>amount</th>\n",
       "      <th>term_id</th>\n",
       "    </tr>\n",
       "  </thead>\n",
       "  <tbody>\n",
       "    <tr>\n",
       "      <th>0</th>\n",
       "      <td>39026145</td>\n",
       "      <td>0 10:23:26</td>\n",
       "      <td>4814</td>\n",
       "      <td>1030</td>\n",
       "      <td>-2245.92</td>\n",
       "      <td>NaN</td>\n",
       "    </tr>\n",
       "    <tr>\n",
       "      <th>1</th>\n",
       "      <td>39026145</td>\n",
       "      <td>1 10:19:29</td>\n",
       "      <td>6011</td>\n",
       "      <td>7010</td>\n",
       "      <td>56147.89</td>\n",
       "      <td>NaN</td>\n",
       "    </tr>\n",
       "    <tr>\n",
       "      <th>2</th>\n",
       "      <td>39026145</td>\n",
       "      <td>1 10:20:56</td>\n",
       "      <td>4829</td>\n",
       "      <td>2330</td>\n",
       "      <td>-56147.89</td>\n",
       "      <td>NaN</td>\n",
       "    </tr>\n",
       "    <tr>\n",
       "      <th>3</th>\n",
       "      <td>39026145</td>\n",
       "      <td>1 10:39:54</td>\n",
       "      <td>5499</td>\n",
       "      <td>1010</td>\n",
       "      <td>-1392.47</td>\n",
       "      <td>NaN</td>\n",
       "    </tr>\n",
       "    <tr>\n",
       "      <th>4</th>\n",
       "      <td>39026145</td>\n",
       "      <td>2 15:33:42</td>\n",
       "      <td>5499</td>\n",
       "      <td>1010</td>\n",
       "      <td>-920.83</td>\n",
       "      <td>NaN</td>\n",
       "    </tr>\n",
       "  </tbody>\n",
       "</table>\n",
       "</div>"
      ],
      "text/plain": [
       "   customer_id tr_datetime  mcc_code  tr_type    amount term_id\n",
       "0     39026145  0 10:23:26      4814     1030  -2245.92     NaN\n",
       "1     39026145  1 10:19:29      6011     7010  56147.89     NaN\n",
       "2     39026145  1 10:20:56      4829     2330 -56147.89     NaN\n",
       "3     39026145  1 10:39:54      5499     1010  -1392.47     NaN\n",
       "4     39026145  2 15:33:42      5499     1010   -920.83     NaN"
      ]
     },
     "execution_count": 3,
     "metadata": {},
     "output_type": "execute_result"
    }
   ],
   "source": [
    "transactions.head()"
   ]
  },
  {
   "cell_type": "code",
   "execution_count": 4,
   "metadata": {
    "collapsed": false
   },
   "outputs": [
    {
     "data": {
      "text/html": [
       "<div>\n",
       "<table border=\"1\" class=\"dataframe\">\n",
       "  <thead>\n",
       "    <tr style=\"text-align: right;\">\n",
       "      <th></th>\n",
       "      <th>customer_id</th>\n",
       "      <th>gender</th>\n",
       "    </tr>\n",
       "  </thead>\n",
       "  <tbody>\n",
       "    <tr>\n",
       "      <th>0</th>\n",
       "      <td>75562265</td>\n",
       "      <td>0</td>\n",
       "    </tr>\n",
       "    <tr>\n",
       "      <th>1</th>\n",
       "      <td>10928546</td>\n",
       "      <td>1</td>\n",
       "    </tr>\n",
       "    <tr>\n",
       "      <th>2</th>\n",
       "      <td>69348468</td>\n",
       "      <td>1</td>\n",
       "    </tr>\n",
       "    <tr>\n",
       "      <th>3</th>\n",
       "      <td>84816985</td>\n",
       "      <td>1</td>\n",
       "    </tr>\n",
       "    <tr>\n",
       "      <th>4</th>\n",
       "      <td>61009479</td>\n",
       "      <td>0</td>\n",
       "    </tr>\n",
       "  </tbody>\n",
       "</table>\n",
       "</div>"
      ],
      "text/plain": [
       "   customer_id  gender\n",
       "0     75562265       0\n",
       "1     10928546       1\n",
       "2     69348468       1\n",
       "3     84816985       1\n",
       "4     61009479       0"
      ]
     },
     "execution_count": 4,
     "metadata": {},
     "output_type": "execute_result"
    }
   ],
   "source": [
    "customers_gender.head()"
   ]
  },
  {
   "cell_type": "code",
   "execution_count": 5,
   "metadata": {
    "collapsed": true
   },
   "outputs": [],
   "source": [
    "X1 = transactions.groupby('customer_id') \\\n",
    "                    .apply(lambda x: x[['mcc_code']].unstack().value_counts()) \\\n",
    "                    .unstack() \\\n",
    "                    .fillna(0)"
   ]
  },
  {
   "cell_type": "code",
   "execution_count": 6,
   "metadata": {
    "collapsed": false
   },
   "outputs": [
    {
     "data": {
      "text/html": [
       "<div>\n",
       "<table border=\"1\" class=\"dataframe\">\n",
       "  <thead>\n",
       "    <tr style=\"text-align: right;\">\n",
       "      <th></th>\n",
       "      <th>mcc_code_742</th>\n",
       "      <th>mcc_code_1711</th>\n",
       "      <th>mcc_code_1731</th>\n",
       "      <th>mcc_code_1799</th>\n",
       "      <th>mcc_code_2741</th>\n",
       "      <th>mcc_code_3000</th>\n",
       "      <th>mcc_code_3351</th>\n",
       "      <th>mcc_code_3501</th>\n",
       "      <th>mcc_code_4111</th>\n",
       "      <th>mcc_code_4112</th>\n",
       "      <th>...</th>\n",
       "      <th>mcc_code_8299</th>\n",
       "      <th>mcc_code_8398</th>\n",
       "      <th>mcc_code_8641</th>\n",
       "      <th>mcc_code_8699</th>\n",
       "      <th>mcc_code_8999</th>\n",
       "      <th>mcc_code_9211</th>\n",
       "      <th>mcc_code_9222</th>\n",
       "      <th>mcc_code_9311</th>\n",
       "      <th>mcc_code_9399</th>\n",
       "      <th>mcc_code_9402</th>\n",
       "    </tr>\n",
       "    <tr>\n",
       "      <th>customer_id</th>\n",
       "      <th></th>\n",
       "      <th></th>\n",
       "      <th></th>\n",
       "      <th></th>\n",
       "      <th></th>\n",
       "      <th></th>\n",
       "      <th></th>\n",
       "      <th></th>\n",
       "      <th></th>\n",
       "      <th></th>\n",
       "      <th></th>\n",
       "      <th></th>\n",
       "      <th></th>\n",
       "      <th></th>\n",
       "      <th></th>\n",
       "      <th></th>\n",
       "      <th></th>\n",
       "      <th></th>\n",
       "      <th></th>\n",
       "      <th></th>\n",
       "      <th></th>\n",
       "    </tr>\n",
       "  </thead>\n",
       "  <tbody>\n",
       "    <tr>\n",
       "      <th>6815</th>\n",
       "      <td>0.0</td>\n",
       "      <td>0.0</td>\n",
       "      <td>0.0</td>\n",
       "      <td>0.0</td>\n",
       "      <td>0.0</td>\n",
       "      <td>0.0</td>\n",
       "      <td>0.0</td>\n",
       "      <td>0.0</td>\n",
       "      <td>0.0</td>\n",
       "      <td>0.0</td>\n",
       "      <td>...</td>\n",
       "      <td>0.0</td>\n",
       "      <td>0.0</td>\n",
       "      <td>0.0</td>\n",
       "      <td>0.0</td>\n",
       "      <td>0.0</td>\n",
       "      <td>0.0</td>\n",
       "      <td>0.0</td>\n",
       "      <td>0.0</td>\n",
       "      <td>0.0</td>\n",
       "      <td>0.0</td>\n",
       "    </tr>\n",
       "    <tr>\n",
       "      <th>22899</th>\n",
       "      <td>0.0</td>\n",
       "      <td>0.0</td>\n",
       "      <td>0.0</td>\n",
       "      <td>0.0</td>\n",
       "      <td>0.0</td>\n",
       "      <td>0.0</td>\n",
       "      <td>0.0</td>\n",
       "      <td>0.0</td>\n",
       "      <td>0.0</td>\n",
       "      <td>0.0</td>\n",
       "      <td>...</td>\n",
       "      <td>0.0</td>\n",
       "      <td>0.0</td>\n",
       "      <td>0.0</td>\n",
       "      <td>0.0</td>\n",
       "      <td>0.0</td>\n",
       "      <td>0.0</td>\n",
       "      <td>0.0</td>\n",
       "      <td>0.0</td>\n",
       "      <td>0.0</td>\n",
       "      <td>0.0</td>\n",
       "    </tr>\n",
       "    <tr>\n",
       "      <th>27914</th>\n",
       "      <td>0.0</td>\n",
       "      <td>0.0</td>\n",
       "      <td>0.0</td>\n",
       "      <td>0.0</td>\n",
       "      <td>0.0</td>\n",
       "      <td>0.0</td>\n",
       "      <td>0.0</td>\n",
       "      <td>0.0</td>\n",
       "      <td>0.0</td>\n",
       "      <td>0.0</td>\n",
       "      <td>...</td>\n",
       "      <td>0.0</td>\n",
       "      <td>0.0</td>\n",
       "      <td>0.0</td>\n",
       "      <td>0.0</td>\n",
       "      <td>0.0</td>\n",
       "      <td>0.0</td>\n",
       "      <td>0.0</td>\n",
       "      <td>0.0</td>\n",
       "      <td>0.0</td>\n",
       "      <td>0.0</td>\n",
       "    </tr>\n",
       "    <tr>\n",
       "      <th>28753</th>\n",
       "      <td>0.0</td>\n",
       "      <td>0.0</td>\n",
       "      <td>0.0</td>\n",
       "      <td>0.0</td>\n",
       "      <td>0.0</td>\n",
       "      <td>0.0</td>\n",
       "      <td>0.0</td>\n",
       "      <td>0.0</td>\n",
       "      <td>0.0</td>\n",
       "      <td>0.0</td>\n",
       "      <td>...</td>\n",
       "      <td>0.0</td>\n",
       "      <td>0.0</td>\n",
       "      <td>0.0</td>\n",
       "      <td>0.0</td>\n",
       "      <td>2.0</td>\n",
       "      <td>0.0</td>\n",
       "      <td>0.0</td>\n",
       "      <td>0.0</td>\n",
       "      <td>0.0</td>\n",
       "      <td>0.0</td>\n",
       "    </tr>\n",
       "    <tr>\n",
       "      <th>31385</th>\n",
       "      <td>0.0</td>\n",
       "      <td>0.0</td>\n",
       "      <td>0.0</td>\n",
       "      <td>0.0</td>\n",
       "      <td>0.0</td>\n",
       "      <td>0.0</td>\n",
       "      <td>0.0</td>\n",
       "      <td>0.0</td>\n",
       "      <td>0.0</td>\n",
       "      <td>0.0</td>\n",
       "      <td>...</td>\n",
       "      <td>0.0</td>\n",
       "      <td>0.0</td>\n",
       "      <td>0.0</td>\n",
       "      <td>0.0</td>\n",
       "      <td>0.0</td>\n",
       "      <td>0.0</td>\n",
       "      <td>0.0</td>\n",
       "      <td>0.0</td>\n",
       "      <td>0.0</td>\n",
       "      <td>0.0</td>\n",
       "    </tr>\n",
       "  </tbody>\n",
       "</table>\n",
       "<p>5 rows × 184 columns</p>\n",
       "</div>"
      ],
      "text/plain": [
       "             mcc_code_742  mcc_code_1711  mcc_code_1731  mcc_code_1799  \\\n",
       "customer_id                                                              \n",
       "6815                  0.0            0.0            0.0            0.0   \n",
       "22899                 0.0            0.0            0.0            0.0   \n",
       "27914                 0.0            0.0            0.0            0.0   \n",
       "28753                 0.0            0.0            0.0            0.0   \n",
       "31385                 0.0            0.0            0.0            0.0   \n",
       "\n",
       "             mcc_code_2741  mcc_code_3000  mcc_code_3351  mcc_code_3501  \\\n",
       "customer_id                                                               \n",
       "6815                   0.0            0.0            0.0            0.0   \n",
       "22899                  0.0            0.0            0.0            0.0   \n",
       "27914                  0.0            0.0            0.0            0.0   \n",
       "28753                  0.0            0.0            0.0            0.0   \n",
       "31385                  0.0            0.0            0.0            0.0   \n",
       "\n",
       "             mcc_code_4111  mcc_code_4112      ...        mcc_code_8299  \\\n",
       "customer_id                                    ...                        \n",
       "6815                   0.0            0.0      ...                  0.0   \n",
       "22899                  0.0            0.0      ...                  0.0   \n",
       "27914                  0.0            0.0      ...                  0.0   \n",
       "28753                  0.0            0.0      ...                  0.0   \n",
       "31385                  0.0            0.0      ...                  0.0   \n",
       "\n",
       "             mcc_code_8398  mcc_code_8641  mcc_code_8699  mcc_code_8999  \\\n",
       "customer_id                                                               \n",
       "6815                   0.0            0.0            0.0            0.0   \n",
       "22899                  0.0            0.0            0.0            0.0   \n",
       "27914                  0.0            0.0            0.0            0.0   \n",
       "28753                  0.0            0.0            0.0            2.0   \n",
       "31385                  0.0            0.0            0.0            0.0   \n",
       "\n",
       "             mcc_code_9211  mcc_code_9222  mcc_code_9311  mcc_code_9399  \\\n",
       "customer_id                                                               \n",
       "6815                   0.0            0.0            0.0            0.0   \n",
       "22899                  0.0            0.0            0.0            0.0   \n",
       "27914                  0.0            0.0            0.0            0.0   \n",
       "28753                  0.0            0.0            0.0            0.0   \n",
       "31385                  0.0            0.0            0.0            0.0   \n",
       "\n",
       "             mcc_code_9402  \n",
       "customer_id                 \n",
       "6815                   0.0  \n",
       "22899                  0.0  \n",
       "27914                  0.0  \n",
       "28753                  0.0  \n",
       "31385                  0.0  \n",
       "\n",
       "[5 rows x 184 columns]"
      ]
     },
     "execution_count": 6,
     "metadata": {},
     "output_type": "execute_result"
    }
   ],
   "source": [
    "X1.columns = map(lambda x: \"mcc_code_\"+str(x), X1.columns)\n",
    "X1.head()"
   ]
  },
  {
   "cell_type": "code",
   "execution_count": 7,
   "metadata": {
    "collapsed": true
   },
   "outputs": [],
   "source": [
    "X2 = transactions.groupby('customer_id') \\\n",
    "                    .apply(lambda x: x[['tr_type']].unstack().value_counts()) \\\n",
    "                    .unstack() \\\n",
    "                    .fillna(0)"
   ]
  },
  {
   "cell_type": "code",
   "execution_count": 8,
   "metadata": {
    "collapsed": false
   },
   "outputs": [],
   "source": [
    "X2.columns = map(lambda x: \"tr_type_\"+str(x), X2.columns)"
   ]
  },
  {
   "cell_type": "code",
   "execution_count": 10,
   "metadata": {
    "collapsed": false
   },
   "outputs": [
    {
     "data": {
      "text/html": [
       "<div>\n",
       "<table border=\"1\" class=\"dataframe\">\n",
       "  <thead>\n",
       "    <tr style=\"text-align: right;\">\n",
       "      <th></th>\n",
       "      <th>tr_type_1000</th>\n",
       "      <th>tr_type_1010</th>\n",
       "      <th>tr_type_1030</th>\n",
       "      <th>tr_type_1100</th>\n",
       "      <th>tr_type_1110</th>\n",
       "      <th>tr_type_1200</th>\n",
       "      <th>tr_type_1210</th>\n",
       "      <th>tr_type_1310</th>\n",
       "      <th>tr_type_1410</th>\n",
       "      <th>tr_type_1510</th>\n",
       "      <th>...</th>\n",
       "      <th>tr_type_7040</th>\n",
       "      <th>tr_type_7041</th>\n",
       "      <th>tr_type_7044</th>\n",
       "      <th>tr_type_7070</th>\n",
       "      <th>tr_type_7071</th>\n",
       "      <th>tr_type_7074</th>\n",
       "      <th>tr_type_7075</th>\n",
       "      <th>tr_type_8100</th>\n",
       "      <th>tr_type_8145</th>\n",
       "      <th>tr_type_8146</th>\n",
       "    </tr>\n",
       "    <tr>\n",
       "      <th>customer_id</th>\n",
       "      <th></th>\n",
       "      <th></th>\n",
       "      <th></th>\n",
       "      <th></th>\n",
       "      <th></th>\n",
       "      <th></th>\n",
       "      <th></th>\n",
       "      <th></th>\n",
       "      <th></th>\n",
       "      <th></th>\n",
       "      <th></th>\n",
       "      <th></th>\n",
       "      <th></th>\n",
       "      <th></th>\n",
       "      <th></th>\n",
       "      <th></th>\n",
       "      <th></th>\n",
       "      <th></th>\n",
       "      <th></th>\n",
       "      <th></th>\n",
       "      <th></th>\n",
       "    </tr>\n",
       "  </thead>\n",
       "  <tbody>\n",
       "    <tr>\n",
       "      <th>6815</th>\n",
       "      <td>0.0</td>\n",
       "      <td>42.0</td>\n",
       "      <td>90.0</td>\n",
       "      <td>0.0</td>\n",
       "      <td>18.0</td>\n",
       "      <td>0.0</td>\n",
       "      <td>0.0</td>\n",
       "      <td>0.0</td>\n",
       "      <td>0.0</td>\n",
       "      <td>0.0</td>\n",
       "      <td>...</td>\n",
       "      <td>0.0</td>\n",
       "      <td>0.0</td>\n",
       "      <td>0.0</td>\n",
       "      <td>0.0</td>\n",
       "      <td>0.0</td>\n",
       "      <td>0.0</td>\n",
       "      <td>0.0</td>\n",
       "      <td>0.0</td>\n",
       "      <td>0.0</td>\n",
       "      <td>0.0</td>\n",
       "    </tr>\n",
       "    <tr>\n",
       "      <th>22899</th>\n",
       "      <td>0.0</td>\n",
       "      <td>6.0</td>\n",
       "      <td>47.0</td>\n",
       "      <td>0.0</td>\n",
       "      <td>27.0</td>\n",
       "      <td>1.0</td>\n",
       "      <td>0.0</td>\n",
       "      <td>0.0</td>\n",
       "      <td>0.0</td>\n",
       "      <td>0.0</td>\n",
       "      <td>...</td>\n",
       "      <td>0.0</td>\n",
       "      <td>0.0</td>\n",
       "      <td>0.0</td>\n",
       "      <td>9.0</td>\n",
       "      <td>3.0</td>\n",
       "      <td>0.0</td>\n",
       "      <td>1.0</td>\n",
       "      <td>0.0</td>\n",
       "      <td>0.0</td>\n",
       "      <td>0.0</td>\n",
       "    </tr>\n",
       "    <tr>\n",
       "      <th>27914</th>\n",
       "      <td>0.0</td>\n",
       "      <td>0.0</td>\n",
       "      <td>58.0</td>\n",
       "      <td>0.0</td>\n",
       "      <td>1.0</td>\n",
       "      <td>2.0</td>\n",
       "      <td>0.0</td>\n",
       "      <td>0.0</td>\n",
       "      <td>0.0</td>\n",
       "      <td>0.0</td>\n",
       "      <td>...</td>\n",
       "      <td>0.0</td>\n",
       "      <td>0.0</td>\n",
       "      <td>0.0</td>\n",
       "      <td>0.0</td>\n",
       "      <td>0.0</td>\n",
       "      <td>0.0</td>\n",
       "      <td>0.0</td>\n",
       "      <td>0.0</td>\n",
       "      <td>0.0</td>\n",
       "      <td>0.0</td>\n",
       "    </tr>\n",
       "    <tr>\n",
       "      <th>28753</th>\n",
       "      <td>0.0</td>\n",
       "      <td>89.0</td>\n",
       "      <td>25.0</td>\n",
       "      <td>3.0</td>\n",
       "      <td>65.0</td>\n",
       "      <td>0.0</td>\n",
       "      <td>0.0</td>\n",
       "      <td>0.0</td>\n",
       "      <td>0.0</td>\n",
       "      <td>0.0</td>\n",
       "      <td>...</td>\n",
       "      <td>1.0</td>\n",
       "      <td>0.0</td>\n",
       "      <td>0.0</td>\n",
       "      <td>14.0</td>\n",
       "      <td>0.0</td>\n",
       "      <td>0.0</td>\n",
       "      <td>0.0</td>\n",
       "      <td>0.0</td>\n",
       "      <td>0.0</td>\n",
       "      <td>0.0</td>\n",
       "    </tr>\n",
       "    <tr>\n",
       "      <th>31385</th>\n",
       "      <td>0.0</td>\n",
       "      <td>75.0</td>\n",
       "      <td>125.0</td>\n",
       "      <td>0.0</td>\n",
       "      <td>75.0</td>\n",
       "      <td>0.0</td>\n",
       "      <td>0.0</td>\n",
       "      <td>0.0</td>\n",
       "      <td>0.0</td>\n",
       "      <td>0.0</td>\n",
       "      <td>...</td>\n",
       "      <td>0.0</td>\n",
       "      <td>0.0</td>\n",
       "      <td>0.0</td>\n",
       "      <td>1.0</td>\n",
       "      <td>0.0</td>\n",
       "      <td>0.0</td>\n",
       "      <td>0.0</td>\n",
       "      <td>0.0</td>\n",
       "      <td>0.0</td>\n",
       "      <td>0.0</td>\n",
       "    </tr>\n",
       "  </tbody>\n",
       "</table>\n",
       "<p>5 rows × 77 columns</p>\n",
       "</div>"
      ],
      "text/plain": [
       "             tr_type_1000  tr_type_1010  tr_type_1030  tr_type_1100  \\\n",
       "customer_id                                                           \n",
       "6815                  0.0          42.0          90.0           0.0   \n",
       "22899                 0.0           6.0          47.0           0.0   \n",
       "27914                 0.0           0.0          58.0           0.0   \n",
       "28753                 0.0          89.0          25.0           3.0   \n",
       "31385                 0.0          75.0         125.0           0.0   \n",
       "\n",
       "             tr_type_1110  tr_type_1200  tr_type_1210  tr_type_1310  \\\n",
       "customer_id                                                           \n",
       "6815                 18.0           0.0           0.0           0.0   \n",
       "22899                27.0           1.0           0.0           0.0   \n",
       "27914                 1.0           2.0           0.0           0.0   \n",
       "28753                65.0           0.0           0.0           0.0   \n",
       "31385                75.0           0.0           0.0           0.0   \n",
       "\n",
       "             tr_type_1410  tr_type_1510      ...       tr_type_7040  \\\n",
       "customer_id                                  ...                      \n",
       "6815                  0.0           0.0      ...                0.0   \n",
       "22899                 0.0           0.0      ...                0.0   \n",
       "27914                 0.0           0.0      ...                0.0   \n",
       "28753                 0.0           0.0      ...                1.0   \n",
       "31385                 0.0           0.0      ...                0.0   \n",
       "\n",
       "             tr_type_7041  tr_type_7044  tr_type_7070  tr_type_7071  \\\n",
       "customer_id                                                           \n",
       "6815                  0.0           0.0           0.0           0.0   \n",
       "22899                 0.0           0.0           9.0           3.0   \n",
       "27914                 0.0           0.0           0.0           0.0   \n",
       "28753                 0.0           0.0          14.0           0.0   \n",
       "31385                 0.0           0.0           1.0           0.0   \n",
       "\n",
       "             tr_type_7074  tr_type_7075  tr_type_8100  tr_type_8145  \\\n",
       "customer_id                                                           \n",
       "6815                  0.0           0.0           0.0           0.0   \n",
       "22899                 0.0           1.0           0.0           0.0   \n",
       "27914                 0.0           0.0           0.0           0.0   \n",
       "28753                 0.0           0.0           0.0           0.0   \n",
       "31385                 0.0           0.0           0.0           0.0   \n",
       "\n",
       "             tr_type_8146  \n",
       "customer_id                \n",
       "6815                  0.0  \n",
       "22899                 0.0  \n",
       "27914                 0.0  \n",
       "28753                 0.0  \n",
       "31385                 0.0  \n",
       "\n",
       "[5 rows x 77 columns]"
      ]
     },
     "execution_count": 10,
     "metadata": {},
     "output_type": "execute_result"
    }
   ],
   "source": [
    "X2.head()"
   ]
  },
  {
   "cell_type": "code",
   "execution_count": 11,
   "metadata": {
    "collapsed": false,
    "scrolled": true
   },
   "outputs": [],
   "source": [
    "X3 = transactions.groupby('customer_id') \\\n",
    "                    .apply(lambda x: x[['amount']].unstack().mean())"
   ]
  },
  {
   "cell_type": "code",
   "execution_count": 12,
   "metadata": {
    "collapsed": false
   },
   "outputs": [],
   "source": [
    "X3 = pd.DataFrame(X3, columns=[\"Mean_amount\"])"
   ]
  },
  {
   "cell_type": "code",
   "execution_count": null,
   "metadata": {
    "collapsed": true
   },
   "outputs": [],
   "source": []
  },
  {
   "cell_type": "code",
   "execution_count": 13,
   "metadata": {
    "collapsed": true
   },
   "outputs": [],
   "source": [
    "X = pd.concat([X1,X2,X3], axis=1)"
   ]
  },
  {
   "cell_type": "code",
   "execution_count": null,
   "metadata": {
    "collapsed": true
   },
   "outputs": [],
   "source": []
  },
  {
   "cell_type": "code",
   "execution_count": 14,
   "metadata": {
    "collapsed": true
   },
   "outputs": [],
   "source": [
    "customers_gender = customers_gender.set_index('customer_id')"
   ]
  },
  {
   "cell_type": "code",
   "execution_count": 15,
   "metadata": {
    "collapsed": false
   },
   "outputs": [
    {
     "data": {
      "text/html": [
       "<div>\n",
       "<table border=\"1\" class=\"dataframe\">\n",
       "  <thead>\n",
       "    <tr style=\"text-align: right;\">\n",
       "      <th></th>\n",
       "      <th>gender</th>\n",
       "    </tr>\n",
       "    <tr>\n",
       "      <th>customer_id</th>\n",
       "      <th></th>\n",
       "    </tr>\n",
       "  </thead>\n",
       "  <tbody>\n",
       "    <tr>\n",
       "      <th>75562265</th>\n",
       "      <td>0</td>\n",
       "    </tr>\n",
       "    <tr>\n",
       "      <th>10928546</th>\n",
       "      <td>1</td>\n",
       "    </tr>\n",
       "    <tr>\n",
       "      <th>69348468</th>\n",
       "      <td>1</td>\n",
       "    </tr>\n",
       "    <tr>\n",
       "      <th>84816985</th>\n",
       "      <td>1</td>\n",
       "    </tr>\n",
       "    <tr>\n",
       "      <th>61009479</th>\n",
       "      <td>0</td>\n",
       "    </tr>\n",
       "  </tbody>\n",
       "</table>\n",
       "</div>"
      ],
      "text/plain": [
       "             gender\n",
       "customer_id        \n",
       "75562265          0\n",
       "10928546          1\n",
       "69348468          1\n",
       "84816985          1\n",
       "61009479          0"
      ]
     },
     "execution_count": 15,
     "metadata": {},
     "output_type": "execute_result"
    }
   ],
   "source": [
    "customers_gender.head()"
   ]
  },
  {
   "cell_type": "code",
   "execution_count": 16,
   "metadata": {
    "collapsed": false
   },
   "outputs": [],
   "source": [
    "Y_tr = customers_gender.loc[X.index].gender\n",
    "Y_tr = Y_tr.reset_index()\n",
    "del Y_tr['customer_id']\n",
    "Y_tr = Y_tr.dropna(0)"
   ]
  },
  {
   "cell_type": "code",
   "execution_count": 17,
   "metadata": {
    "collapsed": false
   },
   "outputs": [],
   "source": [
    "X_tr = X.reset_index()\n",
    "X_tr = X_tr.loc[Y_tr.index].set_index('customer_id')"
   ]
  },
  {
   "cell_type": "code",
   "execution_count": 18,
   "metadata": {
    "collapsed": false
   },
   "outputs": [],
   "source": [
    "for itr, ite in ShuffleSplit(X_tr.shape[0], n_iter=4, train_size=0.7, test_size=0.3, random_state=0):\n",
    "    pass"
   ]
  },
  {
   "cell_type": "code",
   "execution_count": 19,
   "metadata": {
    "collapsed": false
   },
   "outputs": [],
   "source": [
    "X_train = X_tr.iloc[itr]\n",
    "X_val = X_tr.iloc[ite]\n",
    "\n",
    "Y_train = Y_tr.iloc[itr]\n",
    "Y_val = Y_tr.iloc[ite]"
   ]
  },
  {
   "cell_type": "markdown",
   "metadata": {},
   "source": [
    "### Sklearn GradientBoostingClassifier"
   ]
  },
  {
   "cell_type": "code",
   "execution_count": 20,
   "metadata": {
    "collapsed": false
   },
   "outputs": [
    {
     "data": {
      "text/plain": [
       "GradientBoostingClassifier(init=None, learning_rate=0.1, loss='deviance',\n",
       "              max_depth=3, max_features=None, max_leaf_nodes=None,\n",
       "              min_samples_leaf=1, min_samples_split=2,\n",
       "              min_weight_fraction_leaf=0.0, n_estimators=100,\n",
       "              presort='auto', random_state=13, subsample=1.0, verbose=0,\n",
       "              warm_start=False)"
      ]
     },
     "execution_count": 20,
     "metadata": {},
     "output_type": "execute_result"
    }
   ],
   "source": [
    "clf = GradientBoostingClassifier(random_state=13)\n",
    "clf.fit(X_train, Y_train.values[:, 0])"
   ]
  },
  {
   "cell_type": "code",
   "execution_count": 21,
   "metadata": {
    "collapsed": true
   },
   "outputs": [],
   "source": [
    "predicted = clf.predict_proba(X_val)[:, 1]"
   ]
  },
  {
   "cell_type": "code",
   "execution_count": 22,
   "metadata": {
    "collapsed": false
   },
   "outputs": [
    {
     "name": "stdout",
     "output_type": "stream",
     "text": [
      "Auc score 0.860300049102\n"
     ]
    }
   ],
   "source": [
    "auc_score = roc_auc_score(Y_val, predicted)\n",
    "print \"Auc score %s\" % str(auc_score) "
   ]
  },
  {
   "cell_type": "markdown",
   "metadata": {},
   "source": [
    "## XGboost"
   ]
  },
  {
   "cell_type": "code",
   "execution_count": 23,
   "metadata": {
    "collapsed": false
   },
   "outputs": [
    {
     "name": "stdout",
     "output_type": "stream",
     "text": [
      "CPU times: user 23.5 s, sys: 318 ms, total: 23.8 s\n",
      "Wall time: 24.4 s\n"
     ]
    }
   ],
   "source": [
    "%%time\n",
    "model = xgb.XGBClassifier(max_depth=10, learning_rate=0.1, n_estimators=250, silent=True, \\\n",
    "                          objective='binary:logistic', nthread=24, \\\n",
    "                          subsample=0.6, colsample_bytree=0.6, colsample_bylevel=0.7)\n",
    "model.fit(X_train, Y_train.gender)"
   ]
  },
  {
   "cell_type": "code",
   "execution_count": 24,
   "metadata": {
    "collapsed": true
   },
   "outputs": [],
   "source": [
    "predicted = model.predict_proba(X_val)[:, 1]"
   ]
  },
  {
   "cell_type": "code",
   "execution_count": 25,
   "metadata": {
    "collapsed": false
   },
   "outputs": [
    {
     "name": "stdout",
     "output_type": "stream",
     "text": [
      "Auc score 0.862324885762\n"
     ]
    }
   ],
   "source": [
    "auc_score = roc_auc_score(Y_val, predicted)\n",
    "print \"Auc score %s\" % str(auc_score) "
   ]
  },
  {
   "cell_type": "code",
   "execution_count": null,
   "metadata": {
    "collapsed": true
   },
   "outputs": [],
   "source": []
  },
  {
   "cell_type": "code",
   "execution_count": null,
   "metadata": {
    "collapsed": true
   },
   "outputs": [],
   "source": []
  },
  {
   "cell_type": "code",
   "execution_count": 26,
   "metadata": {
    "collapsed": true
   },
   "outputs": [],
   "source": [
    "param = {}\n",
    "param['max_depth'] = 5\n",
    "param['booster'] = 'gbtree'\n",
    "param['objective'] = 'binary:logistic'\n",
    "param['eval_metric'] = 'auc'\n",
    "param['eta'] = 0.05\n",
    "param['subsample'] = 0.7\n",
    "param['colsample_bytree'] = 0.8\n",
    "param['colsample_bylevel'] = 0.8\n",
    "\n",
    "numround = 600"
   ]
  },
  {
   "cell_type": "code",
   "execution_count": 27,
   "metadata": {
    "collapsed": false,
    "scrolled": true
   },
   "outputs": [
    {
     "name": "stdout",
     "output_type": "stream",
     "text": [
      "[0]\ttrain-auc:0.776978\teval-auc:0.752292\n",
      "[10]\ttrain-auc:0.843755\teval-auc:0.812922\n",
      "[20]\ttrain-auc:0.85895\teval-auc:0.823606\n",
      "[30]\ttrain-auc:0.871632\teval-auc:0.831486\n",
      "[40]\ttrain-auc:0.8822\teval-auc:0.838524\n",
      "[50]\ttrain-auc:0.890477\teval-auc:0.844791\n",
      "[60]\ttrain-auc:0.898612\teval-auc:0.850778\n",
      "[70]\ttrain-auc:0.904538\teval-auc:0.854115\n",
      "[80]\ttrain-auc:0.909746\teval-auc:0.857374\n",
      "[90]\ttrain-auc:0.914461\teval-auc:0.860119\n",
      "[100]\ttrain-auc:0.918391\teval-auc:0.862408\n",
      "[110]\ttrain-auc:0.922153\teval-auc:0.863388\n",
      "[120]\ttrain-auc:0.925279\teval-auc:0.865129\n",
      "[130]\ttrain-auc:0.927993\teval-auc:0.866475\n",
      "[140]\ttrain-auc:0.930011\teval-auc:0.867718\n",
      "[150]\ttrain-auc:0.932544\teval-auc:0.869073\n",
      "[160]\ttrain-auc:0.934725\teval-auc:0.869629\n",
      "[170]\ttrain-auc:0.936677\teval-auc:0.870107\n",
      "[180]\ttrain-auc:0.938954\teval-auc:0.870889\n",
      "[190]\ttrain-auc:0.940765\teval-auc:0.871286\n",
      "[200]\ttrain-auc:0.942377\teval-auc:0.8719\n",
      "[210]\ttrain-auc:0.943865\teval-auc:0.87257\n",
      "[220]\ttrain-auc:0.945551\teval-auc:0.873226\n",
      "[230]\ttrain-auc:0.947186\teval-auc:0.873549\n",
      "[240]\ttrain-auc:0.949167\teval-auc:0.873273\n",
      "[250]\ttrain-auc:0.9503\teval-auc:0.873611\n",
      "[260]\ttrain-auc:0.951923\teval-auc:0.87359\n",
      "[270]\ttrain-auc:0.952952\teval-auc:0.873704\n",
      "[280]\ttrain-auc:0.954304\teval-auc:0.874103\n",
      "[290]\ttrain-auc:0.955276\teval-auc:0.874082\n",
      "[300]\ttrain-auc:0.956726\teval-auc:0.873779\n",
      "[310]\ttrain-auc:0.957599\teval-auc:0.874045\n",
      "[320]\ttrain-auc:0.959144\teval-auc:0.874163\n",
      "[330]\ttrain-auc:0.960352\teval-auc:0.874179\n",
      "[340]\ttrain-auc:0.961906\teval-auc:0.874583\n",
      "[350]\ttrain-auc:0.962932\teval-auc:0.87434\n",
      "[360]\ttrain-auc:0.963709\teval-auc:0.874352\n",
      "[370]\ttrain-auc:0.964696\teval-auc:0.874915\n",
      "[380]\ttrain-auc:0.965601\teval-auc:0.875179\n",
      "[390]\ttrain-auc:0.966622\teval-auc:0.875395\n",
      "[400]\ttrain-auc:0.967794\teval-auc:0.875566\n",
      "[410]\ttrain-auc:0.968668\teval-auc:0.875628\n",
      "[420]\ttrain-auc:0.969631\teval-auc:0.875892\n",
      "[430]\ttrain-auc:0.970382\teval-auc:0.875689\n",
      "[440]\ttrain-auc:0.971201\teval-auc:0.875859\n",
      "[450]\ttrain-auc:0.972128\teval-auc:0.876035\n",
      "[460]\ttrain-auc:0.972807\teval-auc:0.875993\n",
      "[470]\ttrain-auc:0.973711\teval-auc:0.875829\n",
      "[480]\ttrain-auc:0.974442\teval-auc:0.875963\n",
      "[490]\ttrain-auc:0.975279\teval-auc:0.876107\n",
      "[500]\ttrain-auc:0.975864\teval-auc:0.876179\n",
      "[510]\ttrain-auc:0.976817\teval-auc:0.875952\n",
      "[520]\ttrain-auc:0.977464\teval-auc:0.876061\n",
      "[530]\ttrain-auc:0.978295\teval-auc:0.876246\n",
      "[540]\ttrain-auc:0.978791\teval-auc:0.876328\n",
      "[550]\ttrain-auc:0.979459\teval-auc:0.876297\n",
      "[560]\ttrain-auc:0.980206\teval-auc:0.876247\n",
      "[570]\ttrain-auc:0.980712\teval-auc:0.876238\n",
      "[580]\ttrain-auc:0.981383\teval-auc:0.876232\n",
      "[590]\ttrain-auc:0.98212\teval-auc:0.876115\n"
     ]
    }
   ],
   "source": [
    "Xdatatrain = xgb.DMatrix(X_train, label = Y_train)\n",
    "Xdatatest = xgb.DMatrix(X_val, label = Y_val)\n",
    "\n",
    "plst = list(param.items())\n",
    "watchlist = [(Xdatatrain, 'train'), (Xdatatest, 'eval')]            \n",
    "\n",
    "bst = xgb.train(plst, Xdatatrain, numround, evals = watchlist, verbose_eval = 10)\n",
    "y_pred = bst.predict(Xdatatest)"
   ]
  },
  {
   "cell_type": "code",
   "execution_count": 28,
   "metadata": {
    "collapsed": false
   },
   "outputs": [
    {
     "name": "stdout",
     "output_type": "stream",
     "text": [
      "Auc score 0.876203910384\n"
     ]
    }
   ],
   "source": [
    "print \"Auc score %s\" % str(roc_auc_score(Y_val, y_pred)) "
   ]
  },
  {
   "cell_type": "code",
   "execution_count": null,
   "metadata": {
    "collapsed": true
   },
   "outputs": [],
   "source": []
  },
  {
   "cell_type": "code",
   "execution_count": 29,
   "metadata": {
    "collapsed": false
   },
   "outputs": [],
   "source": [
    "Xdatatrain = xgb.DMatrix(X_tr, label = Y_tr)\n",
    "bst = xgb.train(plst, Xdatatrain, numround, verbose_eval = 10)\n",
    "\n",
    "X_test = X.drop(customers_gender.index)\n",
    "Xtest = xgb.DMatrix(X_test)\n",
    "\n",
    "res = bst.predict(Xtest)"
   ]
  },
  {
   "cell_type": "code",
   "execution_count": 30,
   "metadata": {
    "collapsed": true
   },
   "outputs": [],
   "source": [
    "result = pd.DataFrame(X_test.index, columns=['customer_id'])\n",
    "result['gender'] = res"
   ]
  },
  {
   "cell_type": "code",
   "execution_count": 31,
   "metadata": {
    "collapsed": false
   },
   "outputs": [
    {
     "data": {
      "text/html": [
       "<div>\n",
       "<table border=\"1\" class=\"dataframe\">\n",
       "  <thead>\n",
       "    <tr style=\"text-align: right;\">\n",
       "      <th></th>\n",
       "      <th>customer_id</th>\n",
       "      <th>gender</th>\n",
       "    </tr>\n",
       "  </thead>\n",
       "  <tbody>\n",
       "    <tr>\n",
       "      <th>0</th>\n",
       "      <td>49101</td>\n",
       "      <td>0.359710</td>\n",
       "    </tr>\n",
       "    <tr>\n",
       "      <th>1</th>\n",
       "      <td>114348</td>\n",
       "      <td>0.622834</td>\n",
       "    </tr>\n",
       "    <tr>\n",
       "      <th>2</th>\n",
       "      <td>127946</td>\n",
       "      <td>0.813793</td>\n",
       "    </tr>\n",
       "    <tr>\n",
       "      <th>3</th>\n",
       "      <td>137367</td>\n",
       "      <td>0.717857</td>\n",
       "    </tr>\n",
       "    <tr>\n",
       "      <th>4</th>\n",
       "      <td>174467</td>\n",
       "      <td>0.646192</td>\n",
       "    </tr>\n",
       "  </tbody>\n",
       "</table>\n",
       "</div>"
      ],
      "text/plain": [
       "   customer_id    gender\n",
       "0        49101  0.359710\n",
       "1       114348  0.622834\n",
       "2       127946  0.813793\n",
       "3       137367  0.717857\n",
       "4       174467  0.646192"
      ]
     },
     "execution_count": 31,
     "metadata": {},
     "output_type": "execute_result"
    }
   ],
   "source": [
    "result.head()"
   ]
  },
  {
   "cell_type": "code",
   "execution_count": 32,
   "metadata": {
    "collapsed": true
   },
   "outputs": [],
   "source": [
    "result.to_csv('baseline2_xgb.csv', index=False)"
   ]
  },
  {
   "cell_type": "code",
   "execution_count": null,
   "metadata": {
    "collapsed": true
   },
   "outputs": [],
   "source": [
    "X.shape"
   ]
  },
  {
   "cell_type": "code",
   "execution_count": 47,
   "metadata": {
    "collapsed": true
   },
   "outputs": [],
   "source": [
    "from sklearn.svm import SVC"
   ]
  },
  {
   "cell_type": "code",
   "execution_count": 48,
   "metadata": {
    "collapsed": false
   },
   "outputs": [],
   "source": [
    "Y_train_svm = Y_train.gender.apply(lambda x : int (x>0))"
   ]
  },
  {
   "cell_type": "code",
   "execution_count": null,
   "metadata": {
    "collapsed": false
   },
   "outputs": [],
   "source": [
    "%%time\n",
    "svm = SVC(kernel=\"linear\", probability=True)\n",
    "svm.fit(X_train, list(Y_train_svm)) "
   ]
  },
  {
   "cell_type": "code",
   "execution_count": 50,
   "metadata": {
    "collapsed": false
   },
   "outputs": [
    {
     "ename": "AttributeError",
     "evalue": "'LinearSVC' object has no attribute 'predict_proba'",
     "output_type": "error",
     "traceback": [
      "\u001b[0;31m---------------------------------------------------------------------------\u001b[0m",
      "\u001b[0;31mAttributeError\u001b[0m                            Traceback (most recent call last)",
      "\u001b[0;32m<ipython-input-50-957d67d3a368>\u001b[0m in \u001b[0;36m<module>\u001b[0;34m()\u001b[0m\n\u001b[0;32m----> 1\u001b[0;31m \u001b[0mpred\u001b[0m \u001b[0;34m=\u001b[0m \u001b[0msvm\u001b[0m\u001b[0;34m.\u001b[0m\u001b[0mpredict_proba\u001b[0m\u001b[0;34m(\u001b[0m\u001b[0mX_val\u001b[0m\u001b[0;34m)\u001b[0m\u001b[0;34m\u001b[0m\u001b[0m\n\u001b[0m\u001b[1;32m      2\u001b[0m \u001b[0my_pred\u001b[0m \u001b[0;34m=\u001b[0m \u001b[0mmap\u001b[0m\u001b[0;34m(\u001b[0m\u001b[0;32mlambda\u001b[0m \u001b[0mx\u001b[0m\u001b[0;34m:\u001b[0m \u001b[0mx\u001b[0m\u001b[0;34m[\u001b[0m\u001b[0;36m1\u001b[0m\u001b[0;34m]\u001b[0m\u001b[0;34m,\u001b[0m \u001b[0mpred\u001b[0m\u001b[0;34m)\u001b[0m\u001b[0;34m\u001b[0m\u001b[0m\n",
      "\u001b[0;31mAttributeError\u001b[0m: 'LinearSVC' object has no attribute 'predict_proba'"
     ]
    }
   ],
   "source": [
    "pred = svm.predict_proba(X_val)\n",
    "y_pred = map(lambda x: x[1], pred)"
   ]
  },
  {
   "cell_type": "code",
   "execution_count": 45,
   "metadata": {
    "collapsed": false
   },
   "outputs": [
    {
     "name": "stdout",
     "output_type": "stream",
     "text": [
      "Auc score 0.509377160744\n"
     ]
    }
   ],
   "source": [
    "print \"Auc score %s\" % str(roc_auc_score(Y_val, y_pred)) "
   ]
  },
  {
   "cell_type": "code",
   "execution_count": null,
   "metadata": {
    "collapsed": true
   },
   "outputs": [],
   "source": []
  },
  {
   "cell_type": "code",
   "execution_count": null,
   "metadata": {
    "collapsed": true
   },
   "outputs": [],
   "source": []
  },
  {
   "cell_type": "code",
   "execution_count": null,
   "metadata": {
    "collapsed": true
   },
   "outputs": [],
   "source": []
  },
  {
   "cell_type": "code",
   "execution_count": null,
   "metadata": {
    "collapsed": true
   },
   "outputs": [],
   "source": []
  },
  {
   "cell_type": "code",
   "execution_count": null,
   "metadata": {
    "collapsed": true
   },
   "outputs": [],
   "source": []
  },
  {
   "cell_type": "code",
   "execution_count": null,
   "metadata": {
    "collapsed": true
   },
   "outputs": [],
   "source": []
  },
  {
   "cell_type": "code",
   "execution_count": null,
   "metadata": {
    "collapsed": true
   },
   "outputs": [],
   "source": []
  },
  {
   "cell_type": "code",
   "execution_count": null,
   "metadata": {
    "collapsed": true
   },
   "outputs": [],
   "source": []
  },
  {
   "cell_type": "code",
   "execution_count": null,
   "metadata": {
    "collapsed": true
   },
   "outputs": [],
   "source": []
  },
  {
   "cell_type": "code",
   "execution_count": null,
   "metadata": {
    "collapsed": true
   },
   "outputs": [],
   "source": []
  },
  {
   "cell_type": "code",
   "execution_count": null,
   "metadata": {
    "collapsed": true
   },
   "outputs": [],
   "source": []
  },
  {
   "cell_type": "code",
   "execution_count": null,
   "metadata": {
    "collapsed": true
   },
   "outputs": [],
   "source": []
  },
  {
   "cell_type": "code",
   "execution_count": null,
   "metadata": {
    "collapsed": true
   },
   "outputs": [],
   "source": []
  }
 ],
 "metadata": {
  "kernelspec": {
   "display_name": "Python [Root]",
   "language": "python",
   "name": "Python [Root]"
  },
  "language_info": {
   "codemirror_mode": {
    "name": "ipython",
    "version": 2
   },
   "file_extension": ".py",
   "mimetype": "text/x-python",
   "name": "python",
   "nbconvert_exporter": "python",
   "pygments_lexer": "ipython2",
   "version": "2.7.11"
  }
 },
 "nbformat": 4,
 "nbformat_minor": 0
}
