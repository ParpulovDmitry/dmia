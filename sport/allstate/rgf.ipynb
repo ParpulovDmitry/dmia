{
 "cells": [
  {
   "cell_type": "code",
   "execution_count": 1,
   "metadata": {
    "collapsed": false
   },
   "outputs": [
    {
     "name": "stderr",
     "output_type": "stream",
     "text": [
      "/home/y.romanikhin/.virtualenvs/venv/lib/python2.7/site-packages/sklearn/cross_validation.py:44: DeprecationWarning: This module was deprecated in version 0.18 in favor of the model_selection module into which all the refactored classes and functions are moved. Also note that the interface of the new CV iterators are different from that of this module. This module will be removed in 0.20.\n",
      "  \"This module will be removed in 0.20.\", DeprecationWarning)\n"
     ]
    }
   ],
   "source": [
    "import matplotlib.pyplot as plt\n",
    "import pandas as pd\n",
    "import numpy as np\n",
    "\n",
    "from sklearn.cross_validation import train_test_split, KFold\n",
    "from sklearn.metrics import mean_absolute_error \n",
    "from rgf.rgf import RGFRegressor"
   ]
  },
  {
   "cell_type": "code",
   "execution_count": 2,
   "metadata": {
    "collapsed": true
   },
   "outputs": [],
   "source": [
    "train = pd.read_csv(\"train_big.csv\")\n",
    "test = pd.read_csv(\"test_big.csv\")"
   ]
  },
  {
   "cell_type": "code",
   "execution_count": 3,
   "metadata": {
    "collapsed": true
   },
   "outputs": [],
   "source": [
    "shift = 200"
   ]
  },
  {
   "cell_type": "code",
   "execution_count": null,
   "metadata": {
    "collapsed": true
   },
   "outputs": [],
   "source": []
  },
  {
   "cell_type": "code",
   "execution_count": 33,
   "metadata": {
    "collapsed": false
   },
   "outputs": [],
   "source": [
    "ids_train = train[\"id\"]\n",
    "ids_test = test[\"id\"]\n",
    "\n",
    "y_train = np.log(train['loss'] + shift)\n",
    "X_train = train.drop(['loss','id'], axis=1)\n",
    "X_test = test.drop(['loss','id'], axis=1)"
   ]
  },
  {
   "cell_type": "code",
   "execution_count": null,
   "metadata": {
    "collapsed": true
   },
   "outputs": [],
   "source": [
    "## create holdout\n",
    "X_train_local, X_val, y_train_local, y_val = train_test_split(X_train, y_train, test_size=0.2, random_state=0)"
   ]
  },
  {
   "cell_type": "code",
   "execution_count": null,
   "metadata": {
    "collapsed": true
   },
   "outputs": [],
   "source": []
  },
  {
   "cell_type": "code",
   "execution_count": null,
   "metadata": {
    "collapsed": true
   },
   "outputs": [],
   "source": []
  },
  {
   "cell_type": "code",
   "execution_count": 84,
   "metadata": {
    "collapsed": true
   },
   "outputs": [],
   "source": [
    "kf = KFold(X_train.shape[0], n_folds = nfolds, shuffle = True, random_state = 111)\n"
   ]
  },
  {
   "cell_type": "code",
   "execution_count": 85,
   "metadata": {
    "collapsed": false
   },
   "outputs": [],
   "source": [
    "from sklearn.ensemble import ExtraTreesRegressor\n",
    "\n",
    "clf = ExtraTreesRegressor(n_estimators=2, criterion='mse', max_depth=2,)"
   ]
  },
  {
   "cell_type": "code",
   "execution_count": 101,
   "metadata": {
    "collapsed": false,
    "scrolled": true
   },
   "outputs": [],
   "source": [
    "%%time\n",
    "\n",
    "oof_df = pd.DataFrame()\n",
    "\n",
    "for i, (itr, ite) in enumerate(kf):\n",
    "    x_tr = X_train.loc[itr]\n",
    "    y_tr = y_train.loc[itr].values\n",
    "    ind_tr = ids_train.loc[itr].values\n",
    "    \n",
    "    x_te = X_train.loc[ite]\n",
    "    y_te = y_train.loc[ite].values\n",
    "    ind_te = ids_train.loc[ite].values\n",
    "    \n",
    "    clf.fit(x_tr, y_tr)\n",
    "    pred_oof = clf.predict(x_te)\n",
    "    \n",
    "    oof_df = oof_df.append(pd.DataFrame(np.vstack([ind_te, y_te, pred_oof]).T, \n",
    "                               columns=[\"id\", \"y_true\", \"y_pred\"]).set_index(\"id\"))\n",
    "\n",
    "oof_df = oof_df.sort_index()    \n",
    "oof_df.to_csv(\"oof_preds/oof_df.csv\")"
   ]
  },
  {
   "cell_type": "code",
   "execution_count": null,
   "metadata": {
    "collapsed": true
   },
   "outputs": [],
   "source": []
  },
  {
   "cell_type": "code",
   "execution_count": 80,
   "metadata": {
    "collapsed": false
   },
   "outputs": [],
   "source": [
    "clf.fit(x_tr, y_tr)\n",
    "pred_oof = clf.predict(x_te)"
   ]
  },
  {
   "cell_type": "code",
   "execution_count": 81,
   "metadata": {
    "collapsed": false,
    "scrolled": true
   },
   "outputs": [
    {
     "data": {
      "text/html": [
       "<div>\n",
       "<table border=\"1\" class=\"dataframe\">\n",
       "  <thead>\n",
       "    <tr style=\"text-align: right;\">\n",
       "      <th></th>\n",
       "      <th>y_true</th>\n",
       "      <th>y_pred</th>\n",
       "    </tr>\n",
       "    <tr>\n",
       "      <th>id</th>\n",
       "      <th></th>\n",
       "      <th></th>\n",
       "    </tr>\n",
       "  </thead>\n",
       "  <tbody>\n",
       "    <tr>\n",
       "      <th>469729.0</th>\n",
       "      <td>6.971434</td>\n",
       "      <td>7.529062</td>\n",
       "    </tr>\n",
       "    <tr>\n",
       "      <th>469733.0</th>\n",
       "      <td>7.489423</td>\n",
       "      <td>8.068243</td>\n",
       "    </tr>\n",
       "    <tr>\n",
       "      <th>469734.0</th>\n",
       "      <td>7.516743</td>\n",
       "      <td>7.529062</td>\n",
       "    </tr>\n",
       "    <tr>\n",
       "      <th>469736.0</th>\n",
       "      <td>8.620825</td>\n",
       "      <td>8.173037</td>\n",
       "    </tr>\n",
       "    <tr>\n",
       "      <th>469737.0</th>\n",
       "      <td>8.160398</td>\n",
       "      <td>7.529062</td>\n",
       "    </tr>\n",
       "    <tr>\n",
       "      <th>469738.0</th>\n",
       "      <td>7.027128</td>\n",
       "      <td>7.529062</td>\n",
       "    </tr>\n",
       "    <tr>\n",
       "      <th>469744.0</th>\n",
       "      <td>8.869609</td>\n",
       "      <td>7.529062</td>\n",
       "    </tr>\n",
       "    <tr>\n",
       "      <th>469746.0</th>\n",
       "      <td>7.899139</td>\n",
       "      <td>8.173037</td>\n",
       "    </tr>\n",
       "    <tr>\n",
       "      <th>469747.0</th>\n",
       "      <td>8.176313</td>\n",
       "      <td>7.529062</td>\n",
       "    </tr>\n",
       "    <tr>\n",
       "      <th>469749.0</th>\n",
       "      <td>8.117250</td>\n",
       "      <td>7.529062</td>\n",
       "    </tr>\n",
       "    <tr>\n",
       "      <th>469751.0</th>\n",
       "      <td>7.196402</td>\n",
       "      <td>7.529062</td>\n",
       "    </tr>\n",
       "    <tr>\n",
       "      <th>469752.0</th>\n",
       "      <td>7.329087</td>\n",
       "      <td>7.529062</td>\n",
       "    </tr>\n",
       "    <tr>\n",
       "      <th>469757.0</th>\n",
       "      <td>8.600265</td>\n",
       "      <td>8.625529</td>\n",
       "    </tr>\n",
       "    <tr>\n",
       "      <th>469760.0</th>\n",
       "      <td>7.533105</td>\n",
       "      <td>8.173037</td>\n",
       "    </tr>\n",
       "    <tr>\n",
       "      <th>469762.0</th>\n",
       "      <td>6.842907</td>\n",
       "      <td>7.529062</td>\n",
       "    </tr>\n",
       "    <tr>\n",
       "      <th>469763.0</th>\n",
       "      <td>8.831756</td>\n",
       "      <td>8.625529</td>\n",
       "    </tr>\n",
       "    <tr>\n",
       "      <th>469768.0</th>\n",
       "      <td>8.028077</td>\n",
       "      <td>7.529062</td>\n",
       "    </tr>\n",
       "    <tr>\n",
       "      <th>469772.0</th>\n",
       "      <td>7.180435</td>\n",
       "      <td>7.529062</td>\n",
       "    </tr>\n",
       "    <tr>\n",
       "      <th>469773.0</th>\n",
       "      <td>7.997660</td>\n",
       "      <td>7.529062</td>\n",
       "    </tr>\n",
       "    <tr>\n",
       "      <th>469774.0</th>\n",
       "      <td>8.877643</td>\n",
       "      <td>8.625529</td>\n",
       "    </tr>\n",
       "    <tr>\n",
       "      <th>469778.0</th>\n",
       "      <td>7.587392</td>\n",
       "      <td>7.529062</td>\n",
       "    </tr>\n",
       "    <tr>\n",
       "      <th>469783.0</th>\n",
       "      <td>7.690048</td>\n",
       "      <td>7.529062</td>\n",
       "    </tr>\n",
       "    <tr>\n",
       "      <th>469785.0</th>\n",
       "      <td>7.501646</td>\n",
       "      <td>8.625529</td>\n",
       "    </tr>\n",
       "    <tr>\n",
       "      <th>469788.0</th>\n",
       "      <td>7.046203</td>\n",
       "      <td>7.529062</td>\n",
       "    </tr>\n",
       "    <tr>\n",
       "      <th>469789.0</th>\n",
       "      <td>7.124519</td>\n",
       "      <td>8.173037</td>\n",
       "    </tr>\n",
       "    <tr>\n",
       "      <th>469797.0</th>\n",
       "      <td>7.658256</td>\n",
       "      <td>7.529062</td>\n",
       "    </tr>\n",
       "    <tr>\n",
       "      <th>469799.0</th>\n",
       "      <td>7.549730</td>\n",
       "      <td>7.529062</td>\n",
       "    </tr>\n",
       "    <tr>\n",
       "      <th>469802.0</th>\n",
       "      <td>6.699106</td>\n",
       "      <td>7.529062</td>\n",
       "    </tr>\n",
       "    <tr>\n",
       "      <th>469803.0</th>\n",
       "      <td>6.916784</td>\n",
       "      <td>7.529062</td>\n",
       "    </tr>\n",
       "    <tr>\n",
       "      <th>469809.0</th>\n",
       "      <td>7.925237</td>\n",
       "      <td>7.529062</td>\n",
       "    </tr>\n",
       "    <tr>\n",
       "      <th>...</th>\n",
       "      <td>...</td>\n",
       "      <td>...</td>\n",
       "    </tr>\n",
       "    <tr>\n",
       "      <th>587563.0</th>\n",
       "      <td>7.857400</td>\n",
       "      <td>7.529062</td>\n",
       "    </tr>\n",
       "    <tr>\n",
       "      <th>587564.0</th>\n",
       "      <td>7.057123</td>\n",
       "      <td>7.529062</td>\n",
       "    </tr>\n",
       "    <tr>\n",
       "      <th>587566.0</th>\n",
       "      <td>8.001740</td>\n",
       "      <td>7.529062</td>\n",
       "    </tr>\n",
       "    <tr>\n",
       "      <th>587567.0</th>\n",
       "      <td>7.765425</td>\n",
       "      <td>7.529062</td>\n",
       "    </tr>\n",
       "    <tr>\n",
       "      <th>587569.0</th>\n",
       "      <td>6.738496</td>\n",
       "      <td>7.529062</td>\n",
       "    </tr>\n",
       "    <tr>\n",
       "      <th>587570.0</th>\n",
       "      <td>8.412237</td>\n",
       "      <td>7.529062</td>\n",
       "    </tr>\n",
       "    <tr>\n",
       "      <th>587572.0</th>\n",
       "      <td>8.443805</td>\n",
       "      <td>7.529062</td>\n",
       "    </tr>\n",
       "    <tr>\n",
       "      <th>587573.0</th>\n",
       "      <td>7.694393</td>\n",
       "      <td>7.529062</td>\n",
       "    </tr>\n",
       "    <tr>\n",
       "      <th>587574.0</th>\n",
       "      <td>9.727341</td>\n",
       "      <td>7.529062</td>\n",
       "    </tr>\n",
       "    <tr>\n",
       "      <th>587575.0</th>\n",
       "      <td>8.480645</td>\n",
       "      <td>8.068243</td>\n",
       "    </tr>\n",
       "    <tr>\n",
       "      <th>587578.0</th>\n",
       "      <td>8.131972</td>\n",
       "      <td>7.529062</td>\n",
       "    </tr>\n",
       "    <tr>\n",
       "      <th>587579.0</th>\n",
       "      <td>7.671412</td>\n",
       "      <td>7.529062</td>\n",
       "    </tr>\n",
       "    <tr>\n",
       "      <th>587580.0</th>\n",
       "      <td>6.946409</td>\n",
       "      <td>7.529062</td>\n",
       "    </tr>\n",
       "    <tr>\n",
       "      <th>587584.0</th>\n",
       "      <td>6.999942</td>\n",
       "      <td>7.529062</td>\n",
       "    </tr>\n",
       "    <tr>\n",
       "      <th>587592.0</th>\n",
       "      <td>7.532292</td>\n",
       "      <td>7.529062</td>\n",
       "    </tr>\n",
       "    <tr>\n",
       "      <th>587595.0</th>\n",
       "      <td>8.343742</td>\n",
       "      <td>7.529062</td>\n",
       "    </tr>\n",
       "    <tr>\n",
       "      <th>587601.0</th>\n",
       "      <td>9.414536</td>\n",
       "      <td>8.625529</td>\n",
       "    </tr>\n",
       "    <tr>\n",
       "      <th>587602.0</th>\n",
       "      <td>8.548374</td>\n",
       "      <td>7.529062</td>\n",
       "    </tr>\n",
       "    <tr>\n",
       "      <th>587603.0</th>\n",
       "      <td>7.935487</td>\n",
       "      <td>8.625529</td>\n",
       "    </tr>\n",
       "    <tr>\n",
       "      <th>587605.0</th>\n",
       "      <td>7.224972</td>\n",
       "      <td>7.529062</td>\n",
       "    </tr>\n",
       "    <tr>\n",
       "      <th>587606.0</th>\n",
       "      <td>7.766891</td>\n",
       "      <td>7.529062</td>\n",
       "    </tr>\n",
       "    <tr>\n",
       "      <th>587607.0</th>\n",
       "      <td>8.361806</td>\n",
       "      <td>8.625529</td>\n",
       "    </tr>\n",
       "    <tr>\n",
       "      <th>587611.0</th>\n",
       "      <td>8.488705</td>\n",
       "      <td>8.068243</td>\n",
       "    </tr>\n",
       "    <tr>\n",
       "      <th>587612.0</th>\n",
       "      <td>7.085776</td>\n",
       "      <td>8.173037</td>\n",
       "    </tr>\n",
       "    <tr>\n",
       "      <th>587619.0</th>\n",
       "      <td>6.912026</td>\n",
       "      <td>7.529062</td>\n",
       "    </tr>\n",
       "    <tr>\n",
       "      <th>587620.0</th>\n",
       "      <td>7.243241</td>\n",
       "      <td>8.173037</td>\n",
       "    </tr>\n",
       "    <tr>\n",
       "      <th>587624.0</th>\n",
       "      <td>7.176514</td>\n",
       "      <td>7.529062</td>\n",
       "    </tr>\n",
       "    <tr>\n",
       "      <th>587630.0</th>\n",
       "      <td>8.693269</td>\n",
       "      <td>8.625529</td>\n",
       "    </tr>\n",
       "    <tr>\n",
       "      <th>587632.0</th>\n",
       "      <td>7.474698</td>\n",
       "      <td>8.068243</td>\n",
       "    </tr>\n",
       "    <tr>\n",
       "      <th>587633.0</th>\n",
       "      <td>8.507490</td>\n",
       "      <td>7.529062</td>\n",
       "    </tr>\n",
       "  </tbody>\n",
       "</table>\n",
       "<p>37663 rows × 2 columns</p>\n",
       "</div>"
      ],
      "text/plain": [
       "            y_true    y_pred\n",
       "id                          \n",
       "469729.0  6.971434  7.529062\n",
       "469733.0  7.489423  8.068243\n",
       "469734.0  7.516743  7.529062\n",
       "469736.0  8.620825  8.173037\n",
       "469737.0  8.160398  7.529062\n",
       "469738.0  7.027128  7.529062\n",
       "469744.0  8.869609  7.529062\n",
       "469746.0  7.899139  8.173037\n",
       "469747.0  8.176313  7.529062\n",
       "469749.0  8.117250  7.529062\n",
       "469751.0  7.196402  7.529062\n",
       "469752.0  7.329087  7.529062\n",
       "469757.0  8.600265  8.625529\n",
       "469760.0  7.533105  8.173037\n",
       "469762.0  6.842907  7.529062\n",
       "469763.0  8.831756  8.625529\n",
       "469768.0  8.028077  7.529062\n",
       "469772.0  7.180435  7.529062\n",
       "469773.0  7.997660  7.529062\n",
       "469774.0  8.877643  8.625529\n",
       "469778.0  7.587392  7.529062\n",
       "469783.0  7.690048  7.529062\n",
       "469785.0  7.501646  8.625529\n",
       "469788.0  7.046203  7.529062\n",
       "469789.0  7.124519  8.173037\n",
       "469797.0  7.658256  7.529062\n",
       "469799.0  7.549730  7.529062\n",
       "469802.0  6.699106  7.529062\n",
       "469803.0  6.916784  7.529062\n",
       "469809.0  7.925237  7.529062\n",
       "...            ...       ...\n",
       "587563.0  7.857400  7.529062\n",
       "587564.0  7.057123  7.529062\n",
       "587566.0  8.001740  7.529062\n",
       "587567.0  7.765425  7.529062\n",
       "587569.0  6.738496  7.529062\n",
       "587570.0  8.412237  7.529062\n",
       "587572.0  8.443805  7.529062\n",
       "587573.0  7.694393  7.529062\n",
       "587574.0  9.727341  7.529062\n",
       "587575.0  8.480645  8.068243\n",
       "587578.0  8.131972  7.529062\n",
       "587579.0  7.671412  7.529062\n",
       "587580.0  6.946409  7.529062\n",
       "587584.0  6.999942  7.529062\n",
       "587592.0  7.532292  7.529062\n",
       "587595.0  8.343742  7.529062\n",
       "587601.0  9.414536  8.625529\n",
       "587602.0  8.548374  7.529062\n",
       "587603.0  7.935487  8.625529\n",
       "587605.0  7.224972  7.529062\n",
       "587606.0  7.766891  7.529062\n",
       "587607.0  8.361806  8.625529\n",
       "587611.0  8.488705  8.068243\n",
       "587612.0  7.085776  8.173037\n",
       "587619.0  6.912026  7.529062\n",
       "587620.0  7.243241  8.173037\n",
       "587624.0  7.176514  7.529062\n",
       "587630.0  8.693269  8.625529\n",
       "587632.0  7.474698  8.068243\n",
       "587633.0  8.507490  7.529062\n",
       "\n",
       "[37663 rows x 2 columns]"
      ]
     },
     "execution_count": 81,
     "metadata": {},
     "output_type": "execute_result"
    }
   ],
   "source": [
    "pd.DataFrame(np.vstack([ind_te, y_te, pred_oof]).T, columns=[\"id\", \"y_true\", \"y_pred\"]).set_index(\"id\")"
   ]
  },
  {
   "cell_type": "code",
   "execution_count": 78,
   "metadata": {
    "collapsed": false
   },
   "outputs": [
    {
     "data": {
      "text/plain": [
       "array([469729, 469733, 469734, ..., 587630, 587632, 587633])"
      ]
     },
     "execution_count": 78,
     "metadata": {},
     "output_type": "execute_result"
    }
   ],
   "source": [
    "ids_train.loc[ite].values"
   ]
  },
  {
   "cell_type": "code",
   "execution_count": 56,
   "metadata": {
    "collapsed": false
   },
   "outputs": [
    {
     "data": {
      "text/plain": [
       "array([ 8.16977231,  7.79475991,  7.51817222, ...,  7.51817222,\n",
       "        7.51817222,  7.51817222])"
      ]
     },
     "execution_count": 56,
     "metadata": {},
     "output_type": "execute_result"
    }
   ],
   "source": [
    "pred_oof"
   ]
  },
  {
   "cell_type": "code",
   "execution_count": 59,
   "metadata": {
    "collapsed": false
   },
   "outputs": [
    {
     "data": {
      "text/plain": [
       "(37663, 725)"
      ]
     },
     "execution_count": 59,
     "metadata": {},
     "output_type": "execute_result"
    }
   ],
   "source": [
    "x_te.shape"
   ]
  },
  {
   "cell_type": "code",
   "execution_count": null,
   "metadata": {
    "collapsed": true
   },
   "outputs": [],
   "source": []
  },
  {
   "cell_type": "code",
   "execution_count": null,
   "metadata": {
    "collapsed": true
   },
   "outputs": [],
   "source": [
    "def get_oof(clf):\n",
    "    oof_train = np.zeros((ntrain,))\n",
    "    oof_test = np.zeros((ntest,))\n",
    "    oof_test_skf = np.empty((NFOLDS, ntest))\n",
    "\n",
    "    for i, (train_index, test_index) in enumerate(kf):\n",
    "        x_tr = x_train[train_index]\n",
    "        y_tr = y_train[train_index]\n",
    "        x_te = x_train[test_index]\n",
    "\n",
    "        clf.train(x_tr, y_tr)\n",
    "\n",
    "        oof_train[test_index] = clf.predict(x_te)\n",
    "        oof_test_skf[i, :] = clf.predict(x_test)\n",
    "\n",
    "    oof_test[:] = oof_test_skf.mean(axis=0)\n",
    "    return oof_train.reshape(-1, 1), oof_test.reshape(-1, 1)"
   ]
  },
  {
   "cell_type": "code",
   "execution_count": null,
   "metadata": {
    "collapsed": true
   },
   "outputs": [],
   "source": []
  },
  {
   "cell_type": "code",
   "execution_count": null,
   "metadata": {
    "collapsed": true
   },
   "outputs": [],
   "source": []
  },
  {
   "cell_type": "code",
   "execution_count": null,
   "metadata": {
    "collapsed": true
   },
   "outputs": [],
   "source": []
  },
  {
   "cell_type": "code",
   "execution_count": 19,
   "metadata": {
    "collapsed": false,
    "scrolled": true
   },
   "outputs": [
    {
     "name": "stdout",
     "output_type": "stream",
     "text": [
      "\"train\": \n",
      "   algorithm=RGF\n",
      "   train_x_fn=/tmp/rgf/train.data.x\n",
      "   train_y_fn=/tmp/rgf/train.data.y\n",
      "   Log:ON\n",
      "   model_fn_prefix=/tmp/rgf/model\n",
      "--------------------\n",
      "Mon Dec  5 16:47:03 2016: Reading training data ... \n",
      "Mon Dec  5 16:47:38 2016: Start ... #train=150654\n",
      "--------------------\n",
      "Forest-level: \n",
      "   loss=LS\n",
      "   max_leaf_forest=1000\n",
      "   max_tree=500\n",
      "   opt_interval=100\n",
      "   test_interval=100\n",
      "   num_tree_search=1\n",
      "   Verbose:ON\n",
      "   memory_policy=Generous\n",
      "-------------\n",
      "Training data: 725x150654, nonzero_ratio=1; managed as dense data.\n",
      "-------------\n",
      "Optimization: \n",
      "   loss=LS\n",
      "   num_iteration_opt=10\n",
      "   reg_L2=0.005\n",
      "   opt_stepsize=0.5\n",
      "   NormalizeTarget:ON\n",
      "Tree-level: min_pop=10\n",
      "Node split: reg_L2=0.005\n",
      "--------------------\n",
      "Mon Dec  5 16:51:13 2016: Calling optimizer with 33 trees and 100 leaves\n",
      "Mon Dec  5 16:51:13 2016: Writing model: seq#=1\n",
      "Mon Dec  5 16:54:10 2016: Calling optimizer with 52 trees and 200 leaves\n",
      "Mon Dec  5 16:54:11 2016: Writing model: seq#=2\n",
      "Mon Dec  5 16:56:42 2016: Calling optimizer with 66 trees and 300 leaves\n",
      "Mon Dec  5 16:56:43 2016: Writing model: seq#=3\n",
      "Mon Dec  5 16:58:59 2016: Calling optimizer with 74 trees and 400 leaves\n",
      "Mon Dec  5 16:59:00 2016: Writing model: seq#=4\n",
      "Mon Dec  5 17:01:20 2016: Calling optimizer with 89 trees and 500 leaves\n",
      "Mon Dec  5 17:01:21 2016: Writing model: seq#=5\n",
      "Mon Dec  5 17:03:36 2016: Calling optimizer with 94 trees and 600 leaves\n",
      "Mon Dec  5 17:03:37 2016: Writing model: seq#=6\n",
      "Mon Dec  5 17:05:43 2016: Calling optimizer with 101 trees and 700 leaves\n",
      "Mon Dec  5 17:05:45 2016: Writing model: seq#=7\n",
      "Mon Dec  5 17:07:50 2016: Calling optimizer with 105 trees and 800 leaves\n",
      "Mon Dec  5 17:07:52 2016: Writing model: seq#=8\n",
      "Mon Dec  5 17:09:55 2016: Calling optimizer with 110 trees and 900 leaves\n",
      "Mon Dec  5 17:09:57 2016: Writing model: seq#=9\n",
      "Mon Dec  5 17:11:45 2016: AzRgforest: #leaf reached max\n",
      "Mon Dec  5 17:11:45 2016: Calling optimizer with 112 trees and 1000 leaves\n",
      "Mon Dec  5 17:11:47 2016: Writing model: seq#=10\n",
      "\n",
      "Generated 10 model file(s): \n",
      "/tmp/rgf/model-01\n",
      "/tmp/rgf/model-02\n",
      "/tmp/rgf/model-03\n",
      "/tmp/rgf/model-04\n",
      "/tmp/rgf/model-05\n",
      "/tmp/rgf/model-06\n",
      "/tmp/rgf/model-07\n",
      "/tmp/rgf/model-08\n",
      "/tmp/rgf/model-09\n",
      "/tmp/rgf/model-10\n",
      "\n",
      "Mon Dec  5 17:11:47 2016: Done ... \n",
      "elapsed: 1445.3\n",
      "\n",
      "None\n",
      "CPU times: user 2min 43s, sys: 4.78 s, total: 2min 48s\n",
      "Wall time: 27min 35s\n"
     ]
    }
   ],
   "source": [
    "%%time\n",
    "\n",
    "rgf = RGFRegressor(max_leaf=1000,\n",
    "                   algorithm=\"RGF\",\n",
    "                   test_interval=100, loss='LS', l2=0.005, sl2=None, reg_depth=1, verbose=1)\n",
    "\n",
    "rgf.fit(X_train_local, y_train_local)"
   ]
  },
  {
   "cell_type": "code",
   "execution_count": 24,
   "metadata": {
    "collapsed": false
   },
   "outputs": [
    {
     "ename": "Exception",
     "evalue": "Model learning result is not found @/tmp/rgf. This is rgf_python error.",
     "output_type": "error",
     "traceback": [
      "\u001b[0;31m---------------------------------------------------------------------------\u001b[0m",
      "\u001b[0;31mException\u001b[0m                                 Traceback (most recent call last)",
      "\u001b[0;32m<ipython-input-24-8b8a0ab1e554>\u001b[0m in \u001b[0;36m<module>\u001b[0;34m()\u001b[0m\n\u001b[0;32m----> 1\u001b[0;31m \u001b[0mpred_rgf\u001b[0m \u001b[0;34m=\u001b[0m \u001b[0mnp\u001b[0m\u001b[0;34m.\u001b[0m\u001b[0mexp\u001b[0m\u001b[0;34m(\u001b[0m\u001b[0mrgf\u001b[0m\u001b[0;34m.\u001b[0m\u001b[0mpredict\u001b[0m\u001b[0;34m(\u001b[0m\u001b[0mX_test\u001b[0m\u001b[0;34m)\u001b[0m\u001b[0;34m)\u001b[0m \u001b[0;34m-\u001b[0m \u001b[0mshift\u001b[0m\u001b[0;34m\u001b[0m\u001b[0m\n\u001b[0m",
      "\u001b[0;32m/home/y.romanikhin/.virtualenvs/venv/lib/python2.7/site-packages/rgf/rgf.pyc\u001b[0m in \u001b[0;36mpredict\u001b[0;34m(self, X)\u001b[0m\n\u001b[1;32m    479\u001b[0m         \u001b[0mmodel_glob\u001b[0m \u001b[0;34m=\u001b[0m \u001b[0mloc_temp\u001b[0m \u001b[0;34m+\u001b[0m \u001b[0mos\u001b[0m\u001b[0;34m.\u001b[0m\u001b[0msep\u001b[0m \u001b[0;34m+\u001b[0m \u001b[0mself\u001b[0m\u001b[0;34m.\u001b[0m\u001b[0mfile_prefix\u001b[0m \u001b[0;34m+\u001b[0m \u001b[0;34m\"*\"\u001b[0m\u001b[0;34m\u001b[0m\u001b[0m\n\u001b[1;32m    480\u001b[0m         \u001b[0;32mif\u001b[0m \u001b[0;32mnot\u001b[0m \u001b[0mglob\u001b[0m\u001b[0;34m(\u001b[0m\u001b[0mmodel_glob\u001b[0m\u001b[0;34m)\u001b[0m\u001b[0;34m:\u001b[0m\u001b[0;34m\u001b[0m\u001b[0m\n\u001b[0;32m--> 481\u001b[0;31m             \u001b[0;32mraise\u001b[0m \u001b[0mException\u001b[0m\u001b[0;34m(\u001b[0m\u001b[0;34m'Model learning result is not found @{0}. This is rgf_python error.'\u001b[0m\u001b[0;34m.\u001b[0m\u001b[0mformat\u001b[0m\u001b[0;34m(\u001b[0m\u001b[0mloc_temp\u001b[0m\u001b[0;34m)\u001b[0m\u001b[0;34m)\u001b[0m\u001b[0;34m\u001b[0m\u001b[0m\n\u001b[0m\u001b[1;32m    482\u001b[0m         \u001b[0mlatest_model_loc\u001b[0m \u001b[0;34m=\u001b[0m \u001b[0msorted\u001b[0m\u001b[0;34m(\u001b[0m\u001b[0mglob\u001b[0m\u001b[0;34m(\u001b[0m\u001b[0mmodel_glob\u001b[0m\u001b[0;34m)\u001b[0m\u001b[0;34m,\u001b[0m \u001b[0mreverse\u001b[0m\u001b[0;34m=\u001b[0m\u001b[0mTrue\u001b[0m\u001b[0;34m)\u001b[0m\u001b[0;34m[\u001b[0m\u001b[0;36m0\u001b[0m\u001b[0;34m]\u001b[0m\u001b[0;34m\u001b[0m\u001b[0m\n\u001b[1;32m    483\u001b[0m \u001b[0;34m\u001b[0m\u001b[0m\n",
      "\u001b[0;31mException\u001b[0m: Model learning result is not found @/tmp/rgf. This is rgf_python error."
     ]
    }
   ],
   "source": [
    "pred_rgf = np.exp(rgf.predict(X_val)) - shift"
   ]
  },
  {
   "cell_type": "code",
   "execution_count": 21,
   "metadata": {
    "collapsed": false
   },
   "outputs": [
    {
     "data": {
      "text/plain": [
       "1157.4393328587919"
      ]
     },
     "execution_count": 21,
     "metadata": {},
     "output_type": "execute_result"
    }
   ],
   "source": [
    "score = mean_absolute_error(pred_rgf, np.exp(y_val) - shift)\n",
    "score"
   ]
  },
  {
   "cell_type": "markdown",
   "metadata": {
    "collapsed": true
   },
   "source": [
    "RGF/l2=0.01/sl2=None/reg_depth=1 - 1155.4236917994822\n",
    "\n",
    "RGF_Opt/l2=0.01/sl2=None/reg_depth=1 - 1158.6360264446539\n",
    "\n",
    "RGF_Sib/l2=0.01/sl2=None/reg_depth=1 - 1156.6491303637745"
   ]
  },
  {
   "cell_type": "markdown",
   "metadata": {},
   "source": [
    "RGF/l2=0.01/sl2=None/reg_depth=1 - 1155.4236917994822\n",
    "\n",
    "RGF/l2=0.05/sl2=None/reg_depth=1 - 1158.5445173799694\n",
    "\n",
    "RGF/l2=0.005/sl2=None/reg_depth=1 - 1157.4393328587919"
   ]
  },
  {
   "cell_type": "code",
   "execution_count": null,
   "metadata": {
    "collapsed": true
   },
   "outputs": [],
   "source": []
  },
  {
   "cell_type": "code",
   "execution_count": 23,
   "metadata": {
    "collapsed": false
   },
   "outputs": [
    {
     "ename": "ValueError",
     "evalue": "Must have equal len keys and value when setting with an iterable",
     "output_type": "error",
     "traceback": [
      "\u001b[0;31m---------------------------------------------------------------------------\u001b[0m",
      "\u001b[0;31mValueError\u001b[0m                                Traceback (most recent call last)",
      "\u001b[0;32m<ipython-input-23-d40c6b6e5630>\u001b[0m in \u001b[0;36m<module>\u001b[0;34m()\u001b[0m\n\u001b[0;32m----> 1\u001b[0;31m \u001b[0mtest\u001b[0m\u001b[0;34m.\u001b[0m\u001b[0mloc\u001b[0m\u001b[0;34m[\u001b[0m\u001b[0;34m:\u001b[0m\u001b[0;34m,\u001b[0m \u001b[0;34m'loss'\u001b[0m\u001b[0;34m]\u001b[0m \u001b[0;34m=\u001b[0m \u001b[0mpred_rgf\u001b[0m\u001b[0;34m\u001b[0m\u001b[0m\n\u001b[0m\u001b[1;32m      2\u001b[0m \u001b[0;31m#test.reset_index()[['id', 'loss']].to_csv('submissions/xgboost_basic_v1.csv', index = False)\u001b[0m\u001b[0;34m\u001b[0m\u001b[0;34m\u001b[0m\u001b[0m\n\u001b[1;32m      3\u001b[0m \u001b[0;31m#!gzip -f submissions/xgboost_basic_v1.csv\u001b[0m\u001b[0;34m\u001b[0m\u001b[0;34m\u001b[0m\u001b[0m\n",
      "\u001b[0;32m/home/y.romanikhin/.virtualenvs/venv/lib/python2.7/site-packages/pandas/core/indexing.pyc\u001b[0m in \u001b[0;36m__setitem__\u001b[0;34m(self, key, value)\u001b[0m\n\u001b[1;32m    130\u001b[0m             \u001b[0mkey\u001b[0m \u001b[0;34m=\u001b[0m \u001b[0mcom\u001b[0m\u001b[0;34m.\u001b[0m\u001b[0m_apply_if_callable\u001b[0m\u001b[0;34m(\u001b[0m\u001b[0mkey\u001b[0m\u001b[0;34m,\u001b[0m \u001b[0mself\u001b[0m\u001b[0;34m.\u001b[0m\u001b[0mobj\u001b[0m\u001b[0;34m)\u001b[0m\u001b[0;34m\u001b[0m\u001b[0m\n\u001b[1;32m    131\u001b[0m         \u001b[0mindexer\u001b[0m \u001b[0;34m=\u001b[0m \u001b[0mself\u001b[0m\u001b[0;34m.\u001b[0m\u001b[0m_get_setitem_indexer\u001b[0m\u001b[0;34m(\u001b[0m\u001b[0mkey\u001b[0m\u001b[0;34m)\u001b[0m\u001b[0;34m\u001b[0m\u001b[0m\n\u001b[0;32m--> 132\u001b[0;31m         \u001b[0mself\u001b[0m\u001b[0;34m.\u001b[0m\u001b[0m_setitem_with_indexer\u001b[0m\u001b[0;34m(\u001b[0m\u001b[0mindexer\u001b[0m\u001b[0;34m,\u001b[0m \u001b[0mvalue\u001b[0m\u001b[0;34m)\u001b[0m\u001b[0;34m\u001b[0m\u001b[0m\n\u001b[0m\u001b[1;32m    133\u001b[0m \u001b[0;34m\u001b[0m\u001b[0m\n\u001b[1;32m    134\u001b[0m     \u001b[0;32mdef\u001b[0m \u001b[0m_has_valid_type\u001b[0m\u001b[0;34m(\u001b[0m\u001b[0mself\u001b[0m\u001b[0;34m,\u001b[0m \u001b[0mk\u001b[0m\u001b[0;34m,\u001b[0m \u001b[0maxis\u001b[0m\u001b[0;34m)\u001b[0m\u001b[0;34m:\u001b[0m\u001b[0;34m\u001b[0m\u001b[0m\n",
      "\u001b[0;32m/home/y.romanikhin/.virtualenvs/venv/lib/python2.7/site-packages/pandas/core/indexing.pyc\u001b[0m in \u001b[0;36m_setitem_with_indexer\u001b[0;34m(self, indexer, value)\u001b[0m\n\u001b[1;32m    525\u001b[0m \u001b[0;34m\u001b[0m\u001b[0m\n\u001b[1;32m    526\u001b[0m                     \u001b[0;32mif\u001b[0m \u001b[0mlen\u001b[0m\u001b[0;34m(\u001b[0m\u001b[0mlabels\u001b[0m\u001b[0;34m)\u001b[0m \u001b[0;34m!=\u001b[0m \u001b[0mlen\u001b[0m\u001b[0;34m(\u001b[0m\u001b[0mvalue\u001b[0m\u001b[0;34m)\u001b[0m\u001b[0;34m:\u001b[0m\u001b[0;34m\u001b[0m\u001b[0m\n\u001b[0;32m--> 527\u001b[0;31m                         raise ValueError('Must have equal len keys and value '\n\u001b[0m\u001b[1;32m    528\u001b[0m                                          'when setting with an iterable')\n\u001b[1;32m    529\u001b[0m \u001b[0;34m\u001b[0m\u001b[0m\n",
      "\u001b[0;31mValueError\u001b[0m: Must have equal len keys and value when setting with an iterable"
     ]
    }
   ],
   "source": [
    "test.loc[:, 'loss'] = pred_rgf\n",
    "#test.reset_index()[['id', 'loss']].to_csv('submissions/xgboost_basic_v1.csv', index = False)\n",
    "#!gzip -f submissions/xgboost_basic_v1.csv"
   ]
  },
  {
   "cell_type": "code",
   "execution_count": null,
   "metadata": {
    "collapsed": true
   },
   "outputs": [],
   "source": []
  },
  {
   "cell_type": "code",
   "execution_count": null,
   "metadata": {
    "collapsed": true
   },
   "outputs": [],
   "source": []
  },
  {
   "cell_type": "code",
   "execution_count": null,
   "metadata": {
    "collapsed": true
   },
   "outputs": [],
   "source": []
  },
  {
   "cell_type": "code",
   "execution_count": null,
   "metadata": {
    "collapsed": true
   },
   "outputs": [],
   "source": []
  }
 ],
 "metadata": {
  "kernelspec": {
   "display_name": "Python 2",
   "language": "python",
   "name": "python2"
  },
  "language_info": {
   "codemirror_mode": {
    "name": "ipython",
    "version": 2
   },
   "file_extension": ".py",
   "mimetype": "text/x-python",
   "name": "python",
   "nbconvert_exporter": "python",
   "pygments_lexer": "ipython2",
   "version": "2.7.6"
  }
 },
 "nbformat": 4,
 "nbformat_minor": 0
}
