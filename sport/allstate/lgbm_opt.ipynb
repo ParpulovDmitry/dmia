{
 "cells": [
  {
   "cell_type": "code",
   "execution_count": 1,
   "metadata": {
    "collapsed": false
   },
   "outputs": [
    {
     "name": "stderr",
     "output_type": "stream",
     "text": [
      "/home/y.romanikhin/.virtualenvs/venv/lib/python2.7/site-packages/sklearn/cross_validation.py:44: DeprecationWarning: This module was deprecated in version 0.18 in favor of the model_selection module into which all the refactored classes and functions are moved. Also note that the interface of the new CV iterators are different from that of this module. This module will be removed in 0.20.\n",
      "  \"This module will be removed in 0.20.\", DeprecationWarning)\n"
     ]
    }
   ],
   "source": [
    "import pandas as pd\n",
    "import numpy as np\n",
    "import xgboost as xgb\n",
    "from sklearn.metrics import mean_absolute_error as mae\n",
    "from sklearn.cross_validation import train_test_split\n",
    "import matplotlib.pylab as plt\n"
   ]
  },
  {
   "cell_type": "code",
   "execution_count": 2,
   "metadata": {
    "collapsed": true
   },
   "outputs": [],
   "source": [
    "train = pd.read_csv(\"train_big.csv\")\n",
    "test = pd.read_csv(\"test_big.csv\")"
   ]
  },
  {
   "cell_type": "code",
   "execution_count": 3,
   "metadata": {
    "collapsed": true
   },
   "outputs": [],
   "source": [
    "shift = 200\n",
    "\n",
    "ids = pd.read_csv('data/test.csv')['id']\n",
    "y_train = np.log(train['loss'] + shift)\n",
    "X_train = train.drop(['loss','id'], axis=1)\n",
    "X_test = test.drop(['loss','id'], axis=1)"
   ]
  },
  {
   "cell_type": "code",
   "execution_count": null,
   "metadata": {
    "collapsed": true
   },
   "outputs": [],
   "source": []
  },
  {
   "cell_type": "code",
   "execution_count": 4,
   "metadata": {
    "collapsed": true
   },
   "outputs": [],
   "source": [
    "## create holdout\n",
    "X_train_local, X_val, y_train_local, y_val = train_test_split(X_train, y_train, test_size=0.2, random_state=0)"
   ]
  },
  {
   "cell_type": "code",
   "execution_count": 5,
   "metadata": {
    "collapsed": true
   },
   "outputs": [],
   "source": [
    "import os\n",
    "from pylightgbm.models import GBMRegressor\n",
    "os.environ['LIGHTGBM_EXEC'] = \"/usr/local/bin/lightgbm\""
   ]
  },
  {
   "cell_type": "code",
   "execution_count": 54,
   "metadata": {
    "collapsed": true
   },
   "outputs": [],
   "source": [
    "GBMRegressor??"
   ]
  },
  {
   "cell_type": "code",
   "execution_count": 73,
   "metadata": {
    "collapsed": false
   },
   "outputs": [],
   "source": [
    "model = GBMRegressor(\n",
    "        num_threads=-1,\n",
    "        learning_rate = 0.5,\n",
    "        num_iterations = 5000, \n",
    "        verbose = 10,\n",
    "        max_depth = 7,\n",
    "        early_stopping_round = 100,\n",
    "        feature_fraction = 0.7,\n",
    "        bagging_fraction = 0.8,\n",
    "        min_sum_hessian_in_leaf=300,\n",
    "        metric='l2',\n",
    "        lambda_l1=0.05\n",
    ") "
   ]
  },
  {
   "cell_type": "code",
   "execution_count": 74,
   "metadata": {
    "collapsed": false,
    "scrolled": true
   },
   "outputs": [
    {
     "name": "stdout",
     "output_type": "stream",
     "text": [
      "[LightGBM] [Info] Finished loading parameters\n",
      "[LightGBM] [Info] Finished loading data in 15.497740 seconds\n",
      "[LightGBM] [Info] Number of data: 150654, number of features: 725\n",
      "[LightGBM] [Info] Finished initializing training\n",
      "[LightGBM] [Info] Started training...\n",
      "[LightGBM] [Info] No further splits with positive gain, best gain: -inf, leaves: 54\n",
      "[LightGBM] [Info] Iteration: 1, /tmp/tmp26zHwe/X0_test.csv : l2 loss : 3.947153\n",
      "[LightGBM] [Info] 0.897136 seconds elapsed, finished iteration 1\n",
      "[LightGBM] [Info] No further splits with positive gain, best gain: -inf, leaves: 58\n",
      "[LightGBM] [Info] Iteration: 2, /tmp/tmp26zHwe/X0_test.csv : l2 loss : 2.027048\n",
      "[LightGBM] [Info] 0.989242 seconds elapsed, finished iteration 2\n",
      "[LightGBM] [Info] No further splits with positive gain, best gain: -inf, leaves: 61\n",
      "[LightGBM] [Info] Iteration: 3, /tmp/tmp26zHwe/X0_test.csv : l2 loss : 1.110095\n",
      "[LightGBM] [Info] 1.081501 seconds elapsed, finished iteration 3\n",
      "[LightGBM] [Info] No further splits with positive gain, best gain: -inf, leaves: 48\n",
      "[LightGBM] [Info] Iteration: 4, /tmp/tmp26zHwe/X0_test.csv : l2 loss : 0.711080\n",
      "[LightGBM] [Info] 1.163383 seconds elapsed, finished iteration 4\n",
      "[LightGBM] [Info] No further splits with positive gain, best gain: -inf, leaves: 37\n",
      "[LightGBM] [Info] Iteration: 5, /tmp/tmp26zHwe/X0_test.csv : l2 loss : 0.566433\n",
      "[LightGBM] [Info] 1.231879 seconds elapsed, finished iteration 5\n",
      "[LightGBM] [Info] No further splits with positive gain, best gain: -inf, leaves: 44\n",
      "[LightGBM] [Info] Iteration: 6, /tmp/tmp26zHwe/X0_test.csv : l2 loss : 0.520733\n",
      "[LightGBM] [Info] 1.307017 seconds elapsed, finished iteration 6\n",
      "[LightGBM] [Info] No further splits with positive gain, best gain: -inf, leaves: 56\n",
      "[LightGBM] [Info] Iteration: 7, /tmp/tmp26zHwe/X0_test.csv : l2 loss : 0.504815\n",
      "[LightGBM] [Info] 1.402661 seconds elapsed, finished iteration 7\n",
      "[LightGBM] [Info] No further splits with positive gain, best gain: -inf, leaves: 47\n",
      "[LightGBM] [Info] Iteration: 8, /tmp/tmp26zHwe/X0_test.csv : l2 loss : 0.498447\n",
      "[LightGBM] [Info] 1.477149 seconds elapsed, finished iteration 8\n",
      "[LightGBM] [Info] No further splits with positive gain, best gain: -inf, leaves: 30\n",
      "[LightGBM] [Info] Iteration: 9, /tmp/tmp26zHwe/X0_test.csv : l2 loss : 0.495219\n",
      "[LightGBM] [Info] 1.548016 seconds elapsed, finished iteration 9\n",
      "[LightGBM] [Info] No further splits with positive gain, best gain: -inf, leaves: 33\n",
      "[LightGBM] [Info] Iteration: 10, /tmp/tmp26zHwe/X0_test.csv : l2 loss : 0.493364\n",
      "[LightGBM] [Info] 1.617249 seconds elapsed, finished iteration 10\n",
      "[LightGBM] [Info] No further splits with positive gain, best gain: -inf, leaves: 49\n",
      "[LightGBM] [Info] Iteration: 11, /tmp/tmp26zHwe/X0_test.csv : l2 loss : 0.491769\n",
      "[LightGBM] [Info] 1.700057 seconds elapsed, finished iteration 11\n",
      "[LightGBM] [Info] No further splits with positive gain, best gain: -inf, leaves: 31\n",
      "[LightGBM] [Info] Iteration: 12, /tmp/tmp26zHwe/X0_test.csv : l2 loss : 0.490569\n",
      "[LightGBM] [Info] 1.765573 seconds elapsed, finished iteration 12\n",
      "[LightGBM] [Info] No further splits with positive gain, best gain: -inf, leaves: 48\n",
      "[LightGBM] [Info] Iteration: 13, /tmp/tmp26zHwe/X0_test.csv : l2 loss : 0.489174\n",
      "[LightGBM] [Info] 1.848296 seconds elapsed, finished iteration 13\n",
      "[LightGBM] [Info] No further splits with positive gain, best gain: -inf, leaves: 11\n",
      "[LightGBM] [Info] Iteration: 14, /tmp/tmp26zHwe/X0_test.csv : l2 loss : 0.488619\n",
      "[LightGBM] [Info] 1.882932 seconds elapsed, finished iteration 14\n",
      "[LightGBM] [Info] No further splits with positive gain, best gain: -inf, leaves: 34\n",
      "[LightGBM] [Info] Iteration: 15, /tmp/tmp26zHwe/X0_test.csv : l2 loss : 0.487766\n",
      "[LightGBM] [Info] 1.949495 seconds elapsed, finished iteration 15\n",
      "[LightGBM] [Info] No further splits with positive gain, best gain: -inf, leaves: 31\n",
      "[LightGBM] [Info] Iteration: 16, /tmp/tmp26zHwe/X0_test.csv : l2 loss : 0.487069\n",
      "[LightGBM] [Info] 2.004648 seconds elapsed, finished iteration 16\n",
      "[LightGBM] [Info] No further splits with positive gain, best gain: -inf, leaves: 27\n",
      "[LightGBM] [Info] Iteration: 17, /tmp/tmp26zHwe/X0_test.csv : l2 loss : 0.486282\n",
      "[LightGBM] [Info] 2.065081 seconds elapsed, finished iteration 17\n",
      "[LightGBM] [Info] No further splits with positive gain, best gain: -inf, leaves: 29\n",
      "[LightGBM] [Info] Iteration: 18, /tmp/tmp26zHwe/X0_test.csv : l2 loss : 0.485520\n",
      "[LightGBM] [Info] 2.129699 seconds elapsed, finished iteration 18\n",
      "[LightGBM] [Info] No further splits with positive gain, best gain: -inf, leaves: 23\n",
      "[LightGBM] [Info] Iteration: 19, /tmp/tmp26zHwe/X0_test.csv : l2 loss : 0.485027\n",
      "[LightGBM] [Info] 2.177000 seconds elapsed, finished iteration 19\n",
      "[LightGBM] [Info] No further splits with positive gain, best gain: -inf, leaves: 21\n",
      "[LightGBM] [Info] Iteration: 20, /tmp/tmp26zHwe/X0_test.csv : l2 loss : 0.484679\n",
      "[LightGBM] [Info] 2.219376 seconds elapsed, finished iteration 20\n",
      "[LightGBM] [Info] No further splits with positive gain, best gain: -inf, leaves: 47\n",
      "[LightGBM] [Info] Iteration: 21, /tmp/tmp26zHwe/X0_test.csv : l2 loss : 0.484012\n",
      "[LightGBM] [Info] 2.326507 seconds elapsed, finished iteration 21\n",
      "[LightGBM] [Info] No further splits with positive gain, best gain: -inf, leaves: 34\n",
      "[LightGBM] [Info] Iteration: 22, /tmp/tmp26zHwe/X0_test.csv : l2 loss : 0.483412\n",
      "[LightGBM] [Info] 2.397074 seconds elapsed, finished iteration 22\n",
      "[LightGBM] [Info] No further splits with positive gain, best gain: -inf, leaves: 18\n",
      "[LightGBM] [Info] Iteration: 23, /tmp/tmp26zHwe/X0_test.csv : l2 loss : 0.483139\n",
      "[LightGBM] [Info] 2.438275 seconds elapsed, finished iteration 23\n",
      "[LightGBM] [Info] No further splits with positive gain, best gain: -inf, leaves: 45\n",
      "[LightGBM] [Info] Iteration: 24, /tmp/tmp26zHwe/X0_test.csv : l2 loss : 0.482464\n",
      "[LightGBM] [Info] 2.510341 seconds elapsed, finished iteration 24\n",
      "[LightGBM] [Info] No further splits with positive gain, best gain: -inf, leaves: 20\n",
      "[LightGBM] [Info] Iteration: 25, /tmp/tmp26zHwe/X0_test.csv : l2 loss : 0.482273\n",
      "[LightGBM] [Info] 2.557372 seconds elapsed, finished iteration 25\n",
      "[LightGBM] [Info] No further splits with positive gain, best gain: -inf, leaves: 41\n",
      "[LightGBM] [Info] Iteration: 26, /tmp/tmp26zHwe/X0_test.csv : l2 loss : 0.481731\n",
      "[LightGBM] [Info] 2.620524 seconds elapsed, finished iteration 26\n",
      "[LightGBM] [Info] No further splits with positive gain, best gain: -inf, leaves: 20\n",
      "[LightGBM] [Info] Iteration: 27, /tmp/tmp26zHwe/X0_test.csv : l2 loss : 0.481028\n",
      "[LightGBM] [Info] 2.682340 seconds elapsed, finished iteration 27\n",
      "[LightGBM] [Info] No further splits with positive gain, best gain: -inf, leaves: 24\n",
      "[LightGBM] [Info] Iteration: 28, /tmp/tmp26zHwe/X0_test.csv : l2 loss : 0.480668\n",
      "[LightGBM] [Info] 2.728491 seconds elapsed, finished iteration 28\n",
      "[LightGBM] [Info] No further splits with positive gain, best gain: -inf, leaves: 27\n",
      "[LightGBM] [Info] Iteration: 29, /tmp/tmp26zHwe/X0_test.csv : l2 loss : 0.480200\n",
      "[LightGBM] [Info] 2.782148 seconds elapsed, finished iteration 29\n",
      "[LightGBM] [Info] No further splits with positive gain, best gain: -inf, leaves: 28\n",
      "[LightGBM] [Info] Iteration: 30, /tmp/tmp26zHwe/X0_test.csv : l2 loss : 0.479814\n",
      "[LightGBM] [Info] 2.837691 seconds elapsed, finished iteration 30\n",
      "[LightGBM] [Info] No further splits with positive gain, best gain: -inf, leaves: 37\n",
      "[LightGBM] [Info] Iteration: 31, /tmp/tmp26zHwe/X0_test.csv : l2 loss : 0.479331\n",
      "[LightGBM] [Info] 2.901924 seconds elapsed, finished iteration 31\n",
      "[LightGBM] [Info] No further splits with positive gain, best gain: -inf, leaves: 27\n",
      "[LightGBM] [Info] Iteration: 32, /tmp/tmp26zHwe/X0_test.csv : l2 loss : 0.479086\n",
      "[LightGBM] [Info] 2.952069 seconds elapsed, finished iteration 32\n",
      "[LightGBM] [Info] No further splits with positive gain, best gain: -inf, leaves: 45\n",
      "[LightGBM] [Info] Iteration: 33, /tmp/tmp26zHwe/X0_test.csv : l2 loss : 0.478623\n",
      "[LightGBM] [Info] 3.027792 seconds elapsed, finished iteration 33\n",
      "[LightGBM] [Info] No further splits with positive gain, best gain: -inf, leaves: 17\n",
      "[LightGBM] [Info] Iteration: 34, /tmp/tmp26zHwe/X0_test.csv : l2 loss : 0.478470\n",
      "[LightGBM] [Info] 3.072992 seconds elapsed, finished iteration 34\n",
      "[LightGBM] [Info] No further splits with positive gain, best gain: -inf, leaves: 16\n",
      "[LightGBM] [Info] Iteration: 35, /tmp/tmp26zHwe/X0_test.csv : l2 loss : 0.478292\n",
      "[LightGBM] [Info] 3.112658 seconds elapsed, finished iteration 35\n",
      "[LightGBM] [Info] No further splits with positive gain, best gain: -inf, leaves: 31\n",
      "[LightGBM] [Info] Iteration: 36, /tmp/tmp26zHwe/X0_test.csv : l2 loss : 0.477978\n",
      "[LightGBM] [Info] 3.174855 seconds elapsed, finished iteration 36\n",
      "[LightGBM] [Info] No further splits with positive gain, best gain: -inf, leaves: 25\n",
      "[LightGBM] [Info] Iteration: 37, /tmp/tmp26zHwe/X0_test.csv : l2 loss : 0.477737\n",
      "[LightGBM] [Info] 3.222075 seconds elapsed, finished iteration 37\n",
      "[LightGBM] [Info] No further splits with positive gain, best gain: -inf, leaves: 20\n",
      "[LightGBM] [Info] Iteration: 38, /tmp/tmp26zHwe/X0_test.csv : l2 loss : 0.477530\n",
      "[LightGBM] [Info] 3.274615 seconds elapsed, finished iteration 38\n",
      "[LightGBM] [Info] No further splits with positive gain, best gain: -inf, leaves: 24\n",
      "[LightGBM] [Info] Iteration: 39, /tmp/tmp26zHwe/X0_test.csv : l2 loss : 0.477216\n",
      "[LightGBM] [Info] 3.324218 seconds elapsed, finished iteration 39\n",
      "[LightGBM] [Info] No further splits with positive gain, best gain: -inf, leaves: 33\n",
      "[LightGBM] [Info] Iteration: 40, /tmp/tmp26zHwe/X0_test.csv : l2 loss : 0.476984\n",
      "[LightGBM] [Info] 3.377983 seconds elapsed, finished iteration 40\n",
      "[LightGBM] [Info] No further splits with positive gain, best gain: -inf, leaves: 24\n",
      "[LightGBM] [Info] Iteration: 41, /tmp/tmp26zHwe/X0_test.csv : l2 loss : 0.476765\n",
      "[LightGBM] [Info] 3.425215 seconds elapsed, finished iteration 41\n",
      "[LightGBM] [Info] No further splits with positive gain, best gain: -inf, leaves: 34\n",
      "[LightGBM] [Info] Iteration: 42, /tmp/tmp26zHwe/X0_test.csv : l2 loss : 0.476290\n",
      "[LightGBM] [Info] 3.499168 seconds elapsed, finished iteration 42\n",
      "[LightGBM] [Info] No further splits with positive gain, best gain: -inf, leaves: 17\n",
      "[LightGBM] [Info] Iteration: 43, /tmp/tmp26zHwe/X0_test.csv : l2 loss : 0.476161\n",
      "[LightGBM] [Info] 3.544679 seconds elapsed, finished iteration 43\n",
      "[LightGBM] [Info] No further splits with positive gain, best gain: -inf, leaves: 43\n",
      "[LightGBM] [Info] Iteration: 44, /tmp/tmp26zHwe/X0_test.csv : l2 loss : 0.475645\n",
      "[LightGBM] [Info] 3.615843 seconds elapsed, finished iteration 44\n",
      "[LightGBM] [Info] No further splits with positive gain, best gain: -inf, leaves: 50\n",
      "[LightGBM] [Info] Iteration: 45, /tmp/tmp26zHwe/X0_test.csv : l2 loss : 0.475270\n",
      "[LightGBM] [Info] 3.703086 seconds elapsed, finished iteration 45\n",
      "[LightGBM] [Info] No further splits with positive gain, best gain: -inf, leaves: 29\n",
      "[LightGBM] [Info] Iteration: 46, /tmp/tmp26zHwe/X0_test.csv : l2 loss : 0.474947\n",
      "[LightGBM] [Info] 3.756530 seconds elapsed, finished iteration 46\n",
      "[LightGBM] [Info] No further splits with positive gain, best gain: -inf, leaves: 15\n",
      "[LightGBM] [Info] Iteration: 47, /tmp/tmp26zHwe/X0_test.csv : l2 loss : 0.474824\n",
      "[LightGBM] [Info] 3.798302 seconds elapsed, finished iteration 47\n",
      "[LightGBM] [Info] No further splits with positive gain, best gain: -inf, leaves: 35\n",
      "[LightGBM] [Info] Iteration: 48, /tmp/tmp26zHwe/X0_test.csv : l2 loss : 0.474597\n",
      "[LightGBM] [Info] 3.855692 seconds elapsed, finished iteration 48\n",
      "[LightGBM] [Info] No further splits with positive gain, best gain: -inf, leaves: 17\n",
      "[LightGBM] [Info] Iteration: 49, /tmp/tmp26zHwe/X0_test.csv : l2 loss : 0.474441\n",
      "[LightGBM] [Info] 3.906553 seconds elapsed, finished iteration 49\n",
      "[LightGBM] [Info] No further splits with positive gain, best gain: -inf, leaves: 12\n",
      "[LightGBM] [Info] Iteration: 50, /tmp/tmp26zHwe/X0_test.csv : l2 loss : 0.474364\n",
      "[LightGBM] [Info] 3.944962 seconds elapsed, finished iteration 50\n",
      "[LightGBM] [Info] No further splits with positive gain, best gain: -inf, leaves: 16\n",
      "[LightGBM] [Info] Iteration: 51, /tmp/tmp26zHwe/X0_test.csv : l2 loss : 0.474255\n",
      "[LightGBM] [Info] 3.994148 seconds elapsed, finished iteration 51\n",
      "[LightGBM] [Info] No further splits with positive gain, best gain: -inf, leaves: 10\n",
      "[LightGBM] [Info] Iteration: 52, /tmp/tmp26zHwe/X0_test.csv : l2 loss : 0.474176\n",
      "[LightGBM] [Info] 4.031894 seconds elapsed, finished iteration 52\n"
     ]
    },
    {
     "ename": "KeyboardInterrupt",
     "evalue": "",
     "output_type": "error",
     "traceback": [
      "\u001b[0;31m---------------------------------------------------------------------------\u001b[0m",
      "\u001b[0;31mKeyboardInterrupt\u001b[0m                         Traceback (most recent call last)",
      "\u001b[0;32m<ipython-input-74-e85f2e9053e3>\u001b[0m in \u001b[0;36m<module>\u001b[0;34m()\u001b[0m\n\u001b[0;32m----> 1\u001b[0;31m \u001b[0mget_ipython\u001b[0m\u001b[0;34m(\u001b[0m\u001b[0;34m)\u001b[0m\u001b[0;34m.\u001b[0m\u001b[0mrun_cell_magic\u001b[0m\u001b[0;34m(\u001b[0m\u001b[0;34mu'time'\u001b[0m\u001b[0;34m,\u001b[0m \u001b[0;34mu''\u001b[0m\u001b[0;34m,\u001b[0m \u001b[0;34mu'\\nmodel.fit(\\n    X_train_local.values, \\n    y_train_local.values, \\n    test_data = [(\\n        X_val.values, \\n        y_val.values\\n    )]\\n)'\u001b[0m\u001b[0;34m)\u001b[0m\u001b[0;34m\u001b[0m\u001b[0m\n\u001b[0m",
      "\u001b[0;32m/home/y.romanikhin/.virtualenvs/venv/lib/python2.7/site-packages/IPython/core/interactiveshell.pyc\u001b[0m in \u001b[0;36mrun_cell_magic\u001b[0;34m(self, magic_name, line, cell)\u001b[0m\n\u001b[1;32m   2101\u001b[0m             \u001b[0mmagic_arg_s\u001b[0m \u001b[0;34m=\u001b[0m \u001b[0mself\u001b[0m\u001b[0;34m.\u001b[0m\u001b[0mvar_expand\u001b[0m\u001b[0;34m(\u001b[0m\u001b[0mline\u001b[0m\u001b[0;34m,\u001b[0m \u001b[0mstack_depth\u001b[0m\u001b[0;34m)\u001b[0m\u001b[0;34m\u001b[0m\u001b[0m\n\u001b[1;32m   2102\u001b[0m             \u001b[0;32mwith\u001b[0m \u001b[0mself\u001b[0m\u001b[0;34m.\u001b[0m\u001b[0mbuiltin_trap\u001b[0m\u001b[0;34m:\u001b[0m\u001b[0;34m\u001b[0m\u001b[0m\n\u001b[0;32m-> 2103\u001b[0;31m                 \u001b[0mresult\u001b[0m \u001b[0;34m=\u001b[0m \u001b[0mfn\u001b[0m\u001b[0;34m(\u001b[0m\u001b[0mmagic_arg_s\u001b[0m\u001b[0;34m,\u001b[0m \u001b[0mcell\u001b[0m\u001b[0;34m)\u001b[0m\u001b[0;34m\u001b[0m\u001b[0m\n\u001b[0m\u001b[1;32m   2104\u001b[0m             \u001b[0;32mreturn\u001b[0m \u001b[0mresult\u001b[0m\u001b[0;34m\u001b[0m\u001b[0m\n\u001b[1;32m   2105\u001b[0m \u001b[0;34m\u001b[0m\u001b[0m\n",
      "\u001b[0;32m<decorator-gen-59>\u001b[0m in \u001b[0;36mtime\u001b[0;34m(self, line, cell, local_ns)\u001b[0m\n",
      "\u001b[0;32m/home/y.romanikhin/.virtualenvs/venv/lib/python2.7/site-packages/IPython/core/magic.pyc\u001b[0m in \u001b[0;36m<lambda>\u001b[0;34m(f, *a, **k)\u001b[0m\n\u001b[1;32m    186\u001b[0m     \u001b[0;31m# but it's overkill for just that one bit of state.\u001b[0m\u001b[0;34m\u001b[0m\u001b[0;34m\u001b[0m\u001b[0m\n\u001b[1;32m    187\u001b[0m     \u001b[0;32mdef\u001b[0m \u001b[0mmagic_deco\u001b[0m\u001b[0;34m(\u001b[0m\u001b[0marg\u001b[0m\u001b[0;34m)\u001b[0m\u001b[0;34m:\u001b[0m\u001b[0;34m\u001b[0m\u001b[0m\n\u001b[0;32m--> 188\u001b[0;31m         \u001b[0mcall\u001b[0m \u001b[0;34m=\u001b[0m \u001b[0;32mlambda\u001b[0m \u001b[0mf\u001b[0m\u001b[0;34m,\u001b[0m \u001b[0;34m*\u001b[0m\u001b[0ma\u001b[0m\u001b[0;34m,\u001b[0m \u001b[0;34m**\u001b[0m\u001b[0mk\u001b[0m\u001b[0;34m:\u001b[0m \u001b[0mf\u001b[0m\u001b[0;34m(\u001b[0m\u001b[0;34m*\u001b[0m\u001b[0ma\u001b[0m\u001b[0;34m,\u001b[0m \u001b[0;34m**\u001b[0m\u001b[0mk\u001b[0m\u001b[0;34m)\u001b[0m\u001b[0;34m\u001b[0m\u001b[0m\n\u001b[0m\u001b[1;32m    189\u001b[0m \u001b[0;34m\u001b[0m\u001b[0m\n\u001b[1;32m    190\u001b[0m         \u001b[0;32mif\u001b[0m \u001b[0mcallable\u001b[0m\u001b[0;34m(\u001b[0m\u001b[0marg\u001b[0m\u001b[0;34m)\u001b[0m\u001b[0;34m:\u001b[0m\u001b[0;34m\u001b[0m\u001b[0m\n",
      "\u001b[0;32m/home/y.romanikhin/.virtualenvs/venv/lib/python2.7/site-packages/IPython/core/magics/execution.pyc\u001b[0m in \u001b[0;36mtime\u001b[0;34m(self, line, cell, local_ns)\u001b[0m\n\u001b[1;32m   1170\u001b[0m         \u001b[0;32mif\u001b[0m \u001b[0mmode\u001b[0m\u001b[0;34m==\u001b[0m\u001b[0;34m'eval'\u001b[0m\u001b[0;34m:\u001b[0m\u001b[0;34m\u001b[0m\u001b[0m\n\u001b[1;32m   1171\u001b[0m             \u001b[0mst\u001b[0m \u001b[0;34m=\u001b[0m \u001b[0mclock2\u001b[0m\u001b[0;34m(\u001b[0m\u001b[0;34m)\u001b[0m\u001b[0;34m\u001b[0m\u001b[0m\n\u001b[0;32m-> 1172\u001b[0;31m             \u001b[0mout\u001b[0m \u001b[0;34m=\u001b[0m \u001b[0meval\u001b[0m\u001b[0;34m(\u001b[0m\u001b[0mcode\u001b[0m\u001b[0;34m,\u001b[0m \u001b[0mglob\u001b[0m\u001b[0;34m,\u001b[0m \u001b[0mlocal_ns\u001b[0m\u001b[0;34m)\u001b[0m\u001b[0;34m\u001b[0m\u001b[0m\n\u001b[0m\u001b[1;32m   1173\u001b[0m             \u001b[0mend\u001b[0m \u001b[0;34m=\u001b[0m \u001b[0mclock2\u001b[0m\u001b[0;34m(\u001b[0m\u001b[0;34m)\u001b[0m\u001b[0;34m\u001b[0m\u001b[0m\n\u001b[1;32m   1174\u001b[0m         \u001b[0;32melse\u001b[0m\u001b[0;34m:\u001b[0m\u001b[0;34m\u001b[0m\u001b[0m\n",
      "\u001b[0;32m<timed eval>\u001b[0m in \u001b[0;36m<module>\u001b[0;34m()\u001b[0m\n",
      "\u001b[0;32m/home/y.romanikhin/.virtualenvs/venv/lib/python2.7/site-packages/pylightgbm/models.pyc\u001b[0m in \u001b[0;36mfit\u001b[0;34m(self, X, y, test_data, init_scores)\u001b[0m\n\u001b[1;32m    135\u001b[0m \u001b[0;34m\u001b[0m\u001b[0m\n\u001b[1;32m    136\u001b[0m         \u001b[0;32mwith\u001b[0m \u001b[0mprocess\u001b[0m\u001b[0;34m.\u001b[0m\u001b[0mstdout\u001b[0m\u001b[0;34m:\u001b[0m\u001b[0;34m\u001b[0m\u001b[0m\n\u001b[0;32m--> 137\u001b[0;31m             \u001b[0;32mfor\u001b[0m \u001b[0mline\u001b[0m \u001b[0;32min\u001b[0m \u001b[0miter\u001b[0m\u001b[0;34m(\u001b[0m\u001b[0mprocess\u001b[0m\u001b[0;34m.\u001b[0m\u001b[0mstdout\u001b[0m\u001b[0;34m.\u001b[0m\u001b[0mreadline\u001b[0m\u001b[0;34m,\u001b[0m \u001b[0;34mb''\u001b[0m\u001b[0;34m)\u001b[0m\u001b[0;34m:\u001b[0m\u001b[0;34m\u001b[0m\u001b[0m\n\u001b[0m\u001b[1;32m    138\u001b[0m                 \u001b[0;32mprint\u001b[0m\u001b[0;34m(\u001b[0m\u001b[0mline\u001b[0m\u001b[0;34m.\u001b[0m\u001b[0mstrip\u001b[0m\u001b[0;34m(\u001b[0m\u001b[0;34m)\u001b[0m\u001b[0;34m.\u001b[0m\u001b[0mdecode\u001b[0m\u001b[0;34m(\u001b[0m\u001b[0;34m'utf-8'\u001b[0m\u001b[0;34m)\u001b[0m\u001b[0;34m)\u001b[0m \u001b[0;32mif\u001b[0m \u001b[0mself\u001b[0m\u001b[0;34m.\u001b[0m\u001b[0mverbose\u001b[0m \u001b[0;32melse\u001b[0m \u001b[0mNone\u001b[0m\u001b[0;34m\u001b[0m\u001b[0m\n\u001b[1;32m    139\u001b[0m         \u001b[0;31m# wait for the subprocess to exit\u001b[0m\u001b[0;34m\u001b[0m\u001b[0;34m\u001b[0m\u001b[0m\n",
      "\u001b[0;31mKeyboardInterrupt\u001b[0m: "
     ]
    }
   ],
   "source": [
    "%%time \n",
    "\n",
    "model.fit(\n",
    "    X_train_local.values, \n",
    "    y_train_local.values, \n",
    "    test_data = [(\n",
    "        X_val.values, \n",
    "        y_val.values\n",
    "    )]\n",
    ")"
   ]
  },
  {
   "cell_type": "code",
   "execution_count": null,
   "metadata": {
    "collapsed": true
   },
   "outputs": [],
   "source": []
  },
  {
   "cell_type": "code",
   "execution_count": null,
   "metadata": {
    "collapsed": true
   },
   "outputs": [],
   "source": [
    "lambda_l2 = 0.0 - loss : 0.475842\n",
    "lambda_l2 = 0.01  loss : 0.476188\n",
    "lambda_l1 = 0.01  loss : 0.475840\n",
    "lambda_l1 = 0.05 loss : 0.476296"
   ]
  },
  {
   "cell_type": "code",
   "execution_count": null,
   "metadata": {
    "collapsed": true
   },
   "outputs": [],
   "source": [
    "feature_fraction = 0.7 [LightGBM] [Info] Iteration: 1728, /tmp/tmpv_lCUi/X0_test.csv : l2 loss : 0.475842\n",
    "            [LightGBM] [Info] Iteration: 1501, /tmp/tmpZ38lfj/X0_test.csv : l2 loss : 0.476022\n",
    "\n",
    "feature_fraction = 0.8 [LightGBM] [Info] Iteration: 1855, /tmp/tmpIE4ulM/X0_test.csv : l2 loss : 0.475846\n",
    "feature_fraction = 0.6 [LightGBM] [Info] Iteration: 1457, /tmp/tmpozG4TM/X0_test.csv : l2 loss : 0.476173\n",
    "feature_fraction = 0.75 [LightGBM] [Info] Iteration: 1560, /tmp/tmp7CB3aK/X0_test.csv : l2 loss : 0.475853"
   ]
  },
  {
   "cell_type": "code",
   "execution_count": null,
   "metadata": {
    "collapsed": true
   },
   "outputs": [],
   "source": [
    "bagging_fraction = 0.8 [LightGBM] [Info] Iteration: 1855, /tmp/tmpIE4ulM/X0_test.csv : l2 loss : 0.475846\n",
    "bagging_fraction = 0.7 [LightGBM] [Info] Iteration: 1855, /tmp/tmpSYrM0g/X0_test.csv : l2 loss : 0.475846\n",
    "bagging_fraction = 0.6 [LightGBM] [Info] Iteration: 1855, /tmp/tmpXFEyD6/X0_test.csv : l2 loss : 0.475846\n"
   ]
  },
  {
   "cell_type": "code",
   "execution_count": null,
   "metadata": {
    "collapsed": true
   },
   "outputs": [],
   "source": [
    "metric=l2 [LightGBM] [Info] Iteration: 1855, /tmp/tmpIE4ulM/X0_test.csv : l2 loss : 0.475846 1139.57275537\n",
    "metric=l1 [LightGBM] [Info] Iteration: 1697, /tmp/tmpwLlGrP/X0_test.csv : l1 loss : 0.369191 1139.58102051"
   ]
  },
  {
   "cell_type": "code",
   "execution_count": null,
   "metadata": {
    "collapsed": true
   },
   "outputs": [],
   "source": [
    "min_sum_hessian_in_leaf=10 [LightGBM] [Info] Iteration: 1416, /tmp/tmppKlj8d/X0_test.csv : l2 loss : 0.476415 1142.93272685\n",
    "min_sum_hessian_in_leaf=50 [LightGBM] [Info] Iteration: 1416, /tmp/tmp9hGBVG/X0_test.csv : l2 loss : 0.476415 1142.93272685\n",
    "min_sum_hessian_in_leaf=200 [LightGBM] [Info] Iteration: 1347, /tmp/tmp8HwClU/X0_test.csv : l2 loss : 0.476410\n",
    "min_sum_hessian_in_leaf=300 [LightGBM] [Info] Iteration: 1855, /tmp/tmpIE4ulM/X0_test.csv : l2 loss : 0.475846\n",
    "min_sum_hessian_in_leaf=350 [LightGBM] [Info] Iteration: 1555, /tmp/tmpX5JVS6/X0_test.csv : l2 loss : 0.475979 1140.45024041\n",
    "min_sum_hessian_in_leaf=400 [LightGBM] [Info] Iteration: 1723, /tmp/tmpiihDYr/X0_test.csv : l2 loss : 0.476134      \n",
    "min_sum_hessian_in_leaf=700 [LightGBM] [Info] Iteration: 1733, /tmp/tmpuBgOXY/X0_test.csv : l2 loss : 0.477074 1141.23952489\n",
    "\n"
   ]
  },
  {
   "cell_type": "code",
   "execution_count": null,
   "metadata": {
    "collapsed": true
   },
   "outputs": [],
   "source": [
    "max_depth = 6 [LightGBM] [Info] Iteration: 628, /tmp/tmp2qd3Tb/X0_test.csv : l2 loss : 0.477396\n",
    "max_depth = 7 [LightGBM] [Info] Iteration: 607, /tmp/tmp2RCh_c/X0_test.csv : l2 loss : 0.477183 \n",
    "max_depth = 8 [LightGBM] [Info] Iteration: 505, /tmp/tmp7HcDA_/X0_test.csv : l2 loss : 0.477382 1145.84535049\n",
    "max_depth = 9 [LightGBM] [Info] Iteration: 231, /tmp/tmpFc0gWt/X0_test.csv : l2 loss : 0.477786 1146.68072993\n",
    "\n"
   ]
  },
  {
   "cell_type": "code",
   "execution_count": 39,
   "metadata": {
    "collapsed": false
   },
   "outputs": [
    {
     "name": "stdout",
     "output_type": "stream",
     "text": [
      "[LightGBM] [Info] Finished loading parameters\n",
      "[LightGBM] [Info] Finished loading 1855 models\n",
      "[LightGBM] [Info] Finished initializing prediction\n",
      "[LightGBM] [Info] Finished prediction\n",
      "1139.57275537\n"
     ]
    }
   ],
   "source": [
    "pr = np.exp(model.predict(X_val.values)) - 200\n",
    "y_hold = np.exp(y_val) - 200\n",
    "print mae(y_hold, pr)"
   ]
  },
  {
   "cell_type": "code",
   "execution_count": null,
   "metadata": {
    "collapsed": true
   },
   "outputs": [],
   "source": []
  },
  {
   "cell_type": "code",
   "execution_count": null,
   "metadata": {
    "collapsed": true
   },
   "outputs": [],
   "source": []
  },
  {
   "cell_type": "code",
   "execution_count": null,
   "metadata": {
    "collapsed": true
   },
   "outputs": [],
   "source": []
  },
  {
   "cell_type": "code",
   "execution_count": null,
   "metadata": {
    "collapsed": true
   },
   "outputs": [],
   "source": []
  },
  {
   "cell_type": "code",
   "execution_count": null,
   "metadata": {
    "collapsed": true
   },
   "outputs": [],
   "source": []
  },
  {
   "cell_type": "code",
   "execution_count": null,
   "metadata": {
    "collapsed": true
   },
   "outputs": [],
   "source": []
  },
  {
   "cell_type": "code",
   "execution_count": null,
   "metadata": {
    "collapsed": true
   },
   "outputs": [],
   "source": []
  },
  {
   "cell_type": "code",
   "execution_count": null,
   "metadata": {
    "collapsed": true
   },
   "outputs": [],
   "source": []
  },
  {
   "cell_type": "code",
   "execution_count": null,
   "metadata": {
    "collapsed": true
   },
   "outputs": [],
   "source": []
  },
  {
   "cell_type": "code",
   "execution_count": null,
   "metadata": {
    "collapsed": true
   },
   "outputs": [],
   "source": []
  },
  {
   "cell_type": "code",
   "execution_count": null,
   "metadata": {
    "collapsed": true
   },
   "outputs": [],
   "source": []
  },
  {
   "cell_type": "code",
   "execution_count": null,
   "metadata": {
    "collapsed": true
   },
   "outputs": [],
   "source": []
  },
  {
   "cell_type": "code",
   "execution_count": null,
   "metadata": {
    "collapsed": true
   },
   "outputs": [],
   "source": []
  },
  {
   "cell_type": "code",
   "execution_count": 61,
   "metadata": {
    "collapsed": true
   },
   "outputs": [],
   "source": [
    "import numpy as np\n",
    "import pandas as pd\n",
    "\n",
    "\n",
    "from datetime import datetime\n",
    "from sklearn.metrics import mean_absolute_error\n",
    "from sklearn.cross_validation import KFold\n",
    "from scipy.stats import skew, boxcox\n",
    "from sklearn import preprocessing\n",
    "from sklearn.preprocessing import StandardScaler\n",
    "import itertools\n",
    "import logging\n",
    "\n",
    "import os\n",
    "from pylightgbm.models import GBMRegressor\n",
    "os.environ['LIGHTGBM_EXEC'] = \"/usr/local/bin/lightgbm\"\n",
    "\n",
    "\n",
    "shift = 200\n",
    "COMB_FEATURE = 'cat80,cat87,cat57,cat12,cat79,cat10,cat7,cat89,cat2,cat72,' \\\n",
    "               'cat81,cat11,cat1,cat13,cat9,cat3,cat16,cat90,cat23,cat36,' \\\n",
    "               'cat73,cat103,cat40,cat28,cat111,cat6,cat76,cat50,cat5,' \\\n",
    "               'cat4,cat14,cat38,cat24,cat82,cat25'.split(',')\n"
   ]
  },
  {
   "cell_type": "code",
   "execution_count": 63,
   "metadata": {
    "collapsed": false
   },
   "outputs": [],
   "source": [
    "train = pd.read_csv(\"train_big.csv\")\n",
    "test = pd.read_csv(\"test_big.csv\")\n",
    "\n",
    "\n",
    "ids = pd.read_csv('data/test.csv')['id']\n",
    "\n",
    "ids_train = train[\"id\"]\n",
    "ids_test = test[\"id\"]\n",
    "\n",
    "train_y = np.log(train['loss'] + shift)\n",
    "train_x = train.drop(['loss','id'], axis=1)\n"
   ]
  },
  {
   "cell_type": "code",
   "execution_count": 77,
   "metadata": {
    "collapsed": false
   },
   "outputs": [],
   "source": [
    "test_x = test.drop(['loss','id'], axis=1)\n",
    "\n",
    "\n",
    "n_folds = 2\n",
    "cv_sum = 0\n",
    "fpred = []\n",
    "pred = np.zeros_like(test_x.shape[0])\n",
    "\n",
    "kf = KFold(train_x.shape[0], n_folds = n_folds, shuffle = True, random_state = 42)\n",
    "\n",
    "oof_df = pd.DataFrame()\n",
    "\n",
    "rand_state = 2016\n",
    "\n",
    "model = GBMRegressor(\n",
    "        num_threads=-1,\n",
    "        learning_rate = 0.3,\n",
    "        num_iterations = 50,\n",
    "        max_depth = 7,\n",
    "        early_stopping_round = 10,\n",
    "        feature_fraction = 7,\n",
    "        bagging_fraction = 0.8,\n",
    "        min_sum_hessian_in_leaf=300,\n",
    "        )\n"
   ]
  },
  {
   "cell_type": "code",
   "execution_count": 67,
   "metadata": {
    "collapsed": false
   },
   "outputs": [
    {
     "name": "stdout",
     "output_type": "stream",
     "text": [
      "\n",
      " Fold 1\n"
     ]
    },
    {
     "ename": "IOError",
     "evalue": "[Errno 2] No such file or directory: '/tmp/tmpFH3qkM/LightGBM_model.txt'",
     "output_type": "error",
     "traceback": [
      "\u001b[0;31m---------------------------------------------------------------------------\u001b[0m",
      "\u001b[0;31mIOError\u001b[0m                                   Traceback (most recent call last)",
      "\u001b[0;32m<ipython-input-67-4b153c95690f>\u001b[0m in \u001b[0;36m<module>\u001b[0;34m()\u001b[0m\n\u001b[1;32m      5\u001b[0m     \u001b[0mind_tr\u001b[0m\u001b[0;34m,\u001b[0m \u001b[0mind_val\u001b[0m \u001b[0;34m=\u001b[0m \u001b[0mids_train\u001b[0m\u001b[0;34m.\u001b[0m\u001b[0mloc\u001b[0m\u001b[0;34m[\u001b[0m\u001b[0mtrain_index\u001b[0m\u001b[0;34m]\u001b[0m\u001b[0;34m.\u001b[0m\u001b[0mvalues\u001b[0m\u001b[0;34m,\u001b[0m \u001b[0mids_train\u001b[0m\u001b[0;34m.\u001b[0m\u001b[0mloc\u001b[0m\u001b[0;34m[\u001b[0m\u001b[0mtest_index\u001b[0m\u001b[0;34m]\u001b[0m\u001b[0;34m.\u001b[0m\u001b[0mvalues\u001b[0m\u001b[0;34m\u001b[0m\u001b[0m\n\u001b[1;32m      6\u001b[0m \u001b[0;34m\u001b[0m\u001b[0m\n\u001b[0;32m----> 7\u001b[0;31m     \u001b[0mmodel\u001b[0m\u001b[0;34m.\u001b[0m\u001b[0mfit\u001b[0m\u001b[0;34m(\u001b[0m\u001b[0mX_train\u001b[0m\u001b[0;34m.\u001b[0m\u001b[0mvalues\u001b[0m\u001b[0;34m,\u001b[0m \u001b[0my_train\u001b[0m\u001b[0;34m.\u001b[0m\u001b[0mvalues\u001b[0m\u001b[0;34m)\u001b[0m\u001b[0;34m\u001b[0m\u001b[0m\n\u001b[0m\u001b[1;32m      8\u001b[0m \u001b[0;34m\u001b[0m\u001b[0m\n\u001b[1;32m      9\u001b[0m     \u001b[0mscores_val\u001b[0m \u001b[0;34m=\u001b[0m \u001b[0mnp\u001b[0m\u001b[0;34m.\u001b[0m\u001b[0mexp\u001b[0m\u001b[0;34m(\u001b[0m\u001b[0mmodel\u001b[0m\u001b[0;34m.\u001b[0m\u001b[0mpredict\u001b[0m\u001b[0;34m(\u001b[0m\u001b[0mX_val\u001b[0m\u001b[0;34m.\u001b[0m\u001b[0mvalues\u001b[0m\u001b[0;34m)\u001b[0m\u001b[0;34m)\u001b[0m \u001b[0;34m-\u001b[0m \u001b[0;36m200\u001b[0m\u001b[0;34m\u001b[0m\u001b[0m\n",
      "\u001b[0;32m/home/y.romanikhin/.virtualenvs/venv/lib/python2.7/site-packages/pylightgbm/models.pyc\u001b[0m in \u001b[0;36mfit\u001b[0;34m(self, X, y, test_data, init_scores)\u001b[0m\n\u001b[1;32m    140\u001b[0m         \u001b[0mprocess\u001b[0m\u001b[0;34m.\u001b[0m\u001b[0mwait\u001b[0m\u001b[0;34m(\u001b[0m\u001b[0;34m)\u001b[0m\u001b[0;34m\u001b[0m\u001b[0m\n\u001b[1;32m    141\u001b[0m \u001b[0;34m\u001b[0m\u001b[0m\n\u001b[0;32m--> 142\u001b[0;31m         \u001b[0;32mwith\u001b[0m \u001b[0mopen\u001b[0m\u001b[0;34m(\u001b[0m\u001b[0mself\u001b[0m\u001b[0;34m.\u001b[0m\u001b[0mparam\u001b[0m\u001b[0;34m[\u001b[0m\u001b[0;34m'output_model'\u001b[0m\u001b[0;34m]\u001b[0m\u001b[0;34m,\u001b[0m \u001b[0mmode\u001b[0m\u001b[0;34m=\u001b[0m\u001b[0;34m'r'\u001b[0m\u001b[0;34m)\u001b[0m \u001b[0;32mas\u001b[0m \u001b[0mfile\u001b[0m\u001b[0;34m:\u001b[0m\u001b[0;34m\u001b[0m\u001b[0m\n\u001b[0m\u001b[1;32m    143\u001b[0m             \u001b[0mself\u001b[0m\u001b[0;34m.\u001b[0m\u001b[0mmodel\u001b[0m \u001b[0;34m=\u001b[0m \u001b[0mfile\u001b[0m\u001b[0;34m.\u001b[0m\u001b[0mread\u001b[0m\u001b[0;34m(\u001b[0m\u001b[0;34m)\u001b[0m\u001b[0;34m\u001b[0m\u001b[0m\n\u001b[1;32m    144\u001b[0m         \u001b[0mshutil\u001b[0m\u001b[0;34m.\u001b[0m\u001b[0mrmtree\u001b[0m\u001b[0;34m(\u001b[0m\u001b[0mtmp_dir\u001b[0m\u001b[0;34m)\u001b[0m\u001b[0;34m\u001b[0m\u001b[0m\n",
      "\u001b[0;31mIOError\u001b[0m: [Errno 2] No such file or directory: '/tmp/tmpFH3qkM/LightGBM_model.txt'"
     ]
    }
   ],
   "source": [
    "for i, (train_index, test_index) in enumerate(kf):\n",
    "    print('\\n Fold %d' % (i+1))\n",
    "    X_train, X_val = train_x.iloc[train_index], train_x.iloc[test_index]\n",
    "    y_train, y_val = train_y.iloc[train_index], train_y.iloc[test_index]\n",
    "    ind_tr, ind_val = ids_train.loc[train_index].values, ids_train.loc[test_index].values\n",
    "\n",
    "    model.fit(X_train.values, y_train.values)\n",
    "\n",
    "    scores_val = np.exp(model.predict(X_val.values)) - 200\n",
    "    y_hold = np.exp(y_val) - 200\n",
    "\n",
    "    oof_df = oof_df.append(pd.DataFrame(np.vstack([ind_val, y_hold, scores_val]).T,\n",
    "                               columns=[\"id\", \"y_true\", \"y_pred\"]).set_index(\"id\"))\n",
    "\n",
    "    cv_score = mean_absolute_error(y_hold, scores_val)\n",
    "    print('eval-MAE: %.6f' % cv_score)\n",
    "\n",
    "    ### predict for test\n",
    "    y_pred = np.exp(model.predict(test_x.values)) - 200\n",
    "\n",
    "    if i > 0:\n",
    "        fpred = pred + y_pred\n",
    "    else:\n",
    "        fpred = y_pred\n",
    "\n",
    "    pred = fpred\n",
    "    cv_sum = cv_sum + cv_score\n",
    "\n",
    "oof_df = oof_df.sort_index()\n"
   ]
  },
  {
   "cell_type": "code",
   "execution_count": 78,
   "metadata": {
    "collapsed": false
   },
   "outputs": [
    {
     "ename": "IOError",
     "evalue": "[Errno 2] No such file or directory: '/tmp/tmp_tMxun/LightGBM_model.txt'",
     "output_type": "error",
     "traceback": [
      "\u001b[0;31m---------------------------------------------------------------------------\u001b[0m",
      "\u001b[0;31mIOError\u001b[0m                                   Traceback (most recent call last)",
      "\u001b[0;32m<ipython-input-78-4b7d6c9d7d07>\u001b[0m in \u001b[0;36m<module>\u001b[0;34m()\u001b[0m\n\u001b[0;32m----> 1\u001b[0;31m \u001b[0mmodel\u001b[0m\u001b[0;34m.\u001b[0m\u001b[0mfit\u001b[0m\u001b[0;34m(\u001b[0m\u001b[0mX_train\u001b[0m\u001b[0;34m.\u001b[0m\u001b[0mvalues\u001b[0m\u001b[0;34m,\u001b[0m \u001b[0my_train\u001b[0m\u001b[0;34m.\u001b[0m\u001b[0mvalues\u001b[0m\u001b[0;34m,\u001b[0m \u001b[0mtest_data\u001b[0m \u001b[0;34m=\u001b[0m \u001b[0;34m[\u001b[0m\u001b[0;34m(\u001b[0m\u001b[0mX_val\u001b[0m\u001b[0;34m.\u001b[0m\u001b[0mvalues\u001b[0m\u001b[0;34m,\u001b[0m \u001b[0my_val\u001b[0m\u001b[0;34m.\u001b[0m\u001b[0mvalues\u001b[0m\u001b[0;34m)\u001b[0m\u001b[0;34m]\u001b[0m\u001b[0;34m)\u001b[0m\u001b[0;34m\u001b[0m\u001b[0m\n\u001b[0m",
      "\u001b[0;32m/home/y.romanikhin/.virtualenvs/venv/lib/python2.7/site-packages/pylightgbm/models.pyc\u001b[0m in \u001b[0;36mfit\u001b[0;34m(self, X, y, test_data, init_scores)\u001b[0m\n\u001b[1;32m    140\u001b[0m         \u001b[0mprocess\u001b[0m\u001b[0;34m.\u001b[0m\u001b[0mwait\u001b[0m\u001b[0;34m(\u001b[0m\u001b[0;34m)\u001b[0m\u001b[0;34m\u001b[0m\u001b[0m\n\u001b[1;32m    141\u001b[0m \u001b[0;34m\u001b[0m\u001b[0m\n\u001b[0;32m--> 142\u001b[0;31m         \u001b[0;32mwith\u001b[0m \u001b[0mopen\u001b[0m\u001b[0;34m(\u001b[0m\u001b[0mself\u001b[0m\u001b[0;34m.\u001b[0m\u001b[0mparam\u001b[0m\u001b[0;34m[\u001b[0m\u001b[0;34m'output_model'\u001b[0m\u001b[0;34m]\u001b[0m\u001b[0;34m,\u001b[0m \u001b[0mmode\u001b[0m\u001b[0;34m=\u001b[0m\u001b[0;34m'r'\u001b[0m\u001b[0;34m)\u001b[0m \u001b[0;32mas\u001b[0m \u001b[0mfile\u001b[0m\u001b[0;34m:\u001b[0m\u001b[0;34m\u001b[0m\u001b[0m\n\u001b[0m\u001b[1;32m    143\u001b[0m             \u001b[0mself\u001b[0m\u001b[0;34m.\u001b[0m\u001b[0mmodel\u001b[0m \u001b[0;34m=\u001b[0m \u001b[0mfile\u001b[0m\u001b[0;34m.\u001b[0m\u001b[0mread\u001b[0m\u001b[0;34m(\u001b[0m\u001b[0;34m)\u001b[0m\u001b[0;34m\u001b[0m\u001b[0m\n\u001b[1;32m    144\u001b[0m         \u001b[0mshutil\u001b[0m\u001b[0;34m.\u001b[0m\u001b[0mrmtree\u001b[0m\u001b[0;34m(\u001b[0m\u001b[0mtmp_dir\u001b[0m\u001b[0;34m)\u001b[0m\u001b[0;34m\u001b[0m\u001b[0m\n",
      "\u001b[0;31mIOError\u001b[0m: [Errno 2] No such file or directory: '/tmp/tmp_tMxun/LightGBM_model.txt'"
     ]
    }
   ],
   "source": [
    "model.fit(X_train.values, y_train.values, test_data = [(X_val.values, y_val.values)])"
   ]
  },
  {
   "cell_type": "code",
   "execution_count": null,
   "metadata": {
    "collapsed": true
   },
   "outputs": [],
   "source": []
  },
  {
   "cell_type": "code",
   "execution_count": null,
   "metadata": {
    "collapsed": true
   },
   "outputs": [],
   "source": []
  },
  {
   "cell_type": "code",
   "execution_count": null,
   "metadata": {
    "collapsed": true
   },
   "outputs": [],
   "source": []
  },
  {
   "cell_type": "code",
   "execution_count": null,
   "metadata": {
    "collapsed": true
   },
   "outputs": [],
   "source": []
  }
 ],
 "metadata": {
  "kernelspec": {
   "display_name": "Python 2",
   "language": "python",
   "name": "python2"
  },
  "language_info": {
   "codemirror_mode": {
    "name": "ipython",
    "version": 2
   },
   "file_extension": ".py",
   "mimetype": "text/x-python",
   "name": "python",
   "nbconvert_exporter": "python",
   "pygments_lexer": "ipython2",
   "version": "2.7.6"
  }
 },
 "nbformat": 4,
 "nbformat_minor": 0
}
