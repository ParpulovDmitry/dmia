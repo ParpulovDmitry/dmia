{
 "cells": [
  {
   "cell_type": "code",
   "execution_count": 1,
   "metadata": {
    "collapsed": false
   },
   "outputs": [
    {
     "name": "stderr",
     "output_type": "stream",
     "text": [
      "/home/y.romanikhin/.virtualenvs/venv/lib/python2.7/site-packages/sklearn/cross_validation.py:44: DeprecationWarning: This module was deprecated in version 0.18 in favor of the model_selection module into which all the refactored classes and functions are moved. Also note that the interface of the new CV iterators are different from that of this module. This module will be removed in 0.20.\n",
      "  \"This module will be removed in 0.20.\", DeprecationWarning)\n"
     ]
    }
   ],
   "source": [
    "import pandas as pd\n",
    "import numpy as np\n",
    "from sklearn.cross_validation import train_test_split, KFold, cross_val_score, cross_val_predict\n",
    "from sklearn.metrics import mean_absolute_error as mae"
   ]
  },
  {
   "cell_type": "code",
   "execution_count": 8,
   "metadata": {
    "collapsed": false
   },
   "outputs": [],
   "source": [
    "xgb_subm = pd.read_csv(\"submission_10fold-average-xgb_fairobj_1125.883448_2016-12-02-20-24.csv\")\n",
    "nn_subm = pd.read_csv(\"submission_keras_all_set_2.csv\")"
   ]
  },
  {
   "cell_type": "code",
   "execution_count": 9,
   "metadata": {
    "collapsed": false
   },
   "outputs": [
    {
     "data": {
      "text/html": [
       "<div>\n",
       "<table border=\"1\" class=\"dataframe\">\n",
       "  <thead>\n",
       "    <tr style=\"text-align: right;\">\n",
       "      <th></th>\n",
       "      <th>id</th>\n",
       "      <th>loss</th>\n",
       "    </tr>\n",
       "  </thead>\n",
       "  <tbody>\n",
       "    <tr>\n",
       "      <th>0</th>\n",
       "      <td>4</td>\n",
       "      <td>1547.478027</td>\n",
       "    </tr>\n",
       "    <tr>\n",
       "      <th>1</th>\n",
       "      <td>6</td>\n",
       "      <td>1979.358032</td>\n",
       "    </tr>\n",
       "    <tr>\n",
       "      <th>2</th>\n",
       "      <td>9</td>\n",
       "      <td>9984.505859</td>\n",
       "    </tr>\n",
       "    <tr>\n",
       "      <th>3</th>\n",
       "      <td>12</td>\n",
       "      <td>6522.488770</td>\n",
       "    </tr>\n",
       "    <tr>\n",
       "      <th>4</th>\n",
       "      <td>15</td>\n",
       "      <td>783.580444</td>\n",
       "    </tr>\n",
       "  </tbody>\n",
       "</table>\n",
       "</div>"
      ],
      "text/plain": [
       "   id         loss\n",
       "0   4  1547.478027\n",
       "1   6  1979.358032\n",
       "2   9  9984.505859\n",
       "3  12  6522.488770\n",
       "4  15   783.580444"
      ]
     },
     "execution_count": 9,
     "metadata": {},
     "output_type": "execute_result"
    }
   ],
   "source": [
    "xgb_subm.head()"
   ]
  },
  {
   "cell_type": "code",
   "execution_count": 10,
   "metadata": {
    "collapsed": false
   },
   "outputs": [
    {
     "data": {
      "text/html": [
       "<div>\n",
       "<table border=\"1\" class=\"dataframe\">\n",
       "  <thead>\n",
       "    <tr style=\"text-align: right;\">\n",
       "      <th></th>\n",
       "      <th>id</th>\n",
       "      <th>loss</th>\n",
       "    </tr>\n",
       "  </thead>\n",
       "  <tbody>\n",
       "    <tr>\n",
       "      <th>0</th>\n",
       "      <td>4</td>\n",
       "      <td>3237.365588</td>\n",
       "    </tr>\n",
       "    <tr>\n",
       "      <th>1</th>\n",
       "      <td>6</td>\n",
       "      <td>3528.164941</td>\n",
       "    </tr>\n",
       "    <tr>\n",
       "      <th>2</th>\n",
       "      <td>9</td>\n",
       "      <td>17419.277246</td>\n",
       "    </tr>\n",
       "    <tr>\n",
       "      <th>3</th>\n",
       "      <td>12</td>\n",
       "      <td>15139.904590</td>\n",
       "    </tr>\n",
       "    <tr>\n",
       "      <th>4</th>\n",
       "      <td>15</td>\n",
       "      <td>1480.845624</td>\n",
       "    </tr>\n",
       "    <tr>\n",
       "      <th>5</th>\n",
       "      <td>17</td>\n",
       "      <td>4702.218115</td>\n",
       "    </tr>\n",
       "    <tr>\n",
       "      <th>6</th>\n",
       "      <td>21</td>\n",
       "      <td>3657.809351</td>\n",
       "    </tr>\n",
       "    <tr>\n",
       "      <th>7</th>\n",
       "      <td>28</td>\n",
       "      <td>1413.637518</td>\n",
       "    </tr>\n",
       "    <tr>\n",
       "      <th>8</th>\n",
       "      <td>32</td>\n",
       "      <td>6065.108545</td>\n",
       "    </tr>\n",
       "    <tr>\n",
       "      <th>9</th>\n",
       "      <td>43</td>\n",
       "      <td>5629.851172</td>\n",
       "    </tr>\n",
       "  </tbody>\n",
       "</table>\n",
       "</div>"
      ],
      "text/plain": [
       "   id          loss\n",
       "0   4   3237.365588\n",
       "1   6   3528.164941\n",
       "2   9  17419.277246\n",
       "3  12  15139.904590\n",
       "4  15   1480.845624\n",
       "5  17   4702.218115\n",
       "6  21   3657.809351\n",
       "7  28   1413.637518\n",
       "8  32   6065.108545\n",
       "9  43   5629.851172"
      ]
     },
     "execution_count": 10,
     "metadata": {},
     "output_type": "execute_result"
    }
   ],
   "source": [
    "nn_subm.head(10)"
   ]
  },
  {
   "cell_type": "code",
   "execution_count": 11,
   "metadata": {
    "collapsed": false
   },
   "outputs": [],
   "source": [
    "merged = xgb_subm.merge(nn_subm, on=\"id\", how=\"inner\")\n",
    "merged.columns = [\"id\", \"loss_xgb\", \"loss_nn\"]"
   ]
  },
  {
   "cell_type": "code",
   "execution_count": 12,
   "metadata": {
    "collapsed": false
   },
   "outputs": [
    {
     "data": {
      "text/html": [
       "<div>\n",
       "<table border=\"1\" class=\"dataframe\">\n",
       "  <thead>\n",
       "    <tr style=\"text-align: right;\">\n",
       "      <th></th>\n",
       "      <th>id</th>\n",
       "      <th>loss_xgb</th>\n",
       "      <th>loss_nn</th>\n",
       "    </tr>\n",
       "  </thead>\n",
       "  <tbody>\n",
       "    <tr>\n",
       "      <th>0</th>\n",
       "      <td>4</td>\n",
       "      <td>1547.478027</td>\n",
       "      <td>3237.365588</td>\n",
       "    </tr>\n",
       "    <tr>\n",
       "      <th>1</th>\n",
       "      <td>6</td>\n",
       "      <td>1979.358032</td>\n",
       "      <td>3528.164941</td>\n",
       "    </tr>\n",
       "    <tr>\n",
       "      <th>2</th>\n",
       "      <td>9</td>\n",
       "      <td>9984.505859</td>\n",
       "      <td>17419.277246</td>\n",
       "    </tr>\n",
       "    <tr>\n",
       "      <th>3</th>\n",
       "      <td>12</td>\n",
       "      <td>6522.488770</td>\n",
       "      <td>15139.904590</td>\n",
       "    </tr>\n",
       "    <tr>\n",
       "      <th>4</th>\n",
       "      <td>15</td>\n",
       "      <td>783.580444</td>\n",
       "      <td>1480.845624</td>\n",
       "    </tr>\n",
       "  </tbody>\n",
       "</table>\n",
       "</div>"
      ],
      "text/plain": [
       "   id     loss_xgb       loss_nn\n",
       "0   4  1547.478027   3237.365588\n",
       "1   6  1979.358032   3528.164941\n",
       "2   9  9984.505859  17419.277246\n",
       "3  12  6522.488770  15139.904590\n",
       "4  15   783.580444   1480.845624"
      ]
     },
     "execution_count": 12,
     "metadata": {},
     "output_type": "execute_result"
    }
   ],
   "source": [
    "merged.head()"
   ]
  },
  {
   "cell_type": "code",
   "execution_count": 33,
   "metadata": {
    "collapsed": true
   },
   "outputs": [],
   "source": [
    "merged[\"weighted\"] = 0.8* merged[\"loss_xgb\"] + 0.2* merged[\"loss_nn\"]"
   ]
  },
  {
   "cell_type": "code",
   "execution_count": 34,
   "metadata": {
    "collapsed": false
   },
   "outputs": [
    {
     "data": {
      "text/html": [
       "<div>\n",
       "<table border=\"1\" class=\"dataframe\">\n",
       "  <thead>\n",
       "    <tr style=\"text-align: right;\">\n",
       "      <th></th>\n",
       "      <th>id</th>\n",
       "      <th>loss_xgb</th>\n",
       "      <th>loss_nn</th>\n",
       "      <th>weighted</th>\n",
       "    </tr>\n",
       "  </thead>\n",
       "  <tbody>\n",
       "    <tr>\n",
       "      <th>0</th>\n",
       "      <td>4</td>\n",
       "      <td>1547.478027</td>\n",
       "      <td>1531.863665</td>\n",
       "      <td>1539.670846</td>\n",
       "    </tr>\n",
       "    <tr>\n",
       "      <th>1</th>\n",
       "      <td>6</td>\n",
       "      <td>1979.358032</td>\n",
       "      <td>1762.798763</td>\n",
       "      <td>1871.078398</td>\n",
       "    </tr>\n",
       "    <tr>\n",
       "      <th>2</th>\n",
       "      <td>9</td>\n",
       "      <td>9984.505859</td>\n",
       "      <td>8946.321626</td>\n",
       "      <td>9465.413743</td>\n",
       "    </tr>\n",
       "    <tr>\n",
       "      <th>3</th>\n",
       "      <td>12</td>\n",
       "      <td>6522.488770</td>\n",
       "      <td>6896.642773</td>\n",
       "      <td>6709.565771</td>\n",
       "    </tr>\n",
       "    <tr>\n",
       "      <th>4</th>\n",
       "      <td>15</td>\n",
       "      <td>783.580444</td>\n",
       "      <td>767.032419</td>\n",
       "      <td>775.306432</td>\n",
       "    </tr>\n",
       "  </tbody>\n",
       "</table>\n",
       "</div>"
      ],
      "text/plain": [
       "   id     loss_xgb      loss_nn     weighted\n",
       "0   4  1547.478027  1531.863665  1539.670846\n",
       "1   6  1979.358032  1762.798763  1871.078398\n",
       "2   9  9984.505859  8946.321626  9465.413743\n",
       "3  12  6522.488770  6896.642773  6709.565771\n",
       "4  15   783.580444   767.032419   775.306432"
      ]
     },
     "execution_count": 34,
     "metadata": {},
     "output_type": "execute_result"
    }
   ],
   "source": [
    "merged.head()"
   ]
  },
  {
   "cell_type": "code",
   "execution_count": 35,
   "metadata": {
    "collapsed": false
   },
   "outputs": [],
   "source": [
    "res = merged[[\"id\", \"weighted\"]]\n",
    "res.columns = [\"id\", \"loss\"]\n",
    "res.to_csv(\"submissions/submission_05xgb_05nn.csv\", index=False)"
   ]
  },
  {
   "cell_type": "code",
   "execution_count": null,
   "metadata": {
    "collapsed": true
   },
   "outputs": [],
   "source": []
  },
  {
   "cell_type": "markdown",
   "metadata": {},
   "source": [
    "### stack"
   ]
  },
  {
   "cell_type": "code",
   "execution_count": 152,
   "metadata": {
    "collapsed": false
   },
   "outputs": [],
   "source": [
    "train = pd.read_csv(\"../data/train.csv\")\n",
    "oof_xgb = pd.read_csv(\"oof_df_xgb.csv\")\n",
    "oof_nn = pd.read_csv(\"preds_oof_NN.csv\")\n",
    "#oof_nn = pd.read_csv(\"submission_keras_average_oof.csv\")\n",
    "oof_nn_2 = pd.read_csv(\"preds_oof_NN_2.csv\")\n",
    "preds_xgb = pd.read_csv(\"submission_10fold-average-xgb_fairobj_1127.609963_2016-12-07-07-38.csv\")\n",
    "preds_nn = pd.read_csv(\"submission_keras_all_set.csv\")\n",
    "preds_nn_2 = pd.read_csv(\"submission_keras_all_set_2_susp.csv\")\n",
    "\n",
    "preds_nn_oof_test = pd.read_csv(\"submission_keras_average_oof.csv\")\n",
    "preds_nn_oof_test_2 = pd.read_csv(\"submission_keras_average_oof_2.csv\")\n",
    "preds_nn_oof_test_3 = pd.read_csv(\"submission_keras_average_oof_3.csv\")"
   ]
  },
  {
   "cell_type": "code",
   "execution_count": 153,
   "metadata": {
    "collapsed": false
   },
   "outputs": [],
   "source": [
    "train = train[[\"id\",\"loss\"]]\n",
    "preds = preds_xgb.merge(preds_nn, on=\"id\")\n",
    "preds.columns = [\"id\", \"loss_xgb\", \"loss_nn\"]\n",
    "preds = preds.merge(preds_nn_2, on=\"id\")\n",
    "preds.columns = [\"id\", \"loss_xgb\", \"loss_allset_nn1\", \"loss_allset_nn_2\"]\n",
    "preds.loss_allset_nn_2 = preds.loss_allset_nn_2/2"
   ]
  },
  {
   "cell_type": "code",
   "execution_count": 154,
   "metadata": {
    "collapsed": false
   },
   "outputs": [],
   "source": [
    "preds_nn_test_oof_average = preds_nn_oof_test.merge(preds_nn_oof_test_2, on=\"id\").merge(preds_nn_oof_test_3, on=\"id\")\n",
    "preds_nn_test_oof_average.columns = [\"id\", \"pred_av_nn1\", \"pred_av_nn2\", \"pred_av_nn3\"]"
   ]
  },
  {
   "cell_type": "code",
   "execution_count": 189,
   "metadata": {
    "collapsed": false
   },
   "outputs": [
    {
     "data": {
      "text/html": [
       "<div>\n",
       "<table border=\"1\" class=\"dataframe\">\n",
       "  <thead>\n",
       "    <tr style=\"text-align: right;\">\n",
       "      <th></th>\n",
       "      <th>id</th>\n",
       "      <th>pred_av_nn1</th>\n",
       "      <th>pred_av_nn2</th>\n",
       "      <th>pred_av_nn3</th>\n",
       "      <th>pred_av_nn_mean</th>\n",
       "    </tr>\n",
       "  </thead>\n",
       "  <tbody>\n",
       "    <tr>\n",
       "      <th>0</th>\n",
       "      <td>4</td>\n",
       "      <td>1531.863665</td>\n",
       "      <td>1572.027185</td>\n",
       "      <td>1552.287822</td>\n",
       "      <td>1552.059556</td>\n",
       "    </tr>\n",
       "    <tr>\n",
       "      <th>1</th>\n",
       "      <td>6</td>\n",
       "      <td>1762.798763</td>\n",
       "      <td>1788.709243</td>\n",
       "      <td>1783.019814</td>\n",
       "      <td>1778.175939</td>\n",
       "    </tr>\n",
       "    <tr>\n",
       "      <th>2</th>\n",
       "      <td>9</td>\n",
       "      <td>8946.321626</td>\n",
       "      <td>9007.457070</td>\n",
       "      <td>8934.108457</td>\n",
       "      <td>8962.629042</td>\n",
       "    </tr>\n",
       "    <tr>\n",
       "      <th>3</th>\n",
       "      <td>12</td>\n",
       "      <td>6896.642773</td>\n",
       "      <td>7141.388379</td>\n",
       "      <td>7423.074727</td>\n",
       "      <td>7153.701952</td>\n",
       "    </tr>\n",
       "    <tr>\n",
       "      <th>4</th>\n",
       "      <td>15</td>\n",
       "      <td>767.032419</td>\n",
       "      <td>777.997367</td>\n",
       "      <td>757.449355</td>\n",
       "      <td>767.493046</td>\n",
       "    </tr>\n",
       "  </tbody>\n",
       "</table>\n",
       "</div>"
      ],
      "text/plain": [
       "   id  pred_av_nn1  pred_av_nn2  pred_av_nn3  pred_av_nn_mean\n",
       "0   4  1531.863665  1572.027185  1552.287822      1552.059556\n",
       "1   6  1762.798763  1788.709243  1783.019814      1778.175939\n",
       "2   9  8946.321626  9007.457070  8934.108457      8962.629042\n",
       "3  12  6896.642773  7141.388379  7423.074727      7153.701952\n",
       "4  15   767.032419   777.997367   757.449355       767.493046"
      ]
     },
     "execution_count": 189,
     "metadata": {},
     "output_type": "execute_result"
    }
   ],
   "source": [
    "preds_nn_test_oof_average.head()"
   ]
  },
  {
   "cell_type": "code",
   "execution_count": null,
   "metadata": {
    "collapsed": true
   },
   "outputs": [],
   "source": []
  },
  {
   "cell_type": "code",
   "execution_count": 200,
   "metadata": {
    "collapsed": false
   },
   "outputs": [],
   "source": [
    "preds_big = preds.merge(preds_nn_test_oof_average)"
   ]
  },
  {
   "cell_type": "code",
   "execution_count": 206,
   "metadata": {
    "collapsed": false
   },
   "outputs": [
    {
     "data": {
      "text/html": [
       "<div>\n",
       "<table border=\"1\" class=\"dataframe\">\n",
       "  <thead>\n",
       "    <tr style=\"text-align: right;\">\n",
       "      <th></th>\n",
       "      <th>id</th>\n",
       "      <th>loss_xgb</th>\n",
       "      <th>loss_allset_nn1</th>\n",
       "      <th>loss_allset_nn_2</th>\n",
       "      <th>pred_av_nn1</th>\n",
       "      <th>pred_av_nn2</th>\n",
       "      <th>pred_av_nn3</th>\n",
       "      <th>pred_av_nn_mean</th>\n",
       "    </tr>\n",
       "  </thead>\n",
       "  <tbody>\n",
       "    <tr>\n",
       "      <th>0</th>\n",
       "      <td>4</td>\n",
       "      <td>1512.877930</td>\n",
       "      <td>1571.079736</td>\n",
       "      <td>1618.682794</td>\n",
       "      <td>1531.863665</td>\n",
       "      <td>1572.027185</td>\n",
       "      <td>1552.287822</td>\n",
       "      <td>1569.188240</td>\n",
       "    </tr>\n",
       "    <tr>\n",
       "      <th>1</th>\n",
       "      <td>6</td>\n",
       "      <td>1948.610962</td>\n",
       "      <td>1802.400940</td>\n",
       "      <td>1764.082471</td>\n",
       "      <td>1762.798763</td>\n",
       "      <td>1788.709243</td>\n",
       "      <td>1783.019814</td>\n",
       "      <td>1780.202246</td>\n",
       "    </tr>\n",
       "    <tr>\n",
       "      <th>2</th>\n",
       "      <td>9</td>\n",
       "      <td>10234.997070</td>\n",
       "      <td>8795.713916</td>\n",
       "      <td>8709.638623</td>\n",
       "      <td>8946.321626</td>\n",
       "      <td>9007.457070</td>\n",
       "      <td>8934.108457</td>\n",
       "      <td>8878.647938</td>\n",
       "    </tr>\n",
       "    <tr>\n",
       "      <th>3</th>\n",
       "      <td>12</td>\n",
       "      <td>6416.453125</td>\n",
       "      <td>7165.508398</td>\n",
       "      <td>7569.952295</td>\n",
       "      <td>6896.642773</td>\n",
       "      <td>7141.388379</td>\n",
       "      <td>7423.074727</td>\n",
       "      <td>7239.313314</td>\n",
       "    </tr>\n",
       "    <tr>\n",
       "      <th>4</th>\n",
       "      <td>15</td>\n",
       "      <td>792.276978</td>\n",
       "      <td>779.901031</td>\n",
       "      <td>740.422812</td>\n",
       "      <td>767.032419</td>\n",
       "      <td>777.997367</td>\n",
       "      <td>757.449355</td>\n",
       "      <td>764.560597</td>\n",
       "    </tr>\n",
       "  </tbody>\n",
       "</table>\n",
       "</div>"
      ],
      "text/plain": [
       "   id      loss_xgb  loss_allset_nn1  loss_allset_nn_2  pred_av_nn1  \\\n",
       "0   4   1512.877930      1571.079736       1618.682794  1531.863665   \n",
       "1   6   1948.610962      1802.400940       1764.082471  1762.798763   \n",
       "2   9  10234.997070      8795.713916       8709.638623  8946.321626   \n",
       "3  12   6416.453125      7165.508398       7569.952295  6896.642773   \n",
       "4  15    792.276978       779.901031        740.422812   767.032419   \n",
       "\n",
       "   pred_av_nn2  pred_av_nn3  pred_av_nn_mean  \n",
       "0  1572.027185  1552.287822      1569.188240  \n",
       "1  1788.709243  1783.019814      1780.202246  \n",
       "2  9007.457070  8934.108457      8878.647938  \n",
       "3  7141.388379  7423.074727      7239.313314  \n",
       "4   777.997367   757.449355       764.560597  "
      ]
     },
     "execution_count": 206,
     "metadata": {},
     "output_type": "execute_result"
    }
   ],
   "source": [
    "preds_big.head()"
   ]
  },
  {
   "cell_type": "code",
   "execution_count": 205,
   "metadata": {
    "collapsed": false
   },
   "outputs": [],
   "source": [
    "preds_big[\"pred_av_nn_mean\"] = preds_big.loss_allset_nn1*0.2 + preds_big.loss_allset_nn_2*0.2\\\n",
    "+ preds_big.pred_av_nn1*0.2 + preds_big.pred_av_nn2*0.2+ preds_big.pred_av_nn3*0.2 "
   ]
  },
  {
   "cell_type": "code",
   "execution_count": 230,
   "metadata": {
    "collapsed": true
   },
   "outputs": [],
   "source": [
    "preds_big[\"y_pred_subm\"] = (1.01*(0.55*preds_big.loss_xgb + 0.45*preds_big.pred_av_nn_mean) - 10)"
   ]
  },
  {
   "cell_type": "code",
   "execution_count": 231,
   "metadata": {
    "collapsed": true
   },
   "outputs": [],
   "source": [
    "res = preds_big[[\"id\", \"y_pred_subm\"]]\n",
    "res.columns = [\"id\", \"loss\"]\n",
    "res.to_csv(\"../submissions/submission_weighted_big_averagenn_055xgb_045nn_shift_17.csv\", index=False)\n"
   ]
  },
  {
   "cell_type": "code",
   "execution_count": null,
   "metadata": {
    "collapsed": true
   },
   "outputs": [],
   "source": []
  },
  {
   "cell_type": "code",
   "execution_count": 193,
   "metadata": {
    "collapsed": true
   },
   "outputs": [
    {
     "ename": "AttributeError",
     "evalue": "'DataFrame' object has no attribute 'y_true'",
     "output_type": "error",
     "traceback": [
      "\u001b[0;31m---------------------------------------------------------------------------\u001b[0m",
      "\u001b[0;31mAttributeError\u001b[0m                            Traceback (most recent call last)",
      "\u001b[0;32m<ipython-input-193-1faeaf0075b0>\u001b[0m in \u001b[0;36m<module>\u001b[0;34m()\u001b[0m\n\u001b[0;32m----> 1\u001b[0;31m \u001b[0moof_xgb\u001b[0m\u001b[0;34m.\u001b[0m\u001b[0my_true\u001b[0m \u001b[0;34m=\u001b[0m \u001b[0moof_xgb\u001b[0m\u001b[0;34m.\u001b[0m\u001b[0my_true\u001b[0m\u001b[0;34m.\u001b[0m\u001b[0mapply\u001b[0m\u001b[0;34m(\u001b[0m\u001b[0;32mlambda\u001b[0m \u001b[0mx\u001b[0m\u001b[0;34m:\u001b[0m \u001b[0mnp\u001b[0m\u001b[0;34m.\u001b[0m\u001b[0mexp\u001b[0m\u001b[0;34m(\u001b[0m\u001b[0mx\u001b[0m\u001b[0;34m)\u001b[0m \u001b[0;34m-\u001b[0m \u001b[0;36m200\u001b[0m\u001b[0;34m)\u001b[0m\u001b[0;34m\u001b[0m\u001b[0m\n\u001b[0m\u001b[1;32m      2\u001b[0m \u001b[0moof_xgb\u001b[0m\u001b[0;34m.\u001b[0m\u001b[0my_pred\u001b[0m \u001b[0;34m=\u001b[0m \u001b[0moof_xgb\u001b[0m\u001b[0;34m.\u001b[0m\u001b[0my_pred\u001b[0m\u001b[0;34m.\u001b[0m\u001b[0mapply\u001b[0m\u001b[0;34m(\u001b[0m\u001b[0;32mlambda\u001b[0m \u001b[0mx\u001b[0m\u001b[0;34m:\u001b[0m \u001b[0mnp\u001b[0m\u001b[0;34m.\u001b[0m\u001b[0mexp\u001b[0m\u001b[0;34m(\u001b[0m\u001b[0mx\u001b[0m\u001b[0;34m)\u001b[0m \u001b[0;34m-\u001b[0m \u001b[0;36m200\u001b[0m\u001b[0;34m)\u001b[0m\u001b[0;34m\u001b[0m\u001b[0m\n\u001b[1;32m      3\u001b[0m \u001b[0moof_xgb\u001b[0m\u001b[0;34m.\u001b[0m\u001b[0mcolumns\u001b[0m \u001b[0;34m=\u001b[0m \u001b[0;34m[\u001b[0m\u001b[0;34m\"id\"\u001b[0m\u001b[0;34m,\u001b[0m \u001b[0;34m\"loss\"\u001b[0m\u001b[0;34m,\u001b[0m \u001b[0;34m\"loss_pred_xgb\"\u001b[0m\u001b[0;34m]\u001b[0m\u001b[0;34m\u001b[0m\u001b[0m\n\u001b[1;32m      4\u001b[0m \u001b[0moof_xgb\u001b[0m\u001b[0;34m.\u001b[0m\u001b[0mid\u001b[0m \u001b[0;34m=\u001b[0m \u001b[0moof_xgb\u001b[0m\u001b[0;34m.\u001b[0m\u001b[0mid\u001b[0m\u001b[0;34m.\u001b[0m\u001b[0mapply\u001b[0m\u001b[0;34m(\u001b[0m\u001b[0;32mlambda\u001b[0m \u001b[0mx\u001b[0m\u001b[0;34m:\u001b[0m \u001b[0mint\u001b[0m\u001b[0;34m(\u001b[0m\u001b[0mx\u001b[0m\u001b[0;34m)\u001b[0m\u001b[0;34m)\u001b[0m\u001b[0;34m\u001b[0m\u001b[0m\n",
      "\u001b[0;32m/home/y.romanikhin/.virtualenvs/venv/lib/python2.7/site-packages/pandas/core/generic.pyc\u001b[0m in \u001b[0;36m__getattr__\u001b[0;34m(self, name)\u001b[0m\n\u001b[1;32m   2670\u001b[0m             \u001b[0;32mif\u001b[0m \u001b[0mname\u001b[0m \u001b[0;32min\u001b[0m \u001b[0mself\u001b[0m\u001b[0;34m.\u001b[0m\u001b[0m_info_axis\u001b[0m\u001b[0;34m:\u001b[0m\u001b[0;34m\u001b[0m\u001b[0m\n\u001b[1;32m   2671\u001b[0m                 \u001b[0;32mreturn\u001b[0m \u001b[0mself\u001b[0m\u001b[0;34m[\u001b[0m\u001b[0mname\u001b[0m\u001b[0;34m]\u001b[0m\u001b[0;34m\u001b[0m\u001b[0m\n\u001b[0;32m-> 2672\u001b[0;31m             \u001b[0;32mreturn\u001b[0m \u001b[0mobject\u001b[0m\u001b[0;34m.\u001b[0m\u001b[0m__getattribute__\u001b[0m\u001b[0;34m(\u001b[0m\u001b[0mself\u001b[0m\u001b[0;34m,\u001b[0m \u001b[0mname\u001b[0m\u001b[0;34m)\u001b[0m\u001b[0;34m\u001b[0m\u001b[0m\n\u001b[0m\u001b[1;32m   2673\u001b[0m \u001b[0;34m\u001b[0m\u001b[0m\n\u001b[1;32m   2674\u001b[0m     \u001b[0;32mdef\u001b[0m \u001b[0m__setattr__\u001b[0m\u001b[0;34m(\u001b[0m\u001b[0mself\u001b[0m\u001b[0;34m,\u001b[0m \u001b[0mname\u001b[0m\u001b[0;34m,\u001b[0m \u001b[0mvalue\u001b[0m\u001b[0;34m)\u001b[0m\u001b[0;34m:\u001b[0m\u001b[0;34m\u001b[0m\u001b[0m\n",
      "\u001b[0;31mAttributeError\u001b[0m: 'DataFrame' object has no attribute 'y_true'"
     ]
    }
   ],
   "source": [
    "oof_xgb.y_true = oof_xgb.y_true.apply(lambda x: np.exp(x) - 200)\n",
    "oof_xgb.y_pred = oof_xgb.y_pred.apply(lambda x: np.exp(x) - 200)\n",
    "oof_xgb.columns = [\"id\", \"loss\", \"loss_pred_xgb\"]\n",
    "oof_xgb.id = oof_xgb.id.apply(lambda x: int(x))"
   ]
  },
  {
   "cell_type": "code",
   "execution_count": 196,
   "metadata": {
    "collapsed": false
   },
   "outputs": [
    {
     "data": {
      "text/html": [
       "<div>\n",
       "<table border=\"1\" class=\"dataframe\">\n",
       "  <thead>\n",
       "    <tr style=\"text-align: right;\">\n",
       "      <th></th>\n",
       "      <th>id</th>\n",
       "      <th>loss</th>\n",
       "      <th>loss_pred_xgb</th>\n",
       "    </tr>\n",
       "  </thead>\n",
       "  <tbody>\n",
       "    <tr>\n",
       "      <th>0</th>\n",
       "      <td>1</td>\n",
       "      <td>2213.18</td>\n",
       "      <td>1958.702840</td>\n",
       "    </tr>\n",
       "    <tr>\n",
       "      <th>1</th>\n",
       "      <td>2</td>\n",
       "      <td>1283.60</td>\n",
       "      <td>1766.157787</td>\n",
       "    </tr>\n",
       "    <tr>\n",
       "      <th>2</th>\n",
       "      <td>5</td>\n",
       "      <td>3005.09</td>\n",
       "      <td>4465.905258</td>\n",
       "    </tr>\n",
       "    <tr>\n",
       "      <th>3</th>\n",
       "      <td>10</td>\n",
       "      <td>939.85</td>\n",
       "      <td>1054.908671</td>\n",
       "    </tr>\n",
       "    <tr>\n",
       "      <th>4</th>\n",
       "      <td>11</td>\n",
       "      <td>2763.85</td>\n",
       "      <td>3282.222525</td>\n",
       "    </tr>\n",
       "    <tr>\n",
       "      <th>5</th>\n",
       "      <td>13</td>\n",
       "      <td>5142.87</td>\n",
       "      <td>3791.854788</td>\n",
       "    </tr>\n",
       "    <tr>\n",
       "      <th>6</th>\n",
       "      <td>14</td>\n",
       "      <td>1132.22</td>\n",
       "      <td>1252.761330</td>\n",
       "    </tr>\n",
       "    <tr>\n",
       "      <th>7</th>\n",
       "      <td>20</td>\n",
       "      <td>3585.75</td>\n",
       "      <td>6768.394739</td>\n",
       "    </tr>\n",
       "    <tr>\n",
       "      <th>8</th>\n",
       "      <td>23</td>\n",
       "      <td>10280.20</td>\n",
       "      <td>8644.702800</td>\n",
       "    </tr>\n",
       "    <tr>\n",
       "      <th>9</th>\n",
       "      <td>24</td>\n",
       "      <td>6184.59</td>\n",
       "      <td>5900.054649</td>\n",
       "    </tr>\n",
       "  </tbody>\n",
       "</table>\n",
       "</div>"
      ],
      "text/plain": [
       "   id      loss  loss_pred_xgb\n",
       "0   1   2213.18    1958.702840\n",
       "1   2   1283.60    1766.157787\n",
       "2   5   3005.09    4465.905258\n",
       "3  10    939.85    1054.908671\n",
       "4  11   2763.85    3282.222525\n",
       "5  13   5142.87    3791.854788\n",
       "6  14   1132.22    1252.761330\n",
       "7  20   3585.75    6768.394739\n",
       "8  23  10280.20    8644.702800\n",
       "9  24   6184.59    5900.054649"
      ]
     },
     "execution_count": 196,
     "metadata": {},
     "output_type": "execute_result"
    }
   ],
   "source": [
    "oof_xgb.head(10)"
   ]
  },
  {
   "cell_type": "code",
   "execution_count": 197,
   "metadata": {
    "collapsed": false
   },
   "outputs": [],
   "source": [
    "oof_nn = oof_nn.sort_values(by=\"id\")\n",
    "oof_nn.columns = [\"id\", \"loss_pred_nn\"]\n",
    "oof_nn_2.columns = [\"id\", \"loss_pred_nn_2\"]"
   ]
  },
  {
   "cell_type": "code",
   "execution_count": 198,
   "metadata": {
    "collapsed": false
   },
   "outputs": [
    {
     "data": {
      "text/html": [
       "<div>\n",
       "<table border=\"1\" class=\"dataframe\">\n",
       "  <thead>\n",
       "    <tr style=\"text-align: right;\">\n",
       "      <th></th>\n",
       "      <th>id</th>\n",
       "      <th>loss_pred_nn</th>\n",
       "    </tr>\n",
       "  </thead>\n",
       "  <tbody>\n",
       "    <tr>\n",
       "      <th>180536</th>\n",
       "      <td>1</td>\n",
       "      <td>1772.254663</td>\n",
       "    </tr>\n",
       "    <tr>\n",
       "      <th>114129</th>\n",
       "      <td>2</td>\n",
       "      <td>1453.589978</td>\n",
       "    </tr>\n",
       "    <tr>\n",
       "      <th>64050</th>\n",
       "      <td>5</td>\n",
       "      <td>3784.165991</td>\n",
       "    </tr>\n",
       "    <tr>\n",
       "      <th>166274</th>\n",
       "      <td>10</td>\n",
       "      <td>1002.060864</td>\n",
       "    </tr>\n",
       "    <tr>\n",
       "      <th>179990</th>\n",
       "      <td>11</td>\n",
       "      <td>3207.998926</td>\n",
       "    </tr>\n",
       "  </tbody>\n",
       "</table>\n",
       "</div>"
      ],
      "text/plain": [
       "        id  loss_pred_nn\n",
       "180536   1   1772.254663\n",
       "114129   2   1453.589978\n",
       "64050    5   3784.165991\n",
       "166274  10   1002.060864\n",
       "179990  11   3207.998926"
      ]
     },
     "execution_count": 198,
     "metadata": {},
     "output_type": "execute_result"
    }
   ],
   "source": [
    "oof_nn.head()"
   ]
  },
  {
   "cell_type": "code",
   "execution_count": null,
   "metadata": {
    "collapsed": true
   },
   "outputs": [],
   "source": []
  },
  {
   "cell_type": "code",
   "execution_count": 75,
   "metadata": {
    "collapsed": false
   },
   "outputs": [],
   "source": [
    "stack_ds = oof_xgb.merge(oof_nn)"
   ]
  },
  {
   "cell_type": "code",
   "execution_count": 78,
   "metadata": {
    "collapsed": false
   },
   "outputs": [],
   "source": [
    "stack_ds = stack_ds.merge(oof_nn_2).set_index(\"id\")"
   ]
  },
  {
   "cell_type": "code",
   "execution_count": 110,
   "metadata": {
    "collapsed": true
   },
   "outputs": [],
   "source": [
    "stack_ds[\"avg_nn_loss\"] = 1.01*(0.58*stack_ds.loss_pred_nn + 0.42*stack_ds.loss_pred_nn_2)\n",
    "stack_ds[\"loss_xgb_scales\"] = 1.01*stack_ds.loss_pred_xgb"
   ]
  },
  {
   "cell_type": "code",
   "execution_count": 111,
   "metadata": {
    "collapsed": false
   },
   "outputs": [
    {
     "data": {
      "text/html": [
       "<div>\n",
       "<table border=\"1\" class=\"dataframe\">\n",
       "  <thead>\n",
       "    <tr style=\"text-align: right;\">\n",
       "      <th></th>\n",
       "      <th>loss</th>\n",
       "      <th>loss_pred_xgb</th>\n",
       "      <th>loss_pred_nn</th>\n",
       "      <th>loss_pred_nn_2</th>\n",
       "      <th>avg_nn_loss</th>\n",
       "      <th>loss_xgb_scales</th>\n",
       "    </tr>\n",
       "    <tr>\n",
       "      <th>id</th>\n",
       "      <th></th>\n",
       "      <th></th>\n",
       "      <th></th>\n",
       "      <th></th>\n",
       "      <th></th>\n",
       "      <th></th>\n",
       "    </tr>\n",
       "  </thead>\n",
       "  <tbody>\n",
       "    <tr>\n",
       "      <th>1</th>\n",
       "      <td>2213.18</td>\n",
       "      <td>1958.702840</td>\n",
       "      <td>1772.254663</td>\n",
       "      <td>1930.521753</td>\n",
       "      <td>1857.114109</td>\n",
       "      <td>1978.289868</td>\n",
       "    </tr>\n",
       "    <tr>\n",
       "      <th>2</th>\n",
       "      <td>1283.60</td>\n",
       "      <td>1766.157787</td>\n",
       "      <td>1453.589978</td>\n",
       "      <td>1461.915234</td>\n",
       "      <td>1471.657452</td>\n",
       "      <td>1783.819365</td>\n",
       "    </tr>\n",
       "    <tr>\n",
       "      <th>5</th>\n",
       "      <td>3005.09</td>\n",
       "      <td>4465.905258</td>\n",
       "      <td>3784.165991</td>\n",
       "      <td>3922.386230</td>\n",
       "      <td>3880.640677</td>\n",
       "      <td>4510.564310</td>\n",
       "    </tr>\n",
       "    <tr>\n",
       "      <th>10</th>\n",
       "      <td>939.85</td>\n",
       "      <td>1054.908671</td>\n",
       "      <td>1002.060864</td>\n",
       "      <td>999.840552</td>\n",
       "      <td>1011.139616</td>\n",
       "      <td>1065.457758</td>\n",
       "    </tr>\n",
       "    <tr>\n",
       "      <th>11</th>\n",
       "      <td>2763.85</td>\n",
       "      <td>3282.222525</td>\n",
       "      <td>3207.998926</td>\n",
       "      <td>3327.151514</td>\n",
       "      <td>3290.623443</td>\n",
       "      <td>3315.044750</td>\n",
       "    </tr>\n",
       "  </tbody>\n",
       "</table>\n",
       "</div>"
      ],
      "text/plain": [
       "       loss  loss_pred_xgb  loss_pred_nn  loss_pred_nn_2  avg_nn_loss  \\\n",
       "id                                                                      \n",
       "1   2213.18    1958.702840   1772.254663     1930.521753  1857.114109   \n",
       "2   1283.60    1766.157787   1453.589978     1461.915234  1471.657452   \n",
       "5   3005.09    4465.905258   3784.165991     3922.386230  3880.640677   \n",
       "10   939.85    1054.908671   1002.060864      999.840552  1011.139616   \n",
       "11  2763.85    3282.222525   3207.998926     3327.151514  3290.623443   \n",
       "\n",
       "    loss_xgb_scales  \n",
       "id                   \n",
       "1       1978.289868  \n",
       "2       1783.819365  \n",
       "5       4510.564310  \n",
       "10      1065.457758  \n",
       "11      3315.044750  "
      ]
     },
     "execution_count": 111,
     "metadata": {},
     "output_type": "execute_result"
    }
   ],
   "source": [
    "stack_ds.head()"
   ]
  },
  {
   "cell_type": "code",
   "execution_count": null,
   "metadata": {
    "collapsed": true
   },
   "outputs": [],
   "source": []
  },
  {
   "cell_type": "code",
   "execution_count": 219,
   "metadata": {
    "collapsed": false
   },
   "outputs": [
    {
     "data": {
      "text/plain": [
       "1127.2263025583959"
      ]
     },
     "execution_count": 219,
     "metadata": {},
     "output_type": "execute_result"
    }
   ],
   "source": [
    "mae(stack_ds.loss, stack_ds.loss_xgb_scales - 20)"
   ]
  },
  {
   "cell_type": "code",
   "execution_count": null,
   "metadata": {
    "collapsed": true
   },
   "outputs": [],
   "source": [
    "1131.6166111766595 1132.6395716646759 1130.5996584028317(0.5 0.5) 1130.5528813394494(0.6 0.4) 1130.5513796498876(0.58 0.42)"
   ]
  },
  {
   "cell_type": "code",
   "execution_count": null,
   "metadata": {
    "collapsed": true
   },
   "outputs": [],
   "source": []
  },
  {
   "cell_type": "code",
   "execution_count": 103,
   "metadata": {
    "collapsed": false,
    "scrolled": true
   },
   "outputs": [
    {
     "name": "stdout",
     "output_type": "stream",
     "text": [
      "1.0 1130.55137965\n",
      "1.001 1130.50553999\n",
      "1.002 1130.46445635\n",
      "1.003 1130.42871885\n",
      "1.004 1130.39804177\n",
      "1.005 1130.37202069\n",
      "1.006 1130.3504744\n",
      "1.007 1130.33437788\n",
      "1.008 1130.32335512\n",
      "1.009 1130.31738101\n",
      "1.01 1130.3156728\n",
      "1.011 1130.31891289\n",
      "1.012 1130.32642883\n",
      "1.013 1130.33895236\n",
      "1.014 1130.35676421\n",
      "1.015 1130.3802945\n",
      "1.016 1130.40878792\n",
      "1.017 1130.44263283\n",
      "1.018 1130.48047558\n",
      "1.019 1130.52253427\n",
      "1.02 1130.56863156\n",
      "1.021 1130.61916893\n",
      "1.022 1130.67485832\n",
      "1.023 1130.73541343\n",
      "1.024 1130.80068202\n",
      "1.025 1130.87027429\n",
      "1.026 1130.94446088\n",
      "1.027 1131.02318571\n",
      "1.028 1131.10659525\n",
      "1.029 1131.19458902\n",
      "1.03 1131.28660358\n",
      "1.031 1131.38323111\n",
      "1.032 1131.48494054\n",
      "1.033 1131.59200731\n",
      "1.034 1131.70394093\n",
      "1.035 1131.82079212\n",
      "1.036 1131.94240763\n",
      "1.037 1132.06855461\n",
      "1.038 1132.1996142\n",
      "1.039 1132.33557685\n",
      "1.04 1132.47676416\n",
      "1.041 1132.62301332\n",
      "1.042 1132.77440054\n",
      "1.043 1132.93014346\n",
      "1.044 1133.09019716\n",
      "1.045 1133.254759\n",
      "1.046 1133.42441769\n",
      "1.047 1133.59833009\n",
      "1.048 1133.7766701\n",
      "1.049 1133.96037808\n",
      "1.05 1134.14889806\n",
      "1.051 1134.34174305\n",
      "1.052 1134.53880645\n",
      "1.053 1134.74033777\n",
      "1.054 1134.94638715\n",
      "1.055 1135.15690436\n",
      "1.056 1135.37270918\n",
      "1.057 1135.59347362\n",
      "1.058 1135.81897422\n",
      "1.059 1136.04952872\n",
      "1.06 1136.28454324\n",
      "1.061 1136.5240166\n",
      "1.062 1136.76776503\n",
      "1.063 1137.01580088\n",
      "1.064 1137.2682062\n",
      "1.065 1137.52555375\n",
      "1.066 1137.78730593\n",
      "1.067 1138.0535301\n",
      "1.068 1138.32430066\n",
      "1.069 1138.59982998\n",
      "1.07 1138.88043534\n",
      "1.071 1139.16517215\n",
      "1.072 1139.45377096\n",
      "1.073 1139.74679636\n",
      "1.074 1140.04486315\n",
      "1.075 1140.34703716\n",
      "1.076 1140.65354642\n",
      "1.077 1140.96433525\n",
      "1.078 1141.27926542\n",
      "1.079 1141.59913583\n",
      "1.08 1141.92431187\n",
      "1.081 1142.25394577\n",
      "1.082 1142.58741625\n",
      "1.083 1142.92490955\n",
      "1.084 1143.26696485\n",
      "1.085 1143.61323639\n",
      "1.086 1143.96425678\n",
      "1.087 1144.32069792\n",
      "1.088 1144.68147929\n",
      "1.089 1145.04650311\n",
      "1.09 1145.41606663\n",
      "1.091 1145.79069059\n",
      "1.092 1146.16937333\n",
      "1.093 1146.55227504\n",
      "1.094 1146.93962206\n",
      "1.095 1147.33099417\n",
      "1.096 1147.72619498\n",
      "1.097 1148.12496875\n",
      "1.098 1148.5275656\n",
      "1.099 1148.93386054\n",
      "1.1 1149.34410427\n"
     ]
    }
   ],
   "source": [
    "for k in np.linspace(1,1.1,101):\n",
    "    stack_ds[\"avg_nn_loss\"] = k*(0.58*stack_ds.loss_pred_nn + 0.42*stack_ds.loss_pred_nn_2)\n",
    "    print k, mae(stack_ds.loss, stack_ds.avg_nn_loss)"
   ]
  },
  {
   "cell_type": "code",
   "execution_count": 109,
   "metadata": {
    "collapsed": true
   },
   "outputs": [
    {
     "name": "stdout",
     "output_type": "stream",
     "text": [
      "1.0 1127.61001034\n",
      "1.001 1127.56747049\n",
      "1.002 1127.5297269\n",
      "1.003 1127.49669178\n",
      "1.004 1127.46809324\n",
      "1.005 1127.44387427\n",
      "1.006 1127.42402701\n",
      "1.007 1127.4087273\n",
      "1.008 1127.39820656\n",
      "1.009 1127.39198388\n",
      "1.01 1127.39013349\n",
      "1.011 1127.39325616\n",
      "1.012 1127.40101545\n",
      "1.013 1127.41381401\n",
      "1.014 1127.43130005\n",
      "1.015 1127.45369285\n",
      "1.016 1127.48094036\n",
      "1.017 1127.51323279\n",
      "1.018 1127.5501109\n",
      "1.019 1127.59172019\n",
      "1.02 1127.63794107\n",
      "1.021 1127.68878887\n",
      "1.022 1127.74428203\n",
      "1.023 1127.80436448\n",
      "1.024 1127.87020005\n",
      "1.025 1127.94109595\n",
      "1.026 1128.01719929\n",
      "1.027 1128.09855901\n",
      "1.028 1128.18488907\n",
      "1.029 1128.27595495\n",
      "1.03 1128.37144543\n",
      "1.031 1128.471638\n",
      "1.032 1128.57667678\n",
      "1.033 1128.68546635\n",
      "1.034 1128.79927229\n",
      "1.035 1128.91783941\n",
      "1.036 1129.04116695\n",
      "1.037 1129.16889113\n",
      "1.038 1129.30085078\n",
      "1.039 1129.43726321\n",
      "1.04 1129.5786707\n",
      "1.041 1129.72449763\n",
      "1.042 1129.87512726\n",
      "1.043 1130.03024937\n",
      "1.044 1130.18958402\n",
      "1.045 1130.35338293\n",
      "1.046 1130.52236599\n",
      "1.047 1130.69604776\n",
      "1.048 1130.87442111\n",
      "1.049 1131.05757017\n",
      "1.05 1131.24537039\n",
      "1.051 1131.43755082\n",
      "1.052 1131.63416687\n",
      "1.053 1131.83565077\n",
      "1.054 1132.04196111\n",
      "1.055 1132.2532757\n",
      "1.056 1132.46935493\n",
      "1.057 1132.69052354\n",
      "1.058 1132.91692121\n",
      "1.059 1133.14804994\n",
      "1.06 1133.3833324\n",
      "1.061 1133.62354187\n",
      "1.062 1133.86836908\n",
      "1.063 1134.11763844\n",
      "1.064 1134.37132304\n",
      "1.065 1134.62969955\n",
      "1.066 1134.89231201\n",
      "1.067 1135.15897549\n",
      "1.068 1135.42940132\n",
      "1.069 1135.70408179\n",
      "1.07 1135.98253738\n",
      "1.071 1136.26505061\n",
      "1.072 1136.55243684\n",
      "1.073 1136.84427776\n",
      "1.074 1137.14075619\n",
      "1.075 1137.44106716\n",
      "1.076 1137.74587068\n",
      "1.077 1138.0547906\n",
      "1.078 1138.36846973\n",
      "1.079 1138.68704975\n",
      "1.08 1139.01010752\n",
      "1.081 1139.33756298\n",
      "1.082 1139.66902251\n",
      "1.083 1140.00475973\n",
      "1.084 1140.34502972\n",
      "1.085 1140.689638\n",
      "1.086 1141.0388483\n",
      "1.087 1141.3932089\n",
      "1.088 1141.75172141\n",
      "1.089 1142.1146105\n",
      "1.09 1142.48224129\n",
      "1.091 1142.85430385\n",
      "1.092 1143.23039897\n",
      "1.093 1143.61105307\n",
      "1.094 1143.99581811\n",
      "1.095 1144.38507929\n",
      "1.096 1144.77893979\n",
      "1.097 1145.17716657\n",
      "1.098 1145.57995535\n",
      "1.099 1145.98705347\n",
      "1.1 1146.3987633\n"
     ]
    }
   ],
   "source": [
    "for k in np.linspace(1,1.1,101):\n",
    "    print k, mae(stack_ds.loss, k*stack_ds.loss_pred_xgb)"
   ]
  },
  {
   "cell_type": "code",
   "execution_count": null,
   "metadata": {
    "collapsed": true
   },
   "outputs": [],
   "source": []
  },
  {
   "cell_type": "code",
   "execution_count": 114,
   "metadata": {
    "collapsed": true
   },
   "outputs": [],
   "source": [
    "y = stack_ds.loss\n",
    "X = stack_ds[[\"loss_xgb_scales\", \"avg_nn_loss\"]]"
   ]
  },
  {
   "cell_type": "code",
   "execution_count": 115,
   "metadata": {
    "collapsed": true
   },
   "outputs": [],
   "source": [
    "X_train, X_hold, y_train, y_hold = train_test_split(X, y, test_size=0.2, random_state=42)"
   ]
  },
  {
   "cell_type": "code",
   "execution_count": 117,
   "metadata": {
    "collapsed": false
   },
   "outputs": [
    {
     "data": {
      "text/html": [
       "<div>\n",
       "<table border=\"1\" class=\"dataframe\">\n",
       "  <thead>\n",
       "    <tr style=\"text-align: right;\">\n",
       "      <th></th>\n",
       "      <th>loss_xgb_scales</th>\n",
       "      <th>avg_nn_loss</th>\n",
       "    </tr>\n",
       "    <tr>\n",
       "      <th>id</th>\n",
       "      <th></th>\n",
       "      <th></th>\n",
       "    </tr>\n",
       "  </thead>\n",
       "  <tbody>\n",
       "    <tr>\n",
       "      <th>244665</th>\n",
       "      <td>1515.389025</td>\n",
       "      <td>1562.873842</td>\n",
       "    </tr>\n",
       "    <tr>\n",
       "      <th>555753</th>\n",
       "      <td>1226.463794</td>\n",
       "      <td>1525.698960</td>\n",
       "    </tr>\n",
       "    <tr>\n",
       "      <th>62502</th>\n",
       "      <td>5052.523655</td>\n",
       "      <td>6725.325991</td>\n",
       "    </tr>\n",
       "    <tr>\n",
       "      <th>149698</th>\n",
       "      <td>1308.177121</td>\n",
       "      <td>1249.677277</td>\n",
       "    </tr>\n",
       "    <tr>\n",
       "      <th>253191</th>\n",
       "      <td>1314.974355</td>\n",
       "      <td>1336.655413</td>\n",
       "    </tr>\n",
       "  </tbody>\n",
       "</table>\n",
       "</div>"
      ],
      "text/plain": [
       "        loss_xgb_scales  avg_nn_loss\n",
       "id                                  \n",
       "244665      1515.389025  1562.873842\n",
       "555753      1226.463794  1525.698960\n",
       "62502       5052.523655  6725.325991\n",
       "149698      1308.177121  1249.677277\n",
       "253191      1314.974355  1336.655413"
      ]
     },
     "execution_count": 117,
     "metadata": {},
     "output_type": "execute_result"
    }
   ],
   "source": [
    "X_train.head()"
   ]
  },
  {
   "cell_type": "code",
   "execution_count": 121,
   "metadata": {
    "collapsed": false
   },
   "outputs": [],
   "source": [
    "score = {}\n",
    "for w in np.linspace(0.4,0.7,301):\n",
    "    y_pred = w*X_train.loss_xgb_scales + (1-w)*X_train.avg_nn_loss\n",
    "    score[w] = mae(y_train, y_pred)"
   ]
  },
  {
   "cell_type": "code",
   "execution_count": 122,
   "metadata": {
    "collapsed": false
   },
   "outputs": [
    {
     "data": {
      "text/plain": [
       "1122.1808969338178"
      ]
     },
     "execution_count": 122,
     "metadata": {},
     "output_type": "execute_result"
    }
   ],
   "source": [
    "np.min(score.values())   # 1122.9085829257458 without scaling"
   ]
  },
  {
   "cell_type": "code",
   "execution_count": 123,
   "metadata": {
    "collapsed": false
   },
   "outputs": [
    {
     "data": {
      "text/plain": [
       "{0.40000000000000002: 1123.0203408854074,\n",
       " 0.40100000000000002: 1123.0094049136214,\n",
       " 0.40200000000000002: 1122.998552964654,\n",
       " 0.40300000000000002: 1122.9878193745405,\n",
       " 0.40400000000000003: 1122.9771332109908,\n",
       " 0.40500000000000003: 1122.9665317719232,\n",
       " 0.40600000000000003: 1122.9560021926859,\n",
       " 0.40700000000000003: 1122.9455367763599,\n",
       " 0.40800000000000003: 1122.9351795028722,\n",
       " 0.40900000000000003: 1122.9248946667044,\n",
       " 0.41000000000000003: 1122.914711671222,\n",
       " 0.41100000000000003: 1122.904617995777,\n",
       " 0.41200000000000003: 1122.8945929521876,\n",
       " 0.41300000000000003: 1122.8846305343664,\n",
       " 0.41400000000000003: 1122.8747530640503,\n",
       " 0.41500000000000004: 1122.8649177223326,\n",
       " 0.41600000000000004: 1122.8551421150516,\n",
       " 0.41700000000000004: 1122.8454326700128,\n",
       " 0.41800000000000004: 1122.8358071519285,\n",
       " 0.41900000000000004: 1122.8262994810527,\n",
       " 0.42000000000000004: 1122.8168228475972,\n",
       " 0.42100000000000004: 1122.8074088434498,\n",
       " 0.42200000000000004: 1122.798070302385,\n",
       " 0.42300000000000004: 1122.7887597234001,\n",
       " 0.42400000000000004: 1122.7795037636847,\n",
       " 0.42500000000000004: 1122.7702934795118,\n",
       " 0.42600000000000005: 1122.761134961391,\n",
       " 0.42700000000000005: 1122.7520952465759,\n",
       " 0.42799999999999999: 1122.7431250372326,\n",
       " 0.42899999999999999: 1122.7342128807477,\n",
       " 0.42999999999999999: 1122.7253440529532,\n",
       " 0.43099999999999999: 1122.7165136014983,\n",
       " 0.432: 1122.7077360061937,\n",
       " 0.433: 1122.6990187358301,\n",
       " 0.434: 1122.690442600888,\n",
       " 0.435: 1122.68201179734,\n",
       " 0.436: 1122.6736469050377,\n",
       " 0.437: 1122.6653325116579,\n",
       " 0.438: 1122.6570620233545,\n",
       " 0.439: 1122.6488313287559,\n",
       " 0.44: 1122.6406507543848,\n",
       " 0.441: 1122.6325133328216,\n",
       " 0.442: 1122.6244181233503,\n",
       " 0.443: 1122.6163700048114,\n",
       " 0.44400000000000001: 1122.6083980421001,\n",
       " 0.44500000000000001: 1122.6004859562352,\n",
       " 0.44600000000000001: 1122.5926177014944,\n",
       " 0.44700000000000001: 1122.584795976373,\n",
       " 0.44800000000000001: 1122.5770301441403,\n",
       " 0.44900000000000001: 1122.5693646064879,\n",
       " 0.45000000000000001: 1122.561839498087,\n",
       " 0.45100000000000001: 1122.5543881429153,\n",
       " 0.45200000000000001: 1122.5470060645787,\n",
       " 0.45300000000000001: 1122.5397151191248,\n",
       " 0.45400000000000001: 1122.532485268973,\n",
       " 0.45500000000000002: 1122.5253004274643,\n",
       " 0.45600000000000002: 1122.5182014444831,\n",
       " 0.45700000000000002: 1122.5112230496172,\n",
       " 0.45800000000000002: 1122.5043658950217,\n",
       " 0.45900000000000002: 1122.4975721931557,\n",
       " 0.46000000000000002: 1122.4908513983287,\n",
       " 0.46100000000000002: 1122.4842839779235,\n",
       " 0.46200000000000002: 1122.4777623949876,\n",
       " 0.46300000000000002: 1122.4713148633514,\n",
       " 0.46400000000000002: 1122.4649383586298,\n",
       " 0.46500000000000002: 1122.4586075852053,\n",
       " 0.46600000000000003: 1122.4523531739128,\n",
       " 0.46700000000000003: 1122.4461745855513,\n",
       " 0.46800000000000003: 1122.4400948357347,\n",
       " 0.46900000000000003: 1122.4341177610315,\n",
       " 0.47000000000000003: 1122.4282413212986,\n",
       " 0.47099999999999997: 1122.4224847895564,\n",
       " 0.47199999999999998: 1122.4168218426591,\n",
       " 0.47299999999999998: 1122.4111974661973,\n",
       " 0.47399999999999998: 1122.4056018046736,\n",
       " 0.47499999999999998: 1122.4000722074736,\n",
       " 0.47599999999999998: 1122.3946072809636,\n",
       " 0.47699999999999998: 1122.3892078467502,\n",
       " 0.47799999999999998: 1122.3838547256958,\n",
       " 0.47899999999999998: 1122.3785566010906,\n",
       " 0.47999999999999998: 1122.3733457953253,\n",
       " 0.48099999999999998: 1122.3681892351456,\n",
       " 0.48199999999999998: 1122.3631283037817,\n",
       " 0.48299999999999998: 1122.3581169672782,\n",
       " 0.48399999999999999: 1122.3531930162981,\n",
       " 0.48499999999999999: 1122.3483428830493,\n",
       " 0.48599999999999999: 1122.3435490027441,\n",
       " 0.48699999999999999: 1122.3388246361642,\n",
       " 0.48799999999999999: 1122.3341512112111,\n",
       " 0.48899999999999999: 1122.3295210129568,\n",
       " 0.48999999999999999: 1122.3249328438087,\n",
       " 0.49099999999999999: 1122.3204173857398,\n",
       " 0.49199999999999999: 1122.3159325258734,\n",
       " 0.49299999999999999: 1122.3115037025377,\n",
       " 0.49399999999999999: 1122.3071724774459,\n",
       " 0.495: 1122.3030015451432,\n",
       " 0.496: 1122.2989289812831,\n",
       " 0.497: 1122.2949814461956,\n",
       " 0.498: 1122.2911380219462,\n",
       " 0.499: 1122.2873739109689,\n",
       " 0.5: 1122.2836719037314,\n",
       " 0.501: 1122.2800119847582,\n",
       " 0.502: 1122.2763799027975,\n",
       " 0.503: 1122.2727918963574,\n",
       " 0.504: 1122.2692464876081,\n",
       " 0.505: 1122.265767890043,\n",
       " 0.50600000000000001: 1122.2623462387849,\n",
       " 0.50700000000000001: 1122.2590088110426,\n",
       " 0.50800000000000001: 1122.2557314348996,\n",
       " 0.50900000000000001: 1122.25250366247,\n",
       " 0.51000000000000001: 1122.249319450252,\n",
       " 0.51100000000000001: 1122.246172980716,\n",
       " 0.51200000000000001: 1122.2430541037731,\n",
       " 0.51300000000000001: 1122.2399711446035,\n",
       " 0.51400000000000001: 1122.2369547146263,\n",
       " 0.51500000000000001: 1122.2340050545429,\n",
       " 0.51600000000000001: 1122.2311784765318,\n",
       " 0.51700000000000002: 1122.2284440377723,\n",
       " 0.51800000000000002: 1122.2257638789854,\n",
       " 0.51900000000000002: 1122.2231458116189,\n",
       " 0.52000000000000002: 1122.2206562315528,\n",
       " 0.52100000000000002: 1122.2182812529879,\n",
       " 0.52200000000000002: 1122.2159642328897,\n",
       " 0.52300000000000002: 1122.2136824417853,\n",
       " 0.52400000000000002: 1122.2114556527774,\n",
       " 0.52500000000000002: 1122.2093014209854,\n",
       " 0.52600000000000002: 1122.2073334848139,\n",
       " 0.52700000000000002: 1122.2054455029588,\n",
       " 0.52800000000000002: 1122.2036661858199,\n",
       " 0.52900000000000003: 1122.201949483936,\n",
       " 0.53000000000000003: 1122.2003072414479,\n",
       " 0.53100000000000003: 1122.1987214451678,\n",
       " 0.53200000000000003: 1122.197187475005,\n",
       " 0.53300000000000003: 1122.1956956172683,\n",
       " 0.53400000000000003: 1122.1942713931523,\n",
       " 0.53500000000000003: 1122.1929218209782,\n",
       " 0.53600000000000003: 1122.1916491897134,\n",
       " 0.53700000000000003: 1122.1904411217092,\n",
       " 0.53800000000000003: 1122.1892999365787,\n",
       " 0.53900000000000003: 1122.1882644484729,\n",
       " 0.54000000000000004: 1122.187265063503,\n",
       " 0.54099999999999993: 1122.186284509392,\n",
       " 0.54200000000000004: 1122.1853762132712,\n",
       " 0.54299999999999993: 1122.1845590079035,\n",
       " 0.54400000000000004: 1122.1838371628728,\n",
       " 0.54499999999999993: 1122.1832059687524,\n",
       " 0.54600000000000004: 1122.1826654926588,\n",
       " 0.54699999999999993: 1122.1821997998584,\n",
       " 0.54800000000000004: 1122.1818368918227,\n",
       " 0.54899999999999993: 1122.1815374979283,\n",
       " 0.55000000000000004: 1122.18128240952,\n",
       " 0.55099999999999993: 1122.1810721363192,\n",
       " 0.55200000000000005: 1122.1809652567438,\n",
       " 0.55299999999999994: 1122.1809125968498,\n",
       " 0.55400000000000005: 1122.1808969338178,\n",
       " 0.55499999999999994: 1122.1809200404095,\n",
       " 0.55600000000000005: 1122.1809934840267,\n",
       " 0.55699999999999994: 1122.1811494723702,\n",
       " 0.55800000000000005: 1122.1814127876999,\n",
       " 0.55899999999999994: 1122.1817134828698,\n",
       " 0.56000000000000005: 1122.1821000066038,\n",
       " 0.56099999999999994: 1122.1825371060081,\n",
       " 0.56200000000000006: 1122.1830067820706,\n",
       " 0.56299999999999994: 1122.1835678433372,\n",
       " 0.56400000000000006: 1122.1841920617342,\n",
       " 0.56499999999999995: 1122.1848788908985,\n",
       " 0.56600000000000006: 1122.1856253180204,\n",
       " 0.56699999999999995: 1122.1864387394207,\n",
       " 0.56799999999999995: 1122.1873452658613,\n",
       " 0.56899999999999995: 1122.1883292361358,\n",
       " 0.56999999999999995: 1122.1893966824512,\n",
       " 0.57099999999999995: 1122.1905447084764,\n",
       " 0.57199999999999995: 1122.1917609442264,\n",
       " 0.57299999999999995: 1122.193084710661,\n",
       " 0.57399999999999995: 1122.1944488994773,\n",
       " 0.57499999999999996: 1122.1958779830377,\n",
       " 0.57599999999999996: 1122.1973853787979,\n",
       " 0.57699999999999996: 1122.1989914028989,\n",
       " 0.57799999999999996: 1122.2007031475644,\n",
       " 0.57899999999999996: 1122.2024786106306,\n",
       " 0.57999999999999996: 1122.2043221870067,\n",
       " 0.58099999999999996: 1122.2063038072022,\n",
       " 0.58199999999999996: 1122.2083637563419,\n",
       " 0.58299999999999996: 1122.2104821815346,\n",
       " 0.58399999999999996: 1122.212649120871,\n",
       " 0.58499999999999996: 1122.2148675075587,\n",
       " 0.58599999999999997: 1122.217209691215,\n",
       " 0.58699999999999997: 1122.2196292926542,\n",
       " 0.58799999999999997: 1122.2221264936061,\n",
       " 0.58899999999999997: 1122.2246997843988,\n",
       " 0.58999999999999997: 1122.2273670879163,\n",
       " 0.59099999999999997: 1122.2301088248212,\n",
       " 0.59199999999999997: 1122.2328870720644,\n",
       " 0.59299999999999997: 1122.2357850803448,\n",
       " 0.59399999999999997: 1122.2387774359051,\n",
       " 0.59499999999999997: 1122.2418544082309,\n",
       " 0.59599999999999997: 1122.2450091076539,\n",
       " 0.59699999999999998: 1122.2482567507245,\n",
       " 0.59799999999999998: 1122.2515802992325,\n",
       " 0.59899999999999998: 1122.2549791592719,\n",
       " 0.59999999999999998: 1122.2584141171883,\n",
       " 0.60099999999999998: 1122.261927574222,\n",
       " 0.60199999999999998: 1122.265528831203,\n",
       " 0.60299999999999998: 1122.2691870092342,\n",
       " 0.60399999999999998: 1122.2729331255409,\n",
       " 0.60499999999999998: 1122.2767282216357,\n",
       " 0.60599999999999998: 1122.2805891994628,\n",
       " 0.60699999999999998: 1122.2845914420834,\n",
       " 0.60799999999999998: 1122.2887725477231,\n",
       " 0.60899999999999999: 1122.2931230400197,\n",
       " 0.60999999999999999: 1122.2976198084173,\n",
       " 0.61099999999999999: 1122.302156225946,\n",
       " 0.61199999999999999: 1122.3067637423833,\n",
       " 0.61299999999999999: 1122.3114144880601,\n",
       " 0.61399999999999999: 1122.3161496779248,\n",
       " 0.61499999999999999: 1122.3209663452112,\n",
       " 0.61599999999999999: 1122.3258498665093,\n",
       " 0.61699999999999999: 1122.3307993284955,\n",
       " 0.61799999999999999: 1122.3358597149115,\n",
       " 0.61899999999999999: 1122.3410431020368,\n",
       " 0.62: 1122.346373853921,\n",
       " 0.621: 1122.3517959530438,\n",
       " 0.622: 1122.3573010598193,\n",
       " 0.623: 1122.3629246184066,\n",
       " 0.624: 1122.3686056872273,\n",
       " 0.625: 1122.3743472594983,\n",
       " 0.626: 1122.3801874922442,\n",
       " 0.627: 1122.3860637885664,\n",
       " 0.628: 1122.392005370657,\n",
       " 0.629: 1122.3980512885071,\n",
       " 0.63: 1122.4041407819254,\n",
       " 0.63100000000000001: 1122.4102994711045,\n",
       " 0.63200000000000001: 1122.416498778455,\n",
       " 0.63300000000000001: 1122.4227879381053,\n",
       " 0.63400000000000001: 1122.4291305715356,\n",
       " 0.63500000000000001: 1122.4355367758674,\n",
       " 0.63600000000000001: 1122.4419890464758,\n",
       " 0.63700000000000001: 1122.4485069624293,\n",
       " 0.63800000000000001: 1122.4551363372468,\n",
       " 0.63900000000000001: 1122.4618783391431,\n",
       " 0.64000000000000001: 1122.4686648924837,\n",
       " 0.64100000000000001: 1122.4755177407608,\n",
       " 0.64200000000000002: 1122.4824772694562,\n",
       " 0.64300000000000002: 1122.4894963981692,\n",
       " 0.64399999999999991: 1122.4965890454521,\n",
       " 0.64500000000000002: 1122.5038100301008,\n",
       " 0.64599999999999991: 1122.511128801516,\n",
       " 0.64700000000000002: 1122.5185046655017,\n",
       " 0.64799999999999991: 1122.5259460395889,\n",
       " 0.64900000000000002: 1122.5334563112515,\n",
       " 0.64999999999999991: 1122.541034863375,\n",
       " 0.65100000000000002: 1122.5486718510708,\n",
       " 0.65199999999999991: 1122.5563955467237,\n",
       " 0.65300000000000002: 1122.5641946201079,\n",
       " 0.65399999999999991: 1122.5721249197181,\n",
       " 0.65500000000000003: 1122.5801130352884,\n",
       " 0.65599999999999992: 1122.5881797362313,\n",
       " 0.65700000000000003: 1122.5963345148111,\n",
       " 0.65799999999999992: 1122.6045452212343,\n",
       " 0.65900000000000003: 1122.6128061675777,\n",
       " 0.65999999999999992: 1122.621155277212,\n",
       " 0.66100000000000003: 1122.6295534681833,\n",
       " 0.66199999999999992: 1122.6380222030969,\n",
       " 0.66300000000000003: 1122.6465460532575,\n",
       " 0.66399999999999992: 1122.6551721207129,\n",
       " 0.66500000000000004: 1122.6638992936441,\n",
       " 0.66599999999999993: 1122.6727181718652,\n",
       " 0.66700000000000004: 1122.6815753036803,\n",
       " 0.66799999999999993: 1122.6905201411805,\n",
       " 0.66900000000000004: 1122.6995472591636,\n",
       " 0.66999999999999993: 1122.7086693455999,\n",
       " 0.67100000000000004: 1122.7178372547035,\n",
       " 0.67199999999999993: 1122.7270337999576,\n",
       " 0.67300000000000004: 1122.7362762687169,\n",
       " 0.67399999999999993: 1122.7455846334224,\n",
       " 0.67500000000000004: 1122.7549986674774,\n",
       " 0.67599999999999993: 1122.7645070858969,\n",
       " 0.67700000000000005: 1122.7740783854715,\n",
       " 0.67799999999999994: 1122.7836888558982,\n",
       " 0.67900000000000005: 1122.793331890018,\n",
       " 0.67999999999999994: 1122.8030389263704,\n",
       " 0.68100000000000005: 1122.8128012907994,\n",
       " 0.68199999999999994: 1122.8226155534824,\n",
       " 0.68299999999999994: 1122.8324790751421,\n",
       " 0.68399999999999994: 1122.84237579357,\n",
       " 0.68499999999999994: 1122.8523177148973,\n",
       " 0.68599999999999994: 1122.8623538811717,\n",
       " 0.68699999999999994: 1122.8724472234185,\n",
       " 0.68799999999999994: 1122.8825808339222,\n",
       " 0.68899999999999995: 1122.8927574425607,\n",
       " 0.68999999999999995: 1122.9029852220287,\n",
       " 0.69099999999999995: 1122.913323413193,\n",
       " 0.69199999999999995: 1122.9237658792097,\n",
       " 0.69299999999999995: 1122.9342502547981,\n",
       " 0.69399999999999995: 1122.9447763612457,\n",
       " 0.69499999999999995: 1122.9553254983621,\n",
       " 0.69599999999999995: 1122.9659192330414,\n",
       " 0.69699999999999995: 1122.9766112110044,\n",
       " 0.69799999999999995: 1122.9873974194295,\n",
       " 0.69899999999999995: 1122.9982899296047,\n",
       " 0.69999999999999996: 1123.0092916430015}"
      ]
     },
     "execution_count": 123,
     "metadata": {},
     "output_type": "execute_result"
    }
   ],
   "source": [
    "score"
   ]
  },
  {
   "cell_type": "code",
   "execution_count": 124,
   "metadata": {
    "collapsed": false
   },
   "outputs": [
    {
     "data": {
      "text/plain": [
       "1111.1240938614296"
      ]
     },
     "execution_count": 124,
     "metadata": {},
     "output_type": "execute_result"
    }
   ],
   "source": [
    "w = 0.554\n",
    "y_pred_hold = w*X_hold.loss_xgb_scales + (1-w)*X_hold.avg_nn_loss\n",
    "mae(y_hold, y_pred_hold)   # 1111.9776387586799 without scaling"
   ]
  },
  {
   "cell_type": "markdown",
   "metadata": {},
   "source": [
    "1102.92558 on LB"
   ]
  },
  {
   "cell_type": "code",
   "execution_count": null,
   "metadata": {
    "collapsed": true
   },
   "outputs": [],
   "source": []
  },
  {
   "cell_type": "markdown",
   "metadata": {},
   "source": [
    "for post_calibration"
   ]
  },
  {
   "cell_type": "code",
   "execution_count": 33,
   "metadata": {
    "collapsed": true
   },
   "outputs": [],
   "source": [
    "X[\"prediction\"] = w*X.loss_pred_xgb + (1-w)*X.loss_pred_nn\n",
    "X[\"loss\"] = y"
   ]
  },
  {
   "cell_type": "code",
   "execution_count": 34,
   "metadata": {
    "collapsed": false
   },
   "outputs": [
    {
     "data": {
      "text/html": [
       "<div>\n",
       "<table border=\"1\" class=\"dataframe\">\n",
       "  <thead>\n",
       "    <tr style=\"text-align: right;\">\n",
       "      <th></th>\n",
       "      <th>loss_pred_xgb</th>\n",
       "      <th>loss_pred_nn</th>\n",
       "      <th>train_iso</th>\n",
       "      <th>loss</th>\n",
       "      <th>prediction</th>\n",
       "    </tr>\n",
       "    <tr>\n",
       "      <th>id</th>\n",
       "      <th></th>\n",
       "      <th></th>\n",
       "      <th></th>\n",
       "      <th></th>\n",
       "      <th></th>\n",
       "    </tr>\n",
       "  </thead>\n",
       "  <tbody>\n",
       "    <tr>\n",
       "      <th>1</th>\n",
       "      <td>1958.702840</td>\n",
       "      <td>1772.254663</td>\n",
       "      <td>1878.530124</td>\n",
       "      <td>2213.18</td>\n",
       "      <td>1878.530124</td>\n",
       "    </tr>\n",
       "    <tr>\n",
       "      <th>2</th>\n",
       "      <td>1766.157787</td>\n",
       "      <td>1453.589978</td>\n",
       "      <td>1631.753629</td>\n",
       "      <td>1283.60</td>\n",
       "      <td>1631.753629</td>\n",
       "    </tr>\n",
       "    <tr>\n",
       "      <th>5</th>\n",
       "      <td>4465.905258</td>\n",
       "      <td>3784.165991</td>\n",
       "      <td>4172.757373</td>\n",
       "      <td>3005.09</td>\n",
       "      <td>4172.757373</td>\n",
       "    </tr>\n",
       "    <tr>\n",
       "      <th>10</th>\n",
       "      <td>1054.908671</td>\n",
       "      <td>1002.060864</td>\n",
       "      <td>1032.184114</td>\n",
       "      <td>939.85</td>\n",
       "      <td>1032.184114</td>\n",
       "    </tr>\n",
       "    <tr>\n",
       "      <th>11</th>\n",
       "      <td>3282.222525</td>\n",
       "      <td>3207.998926</td>\n",
       "      <td>3250.306377</td>\n",
       "      <td>2763.85</td>\n",
       "      <td>3250.306377</td>\n",
       "    </tr>\n",
       "  </tbody>\n",
       "</table>\n",
       "</div>"
      ],
      "text/plain": [
       "    loss_pred_xgb  loss_pred_nn    train_iso     loss   prediction\n",
       "id                                                                \n",
       "1     1958.702840   1772.254663  1878.530124  2213.18  1878.530124\n",
       "2     1766.157787   1453.589978  1631.753629  1283.60  1631.753629\n",
       "5     4465.905258   3784.165991  4172.757373  3005.09  4172.757373\n",
       "10    1054.908671   1002.060864  1032.184114   939.85  1032.184114\n",
       "11    3282.222525   3207.998926  3250.306377  2763.85  3250.306377"
      ]
     },
     "execution_count": 34,
     "metadata": {},
     "output_type": "execute_result"
    }
   ],
   "source": [
    "X.head()"
   ]
  },
  {
   "cell_type": "code",
   "execution_count": 37,
   "metadata": {
    "collapsed": false
   },
   "outputs": [],
   "source": [
    "X[[\"prediction\", \"loss\"]].reset_index().to_csv(\"iso_reg/trainsubmission.csv\", index=False)"
   ]
  },
  {
   "cell_type": "code",
   "execution_count": 39,
   "metadata": {
    "collapsed": true
   },
   "outputs": [],
   "source": [
    "preds[\"prediction\"] = w*preds.loss_xgb + (1-w)*preds.loss_nn"
   ]
  },
  {
   "cell_type": "code",
   "execution_count": 42,
   "metadata": {
    "collapsed": false
   },
   "outputs": [],
   "source": [
    "preds[[\"id\", \"prediction\"]].to_csv(\"iso_reg/testsubmission.csv\", index=False)"
   ]
  },
  {
   "cell_type": "markdown",
   "metadata": {},
   "source": [
    "result on public_lb: 1105.41214"
   ]
  },
  {
   "cell_type": "code",
   "execution_count": null,
   "metadata": {
    "collapsed": true
   },
   "outputs": [],
   "source": []
  },
  {
   "cell_type": "code",
   "execution_count": 19,
   "metadata": {
    "collapsed": false
   },
   "outputs": [
    {
     "data": {
      "text/html": [
       "<div>\n",
       "<table border=\"1\" class=\"dataframe\">\n",
       "  <thead>\n",
       "    <tr style=\"text-align: right;\">\n",
       "      <th></th>\n",
       "      <th>id</th>\n",
       "      <th>loss_xgb</th>\n",
       "      <th>loss_nn</th>\n",
       "    </tr>\n",
       "  </thead>\n",
       "  <tbody>\n",
       "    <tr>\n",
       "      <th>0</th>\n",
       "      <td>4</td>\n",
       "      <td>1512.877930</td>\n",
       "      <td>1571.079736</td>\n",
       "    </tr>\n",
       "    <tr>\n",
       "      <th>1</th>\n",
       "      <td>6</td>\n",
       "      <td>1948.610962</td>\n",
       "      <td>1802.400940</td>\n",
       "    </tr>\n",
       "    <tr>\n",
       "      <th>2</th>\n",
       "      <td>9</td>\n",
       "      <td>10234.997070</td>\n",
       "      <td>8795.713916</td>\n",
       "    </tr>\n",
       "    <tr>\n",
       "      <th>3</th>\n",
       "      <td>12</td>\n",
       "      <td>6416.453125</td>\n",
       "      <td>7165.508398</td>\n",
       "    </tr>\n",
       "    <tr>\n",
       "      <th>4</th>\n",
       "      <td>15</td>\n",
       "      <td>792.276978</td>\n",
       "      <td>779.901031</td>\n",
       "    </tr>\n",
       "  </tbody>\n",
       "</table>\n",
       "</div>"
      ],
      "text/plain": [
       "   id      loss_xgb      loss_nn\n",
       "0   4   1512.877930  1571.079736\n",
       "1   6   1948.610962  1802.400940\n",
       "2   9  10234.997070  8795.713916\n",
       "3  12   6416.453125  7165.508398\n",
       "4  15    792.276978   779.901031"
      ]
     },
     "execution_count": 19,
     "metadata": {},
     "output_type": "execute_result"
    }
   ],
   "source": [
    "preds.head()"
   ]
  },
  {
   "cell_type": "code",
   "execution_count": 20,
   "metadata": {
    "collapsed": true
   },
   "outputs": [],
   "source": [
    "preds[\"y_pred_subm\"] = w*preds.loss_xgb + (1-w)*preds.loss_nn"
   ]
  },
  {
   "cell_type": "code",
   "execution_count": 21,
   "metadata": {
    "collapsed": false
   },
   "outputs": [
    {
     "data": {
      "text/html": [
       "<div>\n",
       "<table border=\"1\" class=\"dataframe\">\n",
       "  <thead>\n",
       "    <tr style=\"text-align: right;\">\n",
       "      <th></th>\n",
       "      <th>id</th>\n",
       "      <th>loss_xgb</th>\n",
       "      <th>loss_nn</th>\n",
       "      <th>y_pred_subm</th>\n",
       "    </tr>\n",
       "  </thead>\n",
       "  <tbody>\n",
       "    <tr>\n",
       "      <th>0</th>\n",
       "      <td>4</td>\n",
       "      <td>1512.877930</td>\n",
       "      <td>1571.079736</td>\n",
       "      <td>1537.904707</td>\n",
       "    </tr>\n",
       "    <tr>\n",
       "      <th>1</th>\n",
       "      <td>6</td>\n",
       "      <td>1948.610962</td>\n",
       "      <td>1802.400940</td>\n",
       "      <td>1885.740652</td>\n",
       "    </tr>\n",
       "    <tr>\n",
       "      <th>2</th>\n",
       "      <td>9</td>\n",
       "      <td>10234.997070</td>\n",
       "      <td>8795.713916</td>\n",
       "      <td>9616.105314</td>\n",
       "    </tr>\n",
       "    <tr>\n",
       "      <th>3</th>\n",
       "      <td>12</td>\n",
       "      <td>6416.453125</td>\n",
       "      <td>7165.508398</td>\n",
       "      <td>6738.546893</td>\n",
       "    </tr>\n",
       "    <tr>\n",
       "      <th>4</th>\n",
       "      <td>15</td>\n",
       "      <td>792.276978</td>\n",
       "      <td>779.901031</td>\n",
       "      <td>786.955321</td>\n",
       "    </tr>\n",
       "  </tbody>\n",
       "</table>\n",
       "</div>"
      ],
      "text/plain": [
       "   id      loss_xgb      loss_nn  y_pred_subm\n",
       "0   4   1512.877930  1571.079736  1537.904707\n",
       "1   6   1948.610962  1802.400940  1885.740652\n",
       "2   9  10234.997070  8795.713916  9616.105314\n",
       "3  12   6416.453125  7165.508398  6738.546893\n",
       "4  15    792.276978   779.901031   786.955321"
      ]
     },
     "execution_count": 21,
     "metadata": {},
     "output_type": "execute_result"
    }
   ],
   "source": [
    "preds.head()"
   ]
  },
  {
   "cell_type": "code",
   "execution_count": 104,
   "metadata": {
    "collapsed": true
   },
   "outputs": [],
   "source": [
    "res = preds[[\"id\", \"y_pred_subm\"]]\n",
    "res.columns = [\"id\", \"loss\"]\n",
    "res.to_csv(\"../submissions/submission_weighted_057xgb_043nn.csv\", index=False)\n"
   ]
  },
  {
   "cell_type": "code",
   "execution_count": null,
   "metadata": {
    "collapsed": true
   },
   "outputs": [],
   "source": []
  },
  {
   "cell_type": "markdown",
   "metadata": {},
   "source": [
    "linreg on 2 level"
   ]
  },
  {
   "cell_type": "code",
   "execution_count": 126,
   "metadata": {
    "collapsed": false
   },
   "outputs": [],
   "source": [
    "from sklearn.linear_model import LinearRegression, Ridge\n",
    "linreg = LinearRegression(fit_intercept=False, n_jobs=-1)\n",
    "ridge = Ridge(alpha=2.0, fit_intercept=False)"
   ]
  },
  {
   "cell_type": "code",
   "execution_count": 157,
   "metadata": {
    "collapsed": false
   },
   "outputs": [
    {
     "name": "stdout",
     "output_type": "stream",
     "text": [
      " 0 1139.69608083\n",
      "100000 1139.69604882\n",
      "200000 1139.69601681\n",
      "300000 1139.6959848\n",
      "400000 1139.69595279\n",
      "500000 1139.69592078\n",
      "600000 1139.69588877\n",
      "700000 1139.69585677\n",
      "800000 1139.69582476\n",
      "900000 1139.69579275\n",
      "1000000 1139.69576074\n"
     ]
    }
   ],
   "source": [
    "for reg in range(0,1100000,100000):\n",
    "    ridge = Ridge(alpha=reg, fit_intercept=False)\n",
    "    print reg, -cross_val_score(ridge, X_train, y_train, scoring=\"neg_mean_absolute_error\", cv=10).mean()"
   ]
  },
  {
   "cell_type": "code",
   "execution_count": 125,
   "metadata": {
    "collapsed": false
   },
   "outputs": [
    {
     "data": {
      "text/plain": [
       "-1139.6928025250486"
      ]
     },
     "execution_count": 125,
     "metadata": {},
     "output_type": "execute_result"
    }
   ],
   "source": [
    "cross_val_score(linreg, X_train, y_train, scoring=\"neg_mean_absolute_error\", cv=5, n_jobs=-1).mean()"
   ]
  },
  {
   "cell_type": "code",
   "execution_count": 163,
   "metadata": {
    "collapsed": true
   },
   "outputs": [],
   "source": [
    "ridge = Ridge(alpha=1000000, fit_intercept=False)\n",
    "\n",
    "ridge.fit(X_train, y_train)\n",
    "y_ridge = ridge.predict(X_hold)"
   ]
  },
  {
   "cell_type": "code",
   "execution_count": 164,
   "metadata": {
    "collapsed": false
   },
   "outputs": [
    {
     "data": {
      "text/plain": [
       "1127.1169173484448"
      ]
     },
     "execution_count": 164,
     "metadata": {},
     "output_type": "execute_result"
    }
   ],
   "source": [
    "mae(y_hold, y_ridge)"
   ]
  },
  {
   "cell_type": "code",
   "execution_count": 165,
   "metadata": {
    "collapsed": false
   },
   "outputs": [
    {
     "data": {
      "text/plain": [
       "array([ 0.74647971,  0.3475607 ])"
      ]
     },
     "execution_count": 165,
     "metadata": {},
     "output_type": "execute_result"
    }
   ],
   "source": [
    "ridge.coef_"
   ]
  },
  {
   "cell_type": "markdown",
   "metadata": {},
   "source": [
    "xgb 2 level"
   ]
  },
  {
   "cell_type": "code",
   "execution_count": 168,
   "metadata": {
    "collapsed": true
   },
   "outputs": [],
   "source": [
    "import xgboost as xgb"
   ]
  },
  {
   "cell_type": "code",
   "execution_count": 183,
   "metadata": {
    "collapsed": true
   },
   "outputs": [],
   "source": [
    "def xg_eval_mae(yhat, dtrain):\n",
    "    y = dtrain.get_label()\n",
    "    return 'mae', mae(np.exp(y)-200, np.exp(yhat)-200)"
   ]
  },
  {
   "cell_type": "code",
   "execution_count": 184,
   "metadata": {
    "collapsed": false
   },
   "outputs": [],
   "source": [
    "model = xgb.XGBRegressor(max_depth = 2, learning_rate = 0.1, n_estimators = 100, \n",
    "                         colsample_bytree=100, colsample_bylevel=100)"
   ]
  },
  {
   "cell_type": "code",
   "execution_count": 271,
   "metadata": {
    "collapsed": true
   },
   "outputs": [],
   "source": [
    "space ={\n",
    "        'max_depth': 2,\n",
    "        'gamma' : 0,\n",
    "        'colsample_bytree': 1,\n",
    "        'colsample_bylevel': 1,\n",
    "        #'silent': 1,\n",
    "        'subsample': 1,\n",
    "        'learning_rate': 0.01,\n",
    "        'objective': 'reg:linear',\n",
    "        'min_child_weight': 500,\n",
    "        'booster': 'gbtree',\n",
    "        'nthreads': 24,\n",
    "        'seed': 42\n",
    "        }"
   ]
  },
  {
   "cell_type": "code",
   "execution_count": 286,
   "metadata": {
    "collapsed": true
   },
   "outputs": [],
   "source": [
    "d_train = xgb.DMatrix(X, label=y)"
   ]
  },
  {
   "cell_type": "code",
   "execution_count": 287,
   "metadata": {
    "collapsed": true
   },
   "outputs": [
    {
     "name": "stdout",
     "output_type": "stream",
     "text": [
      "[0]\ttrain-mae:3006.48+4.86129\ttest-mae:3006.48+19.5306\n",
      "[1]\ttrain-mae:2976.43+4.81309\ttest-mae:2976.42+19.4162\n",
      "[2]\ttrain-mae:2946.67+4.76522\ttest-mae:2946.66+19.2955\n",
      "[3]\ttrain-mae:2917.23+4.71704\ttest-mae:2917.21+19.1766\n",
      "[4]\ttrain-mae:2888.08+4.67127\ttest-mae:2888.07+19.074\n",
      "[5]\ttrain-mae:2859.24+4.62668\ttest-mae:2859.23+18.9608\n",
      "[6]\ttrain-mae:2830.71+4.58336\ttest-mae:2830.69+18.8699\n",
      "[7]\ttrain-mae:2802.48+4.54171\ttest-mae:2802.46+18.7778\n",
      "[8]\ttrain-mae:2774.55+4.49856\ttest-mae:2774.54+18.6893\n",
      "[9]\ttrain-mae:2746.94+4.45842\ttest-mae:2746.91+18.5961\n",
      "[10]\ttrain-mae:2719.64+4.4181\ttest-mae:2719.61+18.5096\n",
      "[11]\ttrain-mae:2692.65+4.37826\ttest-mae:2692.61+18.431\n",
      "[12]\ttrain-mae:2665.94+4.33799\ttest-mae:2665.92+18.3565\n",
      "[13]\ttrain-mae:2639.53+4.3016\ttest-mae:2639.51+18.2844\n",
      "[14]\ttrain-mae:2613.41+4.2602\ttest-mae:2613.4+18.1969\n",
      "[15]\ttrain-mae:2587.58+4.22199\ttest-mae:2587.57+18.1227\n",
      "[16]\ttrain-mae:2562.04+4.18525\ttest-mae:2562.03+18.0409\n",
      "[17]\ttrain-mae:2536.79+4.1469\ttest-mae:2536.78+17.9665\n",
      "[18]\ttrain-mae:2511.83+4.11149\ttest-mae:2511.83+17.8829\n",
      "[19]\ttrain-mae:2487.17+4.07795\ttest-mae:2487.17+17.7959\n",
      "[20]\ttrain-mae:2462.79+4.03802\ttest-mae:2462.8+17.7123\n",
      "[21]\ttrain-mae:2438.69+4.00656\ttest-mae:2438.7+17.6298\n",
      "[22]\ttrain-mae:2414.91+3.96611\ttest-mae:2414.92+17.5616\n",
      "[23]\ttrain-mae:2391.41+3.93258\ttest-mae:2391.43+17.4748\n",
      "[24]\ttrain-mae:2368.2+3.88767\ttest-mae:2368.22+17.3758\n",
      "[25]\ttrain-mae:2345.28+3.85702\ttest-mae:2345.31+17.2801\n",
      "[26]\ttrain-mae:2322.68+3.81677\ttest-mae:2322.72+17.1924\n",
      "[27]\ttrain-mae:2300.34+3.77699\ttest-mae:2300.38+17.1072\n",
      "[28]\ttrain-mae:2278.34+3.7415\ttest-mae:2278.37+16.986\n",
      "[29]\ttrain-mae:2256.58+3.71107\ttest-mae:2256.61+16.9133\n",
      "[30]\ttrain-mae:2235.16+3.6782\ttest-mae:2235.2+16.8314\n",
      "[31]\ttrain-mae:2213.99+3.63202\ttest-mae:2214.04+16.7338\n",
      "[32]\ttrain-mae:2193.12+3.61364\ttest-mae:2193.17+16.646\n",
      "[33]\ttrain-mae:2172.52+3.57084\ttest-mae:2172.56+16.5844\n",
      "[34]\ttrain-mae:2152.24+3.5506\ttest-mae:2152.3+16.4813\n",
      "[35]\ttrain-mae:2132.21+3.546\ttest-mae:2132.27+16.4081\n",
      "[36]\ttrain-mae:2112.48+3.5139\ttest-mae:2112.56+16.3571\n",
      "[37]\ttrain-mae:2093.1+3.49272\ttest-mae:2093.18+16.2413\n",
      "[38]\ttrain-mae:2073.94+3.46153\ttest-mae:2074.01+16.1865\n",
      "[39]\ttrain-mae:2055.12+3.45501\ttest-mae:2055.22+16.0758\n",
      "[40]\ttrain-mae:2036.57+3.39613\ttest-mae:2036.66+16.0174\n",
      "[41]\ttrain-mae:2018.34+3.38144\ttest-mae:2018.46+15.9059\n",
      "[42]\ttrain-mae:2000.4+3.34771\ttest-mae:2000.51+15.8276\n",
      "[43]\ttrain-mae:1982.72+3.34756\ttest-mae:1982.85+15.7189\n",
      "[44]\ttrain-mae:1965.38+3.26649\ttest-mae:1965.52+15.6881\n",
      "[45]\ttrain-mae:1948.26+3.29634\ttest-mae:1948.39+15.5756\n",
      "[46]\ttrain-mae:1931.51+3.21743\ttest-mae:1931.64+15.5538\n",
      "[47]\ttrain-mae:1914.96+3.24746\ttest-mae:1915.1+15.4647\n",
      "[48]\ttrain-mae:1898.75+3.21108\ttest-mae:1898.89+15.4191\n",
      "[49]\ttrain-mae:1882.77+3.23479\ttest-mae:1882.93+15.3383\n",
      "[50]\ttrain-mae:1867.17+3.22049\ttest-mae:1867.35+15.2651\n",
      "[51]\ttrain-mae:1851.69+3.16456\ttest-mae:1851.88+15.292\n",
      "[52]\ttrain-mae:1836.59+3.19743\ttest-mae:1836.78+15.1881\n",
      "[53]\ttrain-mae:1821.78+3.23481\ttest-mae:1822.01+15.0905\n",
      "[54]\ttrain-mae:1807.08+3.17937\ttest-mae:1807.29+15.1007\n",
      "[55]\ttrain-mae:1792.72+3.23762\ttest-mae:1792.97+14.979\n",
      "[56]\ttrain-mae:1778.6+3.15098\ttest-mae:1778.84+15.0075\n",
      "[57]\ttrain-mae:1764.9+3.14126\ttest-mae:1765.16+14.9234\n",
      "[58]\ttrain-mae:1751.18+3.14467\ttest-mae:1751.45+14.8705\n",
      "[59]\ttrain-mae:1737.92+3.1774\ttest-mae:1738.19+14.7895\n",
      "[60]\ttrain-mae:1724.86+3.10681\ttest-mae:1725.15+14.796\n",
      "[61]\ttrain-mae:1712.01+3.09554\ttest-mae:1712.3+14.725\n",
      "[62]\ttrain-mae:1699.38+3.12887\ttest-mae:1699.69+14.6439\n",
      "[63]\ttrain-mae:1687.01+3.14146\ttest-mae:1687.33+14.5542\n",
      "[64]\ttrain-mae:1674.82+3.11661\ttest-mae:1675.16+14.5118\n",
      "[65]\ttrain-mae:1662.93+3.10412\ttest-mae:1663.26+14.4609\n",
      "[66]\ttrain-mae:1651.32+2.98314\ttest-mae:1651.64+14.4865\n",
      "[67]\ttrain-mae:1639.75+3.16175\ttest-mae:1640.1+14.232\n",
      "[68]\ttrain-mae:1628.54+3.13626\ttest-mae:1628.89+14.1749\n",
      "[69]\ttrain-mae:1617.51+3.16077\ttest-mae:1617.87+14.11\n",
      "[70]\ttrain-mae:1606.74+3.04839\ttest-mae:1607.12+14.1491\n",
      "[71]\ttrain-mae:1596.11+3.13726\ttest-mae:1596.5+13.9718\n",
      "[72]\ttrain-mae:1585.65+3.02129\ttest-mae:1586.05+14.0101\n",
      "[73]\ttrain-mae:1575.54+3.07505\ttest-mae:1575.96+13.8772\n",
      "[74]\ttrain-mae:1565.39+2.97187\ttest-mae:1565.81+13.8944\n",
      "[75]\ttrain-mae:1555.7+3.00497\ttest-mae:1556.13+13.7775\n",
      "[76]\ttrain-mae:1546.15+3.00039\ttest-mae:1546.59+13.7078\n",
      "[77]\ttrain-mae:1536.66+3.03811\ttest-mae:1537.12+13.5695\n",
      "[78]\ttrain-mae:1527.51+2.87271\ttest-mae:1528+13.6503\n",
      "[79]\ttrain-mae:1518.45+2.98394\ttest-mae:1518.95+13.4754\n",
      "[80]\ttrain-mae:1509.62+2.90771\ttest-mae:1510.14+13.4548\n",
      "[81]\ttrain-mae:1500.99+2.83937\ttest-mae:1501.5+13.4455\n",
      "[82]\ttrain-mae:1492.47+2.99531\ttest-mae:1493.01+13.1995\n",
      "[83]\ttrain-mae:1484.22+2.86586\ttest-mae:1484.8+13.2248\n",
      "[84]\ttrain-mae:1476.01+2.91152\ttest-mae:1476.62+13.0822\n",
      "[85]\ttrain-mae:1467.97+2.93788\ttest-mae:1468.59+12.9704\n",
      "[86]\ttrain-mae:1460.17+2.87747\ttest-mae:1460.8+12.9645\n",
      "[87]\ttrain-mae:1452.58+2.94834\ttest-mae:1453.23+12.7881\n",
      "[88]\ttrain-mae:1445.02+2.9303\ttest-mae:1445.68+12.7224\n",
      "[89]\ttrain-mae:1437.69+3.04927\ttest-mae:1438.39+12.5283\n",
      "[90]\ttrain-mae:1430.46+2.88532\ttest-mae:1431.17+12.629\n",
      "[91]\ttrain-mae:1423.4+2.92646\ttest-mae:1424.12+12.4933\n",
      "[92]\ttrain-mae:1416.52+2.83684\ttest-mae:1417.25+12.5133\n",
      "[93]\ttrain-mae:1409.78+2.8413\ttest-mae:1410.52+12.4109\n",
      "[94]\ttrain-mae:1403.19+2.88166\ttest-mae:1403.96+12.301\n",
      "[95]\ttrain-mae:1396.77+2.8\ttest-mae:1397.53+12.2815\n",
      "[96]\ttrain-mae:1390.45+2.73727\ttest-mae:1391.24+12.243\n",
      "[97]\ttrain-mae:1384.28+2.81942\ttest-mae:1385.1+12.0657\n",
      "[98]\ttrain-mae:1378.19+2.83177\ttest-mae:1379.02+11.9689\n",
      "[99]\ttrain-mae:1372.35+2.69919\ttest-mae:1373.2+12.0244\n",
      "[100]\ttrain-mae:1366.55+2.61509\ttest-mae:1367.4+12.0266\n",
      "[101]\ttrain-mae:1360.9+2.68041\ttest-mae:1361.77+11.8901\n",
      "[102]\ttrain-mae:1355.45+2.55633\ttest-mae:1356.33+11.9397\n",
      "[103]\ttrain-mae:1350+2.47418\ttest-mae:1350.87+11.9413\n",
      "[104]\ttrain-mae:1344.78+2.5452\ttest-mae:1345.67+11.7915\n",
      "[105]\ttrain-mae:1339.58+2.58102\ttest-mae:1340.47+11.6728\n",
      "[106]\ttrain-mae:1334.64+2.5704\ttest-mae:1335.54+11.6175\n",
      "[107]\ttrain-mae:1329.7+2.54199\ttest-mae:1330.62+11.5902\n",
      "[108]\ttrain-mae:1324.82+2.60039\ttest-mae:1325.77+11.4633\n",
      "[109]\ttrain-mae:1320.22+2.65686\ttest-mae:1321.17+11.3359\n",
      "[110]\ttrain-mae:1315.62+2.72064\ttest-mae:1316.6+11.1991\n",
      "[111]\ttrain-mae:1311.1+2.59131\ttest-mae:1312.09+11.2757\n",
      "[112]\ttrain-mae:1306.79+2.58592\ttest-mae:1307.79+11.226\n",
      "[113]\ttrain-mae:1302.42+2.57273\ttest-mae:1303.44+11.1715\n",
      "[114]\ttrain-mae:1298.28+2.56043\ttest-mae:1299.3+11.1155\n",
      "[115]\ttrain-mae:1294.08+2.62152\ttest-mae:1295.13+10.9811\n",
      "[116]\ttrain-mae:1290.11+2.63382\ttest-mae:1291.17+10.8991\n",
      "[117]\ttrain-mae:1286.17+2.48644\ttest-mae:1287.22+10.9908\n",
      "[118]\ttrain-mae:1282.38+2.54302\ttest-mae:1283.45+10.859\n",
      "[119]\ttrain-mae:1278.43+2.5703\ttest-mae:1279.54+10.7625\n",
      "[120]\ttrain-mae:1274.77+2.43977\ttest-mae:1275.89+10.8276\n",
      "[121]\ttrain-mae:1271.22+2.49329\ttest-mae:1272.35+10.6933\n",
      "[122]\ttrain-mae:1267.65+2.52729\ttest-mae:1268.81+10.59\n",
      "[123]\ttrain-mae:1264.25+2.43194\ttest-mae:1265.43+10.6082\n",
      "[124]\ttrain-mae:1260.84+2.52355\ttest-mae:1262.04+10.4502\n",
      "[125]\ttrain-mae:1257.59+2.43733\ttest-mae:1258.8+10.4858\n",
      "[126]\ttrain-mae:1254.31+2.44054\ttest-mae:1255.54+10.4029\n",
      "[127]\ttrain-mae:1251.27+2.3888\ttest-mae:1252.52+10.3837\n",
      "[128]\ttrain-mae:1248.09+2.29967\ttest-mae:1249.35+10.4265\n",
      "[129]\ttrain-mae:1245.02+2.38295\ttest-mae:1246.29+10.2851\n",
      "[130]\ttrain-mae:1242.04+2.29673\ttest-mae:1243.32+10.2956\n",
      "[131]\ttrain-mae:1239.16+2.26132\ttest-mae:1240.45+10.2727\n",
      "[132]\ttrain-mae:1236.33+2.23682\ttest-mae:1237.62+10.2197\n",
      "[133]\ttrain-mae:1233.63+2.20019\ttest-mae:1234.94+10.1935\n",
      "[134]\ttrain-mae:1231+2.18334\ttest-mae:1232.32+10.1486\n",
      "[135]\ttrain-mae:1228.21+2.1694\ttest-mae:1229.55+10.1029\n",
      "[136]\ttrain-mae:1225.76+2.14541\ttest-mae:1227.11+10.0643\n",
      "[137]\ttrain-mae:1223.21+2.13674\ttest-mae:1224.58+10.0102\n",
      "[138]\ttrain-mae:1220.82+2.09544\ttest-mae:1222.19+9.98863\n",
      "[139]\ttrain-mae:1218.37+2.12494\ttest-mae:1219.76+9.88989\n",
      "[140]\ttrain-mae:1216.11+2.04432\ttest-mae:1217.52+9.90627\n",
      "[141]\ttrain-mae:1213.79+2.06464\ttest-mae:1215.22+9.83416\n",
      "[142]\ttrain-mae:1211.63+2.14306\ttest-mae:1213.07+9.70133\n",
      "[143]\ttrain-mae:1209.49+2.09282\ttest-mae:1210.95+9.70264\n",
      "[144]\ttrain-mae:1207.32+2.1197\ttest-mae:1208.8+9.6279\n",
      "[145]\ttrain-mae:1205.3+2.02744\ttest-mae:1206.78+9.66313\n",
      "[146]\ttrain-mae:1203.29+2.12335\ttest-mae:1204.79+9.51278\n",
      "[147]\ttrain-mae:1201.41+2.11753\ttest-mae:1202.92+9.47621\n",
      "[148]\ttrain-mae:1199.41+2.16859\ttest-mae:1200.94+9.38345\n",
      "[149]\ttrain-mae:1197.63+2.06091\ttest-mae:1199.16+9.43533\n",
      "[150]\ttrain-mae:1195.83+2.08908\ttest-mae:1197.38+9.35465\n",
      "[151]\ttrain-mae:1194.06+2.11799\ttest-mae:1195.62+9.30504\n",
      "[152]\ttrain-mae:1192.29+2.10595\ttest-mae:1193.85+9.27808\n",
      "[153]\ttrain-mae:1190.66+2.1277\ttest-mae:1192.24+9.21566\n",
      "[154]\ttrain-mae:1188.93+2.09892\ttest-mae:1190.52+9.21598\n",
      "[155]\ttrain-mae:1187.33+2.16589\ttest-mae:1188.93+9.1139\n",
      "[156]\ttrain-mae:1185.73+2.12709\ttest-mae:1187.34+9.11765\n",
      "[157]\ttrain-mae:1184.17+2.13584\ttest-mae:1185.8+9.07114\n",
      "[158]\ttrain-mae:1182.75+2.17952\ttest-mae:1184.39+9.00275\n",
      "[159]\ttrain-mae:1181.24+2.13447\ttest-mae:1182.9+9.01999\n",
      "[160]\ttrain-mae:1179.86+2.1638\ttest-mae:1181.52+8.94573\n",
      "[161]\ttrain-mae:1178.41+2.14133\ttest-mae:1180.1+8.93676\n",
      "[162]\ttrain-mae:1177.14+2.1782\ttest-mae:1178.83+8.86195\n",
      "[163]\ttrain-mae:1175.82+2.14096\ttest-mae:1177.52+8.87493\n",
      "[164]\ttrain-mae:1174.56+2.17228\ttest-mae:1176.27+8.80863\n",
      "[165]\ttrain-mae:1173.3+2.09083\ttest-mae:1175.02+8.86722\n",
      "[166]\ttrain-mae:1172.05+2.09149\ttest-mae:1173.79+8.83022\n",
      "[167]\ttrain-mae:1170.85+2.11365\ttest-mae:1172.6+8.78599\n",
      "[168]\ttrain-mae:1169.71+2.12774\ttest-mae:1171.47+8.74355\n",
      "[169]\ttrain-mae:1168.59+2.13816\ttest-mae:1170.36+8.72274\n",
      "[170]\ttrain-mae:1167.47+2.1217\ttest-mae:1169.25+8.70806\n",
      "[171]\ttrain-mae:1166.43+2.09608\ttest-mae:1168.22+8.71944\n",
      "[172]\ttrain-mae:1165.35+2.12573\ttest-mae:1167.15+8.65647\n",
      "[173]\ttrain-mae:1164.38+2.12308\ttest-mae:1166.18+8.64311\n",
      "[174]\ttrain-mae:1163.38+2.10313\ttest-mae:1165.19+8.6446\n",
      "[175]\ttrain-mae:1162.49+2.1123\ttest-mae:1164.3+8.60081\n",
      "[176]\ttrain-mae:1161.57+2.11361\ttest-mae:1163.4+8.58122\n",
      "[177]\ttrain-mae:1160.72+2.07611\ttest-mae:1162.55+8.58514\n",
      "[178]\ttrain-mae:1159.87+2.0876\ttest-mae:1161.71+8.5555\n",
      "[179]\ttrain-mae:1158.97+2.05155\ttest-mae:1160.82+8.56614\n",
      "[180]\ttrain-mae:1158.23+2.07735\ttest-mae:1160.07+8.52178\n",
      "[181]\ttrain-mae:1157.46+2.04839\ttest-mae:1159.32+8.53491\n",
      "[182]\ttrain-mae:1156.64+2.07745\ttest-mae:1158.5+8.48268\n",
      "[183]\ttrain-mae:1155.9+2.1009\ttest-mae:1157.76+8.45633\n",
      "[184]\ttrain-mae:1155.17+2.03979\ttest-mae:1157.03+8.49808\n",
      "[185]\ttrain-mae:1154.45+2.10663\ttest-mae:1156.31+8.39808\n",
      "[186]\ttrain-mae:1153.76+2.07905\ttest-mae:1155.63+8.40124\n",
      "[187]\ttrain-mae:1153.08+2.10155\ttest-mae:1154.95+8.38171\n",
      "[188]\ttrain-mae:1152.4+2.10305\ttest-mae:1154.27+8.35024\n",
      "[189]\ttrain-mae:1151.77+2.08849\ttest-mae:1153.66+8.34559\n",
      "[190]\ttrain-mae:1151.18+2.05841\ttest-mae:1153.07+8.34723\n",
      "[191]\ttrain-mae:1150.58+2.04083\ttest-mae:1152.47+8.36616\n",
      "[192]\ttrain-mae:1150.08+2.01588\ttest-mae:1151.98+8.37863\n",
      "[193]\ttrain-mae:1149.52+1.9728\ttest-mae:1151.42+8.4005\n",
      "[194]\ttrain-mae:1148.94+1.99209\ttest-mae:1150.85+8.35789\n",
      "[195]\ttrain-mae:1148.44+1.98295\ttest-mae:1150.35+8.35838\n",
      "[196]\ttrain-mae:1147.92+1.98101\ttest-mae:1149.83+8.32847\n",
      "[197]\ttrain-mae:1147.43+1.96725\ttest-mae:1149.35+8.33098\n",
      "[198]\ttrain-mae:1146.94+1.96977\ttest-mae:1148.87+8.30415\n",
      "[199]\ttrain-mae:1146.49+1.94429\ttest-mae:1148.43+8.32081\n",
      "[200]\ttrain-mae:1146.05+1.94586\ttest-mae:1148+8.30107\n",
      "[201]\ttrain-mae:1145.65+1.9163\ttest-mae:1147.61+8.32145\n",
      "[202]\ttrain-mae:1145.21+1.92206\ttest-mae:1147.17+8.29323\n",
      "[203]\ttrain-mae:1144.85+1.93743\ttest-mae:1146.82+8.24771\n",
      "[204]\ttrain-mae:1144.42+1.94267\ttest-mae:1146.4+8.21855\n",
      "[205]\ttrain-mae:1144.12+1.96247\ttest-mae:1146.1+8.18248\n",
      "[206]\ttrain-mae:1143.73+1.95934\ttest-mae:1145.72+8.16287\n",
      "[207]\ttrain-mae:1143.39+1.9418\ttest-mae:1145.39+8.16359\n",
      "[208]\ttrain-mae:1143.03+1.98409\ttest-mae:1145.04+8.1014\n",
      "[209]\ttrain-mae:1142.72+2.01681\ttest-mae:1144.73+8.04697\n",
      "[210]\ttrain-mae:1142.42+1.99253\ttest-mae:1144.44+8.04889\n",
      "[211]\ttrain-mae:1142.13+1.99512\ttest-mae:1144.15+8.02976\n",
      "[212]\ttrain-mae:1141.8+2.01962\ttest-mae:1143.83+7.98293\n",
      "[213]\ttrain-mae:1141.56+1.98425\ttest-mae:1143.59+8.00225\n",
      "[214]\ttrain-mae:1141.28+1.99549\ttest-mae:1143.33+7.97708\n",
      "[215]\ttrain-mae:1141.04+2.01418\ttest-mae:1143.09+7.93368\n",
      "[216]\ttrain-mae:1140.78+2.01089\ttest-mae:1142.85+7.91595\n",
      "[217]\ttrain-mae:1140.51+2.01857\ttest-mae:1142.58+7.89413\n",
      "[218]\ttrain-mae:1140.3+2.01061\ttest-mae:1142.39+7.89405\n",
      "[219]\ttrain-mae:1140.07+2.01161\ttest-mae:1142.16+7.86727\n",
      "[220]\ttrain-mae:1139.87+2.0492\ttest-mae:1141.96+7.81807\n",
      "[221]\ttrain-mae:1139.63+2.04515\ttest-mae:1141.74+7.80489\n",
      "[222]\ttrain-mae:1139.46+2.04684\ttest-mae:1141.58+7.79496\n",
      "[223]\ttrain-mae:1139.25+2.02008\ttest-mae:1141.37+7.80289\n",
      "[224]\ttrain-mae:1139.08+2.06068\ttest-mae:1141.21+7.75355\n",
      "[225]\ttrain-mae:1138.91+2.04478\ttest-mae:1141.04+7.75315\n",
      "[226]\ttrain-mae:1138.76+2.06985\ttest-mae:1140.89+7.71305\n",
      "[227]\ttrain-mae:1138.6+2.03079\ttest-mae:1140.74+7.74223\n",
      "[228]\ttrain-mae:1138.45+2.09128\ttest-mae:1140.59+7.67022\n",
      "[229]\ttrain-mae:1138.31+2.06716\ttest-mae:1140.46+7.68021\n",
      "[230]\ttrain-mae:1138.17+2.0941\ttest-mae:1140.31+7.6362\n",
      "[231]\ttrain-mae:1138.03+2.06425\ttest-mae:1140.18+7.65708\n",
      "[232]\ttrain-mae:1137.92+2.06682\ttest-mae:1140.08+7.64539\n",
      "[233]\ttrain-mae:1137.81+2.08999\ttest-mae:1139.97+7.61119\n",
      "[234]\ttrain-mae:1137.68+2.06113\ttest-mae:1139.85+7.63296\n",
      "[235]\ttrain-mae:1137.59+2.06249\ttest-mae:1139.76+7.624\n",
      "[236]\ttrain-mae:1137.48+2.06711\ttest-mae:1139.65+7.60811\n",
      "[237]\ttrain-mae:1137.42+2.04251\ttest-mae:1139.59+7.63179\n",
      "[238]\ttrain-mae:1137.31+2.05683\ttest-mae:1139.49+7.60918\n",
      "[239]\ttrain-mae:1137.25+2.04855\ttest-mae:1139.44+7.61129\n",
      "[240]\ttrain-mae:1137.15+2.04966\ttest-mae:1139.34+7.60054\n",
      "[241]\ttrain-mae:1137.08+2.03095\ttest-mae:1139.28+7.61924\n",
      "[242]\ttrain-mae:1137.03+2.05332\ttest-mae:1139.23+7.59266\n",
      "[243]\ttrain-mae:1136.96+2.03664\ttest-mae:1139.16+7.60089\n",
      "[244]\ttrain-mae:1136.92+2.02866\ttest-mae:1139.13+7.60562\n",
      "[245]\ttrain-mae:1136.85+2.05066\ttest-mae:1139.07+7.57673\n",
      "[246]\ttrain-mae:1136.81+2.04432\ttest-mae:1139.03+7.57423\n",
      "[247]\ttrain-mae:1136.78+2.03565\ttest-mae:1139+7.5805\n",
      "[248]\ttrain-mae:1136.71+2.04239\ttest-mae:1138.94+7.56205\n",
      "[249]\ttrain-mae:1136.67+2.02644\ttest-mae:1138.9+7.57128\n",
      "[250]\ttrain-mae:1136.63+2.04377\ttest-mae:1138.88+7.55277\n",
      "[251]\ttrain-mae:1136.61+2.02389\ttest-mae:1138.86+7.56458\n",
      "[252]\ttrain-mae:1136.57+2.02668\ttest-mae:1138.82+7.55631\n",
      "[253]\ttrain-mae:1136.58+1.99978\ttest-mae:1138.83+7.57408\n",
      "[254]\ttrain-mae:1136.54+2.02477\ttest-mae:1138.8+7.54572\n",
      "[255]\ttrain-mae:1136.52+2.01954\ttest-mae:1138.79+7.54495\n",
      "[256]\ttrain-mae:1136.52+2.02681\ttest-mae:1138.79+7.53412\n",
      "[257]\ttrain-mae:1136.51+2.02491\ttest-mae:1138.78+7.52655\n",
      "[258]\ttrain-mae:1136.49+2.02406\ttest-mae:1138.77+7.52123\n",
      "[259]\ttrain-mae:1136.5+2.03845\ttest-mae:1138.79+7.49982\n",
      "[260]\ttrain-mae:1136.5+2.01738\ttest-mae:1138.78+7.51478\n",
      "[261]\ttrain-mae:1136.5+2.02992\ttest-mae:1138.79+7.49402\n",
      "[262]\ttrain-mae:1136.51+2.04193\ttest-mae:1138.8+7.479\n",
      "[263]\ttrain-mae:1136.52+2.03872\ttest-mae:1138.81+7.4707\n",
      "[264]\ttrain-mae:1136.52+2.04229\ttest-mae:1138.82+7.46127\n",
      "[265]\ttrain-mae:1136.54+2.04108\ttest-mae:1138.84+7.45335\n",
      "[266]\ttrain-mae:1136.56+2.03977\ttest-mae:1138.86+7.44946\n",
      "[267]\ttrain-mae:1136.59+2.05101\ttest-mae:1138.89+7.43467\n",
      "[268]\ttrain-mae:1136.6+2.059\ttest-mae:1138.91+7.41553\n",
      "[269]\ttrain-mae:1136.61+2.06818\ttest-mae:1138.92+7.40069\n",
      "[270]\ttrain-mae:1136.66+2.0482\ttest-mae:1138.97+7.41264\n",
      "[271]\ttrain-mae:1136.67+2.03848\ttest-mae:1138.98+7.41669\n",
      "[272]\ttrain-mae:1136.7+2.03319\ttest-mae:1139.02+7.41371\n",
      "[273]\ttrain-mae:1136.73+2.03809\ttest-mae:1139.05+7.4041\n",
      "[274]\ttrain-mae:1136.75+2.0429\ttest-mae:1139.08+7.39089\n",
      "[275]\ttrain-mae:1136.8+2.0376\ttest-mae:1139.13+7.39293\n",
      "[276]\ttrain-mae:1136.82+2.03387\ttest-mae:1139.16+7.38672\n",
      "[277]\ttrain-mae:1136.85+2.03909\ttest-mae:1139.19+7.37633\n",
      "[278]\ttrain-mae:1136.89+2.03837\ttest-mae:1139.24+7.37334\n",
      "[279]\ttrain-mae:1136.94+2.0605\ttest-mae:1139.29+7.34232\n",
      "[280]\ttrain-mae:1136.97+2.04712\ttest-mae:1139.32+7.34937\n",
      "[281]\ttrain-mae:1137.03+2.04848\ttest-mae:1139.37+7.34479\n",
      "[282]\ttrain-mae:1137.07+2.05391\ttest-mae:1139.42+7.32915\n",
      "[283]\ttrain-mae:1137.12+2.05186\ttest-mae:1139.47+7.3282\n",
      "[284]\ttrain-mae:1137.16+2.05446\ttest-mae:1139.52+7.3176\n",
      "[285]\ttrain-mae:1137.21+2.03245\ttest-mae:1139.57+7.33459\n",
      "[286]\ttrain-mae:1137.26+2.04671\ttest-mae:1139.62+7.31609\n",
      "[287]\ttrain-mae:1137.31+2.03825\ttest-mae:1139.67+7.32021\n",
      "[288]\ttrain-mae:1137.37+2.05627\ttest-mae:1139.73+7.30113\n",
      "[289]\ttrain-mae:1137.42+2.0475\ttest-mae:1139.78+7.30516\n",
      "[290]\ttrain-mae:1137.47+2.04105\ttest-mae:1139.83+7.30516\n",
      "[291]\ttrain-mae:1137.53+2.05383\ttest-mae:1139.89+7.28767\n",
      "[292]\ttrain-mae:1137.58+2.03826\ttest-mae:1139.95+7.29785\n",
      "[293]\ttrain-mae:1137.64+2.05469\ttest-mae:1140.01+7.27599\n",
      "[294]\ttrain-mae:1137.7+2.04463\ttest-mae:1140.07+7.28296\n",
      "[295]\ttrain-mae:1137.75+2.05513\ttest-mae:1140.13+7.26644\n",
      "[296]\ttrain-mae:1137.81+2.0425\ttest-mae:1140.18+7.2735\n",
      "[297]\ttrain-mae:1137.87+2.05247\ttest-mae:1140.25+7.25972\n",
      "[298]\ttrain-mae:1137.92+2.04592\ttest-mae:1140.3+7.26277\n",
      "[299]\ttrain-mae:1138+2.05491\ttest-mae:1140.38+7.24766\n"
     ]
    },
    {
     "data": {
      "text/html": [
       "<div>\n",
       "<table border=\"1\" class=\"dataframe\">\n",
       "  <thead>\n",
       "    <tr style=\"text-align: right;\">\n",
       "      <th></th>\n",
       "      <th>test-mae-mean</th>\n",
       "      <th>test-mae-std</th>\n",
       "      <th>train-mae-mean</th>\n",
       "      <th>train-mae-std</th>\n",
       "    </tr>\n",
       "  </thead>\n",
       "  <tbody>\n",
       "    <tr>\n",
       "      <th>0</th>\n",
       "      <td>3006.483887</td>\n",
       "      <td>19.530634</td>\n",
       "      <td>3006.483740</td>\n",
       "      <td>4.861285</td>\n",
       "    </tr>\n",
       "    <tr>\n",
       "      <th>1</th>\n",
       "      <td>2976.417773</td>\n",
       "      <td>19.416244</td>\n",
       "      <td>2976.425293</td>\n",
       "      <td>4.813088</td>\n",
       "    </tr>\n",
       "    <tr>\n",
       "      <th>2</th>\n",
       "      <td>2946.656006</td>\n",
       "      <td>19.295540</td>\n",
       "      <td>2946.673340</td>\n",
       "      <td>4.765223</td>\n",
       "    </tr>\n",
       "    <tr>\n",
       "      <th>3</th>\n",
       "      <td>2917.214502</td>\n",
       "      <td>19.176589</td>\n",
       "      <td>2917.226123</td>\n",
       "      <td>4.717039</td>\n",
       "    </tr>\n",
       "    <tr>\n",
       "      <th>4</th>\n",
       "      <td>2888.071289</td>\n",
       "      <td>19.074035</td>\n",
       "      <td>2888.082666</td>\n",
       "      <td>4.671272</td>\n",
       "    </tr>\n",
       "    <tr>\n",
       "      <th>5</th>\n",
       "      <td>2859.232324</td>\n",
       "      <td>18.960838</td>\n",
       "      <td>2859.244727</td>\n",
       "      <td>4.626685</td>\n",
       "    </tr>\n",
       "    <tr>\n",
       "      <th>6</th>\n",
       "      <td>2830.690576</td>\n",
       "      <td>18.869895</td>\n",
       "      <td>2830.708447</td>\n",
       "      <td>4.583358</td>\n",
       "    </tr>\n",
       "    <tr>\n",
       "      <th>7</th>\n",
       "      <td>2802.460254</td>\n",
       "      <td>18.777807</td>\n",
       "      <td>2802.479102</td>\n",
       "      <td>4.541708</td>\n",
       "    </tr>\n",
       "    <tr>\n",
       "      <th>8</th>\n",
       "      <td>2774.535351</td>\n",
       "      <td>18.689278</td>\n",
       "      <td>2774.553125</td>\n",
       "      <td>4.498556</td>\n",
       "    </tr>\n",
       "    <tr>\n",
       "      <th>9</th>\n",
       "      <td>2746.913330</td>\n",
       "      <td>18.596098</td>\n",
       "      <td>2746.939746</td>\n",
       "      <td>4.458423</td>\n",
       "    </tr>\n",
       "    <tr>\n",
       "      <th>10</th>\n",
       "      <td>2719.610791</td>\n",
       "      <td>18.509579</td>\n",
       "      <td>2719.644531</td>\n",
       "      <td>4.418102</td>\n",
       "    </tr>\n",
       "    <tr>\n",
       "      <th>11</th>\n",
       "      <td>2692.610596</td>\n",
       "      <td>18.431021</td>\n",
       "      <td>2692.645996</td>\n",
       "      <td>4.378265</td>\n",
       "    </tr>\n",
       "    <tr>\n",
       "      <th>12</th>\n",
       "      <td>2665.921338</td>\n",
       "      <td>18.356517</td>\n",
       "      <td>2665.943701</td>\n",
       "      <td>4.337990</td>\n",
       "    </tr>\n",
       "    <tr>\n",
       "      <th>13</th>\n",
       "      <td>2639.511475</td>\n",
       "      <td>18.284391</td>\n",
       "      <td>2639.533545</td>\n",
       "      <td>4.301597</td>\n",
       "    </tr>\n",
       "    <tr>\n",
       "      <th>14</th>\n",
       "      <td>2613.399072</td>\n",
       "      <td>18.196912</td>\n",
       "      <td>2613.412793</td>\n",
       "      <td>4.260197</td>\n",
       "    </tr>\n",
       "    <tr>\n",
       "      <th>15</th>\n",
       "      <td>2587.567383</td>\n",
       "      <td>18.122691</td>\n",
       "      <td>2587.581690</td>\n",
       "      <td>4.221989</td>\n",
       "    </tr>\n",
       "    <tr>\n",
       "      <th>16</th>\n",
       "      <td>2562.033155</td>\n",
       "      <td>18.040907</td>\n",
       "      <td>2562.041357</td>\n",
       "      <td>4.185250</td>\n",
       "    </tr>\n",
       "    <tr>\n",
       "      <th>17</th>\n",
       "      <td>2536.779395</td>\n",
       "      <td>17.966521</td>\n",
       "      <td>2536.787109</td>\n",
       "      <td>4.146904</td>\n",
       "    </tr>\n",
       "    <tr>\n",
       "      <th>18</th>\n",
       "      <td>2511.829737</td>\n",
       "      <td>17.882876</td>\n",
       "      <td>2511.833496</td>\n",
       "      <td>4.111486</td>\n",
       "    </tr>\n",
       "    <tr>\n",
       "      <th>19</th>\n",
       "      <td>2487.170215</td>\n",
       "      <td>17.795883</td>\n",
       "      <td>2487.166016</td>\n",
       "      <td>4.077948</td>\n",
       "    </tr>\n",
       "    <tr>\n",
       "      <th>20</th>\n",
       "      <td>2462.795459</td>\n",
       "      <td>17.712279</td>\n",
       "      <td>2462.785889</td>\n",
       "      <td>4.038019</td>\n",
       "    </tr>\n",
       "    <tr>\n",
       "      <th>21</th>\n",
       "      <td>2438.703125</td>\n",
       "      <td>17.629789</td>\n",
       "      <td>2438.693066</td>\n",
       "      <td>4.006555</td>\n",
       "    </tr>\n",
       "    <tr>\n",
       "      <th>22</th>\n",
       "      <td>2414.915186</td>\n",
       "      <td>17.561612</td>\n",
       "      <td>2414.906885</td>\n",
       "      <td>3.966106</td>\n",
       "    </tr>\n",
       "    <tr>\n",
       "      <th>23</th>\n",
       "      <td>2391.434326</td>\n",
       "      <td>17.474760</td>\n",
       "      <td>2391.409229</td>\n",
       "      <td>3.932577</td>\n",
       "    </tr>\n",
       "    <tr>\n",
       "      <th>24</th>\n",
       "      <td>2368.215381</td>\n",
       "      <td>17.375751</td>\n",
       "      <td>2368.197070</td>\n",
       "      <td>3.887667</td>\n",
       "    </tr>\n",
       "    <tr>\n",
       "      <th>25</th>\n",
       "      <td>2345.312402</td>\n",
       "      <td>17.280096</td>\n",
       "      <td>2345.284082</td>\n",
       "      <td>3.857015</td>\n",
       "    </tr>\n",
       "    <tr>\n",
       "      <th>26</th>\n",
       "      <td>2322.715723</td>\n",
       "      <td>17.192367</td>\n",
       "      <td>2322.681836</td>\n",
       "      <td>3.816770</td>\n",
       "    </tr>\n",
       "    <tr>\n",
       "      <th>27</th>\n",
       "      <td>2300.384766</td>\n",
       "      <td>17.107158</td>\n",
       "      <td>2300.343897</td>\n",
       "      <td>3.776988</td>\n",
       "    </tr>\n",
       "    <tr>\n",
       "      <th>28</th>\n",
       "      <td>2278.367969</td>\n",
       "      <td>16.985964</td>\n",
       "      <td>2278.341504</td>\n",
       "      <td>3.741504</td>\n",
       "    </tr>\n",
       "    <tr>\n",
       "      <th>29</th>\n",
       "      <td>2256.607129</td>\n",
       "      <td>16.913304</td>\n",
       "      <td>2256.581787</td>\n",
       "      <td>3.711068</td>\n",
       "    </tr>\n",
       "    <tr>\n",
       "      <th>...</th>\n",
       "      <td>...</td>\n",
       "      <td>...</td>\n",
       "      <td>...</td>\n",
       "      <td>...</td>\n",
       "    </tr>\n",
       "    <tr>\n",
       "      <th>270</th>\n",
       "      <td>1138.969482</td>\n",
       "      <td>7.412642</td>\n",
       "      <td>1136.658765</td>\n",
       "      <td>2.048196</td>\n",
       "    </tr>\n",
       "    <tr>\n",
       "      <th>271</th>\n",
       "      <td>1138.983643</td>\n",
       "      <td>7.416685</td>\n",
       "      <td>1136.666821</td>\n",
       "      <td>2.038482</td>\n",
       "    </tr>\n",
       "    <tr>\n",
       "      <th>272</th>\n",
       "      <td>1139.020435</td>\n",
       "      <td>7.413706</td>\n",
       "      <td>1136.702539</td>\n",
       "      <td>2.033192</td>\n",
       "    </tr>\n",
       "    <tr>\n",
       "      <th>273</th>\n",
       "      <td>1139.053980</td>\n",
       "      <td>7.404097</td>\n",
       "      <td>1136.730688</td>\n",
       "      <td>2.038093</td>\n",
       "    </tr>\n",
       "    <tr>\n",
       "      <th>274</th>\n",
       "      <td>1139.083154</td>\n",
       "      <td>7.390892</td>\n",
       "      <td>1136.753540</td>\n",
       "      <td>2.042901</td>\n",
       "    </tr>\n",
       "    <tr>\n",
       "      <th>275</th>\n",
       "      <td>1139.125684</td>\n",
       "      <td>7.392930</td>\n",
       "      <td>1136.796143</td>\n",
       "      <td>2.037600</td>\n",
       "    </tr>\n",
       "    <tr>\n",
       "      <th>276</th>\n",
       "      <td>1139.157959</td>\n",
       "      <td>7.386716</td>\n",
       "      <td>1136.823023</td>\n",
       "      <td>2.033872</td>\n",
       "    </tr>\n",
       "    <tr>\n",
       "      <th>277</th>\n",
       "      <td>1139.189014</td>\n",
       "      <td>7.376327</td>\n",
       "      <td>1136.847144</td>\n",
       "      <td>2.039090</td>\n",
       "    </tr>\n",
       "    <tr>\n",
       "      <th>278</th>\n",
       "      <td>1139.237085</td>\n",
       "      <td>7.373344</td>\n",
       "      <td>1136.892847</td>\n",
       "      <td>2.038371</td>\n",
       "    </tr>\n",
       "    <tr>\n",
       "      <th>279</th>\n",
       "      <td>1139.287354</td>\n",
       "      <td>7.342323</td>\n",
       "      <td>1136.942725</td>\n",
       "      <td>2.060499</td>\n",
       "    </tr>\n",
       "    <tr>\n",
       "      <th>280</th>\n",
       "      <td>1139.321045</td>\n",
       "      <td>7.349367</td>\n",
       "      <td>1136.973096</td>\n",
       "      <td>2.047125</td>\n",
       "    </tr>\n",
       "    <tr>\n",
       "      <th>281</th>\n",
       "      <td>1139.373535</td>\n",
       "      <td>7.344787</td>\n",
       "      <td>1137.025757</td>\n",
       "      <td>2.048480</td>\n",
       "    </tr>\n",
       "    <tr>\n",
       "      <th>282</th>\n",
       "      <td>1139.417505</td>\n",
       "      <td>7.329151</td>\n",
       "      <td>1137.068872</td>\n",
       "      <td>2.053912</td>\n",
       "    </tr>\n",
       "    <tr>\n",
       "      <th>283</th>\n",
       "      <td>1139.469287</td>\n",
       "      <td>7.328195</td>\n",
       "      <td>1137.117065</td>\n",
       "      <td>2.051856</td>\n",
       "    </tr>\n",
       "    <tr>\n",
       "      <th>284</th>\n",
       "      <td>1139.517310</td>\n",
       "      <td>7.317596</td>\n",
       "      <td>1137.163647</td>\n",
       "      <td>2.054462</td>\n",
       "    </tr>\n",
       "    <tr>\n",
       "      <th>285</th>\n",
       "      <td>1139.572461</td>\n",
       "      <td>7.334594</td>\n",
       "      <td>1137.214478</td>\n",
       "      <td>2.032449</td>\n",
       "    </tr>\n",
       "    <tr>\n",
       "      <th>286</th>\n",
       "      <td>1139.622168</td>\n",
       "      <td>7.316094</td>\n",
       "      <td>1137.262085</td>\n",
       "      <td>2.046707</td>\n",
       "    </tr>\n",
       "    <tr>\n",
       "      <th>287</th>\n",
       "      <td>1139.666553</td>\n",
       "      <td>7.320212</td>\n",
       "      <td>1137.307202</td>\n",
       "      <td>2.038249</td>\n",
       "    </tr>\n",
       "    <tr>\n",
       "      <th>288</th>\n",
       "      <td>1139.731494</td>\n",
       "      <td>7.301131</td>\n",
       "      <td>1137.368311</td>\n",
       "      <td>2.056269</td>\n",
       "    </tr>\n",
       "    <tr>\n",
       "      <th>289</th>\n",
       "      <td>1139.782983</td>\n",
       "      <td>7.305160</td>\n",
       "      <td>1137.422778</td>\n",
       "      <td>2.047503</td>\n",
       "    </tr>\n",
       "    <tr>\n",
       "      <th>290</th>\n",
       "      <td>1139.831421</td>\n",
       "      <td>7.305160</td>\n",
       "      <td>1137.468286</td>\n",
       "      <td>2.041045</td>\n",
       "    </tr>\n",
       "    <tr>\n",
       "      <th>291</th>\n",
       "      <td>1139.891284</td>\n",
       "      <td>7.287669</td>\n",
       "      <td>1137.528149</td>\n",
       "      <td>2.053832</td>\n",
       "    </tr>\n",
       "    <tr>\n",
       "      <th>292</th>\n",
       "      <td>1139.947901</td>\n",
       "      <td>7.297848</td>\n",
       "      <td>1137.579468</td>\n",
       "      <td>2.038263</td>\n",
       "    </tr>\n",
       "    <tr>\n",
       "      <th>293</th>\n",
       "      <td>1140.014136</td>\n",
       "      <td>7.275995</td>\n",
       "      <td>1137.643359</td>\n",
       "      <td>2.054691</td>\n",
       "    </tr>\n",
       "    <tr>\n",
       "      <th>294</th>\n",
       "      <td>1140.069702</td>\n",
       "      <td>7.282963</td>\n",
       "      <td>1137.695996</td>\n",
       "      <td>2.044633</td>\n",
       "    </tr>\n",
       "    <tr>\n",
       "      <th>295</th>\n",
       "      <td>1140.126685</td>\n",
       "      <td>7.266438</td>\n",
       "      <td>1137.753540</td>\n",
       "      <td>2.055132</td>\n",
       "    </tr>\n",
       "    <tr>\n",
       "      <th>296</th>\n",
       "      <td>1140.182788</td>\n",
       "      <td>7.273501</td>\n",
       "      <td>1137.806348</td>\n",
       "      <td>2.042503</td>\n",
       "    </tr>\n",
       "    <tr>\n",
       "      <th>297</th>\n",
       "      <td>1140.245801</td>\n",
       "      <td>7.259718</td>\n",
       "      <td>1137.869214</td>\n",
       "      <td>2.052467</td>\n",
       "    </tr>\n",
       "    <tr>\n",
       "      <th>298</th>\n",
       "      <td>1140.303345</td>\n",
       "      <td>7.262767</td>\n",
       "      <td>1137.923120</td>\n",
       "      <td>2.045918</td>\n",
       "    </tr>\n",
       "    <tr>\n",
       "      <th>299</th>\n",
       "      <td>1140.381519</td>\n",
       "      <td>7.247655</td>\n",
       "      <td>1137.999487</td>\n",
       "      <td>2.054914</td>\n",
       "    </tr>\n",
       "  </tbody>\n",
       "</table>\n",
       "<p>300 rows × 4 columns</p>\n",
       "</div>"
      ],
      "text/plain": [
       "     test-mae-mean  test-mae-std  train-mae-mean  train-mae-std\n",
       "0      3006.483887     19.530634     3006.483740       4.861285\n",
       "1      2976.417773     19.416244     2976.425293       4.813088\n",
       "2      2946.656006     19.295540     2946.673340       4.765223\n",
       "3      2917.214502     19.176589     2917.226123       4.717039\n",
       "4      2888.071289     19.074035     2888.082666       4.671272\n",
       "5      2859.232324     18.960838     2859.244727       4.626685\n",
       "6      2830.690576     18.869895     2830.708447       4.583358\n",
       "7      2802.460254     18.777807     2802.479102       4.541708\n",
       "8      2774.535351     18.689278     2774.553125       4.498556\n",
       "9      2746.913330     18.596098     2746.939746       4.458423\n",
       "10     2719.610791     18.509579     2719.644531       4.418102\n",
       "11     2692.610596     18.431021     2692.645996       4.378265\n",
       "12     2665.921338     18.356517     2665.943701       4.337990\n",
       "13     2639.511475     18.284391     2639.533545       4.301597\n",
       "14     2613.399072     18.196912     2613.412793       4.260197\n",
       "15     2587.567383     18.122691     2587.581690       4.221989\n",
       "16     2562.033155     18.040907     2562.041357       4.185250\n",
       "17     2536.779395     17.966521     2536.787109       4.146904\n",
       "18     2511.829737     17.882876     2511.833496       4.111486\n",
       "19     2487.170215     17.795883     2487.166016       4.077948\n",
       "20     2462.795459     17.712279     2462.785889       4.038019\n",
       "21     2438.703125     17.629789     2438.693066       4.006555\n",
       "22     2414.915186     17.561612     2414.906885       3.966106\n",
       "23     2391.434326     17.474760     2391.409229       3.932577\n",
       "24     2368.215381     17.375751     2368.197070       3.887667\n",
       "25     2345.312402     17.280096     2345.284082       3.857015\n",
       "26     2322.715723     17.192367     2322.681836       3.816770\n",
       "27     2300.384766     17.107158     2300.343897       3.776988\n",
       "28     2278.367969     16.985964     2278.341504       3.741504\n",
       "29     2256.607129     16.913304     2256.581787       3.711068\n",
       "..             ...           ...             ...            ...\n",
       "270    1138.969482      7.412642     1136.658765       2.048196\n",
       "271    1138.983643      7.416685     1136.666821       2.038482\n",
       "272    1139.020435      7.413706     1136.702539       2.033192\n",
       "273    1139.053980      7.404097     1136.730688       2.038093\n",
       "274    1139.083154      7.390892     1136.753540       2.042901\n",
       "275    1139.125684      7.392930     1136.796143       2.037600\n",
       "276    1139.157959      7.386716     1136.823023       2.033872\n",
       "277    1139.189014      7.376327     1136.847144       2.039090\n",
       "278    1139.237085      7.373344     1136.892847       2.038371\n",
       "279    1139.287354      7.342323     1136.942725       2.060499\n",
       "280    1139.321045      7.349367     1136.973096       2.047125\n",
       "281    1139.373535      7.344787     1137.025757       2.048480\n",
       "282    1139.417505      7.329151     1137.068872       2.053912\n",
       "283    1139.469287      7.328195     1137.117065       2.051856\n",
       "284    1139.517310      7.317596     1137.163647       2.054462\n",
       "285    1139.572461      7.334594     1137.214478       2.032449\n",
       "286    1139.622168      7.316094     1137.262085       2.046707\n",
       "287    1139.666553      7.320212     1137.307202       2.038249\n",
       "288    1139.731494      7.301131     1137.368311       2.056269\n",
       "289    1139.782983      7.305160     1137.422778       2.047503\n",
       "290    1139.831421      7.305160     1137.468286       2.041045\n",
       "291    1139.891284      7.287669     1137.528149       2.053832\n",
       "292    1139.947901      7.297848     1137.579468       2.038263\n",
       "293    1140.014136      7.275995     1137.643359       2.054691\n",
       "294    1140.069702      7.282963     1137.695996       2.044633\n",
       "295    1140.126685      7.266438     1137.753540       2.055132\n",
       "296    1140.182788      7.273501     1137.806348       2.042503\n",
       "297    1140.245801      7.259718     1137.869214       2.052467\n",
       "298    1140.303345      7.262767     1137.923120       2.045918\n",
       "299    1140.381519      7.247655     1137.999487       2.054914\n",
       "\n",
       "[300 rows x 4 columns]"
      ]
     },
     "execution_count": 287,
     "metadata": {},
     "output_type": "execute_result"
    }
   ],
   "source": [
    "xgb.cv(space, d_train, num_boost_round=300, nfold=5, metrics=\"mae\", verbose_eval=1, seed=42)"
   ]
  },
  {
   "cell_type": "code",
   "execution_count": null,
   "metadata": {
    "collapsed": true
   },
   "outputs": [],
   "source": [
    "\n",
    "[254]\ttrain-mae:1138.28+2.12741\ttest-mae:1140.84+8.28588\n"
   ]
  },
  {
   "cell_type": "code",
   "execution_count": 288,
   "metadata": {
    "collapsed": false
   },
   "outputs": [],
   "source": [
    "model = xgb.XGBRegressor(max_depth=2, colsample_bylevel=1, colsample_bytree=1, subsample=1, \n",
    "                        learning_rate=0.01, n_estimators = 260,)"
   ]
  },
  {
   "cell_type": "code",
   "execution_count": 289,
   "metadata": {
    "collapsed": false
   },
   "outputs": [
    {
     "data": {
      "text/plain": [
       "XGBRegressor(base_score=0.5, colsample_bylevel=1, colsample_bytree=1, gamma=0,\n",
       "       learning_rate=0.01, max_delta_step=0, max_depth=2,\n",
       "       min_child_weight=1, missing=None, n_estimators=260, nthread=-1,\n",
       "       objective='reg:linear', reg_alpha=0, reg_lambda=1,\n",
       "       scale_pos_weight=1, seed=0, silent=True, subsample=1)"
      ]
     },
     "execution_count": 289,
     "metadata": {},
     "output_type": "execute_result"
    }
   ],
   "source": [
    "model"
   ]
  },
  {
   "cell_type": "code",
   "execution_count": 290,
   "metadata": {
    "collapsed": false
   },
   "outputs": [
    {
     "data": {
      "text/plain": [
       "XGBRegressor(base_score=0.5, colsample_bylevel=1, colsample_bytree=1, gamma=0,\n",
       "       learning_rate=0.01, max_delta_step=0, max_depth=2,\n",
       "       min_child_weight=1, missing=None, n_estimators=260, nthread=-1,\n",
       "       objective='reg:linear', reg_alpha=0, reg_lambda=1,\n",
       "       scale_pos_weight=1, seed=0, silent=True, subsample=1)"
      ]
     },
     "execution_count": 290,
     "metadata": {},
     "output_type": "execute_result"
    }
   ],
   "source": [
    "model.fit(X_train, y_train, eval_metric = \"mae\")"
   ]
  },
  {
   "cell_type": "code",
   "execution_count": 291,
   "metadata": {
    "collapsed": false
   },
   "outputs": [
    {
     "data": {
      "text/plain": [
       "1129.6238443557052"
      ]
     },
     "execution_count": 291,
     "metadata": {},
     "output_type": "execute_result"
    }
   ],
   "source": [
    "mae(y_hold, model.predict(X_hold))"
   ]
  },
  {
   "cell_type": "markdown",
   "metadata": {},
   "source": [
    "1122.42307 - public_lb"
   ]
  },
  {
   "cell_type": "markdown",
   "metadata": {},
   "source": [
    "all data xgb 2 level "
   ]
  },
  {
   "cell_type": "code",
   "execution_count": 301,
   "metadata": {
    "collapsed": true
   },
   "outputs": [
    {
     "ename": "ValueError",
     "evalue": "labels ['y_pred_subm'] not contained in axis",
     "output_type": "error",
     "traceback": [
      "\u001b[0;31m---------------------------------------------------------------------------\u001b[0m",
      "\u001b[0;31mValueError\u001b[0m                                Traceback (most recent call last)",
      "\u001b[0;32m<ipython-input-301-76f813b0199a>\u001b[0m in \u001b[0;36m<module>\u001b[0;34m()\u001b[0m\n\u001b[0;32m----> 1\u001b[0;31m \u001b[0mpreds\u001b[0m \u001b[0;34m=\u001b[0m \u001b[0mpreds\u001b[0m\u001b[0;34m.\u001b[0m\u001b[0mdrop\u001b[0m\u001b[0;34m(\u001b[0m\u001b[0;34m\"y_pred_subm\"\u001b[0m\u001b[0;34m,\u001b[0m \u001b[0;36m1\u001b[0m\u001b[0;34m)\u001b[0m\u001b[0;34m\u001b[0m\u001b[0m\n\u001b[0m",
      "\u001b[0;32m/home/y.romanikhin/.virtualenvs/venv/lib/python2.7/site-packages/pandas/core/generic.pyc\u001b[0m in \u001b[0;36mdrop\u001b[0;34m(self, labels, axis, level, inplace, errors)\u001b[0m\n\u001b[1;32m   1875\u001b[0m                 \u001b[0mnew_axis\u001b[0m \u001b[0;34m=\u001b[0m \u001b[0maxis\u001b[0m\u001b[0;34m.\u001b[0m\u001b[0mdrop\u001b[0m\u001b[0;34m(\u001b[0m\u001b[0mlabels\u001b[0m\u001b[0;34m,\u001b[0m \u001b[0mlevel\u001b[0m\u001b[0;34m=\u001b[0m\u001b[0mlevel\u001b[0m\u001b[0;34m,\u001b[0m \u001b[0merrors\u001b[0m\u001b[0;34m=\u001b[0m\u001b[0merrors\u001b[0m\u001b[0;34m)\u001b[0m\u001b[0;34m\u001b[0m\u001b[0m\n\u001b[1;32m   1876\u001b[0m             \u001b[0;32melse\u001b[0m\u001b[0;34m:\u001b[0m\u001b[0;34m\u001b[0m\u001b[0m\n\u001b[0;32m-> 1877\u001b[0;31m                 \u001b[0mnew_axis\u001b[0m \u001b[0;34m=\u001b[0m \u001b[0maxis\u001b[0m\u001b[0;34m.\u001b[0m\u001b[0mdrop\u001b[0m\u001b[0;34m(\u001b[0m\u001b[0mlabels\u001b[0m\u001b[0;34m,\u001b[0m \u001b[0merrors\u001b[0m\u001b[0;34m=\u001b[0m\u001b[0merrors\u001b[0m\u001b[0;34m)\u001b[0m\u001b[0;34m\u001b[0m\u001b[0m\n\u001b[0m\u001b[1;32m   1878\u001b[0m             \u001b[0mdropped\u001b[0m \u001b[0;34m=\u001b[0m \u001b[0mself\u001b[0m\u001b[0;34m.\u001b[0m\u001b[0mreindex\u001b[0m\u001b[0;34m(\u001b[0m\u001b[0;34m**\u001b[0m\u001b[0;34m{\u001b[0m\u001b[0maxis_name\u001b[0m\u001b[0;34m:\u001b[0m \u001b[0mnew_axis\u001b[0m\u001b[0;34m}\u001b[0m\u001b[0;34m)\u001b[0m\u001b[0;34m\u001b[0m\u001b[0m\n\u001b[1;32m   1879\u001b[0m             \u001b[0;32mtry\u001b[0m\u001b[0;34m:\u001b[0m\u001b[0;34m\u001b[0m\u001b[0m\n",
      "\u001b[0;32m/home/y.romanikhin/.virtualenvs/venv/lib/python2.7/site-packages/pandas/indexes/base.pyc\u001b[0m in \u001b[0;36mdrop\u001b[0;34m(self, labels, errors)\u001b[0m\n\u001b[1;32m   3049\u001b[0m             \u001b[0;32mif\u001b[0m \u001b[0merrors\u001b[0m \u001b[0;34m!=\u001b[0m \u001b[0;34m'ignore'\u001b[0m\u001b[0;34m:\u001b[0m\u001b[0;34m\u001b[0m\u001b[0m\n\u001b[1;32m   3050\u001b[0m                 raise ValueError('labels %s not contained in axis' %\n\u001b[0;32m-> 3051\u001b[0;31m                                  labels[mask])\n\u001b[0m\u001b[1;32m   3052\u001b[0m             \u001b[0mindexer\u001b[0m \u001b[0;34m=\u001b[0m \u001b[0mindexer\u001b[0m\u001b[0;34m[\u001b[0m\u001b[0;34m~\u001b[0m\u001b[0mmask\u001b[0m\u001b[0;34m]\u001b[0m\u001b[0;34m\u001b[0m\u001b[0m\n\u001b[1;32m   3053\u001b[0m         \u001b[0;32mreturn\u001b[0m \u001b[0mself\u001b[0m\u001b[0;34m.\u001b[0m\u001b[0mdelete\u001b[0m\u001b[0;34m(\u001b[0m\u001b[0mindexer\u001b[0m\u001b[0;34m)\u001b[0m\u001b[0;34m\u001b[0m\u001b[0m\n",
      "\u001b[0;31mValueError\u001b[0m: labels ['y_pred_subm'] not contained in axis"
     ]
    }
   ],
   "source": [
    "preds = preds.drop(\"y_pred_subm\", 1)"
   ]
  },
  {
   "cell_type": "code",
   "execution_count": 302,
   "metadata": {
    "collapsed": false
   },
   "outputs": [],
   "source": [
    "X_xgb = preds[[\"loss_xgb\", \"loss_nn\"]]"
   ]
  },
  {
   "cell_type": "code",
   "execution_count": 305,
   "metadata": {
    "collapsed": false
   },
   "outputs": [
    {
     "data": {
      "text/plain": [
       "XGBRegressor(base_score=0.5, colsample_bylevel=1, colsample_bytree=1, gamma=0,\n",
       "       learning_rate=0.01, max_delta_step=0, max_depth=2,\n",
       "       min_child_weight=1, missing=None, n_estimators=260, nthread=-1,\n",
       "       objective='reg:linear', reg_alpha=0, reg_lambda=1,\n",
       "       scale_pos_weight=1, seed=0, silent=True, subsample=1)"
      ]
     },
     "execution_count": 305,
     "metadata": {},
     "output_type": "execute_result"
    }
   ],
   "source": [
    "model.fit(X.values, y, eval_metric = \"mae\")"
   ]
  },
  {
   "cell_type": "code",
   "execution_count": 306,
   "metadata": {
    "collapsed": false
   },
   "outputs": [],
   "source": [
    "y_pred_xgb_2_level = model.predict(X_xgb.values)"
   ]
  },
  {
   "cell_type": "code",
   "execution_count": 307,
   "metadata": {
    "collapsed": false
   },
   "outputs": [
    {
     "data": {
      "text/plain": [
       "array([ 1628.70666504,  2060.79541016,  8915.28515625, ...,  2538.61425781,\n",
       "        1202.11120605,  3092.0402832 ], dtype=float32)"
      ]
     },
     "execution_count": 307,
     "metadata": {},
     "output_type": "execute_result"
    }
   ],
   "source": [
    "y_pred_xgb_2_level"
   ]
  },
  {
   "cell_type": "code",
   "execution_count": 308,
   "metadata": {
    "collapsed": false
   },
   "outputs": [
    {
     "data": {
      "text/html": [
       "<div>\n",
       "<table border=\"1\" class=\"dataframe\">\n",
       "  <thead>\n",
       "    <tr style=\"text-align: right;\">\n",
       "      <th></th>\n",
       "      <th>id</th>\n",
       "      <th>loss_xgb</th>\n",
       "      <th>loss_nn</th>\n",
       "      <th>y_pred_xgb_2_level</th>\n",
       "    </tr>\n",
       "  </thead>\n",
       "  <tbody>\n",
       "    <tr>\n",
       "      <th>0</th>\n",
       "      <td>4</td>\n",
       "      <td>1512.877930</td>\n",
       "      <td>1571.079736</td>\n",
       "      <td>1628.706665</td>\n",
       "    </tr>\n",
       "    <tr>\n",
       "      <th>1</th>\n",
       "      <td>6</td>\n",
       "      <td>1948.610962</td>\n",
       "      <td>1802.400940</td>\n",
       "      <td>2060.795410</td>\n",
       "    </tr>\n",
       "    <tr>\n",
       "      <th>2</th>\n",
       "      <td>9</td>\n",
       "      <td>10234.997070</td>\n",
       "      <td>8795.713916</td>\n",
       "      <td>8915.285156</td>\n",
       "    </tr>\n",
       "    <tr>\n",
       "      <th>3</th>\n",
       "      <td>12</td>\n",
       "      <td>6416.453125</td>\n",
       "      <td>7165.508398</td>\n",
       "      <td>6784.024902</td>\n",
       "    </tr>\n",
       "    <tr>\n",
       "      <th>4</th>\n",
       "      <td>15</td>\n",
       "      <td>792.276978</td>\n",
       "      <td>779.901031</td>\n",
       "      <td>1202.111206</td>\n",
       "    </tr>\n",
       "    <tr>\n",
       "      <th>5</th>\n",
       "      <td>17</td>\n",
       "      <td>2470.061768</td>\n",
       "      <td>2339.430933</td>\n",
       "      <td>2538.614258</td>\n",
       "    </tr>\n",
       "    <tr>\n",
       "      <th>6</th>\n",
       "      <td>21</td>\n",
       "      <td>2181.214355</td>\n",
       "      <td>2055.929663</td>\n",
       "      <td>2269.303711</td>\n",
       "    </tr>\n",
       "    <tr>\n",
       "      <th>7</th>\n",
       "      <td>28</td>\n",
       "      <td>817.299500</td>\n",
       "      <td>763.764325</td>\n",
       "      <td>1202.111206</td>\n",
       "    </tr>\n",
       "    <tr>\n",
       "      <th>8</th>\n",
       "      <td>32</td>\n",
       "      <td>2478.701172</td>\n",
       "      <td>3058.344263</td>\n",
       "      <td>2750.553223</td>\n",
       "    </tr>\n",
       "    <tr>\n",
       "      <th>9</th>\n",
       "      <td>43</td>\n",
       "      <td>3164.730713</td>\n",
       "      <td>2949.261353</td>\n",
       "      <td>3245.229492</td>\n",
       "    </tr>\n",
       "  </tbody>\n",
       "</table>\n",
       "</div>"
      ],
      "text/plain": [
       "   id      loss_xgb      loss_nn  y_pred_xgb_2_level\n",
       "0   4   1512.877930  1571.079736         1628.706665\n",
       "1   6   1948.610962  1802.400940         2060.795410\n",
       "2   9  10234.997070  8795.713916         8915.285156\n",
       "3  12   6416.453125  7165.508398         6784.024902\n",
       "4  15    792.276978   779.901031         1202.111206\n",
       "5  17   2470.061768  2339.430933         2538.614258\n",
       "6  21   2181.214355  2055.929663         2269.303711\n",
       "7  28    817.299500   763.764325         1202.111206\n",
       "8  32   2478.701172  3058.344263         2750.553223\n",
       "9  43   3164.730713  2949.261353         3245.229492"
      ]
     },
     "execution_count": 308,
     "metadata": {},
     "output_type": "execute_result"
    }
   ],
   "source": [
    "preds[\"y_pred_xgb_2_level\"] = y_pred_xgb_2_level\n",
    "preds.head(10)"
   ]
  },
  {
   "cell_type": "code",
   "execution_count": 309,
   "metadata": {
    "collapsed": true
   },
   "outputs": [],
   "source": [
    "res = preds[[\"id\", \"y_pred_xgb_2_level\"]]\n",
    "res.columns = [\"id\", \"loss\"]\n",
    "res.to_csv(\"../submissions/submission_xgb_2_level.csv\", index=False)"
   ]
  },
  {
   "cell_type": "code",
   "execution_count": null,
   "metadata": {
    "collapsed": true
   },
   "outputs": [],
   "source": []
  }
 ],
 "metadata": {
  "kernelspec": {
   "display_name": "Python 2",
   "language": "python",
   "name": "python2"
  },
  "language_info": {
   "codemirror_mode": {
    "name": "ipython",
    "version": 2
   },
   "file_extension": ".py",
   "mimetype": "text/x-python",
   "name": "python",
   "nbconvert_exporter": "python",
   "pygments_lexer": "ipython2",
   "version": "2.7.6"
  }
 },
 "nbformat": 4,
 "nbformat_minor": 0
}
