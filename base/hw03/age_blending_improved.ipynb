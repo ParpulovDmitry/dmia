{
 "cells": [
  {
   "cell_type": "code",
   "execution_count": 1,
   "metadata": {
    "collapsed": false
   },
   "outputs": [],
   "source": [
    "import numpy as np\n",
    "import pandas as pd\n",
    "from sklearn.linear_model import LinearRegression\n",
    "from sklearn.cross_validation import cross_val_score\n",
    "from sklearn.feature_extraction.text import HashingVectorizer\n",
    "from sklearn import manifold, decomposition, linear_model, ensemble, neighbors, cross_validation\n",
    "\n",
    "from sklearn.feature_extraction.text import TfidfVectorizer, TfidfTransformer\n",
    "\n",
    "%matplotlib inline\n",
    "import seaborn as sns\n",
    "import sklearn\n",
    "import matplotlib.pyplot as plt\n",
    "\n",
    "from heamy.dataset import Dataset\n",
    "from heamy.estimator import Regressor, Classifier\n",
    "from heamy.pipeline import ModelsPipeline\n",
    "\n",
    "import xgboost as xgb\n",
    "from nltk.corpus import stopwords"
   ]
  },
  {
   "cell_type": "code",
   "execution_count": 2,
   "metadata": {
    "collapsed": true
   },
   "outputs": [],
   "source": [
    "def rmse(x,y):\n",
    "    return np.mean((x - y) ** 2) ** 0.5"
   ]
  },
  {
   "cell_type": "markdown",
   "metadata": {},
   "source": [
    "#### Посмотрим на тайтлы"
   ]
  },
  {
   "cell_type": "code",
   "execution_count": 3,
   "metadata": {
    "collapsed": false
   },
   "outputs": [],
   "source": [
    "titles_train = pd.read_csv(\"data/title_unify_train\", sep=\"\\t\", header=None, encoding='utf-8')\n",
    "titles_train.columns = [\"Id\", \"title\", \"count\"]\n",
    "titles_train1 = pd.DataFrame(titles_train.groupby(\"Id\")['title'].apply(lambda x: x.tolist()))\n",
    "titles_train1.title = titles_train1.title.apply(lambda x: \" \".join(x)) ## склеили тайтлы по юзеру вместе"
   ]
  },
  {
   "cell_type": "code",
   "execution_count": 4,
   "metadata": {
    "collapsed": false
   },
   "outputs": [
    {
     "data": {
      "text/html": [
       "<div>\n",
       "<table border=\"1\" class=\"dataframe\">\n",
       "  <thead>\n",
       "    <tr style=\"text-align: right;\">\n",
       "      <th></th>\n",
       "      <th>Id</th>\n",
       "      <th>title</th>\n",
       "    </tr>\n",
       "  </thead>\n",
       "  <tbody>\n",
       "    <tr>\n",
       "      <th>0</th>\n",
       "      <td>000000013CB5719C0000A2C90002C101</td>\n",
       "      <td>бесплатный надёжный почта рамблер электронный ...</td>\n",
       "    </tr>\n",
       "    <tr>\n",
       "      <th>1</th>\n",
       "      <td>00000001442BE24000001B7D00F50801</td>\n",
       "      <td>24-х 34-х до договор неделя новость предложить...</td>\n",
       "    </tr>\n",
       "    <tr>\n",
       "      <th>2</th>\n",
       "      <td>00000001448580F800003F1B31FB0901</td>\n",
       "      <td>авто бош контакт королёв сервис авто бош корол...</td>\n",
       "    </tr>\n",
       "    <tr>\n",
       "      <th>3</th>\n",
       "      <td>0000000145BDB2FF000157971645E901</td>\n",
       "      <td>ua втрать війни донбасі за на новини озвучить ...</td>\n",
       "    </tr>\n",
       "    <tr>\n",
       "      <th>4</th>\n",
       "      <td>000000014602771F0000DB9359714C01</td>\n",
       "      <td>black walnut грецкий орех чёрный inmoment ru w...</td>\n",
       "    </tr>\n",
       "  </tbody>\n",
       "</table>\n",
       "</div>"
      ],
      "text/plain": [
       "                                 Id  \\\n",
       "0  000000013CB5719C0000A2C90002C101   \n",
       "1  00000001442BE24000001B7D00F50801   \n",
       "2  00000001448580F800003F1B31FB0901   \n",
       "3  0000000145BDB2FF000157971645E901   \n",
       "4  000000014602771F0000DB9359714C01   \n",
       "\n",
       "                                               title  \n",
       "0  бесплатный надёжный почта рамблер электронный ...  \n",
       "1  24-х 34-х до договор неделя новость предложить...  \n",
       "2  авто бош контакт королёв сервис авто бош корол...  \n",
       "3  ua втрать війни донбасі за на новини озвучить ...  \n",
       "4  black walnut грецкий орех чёрный inmoment ru w...  "
      ]
     },
     "execution_count": 4,
     "metadata": {},
     "output_type": "execute_result"
    }
   ],
   "source": [
    "titles_train1 = titles_train1.reset_index()\n",
    "titles_train1.head()"
   ]
  },
  {
   "cell_type": "markdown",
   "metadata": {
    "collapsed": true
   },
   "source": [
    "загрузим трейн по возрасту"
   ]
  },
  {
   "cell_type": "code",
   "execution_count": 5,
   "metadata": {
    "collapsed": true
   },
   "outputs": [],
   "source": [
    "age_train_df = pd.read_csv('data/age_profile_train', header=None, delimiter='\\t')\n",
    "age_train_df.columns = ['Id', 'age']"
   ]
  },
  {
   "cell_type": "markdown",
   "metadata": {},
   "source": [
    "####  Добавим урлы"
   ]
  },
  {
   "cell_type": "code",
   "execution_count": 84,
   "metadata": {
    "collapsed": true
   },
   "outputs": [],
   "source": [
    "urls_train_df = pd.read_csv('data/url_domain_train', header=None, delimiter='\\t')\n",
    "urls_train_df.columns = ['Id', 'url', 'Count']"
   ]
  },
  {
   "cell_type": "code",
   "execution_count": 85,
   "metadata": {
    "collapsed": false
   },
   "outputs": [],
   "source": [
    "url_df = urls_train_df.drop(\"Count\", axis=1).merge(age_train_df, on='Id', how='left')\n",
    "url_df = url_df.sort_values(by=\"Id\")\n",
    "url_df[\"decade\"] = url_df.age.apply(lambda x: int(np.floor((x)/10)))"
   ]
  },
  {
   "cell_type": "markdown",
   "metadata": {},
   "source": [
    "В предположении, что p(url|age) имеет некоторое распределение, восстановим распределение урлов про декадам на обучающей выборке "
   ]
  },
  {
   "cell_type": "code",
   "execution_count": 86,
   "metadata": {
    "collapsed": true
   },
   "outputs": [],
   "source": [
    "aggreg = url_df.groupby([\"url\", \"decade\"]).age.count().unstack()\n",
    "aggreg = aggreg.fillna(0)\n",
    "aggreg = aggreg.reset_index()\n",
    "aggreg[\"all_cnt\"] = aggreg[aggreg.columns[1:]].sum(axis=1)"
   ]
  },
  {
   "cell_type": "code",
   "execution_count": 115,
   "metadata": {
    "collapsed": false
   },
   "outputs": [],
   "source": [
    "aggreg_filt = aggreg#[aggreg.all_cnt > 2]"
   ]
  },
  {
   "cell_type": "code",
   "execution_count": 116,
   "metadata": {
    "collapsed": true
   },
   "outputs": [],
   "source": [
    "aggreg_urls_probs_filt = pd.concat([aggreg_filt.url, aggreg_filt[aggreg_filt.columns[1:-1]].div(aggreg_filt.all_cnt, axis='rows')], axis=1)"
   ]
  },
  {
   "cell_type": "code",
   "execution_count": 117,
   "metadata": {
    "collapsed": false
   },
   "outputs": [
    {
     "data": {
      "text/html": [
       "<div>\n",
       "<table border=\"1\" class=\"dataframe\">\n",
       "  <thead>\n",
       "    <tr style=\"text-align: right;\">\n",
       "      <th></th>\n",
       "      <th>url</th>\n",
       "      <th>0</th>\n",
       "      <th>1</th>\n",
       "      <th>2</th>\n",
       "      <th>3</th>\n",
       "      <th>4</th>\n",
       "      <th>5</th>\n",
       "      <th>6</th>\n",
       "      <th>7</th>\n",
       "      <th>8</th>\n",
       "      <th>9</th>\n",
       "    </tr>\n",
       "  </thead>\n",
       "  <tbody>\n",
       "    <tr>\n",
       "      <th>0</th>\n",
       "      <td>0-1.a100.nthosting.ru</td>\n",
       "      <td>0.333333</td>\n",
       "      <td>0.000000</td>\n",
       "      <td>0.666667</td>\n",
       "      <td>0.000000</td>\n",
       "      <td>0.000000</td>\n",
       "      <td>0.000000</td>\n",
       "      <td>0.000000</td>\n",
       "      <td>0.000000</td>\n",
       "      <td>0.0</td>\n",
       "      <td>0.0</td>\n",
       "    </tr>\n",
       "    <tr>\n",
       "      <th>1</th>\n",
       "      <td>0-1.ru</td>\n",
       "      <td>0.028409</td>\n",
       "      <td>0.011364</td>\n",
       "      <td>0.210227</td>\n",
       "      <td>0.346591</td>\n",
       "      <td>0.215909</td>\n",
       "      <td>0.136364</td>\n",
       "      <td>0.045455</td>\n",
       "      <td>0.005682</td>\n",
       "      <td>0.0</td>\n",
       "      <td>0.0</td>\n",
       "    </tr>\n",
       "    <tr>\n",
       "      <th>2</th>\n",
       "      <td>0-15kdm.ru</td>\n",
       "      <td>0.000000</td>\n",
       "      <td>0.000000</td>\n",
       "      <td>1.000000</td>\n",
       "      <td>0.000000</td>\n",
       "      <td>0.000000</td>\n",
       "      <td>0.000000</td>\n",
       "      <td>0.000000</td>\n",
       "      <td>0.000000</td>\n",
       "      <td>0.0</td>\n",
       "      <td>0.0</td>\n",
       "    </tr>\n",
       "    <tr>\n",
       "      <th>3</th>\n",
       "      <td>0-3.ru</td>\n",
       "      <td>0.000000</td>\n",
       "      <td>0.000000</td>\n",
       "      <td>0.000000</td>\n",
       "      <td>0.000000</td>\n",
       "      <td>0.000000</td>\n",
       "      <td>1.000000</td>\n",
       "      <td>0.000000</td>\n",
       "      <td>0.000000</td>\n",
       "      <td>0.0</td>\n",
       "      <td>0.0</td>\n",
       "    </tr>\n",
       "    <tr>\n",
       "      <th>4</th>\n",
       "      <td>0-360.ru</td>\n",
       "      <td>0.000000</td>\n",
       "      <td>0.000000</td>\n",
       "      <td>0.000000</td>\n",
       "      <td>0.500000</td>\n",
       "      <td>0.000000</td>\n",
       "      <td>0.000000</td>\n",
       "      <td>0.000000</td>\n",
       "      <td>0.500000</td>\n",
       "      <td>0.0</td>\n",
       "      <td>0.0</td>\n",
       "    </tr>\n",
       "  </tbody>\n",
       "</table>\n",
       "</div>"
      ],
      "text/plain": [
       "                     url         0         1         2         3         4  \\\n",
       "0  0-1.a100.nthosting.ru  0.333333  0.000000  0.666667  0.000000  0.000000   \n",
       "1                 0-1.ru  0.028409  0.011364  0.210227  0.346591  0.215909   \n",
       "2             0-15kdm.ru  0.000000  0.000000  1.000000  0.000000  0.000000   \n",
       "3                 0-3.ru  0.000000  0.000000  0.000000  0.000000  0.000000   \n",
       "4               0-360.ru  0.000000  0.000000  0.000000  0.500000  0.000000   \n",
       "\n",
       "          5         6         7    8    9  \n",
       "0  0.000000  0.000000  0.000000  0.0  0.0  \n",
       "1  0.136364  0.045455  0.005682  0.0  0.0  \n",
       "2  0.000000  0.000000  0.000000  0.0  0.0  \n",
       "3  1.000000  0.000000  0.000000  0.0  0.0  \n",
       "4  0.000000  0.000000  0.500000  0.0  0.0  "
      ]
     },
     "execution_count": 117,
     "metadata": {},
     "output_type": "execute_result"
    }
   ],
   "source": [
    "aggreg_urls_probs_filt.head()"
   ]
  },
  {
   "cell_type": "code",
   "execution_count": null,
   "metadata": {
    "collapsed": true
   },
   "outputs": [],
   "source": []
  },
  {
   "cell_type": "code",
   "execution_count": 118,
   "metadata": {
    "collapsed": false
   },
   "outputs": [],
   "source": [
    "all_set_probs = urls_train_df.drop(\"Count\", axis=1).merge(aggreg_urls_probs_filt, on=\"url\").sort_values(by=\"Id\").reset_index().drop(\"index\", axis=1)"
   ]
  },
  {
   "cell_type": "code",
   "execution_count": 119,
   "metadata": {
    "collapsed": false
   },
   "outputs": [
    {
     "data": {
      "text/html": [
       "<div>\n",
       "<table border=\"1\" class=\"dataframe\">\n",
       "  <thead>\n",
       "    <tr style=\"text-align: right;\">\n",
       "      <th></th>\n",
       "      <th>Id</th>\n",
       "      <th>url</th>\n",
       "      <th>0</th>\n",
       "      <th>1</th>\n",
       "      <th>2</th>\n",
       "      <th>3</th>\n",
       "      <th>4</th>\n",
       "      <th>5</th>\n",
       "      <th>6</th>\n",
       "      <th>7</th>\n",
       "      <th>8</th>\n",
       "      <th>9</th>\n",
       "    </tr>\n",
       "  </thead>\n",
       "  <tbody>\n",
       "    <tr>\n",
       "      <th>0</th>\n",
       "      <td>000000013CB5719C0000A2C90002C101</td>\n",
       "      <td>r0.ru</td>\n",
       "      <td>0.011605</td>\n",
       "      <td>0.034816</td>\n",
       "      <td>0.150870</td>\n",
       "      <td>0.311412</td>\n",
       "      <td>0.206963</td>\n",
       "      <td>0.189555</td>\n",
       "      <td>0.075435</td>\n",
       "      <td>0.013540</td>\n",
       "      <td>0.005803</td>\n",
       "      <td>0.000000</td>\n",
       "    </tr>\n",
       "    <tr>\n",
       "      <th>1</th>\n",
       "      <td>000000013CB5719C0000A2C90002C101</td>\n",
       "      <td>id.rambler.ru</td>\n",
       "      <td>0.014819</td>\n",
       "      <td>0.060953</td>\n",
       "      <td>0.305132</td>\n",
       "      <td>0.305351</td>\n",
       "      <td>0.182714</td>\n",
       "      <td>0.089350</td>\n",
       "      <td>0.032776</td>\n",
       "      <td>0.006351</td>\n",
       "      <td>0.001533</td>\n",
       "      <td>0.001022</td>\n",
       "    </tr>\n",
       "    <tr>\n",
       "      <th>2</th>\n",
       "      <td>000000013CB5719C0000A2C90002C101</td>\n",
       "      <td>mail.rambler.ru</td>\n",
       "      <td>0.019425</td>\n",
       "      <td>0.036012</td>\n",
       "      <td>0.243083</td>\n",
       "      <td>0.313185</td>\n",
       "      <td>0.216987</td>\n",
       "      <td>0.119580</td>\n",
       "      <td>0.041846</td>\n",
       "      <td>0.007576</td>\n",
       "      <td>0.001357</td>\n",
       "      <td>0.000950</td>\n",
       "    </tr>\n",
       "    <tr>\n",
       "      <th>3</th>\n",
       "      <td>00000001442BE24000001B7D00F50801</td>\n",
       "      <td>secretmag.ru</td>\n",
       "      <td>0.019522</td>\n",
       "      <td>0.013147</td>\n",
       "      <td>0.139442</td>\n",
       "      <td>0.285259</td>\n",
       "      <td>0.283665</td>\n",
       "      <td>0.173705</td>\n",
       "      <td>0.067331</td>\n",
       "      <td>0.014343</td>\n",
       "      <td>0.001992</td>\n",
       "      <td>0.001594</td>\n",
       "    </tr>\n",
       "    <tr>\n",
       "      <th>4</th>\n",
       "      <td>00000001442BE24000001B7D00F50801</td>\n",
       "      <td>govoritmoskva.ru</td>\n",
       "      <td>0.018112</td>\n",
       "      <td>0.020972</td>\n",
       "      <td>0.197331</td>\n",
       "      <td>0.249762</td>\n",
       "      <td>0.220210</td>\n",
       "      <td>0.179218</td>\n",
       "      <td>0.088656</td>\n",
       "      <td>0.017159</td>\n",
       "      <td>0.006673</td>\n",
       "      <td>0.001907</td>\n",
       "    </tr>\n",
       "  </tbody>\n",
       "</table>\n",
       "</div>"
      ],
      "text/plain": [
       "                                 Id               url         0         1  \\\n",
       "0  000000013CB5719C0000A2C90002C101             r0.ru  0.011605  0.034816   \n",
       "1  000000013CB5719C0000A2C90002C101     id.rambler.ru  0.014819  0.060953   \n",
       "2  000000013CB5719C0000A2C90002C101   mail.rambler.ru  0.019425  0.036012   \n",
       "3  00000001442BE24000001B7D00F50801      secretmag.ru  0.019522  0.013147   \n",
       "4  00000001442BE24000001B7D00F50801  govoritmoskva.ru  0.018112  0.020972   \n",
       "\n",
       "          2         3         4         5         6         7         8  \\\n",
       "0  0.150870  0.311412  0.206963  0.189555  0.075435  0.013540  0.005803   \n",
       "1  0.305132  0.305351  0.182714  0.089350  0.032776  0.006351  0.001533   \n",
       "2  0.243083  0.313185  0.216987  0.119580  0.041846  0.007576  0.001357   \n",
       "3  0.139442  0.285259  0.283665  0.173705  0.067331  0.014343  0.001992   \n",
       "4  0.197331  0.249762  0.220210  0.179218  0.088656  0.017159  0.006673   \n",
       "\n",
       "          9  \n",
       "0  0.000000  \n",
       "1  0.001022  \n",
       "2  0.000950  \n",
       "3  0.001594  \n",
       "4  0.001907  "
      ]
     },
     "execution_count": 119,
     "metadata": {},
     "output_type": "execute_result"
    }
   ],
   "source": [
    "all_set_probs.head()"
   ]
  },
  {
   "cell_type": "code",
   "execution_count": 120,
   "metadata": {
    "collapsed": false
   },
   "outputs": [],
   "source": [
    "aggr = pd.concat([all_set_probs.groupby(\"Id\").sum(), all_set_probs.groupby(\"Id\").count()[0]], axis=1)"
   ]
  },
  {
   "cell_type": "code",
   "execution_count": 121,
   "metadata": {
    "collapsed": false
   },
   "outputs": [
    {
     "data": {
      "text/html": [
       "<div>\n",
       "<table border=\"1\" class=\"dataframe\">\n",
       "  <thead>\n",
       "    <tr style=\"text-align: right;\">\n",
       "      <th></th>\n",
       "      <th>0</th>\n",
       "      <th>1</th>\n",
       "      <th>2</th>\n",
       "      <th>3</th>\n",
       "      <th>4</th>\n",
       "      <th>5</th>\n",
       "      <th>6</th>\n",
       "      <th>7</th>\n",
       "      <th>8</th>\n",
       "      <th>9</th>\n",
       "      <th>0</th>\n",
       "    </tr>\n",
       "    <tr>\n",
       "      <th>Id</th>\n",
       "      <th></th>\n",
       "      <th></th>\n",
       "      <th></th>\n",
       "      <th></th>\n",
       "      <th></th>\n",
       "      <th></th>\n",
       "      <th></th>\n",
       "      <th></th>\n",
       "      <th></th>\n",
       "      <th></th>\n",
       "      <th></th>\n",
       "    </tr>\n",
       "  </thead>\n",
       "  <tbody>\n",
       "    <tr>\n",
       "      <th>000000013CB5719C0000A2C90002C101</th>\n",
       "      <td>0.045849</td>\n",
       "      <td>0.131781</td>\n",
       "      <td>0.699085</td>\n",
       "      <td>0.929948</td>\n",
       "      <td>0.606665</td>\n",
       "      <td>0.398485</td>\n",
       "      <td>0.150057</td>\n",
       "      <td>0.027466</td>\n",
       "      <td>0.008692</td>\n",
       "      <td>0.001972</td>\n",
       "      <td>3</td>\n",
       "    </tr>\n",
       "    <tr>\n",
       "      <th>00000001442BE24000001B7D00F50801</th>\n",
       "      <td>0.819073</td>\n",
       "      <td>0.686682</td>\n",
       "      <td>6.875526</td>\n",
       "      <td>10.354937</td>\n",
       "      <td>9.113721</td>\n",
       "      <td>6.139414</td>\n",
       "      <td>2.482999</td>\n",
       "      <td>0.390805</td>\n",
       "      <td>0.073883</td>\n",
       "      <td>0.062959</td>\n",
       "      <td>37</td>\n",
       "    </tr>\n",
       "  </tbody>\n",
       "</table>\n",
       "</div>"
      ],
      "text/plain": [
       "                                         0         1         2          3  \\\n",
       "Id                                                                          \n",
       "000000013CB5719C0000A2C90002C101  0.045849  0.131781  0.699085   0.929948   \n",
       "00000001442BE24000001B7D00F50801  0.819073  0.686682  6.875526  10.354937   \n",
       "\n",
       "                                         4         5         6         7  \\\n",
       "Id                                                                         \n",
       "000000013CB5719C0000A2C90002C101  0.606665  0.398485  0.150057  0.027466   \n",
       "00000001442BE24000001B7D00F50801  9.113721  6.139414  2.482999  0.390805   \n",
       "\n",
       "                                         8         9   0  \n",
       "Id                                                        \n",
       "000000013CB5719C0000A2C90002C101  0.008692  0.001972   3  \n",
       "00000001442BE24000001B7D00F50801  0.073883  0.062959  37  "
      ]
     },
     "execution_count": 121,
     "metadata": {},
     "output_type": "execute_result"
    }
   ],
   "source": [
    "aggr.head(2)"
   ]
  },
  {
   "cell_type": "code",
   "execution_count": 122,
   "metadata": {
    "collapsed": false
   },
   "outputs": [],
   "source": [
    "aggr.columns = [\"decade_0\", \"decade_1\", \"decade_2\", \"decade_3\", \"decade_4\",\n",
    "               \"decade_5\", \"decade_6\", \"decade_7\", \"decade_8\", \"decade_9\", \"cnt\"] "
   ]
  },
  {
   "cell_type": "code",
   "execution_count": 123,
   "metadata": {
    "collapsed": false
   },
   "outputs": [
    {
     "data": {
      "text/html": [
       "<div>\n",
       "<table border=\"1\" class=\"dataframe\">\n",
       "  <thead>\n",
       "    <tr style=\"text-align: right;\">\n",
       "      <th></th>\n",
       "      <th>decade_0</th>\n",
       "      <th>decade_1</th>\n",
       "      <th>decade_2</th>\n",
       "      <th>decade_3</th>\n",
       "      <th>decade_4</th>\n",
       "      <th>decade_5</th>\n",
       "      <th>decade_6</th>\n",
       "      <th>decade_7</th>\n",
       "      <th>decade_8</th>\n",
       "      <th>decade_9</th>\n",
       "      <th>cnt</th>\n",
       "    </tr>\n",
       "    <tr>\n",
       "      <th>Id</th>\n",
       "      <th></th>\n",
       "      <th></th>\n",
       "      <th></th>\n",
       "      <th></th>\n",
       "      <th></th>\n",
       "      <th></th>\n",
       "      <th></th>\n",
       "      <th></th>\n",
       "      <th></th>\n",
       "      <th></th>\n",
       "      <th></th>\n",
       "    </tr>\n",
       "  </thead>\n",
       "  <tbody>\n",
       "    <tr>\n",
       "      <th>000000013CB5719C0000A2C90002C101</th>\n",
       "      <td>0.045849</td>\n",
       "      <td>0.131781</td>\n",
       "      <td>0.699085</td>\n",
       "      <td>0.929948</td>\n",
       "      <td>0.606665</td>\n",
       "      <td>0.398485</td>\n",
       "      <td>0.150057</td>\n",
       "      <td>0.027466</td>\n",
       "      <td>0.008692</td>\n",
       "      <td>0.001972</td>\n",
       "      <td>3</td>\n",
       "    </tr>\n",
       "    <tr>\n",
       "      <th>00000001442BE24000001B7D00F50801</th>\n",
       "      <td>0.819073</td>\n",
       "      <td>0.686682</td>\n",
       "      <td>6.875526</td>\n",
       "      <td>10.354937</td>\n",
       "      <td>9.113721</td>\n",
       "      <td>6.139414</td>\n",
       "      <td>2.482999</td>\n",
       "      <td>0.390805</td>\n",
       "      <td>0.073883</td>\n",
       "      <td>0.062959</td>\n",
       "      <td>37</td>\n",
       "    </tr>\n",
       "    <tr>\n",
       "      <th>00000001448580F800003F1B31FB0901</th>\n",
       "      <td>0.000000</td>\n",
       "      <td>0.333333</td>\n",
       "      <td>0.666667</td>\n",
       "      <td>0.000000</td>\n",
       "      <td>0.000000</td>\n",
       "      <td>0.000000</td>\n",
       "      <td>0.000000</td>\n",
       "      <td>0.000000</td>\n",
       "      <td>0.000000</td>\n",
       "      <td>0.000000</td>\n",
       "      <td>1</td>\n",
       "    </tr>\n",
       "    <tr>\n",
       "      <th>0000000145BDB2FF000157971645E901</th>\n",
       "      <td>0.145078</td>\n",
       "      <td>0.334114</td>\n",
       "      <td>2.590656</td>\n",
       "      <td>3.329806</td>\n",
       "      <td>1.974950</td>\n",
       "      <td>1.154019</td>\n",
       "      <td>0.397011</td>\n",
       "      <td>0.064615</td>\n",
       "      <td>0.003316</td>\n",
       "      <td>0.006435</td>\n",
       "      <td>10</td>\n",
       "    </tr>\n",
       "    <tr>\n",
       "      <th>000000014602771F0000DB9359714C01</th>\n",
       "      <td>0.113171</td>\n",
       "      <td>0.435530</td>\n",
       "      <td>3.085147</td>\n",
       "      <td>3.202767</td>\n",
       "      <td>2.284845</td>\n",
       "      <td>1.519141</td>\n",
       "      <td>0.294689</td>\n",
       "      <td>0.059143</td>\n",
       "      <td>0.004823</td>\n",
       "      <td>0.000743</td>\n",
       "      <td>11</td>\n",
       "    </tr>\n",
       "  </tbody>\n",
       "</table>\n",
       "</div>"
      ],
      "text/plain": [
       "                                  decade_0  decade_1  decade_2   decade_3  \\\n",
       "Id                                                                          \n",
       "000000013CB5719C0000A2C90002C101  0.045849  0.131781  0.699085   0.929948   \n",
       "00000001442BE24000001B7D00F50801  0.819073  0.686682  6.875526  10.354937   \n",
       "00000001448580F800003F1B31FB0901  0.000000  0.333333  0.666667   0.000000   \n",
       "0000000145BDB2FF000157971645E901  0.145078  0.334114  2.590656   3.329806   \n",
       "000000014602771F0000DB9359714C01  0.113171  0.435530  3.085147   3.202767   \n",
       "\n",
       "                                  decade_4  decade_5  decade_6  decade_7  \\\n",
       "Id                                                                         \n",
       "000000013CB5719C0000A2C90002C101  0.606665  0.398485  0.150057  0.027466   \n",
       "00000001442BE24000001B7D00F50801  9.113721  6.139414  2.482999  0.390805   \n",
       "00000001448580F800003F1B31FB0901  0.000000  0.000000  0.000000  0.000000   \n",
       "0000000145BDB2FF000157971645E901  1.974950  1.154019  0.397011  0.064615   \n",
       "000000014602771F0000DB9359714C01  2.284845  1.519141  0.294689  0.059143   \n",
       "\n",
       "                                  decade_8  decade_9  cnt  \n",
       "Id                                                         \n",
       "000000013CB5719C0000A2C90002C101  0.008692  0.001972    3  \n",
       "00000001442BE24000001B7D00F50801  0.073883  0.062959   37  \n",
       "00000001448580F800003F1B31FB0901  0.000000  0.000000    1  \n",
       "0000000145BDB2FF000157971645E901  0.003316  0.006435   10  \n",
       "000000014602771F0000DB9359714C01  0.004823  0.000743   11  "
      ]
     },
     "execution_count": 123,
     "metadata": {},
     "output_type": "execute_result"
    }
   ],
   "source": [
    "aggr.head()"
   ]
  },
  {
   "cell_type": "code",
   "execution_count": 124,
   "metadata": {
    "collapsed": false
   },
   "outputs": [],
   "source": [
    "probs_users = aggr[aggr.columns[:-1]].div(aggr[aggr.columns[-1]], axis=\"rows\")"
   ]
  },
  {
   "cell_type": "code",
   "execution_count": 137,
   "metadata": {
    "collapsed": false
   },
   "outputs": [
    {
     "data": {
      "text/plain": [
       "[5, 15, 25, 35, 45, 55, 65, 75, 85, 95]"
      ]
     },
     "execution_count": 137,
     "metadata": {},
     "output_type": "execute_result"
    }
   ],
   "source": [
    "decades = [i*10+5 for i in range(10)]  # по центрам интервалов\n",
    "decades"
   ]
  },
  {
   "cell_type": "markdown",
   "metadata": {},
   "source": [
    "взвесим согласно вероятностям"
   ]
  },
  {
   "cell_type": "code",
   "execution_count": 138,
   "metadata": {
    "collapsed": false
   },
   "outputs": [],
   "source": [
    "pred_simple_probs_urls = probs_users.apply(lambda x: sum(x.values*decades), axis=1)"
   ]
  },
  {
   "cell_type": "code",
   "execution_count": 139,
   "metadata": {
    "collapsed": false
   },
   "outputs": [
    {
     "data": {
      "text/html": [
       "<div>\n",
       "<table border=\"1\" class=\"dataframe\">\n",
       "  <thead>\n",
       "    <tr style=\"text-align: right;\">\n",
       "      <th></th>\n",
       "      <th>Id</th>\n",
       "      <th>prob</th>\n",
       "      <th>age</th>\n",
       "    </tr>\n",
       "  </thead>\n",
       "  <tbody>\n",
       "    <tr>\n",
       "      <th>0</th>\n",
       "      <td>000000013CB5719C0000A2C90002C101</td>\n",
       "      <td>38.062559</td>\n",
       "      <td>53</td>\n",
       "    </tr>\n",
       "    <tr>\n",
       "      <th>1</th>\n",
       "      <td>00000001442BE24000001B7D00F50801</td>\n",
       "      <td>40.525900</td>\n",
       "      <td>48</td>\n",
       "    </tr>\n",
       "  </tbody>\n",
       "</table>\n",
       "</div>"
      ],
      "text/plain": [
       "                                 Id       prob  age\n",
       "0  000000013CB5719C0000A2C90002C101  38.062559   53\n",
       "1  00000001442BE24000001B7D00F50801  40.525900   48"
      ]
     },
     "execution_count": 139,
     "metadata": {},
     "output_type": "execute_result"
    }
   ],
   "source": [
    "m = pred_simple_probs_urls.reset_index().merge(age_train_df)\n",
    "m.columns = [\"Id\", \"prob\", \"age\"]\n",
    "m.head(2)"
   ]
  },
  {
   "cell_type": "code",
   "execution_count": 141,
   "metadata": {
    "collapsed": false
   },
   "outputs": [
    {
     "data": {
      "text/plain": [
       "11.646980267145002"
      ]
     },
     "execution_count": 141,
     "metadata": {},
     "output_type": "execute_result"
    }
   ],
   "source": [
    "rmse(m.prob.values, m.age.values)  ## даже такой простой подход дает неплохой результат! неплохоо"
   ]
  },
  {
   "cell_type": "code",
   "execution_count": null,
   "metadata": {
    "collapsed": true
   },
   "outputs": [],
   "source": []
  },
  {
   "cell_type": "markdown",
   "metadata": {},
   "source": [
    "попробуем другое дробление возраста - не на декады, а по равновероятным cumsum интервалам"
   ]
  },
  {
   "cell_type": "code",
   "execution_count": 129,
   "metadata": {
    "collapsed": true
   },
   "outputs": [],
   "source": [
    "# 10 штук\n",
    "interval_labels = [22, 26, 29, 31, 34, 38, 41, 46, 53]  # побъем cussum по равновероятным интервалам\n",
    "\n",
    "# 20 штук\n",
    "\n",
    "interval_labels20  = []"
   ]
  },
  {
   "cell_type": "code",
   "execution_count": 131,
   "metadata": {
    "collapsed": true
   },
   "outputs": [],
   "source": [
    "def create_intervals(age):\n",
    "    if age < 22:\n",
    "        return 0\n",
    "    if age >= 22 and age <= 26:\n",
    "        return 1\n",
    "    if age > 26 and age <= 29:\n",
    "        return 2\n",
    "    if age > 29 and age <= 31:\n",
    "        return 3\n",
    "    if age > 31 and age <= 34:\n",
    "        return 4\n",
    "    if age > 34 and age <= 38:\n",
    "        return 5\n",
    "    if age > 38 and age <= 41:\n",
    "        return 6\n",
    "    if age > 41 and age <= 46:\n",
    "        return 7\n",
    "    if age > 46 and age <= 53:\n",
    "        return 8\n",
    "    if age > 53:\n",
    "        return 9"
   ]
  },
  {
   "cell_type": "markdown",
   "metadata": {},
   "source": [
    "теперь повторим то же самое"
   ]
  },
  {
   "cell_type": "code",
   "execution_count": 499,
   "metadata": {
    "collapsed": true
   },
   "outputs": [],
   "source": [
    "url_df = urls_train_df.drop(\"Count\", axis=1).merge(age_train_df, on='Id', how='left')\n",
    "url_df = url_df.sort_values(by=\"Id\")\n",
    "url_df[\"decade\"] = url_df.age.apply(create_intervals)"
   ]
  },
  {
   "cell_type": "code",
   "execution_count": 500,
   "metadata": {
    "collapsed": true
   },
   "outputs": [],
   "source": [
    "aggreg = url_df.groupby([\"url\", \"decade\"]).age.count().unstack()\n",
    "aggreg = aggreg.fillna(0)\n",
    "aggreg = aggreg.reset_index()\n",
    "aggreg[\"all_cnt\"] = aggreg[aggreg.columns[1:]].sum(axis=1)\n",
    "\n",
    "aggreg_filt = aggreg#[aggreg.all_cnt > 2]\n",
    "aggreg_urls_probs_filt = pd.concat([aggreg_filt.url, aggreg_filt[aggreg_filt.columns[1:-1]].div(aggreg_filt.all_cnt, axis='rows')], axis=1)\n",
    "\n",
    "all_set_probs = urls_train_df.drop(\"Count\", axis=1).merge(aggreg_urls_probs_filt, on=\"url\").sort_values(by=\"Id\").reset_index().drop(\"index\", axis=1)\n",
    "\n",
    "aggr = pd.concat([all_set_probs.groupby(\"Id\").sum(), all_set_probs.groupby(\"Id\").count()[0]], axis=1)\n",
    "aggr.columns = [\"decade_0\", \"decade_1\", \"decade_2\", \"decade_3\", \"decade_4\",\n",
    "               \"decade_5\", \"decade_6\", \"decade_7\", \"decade_8\", \"decade_9\", \"cnt\"] \n",
    "probs_users = aggr[aggr.columns[:-1]].div(aggr[aggr.columns[-1]], axis=\"rows\")"
   ]
  },
  {
   "cell_type": "code",
   "execution_count": 501,
   "metadata": {
    "collapsed": false
   },
   "outputs": [
    {
     "data": {
      "text/html": [
       "<div>\n",
       "<table border=\"1\" class=\"dataframe\">\n",
       "  <thead>\n",
       "    <tr style=\"text-align: right;\">\n",
       "      <th></th>\n",
       "      <th>decade_0</th>\n",
       "      <th>decade_1</th>\n",
       "      <th>decade_2</th>\n",
       "      <th>decade_3</th>\n",
       "      <th>decade_4</th>\n",
       "      <th>decade_5</th>\n",
       "      <th>decade_6</th>\n",
       "      <th>decade_7</th>\n",
       "      <th>decade_8</th>\n",
       "      <th>decade_9</th>\n",
       "    </tr>\n",
       "    <tr>\n",
       "      <th>Id</th>\n",
       "      <th></th>\n",
       "      <th></th>\n",
       "      <th></th>\n",
       "      <th></th>\n",
       "      <th></th>\n",
       "      <th></th>\n",
       "      <th></th>\n",
       "      <th></th>\n",
       "      <th></th>\n",
       "      <th></th>\n",
       "    </tr>\n",
       "  </thead>\n",
       "  <tbody>\n",
       "    <tr>\n",
       "      <th>000000013CB5719C0000A2C90002C101</th>\n",
       "      <td>0.090940</td>\n",
       "      <td>0.091018</td>\n",
       "      <td>0.110280</td>\n",
       "      <td>0.071454</td>\n",
       "      <td>0.106768</td>\n",
       "      <td>0.095862</td>\n",
       "      <td>0.098688</td>\n",
       "      <td>0.090686</td>\n",
       "      <td>0.124294</td>\n",
       "      <td>0.120008</td>\n",
       "    </tr>\n",
       "    <tr>\n",
       "      <th>00000001442BE24000001B7D00F50801</th>\n",
       "      <td>0.059752</td>\n",
       "      <td>0.064204</td>\n",
       "      <td>0.102565</td>\n",
       "      <td>0.059760</td>\n",
       "      <td>0.089081</td>\n",
       "      <td>0.084155</td>\n",
       "      <td>0.106211</td>\n",
       "      <td>0.101531</td>\n",
       "      <td>0.176652</td>\n",
       "      <td>0.156089</td>\n",
       "    </tr>\n",
       "  </tbody>\n",
       "</table>\n",
       "</div>"
      ],
      "text/plain": [
       "                                  decade_0  decade_1  decade_2  decade_3  \\\n",
       "Id                                                                         \n",
       "000000013CB5719C0000A2C90002C101  0.090940  0.091018  0.110280  0.071454   \n",
       "00000001442BE24000001B7D00F50801  0.059752  0.064204  0.102565  0.059760   \n",
       "\n",
       "                                  decade_4  decade_5  decade_6  decade_7  \\\n",
       "Id                                                                         \n",
       "000000013CB5719C0000A2C90002C101  0.106768  0.095862  0.098688  0.090686   \n",
       "00000001442BE24000001B7D00F50801  0.089081  0.084155  0.106211  0.101531   \n",
       "\n",
       "                                  decade_8  decade_9  \n",
       "Id                                                    \n",
       "000000013CB5719C0000A2C90002C101  0.124294  0.120008  \n",
       "00000001442BE24000001B7D00F50801  0.176652  0.156089  "
      ]
     },
     "execution_count": 501,
     "metadata": {},
     "output_type": "execute_result"
    }
   ],
   "source": [
    "probs_users.head(2)"
   ]
  },
  {
   "cell_type": "code",
   "execution_count": 502,
   "metadata": {
    "collapsed": false
   },
   "outputs": [],
   "source": [
    "## intervals = [22, 26, 29, 31, 34, 38, 41, 46, 53]\n",
    "#decades = [11, 24, 27, 30, 33, 36, 39, 43, 50, 76]  # по центрам интервалов\n",
    "\n",
    "decades = [0, 15, 22, 28, 30, 36, 40, 45, 55, 77]  # не по центрам интервалов"
   ]
  },
  {
   "cell_type": "markdown",
   "metadata": {},
   "source": [
    "взвесим согласно вероятностям"
   ]
  },
  {
   "cell_type": "code",
   "execution_count": 503,
   "metadata": {
    "collapsed": true
   },
   "outputs": [],
   "source": [
    "pred_simple_probs_urls = probs_users.apply(lambda x: sum(x.values*decades), axis=1)"
   ]
  },
  {
   "cell_type": "code",
   "execution_count": 504,
   "metadata": {
    "collapsed": false
   },
   "outputs": [
    {
     "data": {
      "text/html": [
       "<div>\n",
       "<table border=\"1\" class=\"dataframe\">\n",
       "  <thead>\n",
       "    <tr style=\"text-align: right;\">\n",
       "      <th></th>\n",
       "      <th>Id</th>\n",
       "      <th>prob</th>\n",
       "      <th>age</th>\n",
       "    </tr>\n",
       "  </thead>\n",
       "  <tbody>\n",
       "    <tr>\n",
       "      <th>0</th>\n",
       "      <td>000000013CB5719C0000A2C90002C101</td>\n",
       "      <td>36.551444</td>\n",
       "      <td>53</td>\n",
       "    </tr>\n",
       "    <tr>\n",
       "      <th>1</th>\n",
       "      <td>00000001442BE24000001B7D00F50801</td>\n",
       "      <td>41.146850</td>\n",
       "      <td>48</td>\n",
       "    </tr>\n",
       "  </tbody>\n",
       "</table>\n",
       "</div>"
      ],
      "text/plain": [
       "                                 Id       prob  age\n",
       "0  000000013CB5719C0000A2C90002C101  36.551444   53\n",
       "1  00000001442BE24000001B7D00F50801  41.146850   48"
      ]
     },
     "execution_count": 504,
     "metadata": {},
     "output_type": "execute_result"
    }
   ],
   "source": [
    "m = pred_simple_probs_urls.reset_index().merge(age_train_df)\n",
    "m.columns = [\"Id\", \"prob\", \"age\"]\n",
    "m.head(2)"
   ]
  },
  {
   "cell_type": "code",
   "execution_count": 505,
   "metadata": {
    "collapsed": false
   },
   "outputs": [
    {
     "data": {
      "text/plain": [
       "11.204294219306224"
      ]
     },
     "execution_count": 505,
     "metadata": {},
     "output_type": "execute_result"
    }
   ],
   "source": [
    "rmse(m.prob.values, m.age.values)  ## еще лучше!!!!"
   ]
  },
  {
   "cell_type": "code",
   "execution_count": null,
   "metadata": {
    "collapsed": true
   },
   "outputs": [],
   "source": []
  },
  {
   "cell_type": "markdown",
   "metadata": {},
   "source": [
    "#### Впендюрим для теста"
   ]
  },
  {
   "cell_type": "code",
   "execution_count": 506,
   "metadata": {
    "collapsed": true
   },
   "outputs": [],
   "source": [
    "urls_test_df = pd.read_csv('data/url_domain_test', header=None, delimiter='\\t')\n",
    "urls_test_df.columns = ['Id', 'url', 'Count']"
   ]
  },
  {
   "cell_type": "code",
   "execution_count": 507,
   "metadata": {
    "collapsed": false
   },
   "outputs": [
    {
     "data": {
      "text/html": [
       "<div>\n",
       "<table border=\"1\" class=\"dataframe\">\n",
       "  <thead>\n",
       "    <tr style=\"text-align: right;\">\n",
       "      <th></th>\n",
       "      <th>url</th>\n",
       "      <th>0</th>\n",
       "      <th>1</th>\n",
       "      <th>2</th>\n",
       "      <th>3</th>\n",
       "      <th>4</th>\n",
       "      <th>5</th>\n",
       "      <th>6</th>\n",
       "      <th>7</th>\n",
       "      <th>8</th>\n",
       "      <th>9</th>\n",
       "    </tr>\n",
       "  </thead>\n",
       "  <tbody>\n",
       "    <tr>\n",
       "      <th>0</th>\n",
       "      <td>0-1.a100.nthosting.ru</td>\n",
       "      <td>0.333333</td>\n",
       "      <td>0.333333</td>\n",
       "      <td>0.333333</td>\n",
       "      <td>0.000000</td>\n",
       "      <td>0.000000</td>\n",
       "      <td>0.000000</td>\n",
       "      <td>0.000000</td>\n",
       "      <td>0.000000</td>\n",
       "      <td>0.000000</td>\n",
       "      <td>0.000000</td>\n",
       "    </tr>\n",
       "    <tr>\n",
       "      <th>1</th>\n",
       "      <td>0-1.ru</td>\n",
       "      <td>0.051136</td>\n",
       "      <td>0.062500</td>\n",
       "      <td>0.136364</td>\n",
       "      <td>0.113636</td>\n",
       "      <td>0.090909</td>\n",
       "      <td>0.102273</td>\n",
       "      <td>0.090909</td>\n",
       "      <td>0.090909</td>\n",
       "      <td>0.147727</td>\n",
       "      <td>0.113636</td>\n",
       "    </tr>\n",
       "    <tr>\n",
       "      <th>2</th>\n",
       "      <td>0-15kdm.ru</td>\n",
       "      <td>0.000000</td>\n",
       "      <td>0.000000</td>\n",
       "      <td>1.000000</td>\n",
       "      <td>0.000000</td>\n",
       "      <td>0.000000</td>\n",
       "      <td>0.000000</td>\n",
       "      <td>0.000000</td>\n",
       "      <td>0.000000</td>\n",
       "      <td>0.000000</td>\n",
       "      <td>0.000000</td>\n",
       "    </tr>\n",
       "    <tr>\n",
       "      <th>3</th>\n",
       "      <td>0-3.ru</td>\n",
       "      <td>0.000000</td>\n",
       "      <td>0.000000</td>\n",
       "      <td>0.000000</td>\n",
       "      <td>0.000000</td>\n",
       "      <td>0.000000</td>\n",
       "      <td>0.000000</td>\n",
       "      <td>0.000000</td>\n",
       "      <td>0.000000</td>\n",
       "      <td>1.000000</td>\n",
       "      <td>0.000000</td>\n",
       "    </tr>\n",
       "    <tr>\n",
       "      <th>4</th>\n",
       "      <td>0-360.ru</td>\n",
       "      <td>0.000000</td>\n",
       "      <td>0.000000</td>\n",
       "      <td>0.000000</td>\n",
       "      <td>0.500000</td>\n",
       "      <td>0.000000</td>\n",
       "      <td>0.000000</td>\n",
       "      <td>0.000000</td>\n",
       "      <td>0.000000</td>\n",
       "      <td>0.000000</td>\n",
       "      <td>0.500000</td>\n",
       "    </tr>\n",
       "  </tbody>\n",
       "</table>\n",
       "</div>"
      ],
      "text/plain": [
       "                     url         0         1         2         3         4  \\\n",
       "0  0-1.a100.nthosting.ru  0.333333  0.333333  0.333333  0.000000  0.000000   \n",
       "1                 0-1.ru  0.051136  0.062500  0.136364  0.113636  0.090909   \n",
       "2             0-15kdm.ru  0.000000  0.000000  1.000000  0.000000  0.000000   \n",
       "3                 0-3.ru  0.000000  0.000000  0.000000  0.000000  0.000000   \n",
       "4               0-360.ru  0.000000  0.000000  0.000000  0.500000  0.000000   \n",
       "\n",
       "          5         6         7         8         9  \n",
       "0  0.000000  0.000000  0.000000  0.000000  0.000000  \n",
       "1  0.102273  0.090909  0.090909  0.147727  0.113636  \n",
       "2  0.000000  0.000000  0.000000  0.000000  0.000000  \n",
       "3  0.000000  0.000000  0.000000  1.000000  0.000000  \n",
       "4  0.000000  0.000000  0.000000  0.000000  0.500000  "
      ]
     },
     "execution_count": 507,
     "metadata": {},
     "output_type": "execute_result"
    }
   ],
   "source": [
    "aggreg_urls_probs_filt.head()"
   ]
  },
  {
   "cell_type": "code",
   "execution_count": 508,
   "metadata": {
    "collapsed": false
   },
   "outputs": [],
   "source": [
    "all_set_probs_test = urls_test_df.drop(\"Count\", axis=1).merge(aggreg_urls_probs_filt).sort_values(by=\"Id\").reset_index().drop(\"index\", axis=1)"
   ]
  },
  {
   "cell_type": "code",
   "execution_count": 509,
   "metadata": {
    "collapsed": false
   },
   "outputs": [
    {
     "data": {
      "text/html": [
       "<div>\n",
       "<table border=\"1\" class=\"dataframe\">\n",
       "  <thead>\n",
       "    <tr style=\"text-align: right;\">\n",
       "      <th></th>\n",
       "      <th>Id</th>\n",
       "      <th>url</th>\n",
       "      <th>0</th>\n",
       "      <th>1</th>\n",
       "      <th>2</th>\n",
       "      <th>3</th>\n",
       "      <th>4</th>\n",
       "      <th>5</th>\n",
       "      <th>6</th>\n",
       "      <th>7</th>\n",
       "      <th>8</th>\n",
       "      <th>9</th>\n",
       "    </tr>\n",
       "  </thead>\n",
       "  <tbody>\n",
       "    <tr>\n",
       "      <th>0</th>\n",
       "      <td>000000014A02348E701552980349FF01</td>\n",
       "      <td>finance.rambler.ru</td>\n",
       "      <td>0.042289</td>\n",
       "      <td>0.043373</td>\n",
       "      <td>0.062651</td>\n",
       "      <td>0.052048</td>\n",
       "      <td>0.089880</td>\n",
       "      <td>0.092651</td>\n",
       "      <td>0.102530</td>\n",
       "      <td>0.129277</td>\n",
       "      <td>0.185663</td>\n",
       "      <td>0.199639</td>\n",
       "    </tr>\n",
       "    <tr>\n",
       "      <th>1</th>\n",
       "      <td>000000014A02348E701552980349FF01</td>\n",
       "      <td>stringer-news.com</td>\n",
       "      <td>0.054348</td>\n",
       "      <td>0.108696</td>\n",
       "      <td>0.065217</td>\n",
       "      <td>0.065217</td>\n",
       "      <td>0.076087</td>\n",
       "      <td>0.086957</td>\n",
       "      <td>0.097826</td>\n",
       "      <td>0.054348</td>\n",
       "      <td>0.130435</td>\n",
       "      <td>0.260870</td>\n",
       "    </tr>\n",
       "    <tr>\n",
       "      <th>2</th>\n",
       "      <td>000000014A02348E701552980349FF01</td>\n",
       "      <td>1tv.ru</td>\n",
       "      <td>0.088350</td>\n",
       "      <td>0.117178</td>\n",
       "      <td>0.132779</td>\n",
       "      <td>0.086145</td>\n",
       "      <td>0.107173</td>\n",
       "      <td>0.080041</td>\n",
       "      <td>0.083602</td>\n",
       "      <td>0.093946</td>\n",
       "      <td>0.109886</td>\n",
       "      <td>0.100899</td>\n",
       "    </tr>\n",
       "    <tr>\n",
       "      <th>3</th>\n",
       "      <td>000000014A02348E701552980349FF01</td>\n",
       "      <td>potsreotizm.livejournal.com</td>\n",
       "      <td>0.055556</td>\n",
       "      <td>0.111111</td>\n",
       "      <td>0.111111</td>\n",
       "      <td>0.000000</td>\n",
       "      <td>0.111111</td>\n",
       "      <td>0.166667</td>\n",
       "      <td>0.055556</td>\n",
       "      <td>0.166667</td>\n",
       "      <td>0.111111</td>\n",
       "      <td>0.111111</td>\n",
       "    </tr>\n",
       "    <tr>\n",
       "      <th>4</th>\n",
       "      <td>000000014A02348E701552980349FF01</td>\n",
       "      <td>spb.kp.ru</td>\n",
       "      <td>0.068063</td>\n",
       "      <td>0.078534</td>\n",
       "      <td>0.097731</td>\n",
       "      <td>0.068063</td>\n",
       "      <td>0.082024</td>\n",
       "      <td>0.085515</td>\n",
       "      <td>0.082024</td>\n",
       "      <td>0.102967</td>\n",
       "      <td>0.160558</td>\n",
       "      <td>0.174520</td>\n",
       "    </tr>\n",
       "  </tbody>\n",
       "</table>\n",
       "</div>"
      ],
      "text/plain": [
       "                                 Id                          url         0  \\\n",
       "0  000000014A02348E701552980349FF01           finance.rambler.ru  0.042289   \n",
       "1  000000014A02348E701552980349FF01            stringer-news.com  0.054348   \n",
       "2  000000014A02348E701552980349FF01                       1tv.ru  0.088350   \n",
       "3  000000014A02348E701552980349FF01  potsreotizm.livejournal.com  0.055556   \n",
       "4  000000014A02348E701552980349FF01                    spb.kp.ru  0.068063   \n",
       "\n",
       "          1         2         3         4         5         6         7  \\\n",
       "0  0.043373  0.062651  0.052048  0.089880  0.092651  0.102530  0.129277   \n",
       "1  0.108696  0.065217  0.065217  0.076087  0.086957  0.097826  0.054348   \n",
       "2  0.117178  0.132779  0.086145  0.107173  0.080041  0.083602  0.093946   \n",
       "3  0.111111  0.111111  0.000000  0.111111  0.166667  0.055556  0.166667   \n",
       "4  0.078534  0.097731  0.068063  0.082024  0.085515  0.082024  0.102967   \n",
       "\n",
       "          8         9  \n",
       "0  0.185663  0.199639  \n",
       "1  0.130435  0.260870  \n",
       "2  0.109886  0.100899  \n",
       "3  0.111111  0.111111  \n",
       "4  0.160558  0.174520  "
      ]
     },
     "execution_count": 509,
     "metadata": {},
     "output_type": "execute_result"
    }
   ],
   "source": [
    "all_set_probs_test.head()"
   ]
  },
  {
   "cell_type": "code",
   "execution_count": 510,
   "metadata": {
    "collapsed": true
   },
   "outputs": [],
   "source": [
    "aggr_test = pd.concat([all_set_probs_test.groupby(\"Id\").sum(), all_set_probs_test.groupby(\"Id\").count()[0]], axis=1)\n",
    "aggr_test.columns = [\"decade_0\", \"decade_1\", \"decade_2\", \"decade_3\", \"decade_4\",\n",
    "               \"decade_5\", \"decade_6\", \"decade_7\", \"decade_8\", \"decade_9\", \"cnt\"] \n",
    "probs_users_test = aggr_test[aggr_test.columns[:-1]].div(aggr_test[aggr_test.columns[-1]], axis=\"rows\")"
   ]
  },
  {
   "cell_type": "code",
   "execution_count": 511,
   "metadata": {
    "collapsed": false
   },
   "outputs": [
    {
     "data": {
      "text/html": [
       "<div>\n",
       "<table border=\"1\" class=\"dataframe\">\n",
       "  <thead>\n",
       "    <tr style=\"text-align: right;\">\n",
       "      <th></th>\n",
       "      <th>decade_0</th>\n",
       "      <th>decade_1</th>\n",
       "      <th>decade_2</th>\n",
       "      <th>decade_3</th>\n",
       "      <th>decade_4</th>\n",
       "      <th>decade_5</th>\n",
       "      <th>decade_6</th>\n",
       "      <th>decade_7</th>\n",
       "      <th>decade_8</th>\n",
       "      <th>decade_9</th>\n",
       "    </tr>\n",
       "    <tr>\n",
       "      <th>Id</th>\n",
       "      <th></th>\n",
       "      <th></th>\n",
       "      <th></th>\n",
       "      <th></th>\n",
       "      <th></th>\n",
       "      <th></th>\n",
       "      <th></th>\n",
       "      <th></th>\n",
       "      <th></th>\n",
       "      <th></th>\n",
       "    </tr>\n",
       "  </thead>\n",
       "  <tbody>\n",
       "    <tr>\n",
       "      <th>000000014A02348E701552980349FF01</th>\n",
       "      <td>0.079265</td>\n",
       "      <td>0.087682</td>\n",
       "      <td>0.100754</td>\n",
       "      <td>0.063741</td>\n",
       "      <td>0.104640</td>\n",
       "      <td>0.088078</td>\n",
       "      <td>0.088226</td>\n",
       "      <td>0.110199</td>\n",
       "      <td>0.139706</td>\n",
       "      <td>0.137709</td>\n",
       "    </tr>\n",
       "    <tr>\n",
       "      <th>000000014A10EA183BF8594A0B2AB201</th>\n",
       "      <td>0.066700</td>\n",
       "      <td>0.074079</td>\n",
       "      <td>0.090038</td>\n",
       "      <td>0.067339</td>\n",
       "      <td>0.093445</td>\n",
       "      <td>0.092733</td>\n",
       "      <td>0.096282</td>\n",
       "      <td>0.116003</td>\n",
       "      <td>0.150577</td>\n",
       "      <td>0.152805</td>\n",
       "    </tr>\n",
       "  </tbody>\n",
       "</table>\n",
       "</div>"
      ],
      "text/plain": [
       "                                  decade_0  decade_1  decade_2  decade_3  \\\n",
       "Id                                                                         \n",
       "000000014A02348E701552980349FF01  0.079265  0.087682  0.100754  0.063741   \n",
       "000000014A10EA183BF8594A0B2AB201  0.066700  0.074079  0.090038  0.067339   \n",
       "\n",
       "                                  decade_4  decade_5  decade_6  decade_7  \\\n",
       "Id                                                                         \n",
       "000000014A02348E701552980349FF01  0.104640  0.088078  0.088226  0.110199   \n",
       "000000014A10EA183BF8594A0B2AB201  0.093445  0.092733  0.096282  0.116003   \n",
       "\n",
       "                                  decade_8  decade_9  \n",
       "Id                                                    \n",
       "000000014A02348E701552980349FF01  0.139706  0.137709  \n",
       "000000014A10EA183BF8594A0B2AB201  0.150577  0.152805  "
      ]
     },
     "execution_count": 511,
     "metadata": {},
     "output_type": "execute_result"
    }
   ],
   "source": [
    "probs_users_test.head(2)"
   ]
  },
  {
   "cell_type": "markdown",
   "metadata": {},
   "source": [
    "предскажем"
   ]
  },
  {
   "cell_type": "code",
   "execution_count": 512,
   "metadata": {
    "collapsed": true
   },
   "outputs": [],
   "source": [
    "#decades = [11, 24, 27, 30, 33, 36, 39, 43, 50, 76]  # по центрам интервалов\n",
    "decades = [0, 15, 22, 28, 30, 36, 40, 45, 55, 77] # не по центрам интервалов\n",
    "pred_simple_probs_test = probs_users_test.apply(lambda x: sum(x.values*decades), axis=1)"
   ]
  },
  {
   "cell_type": "code",
   "execution_count": 513,
   "metadata": {
    "collapsed": false
   },
   "outputs": [
    {
     "data": {
      "text/plain": [
       "Id\n",
       "000000014A02348E701552980349FF01    38.402019\n",
       "000000014A10EA183BF8594A0B2AB201    40.238338\n",
       "dtype: float64"
      ]
     },
     "execution_count": 513,
     "metadata": {},
     "output_type": "execute_result"
    }
   ],
   "source": [
    "pred_simple_probs_test.head(2)\n"
   ]
  },
  {
   "cell_type": "code",
   "execution_count": 514,
   "metadata": {
    "collapsed": false
   },
   "outputs": [
    {
     "data": {
      "text/plain": [
       "(19974,)"
      ]
     },
     "execution_count": 514,
     "metadata": {},
     "output_type": "execute_result"
    }
   ],
   "source": [
    "pred_simple_probs_test.shape"
   ]
  },
  {
   "cell_type": "code",
   "execution_count": 515,
   "metadata": {
    "collapsed": false
   },
   "outputs": [
    {
     "data": {
      "text/plain": [
       "(19979, 2)"
      ]
     },
     "execution_count": 515,
     "metadata": {},
     "output_type": "execute_result"
    }
   ],
   "source": [
    "sample_df = pd.read_csv('sample_submission.csv')\n",
    "sample_df.shape"
   ]
  },
  {
   "cell_type": "code",
   "execution_count": 516,
   "metadata": {
    "collapsed": false
   },
   "outputs": [
    {
     "data": {
      "text/plain": [
       "{'00000001545483F30F717F5A0721E401',\n",
       " '00000046549F9C26429C4B0159BFEE01',\n",
       " '000000465684D839B64B58DA9701F701',\n",
       " '000022D456544DE3771122F857A6F201',\n",
       " '06210D9556EFE0E30000054678B0D901'}"
      ]
     },
     "execution_count": 516,
     "metadata": {},
     "output_type": "execute_result"
    }
   ],
   "source": [
    "miss_idx = set(sample_df.Id.values) - set(pred_simple_probs_test.index.values)\n",
    "miss_idx  ## есть "
   ]
  },
  {
   "cell_type": "code",
   "execution_count": 517,
   "metadata": {
    "collapsed": false
   },
   "outputs": [
    {
     "data": {
      "text/html": [
       "<div>\n",
       "<table border=\"1\" class=\"dataframe\">\n",
       "  <thead>\n",
       "    <tr style=\"text-align: right;\">\n",
       "      <th></th>\n",
       "      <th>Id</th>\n",
       "      <th>age</th>\n",
       "    </tr>\n",
       "  </thead>\n",
       "  <tbody>\n",
       "    <tr>\n",
       "      <th>0</th>\n",
       "      <td>000022D456544DE3771122F857A6F201</td>\n",
       "      <td>30.0</td>\n",
       "    </tr>\n",
       "    <tr>\n",
       "      <th>1</th>\n",
       "      <td>06210D9556EFE0E30000054678B0D901</td>\n",
       "      <td>30.0</td>\n",
       "    </tr>\n",
       "    <tr>\n",
       "      <th>2</th>\n",
       "      <td>00000046549F9C26429C4B0159BFEE01</td>\n",
       "      <td>30.0</td>\n",
       "    </tr>\n",
       "    <tr>\n",
       "      <th>3</th>\n",
       "      <td>00000001545483F30F717F5A0721E401</td>\n",
       "      <td>30.0</td>\n",
       "    </tr>\n",
       "    <tr>\n",
       "      <th>4</th>\n",
       "      <td>000000465684D839B64B58DA9701F701</td>\n",
       "      <td>30.0</td>\n",
       "    </tr>\n",
       "  </tbody>\n",
       "</table>\n",
       "</div>"
      ],
      "text/plain": [
       "                                 Id   age\n",
       "0  000022D456544DE3771122F857A6F201  30.0\n",
       "1  06210D9556EFE0E30000054678B0D901  30.0\n",
       "2  00000046549F9C26429C4B0159BFEE01  30.0\n",
       "3  00000001545483F30F717F5A0721E401  30.0\n",
       "4  000000465684D839B64B58DA9701F701  30.0"
      ]
     },
     "execution_count": 517,
     "metadata": {},
     "output_type": "execute_result"
    }
   ],
   "source": [
    "miss_df = pd.DataFrame(zip(list(miss_idx), 30* np.ones(len(miss_idx))))\n",
    "miss_df.columns = ['Id', 'age']\n",
    "#miss_df = miss_df.set_index(\"Id\")\n",
    "miss_df"
   ]
  },
  {
   "cell_type": "code",
   "execution_count": 518,
   "metadata": {
    "collapsed": false
   },
   "outputs": [],
   "source": [
    "pred_simple_probs_test = pred_simple_probs_test.reset_index()\n",
    "pred_simple_probs_test.columns = [\"Id\", \"age\"]"
   ]
  },
  {
   "cell_type": "code",
   "execution_count": 519,
   "metadata": {
    "collapsed": false
   },
   "outputs": [
    {
     "data": {
      "text/html": [
       "<div>\n",
       "<table border=\"1\" class=\"dataframe\">\n",
       "  <thead>\n",
       "    <tr style=\"text-align: right;\">\n",
       "      <th></th>\n",
       "      <th>Id</th>\n",
       "      <th>age</th>\n",
       "    </tr>\n",
       "  </thead>\n",
       "  <tbody>\n",
       "    <tr>\n",
       "      <th>0</th>\n",
       "      <td>000000014A02348E701552980349FF01</td>\n",
       "      <td>38.402019</td>\n",
       "    </tr>\n",
       "    <tr>\n",
       "      <th>1</th>\n",
       "      <td>000000014A10EA183BF8594A0B2AB201</td>\n",
       "      <td>40.238338</td>\n",
       "    </tr>\n",
       "    <tr>\n",
       "      <th>2</th>\n",
       "      <td>000000014A4FE5C33A929D4C26943601</td>\n",
       "      <td>40.370623</td>\n",
       "    </tr>\n",
       "    <tr>\n",
       "      <th>3</th>\n",
       "      <td>000000014B7BB9957784A9BC0AC9F401</td>\n",
       "      <td>37.245949</td>\n",
       "    </tr>\n",
       "    <tr>\n",
       "      <th>4</th>\n",
       "      <td>000000014C7749F896D82C2B01E8B801</td>\n",
       "      <td>36.052225</td>\n",
       "    </tr>\n",
       "  </tbody>\n",
       "</table>\n",
       "</div>"
      ],
      "text/plain": [
       "                                 Id        age\n",
       "0  000000014A02348E701552980349FF01  38.402019\n",
       "1  000000014A10EA183BF8594A0B2AB201  40.238338\n",
       "2  000000014A4FE5C33A929D4C26943601  40.370623\n",
       "3  000000014B7BB9957784A9BC0AC9F401  37.245949\n",
       "4  000000014C7749F896D82C2B01E8B801  36.052225"
      ]
     },
     "execution_count": 519,
     "metadata": {},
     "output_type": "execute_result"
    }
   ],
   "source": [
    "pred_simple_probs_test.head()"
   ]
  },
  {
   "cell_type": "code",
   "execution_count": null,
   "metadata": {
    "collapsed": true
   },
   "outputs": [],
   "source": []
  },
  {
   "cell_type": "code",
   "execution_count": 520,
   "metadata": {
    "collapsed": false
   },
   "outputs": [],
   "source": [
    "all_test_set = pd.merge(pred_simple_probs_test.reset_index(), miss_df, on=[\"Id\", \"age\"], how=\"outer\").drop(\"index\", axis=1)"
   ]
  },
  {
   "cell_type": "code",
   "execution_count": 521,
   "metadata": {
    "collapsed": false
   },
   "outputs": [
    {
     "data": {
      "text/html": [
       "<div>\n",
       "<table border=\"1\" class=\"dataframe\">\n",
       "  <thead>\n",
       "    <tr style=\"text-align: right;\">\n",
       "      <th></th>\n",
       "      <th>Id</th>\n",
       "      <th>age</th>\n",
       "    </tr>\n",
       "  </thead>\n",
       "  <tbody>\n",
       "    <tr>\n",
       "      <th>0</th>\n",
       "      <td>000000014A02348E701552980349FF01</td>\n",
       "      <td>38.402019</td>\n",
       "    </tr>\n",
       "    <tr>\n",
       "      <th>1</th>\n",
       "      <td>000000014A10EA183BF8594A0B2AB201</td>\n",
       "      <td>40.238338</td>\n",
       "    </tr>\n",
       "    <tr>\n",
       "      <th>2</th>\n",
       "      <td>000000014A4FE5C33A929D4C26943601</td>\n",
       "      <td>40.370623</td>\n",
       "    </tr>\n",
       "    <tr>\n",
       "      <th>3</th>\n",
       "      <td>000000014B7BB9957784A9BC0AC9F401</td>\n",
       "      <td>37.245949</td>\n",
       "    </tr>\n",
       "    <tr>\n",
       "      <th>4</th>\n",
       "      <td>000000014C7749F896D82C2B01E8B801</td>\n",
       "      <td>36.052225</td>\n",
       "    </tr>\n",
       "  </tbody>\n",
       "</table>\n",
       "</div>"
      ],
      "text/plain": [
       "                                 Id        age\n",
       "0  000000014A02348E701552980349FF01  38.402019\n",
       "1  000000014A10EA183BF8594A0B2AB201  40.238338\n",
       "2  000000014A4FE5C33A929D4C26943601  40.370623\n",
       "3  000000014B7BB9957784A9BC0AC9F401  37.245949\n",
       "4  000000014C7749F896D82C2B01E8B801  36.052225"
      ]
     },
     "execution_count": 521,
     "metadata": {},
     "output_type": "execute_result"
    }
   ],
   "source": [
    "all_test_set = all_test_set.sort_values(by=\"Id\")\n",
    "all_test_set.head()"
   ]
  },
  {
   "cell_type": "code",
   "execution_count": 522,
   "metadata": {
    "collapsed": false
   },
   "outputs": [
    {
     "data": {
      "text/plain": [
       "(19979, 2)"
      ]
     },
     "execution_count": 522,
     "metadata": {},
     "output_type": "execute_result"
    }
   ],
   "source": [
    "all_test_set.shape"
   ]
  },
  {
   "cell_type": "code",
   "execution_count": 523,
   "metadata": {
    "collapsed": true
   },
   "outputs": [],
   "source": [
    "all_test_set.to_csv(\"simple_prob_urls_another_decades.csv\", index=False)"
   ]
  },
  {
   "cell_type": "code",
   "execution_count": 540,
   "metadata": {
    "collapsed": false
   },
   "outputs": [],
   "source": [
    "eee = pd.DataFrame(pd.concat([all_test_set.Id, all_test_set.age.apply(lambda x: np.floor(x))], axis=1))\n",
    "eee.columns = [\"Id\",\"age\"]"
   ]
  },
  {
   "cell_type": "code",
   "execution_count": 553,
   "metadata": {
    "collapsed": false
   },
   "outputs": [
    {
     "data": {
      "text/plain": [
       "<matplotlib.axes._subplots.AxesSubplot at 0x7e83ba10>"
      ]
     },
     "execution_count": 553,
     "metadata": {},
     "output_type": "execute_result"
    },
    {
     "data": {
      "image/png": "[encoded data removed]",
      "text/plain": [
       "<matplotlib.figure.Figure at 0x7e94ccd0>"
      ]
     },
     "metadata": {},
     "output_type": "display_data"
    }
   ],
   "source": [
    "eee.groupby(\"age\").count().reset_index().sort_values(by=\"age\").set_index(\"age\").plot(kind=\"bar\")"
   ]
  },
  {
   "cell_type": "code",
   "execution_count": 547,
   "metadata": {
    "collapsed": false
   },
   "outputs": [
    {
     "data": {
      "text/plain": [
       "array([ 38.,  40.,  37.,  36.,  39.,  43.,  34.,  33.,  41.,  42.,  32.,\n",
       "        35.,  28.,  44.,  31.,  30.,  45.,  29.,  46.,  48.,  50.,  77.,\n",
       "        49.,  51.,  27.,  23.,  47.,  26.,  25.,  17.,  24.,  56.])"
      ]
     },
     "execution_count": 547,
     "metadata": {},
     "output_type": "execute_result"
    }
   ],
   "source": [
    "eee.age.unique()"
   ]
  },
  {
   "cell_type": "code",
   "execution_count": null,
   "metadata": {
    "collapsed": true
   },
   "outputs": [],
   "source": []
  },
  {
   "cell_type": "code",
   "execution_count": null,
   "metadata": {
    "collapsed": true
   },
   "outputs": [],
   "source": []
  },
  {
   "cell_type": "code",
   "execution_count": null,
   "metadata": {
    "collapsed": true
   },
   "outputs": [],
   "source": []
  },
  {
   "cell_type": "code",
   "execution_count": null,
   "metadata": {
    "collapsed": true
   },
   "outputs": [],
   "source": []
  },
  {
   "cell_type": "code",
   "execution_count": null,
   "metadata": {
    "collapsed": true
   },
   "outputs": [],
   "source": []
  },
  {
   "cell_type": "code",
   "execution_count": null,
   "metadata": {
    "collapsed": true
   },
   "outputs": [],
   "source": []
  },
  {
   "cell_type": "code",
   "execution_count": 175,
   "metadata": {
    "collapsed": false
   },
   "outputs": [],
   "source": [
    "all_set = urls_train_df.drop(\"Count\", axis=1).merge(aggreg, how=\"outer\")"
   ]
  },
  {
   "cell_type": "code",
   "execution_count": 176,
   "metadata": {
    "collapsed": false
   },
   "outputs": [],
   "source": [
    "all_set = all_set.groupby(\"Id\").sum()"
   ]
  },
  {
   "cell_type": "code",
   "execution_count": 177,
   "metadata": {
    "collapsed": true
   },
   "outputs": [],
   "source": [
    "allset = all_set.reset_index().merge(age_train_df, how=\"outer\")"
   ]
  },
  {
   "cell_type": "code",
   "execution_count": 178,
   "metadata": {
    "collapsed": false
   },
   "outputs": [],
   "source": [
    "allset = allset.fillna(0)"
   ]
  },
  {
   "cell_type": "code",
   "execution_count": 179,
   "metadata": {
    "collapsed": false
   },
   "outputs": [
    {
     "data": {
      "text/html": [
       "<div>\n",
       "<table border=\"1\" class=\"dataframe\">\n",
       "  <thead>\n",
       "    <tr style=\"text-align: right;\">\n",
       "      <th></th>\n",
       "      <th>Id</th>\n",
       "      <th>0</th>\n",
       "      <th>1</th>\n",
       "      <th>2</th>\n",
       "      <th>3</th>\n",
       "      <th>4</th>\n",
       "      <th>5</th>\n",
       "      <th>6</th>\n",
       "      <th>7</th>\n",
       "      <th>8</th>\n",
       "      <th>9</th>\n",
       "      <th>all_cnt</th>\n",
       "      <th>age</th>\n",
       "    </tr>\n",
       "  </thead>\n",
       "  <tbody>\n",
       "    <tr>\n",
       "      <th>0</th>\n",
       "      <td>000000013CB5719C0000A2C90002C101</td>\n",
       "      <td>1927.0</td>\n",
       "      <td>4038.0</td>\n",
       "      <td>25757.0</td>\n",
       "      <td>32043.0</td>\n",
       "      <td>21801.0</td>\n",
       "      <td>11898.0</td>\n",
       "      <td>4189.0</td>\n",
       "      <td>764.0</td>\n",
       "      <td>144.0</td>\n",
       "      <td>98.0</td>\n",
       "      <td>102659.0</td>\n",
       "      <td>53</td>\n",
       "    </tr>\n",
       "    <tr>\n",
       "      <th>1</th>\n",
       "      <td>00000001442BE24000001B7D00F50801</td>\n",
       "      <td>3786.0</td>\n",
       "      <td>3830.0</td>\n",
       "      <td>30596.0</td>\n",
       "      <td>57843.0</td>\n",
       "      <td>51875.0</td>\n",
       "      <td>35438.0</td>\n",
       "      <td>14918.0</td>\n",
       "      <td>2716.0</td>\n",
       "      <td>490.0</td>\n",
       "      <td>283.0</td>\n",
       "      <td>201775.0</td>\n",
       "      <td>48</td>\n",
       "    </tr>\n",
       "    <tr>\n",
       "      <th>2</th>\n",
       "      <td>00000001448580F800003F1B31FB0901</td>\n",
       "      <td>0.0</td>\n",
       "      <td>1.0</td>\n",
       "      <td>2.0</td>\n",
       "      <td>0.0</td>\n",
       "      <td>0.0</td>\n",
       "      <td>0.0</td>\n",
       "      <td>0.0</td>\n",
       "      <td>0.0</td>\n",
       "      <td>0.0</td>\n",
       "      <td>0.0</td>\n",
       "      <td>3.0</td>\n",
       "      <td>28</td>\n",
       "    </tr>\n",
       "    <tr>\n",
       "      <th>3</th>\n",
       "      <td>0000000145BDB2FF000157971645E901</td>\n",
       "      <td>155.0</td>\n",
       "      <td>273.0</td>\n",
       "      <td>2258.0</td>\n",
       "      <td>2976.0</td>\n",
       "      <td>2066.0</td>\n",
       "      <td>1246.0</td>\n",
       "      <td>442.0</td>\n",
       "      <td>64.0</td>\n",
       "      <td>6.0</td>\n",
       "      <td>7.0</td>\n",
       "      <td>9493.0</td>\n",
       "      <td>44</td>\n",
       "    </tr>\n",
       "    <tr>\n",
       "      <th>4</th>\n",
       "      <td>000000014602771F0000DB9359714C01</td>\n",
       "      <td>65.0</td>\n",
       "      <td>156.0</td>\n",
       "      <td>1247.0</td>\n",
       "      <td>1351.0</td>\n",
       "      <td>804.0</td>\n",
       "      <td>449.0</td>\n",
       "      <td>113.0</td>\n",
       "      <td>28.0</td>\n",
       "      <td>5.0</td>\n",
       "      <td>1.0</td>\n",
       "      <td>4219.0</td>\n",
       "      <td>48</td>\n",
       "    </tr>\n",
       "  </tbody>\n",
       "</table>\n",
       "</div>"
      ],
      "text/plain": [
       "                                 Id       0       1        2        3  \\\n",
       "0  000000013CB5719C0000A2C90002C101  1927.0  4038.0  25757.0  32043.0   \n",
       "1  00000001442BE24000001B7D00F50801  3786.0  3830.0  30596.0  57843.0   \n",
       "2  00000001448580F800003F1B31FB0901     0.0     1.0      2.0      0.0   \n",
       "3  0000000145BDB2FF000157971645E901   155.0   273.0   2258.0   2976.0   \n",
       "4  000000014602771F0000DB9359714C01    65.0   156.0   1247.0   1351.0   \n",
       "\n",
       "         4        5        6       7      8      9   all_cnt  age  \n",
       "0  21801.0  11898.0   4189.0   764.0  144.0   98.0  102659.0   53  \n",
       "1  51875.0  35438.0  14918.0  2716.0  490.0  283.0  201775.0   48  \n",
       "2      0.0      0.0      0.0     0.0    0.0    0.0       3.0   28  \n",
       "3   2066.0   1246.0    442.0    64.0    6.0    7.0    9493.0   44  \n",
       "4    804.0    449.0    113.0    28.0    5.0    1.0    4219.0   48  "
      ]
     },
     "execution_count": 179,
     "metadata": {},
     "output_type": "execute_result"
    }
   ],
   "source": [
    "allset.head()"
   ]
  },
  {
   "cell_type": "code",
   "execution_count": null,
   "metadata": {
    "collapsed": true
   },
   "outputs": [],
   "source": []
  },
  {
   "cell_type": "code",
   "execution_count": 184,
   "metadata": {
    "collapsed": true
   },
   "outputs": [],
   "source": [
    "normed_probs = pd.concat([allset[allset.columns[:1]], allset[allset.columns[1:-2]].div(allset.all_cnt, axis='rows'),], axis=1)"
   ]
  },
  {
   "cell_type": "code",
   "execution_count": 185,
   "metadata": {
    "collapsed": false
   },
   "outputs": [
    {
     "data": {
      "text/html": [
       "<div>\n",
       "<table border=\"1\" class=\"dataframe\">\n",
       "  <thead>\n",
       "    <tr style=\"text-align: right;\">\n",
       "      <th></th>\n",
       "      <th>Id</th>\n",
       "      <th>0</th>\n",
       "      <th>1</th>\n",
       "      <th>2</th>\n",
       "      <th>3</th>\n",
       "      <th>4</th>\n",
       "      <th>5</th>\n",
       "      <th>6</th>\n",
       "      <th>7</th>\n",
       "      <th>8</th>\n",
       "      <th>9</th>\n",
       "    </tr>\n",
       "  </thead>\n",
       "  <tbody>\n",
       "    <tr>\n",
       "      <th>0</th>\n",
       "      <td>000000013CB5719C0000A2C90002C101</td>\n",
       "      <td>0.018771</td>\n",
       "      <td>0.039334</td>\n",
       "      <td>0.250899</td>\n",
       "      <td>0.312130</td>\n",
       "      <td>0.212363</td>\n",
       "      <td>0.115898</td>\n",
       "      <td>0.040805</td>\n",
       "      <td>0.007442</td>\n",
       "      <td>0.001403</td>\n",
       "      <td>0.000955</td>\n",
       "    </tr>\n",
       "    <tr>\n",
       "      <th>1</th>\n",
       "      <td>00000001442BE24000001B7D00F50801</td>\n",
       "      <td>0.018763</td>\n",
       "      <td>0.018982</td>\n",
       "      <td>0.151634</td>\n",
       "      <td>0.286671</td>\n",
       "      <td>0.257093</td>\n",
       "      <td>0.175631</td>\n",
       "      <td>0.073934</td>\n",
       "      <td>0.013461</td>\n",
       "      <td>0.002428</td>\n",
       "      <td>0.001403</td>\n",
       "    </tr>\n",
       "    <tr>\n",
       "      <th>2</th>\n",
       "      <td>00000001448580F800003F1B31FB0901</td>\n",
       "      <td>0.000000</td>\n",
       "      <td>0.333333</td>\n",
       "      <td>0.666667</td>\n",
       "      <td>0.000000</td>\n",
       "      <td>0.000000</td>\n",
       "      <td>0.000000</td>\n",
       "      <td>0.000000</td>\n",
       "      <td>0.000000</td>\n",
       "      <td>0.000000</td>\n",
       "      <td>0.000000</td>\n",
       "    </tr>\n",
       "    <tr>\n",
       "      <th>3</th>\n",
       "      <td>0000000145BDB2FF000157971645E901</td>\n",
       "      <td>0.016328</td>\n",
       "      <td>0.028758</td>\n",
       "      <td>0.237859</td>\n",
       "      <td>0.313494</td>\n",
       "      <td>0.217634</td>\n",
       "      <td>0.131255</td>\n",
       "      <td>0.046561</td>\n",
       "      <td>0.006742</td>\n",
       "      <td>0.000632</td>\n",
       "      <td>0.000737</td>\n",
       "    </tr>\n",
       "    <tr>\n",
       "      <th>4</th>\n",
       "      <td>000000014602771F0000DB9359714C01</td>\n",
       "      <td>0.015406</td>\n",
       "      <td>0.036976</td>\n",
       "      <td>0.295568</td>\n",
       "      <td>0.320218</td>\n",
       "      <td>0.190566</td>\n",
       "      <td>0.106423</td>\n",
       "      <td>0.026784</td>\n",
       "      <td>0.006637</td>\n",
       "      <td>0.001185</td>\n",
       "      <td>0.000237</td>\n",
       "    </tr>\n",
       "  </tbody>\n",
       "</table>\n",
       "</div>"
      ],
      "text/plain": [
       "                                 Id         0         1         2         3  \\\n",
       "0  000000013CB5719C0000A2C90002C101  0.018771  0.039334  0.250899  0.312130   \n",
       "1  00000001442BE24000001B7D00F50801  0.018763  0.018982  0.151634  0.286671   \n",
       "2  00000001448580F800003F1B31FB0901  0.000000  0.333333  0.666667  0.000000   \n",
       "3  0000000145BDB2FF000157971645E901  0.016328  0.028758  0.237859  0.313494   \n",
       "4  000000014602771F0000DB9359714C01  0.015406  0.036976  0.295568  0.320218   \n",
       "\n",
       "          4         5         6         7         8         9  \n",
       "0  0.212363  0.115898  0.040805  0.007442  0.001403  0.000955  \n",
       "1  0.257093  0.175631  0.073934  0.013461  0.002428  0.001403  \n",
       "2  0.000000  0.000000  0.000000  0.000000  0.000000  0.000000  \n",
       "3  0.217634  0.131255  0.046561  0.006742  0.000632  0.000737  \n",
       "4  0.190566  0.106423  0.026784  0.006637  0.001185  0.000237  "
      ]
     },
     "execution_count": 185,
     "metadata": {},
     "output_type": "execute_result"
    }
   ],
   "source": [
    "normed_probs.head()"
   ]
  },
  {
   "cell_type": "code",
   "execution_count": 187,
   "metadata": {
    "collapsed": false
   },
   "outputs": [
    {
     "data": {
      "text/plain": [
       "(118679, 11)"
      ]
     },
     "execution_count": 187,
     "metadata": {},
     "output_type": "execute_result"
    }
   ],
   "source": [
    "normed_probs.shape"
   ]
  },
  {
   "cell_type": "code",
   "execution_count": 188,
   "metadata": {
    "collapsed": true
   },
   "outputs": [],
   "source": [
    "normed_probs = normed_probs.fillna(0.0)"
   ]
  },
  {
   "cell_type": "code",
   "execution_count": 189,
   "metadata": {
    "collapsed": true
   },
   "outputs": [],
   "source": [
    "normed_probs = normed_probs.sort_values(by=\"Id\")"
   ]
  },
  {
   "cell_type": "code",
   "execution_count": null,
   "metadata": {
    "collapsed": true
   },
   "outputs": [],
   "source": []
  },
  {
   "cell_type": "code",
   "execution_count": 190,
   "metadata": {
    "collapsed": false
   },
   "outputs": [],
   "source": [
    "## учтем и каунты тоже\n",
    "urls_train_df.url = urls_train_df.url.apply(lambda x: \".\".join(x.split(\".\")[:-1]))\n",
    "urls_train_df.url = urls_train_df.url.apply(lambda x: x+\" \")\n",
    "urls_train_df.url = urls_train_df.url.multiply(urls_train_df.Count)\n",
    "urls_train_df.url = urls_train_df.url.apply(lambda x: x.strip())\n",
    "urls_train_df.url = urls_train_df.url.apply(lambda x: ' '.join(x.split(' ')))"
   ]
  },
  {
   "cell_type": "code",
   "execution_count": 191,
   "metadata": {
    "collapsed": false
   },
   "outputs": [],
   "source": [
    "urls_train_df = pd.DataFrame(urls_train_df.groupby('Id')['url'].apply(lambda x: x.tolist()))\n",
    "urls_train_df['Id'] = urls_train_df.index\n",
    "urls_train_df.index = range(len(urls_train_df))\n",
    "urls_train_df.columns = ['urls', 'Id']"
   ]
  },
  {
   "cell_type": "code",
   "execution_count": 192,
   "metadata": {
    "collapsed": true
   },
   "outputs": [],
   "source": [
    "urls_train_df.urls = urls_train_df.urls.apply(lambda x: ' '.join(x))"
   ]
  },
  {
   "cell_type": "code",
   "execution_count": 193,
   "metadata": {
    "collapsed": false
   },
   "outputs": [
    {
     "data": {
      "text/html": [
       "<div>\n",
       "<table border=\"1\" class=\"dataframe\">\n",
       "  <thead>\n",
       "    <tr style=\"text-align: right;\">\n",
       "      <th></th>\n",
       "      <th>urls</th>\n",
       "      <th>Id</th>\n",
       "    </tr>\n",
       "  </thead>\n",
       "  <tbody>\n",
       "    <tr>\n",
       "      <th>0</th>\n",
       "      <td>id.rambler mail.rambler r0</td>\n",
       "      <td>000000013CB5719C0000A2C90002C101</td>\n",
       "    </tr>\n",
       "    <tr>\n",
       "      <th>1</th>\n",
       "      <td>1prime autorambler chellak docs.cntd docs.cntd...</td>\n",
       "      <td>00000001442BE24000001B7D00F50801</td>\n",
       "    </tr>\n",
       "    <tr>\n",
       "      <th>2</th>\n",
       "      <td>bosch-korolev</td>\n",
       "      <td>00000001448580F800003F1B31FB0901</td>\n",
       "    </tr>\n",
       "    <tr>\n",
       "      <th>3</th>\n",
       "      <td>aptekanizkihcen colady gorod.dp i.ovkuse love....</td>\n",
       "      <td>0000000145BDB2FF000157971645E901</td>\n",
       "    </tr>\n",
       "    <tr>\n",
       "      <th>4</th>\n",
       "      <td>astrorok diets edaplus eshzdorovo gotovim inmo...</td>\n",
       "      <td>000000014602771F0000DB9359714C01</td>\n",
       "    </tr>\n",
       "  </tbody>\n",
       "</table>\n",
       "</div>"
      ],
      "text/plain": [
       "                                                urls  \\\n",
       "0                         id.rambler mail.rambler r0   \n",
       "1  1prime autorambler chellak docs.cntd docs.cntd...   \n",
       "2                                      bosch-korolev   \n",
       "3  aptekanizkihcen colady gorod.dp i.ovkuse love....   \n",
       "4  astrorok diets edaplus eshzdorovo gotovim inmo...   \n",
       "\n",
       "                                 Id  \n",
       "0  000000013CB5719C0000A2C90002C101  \n",
       "1  00000001442BE24000001B7D00F50801  \n",
       "2  00000001448580F800003F1B31FB0901  \n",
       "3  0000000145BDB2FF000157971645E901  \n",
       "4  000000014602771F0000DB9359714C01  "
      ]
     },
     "execution_count": 193,
     "metadata": {},
     "output_type": "execute_result"
    }
   ],
   "source": [
    "urls_train_df.head()"
   ]
  },
  {
   "cell_type": "markdown",
   "metadata": {},
   "source": [
    "#### загрузим данные по возрасту"
   ]
  },
  {
   "cell_type": "code",
   "execution_count": 10,
   "metadata": {
    "collapsed": true
   },
   "outputs": [],
   "source": [
    "age_train_df = pd.read_csv('data/age_profile_train', header=None, delimiter='\\t')\n",
    "age_train_df.columns = ['Id', 'age']"
   ]
  },
  {
   "cell_type": "code",
   "execution_count": 194,
   "metadata": {
    "collapsed": false
   },
   "outputs": [],
   "source": [
    "train_df_title = titles_train1.merge(age_train_df, on='Id', how='outer')\n",
    "#train_df_urls = urls_train_df.merge(age_train_df, on='Id', how='left')\n",
    "\n",
    "train_df = train_df_title.merge(urls_train_df, on='Id', how='outer')\n",
    "train_df = train_df.merge(normed_probs, how=\"left\")"
   ]
  },
  {
   "cell_type": "code",
   "execution_count": 195,
   "metadata": {
    "collapsed": false
   },
   "outputs": [
    {
     "data": {
      "text/plain": [
       "(118679, 14)"
      ]
     },
     "execution_count": 195,
     "metadata": {},
     "output_type": "execute_result"
    }
   ],
   "source": [
    "train_df.shape"
   ]
  },
  {
   "cell_type": "code",
   "execution_count": 199,
   "metadata": {
    "collapsed": false
   },
   "outputs": [
    {
     "data": {
      "text/html": [
       "<div>\n",
       "<table border=\"1\" class=\"dataframe\">\n",
       "  <thead>\n",
       "    <tr style=\"text-align: right;\">\n",
       "      <th></th>\n",
       "      <th>Id</th>\n",
       "      <th>title</th>\n",
       "      <th>age</th>\n",
       "      <th>urls</th>\n",
       "      <th>0</th>\n",
       "      <th>1</th>\n",
       "      <th>2</th>\n",
       "      <th>3</th>\n",
       "      <th>4</th>\n",
       "      <th>5</th>\n",
       "      <th>6</th>\n",
       "      <th>7</th>\n",
       "      <th>8</th>\n",
       "      <th>9</th>\n",
       "    </tr>\n",
       "  </thead>\n",
       "  <tbody>\n",
       "  </tbody>\n",
       "</table>\n",
       "</div>"
      ],
      "text/plain": [
       "Empty DataFrame\n",
       "Columns: [Id, title, age, urls, 0, 1, 2, 3, 4, 5, 6, 7, 8, 9]\n",
       "Index: []"
      ]
     },
     "execution_count": 199,
     "metadata": {},
     "output_type": "execute_result"
    }
   ],
   "source": [
    "train_df[pd.isnull(train_df.urls)].head()"
   ]
  },
  {
   "cell_type": "code",
   "execution_count": 197,
   "metadata": {
    "collapsed": false
   },
   "outputs": [],
   "source": [
    "train_df.urls.fillna('', inplace=True)"
   ]
  },
  {
   "cell_type": "code",
   "execution_count": 201,
   "metadata": {
    "collapsed": false
   },
   "outputs": [
    {
     "data": {
      "text/html": [
       "<div>\n",
       "<table border=\"1\" class=\"dataframe\">\n",
       "  <thead>\n",
       "    <tr style=\"text-align: right;\">\n",
       "      <th></th>\n",
       "      <th>Id</th>\n",
       "      <th>title</th>\n",
       "      <th>age</th>\n",
       "      <th>urls</th>\n",
       "      <th>0</th>\n",
       "      <th>1</th>\n",
       "      <th>2</th>\n",
       "      <th>3</th>\n",
       "      <th>4</th>\n",
       "      <th>5</th>\n",
       "      <th>6</th>\n",
       "      <th>7</th>\n",
       "      <th>8</th>\n",
       "      <th>9</th>\n",
       "    </tr>\n",
       "  </thead>\n",
       "  <tbody>\n",
       "  </tbody>\n",
       "</table>\n",
       "</div>"
      ],
      "text/plain": [
       "Empty DataFrame\n",
       "Columns: [Id, title, age, urls, 0, 1, 2, 3, 4, 5, 6, 7, 8, 9]\n",
       "Index: []"
      ]
     },
     "execution_count": 201,
     "metadata": {},
     "output_type": "execute_result"
    }
   ],
   "source": [
    "train_df[pd.isnull(train_df.title)].head()"
   ]
  },
  {
   "cell_type": "code",
   "execution_count": 200,
   "metadata": {
    "collapsed": true
   },
   "outputs": [],
   "source": [
    "train_df.title.fillna('', inplace=True)"
   ]
  },
  {
   "cell_type": "code",
   "execution_count": null,
   "metadata": {
    "collapsed": true
   },
   "outputs": [],
   "source": []
  },
  {
   "cell_type": "code",
   "execution_count": 203,
   "metadata": {
    "collapsed": true
   },
   "outputs": [
    {
     "data": {
      "text/html": [
       "<div>\n",
       "<table border=\"1\" class=\"dataframe\">\n",
       "  <thead>\n",
       "    <tr style=\"text-align: right;\">\n",
       "      <th></th>\n",
       "      <th>Id</th>\n",
       "      <th>title</th>\n",
       "      <th>age</th>\n",
       "      <th>urls</th>\n",
       "      <th>0</th>\n",
       "      <th>1</th>\n",
       "      <th>2</th>\n",
       "      <th>3</th>\n",
       "      <th>4</th>\n",
       "      <th>5</th>\n",
       "      <th>6</th>\n",
       "      <th>7</th>\n",
       "      <th>8</th>\n",
       "      <th>9</th>\n",
       "    </tr>\n",
       "  </thead>\n",
       "  <tbody>\n",
       "    <tr>\n",
       "      <th>0</th>\n",
       "      <td>000000013CB5719C0000A2C90002C101</td>\n",
       "      <td>бесплатный надёжный почта рамблер электронный ...</td>\n",
       "      <td>53</td>\n",
       "      <td>id.rambler mail.rambler r0</td>\n",
       "      <td>0.018771</td>\n",
       "      <td>0.039334</td>\n",
       "      <td>0.250899</td>\n",
       "      <td>0.312130</td>\n",
       "      <td>0.212363</td>\n",
       "      <td>0.115898</td>\n",
       "      <td>0.040805</td>\n",
       "      <td>0.007442</td>\n",
       "      <td>0.001403</td>\n",
       "      <td>0.000955</td>\n",
       "    </tr>\n",
       "    <tr>\n",
       "      <th>1</th>\n",
       "      <td>00000001442BE24000001B7D00F50801</td>\n",
       "      <td>24-х 34-х до договор неделя новость предложить...</td>\n",
       "      <td>48</td>\n",
       "      <td>1prime autorambler chellak docs.cntd docs.cntd...</td>\n",
       "      <td>0.018763</td>\n",
       "      <td>0.018982</td>\n",
       "      <td>0.151634</td>\n",
       "      <td>0.286671</td>\n",
       "      <td>0.257093</td>\n",
       "      <td>0.175631</td>\n",
       "      <td>0.073934</td>\n",
       "      <td>0.013461</td>\n",
       "      <td>0.002428</td>\n",
       "      <td>0.001403</td>\n",
       "    </tr>\n",
       "    <tr>\n",
       "      <th>2</th>\n",
       "      <td>00000001448580F800003F1B31FB0901</td>\n",
       "      <td>авто бош контакт королёв сервис авто бош корол...</td>\n",
       "      <td>28</td>\n",
       "      <td>bosch-korolev</td>\n",
       "      <td>0.000000</td>\n",
       "      <td>0.333333</td>\n",
       "      <td>0.666667</td>\n",
       "      <td>0.000000</td>\n",
       "      <td>0.000000</td>\n",
       "      <td>0.000000</td>\n",
       "      <td>0.000000</td>\n",
       "      <td>0.000000</td>\n",
       "      <td>0.000000</td>\n",
       "      <td>0.000000</td>\n",
       "    </tr>\n",
       "    <tr>\n",
       "      <th>3</th>\n",
       "      <td>0000000145BDB2FF000157971645E901</td>\n",
       "      <td>ua втрать війни донбасі за на новини озвучить ...</td>\n",
       "      <td>44</td>\n",
       "      <td>aptekanizkihcen colady gorod.dp i.ovkuse love....</td>\n",
       "      <td>0.016328</td>\n",
       "      <td>0.028758</td>\n",
       "      <td>0.237859</td>\n",
       "      <td>0.313494</td>\n",
       "      <td>0.217634</td>\n",
       "      <td>0.131255</td>\n",
       "      <td>0.046561</td>\n",
       "      <td>0.006742</td>\n",
       "      <td>0.000632</td>\n",
       "      <td>0.000737</td>\n",
       "    </tr>\n",
       "    <tr>\n",
       "      <th>4</th>\n",
       "      <td>000000014602771F0000DB9359714C01</td>\n",
       "      <td>black walnut грецкий орех чёрный inmoment ru w...</td>\n",
       "      <td>48</td>\n",
       "      <td>astrorok diets edaplus eshzdorovo gotovim inmo...</td>\n",
       "      <td>0.015406</td>\n",
       "      <td>0.036976</td>\n",
       "      <td>0.295568</td>\n",
       "      <td>0.320218</td>\n",
       "      <td>0.190566</td>\n",
       "      <td>0.106423</td>\n",
       "      <td>0.026784</td>\n",
       "      <td>0.006637</td>\n",
       "      <td>0.001185</td>\n",
       "      <td>0.000237</td>\n",
       "    </tr>\n",
       "  </tbody>\n",
       "</table>\n",
       "</div>"
      ],
      "text/plain": [
       "                                 Id  \\\n",
       "0  000000013CB5719C0000A2C90002C101   \n",
       "1  00000001442BE24000001B7D00F50801   \n",
       "2  00000001448580F800003F1B31FB0901   \n",
       "3  0000000145BDB2FF000157971645E901   \n",
       "4  000000014602771F0000DB9359714C01   \n",
       "\n",
       "                                               title  age  \\\n",
       "0  бесплатный надёжный почта рамблер электронный ...   53   \n",
       "1  24-х 34-х до договор неделя новость предложить...   48   \n",
       "2  авто бош контакт королёв сервис авто бош корол...   28   \n",
       "3  ua втрать війни донбасі за на новини озвучить ...   44   \n",
       "4  black walnut грецкий орех чёрный inmoment ru w...   48   \n",
       "\n",
       "                                                urls         0         1  \\\n",
       "0                         id.rambler mail.rambler r0  0.018771  0.039334   \n",
       "1  1prime autorambler chellak docs.cntd docs.cntd...  0.018763  0.018982   \n",
       "2                                      bosch-korolev  0.000000  0.333333   \n",
       "3  aptekanizkihcen colady gorod.dp i.ovkuse love....  0.016328  0.028758   \n",
       "4  astrorok diets edaplus eshzdorovo gotovim inmo...  0.015406  0.036976   \n",
       "\n",
       "          2         3         4         5         6         7         8  \\\n",
       "0  0.250899  0.312130  0.212363  0.115898  0.040805  0.007442  0.001403   \n",
       "1  0.151634  0.286671  0.257093  0.175631  0.073934  0.013461  0.002428   \n",
       "2  0.666667  0.000000  0.000000  0.000000  0.000000  0.000000  0.000000   \n",
       "3  0.237859  0.313494  0.217634  0.131255  0.046561  0.006742  0.000632   \n",
       "4  0.295568  0.320218  0.190566  0.106423  0.026784  0.006637  0.001185   \n",
       "\n",
       "          9  \n",
       "0  0.000955  \n",
       "1  0.001403  \n",
       "2  0.000000  \n",
       "3  0.000737  \n",
       "4  0.000237  "
      ]
     },
     "execution_count": 203,
     "metadata": {},
     "output_type": "execute_result"
    }
   ],
   "source": [
    "train_df.head()"
   ]
  },
  {
   "cell_type": "code",
   "execution_count": null,
   "metadata": {
    "collapsed": true
   },
   "outputs": [],
   "source": []
  },
  {
   "cell_type": "markdown",
   "metadata": {
    "collapsed": true
   },
   "source": [
    "проделаем то же с тестовым сетом"
   ]
  },
  {
   "cell_type": "code",
   "execution_count": 202,
   "metadata": {
    "collapsed": true
   },
   "outputs": [],
   "source": [
    "titles_test = pd.read_csv(\"data/title_unify_test\", sep=\"\\t\", header=None,encoding='utf-8')\n",
    "titles_test.columns = [\"Id\", \"title\", \"count\"]\n",
    "titles_test1 = pd.DataFrame(titles_test.groupby(\"Id\")['title'].apply(lambda x: x.tolist()))\n",
    "titles_test1.title = titles_test1.title.apply(lambda x: \" \".join(x))"
   ]
  },
  {
   "cell_type": "code",
   "execution_count": 204,
   "metadata": {
    "collapsed": false
   },
   "outputs": [
    {
     "data": {
      "text/html": [
       "<div>\n",
       "<table border=\"1\" class=\"dataframe\">\n",
       "  <thead>\n",
       "    <tr style=\"text-align: right;\">\n",
       "      <th></th>\n",
       "      <th>Id</th>\n",
       "      <th>title</th>\n",
       "    </tr>\n",
       "  </thead>\n",
       "  <tbody>\n",
       "    <tr>\n",
       "      <th>0</th>\n",
       "      <td>000000014A02348E701552980349FF01</td>\n",
       "      <td>11-й гектар дом коммунизм на набережная недост...</td>\n",
       "    </tr>\n",
       "    <tr>\n",
       "      <th>1</th>\n",
       "      <td>000000014A10EA183BF8594A0B2AB201</td>\n",
       "      <td>20-летний выглядеть девушка как королева наташ...</td>\n",
       "    </tr>\n",
       "    <tr>\n",
       "      <th>2</th>\n",
       "      <td>000000014A4FE5C33A929D4C26943601</td>\n",
       "      <td>медийный портал рамблер</td>\n",
       "    </tr>\n",
       "    <tr>\n",
       "      <th>3</th>\n",
       "      <td>000000014B7BB9957784A9BC0AC9F401</td>\n",
       "      <td>бесплатно код онлайн срочно статистика или инн...</td>\n",
       "    </tr>\n",
       "    <tr>\n",
       "      <th>4</th>\n",
       "      <td>000000014C7749F896D82C2B01E8B801</td>\n",
       "      <td>bank privat автокредитование банковский банком...</td>\n",
       "    </tr>\n",
       "  </tbody>\n",
       "</table>\n",
       "</div>"
      ],
      "text/plain": [
       "                                 Id  \\\n",
       "0  000000014A02348E701552980349FF01   \n",
       "1  000000014A10EA183BF8594A0B2AB201   \n",
       "2  000000014A4FE5C33A929D4C26943601   \n",
       "3  000000014B7BB9957784A9BC0AC9F401   \n",
       "4  000000014C7749F896D82C2B01E8B801   \n",
       "\n",
       "                                               title  \n",
       "0  11-й гектар дом коммунизм на набережная недост...  \n",
       "1  20-летний выглядеть девушка как королева наташ...  \n",
       "2                            медийный портал рамблер  \n",
       "3  бесплатно код онлайн срочно статистика или инн...  \n",
       "4  bank privat автокредитование банковский банком...  "
      ]
     },
     "execution_count": 204,
     "metadata": {},
     "output_type": "execute_result"
    }
   ],
   "source": [
    "titles_test1 = titles_test1.reset_index()\n",
    "titles_test1.head()"
   ]
  },
  {
   "cell_type": "code",
   "execution_count": 205,
   "metadata": {
    "collapsed": true
   },
   "outputs": [],
   "source": [
    "urls_test_df = pd.read_csv('data/url_domain_test', header=None, delimiter='\\t')\n",
    "urls_test_df.columns = ['Id', 'url', 'Count']"
   ]
  },
  {
   "cell_type": "code",
   "execution_count": 206,
   "metadata": {
    "collapsed": true
   },
   "outputs": [],
   "source": [
    "urls_test_df.url = urls_test_df.url.apply(lambda x: \".\".join(x.split(\".\")[:-1]))\n",
    "urls_test_df.url = urls_test_df.url.apply(lambda x: x+\" \")\n",
    "urls_test_df.url = urls_test_df.url.multiply(urls_test_df.Count)\n",
    "urls_test_df.url = urls_test_df.url.apply(lambda x: x.strip())\n",
    "urls_test_df.url = urls_test_df.url.apply(lambda x: ' '.join(x.split(' ')))"
   ]
  },
  {
   "cell_type": "code",
   "execution_count": 207,
   "metadata": {
    "collapsed": true
   },
   "outputs": [],
   "source": [
    "urls_test_df = pd.DataFrame(urls_test_df.groupby('Id')['url'].apply(lambda x: x.tolist()))\n",
    "urls_test_df['Id'] = urls_test_df.index\n",
    "urls_test_df.index = range(len(urls_test_df))\n",
    "urls_test_df.columns = ['urls', 'Id']"
   ]
  },
  {
   "cell_type": "code",
   "execution_count": 208,
   "metadata": {
    "collapsed": true
   },
   "outputs": [],
   "source": [
    "urls_test_df.urls = urls_test_df.urls.apply(lambda x: ' '.join(x))"
   ]
  },
  {
   "cell_type": "code",
   "execution_count": 209,
   "metadata": {
    "collapsed": false
   },
   "outputs": [
    {
     "data": {
      "text/html": [
       "<div>\n",
       "<table border=\"1\" class=\"dataframe\">\n",
       "  <thead>\n",
       "    <tr style=\"text-align: right;\">\n",
       "      <th></th>\n",
       "      <th>urls</th>\n",
       "      <th>Id</th>\n",
       "    </tr>\n",
       "  </thead>\n",
       "  <tbody>\n",
       "    <tr>\n",
       "      <th>0</th>\n",
       "      <td>1000bankov 1tv 1tv 1tv 1tv 1tv 1tv 1tv 1tv 4pu...</td>\n",
       "      <td>000000014A02348E701552980349FF01</td>\n",
       "    </tr>\n",
       "    <tr>\n",
       "      <th>1</th>\n",
       "      <td>autorambler bilettorg dsol-druzhba family.ramb...</td>\n",
       "      <td>000000014A10EA183BF8594A0B2AB201</td>\n",
       "    </tr>\n",
       "    <tr>\n",
       "      <th>2</th>\n",
       "      <td>photosight photosight photosight photosight ph...</td>\n",
       "      <td>000000014A4FE5C33A929D4C26943601</td>\n",
       "    </tr>\n",
       "    <tr>\n",
       "      <th>3</th>\n",
       "      <td>base.consultant dogovor-obrazets fd mail.rambl...</td>\n",
       "      <td>000000014B7BB9957784A9BC0AC9F401</td>\n",
       "    </tr>\n",
       "    <tr>\n",
       "      <th>4</th>\n",
       "      <td>assessor assessor audit-it base.garant compsam...</td>\n",
       "      <td>000000014C7749F896D82C2B01E8B801</td>\n",
       "    </tr>\n",
       "  </tbody>\n",
       "</table>\n",
       "</div>"
      ],
      "text/plain": [
       "                                                urls  \\\n",
       "0  1000bankov 1tv 1tv 1tv 1tv 1tv 1tv 1tv 1tv 4pu...   \n",
       "1  autorambler bilettorg dsol-druzhba family.ramb...   \n",
       "2  photosight photosight photosight photosight ph...   \n",
       "3  base.consultant dogovor-obrazets fd mail.rambl...   \n",
       "4  assessor assessor audit-it base.garant compsam...   \n",
       "\n",
       "                                 Id  \n",
       "0  000000014A02348E701552980349FF01  \n",
       "1  000000014A10EA183BF8594A0B2AB201  \n",
       "2  000000014A4FE5C33A929D4C26943601  \n",
       "3  000000014B7BB9957784A9BC0AC9F401  \n",
       "4  000000014C7749F896D82C2B01E8B801  "
      ]
     },
     "execution_count": 209,
     "metadata": {},
     "output_type": "execute_result"
    }
   ],
   "source": [
    "urls_test_df.head()"
   ]
  },
  {
   "cell_type": "code",
   "execution_count": 218,
   "metadata": {
    "collapsed": false,
    "scrolled": true
   },
   "outputs": [
    {
     "data": {
      "text/html": [
       "<div>\n",
       "<table border=\"1\" class=\"dataframe\">\n",
       "  <thead>\n",
       "    <tr style=\"text-align: right;\">\n",
       "      <th></th>\n",
       "      <th>Id</th>\n",
       "      <th>title</th>\n",
       "      <th>urls</th>\n",
       "    </tr>\n",
       "  </thead>\n",
       "  <tbody>\n",
       "    <tr>\n",
       "      <th>0</th>\n",
       "      <td>000000014A02348E701552980349FF01</td>\n",
       "      <td>11-й гектар дом коммунизм на набережная недост...</td>\n",
       "      <td>1000bankov 1tv 1tv 1tv 1tv 1tv 1tv 1tv 1tv 4pu...</td>\n",
       "    </tr>\n",
       "    <tr>\n",
       "      <th>1</th>\n",
       "      <td>000000014A10EA183BF8594A0B2AB201</td>\n",
       "      <td>20-летний выглядеть девушка как королева наташ...</td>\n",
       "      <td>autorambler bilettorg dsol-druzhba family.ramb...</td>\n",
       "    </tr>\n",
       "    <tr>\n",
       "      <th>2</th>\n",
       "      <td>000000014A4FE5C33A929D4C26943601</td>\n",
       "      <td>медийный портал рамблер</td>\n",
       "      <td>photosight photosight photosight photosight ph...</td>\n",
       "    </tr>\n",
       "    <tr>\n",
       "      <th>3</th>\n",
       "      <td>000000014B7BB9957784A9BC0AC9F401</td>\n",
       "      <td>бесплатно код онлайн срочно статистика или инн...</td>\n",
       "      <td>base.consultant dogovor-obrazets fd mail.rambl...</td>\n",
       "    </tr>\n",
       "    <tr>\n",
       "      <th>4</th>\n",
       "      <td>000000014C7749F896D82C2B01E8B801</td>\n",
       "      <td>bank privat автокредитование банковский банком...</td>\n",
       "      <td>assessor assessor audit-it base.garant compsam...</td>\n",
       "    </tr>\n",
       "  </tbody>\n",
       "</table>\n",
       "</div>"
      ],
      "text/plain": [
       "                                 Id  \\\n",
       "0  000000014A02348E701552980349FF01   \n",
       "1  000000014A10EA183BF8594A0B2AB201   \n",
       "2  000000014A4FE5C33A929D4C26943601   \n",
       "3  000000014B7BB9957784A9BC0AC9F401   \n",
       "4  000000014C7749F896D82C2B01E8B801   \n",
       "\n",
       "                                               title  \\\n",
       "0  11-й гектар дом коммунизм на набережная недост...   \n",
       "1  20-летний выглядеть девушка как королева наташ...   \n",
       "2                            медийный портал рамблер   \n",
       "3  бесплатно код онлайн срочно статистика или инн...   \n",
       "4  bank privat автокредитование банковский банком...   \n",
       "\n",
       "                                                urls  \n",
       "0  1000bankov 1tv 1tv 1tv 1tv 1tv 1tv 1tv 1tv 4pu...  \n",
       "1  autorambler bilettorg dsol-druzhba family.ramb...  \n",
       "2  photosight photosight photosight photosight ph...  \n",
       "3  base.consultant dogovor-obrazets fd mail.rambl...  \n",
       "4  assessor assessor audit-it base.garant compsam...  "
      ]
     },
     "execution_count": 218,
     "metadata": {},
     "output_type": "execute_result"
    }
   ],
   "source": [
    "test_df = titles_test1.merge(urls_test_df, on='Id', how='outer')\n",
    "#test_df = test_df.merge(normed_probs, how=\"left\")\n",
    "test_df.head()"
   ]
  },
  {
   "cell_type": "code",
   "execution_count": 554,
   "metadata": {
    "collapsed": false
   },
   "outputs": [
    {
     "data": {
      "text/html": [
       "<div>\n",
       "<table border=\"1\" class=\"dataframe\">\n",
       "  <thead>\n",
       "    <tr style=\"text-align: right;\">\n",
       "      <th></th>\n",
       "      <th>Id</th>\n",
       "      <th>url</th>\n",
       "      <th>Count</th>\n",
       "    </tr>\n",
       "  </thead>\n",
       "  <tbody>\n",
       "    <tr>\n",
       "      <th>0</th>\n",
       "      <td>0000000151004FF4ADD746DA10685A01</td>\n",
       "      <td>afisha.ru</td>\n",
       "      <td>2</td>\n",
       "    </tr>\n",
       "    <tr>\n",
       "      <th>1</th>\n",
       "      <td>0000000151004FF4ADD746DA10685A01</td>\n",
       "      <td>aif.ru</td>\n",
       "      <td>1</td>\n",
       "    </tr>\n",
       "    <tr>\n",
       "      <th>2</th>\n",
       "      <td>0000000151004FF4ADD746DA10685A01</td>\n",
       "      <td>aimfar.solution.weborama.fr</td>\n",
       "      <td>1</td>\n",
       "    </tr>\n",
       "    <tr>\n",
       "      <th>3</th>\n",
       "      <td>0000000151004FF4ADD746DA10685A01</td>\n",
       "      <td>alkotest.ru</td>\n",
       "      <td>1</td>\n",
       "    </tr>\n",
       "    <tr>\n",
       "      <th>4</th>\n",
       "      <td>0000000151004FF4ADD746DA10685A01</td>\n",
       "      <td>aptekamos.ru</td>\n",
       "      <td>1</td>\n",
       "    </tr>\n",
       "  </tbody>\n",
       "</table>\n",
       "</div>"
      ],
      "text/plain": [
       "                                 Id                          url  Count\n",
       "0  0000000151004FF4ADD746DA10685A01                    afisha.ru      2\n",
       "1  0000000151004FF4ADD746DA10685A01                       aif.ru      1\n",
       "2  0000000151004FF4ADD746DA10685A01  aimfar.solution.weborama.fr      1\n",
       "3  0000000151004FF4ADD746DA10685A01                  alkotest.ru      1\n",
       "4  0000000151004FF4ADD746DA10685A01                 aptekamos.ru      1"
      ]
     },
     "execution_count": 554,
     "metadata": {},
     "output_type": "execute_result"
    }
   ],
   "source": [
    "urls_test_df.head()"
   ]
  },
  {
   "cell_type": "code",
   "execution_count": 211,
   "metadata": {
    "collapsed": false
   },
   "outputs": [
    {
     "data": {
      "text/plain": [
       "(19979, 13)"
      ]
     },
     "execution_count": 211,
     "metadata": {},
     "output_type": "execute_result"
    }
   ],
   "source": [
    "test_df.merge(aggreg, how=\"left\")"
   ]
  },
  {
   "cell_type": "code",
   "execution_count": 25,
   "metadata": {
    "collapsed": false
   },
   "outputs": [
    {
     "data": {
      "text/html": [
       "<div>\n",
       "<table border=\"1\" class=\"dataframe\">\n",
       "  <thead>\n",
       "    <tr style=\"text-align: right;\">\n",
       "      <th></th>\n",
       "      <th>Id</th>\n",
       "      <th>title</th>\n",
       "      <th>urls</th>\n",
       "    </tr>\n",
       "  </thead>\n",
       "  <tbody>\n",
       "    <tr>\n",
       "      <th>19960</th>\n",
       "      <td>00000046546F3F721C92663B86D4EE01</td>\n",
       "      <td>NaN</td>\n",
       "      <td>mail.rambler mail.rambler mail.rambler mail.ra...</td>\n",
       "    </tr>\n",
       "    <tr>\n",
       "      <th>19961</th>\n",
       "      <td>0000004654A10B824C165A466C168201</td>\n",
       "      <td>NaN</td>\n",
       "      <td>mail.rambler mail.rambler mail.rambler mail.ra...</td>\n",
       "    </tr>\n",
       "    <tr>\n",
       "      <th>19962</th>\n",
       "      <td>0000004654B561B02F4A0174E0EC2001</td>\n",
       "      <td>NaN</td>\n",
       "      <td>mail.rambler mail.rambler podrobnosti</td>\n",
       "    </tr>\n",
       "    <tr>\n",
       "      <th>19963</th>\n",
       "      <td>000000465684B22F9C5E2F5092605901</td>\n",
       "      <td>NaN</td>\n",
       "      <td>mail.rambler mail.rambler mail.rambler mail.ra...</td>\n",
       "    </tr>\n",
       "    <tr>\n",
       "      <th>19964</th>\n",
       "      <td>00000046569323B3B9B443367DC16401</td>\n",
       "      <td>NaN</td>\n",
       "      <td>mail.rambler mail.rambler mail.rambler mail.ra...</td>\n",
       "    </tr>\n",
       "  </tbody>\n",
       "</table>\n",
       "</div>"
      ],
      "text/plain": [
       "                                     Id title  \\\n",
       "19960  00000046546F3F721C92663B86D4EE01   NaN   \n",
       "19961  0000004654A10B824C165A466C168201   NaN   \n",
       "19962  0000004654B561B02F4A0174E0EC2001   NaN   \n",
       "19963  000000465684B22F9C5E2F5092605901   NaN   \n",
       "19964  00000046569323B3B9B443367DC16401   NaN   \n",
       "\n",
       "                                                    urls  \n",
       "19960  mail.rambler mail.rambler mail.rambler mail.ra...  \n",
       "19961  mail.rambler mail.rambler mail.rambler mail.ra...  \n",
       "19962              mail.rambler mail.rambler podrobnosti  \n",
       "19963  mail.rambler mail.rambler mail.rambler mail.ra...  \n",
       "19964  mail.rambler mail.rambler mail.rambler mail.ra...  "
      ]
     },
     "execution_count": 25,
     "metadata": {},
     "output_type": "execute_result"
    }
   ],
   "source": [
    "test_df[pd.isnull(test_df.title)].head()"
   ]
  },
  {
   "cell_type": "code",
   "execution_count": 26,
   "metadata": {
    "collapsed": true
   },
   "outputs": [],
   "source": [
    "test_df.title.fillna('', inplace=True)"
   ]
  },
  {
   "cell_type": "code",
   "execution_count": 27,
   "metadata": {
    "collapsed": false
   },
   "outputs": [
    {
     "data": {
      "text/html": [
       "<div>\n",
       "<table border=\"1\" class=\"dataframe\">\n",
       "  <thead>\n",
       "    <tr style=\"text-align: right;\">\n",
       "      <th></th>\n",
       "      <th>Id</th>\n",
       "      <th>title</th>\n",
       "      <th>urls</th>\n",
       "    </tr>\n",
       "  </thead>\n",
       "  <tbody>\n",
       "    <tr>\n",
       "      <th>607</th>\n",
       "      <td>00000001545483F30F717F5A0721E401</td>\n",
       "      <td>аргумент для место отдых россия туризм уникаль...</td>\n",
       "      <td>NaN</td>\n",
       "    </tr>\n",
       "    <tr>\n",
       "      <th>2573</th>\n",
       "      <td>00000046549F9C26429C4B0159BFEE01</td>\n",
       "      <td>03малинка cовместный алексеевка белгород бельё...</td>\n",
       "      <td>NaN</td>\n",
       "    </tr>\n",
       "    <tr>\n",
       "      <th>4799</th>\n",
       "      <td>000000465684D839B64B58DA9701F701</td>\n",
       "      <td>2bubna com ua вентилятор включение гудеть дела...</td>\n",
       "      <td>NaN</td>\n",
       "    </tr>\n",
       "    <tr>\n",
       "      <th>13694</th>\n",
       "      <td>000022D456544DE3771122F857A6F201</td>\n",
       "      <td>a0 автодорога автомобильный грузинский грузия ...</td>\n",
       "      <td>NaN</td>\n",
       "    </tr>\n",
       "    <tr>\n",
       "      <th>18828</th>\n",
       "      <td>06210D9556EFE0E30000054678B0D901</td>\n",
       "      <td>44-летний ru tverigrad женщина пропасть тверь ...</td>\n",
       "      <td>NaN</td>\n",
       "    </tr>\n",
       "  </tbody>\n",
       "</table>\n",
       "</div>"
      ],
      "text/plain": [
       "                                     Id  \\\n",
       "607    00000001545483F30F717F5A0721E401   \n",
       "2573   00000046549F9C26429C4B0159BFEE01   \n",
       "4799   000000465684D839B64B58DA9701F701   \n",
       "13694  000022D456544DE3771122F857A6F201   \n",
       "18828  06210D9556EFE0E30000054678B0D901   \n",
       "\n",
       "                                                   title urls  \n",
       "607    аргумент для место отдых россия туризм уникаль...  NaN  \n",
       "2573   03малинка cовместный алексеевка белгород бельё...  NaN  \n",
       "4799   2bubna com ua вентилятор включение гудеть дела...  NaN  \n",
       "13694  a0 автодорога автомобильный грузинский грузия ...  NaN  \n",
       "18828  44-летний ru tverigrad женщина пропасть тверь ...  NaN  "
      ]
     },
     "execution_count": 27,
     "metadata": {},
     "output_type": "execute_result"
    }
   ],
   "source": [
    "test_df[pd.isnull(test_df.urls)].head()"
   ]
  },
  {
   "cell_type": "code",
   "execution_count": 29,
   "metadata": {
    "collapsed": true
   },
   "outputs": [],
   "source": [
    "test_df.urls.fillna('', inplace=True)"
   ]
  },
  {
   "cell_type": "code",
   "execution_count": null,
   "metadata": {
    "collapsed": true
   },
   "outputs": [],
   "source": []
  },
  {
   "cell_type": "code",
   "execution_count": 30,
   "metadata": {
    "collapsed": true
   },
   "outputs": [],
   "source": [
    "prob_urls = pd.read_csv('allset_prob_urls.csv')\n",
    "normed = prob_urls[prob_urls.columns[1:-2]].div(prob_urls.all_cnt, axis='rows')"
   ]
  },
  {
   "cell_type": "code",
   "execution_count": null,
   "metadata": {
    "collapsed": true
   },
   "outputs": [],
   "source": []
  },
  {
   "cell_type": "code",
   "execution_count": null,
   "metadata": {
    "collapsed": true
   },
   "outputs": [],
   "source": []
  },
  {
   "cell_type": "markdown",
   "metadata": {},
   "source": [
    "### погнали"
   ]
  },
  {
   "cell_type": "code",
   "execution_count": 31,
   "metadata": {
    "collapsed": false
   },
   "outputs": [],
   "source": [
    "stops = stopwords.words('russian') + stopwords.words('english')"
   ]
  },
  {
   "cell_type": "code",
   "execution_count": 32,
   "metadata": {
    "collapsed": false
   },
   "outputs": [
    {
     "data": {
      "text/plain": [
       "HashingVectorizer(analyzer=u'word', binary=False, decode_error=u'strict',\n",
       "         dtype=<type 'numpy.float64'>, encoding=u'utf-8', input=u'content',\n",
       "         lowercase=True, n_features=2000, ngram_range=(1, 1),\n",
       "         non_negative=True, norm=u'l2', preprocessor=None,\n",
       "         stop_words=[u'\\u0438', u'\\u0432', u'\\u0432\\u043e', u'\\u043d\\u0435', u'\\u0447\\u0442\\u043e', u'\\u043e\\u043d', u'\\u043d\\u0430', u'\\u044f', u'\\u0441', u'\\u0441\\u043e', u'\\u043a\\u0430\\u043a', u'\\u0430', u'\\u0442\\u043e', u'\\u0432\\u0441\\u0435', u'\\u043e\\u043d\\u0430', u'\\u0442\\u0430\\u043a', u'\\u0435\\u0433\\u...n', u'ma', u'mightn', u'mustn', u'needn', u'shan', u'shouldn', u'wasn', u'weren', u'won', u'wouldn'],\n",
       "         strip_accents=None, token_pattern=u'(?u)\\\\b\\\\w\\\\w+\\\\b',\n",
       "         tokenizer=None)"
      ]
     },
     "execution_count": 32,
     "metadata": {},
     "output_type": "execute_result"
    }
   ],
   "source": [
    "from sklearn.feature_extraction.text import HashingVectorizer\n",
    "\n",
    "hv = HashingVectorizer(n_features=2000, stop_words=stops, non_negative=True)\n",
    "hv.fit(train_df.title[train_df.title != \"\"].append(test_df.title[test_df.title != \"\"]))"
   ]
  },
  {
   "cell_type": "markdown",
   "metadata": {},
   "source": [
    "похешируем тайтлы"
   ]
  },
  {
   "cell_type": "code",
   "execution_count": 33,
   "metadata": {
    "collapsed": false
   },
   "outputs": [
    {
     "name": "stdout",
     "output_type": "stream",
     "text": [
      "CPU times: user 1min 16s, sys: 965 ms, total: 1min 17s\n",
      "Wall time: 1min 16s\n"
     ]
    }
   ],
   "source": [
    "%%time\n",
    "X_titles = hv.transform(train_df.title)\n",
    "X_titles = X_titles.todense()\n",
    "y = train_df.age"
   ]
  },
  {
   "cell_type": "code",
   "execution_count": 34,
   "metadata": {
    "collapsed": false
   },
   "outputs": [
    {
     "name": "stdout",
     "output_type": "stream",
     "text": [
      "CPU times: user 30.5 s, sys: 311 ms, total: 30.8 s\n",
      "Wall time: 30.7 s\n"
     ]
    }
   ],
   "source": [
    "%%time\n",
    "X_titles_test = hv.transform(test_df.title)\n",
    "X_titles_test = X_titles_test.todense()"
   ]
  },
  {
   "cell_type": "markdown",
   "metadata": {},
   "source": [
    "### nmf on titles data"
   ]
  },
  {
   "cell_type": "code",
   "execution_count": 35,
   "metadata": {
    "collapsed": false
   },
   "outputs": [
    {
     "name": "stdout",
     "output_type": "stream",
     "text": [
      "CPU times: user 2h 40min 19s, sys: 1h 31min 48s, total: 4h 12min 7s\n",
      "Wall time: 19min 2s\n"
     ]
    }
   ],
   "source": [
    "%%time\n",
    "transformer = sklearn.decomposition.NMF(n_components=100)\n",
    "X_nmf_title1 = transformer.fit_transform(X_titles)\n",
    "X_nmf_title_test1 = transformer.fit_transform(X_titles_test)"
   ]
  },
  {
   "cell_type": "markdown",
   "metadata": {},
   "source": [
    "### теперь урлы"
   ]
  },
  {
   "cell_type": "code",
   "execution_count": 36,
   "metadata": {
    "collapsed": true
   },
   "outputs": [],
   "source": [
    "X_all_urls = train_df.urls[train_df.urls!=\"\"].append(test_df.urls[test_df.urls!=\"\"])"
   ]
  },
  {
   "cell_type": "code",
   "execution_count": 37,
   "metadata": {
    "collapsed": false
   },
   "outputs": [
    {
     "name": "stdout",
     "output_type": "stream",
     "text": [
      "CPU times: user 11.1 s, sys: 317 ms, total: 11.5 s\n",
      "Wall time: 11.4 s\n"
     ]
    }
   ],
   "source": [
    "%%time\n",
    "hw = HashingVectorizer(n_features=1000, non_negative=True).fit(X_all_urls.values)\n",
    "X_urls = hw.transform(train_df.urls.values).todense()"
   ]
  },
  {
   "cell_type": "code",
   "execution_count": 38,
   "metadata": {
    "collapsed": false
   },
   "outputs": [],
   "source": [
    "X_urls_test = hw.transform(test_df.urls.values).todense()"
   ]
  },
  {
   "cell_type": "markdown",
   "metadata": {},
   "source": [
    "### nmf on urls"
   ]
  },
  {
   "cell_type": "code",
   "execution_count": 39,
   "metadata": {
    "collapsed": false
   },
   "outputs": [
    {
     "name": "stdout",
     "output_type": "stream",
     "text": [
      "CPU times: user 1h 33min 6s, sys: 1h 2min 30s, total: 2h 35min 37s\n",
      "Wall time: 14min 36s\n"
     ]
    }
   ],
   "source": [
    "%%time\n",
    "transformer = sklearn.decomposition.NMF(n_components=100)\n",
    "X_nmf_urls1 = transformer.fit_transform(X_urls)\n",
    "X_nmf_urls_test1 = transformer.fit_transform(X_urls_test)"
   ]
  },
  {
   "cell_type": "markdown",
   "metadata": {},
   "source": [
    "## holdout"
   ]
  },
  {
   "cell_type": "code",
   "execution_count": 40,
   "metadata": {
    "collapsed": false
   },
   "outputs": [
    {
     "data": {
      "text/plain": [
       "(83075, 35604)"
      ]
     },
     "execution_count": 40,
     "metadata": {},
     "output_type": "execute_result"
    }
   ],
   "source": [
    "itrain, itest = cross_validation.train_test_split(range(train_df.shape[0]), test_size=0.3, random_state=142)\n",
    "len(itrain), len(itest)"
   ]
  },
  {
   "cell_type": "markdown",
   "metadata": {},
   "source": [
    "по логрегу на заголовках"
   ]
  },
  {
   "cell_type": "code",
   "execution_count": 354,
   "metadata": {
    "collapsed": false,
    "scrolled": true
   },
   "outputs": [
    {
     "name": "stdout",
     "output_type": "stream",
     "text": [
      "CPU times: user 1min 8s, sys: 16.4 s, total: 1min 25s\n",
      "Wall time: 1min 2s\n"
     ]
    }
   ],
   "source": [
    "%%time\n",
    "from sklearn.multiclass import OneVsRestClassifier\n",
    "from sklearn.linear_model import LogisticRegression\n",
    "\n",
    "labels = OneVsRestClassifier(LogisticRegression(random_state=0)).fit(X_titles[itrain, :], np.array(y_new)[itrain]).predict(X_titles[itest, :])"
   ]
  },
  {
   "cell_type": "code",
   "execution_count": 355,
   "metadata": {
    "collapsed": false
   },
   "outputs": [
    {
     "data": {
      "text/plain": [
       "array([3, 4, 2, ..., 3, 2, 3])"
      ]
     },
     "execution_count": 355,
     "metadata": {},
     "output_type": "execute_result"
    }
   ],
   "source": [
    "labels"
   ]
  },
  {
   "cell_type": "code",
   "execution_count": 358,
   "metadata": {
    "collapsed": false
   },
   "outputs": [
    {
     "data": {
      "text/plain": [
       "array([4, 3, 2, ..., 3, 3, 4])"
      ]
     },
     "execution_count": 358,
     "metadata": {},
     "output_type": "execute_result"
    }
   ],
   "source": [
    "np.array(y_new)[itest]"
   ]
  },
  {
   "cell_type": "code",
   "execution_count": 359,
   "metadata": {
    "collapsed": false
   },
   "outputs": [
    {
     "name": "stdout",
     "output_type": "stream",
     "text": [
      "0 13.3356692426\n",
      "1 12.992455443\n",
      "2 12.7187940752\n",
      "3 12.5192470627\n",
      "4 12.3973937304\n",
      "5 12.3555329952\n",
      "6 12.3944753776\n",
      "7 12.5134665131\n",
      "8 12.7102583949\n",
      "9 12.9813132138\n",
      "10 13.3220988227\n"
     ]
    }
   ],
   "source": [
    "for i in range(0,11):\n",
    "    y_pred = map(lambda x: x*10 + i, labels)\n",
    "    print i, rmse(y[itest], y_pred)"
   ]
  },
  {
   "cell_type": "code",
   "execution_count": 360,
   "metadata": {
    "collapsed": true
   },
   "outputs": [],
   "source": [
    "y_pred = map(lambda x: x*10 + 5, labels)"
   ]
  },
  {
   "cell_type": "code",
   "execution_count": 361,
   "metadata": {
    "collapsed": false
   },
   "outputs": [
    {
     "name": "stdout",
     "output_type": "stream",
     "text": [
      "12.3555329952\n"
     ]
    }
   ],
   "source": [
    "print rmse(y[itest], y_pred)"
   ]
  },
  {
   "cell_type": "code",
   "execution_count": 279,
   "metadata": {
    "collapsed": false
   },
   "outputs": [
    {
     "data": {
      "text/plain": [
       "[<matplotlib.lines.Line2D at 0x6558bc50>]"
      ]
     },
     "execution_count": 279,
     "metadata": {},
     "output_type": "execute_result"
    },
    {
     "data": {
      "image/png": "[encoded data removed]",
      "text/plain": [
       "<matplotlib.figure.Figure at 0x6e8ab610>"
      ]
     },
     "metadata": {},
     "output_type": "display_data"
    }
   ],
   "source": [
    "plt.plot(pred_X_titles, y_pred, 'ro')"
   ]
  },
  {
   "cell_type": "markdown",
   "metadata": {},
   "source": [
    "по логрегу на урлах"
   ]
  },
  {
   "cell_type": "code",
   "execution_count": 344,
   "metadata": {
    "collapsed": true
   },
   "outputs": [],
   "source": [
    "y_new = map(lambda x: (x+2)//10, y)"
   ]
  },
  {
   "cell_type": "code",
   "execution_count": 345,
   "metadata": {
    "collapsed": true
   },
   "outputs": [],
   "source": [
    "%%title\n",
    "from sklearn.multiclass import OneVsRestClassifier\n",
    "from sklearn.linear_model import LogisticRegression\n",
    "\n",
    "labels = OneVsRestClassifier(LogisticRegression(random_state=0)).fit(X_nmf_urls2[itrain, :], np.array(y_new)[itrain]).predict(X_nmf_urls2[itest, :])"
   ]
  },
  {
   "cell_type": "code",
   "execution_count": 340,
   "metadata": {
    "collapsed": false
   },
   "outputs": [
    {
     "data": {
      "text/plain": [
       "array([3, 4, 3, ..., 3, 3, 3])"
      ]
     },
     "execution_count": 340,
     "metadata": {},
     "output_type": "execute_result"
    }
   ],
   "source": [
    "labels"
   ]
  },
  {
   "cell_type": "code",
   "execution_count": 341,
   "metadata": {
    "collapsed": false
   },
   "outputs": [
    {
     "data": {
      "text/plain": [
       "array([5, 3, 2, ..., 3, 3, 4])"
      ]
     },
     "execution_count": 341,
     "metadata": {},
     "output_type": "execute_result"
    }
   ],
   "source": [
    "np.array(y_new)[itest]"
   ]
  },
  {
   "cell_type": "code",
   "execution_count": 342,
   "metadata": {
    "collapsed": false
   },
   "outputs": [
    {
     "name": "stdout",
     "output_type": "stream",
     "text": [
      "0 13.1444512299\n",
      "1 12.8306991112\n",
      "2 12.5887680583\n",
      "3 12.422854856\n",
      "4 12.3360270881\n",
      "5 12.3299556311\n",
      "6 12.404759063\n",
      "7 12.5589923543\n",
      "8 12.7897822695\n"
     ]
    }
   ],
   "source": [
    "for i in range(0,9):\n",
    "    y_pred = map(lambda x: x*10 + i, labels)\n",
    "    print i, rmse(y[itest], y_pred)"
   ]
  },
  {
   "cell_type": "code",
   "execution_count": 343,
   "metadata": {
    "collapsed": false
   },
   "outputs": [
    {
     "name": "stdout",
     "output_type": "stream",
     "text": [
      "12.3360270881\n"
     ]
    }
   ],
   "source": [
    "y_pred = map(lambda x: x*10 + 4, labels)\n",
    "print rmse(y[itest], y_pred)"
   ]
  },
  {
   "cell_type": "code",
   "execution_count": null,
   "metadata": {
    "collapsed": true
   },
   "outputs": [],
   "source": []
  },
  {
   "cell_type": "code",
   "execution_count": null,
   "metadata": {
    "collapsed": true
   },
   "outputs": [],
   "source": []
  },
  {
   "cell_type": "code",
   "execution_count": null,
   "metadata": {
    "collapsed": true
   },
   "outputs": [],
   "source": []
  },
  {
   "cell_type": "markdown",
   "metadata": {},
   "source": [
    "linreg on data_titles"
   ]
  },
  {
   "cell_type": "code",
   "execution_count": 107,
   "metadata": {
    "collapsed": false
   },
   "outputs": [
    {
     "name": "stdout",
     "output_type": "stream",
     "text": [
      "CPU times: user 3min 34s, sys: 4min 28s, total: 8min 3s\n",
      "Wall time: 48.2 s\n"
     ]
    }
   ],
   "source": [
    "%%time\n",
    "reg = LinearRegression(n_jobs=-1)\n",
    "reg.fit(X_titles[itrain, :], y[itrain])\n",
    "\n",
    "pred_X_titles = reg.predict(X_titles[itest, :])"
   ]
  },
  {
   "cell_type": "code",
   "execution_count": 108,
   "metadata": {
    "collapsed": false,
    "scrolled": true
   },
   "outputs": [
    {
     "name": "stdout",
     "output_type": "stream",
     "text": [
      "11.9066266739\n"
     ]
    }
   ],
   "source": [
    "print rmse(y[itest], pred_X_titles)"
   ]
  },
  {
   "cell_type": "markdown",
   "metadata": {},
   "source": [
    "Линейная модель на NMF_100 от titles"
   ]
  },
  {
   "cell_type": "code",
   "execution_count": 109,
   "metadata": {
    "collapsed": false
   },
   "outputs": [
    {
     "name": "stdout",
     "output_type": "stream",
     "text": [
      "CPU times: user 8.41 s, sys: 5.36 s, total: 13.8 s\n",
      "Wall time: 1.01 s\n"
     ]
    }
   ],
   "source": [
    "%%time\n",
    "reg = LinearRegression(n_jobs=-1)\n",
    "reg.fit(X_nmf_title1[itrain, :], y[itrain])\n",
    "\n",
    "pred_X_nmf_title1 = reg.predict(X_nmf_title1[itest, :])"
   ]
  },
  {
   "cell_type": "code",
   "execution_count": 110,
   "metadata": {
    "collapsed": false
   },
   "outputs": [
    {
     "name": "stdout",
     "output_type": "stream",
     "text": [
      "11.9731456527\n"
     ]
    }
   ],
   "source": [
    "print rmse(y[itest], pred_X_nmf_title1)"
   ]
  },
  {
   "cell_type": "markdown",
   "metadata": {},
   "source": [
    "Линейная модель на NMF_200 от titles"
   ]
  },
  {
   "cell_type": "code",
   "execution_count": 111,
   "metadata": {
    "collapsed": false
   },
   "outputs": [
    {
     "name": "stdout",
     "output_type": "stream",
     "text": [
      "CPU times: user 12 s, sys: 15 s, total: 27 s\n",
      "Wall time: 1.93 s\n"
     ]
    }
   ],
   "source": [
    "%%time\n",
    "reg = LinearRegression(n_jobs=-1)\n",
    "reg.fit(X_nmf_title2[itrain, :], y[itrain])\n",
    "\n",
    "pred_X_nmf_title2 = reg.predict(X_nmf_title2[itest, :])"
   ]
  },
  {
   "cell_type": "code",
   "execution_count": 112,
   "metadata": {
    "collapsed": false
   },
   "outputs": [
    {
     "name": "stdout",
     "output_type": "stream",
     "text": [
      "11.9276659258\n"
     ]
    }
   ],
   "source": [
    "print rmse(y[itest], pred_X_nmf_title2)"
   ]
  },
  {
   "cell_type": "markdown",
   "metadata": {},
   "source": [
    "linreg on data_urls"
   ]
  },
  {
   "cell_type": "code",
   "execution_count": 163,
   "metadata": {
    "collapsed": false
   },
   "outputs": [
    {
     "data": {
      "text/plain": [
       "(118679, 1010)"
      ]
     },
     "execution_count": 163,
     "metadata": {},
     "output_type": "execute_result"
    }
   ],
   "source": [
    "X_urls_m.shape"
   ]
  },
  {
   "cell_type": "code",
   "execution_count": 162,
   "metadata": {
    "collapsed": false
   },
   "outputs": [],
   "source": [
    "X_urls_m = np.hstack([X_urls, normed_probs[normed_probs.columns[1:-1]]])"
   ]
  },
  {
   "cell_type": "code",
   "execution_count": 165,
   "metadata": {
    "collapsed": false
   },
   "outputs": [
    {
     "name": "stdout",
     "output_type": "stream",
     "text": [
      "CPU times: user 1min 2s, sys: 2min 16s, total: 3min 19s\n",
      "Wall time: 21.5 s\n"
     ]
    }
   ],
   "source": [
    "%%time\n",
    "reg = LinearRegression(n_jobs=-1)\n",
    "reg.fit(X_urls_m[itrain, :], y[itrain])\n",
    "\n",
    "pred_X_urls_m = reg.predict(X_urls_m[itest, :])"
   ]
  },
  {
   "cell_type": "code",
   "execution_count": 166,
   "metadata": {
    "collapsed": false
   },
   "outputs": [
    {
     "name": "stdout",
     "output_type": "stream",
     "text": [
      "11.8821947638\n"
     ]
    }
   ],
   "source": [
    "print rmse(y[itest], pred_X_urls_m)"
   ]
  },
  {
   "cell_type": "markdown",
   "metadata": {},
   "source": [
    "Линейная модель на NMF_100 от urls"
   ]
  },
  {
   "cell_type": "code",
   "execution_count": 167,
   "metadata": {
    "collapsed": true
   },
   "outputs": [],
   "source": [
    "X_nmf_urls1_m = np.hstack([X_nmf_urls1, normed_probs[normed_probs.columns[1:-1]]])"
   ]
  },
  {
   "cell_type": "code",
   "execution_count": 168,
   "metadata": {
    "collapsed": false
   },
   "outputs": [
    {
     "name": "stdout",
     "output_type": "stream",
     "text": [
      "11.9395690478\n",
      "CPU times: user 12.8 s, sys: 10.3 s, total: 23.1 s\n",
      "Wall time: 1.91 s\n"
     ]
    }
   ],
   "source": [
    "%%time\n",
    "reg = LinearRegression(n_jobs=-1)\n",
    "reg.fit(X_nmf_urls1_m[itrain, :], y[itrain])\n",
    "\n",
    "pred_X_nmf_urls1 = reg.predict(X_nmf_urls1_m[itest, :])\n",
    "print rmse(y[itest], pred_X_nmf_urls1)"
   ]
  },
  {
   "cell_type": "markdown",
   "metadata": {},
   "source": [
    "Линейная модель на NMF_200 от urls"
   ]
  },
  {
   "cell_type": "code",
   "execution_count": 116,
   "metadata": {
    "collapsed": false
   },
   "outputs": [
    {
     "name": "stdout",
     "output_type": "stream",
     "text": [
      "11.8932235612\n",
      "CPU times: user 12 s, sys: 17.4 s, total: 29.4 s\n",
      "Wall time: 2.09 s\n"
     ]
    }
   ],
   "source": [
    "%%time\n",
    "reg = LinearRegression(n_jobs=-1)\n",
    "reg.fit(X_nmf_urls2[itrain, :], y[itrain])\n",
    "\n",
    "pred_X_nmf_urls2 = reg.predict(X_nmf_urls2[itest, :])\n",
    "print rmse(y[itest], pred_X_nmf_urls2)"
   ]
  },
  {
   "cell_type": "markdown",
   "metadata": {},
   "source": [
    "linreg on all data"
   ]
  },
  {
   "cell_type": "code",
   "execution_count": 117,
   "metadata": {
    "collapsed": false
   },
   "outputs": [
    {
     "name": "stdout",
     "output_type": "stream",
     "text": [
      "CPU times: user 13min 37s, sys: 9min 54s, total: 23min 31s\n",
      "Wall time: 2min 32s\n"
     ]
    }
   ],
   "source": [
    "%%time\n",
    "\n",
    "X = np.hstack([X_urls, X_titles, X_nmf_title1, X_nmf_urls1, X_nmf_title2, X_nmf_urls2])\n",
    "reg = LinearRegression(n_jobs=-1)\n",
    "reg.fit(X[itrain, :], y[itrain])"
   ]
  },
  {
   "cell_type": "code",
   "execution_count": 118,
   "metadata": {
    "collapsed": false
   },
   "outputs": [
    {
     "name": "stdout",
     "output_type": "stream",
     "text": [
      "11.8463762633\n"
     ]
    }
   ],
   "source": [
    "pred_X = reg.predict(X[itest, :])\n",
    "print rmse(y[itest], pred_X)"
   ]
  },
  {
   "cell_type": "code",
   "execution_count": null,
   "metadata": {
    "collapsed": true
   },
   "outputs": [],
   "source": []
  },
  {
   "cell_type": "markdown",
   "metadata": {},
   "source": [
    "scatters"
   ]
  },
  {
   "cell_type": "code",
   "execution_count": 169,
   "metadata": {
    "collapsed": true
   },
   "outputs": [],
   "source": [
    "import matplotlib.pyplot as plt\n",
    "%matplotlib inline"
   ]
  },
  {
   "cell_type": "code",
   "execution_count": 171,
   "metadata": {
    "collapsed": false
   },
   "outputs": [
    {
     "data": {
      "text/plain": [
       "[<matplotlib.lines.Line2D at 0x674373d0>]"
      ]
     },
     "execution_count": 171,
     "metadata": {},
     "output_type": "execute_result"
    },
    {
     "data": {
      "image/png": "[encoded data removed]",
      "text/plain": [
       "<matplotlib.figure.Figure at 0x614d2890>"
      ]
     },
     "metadata": {},
     "output_type": "display_data"
    }
   ],
   "source": [
    "plt.plot(pred_X_titles, pred_X_urls, 'ro')"
   ]
  },
  {
   "cell_type": "code",
   "execution_count": 172,
   "metadata": {
    "collapsed": false
   },
   "outputs": [
    {
     "data": {
      "text/plain": [
       "[<matplotlib.lines.Line2D at 0x6e12c550>]"
      ]
     },
     "execution_count": 172,
     "metadata": {},
     "output_type": "execute_result"
    },
    {
     "data": {
      "image/png": "[encoded data removed]",
      "text/plain": [
       "<matplotlib.figure.Figure at 0x6642e510>"
      ]
     },
     "metadata": {},
     "output_type": "display_data"
    }
   ],
   "source": [
    "plt.plot(pred_X_nmf_title1, pred_X_nmf_urls1, 'ro')"
   ]
  },
  {
   "cell_type": "code",
   "execution_count": 173,
   "metadata": {
    "collapsed": false
   },
   "outputs": [
    {
     "data": {
      "text/plain": [
       "[<matplotlib.lines.Line2D at 0x663fbb10>]"
      ]
     },
     "execution_count": 173,
     "metadata": {},
     "output_type": "execute_result"
    },
    {
     "data": {
      "image/png": "[encoded data removed]",
      "text/plain": [
       "<matplotlib.figure.Figure at 0x6742cd90>"
      ]
     },
     "metadata": {},
     "output_type": "display_data"
    }
   ],
   "source": [
    "plt.plot(pred_X_nmf_title2, pred_X_nmf_urls2, 'ro')"
   ]
  },
  {
   "cell_type": "code",
   "execution_count": 176,
   "metadata": {
    "collapsed": false
   },
   "outputs": [
    {
     "data": {
      "text/plain": [
       "[<matplotlib.lines.Line2D at 0x3986f390>]"
      ]
     },
     "execution_count": 176,
     "metadata": {},
     "output_type": "execute_result"
    },
    {
     "data": {
      "image/png": "[encoded data removed]",
      "text/plain": [
       "<matplotlib.figure.Figure at 0x656c5110>"
      ]
     },
     "metadata": {},
     "output_type": "display_data"
    }
   ],
   "source": [
    "plt.plot(pred_X_nmf_title1, pred_X_nmf_title2, 'ro')"
   ]
  },
  {
   "cell_type": "code",
   "execution_count": null,
   "metadata": {
    "collapsed": true
   },
   "outputs": [],
   "source": []
  },
  {
   "cell_type": "raw",
   "metadata": {},
   "source": [
    "Линейная комбинация двух моделей"
   ]
  },
  {
   "cell_type": "code",
   "execution_count": 119,
   "metadata": {
    "collapsed": false
   },
   "outputs": [
    {
     "name": "stdout",
     "output_type": "stream",
     "text": [
      "11.7337790362\n"
     ]
    },
    {
     "data": {
      "image/png": "[encoded data removed]",
      "text/plain": [
       "<matplotlib.figure.Figure at 0x678b3d90>"
      ]
     },
     "metadata": {},
     "output_type": "display_data"
    }
   ],
   "source": [
    "error = []\n",
    "for w in np.linspace(0, 1, 101):\n",
    "     error += [rmse(y[itest], pred_X_urls * w + (1-w) * pred_X_titles)]\n",
    "\n",
    "pd.Series(error, index=np.linspace(0, 1, 101)).plot(figsize=(6,3))\n",
    "print min(error)"
   ]
  },
  {
   "cell_type": "markdown",
   "metadata": {},
   "source": [
    "combination on all"
   ]
  },
  {
   "cell_type": "code",
   "execution_count": 77,
   "metadata": {
    "collapsed": false
   },
   "outputs": [
    {
     "name": "stdout",
     "output_type": "stream",
     "text": [
      "CPU times: user 1min 29s, sys: 2min 15s, total: 3min 45s\n",
      "Wall time: 20.9 s\n"
     ]
    }
   ],
   "source": [
    "%%time\n",
    "reg = LinearRegression(n_jobs=-1)\n",
    "reg.fit(X_urls, y)\n",
    "\n",
    "pred_X_urls_all = reg.predict(X_urls_test)"
   ]
  },
  {
   "cell_type": "code",
   "execution_count": 78,
   "metadata": {
    "collapsed": false
   },
   "outputs": [
    {
     "name": "stdout",
     "output_type": "stream",
     "text": [
      "CPU times: user 4min 57s, sys: 5min 11s, total: 10min 8s\n",
      "Wall time: 1min 7s\n"
     ]
    }
   ],
   "source": [
    "%%time\n",
    "reg = LinearRegression(n_jobs=-1)\n",
    "reg.fit(X_titles, y)\n",
    "\n",
    "pred_X_titles_all = reg.predict(X_titles_test)"
   ]
  },
  {
   "cell_type": "code",
   "execution_count": 79,
   "metadata": {
    "collapsed": false
   },
   "outputs": [
    {
     "data": {
      "text/plain": [
       "((118679, 1000), (118679, 2000))"
      ]
     },
     "execution_count": 79,
     "metadata": {},
     "output_type": "execute_result"
    }
   ],
   "source": [
    "X_urls.shape, X_titles.shape"
   ]
  },
  {
   "cell_type": "code",
   "execution_count": 80,
   "metadata": {
    "collapsed": false
   },
   "outputs": [
    {
     "data": {
      "text/plain": [
       "array([ 39.71610381,  41.56605595,  41.54794928,  32.61228843,\n",
       "        39.07584376,  38.2834281 ,  42.48696747,  36.08954451,\n",
       "        42.25106242,  44.18173812])"
      ]
     },
     "execution_count": 80,
     "metadata": {},
     "output_type": "execute_result"
    }
   ],
   "source": [
    "pred_X_urls_all[:10]"
   ]
  },
  {
   "cell_type": "code",
   "execution_count": 81,
   "metadata": {
    "collapsed": false
   },
   "outputs": [
    {
     "data": {
      "text/plain": [
       "array([ 37.57136639,  41.88855385,  33.87670624,  34.1181525 ,\n",
       "        35.53460644,  35.13393273,  45.25657435,  37.4247949 ,\n",
       "        44.15919005,  44.03959092])"
      ]
     },
     "execution_count": 81,
     "metadata": {},
     "output_type": "execute_result"
    }
   ],
   "source": [
    "pred_X_titles_all[:10]"
   ]
  },
  {
   "cell_type": "code",
   "execution_count": 82,
   "metadata": {
    "collapsed": false
   },
   "outputs": [],
   "source": [
    "res_pred = 0.5*pred_X_urls_all + 0.5*pred_X_titles_all"
   ]
  },
  {
   "cell_type": "code",
   "execution_count": 83,
   "metadata": {
    "collapsed": false
   },
   "outputs": [
    {
     "data": {
      "text/plain": [
       "array([ 38.6437351 ,  41.7273049 ,  37.71232776,  33.36522047,\n",
       "        37.3052251 ,  36.70868041,  43.87177091,  36.75716971,\n",
       "        43.20512623,  44.11066452])"
      ]
     },
     "execution_count": 83,
     "metadata": {},
     "output_type": "execute_result"
    }
   ],
   "source": [
    "res_pred[:10]"
   ]
  },
  {
   "cell_type": "markdown",
   "metadata": {},
   "source": [
    "## Blenging с помощью heamy\n",
    "pip install heamy\n",
    "\n",
    "https://github.com/rushter/heamy"
   ]
  },
  {
   "cell_type": "code",
   "execution_count": 138,
   "metadata": {
    "collapsed": false
   },
   "outputs": [],
   "source": [
    "from sklearn import pipeline, preprocessing, feature_extraction"
   ]
  },
  {
   "cell_type": "code",
   "execution_count": 216,
   "metadata": {
    "collapsed": false,
    "scrolled": true
   },
   "outputs": [],
   "source": [
    "#%%time\n",
    "\n",
    "dataset_titles = Dataset(X_titles[itrain, :], y[itrain], X_titles[itest, :])\n",
    "dataset_urls = Dataset(X_urls[itrain, :], y[itrain], X_urls[itest, :]) \n",
    "\n",
    "dataset_titles_nmf = Dataset(X_nmf_title1[itrain, :], y[itrain], X_nmf_title1[itest, :])\n",
    "dataset_urls_nmf = Dataset(X_nmf_urls1[itrain, :], y[itrain], X_nmf_urls1[itest, :])\n",
    "\n",
    "dataset_titles_nmf2 = Dataset(X_nmf_title2[itrain, :], y[itrain], X_nmf_title2[itest, :])\n",
    "dataset_urls_nmf2 = Dataset(X_nmf_urls2[itrain, :], y[itrain], X_nmf_urls2[itest, :])\n",
    "\n",
    "# линейная модель на обычных данных\n",
    "lr1 = Regressor(dataset=dataset_urls, \n",
    "                     estimator=linear_model.LinearRegression,\n",
    "                     parameters={'normalize': True},\n",
    "                     name='lr1')\n",
    "\n",
    "# линейная модель на TFIDF от обычных данных\n",
    "def tfidf_lr_(X_train, y_train, X_test, y_test=None, random_state=8888):\n",
    "    model = pipeline.Pipeline([('tfidf', feature_extraction.text.TfidfTransformer()), \n",
    "                                ('linear_model', linear_model.LinearRegression())])\n",
    "    model.fit(X_train, y_train)\n",
    "    return model.predict(X_test)\n",
    "\n",
    "tfidf_lr1 = Regressor(dataset=dataset_urls,\n",
    "                     estimator=tfidf_lr_,\n",
    "                     name='tfidf_lr1')\n",
    "\n",
    "lr2 = Regressor(dataset=dataset_titles, \n",
    "                     estimator=linear_model.LinearRegression,\n",
    "                     parameters={'normalize': True},\n",
    "                     name='lr2')\n",
    "\n",
    "\n",
    "lr3 = Regressor(dataset=dataset_titles_nmf, \n",
    "                     estimator=linear_model.LinearRegression,\n",
    "                     parameters={'normalize': True},\n",
    "                     name='lr3')\n",
    "\n",
    "lr4 = Regressor(dataset=dataset_urls_nmf, \n",
    "                     estimator=linear_model.LinearRegression,\n",
    "                     parameters={'normalize': True},\n",
    "                     name='lr4')\n",
    "\n",
    "lr5 = Regressor(dataset=dataset_titles_nmf2, \n",
    "                     estimator=linear_model.LinearRegression,\n",
    "                     parameters={'normalize': True},\n",
    "                     name='lr5')\n",
    "\n",
    "lr6 = Regressor(dataset=dataset_urls_nmf2, \n",
    "                     estimator=linear_model.LinearRegression,\n",
    "                     parameters={'normalize': True},\n",
    "                     name='lr6')\n",
    "\n",
    "\n",
    "\n",
    "tfidf_lr2 = Regressor(dataset=dataset_titles,\n",
    "                     estimator=tfidf_lr_,\n",
    "                     name='tfidf_lr2')\n",
    "\n",
    "\"\"\"xgb_regr2 = Regressor(dataset=dataset_titles, \n",
    "                     estimator=xgb.XGBRegressor,\n",
    "                     parameters={'n_estimators': 1500, 'max_depth':5, 'learning_rate': 0.03,\n",
    "                                'subsample': 0.6, 'colsample_bytree': 0.9, 'colsample_bylevel':0.7},\n",
    "                     name='xgb_regr2')\"\"\"\n",
    "\n",
    "# ExtraTrees на NMF\n",
    "xgb_regr1 = Regressor(dataset=dataset_urls_nmf, \n",
    "                     estimator=xgb.XGBRegressor,\n",
    "                     parameters={'n_estimators': 5000, 'max_depth':3, 'learning_rate': 0.01,\n",
    "                                'subsample': 0.6, 'colsample_bytree': 0.9, 'colsample_bylevel':0.7, 'gamma': 0.1},\n",
    "                     name='xgb_regr1')\n",
    "\n",
    "xgb_regr2 = Regressor(dataset=dataset_titles_nmf, \n",
    "                     estimator=xgb.XGBRegressor,\n",
    "                     parameters={'n_estimators': 5000, 'max_depth':3, 'learning_rate': 0.01,\n",
    "                                'subsample': 0.6, 'colsample_bytree': 0.9, 'colsample_bylevel':0.7, 'gamma': 0.1},\n",
    "                     name='xgb_regr2')\n",
    "\n",
    "xgb_regr3 = Regressor(dataset=dataset_urls_nmf2, \n",
    "                     estimator=xgb.XGBRegressor,\n",
    "                     parameters={'n_estimators': 5000, 'max_depth':3, 'learning_rate': 0.01,\n",
    "                                'subsample': 0.6, 'colsample_bytree': 0.9, 'colsample_bylevel':0.7, 'gamma': 0.1},\n",
    "                     name='xgb_regr3')\n",
    "\n",
    "xgb_regr4 = Regressor(dataset=dataset_titles_nmf2, \n",
    "                     estimator=xgb.XGBRegressor,\n",
    "                     parameters={'n_estimators': 5000, 'max_depth':3, 'learning_rate': 0.01,\n",
    "                                'subsample': 0.6, 'colsample_bytree': 0.9, 'colsample_bylevel':0.7, 'gamma': 0.1},\n",
    "                     name='xgb_regr4')\n",
    "\n",
    "\n",
    "\n",
    "rf1 = Regressor(dataset=dataset_urls_nmf, \n",
    "                     estimator=ensemble.ExtraTreesRegressor,\n",
    "                     parameters={'n_estimators': 100, 'n_jobs': -1, 'max_depth': None, 'bootstrap': True},\n",
    "                     name='rf1')\n",
    "\n",
    "rf2 = Regressor(dataset=dataset_titles_nmf, \n",
    "                     estimator=ensemble.ExtraTreesRegressor,\n",
    "                     parameters={'n_estimators': 100, 'n_jobs': -1, 'max_depth': None, 'bootstrap': True},\n",
    "                     name='rf2')\n",
    "\n",
    "\n",
    "rf3 = Regressor(dataset=dataset_urls_nmf2, \n",
    "                     estimator=ensemble.ExtraTreesRegressor,\n",
    "                     parameters={'n_estimators': 200, 'n_jobs': -1, 'max_depth': None, 'bootstrap': True},\n",
    "                     name='rf3')\n",
    "\n",
    "rf4 = Regressor(dataset=dataset_titles_nmf2, \n",
    "                     estimator=ensemble.ExtraTreesRegressor,\n",
    "                     parameters={'n_estimators': 200, 'n_jobs': -1, 'max_depth': None, 'bootstrap': True},\n",
    "                     name='rf4')\n",
    "\n",
    "# Stack four models\n",
    "# Returns new dataset with out-of-fold predictions\n",
    "meta_pipeline = ModelsPipeline(lr1, lr2, lr3, lr4, lr5, lr6, tfidf_lr1, tfidf_lr2, rf1, rf2, rf3, rf4, xgb_regr1, xgb_regr2, xgb_regr3, xgb_regr4)\n",
    "stack_ds = meta_pipeline.blend(proportion=0.2,seed=111)\n",
    "\n",
    "# Train LinearRegression on stacked data (second stage)\n",
    "stacker = Regressor(dataset=stack_ds, estimator=LinearRegression)\n",
    "results = stacker.predict()"
   ]
  },
  {
   "cell_type": "code",
   "execution_count": 217,
   "metadata": {
    "collapsed": false
   },
   "outputs": [
    {
     "name": "stdout",
     "output_type": "stream",
     "text": [
      "ok\n"
     ]
    }
   ],
   "source": [
    "print('ok')"
   ]
  },
  {
   "cell_type": "code",
   "execution_count": 218,
   "metadata": {
    "collapsed": false,
    "scrolled": false
   },
   "outputs": [
    {
     "name": "stdout",
     "output_type": "stream",
     "text": [
      "11.6098376789\n"
     ]
    }
   ],
   "source": [
    "print rmse(y[itest], results)"
   ]
  },
  {
   "cell_type": "markdown",
   "metadata": {
    "collapsed": true
   },
   "source": [
    "tune et clf"
   ]
  },
  {
   "cell_type": "code",
   "execution_count": 195,
   "metadata": {
    "collapsed": false
   },
   "outputs": [
    {
     "name": "stderr",
     "output_type": "stream",
     "text": [
      "[Parallel(n_jobs=-1)]: Done   2 tasks      | elapsed:    7.4s\n",
      "[Parallel(n_jobs=-1)]: Done 152 tasks      | elapsed:  1.3min\n",
      "[Parallel(n_jobs=-1)]: Done 402 tasks      | elapsed:  3.3min\n",
      "[Parallel(n_jobs=-1)]: Done 500 out of 500 | elapsed:  4.0min finished\n",
      "[Parallel(n_jobs=24)]: Done   2 tasks      | elapsed:    0.0s\n",
      "[Parallel(n_jobs=24)]: Done 152 tasks      | elapsed:    0.2s\n",
      "[Parallel(n_jobs=24)]: Done 402 tasks      | elapsed:    0.4s\n",
      "[Parallel(n_jobs=24)]: Done 500 out of 500 | elapsed:    0.6s finished\n"
     ]
    },
    {
     "name": "stdout",
     "output_type": "stream",
     "text": [
      "11.8946575865\n",
      "CPU times: user 1h 33min 57s, sys: 2.05 s, total: 1h 33min 59s\n",
      "Wall time: 4min 14s\n"
     ]
    }
   ],
   "source": [
    "%%time\n",
    "from sklearn.ensemble import ExtraTreesRegressor\n",
    "et = ExtraTreesRegressor(n_estimators=200, max_depth=None, min_samples_split=1, min_samples_leaf=3, \n",
    "                         min_weight_fraction_leaf=0.0,\n",
    "                         bootstrap=True, oob_score=True, n_jobs=-1, \n",
    "                         random_state=42, verbose=1, warm_start=True)\n",
    "\n",
    "\n",
    "et.fit(X_nmf_title2[itrain, :], y[itrain])\n",
    "print rmse(y[itest], et.predict(X_nmf_title2[itest, :]))"
   ]
  },
  {
   "cell_type": "code",
   "execution_count": 200,
   "metadata": {
    "collapsed": false
   },
   "outputs": [
    {
     "name": "stderr",
     "output_type": "stream",
     "text": [
      "[Parallel(n_jobs=24)]: Done   2 tasks      | elapsed:    0.0s\n",
      "[Parallel(n_jobs=24)]: Done 152 tasks      | elapsed:    0.2s\n",
      "[Parallel(n_jobs=24)]: Done 402 tasks      | elapsed:    0.4s\n",
      "[Parallel(n_jobs=24)]: Done 500 out of 500 | elapsed:    0.5s finished\n"
     ]
    },
    {
     "data": {
      "text/plain": [
       "[<matplotlib.lines.Line2D at 0x6d4b88d0>]"
      ]
     },
     "execution_count": 200,
     "metadata": {},
     "output_type": "execute_result"
    },
    {
     "data": {
      "image/png": "[encoded data removed]",
      "text/plain": [
       "<matplotlib.figure.Figure at 0x65be8590>"
      ]
     },
     "metadata": {},
     "output_type": "display_data"
    }
   ],
   "source": [
    "plt.plot(et.predict(X_nmf_title2[itest, :]), pred_X_nmf_urls2, 'bo')"
   ]
  },
  {
   "cell_type": "markdown",
   "metadata": {},
   "source": [
    "xgb parameter tuning"
   ]
  },
  {
   "cell_type": "code",
   "execution_count": 213,
   "metadata": {
    "collapsed": true
   },
   "outputs": [],
   "source": [
    "param = {}\n",
    "param['max_depth'] = 3\n",
    "param['booster'] = 'gbtree'\n",
    "param['objective'] = 'reg:linear'\n",
    "param['eval_metric'] = 'rmse'\n",
    "param['eta'] = 0.01\n",
    "param['subsample'] = 0.6\n",
    "param['colsample_bytree'] = 0.9\n",
    "param['colsample_bylevel'] = 0.7\n",
    "#param['min_child_weight'] = 1\n",
    "param['gamma'] = 0.1\n",
    "#param['reg_alpha'] = 1e-05\n",
    "#param['scale_pos_weight'] = 1\n",
    "\n",
    "numround = 1000"
   ]
  },
  {
   "cell_type": "code",
   "execution_count": 214,
   "metadata": {
    "collapsed": false
   },
   "outputs": [],
   "source": [
    "X_all_datatrain = xgb.DMatrix(X_nmf_urls2, label = y)"
   ]
  },
  {
   "cell_type": "code",
   "execution_count": 215,
   "metadata": {
    "collapsed": false,
    "scrolled": true
   },
   "outputs": [
    {
     "name": "stdout",
     "output_type": "stream",
     "text": [
      "[0]\ttrain-rmse:37.3679+0.0242207\ttest-rmse:37.3679+0.0492523\n",
      "[10]\ttrain-rmse:34.1916+0.0228641\ttest-rmse:34.1921+0.0492532\n",
      "[20]\ttrain-rmse:31.3558+0.0206975\ttest-rmse:31.3569+0.0504866\n",
      "[30]\ttrain-rmse:28.8258+0.0188912\ttest-rmse:28.8277+0.0515205\n",
      "[40]\ttrain-rmse:26.5781+0.0174202\ttest-rmse:26.5807+0.0521531\n",
      "[50]\ttrain-rmse:24.5859+0.017571\ttest-rmse:24.5895+0.0513408\n",
      "[60]\ttrain-rmse:22.8263+0.0173039\ttest-rmse:22.8306+0.0509461\n",
      "[70]\ttrain-rmse:21.278+0.0165585\ttest-rmse:21.2834+0.0510797\n",
      "[80]\ttrain-rmse:19.9204+0.0167031\ttest-rmse:19.9267+0.0507652\n",
      "[90]\ttrain-rmse:18.7367+0.0166239\ttest-rmse:18.7444+0.0503545\n",
      "[100]\ttrain-rmse:17.7094+0.0160764\ttest-rmse:17.7188+0.0504113\n",
      "[110]\ttrain-rmse:16.8205+0.0160419\ttest-rmse:16.8312+0.0497623\n",
      "[120]\ttrain-rmse:16.0562+0.0160472\ttest-rmse:16.0682+0.049665\n",
      "[130]\ttrain-rmse:15.401+0.0159492\ttest-rmse:15.4144+0.0490901\n",
      "[140]\ttrain-rmse:14.8423+0.0161323\ttest-rmse:14.8572+0.0483068\n",
      "[150]\ttrain-rmse:14.3678+0.0160437\ttest-rmse:14.384+0.0477125\n",
      "[160]\ttrain-rmse:13.9667+0.0162078\ttest-rmse:13.9847+0.0471562\n",
      "[170]\ttrain-rmse:13.629+0.0163851\ttest-rmse:13.6486+0.0465213\n",
      "[180]\ttrain-rmse:13.3447+0.0162478\ttest-rmse:13.366+0.0462733\n",
      "[190]\ttrain-rmse:13.1066+0.016631\ttest-rmse:13.1293+0.0453544\n",
      "[200]\ttrain-rmse:12.9075+0.0165713\ttest-rmse:12.9318+0.0449184\n",
      "[210]\ttrain-rmse:12.7408+0.0166611\ttest-rmse:12.7667+0.0446291\n",
      "[220]\ttrain-rmse:12.602+0.0166506\ttest-rmse:12.6294+0.0443725\n",
      "[230]\ttrain-rmse:12.4865+0.0166716\ttest-rmse:12.5153+0.0437743\n",
      "[240]\ttrain-rmse:12.3902+0.0166178\ttest-rmse:12.4204+0.0436123\n",
      "[250]\ttrain-rmse:12.3093+0.0167225\ttest-rmse:12.3409+0.0431551\n",
      "[260]\ttrain-rmse:12.2419+0.0164111\ttest-rmse:12.2747+0.0429101\n",
      "[270]\ttrain-rmse:12.1855+0.0163546\ttest-rmse:12.2198+0.0426335\n",
      "[280]\ttrain-rmse:12.1385+0.0162053\ttest-rmse:12.1741+0.0422749\n",
      "[290]\ttrain-rmse:12.0991+0.0160607\ttest-rmse:12.1359+0.0420421\n",
      "[300]\ttrain-rmse:12.0657+0.0160969\ttest-rmse:12.104+0.0415714\n",
      "[310]\ttrain-rmse:12.0376+0.0157738\ttest-rmse:12.0773+0.0415339\n",
      "[320]\ttrain-rmse:12.0137+0.0157479\ttest-rmse:12.0546+0.0411159\n",
      "[330]\ttrain-rmse:11.9931+0.0157973\ttest-rmse:12.0351+0.0405554\n",
      "[340]\ttrain-rmse:11.9754+0.015939\ttest-rmse:12.0187+0.0400134\n",
      "[350]\ttrain-rmse:11.9602+0.0159794\ttest-rmse:12.0046+0.0397132\n",
      "[360]\ttrain-rmse:11.947+0.0159871\ttest-rmse:11.9925+0.039441\n",
      "[370]\ttrain-rmse:11.9355+0.0159272\ttest-rmse:11.9822+0.0392946\n",
      "[380]\ttrain-rmse:11.9252+0.0158736\ttest-rmse:11.973+0.0391087\n",
      "[390]\ttrain-rmse:11.9161+0.015841\ttest-rmse:11.9651+0.0389101\n"
     ]
    },
    {
     "ename": "KeyboardInterrupt",
     "evalue": "",
     "output_type": "error",
     "traceback": [
      "\u001b[0;31m---------------------------------------------------------------------------\u001b[0m",
      "\u001b[0;31mKeyboardInterrupt\u001b[0m                         Traceback (most recent call last)",
      "\u001b[0;32m<ipython-input-215-a8251105fa0f>\u001b[0m in \u001b[0;36m<module>\u001b[0;34m()\u001b[0m\n\u001b[0;32m----> 1\u001b[0;31m \u001b[0mxgb\u001b[0m\u001b[0;34m.\u001b[0m\u001b[0mcv\u001b[0m\u001b[0;34m(\u001b[0m\u001b[0mparam\u001b[0m\u001b[0;34m,\u001b[0m \u001b[0mX_all_datatrain\u001b[0m\u001b[0;34m,\u001b[0m \u001b[0mnum_boost_round\u001b[0m\u001b[0;34m=\u001b[0m\u001b[0;36m5000\u001b[0m\u001b[0;34m,\u001b[0m \u001b[0mnfold\u001b[0m\u001b[0;34m=\u001b[0m\u001b[0;36m3\u001b[0m\u001b[0;34m,\u001b[0m \u001b[0mmetrics\u001b[0m\u001b[0;34m=\u001b[0m\u001b[0;34m\"rmse\"\u001b[0m\u001b[0;34m,\u001b[0m        \u001b[0mverbose_eval\u001b[0m\u001b[0;34m=\u001b[0m\u001b[0;36m10\u001b[0m\u001b[0;34m,\u001b[0m \u001b[0mas_pandas\u001b[0m\u001b[0;34m=\u001b[0m\u001b[0mFalse\u001b[0m\u001b[0;34m,\u001b[0m \u001b[0mseed\u001b[0m\u001b[0;34m=\u001b[0m\u001b[0;36m27\u001b[0m\u001b[0;34m)\u001b[0m\u001b[0;34m\u001b[0m\u001b[0m\n\u001b[0m",
      "\u001b[0;32m/home/y.romanikhin/.virtualenvs/venv/lib/python2.7/site-packages/xgboost/training.pyc\u001b[0m in \u001b[0;36mcv\u001b[0;34m(params, dtrain, num_boost_round, nfold, stratified, folds, metrics, obj, feval, maximize, early_stopping_rounds, fpreproc, as_pandas, verbose_eval, show_stdv, seed, callbacks)\u001b[0m\n\u001b[1;32m    399\u001b[0m         \u001b[0;32mfor\u001b[0m \u001b[0mfold\u001b[0m \u001b[0;32min\u001b[0m \u001b[0mcvfolds\u001b[0m\u001b[0;34m:\u001b[0m\u001b[0;34m\u001b[0m\u001b[0m\n\u001b[1;32m    400\u001b[0m             \u001b[0mfold\u001b[0m\u001b[0;34m.\u001b[0m\u001b[0mupdate\u001b[0m\u001b[0;34m(\u001b[0m\u001b[0mi\u001b[0m\u001b[0;34m,\u001b[0m \u001b[0mobj\u001b[0m\u001b[0;34m)\u001b[0m\u001b[0;34m\u001b[0m\u001b[0m\n\u001b[0;32m--> 401\u001b[0;31m         \u001b[0mres\u001b[0m \u001b[0;34m=\u001b[0m \u001b[0maggcv\u001b[0m\u001b[0;34m(\u001b[0m\u001b[0;34m[\u001b[0m\u001b[0mf\u001b[0m\u001b[0;34m.\u001b[0m\u001b[0meval\u001b[0m\u001b[0;34m(\u001b[0m\u001b[0mi\u001b[0m\u001b[0;34m,\u001b[0m \u001b[0mfeval\u001b[0m\u001b[0;34m)\u001b[0m \u001b[0;32mfor\u001b[0m \u001b[0mf\u001b[0m \u001b[0;32min\u001b[0m \u001b[0mcvfolds\u001b[0m\u001b[0;34m]\u001b[0m\u001b[0;34m)\u001b[0m\u001b[0;34m\u001b[0m\u001b[0m\n\u001b[0m\u001b[1;32m    402\u001b[0m \u001b[0;34m\u001b[0m\u001b[0m\n\u001b[1;32m    403\u001b[0m         \u001b[0;32mfor\u001b[0m \u001b[0mkey\u001b[0m\u001b[0;34m,\u001b[0m \u001b[0mmean\u001b[0m\u001b[0;34m,\u001b[0m \u001b[0mstd\u001b[0m \u001b[0;32min\u001b[0m \u001b[0mres\u001b[0m\u001b[0;34m:\u001b[0m\u001b[0;34m\u001b[0m\u001b[0m\n",
      "\u001b[0;32m/home/y.romanikhin/.virtualenvs/venv/lib/python2.7/site-packages/xgboost/training.pyc\u001b[0m in \u001b[0;36meval\u001b[0;34m(self, iteration, feval)\u001b[0m\n\u001b[1;32m    221\u001b[0m     \u001b[0;32mdef\u001b[0m \u001b[0meval\u001b[0m\u001b[0;34m(\u001b[0m\u001b[0mself\u001b[0m\u001b[0;34m,\u001b[0m \u001b[0miteration\u001b[0m\u001b[0;34m,\u001b[0m \u001b[0mfeval\u001b[0m\u001b[0;34m)\u001b[0m\u001b[0;34m:\u001b[0m\u001b[0;34m\u001b[0m\u001b[0m\n\u001b[1;32m    222\u001b[0m         \u001b[0;34m\"\"\"\"Evaluate the CVPack for one iteration.\"\"\"\u001b[0m\u001b[0;34m\u001b[0m\u001b[0m\n\u001b[0;32m--> 223\u001b[0;31m         \u001b[0;32mreturn\u001b[0m \u001b[0mself\u001b[0m\u001b[0;34m.\u001b[0m\u001b[0mbst\u001b[0m\u001b[0;34m.\u001b[0m\u001b[0meval_set\u001b[0m\u001b[0;34m(\u001b[0m\u001b[0mself\u001b[0m\u001b[0;34m.\u001b[0m\u001b[0mwatchlist\u001b[0m\u001b[0;34m,\u001b[0m \u001b[0miteration\u001b[0m\u001b[0;34m,\u001b[0m \u001b[0mfeval\u001b[0m\u001b[0;34m)\u001b[0m\u001b[0;34m\u001b[0m\u001b[0m\n\u001b[0m\u001b[1;32m    224\u001b[0m \u001b[0;34m\u001b[0m\u001b[0m\n\u001b[1;32m    225\u001b[0m \u001b[0;34m\u001b[0m\u001b[0m\n",
      "\u001b[0;32m/home/y.romanikhin/.virtualenvs/venv/lib/python2.7/site-packages/xgboost/core.pyc\u001b[0m in \u001b[0;36meval_set\u001b[0;34m(self, evals, iteration, feval)\u001b[0m\n\u001b[1;32m    865\u001b[0m             _check_call(_LIB.XGBoosterEvalOneIter(self.handle, iteration,\n\u001b[1;32m    866\u001b[0m                                                   \u001b[0mdmats\u001b[0m\u001b[0;34m,\u001b[0m \u001b[0mevnames\u001b[0m\u001b[0;34m,\u001b[0m \u001b[0mlen\u001b[0m\u001b[0;34m(\u001b[0m\u001b[0mevals\u001b[0m\u001b[0;34m)\u001b[0m\u001b[0;34m,\u001b[0m\u001b[0;34m\u001b[0m\u001b[0m\n\u001b[0;32m--> 867\u001b[0;31m                                                   ctypes.byref(msg)))\n\u001b[0m\u001b[1;32m    868\u001b[0m             \u001b[0;32mreturn\u001b[0m \u001b[0mmsg\u001b[0m\u001b[0;34m.\u001b[0m\u001b[0mvalue\u001b[0m\u001b[0;34m\u001b[0m\u001b[0m\n\u001b[1;32m    869\u001b[0m         \u001b[0;32melse\u001b[0m\u001b[0;34m:\u001b[0m\u001b[0;34m\u001b[0m\u001b[0m\n",
      "\u001b[0;31mKeyboardInterrupt\u001b[0m: "
     ]
    }
   ],
   "source": [
    "xgb.cv(param, X_all_datatrain, num_boost_round=5000, nfold=3, metrics=\"rmse\", \\\n",
    "       verbose_eval=10, as_pandas=False, seed=27)"
   ]
  },
  {
   "cell_type": "code",
   "execution_count": 189,
   "metadata": {
    "collapsed": false
   },
   "outputs": [
    {
     "name": "stdout",
     "output_type": "stream",
     "text": [
      "11.8325464979\n",
      "CPU times: user 1h 3min 33s, sys: 2.38 s, total: 1h 3min 35s\n",
      "Wall time: 2min 43s\n"
     ]
    }
   ],
   "source": [
    "%%time\n",
    "xgb_regr1 = xgb.XGBRegressor(n_estimators=5000, max_depth=3, learning_rate=0.01, subsample=0.6, \n",
    "                             colsample_bytree=0.9, colsample_bylevel = 0.7, gamma=0.1, )\n",
    "xgb_regr1.fit(X_nmf_title1[itrain, :], y[itrain])\n",
    "\n",
    "pred_xgb1 = xgb_regr1.predict(X_nmf_title1[itest, :])\n",
    "print rmse(y[itest], pred_xgb1)"
   ]
  },
  {
   "cell_type": "code",
   "execution_count": 190,
   "metadata": {
    "collapsed": false
   },
   "outputs": [
    {
     "data": {
      "text/plain": [
       "[<matplotlib.lines.Line2D at 0x65bf5150>]"
      ]
     },
     "execution_count": 190,
     "metadata": {},
     "output_type": "execute_result"
    },
    {
     "data": {
      "image/png": "[encoded data removed]",
      "text/plain": [
       "<matplotlib.figure.Figure at 0x6e09f4d0>"
      ]
     },
     "metadata": {},
     "output_type": "display_data"
    }
   ],
   "source": [
    "plt.plot(pred_xgb1, pred_X_nmf_urls2, 'bo')"
   ]
  },
  {
   "cell_type": "markdown",
   "metadata": {},
   "source": [
    "### Обучаем на все"
   ]
  },
  {
   "cell_type": "code",
   "execution_count": 219,
   "metadata": {
    "collapsed": false
   },
   "outputs": [],
   "source": [
    "#%%time\n",
    "\n",
    "dataset_titles = Dataset(X_titles, y, X_titles_test)\n",
    "dataset_urls = Dataset(X_urls, y, X_urls_test) \n",
    "\n",
    "dataset_titles_nmf = Dataset(X_nmf_title1, y, X_nmf_title_test1)\n",
    "dataset_urls_nmf = Dataset(X_nmf_urls1, y, X_nmf_urls_test1)\n",
    "\n",
    "dataset_titles_nmf2 = Dataset(X_nmf_title2, y, X_nmf_title_test2)\n",
    "dataset_urls_nmf2 = Dataset(X_nmf_urls2, y, X_nmf_urls_test2)\n",
    "\n",
    "# линейная модель на обычных данных\n",
    "lr1 = Regressor(dataset=dataset_urls, \n",
    "                     estimator=linear_model.LinearRegression,\n",
    "                     parameters={'normalize': True},\n",
    "                     name='lr1')\n",
    "\n",
    "# линейная модель на TFIDF от обычных данных\n",
    "def tfidf_lr_(X_train, y_train, X_test, y_test=None, random_state=8888):\n",
    "    model = pipeline.Pipeline([('tfidf', feature_extraction.text.TfidfTransformer()), \n",
    "                                ('linear_model', linear_model.LinearRegression())])\n",
    "    model.fit(X_train, y_train)\n",
    "    return model.predict(X_test)\n",
    "\n",
    "tfidf_lr1 = Regressor(dataset=dataset_urls,\n",
    "                     estimator=tfidf_lr_,\n",
    "                     name='tfidf_lr1')\n",
    "\n",
    "lr2 = Regressor(dataset=dataset_titles, \n",
    "                     estimator=linear_model.LinearRegression,\n",
    "                     parameters={'normalize': True},\n",
    "                     name='lr2')\n",
    "\n",
    "\n",
    "lr3 = Regressor(dataset=dataset_titles_nmf, \n",
    "                     estimator=linear_model.LinearRegression,\n",
    "                     parameters={'normalize': True},\n",
    "                     name='lr3')\n",
    "\n",
    "lr4 = Regressor(dataset=dataset_urls_nmf, \n",
    "                     estimator=linear_model.LinearRegression,\n",
    "                     parameters={'normalize': True},\n",
    "                     name='lr4')\n",
    "\n",
    "lr5 = Regressor(dataset=dataset_titles_nmf2, \n",
    "                     estimator=linear_model.LinearRegression,\n",
    "                     parameters={'normalize': True},\n",
    "                     name='lr5')\n",
    "\n",
    "lr6 = Regressor(dataset=dataset_urls_nmf2, \n",
    "                     estimator=linear_model.LinearRegression,\n",
    "                     parameters={'normalize': True},\n",
    "                     name='lr6')\n",
    "\n",
    "\n",
    "\n",
    "tfidf_lr2 = Regressor(dataset=dataset_titles,\n",
    "                     estimator=tfidf_lr_,\n",
    "                     name='tfidf_lr2')\n",
    "\n",
    "\"\"\"xgb_regr2 = Regressor(dataset=dataset_titles, \n",
    "                     estimator=xgb.XGBRegressor,\n",
    "                     parameters={'n_estimators': 1500, 'max_depth':5, 'learning_rate': 0.03,\n",
    "                                'subsample': 0.6, 'colsample_bytree': 0.9, 'colsample_bylevel':0.7},\n",
    "                     name='xgb_regr2')\"\"\"\n",
    "\n",
    "# ExtraTrees на NMF\n",
    "xgb_regr1 = Regressor(dataset=dataset_urls_nmf, \n",
    "                     estimator=xgb.XGBRegressor,\n",
    "                     parameters={'n_estimators': 5000, 'max_depth':3, 'learning_rate': 0.01,\n",
    "                                'subsample': 0.6, 'colsample_bytree': 0.9, 'colsample_bylevel':0.7, 'gamma': 0.1},\n",
    "                     name='xgb_regr1')\n",
    "\n",
    "xgb_regr2 = Regressor(dataset=dataset_titles_nmf, \n",
    "                     estimator=xgb.XGBRegressor,\n",
    "                     parameters={'n_estimators': 5000, 'max_depth':3, 'learning_rate': 0.01,\n",
    "                                'subsample': 0.6, 'colsample_bytree': 0.9, 'colsample_bylevel':0.7, 'gamma': 0.1},\n",
    "                     name='xgb_regr2')\n",
    "\n",
    "xgb_regr3 = Regressor(dataset=dataset_urls_nmf2, \n",
    "                     estimator=xgb.XGBRegressor,\n",
    "                     parameters={'n_estimators': 5000, 'max_depth':3, 'learning_rate': 0.01,\n",
    "                                'subsample': 0.6, 'colsample_bytree': 0.9, 'colsample_bylevel':0.7, 'gamma': 0.1},\n",
    "                     name='xgb_regr3')\n",
    "\n",
    "xgb_regr4 = Regressor(dataset=dataset_titles_nmf2, \n",
    "                     estimator=xgb.XGBRegressor,\n",
    "                     parameters={'n_estimators': 5000, 'max_depth':3, 'learning_rate': 0.01,\n",
    "                                'subsample': 0.6, 'colsample_bytree': 0.9, 'colsample_bylevel':0.7, 'gamma': 0.1},\n",
    "                     name='xgb_regr4')\n",
    "\n",
    "\n",
    "\n",
    "rf1 = Regressor(dataset=dataset_urls_nmf, \n",
    "                     estimator=ensemble.ExtraTreesRegressor,\n",
    "                     parameters={'n_estimators': 100, 'n_jobs': -1, 'max_depth': None, 'bootstrap': True},\n",
    "                     name='rf1')\n",
    "\n",
    "rf2 = Regressor(dataset=dataset_titles_nmf, \n",
    "                     estimator=ensemble.ExtraTreesRegressor,\n",
    "                     parameters={'n_estimators': 100, 'n_jobs': -1, 'max_depth': None, 'bootstrap': True},\n",
    "                     name='rf2')\n",
    "\n",
    "\n",
    "rf3 = Regressor(dataset=dataset_urls_nmf2, \n",
    "                     estimator=ensemble.ExtraTreesRegressor,\n",
    "                     parameters={'n_estimators': 200, 'n_jobs': -1, 'max_depth': None, 'bootstrap': True},\n",
    "                     name='rf3')\n",
    "\n",
    "rf4 = Regressor(dataset=dataset_titles_nmf2, \n",
    "                     estimator=ensemble.ExtraTreesRegressor,\n",
    "                     parameters={'n_estimators': 200, 'n_jobs': -1, 'max_depth': None, 'bootstrap': True},\n",
    "                     name='rf4')\n",
    "\n",
    "# Stack four models\n",
    "# Returns new dataset with out-of-fold predictions\n",
    "meta_pipeline = ModelsPipeline(lr1, lr2, lr3, lr4, lr5, lr6, tfidf_lr1, tfidf_lr2, rf1, rf2, rf3, rf4, xgb_regr1, xgb_regr2, xgb_regr3, xgb_regr4)\n",
    "stack_ds = meta_pipeline.blend(proportion=0.2,seed=111)\n",
    "\n",
    "# Train LinearRegression on stacked data (second stage)\n",
    "stacker = Regressor(dataset=stack_ds, estimator=LinearRegression)\n",
    "results = stacker.predict()"
   ]
  },
  {
   "cell_type": "code",
   "execution_count": 228,
   "metadata": {
    "collapsed": false
   },
   "outputs": [],
   "source": [
    "stack_ds.X_test.to_csv(\"stack_many_test.csv\", index=False)"
   ]
  },
  {
   "cell_type": "code",
   "execution_count": null,
   "metadata": {
    "collapsed": true
   },
   "outputs": [],
   "source": []
  },
  {
   "cell_type": "code",
   "execution_count": 229,
   "metadata": {
    "collapsed": false
   },
   "outputs": [
    {
     "data": {
      "text/plain": [
       "array([ 40.2761439 ,  40.02110021,  37.10676274, ...,  37.76762775,\n",
       "        37.76762775,  38.36590777])"
      ]
     },
     "execution_count": 229,
     "metadata": {},
     "output_type": "execute_result"
    }
   ],
   "source": [
    "results"
   ]
  },
  {
   "cell_type": "code",
   "execution_count": 221,
   "metadata": {
    "collapsed": false
   },
   "outputs": [],
   "source": [
    "test_df[\"age\"] = results"
   ]
  },
  {
   "cell_type": "code",
   "execution_count": 222,
   "metadata": {
    "collapsed": false
   },
   "outputs": [
    {
     "data": {
      "text/html": [
       "<div>\n",
       "<table border=\"1\" class=\"dataframe\">\n",
       "  <thead>\n",
       "    <tr style=\"text-align: right;\">\n",
       "      <th></th>\n",
       "      <th>Id</th>\n",
       "      <th>title</th>\n",
       "      <th>urls</th>\n",
       "      <th>age</th>\n",
       "    </tr>\n",
       "  </thead>\n",
       "  <tbody>\n",
       "    <tr>\n",
       "      <th>0</th>\n",
       "      <td>000000014A02348E701552980349FF01</td>\n",
       "      <td>11-й гектар дом коммунизм на набережная недост...</td>\n",
       "      <td>1000bankov 1tv 1tv 1tv 1tv 1tv 1tv 1tv 1tv 4pu...</td>\n",
       "      <td>40.276144</td>\n",
       "    </tr>\n",
       "    <tr>\n",
       "      <th>1</th>\n",
       "      <td>000000014A10EA183BF8594A0B2AB201</td>\n",
       "      <td>20-летний выглядеть девушка как королева наташ...</td>\n",
       "      <td>autorambler bilettorg dsol-druzhba family.ramb...</td>\n",
       "      <td>40.021100</td>\n",
       "    </tr>\n",
       "    <tr>\n",
       "      <th>2</th>\n",
       "      <td>000000014A4FE5C33A929D4C26943601</td>\n",
       "      <td>медийный портал рамблер</td>\n",
       "      <td>photosight photosight photosight photosight ph...</td>\n",
       "      <td>37.106763</td>\n",
       "    </tr>\n",
       "    <tr>\n",
       "      <th>3</th>\n",
       "      <td>000000014B7BB9957784A9BC0AC9F401</td>\n",
       "      <td>бесплатно код онлайн срочно статистика или инн...</td>\n",
       "      <td>base.consultant dogovor-obrazets fd mail.rambl...</td>\n",
       "      <td>37.370988</td>\n",
       "    </tr>\n",
       "    <tr>\n",
       "      <th>4</th>\n",
       "      <td>000000014C7749F896D82C2B01E8B801</td>\n",
       "      <td>bank privat автокредитование банковский банком...</td>\n",
       "      <td>assessor assessor audit-it base.garant compsam...</td>\n",
       "      <td>30.618663</td>\n",
       "    </tr>\n",
       "  </tbody>\n",
       "</table>\n",
       "</div>"
      ],
      "text/plain": [
       "                                 Id  \\\n",
       "0  000000014A02348E701552980349FF01   \n",
       "1  000000014A10EA183BF8594A0B2AB201   \n",
       "2  000000014A4FE5C33A929D4C26943601   \n",
       "3  000000014B7BB9957784A9BC0AC9F401   \n",
       "4  000000014C7749F896D82C2B01E8B801   \n",
       "\n",
       "                                               title  \\\n",
       "0  11-й гектар дом коммунизм на набережная недост...   \n",
       "1  20-летний выглядеть девушка как королева наташ...   \n",
       "2                            медийный портал рамблер   \n",
       "3  бесплатно код онлайн срочно статистика или инн...   \n",
       "4  bank privat автокредитование банковский банком...   \n",
       "\n",
       "                                                urls        age  \n",
       "0  1000bankov 1tv 1tv 1tv 1tv 1tv 1tv 1tv 1tv 4pu...  40.276144  \n",
       "1  autorambler bilettorg dsol-druzhba family.ramb...  40.021100  \n",
       "2  photosight photosight photosight photosight ph...  37.106763  \n",
       "3  base.consultant dogovor-obrazets fd mail.rambl...  37.370988  \n",
       "4  assessor assessor audit-it base.garant compsam...  30.618663  "
      ]
     },
     "execution_count": 222,
     "metadata": {},
     "output_type": "execute_result"
    }
   ],
   "source": [
    "test_df.head()"
   ]
  },
  {
   "cell_type": "code",
   "execution_count": 223,
   "metadata": {
    "collapsed": true
   },
   "outputs": [],
   "source": [
    "all_set = test_df[[\"Id\", \"age\"]]"
   ]
  },
  {
   "cell_type": "code",
   "execution_count": 166,
   "metadata": {
    "collapsed": true
   },
   "outputs": [],
   "source": [
    "all_set = all_set.sort_values(by=\"Id\")"
   ]
  },
  {
   "cell_type": "code",
   "execution_count": 224,
   "metadata": {
    "collapsed": true
   },
   "outputs": [],
   "source": [
    "all_set.to_csv(\"stack_6linreg_title_urls_with_nmf_4rf_4xgb.csv\", index=False, encoding='utf-8')"
   ]
  },
  {
   "cell_type": "code",
   "execution_count": null,
   "metadata": {
    "collapsed": true
   },
   "outputs": [],
   "source": []
  },
  {
   "cell_type": "code",
   "execution_count": null,
   "metadata": {
    "collapsed": true
   },
   "outputs": [],
   "source": []
  },
  {
   "cell_type": "code",
   "execution_count": null,
   "metadata": {
    "collapsed": true
   },
   "outputs": [],
   "source": []
  },
  {
   "cell_type": "code",
   "execution_count": 211,
   "metadata": {
    "collapsed": false
   },
   "outputs": [],
   "source": [
    "all_set = urls_test_df.merge(miss_df, how='outer')[[\"Id\", \"age\"]]"
   ]
  },
  {
   "cell_type": "code",
   "execution_count": 362,
   "metadata": {
    "collapsed": false
   },
   "outputs": [
    {
     "data": {
      "text/html": [
       "<div>\n",
       "<table border=\"1\" class=\"dataframe\">\n",
       "  <thead>\n",
       "    <tr style=\"text-align: right;\">\n",
       "      <th></th>\n",
       "      <th>Id</th>\n",
       "      <th>age</th>\n",
       "    </tr>\n",
       "  </thead>\n",
       "  <tbody>\n",
       "    <tr>\n",
       "      <th>0</th>\n",
       "      <td>000000014A02348E701552980349FF01</td>\n",
       "      <td>40.276144</td>\n",
       "    </tr>\n",
       "    <tr>\n",
       "      <th>1</th>\n",
       "      <td>000000014A10EA183BF8594A0B2AB201</td>\n",
       "      <td>40.021100</td>\n",
       "    </tr>\n",
       "    <tr>\n",
       "      <th>2</th>\n",
       "      <td>000000014A4FE5C33A929D4C26943601</td>\n",
       "      <td>37.106763</td>\n",
       "    </tr>\n",
       "    <tr>\n",
       "      <th>3</th>\n",
       "      <td>000000014B7BB9957784A9BC0AC9F401</td>\n",
       "      <td>37.370988</td>\n",
       "    </tr>\n",
       "    <tr>\n",
       "      <th>4</th>\n",
       "      <td>000000014C7749F896D82C2B01E8B801</td>\n",
       "      <td>30.618663</td>\n",
       "    </tr>\n",
       "  </tbody>\n",
       "</table>\n",
       "</div>"
      ],
      "text/plain": [
       "                                 Id        age\n",
       "0  000000014A02348E701552980349FF01  40.276144\n",
       "1  000000014A10EA183BF8594A0B2AB201  40.021100\n",
       "2  000000014A4FE5C33A929D4C26943601  37.106763\n",
       "3  000000014B7BB9957784A9BC0AC9F401  37.370988\n",
       "4  000000014C7749F896D82C2B01E8B801  30.618663"
      ]
     },
     "execution_count": 362,
     "metadata": {},
     "output_type": "execute_result"
    }
   ],
   "source": [
    "all_set.head()"
   ]
  },
  {
   "cell_type": "code",
   "execution_count": 213,
   "metadata": {
    "collapsed": false
   },
   "outputs": [],
   "source": [
    "all_set.sort_values(by=\"Id\").to_csv(\"stacking_with_titles_2lr_tfidfLR_2xgb.csv\", index=False)"
   ]
  },
  {
   "cell_type": "code",
   "execution_count": null,
   "metadata": {
    "collapsed": true
   },
   "outputs": [],
   "source": []
  }
 ],
 "metadata": {
  "anaconda-cloud": {},
  "kernelspec": {
   "display_name": "Python 2",
   "language": "python",
   "name": "python2"
  },
  "language_info": {
   "codemirror_mode": {
    "name": "ipython",
    "version": 2
   },
   "file_extension": ".py",
   "mimetype": "text/x-python",
   "name": "python",
   "nbconvert_exporter": "python",
   "pygments_lexer": "ipython2",
   "version": "2.7.6"
  }
 },
 "nbformat": 4,
 "nbformat_minor": 0
}
